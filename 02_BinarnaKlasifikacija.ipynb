{
 "cells": [
  {
   "cell_type": "code",
   "execution_count": 12,
   "id": "ccf4237f",
   "metadata": {},
   "outputs": [],
   "source": [
    "import pandas as pd\n",
    "import numpy as np\n",
    "from matplotlib import pyplot as plt\n",
    "\n",
    "import pickle\n",
    "import sklearn\n",
    "import time\n",
    "from sklearn import metrics\n",
    "from sklearn import model_selection\n",
    "from tensorflow.keras import utils\n",
    "\n",
    "import warnings\n",
    "warnings.simplefilter(action='ignore', category=FutureWarning)\n",
    "warnings.simplefilter(action='ignore', category=DeprecationWarning)"
   ]
  },
  {
   "cell_type": "code",
   "execution_count": 13,
   "id": "ee6c7433",
   "metadata": {},
   "outputs": [],
   "source": [
    "# omogucava da se koriste funkcije iz sveske SharedFunctions\n",
    "\n",
    "%run SharedFunctions.ipynb"
   ]
  },
  {
   "cell_type": "markdown",
   "id": "ad2119d5",
   "metadata": {},
   "source": [
    "Učitava se prethodno pripremljen skup podataka: "
   ]
  },
  {
   "cell_type": "code",
   "execution_count": 14,
   "id": "2297f84b",
   "metadata": {},
   "outputs": [],
   "source": [
    "data = pd.read_csv('data/data_longer.csv')\n",
    "data.drop(columns=['Unnamed: 0'], inplace=True)"
   ]
  },
  {
   "cell_type": "code",
   "execution_count": 15,
   "id": "cbcc75ce",
   "metadata": {},
   "outputs": [
    {
     "data": {
      "text/plain": [
       "(223453, 9)"
      ]
     },
     "execution_count": 15,
     "metadata": {},
     "output_type": "execute_result"
    }
   ],
   "source": [
    "data.shape"
   ]
  },
  {
   "cell_type": "code",
   "execution_count": 16,
   "id": "f692a602",
   "metadata": {},
   "outputs": [],
   "source": [
    "# data.head()"
   ]
  },
  {
   "cell_type": "markdown",
   "id": "d7e8f9f6",
   "metadata": {},
   "source": [
    "### 1. Podela na trening, test, i validacioni skup"
   ]
  },
  {
   "cell_type": "code",
   "execution_count": 17,
   "id": "06f321aa",
   "metadata": {},
   "outputs": [],
   "source": [
    "X = data['comment_text']\n",
    "y = data['target']"
   ]
  },
  {
   "cell_type": "code",
   "execution_count": 18,
   "id": "a9c3088a",
   "metadata": {},
   "outputs": [],
   "source": [
    "X_train_validation, X_test, y_train_validation, y_test = \\\n",
    "    model_selection.train_test_split(X, y, test_size=0.33, stratify=y, random_state=7)\n",
    "\n",
    "X_train, X_validation, y_train, y_validation =\\\n",
    "    model_selection.train_test_split(X_train_validation, y_train_validation, test_size=0.2, stratify=y_train_validation, random_state=7)"
   ]
  },
  {
   "cell_type": "code",
   "execution_count": 19,
   "id": "95c8c3c1",
   "metadata": {},
   "outputs": [
    {
     "data": {
      "text/plain": [
       "((119770,), (29943,), (73740,))"
      ]
     },
     "execution_count": 19,
     "metadata": {},
     "output_type": "execute_result"
    }
   ],
   "source": [
    "X_train.shape, X_validation.shape, X_test.shape"
   ]
  },
  {
   "cell_type": "code",
   "execution_count": 20,
   "id": "04c66ac1",
   "metadata": {},
   "outputs": [
    {
     "data": {
      "text/plain": [
       "((119770,), (29943,), (73740,))"
      ]
     },
     "execution_count": 20,
     "metadata": {},
     "output_type": "execute_result"
    }
   ],
   "source": [
    "y_train.shape, y_validation.shape, y_test.shape"
   ]
  },
  {
   "cell_type": "code",
   "execution_count": null,
   "id": "743e2319",
   "metadata": {},
   "outputs": [],
   "source": []
  },
  {
   "cell_type": "markdown",
   "id": "23e11fc3",
   "metadata": {},
   "source": [
    "### 2. Priprema teksta"
   ]
  },
  {
   "cell_type": "markdown",
   "id": "88928396",
   "metadata": {},
   "source": [
    "Usaglašavaju se dužine komentara. Ograničavamo se na prvih 100 reči komentara (dopunjava se nulama ako je kraći od 100 reči).  \n",
    "Naglašava se i veličina vokabulara. Pretpostavka je da je dovoljno ograničiti se na prvih 20000 reči vokabulara."
   ]
  },
  {
   "cell_type": "code",
   "execution_count": 21,
   "id": "e09f6409",
   "metadata": {},
   "outputs": [],
   "source": [
    "# uzima se recimo 20000 najfrekventinijh reci\n",
    "max_features = 20000\n",
    "\n",
    "# max duzina\n",
    "max_len = 100"
   ]
  },
  {
   "cell_type": "code",
   "execution_count": 22,
   "id": "be037964",
   "metadata": {},
   "outputs": [],
   "source": [
    "# Funkcija kreira tokenizator (Kerasov Tokenizer) koji izdvaja reči teksta,\n",
    "# zatim ga fituje ga na trening skupu i konstruiše vokabular reči (word_index) dužine max_features\n",
    "# Dodatno, čuva tokenizer kao pickle fajl\n",
    "\n",
    "word_index, tokenizer = get_vocabulary(max_features, X_train, 'tokenizer_binary.pickle')"
   ]
  },
  {
   "cell_type": "code",
   "execution_count": 23,
   "id": "f099423a",
   "metadata": {},
   "outputs": [
    {
     "name": "stdout",
     "output_type": "stream",
     "text": [
      "Broj jedinstvenih reci: 201164\n"
     ]
    }
   ],
   "source": [
    "print('Broj jedinstvenih reci:', len(word_index))"
   ]
  },
  {
   "cell_type": "code",
   "execution_count": null,
   "id": "d9e438ae",
   "metadata": {},
   "outputs": [],
   "source": []
  },
  {
   "cell_type": "markdown",
   "id": "659647e3",
   "metadata": {},
   "source": [
    "Sada pravimo skupove za trening, test i validaciju sa vektorizovanim tekstom"
   ]
  },
  {
   "cell_type": "code",
   "execution_count": 24,
   "id": "f3673a91",
   "metadata": {},
   "outputs": [],
   "source": [
    "# funkcija to_sequence pretvara tekst u sekvence i svodi sve komentare na duzinu max_len\n",
    "\n",
    "X_train_transformed = to_sequence(X_train, max_len, tokenizer)\n",
    "X_test_transformed = to_sequence(X_test, max_len, tokenizer)\n",
    "X_validation_transformed = to_sequence(X_validation, max_len, tokenizer)\n",
    "X_train_validation_transformed = to_sequence(X_train_validation, max_len, tokenizer)"
   ]
  },
  {
   "cell_type": "code",
   "execution_count": 25,
   "id": "be157f6a",
   "metadata": {},
   "outputs": [],
   "source": [
    "# X_train_transformed"
   ]
  },
  {
   "cell_type": "markdown",
   "id": "c3627b57",
   "metadata": {},
   "source": [
    "Za predstavljanje reči koristimo ugnježdavanja u semantički prostor pomoću Embedding sloja.\n",
    "Mreža će koristiti pritrenirane ugnježđene reprezentacije - GloVe reprezentacije. Korišćene su reprezentacije dužine 100 koje se nalaze u datoteci glove.6B.100d.txt.\n",
    "Mapiramo komentare u reči, a zatim reči u vektorske reprezentacije.\n",
    "Kreira se matrica ugnježdavanja na osnovu dobijenog vokabulara i GloVe vrednosti: "
   ]
  },
  {
   "cell_type": "code",
   "execution_count": 26,
   "id": "87606de0",
   "metadata": {},
   "outputs": [],
   "source": [
    "embedding_dim = 100\n",
    "embedding_matrix = create_embedding_matrix(word_index, embedding_dim)"
   ]
  },
  {
   "cell_type": "code",
   "execution_count": 27,
   "id": "a8cfd4b0",
   "metadata": {},
   "outputs": [
    {
     "data": {
      "text/plain": [
       "(20000, 100)"
      ]
     },
     "execution_count": 27,
     "metadata": {},
     "output_type": "execute_result"
    }
   ],
   "source": [
    "embedding_matrix.shape"
   ]
  },
  {
   "cell_type": "markdown",
   "id": "af8a28dc",
   "metadata": {},
   "source": [
    "### 3. Selekcija i evaluacija modela"
   ]
  },
  {
   "cell_type": "markdown",
   "id": "0326bc0a",
   "metadata": {},
   "source": [
    "Pošto su klase nebalansirane, potrebno je dodeliti im težine tako da se više kažnjava pogrešna klasifikacija manjinske klase:"
   ]
  },
  {
   "cell_type": "code",
   "execution_count": 28,
   "id": "077503d6",
   "metadata": {},
   "outputs": [
    {
     "data": {
      "text/plain": [
       "{0: 0.5558967465969598, 1: 4.97253221735087}"
      ]
     },
     "execution_count": 28,
     "metadata": {},
     "output_type": "execute_result"
    }
   ],
   "source": [
    "weights = get_weights(y_train_validation, 2)\n",
    "weights"
   ]
  },
  {
   "cell_type": "markdown",
   "id": "56b46f5a",
   "metadata": {},
   "source": [
    "Za podešavanje hiperparametara koristiće se randomizovana unakrsna validacija i omotač KerasClassifier \n",
    "\n",
    "Linije su zakomentarisane jer se predugo izvršava, rezultati su sačuvani u csv fajl"
   ]
  },
  {
   "cell_type": "code",
   "execution_count": 29,
   "id": "ebefe9e8",
   "metadata": {},
   "outputs": [],
   "source": [
    "# random_cv = randomized_search_cv(X_train_validation_transformed, y_train_validation, weights, embedding_matrix, 2)"
   ]
  },
  {
   "cell_type": "code",
   "execution_count": 30,
   "id": "231738c6",
   "metadata": {},
   "outputs": [],
   "source": [
    "# best_params = random_cv.best_params_\n",
    "# best_score = random_cv.best_score_\n",
    "# results = random_cv.cv_results_"
   ]
  },
  {
   "cell_type": "code",
   "execution_count": 31,
   "id": "c19b10cb",
   "metadata": {},
   "outputs": [],
   "source": [
    "# cv_data = pd.DataFrame(results)\n",
    "# cv_data.to_csv('data/cv_results.csv')"
   ]
  },
  {
   "cell_type": "code",
   "execution_count": 32,
   "id": "96918838",
   "metadata": {},
   "outputs": [],
   "source": [
    "cv_results = pd.read_csv('data/cv_results.csv')"
   ]
  },
  {
   "cell_type": "code",
   "execution_count": 33,
   "id": "fc8297a7",
   "metadata": {},
   "outputs": [],
   "source": [
    "# cv_results.head()"
   ]
  },
  {
   "cell_type": "code",
   "execution_count": 34,
   "id": "e3d02c7a",
   "metadata": {},
   "outputs": [],
   "source": [
    "best = cv_results[cv_results['rank_test_score']==1]"
   ]
  },
  {
   "cell_type": "markdown",
   "id": "e40017b2",
   "metadata": {},
   "source": [
    "### 4. Formiranje modela"
   ]
  },
  {
   "cell_type": "code",
   "execution_count": 35,
   "id": "95546461",
   "metadata": {},
   "outputs": [],
   "source": [
    "kernel_size = (best['param_kernel_size'].values[0], )\n",
    "pool_size = (best['param_pool_size'].values[0], )\n",
    "filters = best['param_filters'].values[0]\n",
    "dropout_rate = best['param_dropout_rate'].values[0]\n",
    "embedding_dim = 100\n",
    "embedding_matrix = create_embedding_matrix(word_index, embedding_dim)\n",
    "lr = best['param_lr'].values[0]\n",
    "layers = best['param_layers'].values[0]"
   ]
  },
  {
   "cell_type": "code",
   "execution_count": 36,
   "id": "de90a837",
   "metadata": {},
   "outputs": [
    {
     "name": "stdout",
     "output_type": "stream",
     "text": [
      "Model: \"sequential\"\n",
      "_________________________________________________________________\n",
      "Layer (type)                 Output Shape              Param #   \n",
      "=================================================================\n",
      "embedding (Embedding)        (None, 100, 100)          2000000   \n",
      "_________________________________________________________________\n",
      "conv1d (Conv1D)              (None, 100, 128)          12928     \n",
      "_________________________________________________________________\n",
      "max_pooling1d (MaxPooling1D) (None, 20, 128)           0         \n",
      "_________________________________________________________________\n",
      "conv1d_1 (Conv1D)            (None, 20, 256)           33024     \n",
      "_________________________________________________________________\n",
      "max_pooling1d_1 (MaxPooling1 (None, 4, 256)            0         \n",
      "_________________________________________________________________\n",
      "dropout (Dropout)            (None, 4, 256)            0         \n",
      "_________________________________________________________________\n",
      "global_average_pooling1d (Gl (None, 256)               0         \n",
      "_________________________________________________________________\n",
      "flatten (Flatten)            (None, 256)               0         \n",
      "_________________________________________________________________\n",
      "dense (Dense)                (None, 1)                 257       \n",
      "=================================================================\n",
      "Total params: 2,046,209\n",
      "Trainable params: 46,209\n",
      "Non-trainable params: 2,000,000\n",
      "_________________________________________________________________\n"
     ]
    }
   ],
   "source": [
    "binary_model = create_model(num_of_classes = 2, num_of_features = max_features, embedding_dim = embedding_dim, \n",
    "                            kernel_size = kernel_size, pool_size = pool_size, filters = filters, \n",
    "                            dropout_rate = dropout_rate, maxlen = max_len, lr = lr, \n",
    "                            embedding_matrix = embedding_matrix, layers=layers)"
   ]
  },
  {
   "cell_type": "code",
   "execution_count": null,
   "id": "9c39f5e9",
   "metadata": {},
   "outputs": [],
   "source": []
  },
  {
   "cell_type": "markdown",
   "id": "39c289e4",
   "metadata": {},
   "source": [
    "### 5. Obučavanje modela"
   ]
  },
  {
   "cell_type": "code",
   "execution_count": 37,
   "id": "5d5c5bb5",
   "metadata": {},
   "outputs": [],
   "source": [
    "epochs = 12\n",
    "batch_size = 128"
   ]
  },
  {
   "cell_type": "code",
   "execution_count": 38,
   "id": "969ce549",
   "metadata": {
    "scrolled": true
   },
   "outputs": [
    {
     "name": "stdout",
     "output_type": "stream",
     "text": [
      "Epoch 1/12\n",
      "936/936 [==============================] - 32s 31ms/step - loss: 0.4403 - accuracy: 0.8272 - precision: 0.3445 - recall: 0.7956 - auc: 0.8938 - f1_m: 0.4742 - val_loss: 0.3065 - val_accuracy: 0.8848 - val_precision: 0.4601 - val_recall: 0.8373 - val_auc: 0.9351 - val_f1_m: 0.5860\n",
      "Epoch 2/12\n",
      "936/936 [==============================] - 43s 46ms/step - loss: 0.3212 - accuracy: 0.8781 - precision: 0.4451 - recall: 0.8608 - auc: 0.9389 - f1_m: 0.5805 - val_loss: 0.2822 - val_accuracy: 0.8987 - val_precision: 0.4979 - val_recall: 0.8486 - val_auc: 0.9439 - val_f1_m: 0.6194\n",
      "Epoch 3/12\n",
      "936/936 [==============================] - 47s 51ms/step - loss: 0.3032 - accuracy: 0.8888 - precision: 0.4712 - recall: 0.8660 - auc: 0.9457 - f1_m: 0.6037 - val_loss: 0.3008 - val_accuracy: 0.8922 - val_precision: 0.4801 - val_recall: 0.8725 - val_auc: 0.9481 - val_f1_m: 0.6120\n",
      "Epoch 4/12\n",
      "936/936 [==============================] - 39s 41ms/step - loss: 0.2935 - accuracy: 0.8956 - precision: 0.4894 - recall: 0.8691 - auc: 0.9493 - f1_m: 0.6198 - val_loss: 0.3450 - val_accuracy: 0.8760 - val_precision: 0.4426 - val_recall: 0.9007 - val_auc: 0.9501 - val_f1_m: 0.5868\n",
      "Epoch 5/12\n",
      "936/936 [==============================] - 53s 57ms/step - loss: 0.2869 - accuracy: 0.8975 - precision: 0.4945 - recall: 0.8749 - auc: 0.9516 - f1_m: 0.6260 - val_loss: 0.2804 - val_accuracy: 0.9027 - val_precision: 0.5096 - val_recall: 0.8672 - val_auc: 0.9518 - val_f1_m: 0.6340\n",
      "Epoch 6/12\n",
      "936/936 [==============================] - 48s 52ms/step - loss: 0.2808 - accuracy: 0.9007 - precision: 0.5037 - recall: 0.8766 - auc: 0.9538 - f1_m: 0.6341 - val_loss: 0.3321 - val_accuracy: 0.8830 - val_precision: 0.4585 - val_recall: 0.9047 - val_auc: 0.9533 - val_f1_m: 0.6018\n",
      "Epoch 7/12\n",
      "936/936 [==============================] - 41s 44ms/step - loss: 0.2760 - accuracy: 0.9024 - precision: 0.5086 - recall: 0.8782 - auc: 0.9553 - f1_m: 0.6391 - val_loss: 0.3323 - val_accuracy: 0.8837 - val_precision: 0.4603 - val_recall: 0.9077 - val_auc: 0.9544 - val_f1_m: 0.6036\n",
      "Epoch 8/12\n",
      "936/936 [==============================] - 32s 35ms/step - loss: 0.2712 - accuracy: 0.9046 - precision: 0.5148 - recall: 0.8844 - auc: 0.9567 - f1_m: 0.6434 - val_loss: 0.3167 - val_accuracy: 0.8898 - val_precision: 0.4749 - val_recall: 0.9047 - val_auc: 0.9555 - val_f1_m: 0.6155\n",
      "Epoch 9/12\n",
      "936/936 [==============================] - 26s 28ms/step - loss: 0.2673 - accuracy: 0.9053 - precision: 0.5171 - recall: 0.8838 - auc: 0.9581 - f1_m: 0.6454 - val_loss: 0.2788 - val_accuracy: 0.9046 - val_precision: 0.5148 - val_recall: 0.8838 - val_auc: 0.9564 - val_f1_m: 0.6429\n",
      "Epoch 10/12\n",
      "936/936 [==============================] - 49s 52ms/step - loss: 0.2635 - accuracy: 0.9079 - precision: 0.5250 - recall: 0.8856 - auc: 0.9593 - f1_m: 0.6532 - val_loss: 0.3046 - val_accuracy: 0.8954 - val_precision: 0.4892 - val_recall: 0.9063 - val_auc: 0.9571 - val_f1_m: 0.6282\n",
      "Epoch 11/12\n",
      "936/936 [==============================] - 31s 33ms/step - loss: 0.2599 - accuracy: 0.9086 - precision: 0.5268 - recall: 0.8898 - auc: 0.9605 - f1_m: 0.6557 - val_loss: 0.2748 - val_accuracy: 0.9058 - val_precision: 0.5184 - val_recall: 0.8894 - val_auc: 0.9578 - val_f1_m: 0.6473\n",
      "Epoch 12/12\n",
      "936/936 [==============================] - 38s 41ms/step - loss: 0.2564 - accuracy: 0.9101 - precision: 0.5315 - recall: 0.8912 - auc: 0.9616 - f1_m: 0.6603 - val_loss: 0.2553 - val_accuracy: 0.9125 - val_precision: 0.5400 - val_recall: 0.8781 - val_auc: 0.9578 - val_f1_m: 0.6612\n",
      "Trajanje obucavanja modela binarne klasifikacije:  480.5562152862549\n"
     ]
    }
   ],
   "source": [
    "start = time.time()    \n",
    "\n",
    "binary_history = binary_model.fit(X_train_transformed, y_train, batch_size=batch_size, epochs=epochs, \n",
    "                                 validation_data=(X_validation_transformed, y_validation), class_weight=weights)\n",
    "                                 \n",
    "print('Trajanje obucavanja modela binarne klasifikacije: ', time.time() - start)"
   ]
  },
  {
   "cell_type": "code",
   "execution_count": null,
   "id": "f89e20b5",
   "metadata": {},
   "outputs": [],
   "source": []
  },
  {
   "cell_type": "markdown",
   "id": "c1cb70f9",
   "metadata": {},
   "source": [
    "Prate se preciznost, odziv, funkcija gubitka, F1 mera i AUC (jer klase nisu izbalansirane)"
   ]
  },
  {
   "cell_type": "code",
   "execution_count": 39,
   "id": "4d39ec52",
   "metadata": {},
   "outputs": [
    {
     "data": {
      "image/png": "[encoded data removed]",
      "text/plain": [
       "<Figure size 1080x360 with 3 Axes>"
      ]
     },
     "metadata": {
      "needs_background": "light"
     },
     "output_type": "display_data"
    }
   ],
   "source": [
    "# Grafici koji prikazuju promene metrika tokom treniranja na trening skupu i validacionom skupu kroz epohe \n",
    "\n",
    "plot_graphs(binary_history, ['accuracy', 'recall', 'f1_m'])"
   ]
  },
  {
   "cell_type": "markdown",
   "id": "a0427b6d",
   "metadata": {},
   "source": [
    "### 6. Evaluacija modela"
   ]
  },
  {
   "cell_type": "markdown",
   "id": "adbd416f",
   "metadata": {},
   "source": [
    "Evaluacija se radi i na trening skupu radi praćenja preprilagođavanja, a zatim i na testu"
   ]
  },
  {
   "cell_type": "code",
   "execution_count": 62,
   "id": "e2f07686",
   "metadata": {},
   "outputs": [
    {
     "name": "stdout",
     "output_type": "stream",
     "text": [
      "3743/3743 [==============================] - 10s 3ms/step - loss: 0.2477 - accuracy: 0.9157 - precision: 0.5500 - recall: 0.8882 - auc: 0.9633 - f1_m: 0.6457\n",
      "Loss train:  0.2477434128522873\n",
      "Train accuracy:  0.915671706199646\n",
      "Train precision:  0.5499511361122131\n",
      "Train recall:  0.8881508111953735\n",
      "Train auc:  0.963295042514801\n",
      "Train F1:  0.6456656455993652\n"
     ]
    }
   ],
   "source": [
    "scores = binary_model.evaluate(X_train_transformed, y_train)\n",
    "print('Loss train: ', scores[0])\n",
    "print('Train accuracy: ', scores[1])\n",
    "print('Train precision: ', scores[2])\n",
    "print('Train recall: ', scores[3])\n",
    "print('Train auc: ', scores[4])\n",
    "print('Train F1: ', scores[5])"
   ]
  },
  {
   "cell_type": "code",
   "execution_count": 61,
   "id": "b482d9e8",
   "metadata": {},
   "outputs": [
    {
     "name": "stdout",
     "output_type": "stream",
     "text": [
      "2305/2305 [==============================] - 6s 2ms/step - loss: 0.2537 - accuracy: 0.9126 - precision: 0.5407 - recall: 0.8684 - auc: 0.9561 - f1_m: 0.6302\n",
      "Loss:  0.2536602020263672\n",
      "Test accuracy:  0.9125983119010925\n",
      "Test precision:  0.5406903624534607\n",
      "Test recall:  0.5406903624534607\n",
      "Test auc:  0.9560765027999878\n",
      "F1:  0.6302148103713989\n"
     ]
    }
   ],
   "source": [
    "scores = binary_model.evaluate(X_test_transformed, y_test)\n",
    "print('Loss: ', scores[0])\n",
    "print('Test accuracy: ', scores[1])\n",
    "print('Test precision: ', scores[2])\n",
    "print('Test recall: ', scores[2])\n",
    "print('Test auc: ', scores[4])\n",
    "print('F1: ', scores[5])"
   ]
  },
  {
   "cell_type": "markdown",
   "id": "59cf15c7",
   "metadata": {},
   "source": [
    "Predviđanje: "
   ]
  },
  {
   "cell_type": "code",
   "execution_count": 42,
   "id": "7281cef0",
   "metadata": {},
   "outputs": [],
   "source": [
    "y_predicted = binary_model.predict(X_test_transformed)"
   ]
  },
  {
   "cell_type": "code",
   "execution_count": 43,
   "id": "2499b829",
   "metadata": {},
   "outputs": [],
   "source": [
    "# sigmoidna funkcija:\n",
    "\n",
    "y_labels = [int(score > 0.5) for score in y_predicted]"
   ]
  },
  {
   "cell_type": "code",
   "execution_count": 44,
   "id": "c18e0c0e",
   "metadata": {},
   "outputs": [
    {
     "name": "stdout",
     "output_type": "stream",
     "text": [
      "[[60857  5469]\n",
      " [  976  6438]]\n"
     ]
    }
   ],
   "source": [
    "cf = metrics.confusion_matrix(y_test, y_labels)\n",
    "print(cf)"
   ]
  },
  {
   "cell_type": "code",
   "execution_count": 45,
   "id": "220e5e3e",
   "metadata": {},
   "outputs": [
    {
     "data": {
      "image/png": "[encoded data removed]",
      "text/plain": [
       "<Figure size 1008x360 with 4 Axes>"
      ]
     },
     "metadata": {
      "needs_background": "light"
     },
     "output_type": "display_data"
    }
   ],
   "source": [
    "# funkcija koja prikazuje matricu konfuzije i \n",
    "# istu tu matricu sa vrednostima u  procentima\n",
    "\n",
    "plot_cf(cf, 'binary', ['untoxic, toxic'])"
   ]
  },
  {
   "cell_type": "markdown",
   "id": "e821142f",
   "metadata": {},
   "source": [
    "#### - Od oko 90% procenata netoksičnih, 82.18% je tačno klasifikovano(TN), a 7.77% netačno(FP)\n",
    "#### - Od oko 10% procenata toksičnih komentara, 8.79% je tačno klasifikovano(TP), a 1.27% netačno(FN)"
   ]
  },
  {
   "cell_type": "code",
   "execution_count": 59,
   "id": "c38a46b6",
   "metadata": {},
   "outputs": [
    {
     "name": "stdout",
     "output_type": "stream",
     "text": [
      "---------------------- IZVESTAJ -----------------------\n",
      "\n",
      "              precision    recall  f1-score   support\n",
      "\n",
      "           0       0.98      0.92      0.95     66326\n",
      "           1       0.54      0.87      0.67      7414\n",
      "\n",
      "    accuracy                           0.91     73740\n",
      "   macro avg       0.76      0.89      0.81     73740\n",
      "weighted avg       0.94      0.91      0.92     73740\n",
      "\n"
     ]
    }
   ],
   "source": [
    "print('---------------------- IZVESTAJ -----------------------\\n')\n",
    "print(metrics.classification_report(y_test, y_labels))"
   ]
  },
  {
   "cell_type": "markdown",
   "id": "be393549",
   "metadata": {},
   "source": [
    "Cilj je **maksimizovati odziv**, odnosno treba da bude što manji broj lažno negativnih - važnije je da se pronađu toksični komentari. Manja je šteta ako neki netoksičan bude klasifikovan kao toksičan, nego obrnuto. Preciznost za pozitivnu klasu od 0.5 je u ovom slučaju u redu, jer broj lažno pozitivnih je samo mali deo velikog broja instanci negativne klase (netoksičnih komentara)."
   ]
  },
  {
   "cell_type": "code",
   "execution_count": 60,
   "id": "8ebb8eec",
   "metadata": {},
   "outputs": [
    {
     "data": {
      "text/plain": [
       "0.9125983184160564"
      ]
     },
     "execution_count": 60,
     "metadata": {},
     "output_type": "execute_result"
    }
   ],
   "source": [
    "metrics.accuracy_score(y_test, y_labels)"
   ]
  },
  {
   "cell_type": "markdown",
   "id": "0fc9a74e",
   "metadata": {},
   "source": [
    "Izdvajanje instanci na kojima model greši:"
   ]
  },
  {
   "cell_type": "code",
   "execution_count": 47,
   "id": "2b7e194e",
   "metadata": {},
   "outputs": [],
   "source": [
    "joined = pd.concat([X_test, y_test], axis=1)\n",
    "joined['predicted'] = y_labels"
   ]
  },
  {
   "cell_type": "code",
   "execution_count": 48,
   "id": "a45a78ee",
   "metadata": {},
   "outputs": [],
   "source": [
    "correct = joined[joined['target'] == joined['predicted']]\n",
    "incorrect = joined[joined['target'] != joined['predicted']]"
   ]
  },
  {
   "cell_type": "markdown",
   "id": "a0f4cab1",
   "metadata": {},
   "source": [
    "Primeri pogresno klasifikovanih komentara:"
   ]
  },
  {
   "cell_type": "code",
   "execution_count": 49,
   "id": "cd9f229b",
   "metadata": {},
   "outputs": [
    {
     "data": {
      "text/html": [
       "<div>\n",
       "<style scoped>\n",
       "    .dataframe tbody tr th:only-of-type {\n",
       "        vertical-align: middle;\n",
       "    }\n",
       "\n",
       "    .dataframe tbody tr th {\n",
       "        vertical-align: top;\n",
       "    }\n",
       "\n",
       "    .dataframe thead th {\n",
       "        text-align: right;\n",
       "    }\n",
       "</style>\n",
       "<table border=\"1\" class=\"dataframe\">\n",
       "  <thead>\n",
       "    <tr style=\"text-align: right;\">\n",
       "      <th></th>\n",
       "      <th>comment_text</th>\n",
       "      <th>target</th>\n",
       "      <th>predicted</th>\n",
       "    </tr>\n",
       "  </thead>\n",
       "  <tbody>\n",
       "    <tr>\n",
       "      <th>72935</th>\n",
       "      <td>possibly the worst ever adaptation of a comic ...</td>\n",
       "      <td>0</td>\n",
       "      <td>1</td>\n",
       "    </tr>\n",
       "    <tr>\n",
       "      <th>83588</th>\n",
       "      <td>hi  i am trying to get breasts like yours but ...</td>\n",
       "      <td>0</td>\n",
       "      <td>1</td>\n",
       "    </tr>\n",
       "    <tr>\n",
       "      <th>132027</th>\n",
       "      <td>hornswoggle joining club   hornswoggle joined ...</td>\n",
       "      <td>1</td>\n",
       "      <td>0</td>\n",
       "    </tr>\n",
       "    <tr>\n",
       "      <th>183724</th>\n",
       "      <td>and do you fugure your baiting is somehow more...</td>\n",
       "      <td>0</td>\n",
       "      <td>1</td>\n",
       "    </tr>\n",
       "    <tr>\n",
       "      <th>166794</th>\n",
       "      <td>flickrcom     here are a random selection of t...</td>\n",
       "      <td>0</td>\n",
       "      <td>1</td>\n",
       "    </tr>\n",
       "  </tbody>\n",
       "</table>\n",
       "</div>"
      ],
      "text/plain": [
       "                                             comment_text  target  predicted\n",
       "72935   possibly the worst ever adaptation of a comic ...       0          1\n",
       "83588   hi  i am trying to get breasts like yours but ...       0          1\n",
       "132027  hornswoggle joining club   hornswoggle joined ...       1          0\n",
       "183724  and do you fugure your baiting is somehow more...       0          1\n",
       "166794  flickrcom     here are a random selection of t...       0          1"
      ]
     },
     "execution_count": 49,
     "metadata": {},
     "output_type": "execute_result"
    }
   ],
   "source": [
    "# pogresno klasifikovane instance: \n",
    "incorrect.head()"
   ]
  },
  {
   "cell_type": "code",
   "execution_count": null,
   "id": "db3e8476",
   "metadata": {},
   "outputs": [],
   "source": []
  },
  {
   "cell_type": "code",
   "execution_count": 50,
   "id": "0bea1d15",
   "metadata": {},
   "outputs": [],
   "source": [
    "# FN -> toksicni koji su klasifikovani kao netoksicni\n",
    "FN = (incorrect['target']==1) & (incorrect['predicted']==0)\n",
    "\n",
    "# FP -> netoksicni koji su klasifikovani kao toksicni\n",
    "FP = (incorrect['target']==0) & (incorrect['predicted']==1)"
   ]
  },
  {
   "cell_type": "code",
   "execution_count": 51,
   "id": "3b4db220",
   "metadata": {},
   "outputs": [],
   "source": [
    "# incorrect[FP]['comment_text'].head()\n",
    "# incorrect[FN]['comment_text'].tail()"
   ]
  },
  {
   "cell_type": "code",
   "execution_count": 52,
   "id": "124d7db7",
   "metadata": {},
   "outputs": [
    {
     "name": "stdout",
     "output_type": "stream",
     "text": [
      "Primer lažno pozitivne instance: \n"
     ]
    },
    {
     "data": {
      "text/plain": [
       "'youre right bbone means fuck it doesnt mean sack'"
      ]
     },
     "execution_count": 52,
     "metadata": {},
     "output_type": "execute_result"
    }
   ],
   "source": [
    "indexes = incorrect[FP].index\n",
    "random_index = np.random.choice(indexes)\n",
    "\n",
    "# primer jednog nasumicnog netoksicnog koji je model obelezio kao toksican komentar\n",
    "\n",
    "print('Primer lažno pozitivne instance: ')\n",
    "incorrect[FP]['comment_text'][random_index]"
   ]
  },
  {
   "cell_type": "code",
   "execution_count": 53,
   "id": "9cf60dda",
   "metadata": {},
   "outputs": [
    {
     "name": "stdout",
     "output_type": "stream",
     "text": [
      "Primer lažno negativne instance: \n"
     ]
    },
    {
     "data": {
      "text/plain": [
       "'this is not vandalism if you look at the quoted text from the notice you may remove this message if you i amprove the article or if you otherwise object to deletion of the article for any reason to avoid confusion it helps to explain why you object to the deletion either in the edit summary or on the talk page if this template is removed it should not be replaced it states that i may remove the notice furthermore i did explain on more than one occasion that i was removing the message because mais ouis had failed to provide any explanation as to why it should be deleted and invited them to do so they didnt it also states clearly that if the template is removed it should not be replaced and it was so fuck off'"
      ]
     },
     "execution_count": 53,
     "metadata": {},
     "output_type": "execute_result"
    }
   ],
   "source": [
    "# primer nasumicnog toksicnog koji je model obelezio kao netoksican\n",
    "indexes = incorrect[FN].index\n",
    "random_index = np.random.choice(indexes)\n",
    "\n",
    "print('Primer lažno negativne instance: ')\n",
    "incorrect[FN]['comment_text'][random_index]"
   ]
  },
  {
   "cell_type": "code",
   "execution_count": null,
   "id": "7a2d2708",
   "metadata": {},
   "outputs": [],
   "source": []
  },
  {
   "cell_type": "markdown",
   "id": "5ac721fc",
   "metadata": {},
   "source": [
    "U direktorijumu **plots and images/prediction_examples/** se nalaze skrinšotovi nekoliko zanimljivih izlaza prethodnih naredbi, \n",
    "na osnovu kojih se može zaključiti da model greši u slučaju greški u kucanju, u slučaju kada su reči napisane slovo po slovo sa razmacima između i slično. U slučaju lažno pozitivnih instanci - model predviđa komentar kao toksičan ako ima ružnih reči, a neki takvi komentari su ipak netoksični. Po mom mišljenju, neki od ovih komentara bi trebalo da budu toksični u originalnom skupu. \n",
    "\n",
    "Ovakvo ponašanje je očekivano, što znači da model u većini slučajeva dobro zaključuje. \n",
    "\n",
    "Ono što se može uraditi za bolja predviđanja je detaljnija priprema teksta, sređivanje komentara sa koji su pogrešno spelovani, spajanje u jednu reč ako ima nekoliko uzastopnih pojedinačnih slova sa razmacima izmeđi i slično."
   ]
  },
  {
   "cell_type": "code",
   "execution_count": null,
   "id": "51c50f3d",
   "metadata": {},
   "outputs": [],
   "source": []
  },
  {
   "cell_type": "markdown",
   "id": "87dfec3e",
   "metadata": {},
   "source": [
    "Proba na novim podacima (kratke rečenice)"
   ]
  },
  {
   "cell_type": "code",
   "execution_count": 54,
   "id": "eb15b391",
   "metadata": {},
   "outputs": [],
   "source": [
    "# nekoliko jednostavnih provera za uvredljive, obicne komentare, namerno pogresno spelovane...\n",
    "new_comments = ['fuck you bitch', \n",
    "                'fukc you', \n",
    "                'hello i have a question about something', \n",
    "                'shit head', \n",
    "                'shithead',\n",
    "                'this is a clean comment', \n",
    "                'get out of here',\n",
    "                's h i t',\n",
    "                'you are so stupid']\n",
    "\n",
    "new = to_sequence(new_comments, max_len, tokenizer)"
   ]
  },
  {
   "cell_type": "code",
   "execution_count": 55,
   "id": "d7e16792",
   "metadata": {},
   "outputs": [],
   "source": [
    "# verovatnoce pripadanja toksicnim:\n",
    "\n",
    "probs = binary_model.predict(new)\n",
    "toxic_probs = {}\n",
    "i = 0\n",
    "for comment in new_comments:\n",
    "    toxic_probs[comment] = round(probs[i][0], 3)\n",
    "    i += 1"
   ]
  },
  {
   "cell_type": "code",
   "execution_count": 56,
   "id": "35e3f719",
   "metadata": {},
   "outputs": [
    {
     "name": "stdout",
     "output_type": "stream",
     "text": [
      "Verovatnoca pripadanja komentara klasi toksicnih: \n"
     ]
    },
    {
     "data": {
      "text/plain": [
       "{'fuck you bitch': 0.999,\n",
       " 'fukc you': 0.573,\n",
       " 'hello i have a question about something': 0.182,\n",
       " 'shit head': 0.998,\n",
       " 'shithead': 0.29,\n",
       " 'this is a clean comment': 0.213,\n",
       " 'get out of here': 0.296,\n",
       " 's h i t': 0.292,\n",
       " 'you are so stupid': 0.996}"
      ]
     },
     "execution_count": 56,
     "metadata": {},
     "output_type": "execute_result"
    }
   ],
   "source": [
    "print('Verovatnoca pripadanja komentara klasi toksicnih: ')\n",
    "toxic_probs"
   ]
  },
  {
   "cell_type": "markdown",
   "id": "bed61954",
   "metadata": {},
   "source": [
    "Od ovih primera, model pogrešno predviđa jedino za dva komentara koja su pogrešno napisana, pa se za njih ne može zaključiti da su u pitanju uvredljive reči."
   ]
  },
  {
   "cell_type": "code",
   "execution_count": null,
   "id": "559a4e76",
   "metadata": {},
   "outputs": [],
   "source": []
  },
  {
   "cell_type": "markdown",
   "id": "ed71d770",
   "metadata": {},
   "source": [
    "### Čuvanje modela"
   ]
  },
  {
   "cell_type": "code",
   "execution_count": 57,
   "id": "4a9c1b8c",
   "metadata": {},
   "outputs": [],
   "source": [
    "#binary_model.save_weights('models/binary_model_weights.h5')\n",
    "#binary_model.save('models/binary_model.h5')"
   ]
  },
  {
   "cell_type": "code",
   "execution_count": 58,
   "id": "20194e06",
   "metadata": {},
   "outputs": [],
   "source": [
    "#model = keras.models.load_model('models/binary_model.h5', custom_objects={\"f1_m\": f1_m})\n",
    "#utils.plot_model(model, to_file='plots and images/binary_model.png', show_shapes=True)\n",
    "# model.get_config()"
   ]
  },
  {
   "cell_type": "code",
   "execution_count": null,
   "id": "411ed968",
   "metadata": {},
   "outputs": [],
   "source": []
  }
 ],
 "metadata": {
  "kernelspec": {
   "display_name": "Python 3 (ipykernel)",
   "language": "python",
   "name": "python3"
  },
  "language_info": {
   "codemirror_mode": {
    "name": "ipython",
    "version": 3
   },
   "file_extension": ".py",
   "mimetype": "text/x-python",
   "name": "python",
   "nbconvert_exporter": "python",
   "pygments_lexer": "ipython3",
   "version": "3.9.6"
  }
 },
 "nbformat": 4,
 "nbformat_minor": 5
}
