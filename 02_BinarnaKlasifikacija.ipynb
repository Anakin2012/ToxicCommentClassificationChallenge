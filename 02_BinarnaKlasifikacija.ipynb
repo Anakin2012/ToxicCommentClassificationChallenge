{
 "cells": [
  {
   "cell_type": "code",
   "execution_count": 2,
   "id": "ccf4237f",
   "metadata": {},
   "outputs": [],
   "source": [
    "import pandas as pd\n",
    "import numpy as np\n",
    "from matplotlib import pyplot as plt\n",
    "\n",
    "import pickle\n",
    "import sklearn\n",
    "import time\n",
    "from sklearn import metrics\n",
    "from sklearn import model_selection\n",
    "\n",
    "\n",
    "import warnings\n",
    "warnings.simplefilter(action='ignore', category=FutureWarning)\n",
    "warnings.simplefilter(action='ignore', category=DeprecationWarning)"
   ]
  },
  {
   "cell_type": "code",
   "execution_count": 3,
   "id": "ee6c7433",
   "metadata": {},
   "outputs": [],
   "source": [
    "%run SharedFunctions.ipynb"
   ]
  },
  {
   "cell_type": "code",
   "execution_count": null,
   "id": "72e5b526",
   "metadata": {},
   "outputs": [],
   "source": []
  },
  {
   "cell_type": "markdown",
   "id": "ad2119d5",
   "metadata": {},
   "source": [
    "Učitava se prethodno pripremljen skup podataka: "
   ]
  },
  {
   "cell_type": "code",
   "execution_count": 4,
   "id": "2297f84b",
   "metadata": {},
   "outputs": [],
   "source": [
    "data = pd.read_csv('data/data_longer.csv')\n",
    "data.drop(columns=['Unnamed: 0'], inplace=True)"
   ]
  },
  {
   "cell_type": "code",
   "execution_count": 5,
   "id": "cbcc75ce",
   "metadata": {},
   "outputs": [
    {
     "data": {
      "text/plain": [
       "(223453, 9)"
      ]
     },
     "execution_count": 5,
     "metadata": {},
     "output_type": "execute_result"
    }
   ],
   "source": [
    "data.shape"
   ]
  },
  {
   "cell_type": "code",
   "execution_count": null,
   "id": "f692a602",
   "metadata": {},
   "outputs": [],
   "source": []
  },
  {
   "cell_type": "markdown",
   "id": "d7e8f9f6",
   "metadata": {},
   "source": [
    "### 1. Podela na trening, test, i validacioni skup"
   ]
  },
  {
   "cell_type": "code",
   "execution_count": 5,
   "id": "fed856a5",
   "metadata": {},
   "outputs": [],
   "source": [
    "# data.head()"
   ]
  },
  {
   "cell_type": "code",
   "execution_count": 6,
   "id": "06f321aa",
   "metadata": {},
   "outputs": [],
   "source": [
    "X = data['comment_text']\n",
    "y = data['target']"
   ]
  },
  {
   "cell_type": "code",
   "execution_count": null,
   "id": "df03e23e",
   "metadata": {},
   "outputs": [],
   "source": []
  },
  {
   "cell_type": "code",
   "execution_count": 7,
   "id": "a9c3088a",
   "metadata": {},
   "outputs": [],
   "source": [
    "X_train_validation, X_test, y_train_validation, y_test = \\\n",
    "    model_selection.train_test_split(X, y, test_size=0.33, stratify=y, random_state=7)\n",
    "\n",
    "X_train, X_validation, y_train, y_validation =\\\n",
    "    model_selection.train_test_split(X_train_validation, y_train_validation, test_size=0.2, stratify=y_train_validation, random_state=7)"
   ]
  },
  {
   "cell_type": "code",
   "execution_count": 8,
   "id": "95c8c3c1",
   "metadata": {},
   "outputs": [
    {
     "data": {
      "text/plain": [
       "((119770,), (29943,), (73740,))"
      ]
     },
     "execution_count": 8,
     "metadata": {},
     "output_type": "execute_result"
    }
   ],
   "source": [
    "X_train.shape, X_validation.shape, X_test.shape"
   ]
  },
  {
   "cell_type": "code",
   "execution_count": 9,
   "id": "04c66ac1",
   "metadata": {},
   "outputs": [
    {
     "data": {
      "text/plain": [
       "((119770,), (29943,), (73740,))"
      ]
     },
     "execution_count": 9,
     "metadata": {},
     "output_type": "execute_result"
    }
   ],
   "source": [
    "y_train.shape, y_validation.shape, y_test.shape"
   ]
  },
  {
   "cell_type": "code",
   "execution_count": null,
   "id": "743e2319",
   "metadata": {},
   "outputs": [],
   "source": []
  },
  {
   "cell_type": "markdown",
   "id": "23e11fc3",
   "metadata": {},
   "source": [
    "### 2. Tokenizacija I vektorizacija teksta"
   ]
  },
  {
   "cell_type": "code",
   "execution_count": 10,
   "id": "e09f6409",
   "metadata": {},
   "outputs": [],
   "source": [
    "# uzima se recimo 20000 najfrekventinijh reci\n",
    "max_features = 20000\n",
    "\n",
    "# max duzina\n",
    "max_len = 100"
   ]
  },
  {
   "cell_type": "code",
   "execution_count": 11,
   "id": "be037964",
   "metadata": {},
   "outputs": [],
   "source": [
    "word_index, tokenizer = get_vocabulary(max_features, X_train, 'tokenizer_binary.pickle')"
   ]
  },
  {
   "cell_type": "code",
   "execution_count": 12,
   "id": "f099423a",
   "metadata": {},
   "outputs": [
    {
     "name": "stdout",
     "output_type": "stream",
     "text": [
      "Broj jedinstvenih reci: 201164\n"
     ]
    }
   ],
   "source": [
    "print('Broj jedinstvenih reci:', len(word_index))"
   ]
  },
  {
   "cell_type": "code",
   "execution_count": null,
   "id": "d9e438ae",
   "metadata": {},
   "outputs": [],
   "source": []
  },
  {
   "cell_type": "markdown",
   "id": "659647e3",
   "metadata": {},
   "source": [
    "Sada pravimo skupove za trening, test i validaciju sa vektorizovanim tekstom"
   ]
  },
  {
   "cell_type": "code",
   "execution_count": 13,
   "id": "f3673a91",
   "metadata": {},
   "outputs": [],
   "source": [
    "X_train_transformed = to_sequence(X_train, max_len, tokenizer)\n",
    "X_test_transformed = to_sequence(X_test, max_len, tokenizer)\n",
    "X_validation_transformed = to_sequence(X_validation, max_len, tokenizer)"
   ]
  },
  {
   "cell_type": "code",
   "execution_count": 14,
   "id": "be157f6a",
   "metadata": {},
   "outputs": [
    {
     "data": {
      "text/plain": [
       "((119770,), (73740,), (29943,))"
      ]
     },
     "execution_count": 14,
     "metadata": {},
     "output_type": "execute_result"
    }
   ],
   "source": [
    "X_train.shape, X_test.shape, X_validation.shape"
   ]
  },
  {
   "cell_type": "code",
   "execution_count": 15,
   "id": "2299c50f",
   "metadata": {},
   "outputs": [],
   "source": [
    "X_train_validation_transformed = to_sequence(X_train_validation, max_len, tokenizer)"
   ]
  },
  {
   "cell_type": "markdown",
   "id": "c3627b57",
   "metadata": {},
   "source": [
    "Kreira se matrica ugnjezdavanja"
   ]
  },
  {
   "cell_type": "code",
   "execution_count": 16,
   "id": "87606de0",
   "metadata": {},
   "outputs": [],
   "source": [
    "embedding_matrix = create_embedding_matrix(word_index, max_len)"
   ]
  },
  {
   "cell_type": "code",
   "execution_count": null,
   "id": "a8cfd4b0",
   "metadata": {},
   "outputs": [],
   "source": []
  },
  {
   "cell_type": "markdown",
   "id": "af8a28dc",
   "metadata": {},
   "source": [
    "### 3. Selekcija i evaluacija modela"
   ]
  },
  {
   "cell_type": "code",
   "execution_count": 38,
   "id": "077503d6",
   "metadata": {},
   "outputs": [
    {
     "data": {
      "text/plain": [
       "{0: 0.5558967465969598, 1: 4.97253221735087}"
      ]
     },
     "execution_count": 38,
     "metadata": {},
     "output_type": "execute_result"
    }
   ],
   "source": [
    "# Posto su klasa nebalansirane, potrebno je dodeliti im tezine\n",
    "# tako da se vise kaznjava pogresna klasifikacija manjinske klase\n",
    "\n",
    "weights = get_weights(y_train_validation, 2)\n",
    "weights"
   ]
  },
  {
   "cell_type": "markdown",
   "id": "56b46f5a",
   "metadata": {},
   "source": [
    "Za podešavanje hiperparametara koristiće se randomizovana unakrsna validacija i keras wrapper \n",
    "\n",
    "Linije su zakomentarisane jer se predugo izvršava, rezultati su sačuvani u csv fajl"
   ]
  },
  {
   "cell_type": "code",
   "execution_count": 18,
   "id": "ebefe9e8",
   "metadata": {},
   "outputs": [],
   "source": [
    "# random_cv = randomized_search_cv(X_train_validation_transformed, y_train_validation, weights, embedding_matrix, 2)"
   ]
  },
  {
   "cell_type": "code",
   "execution_count": 19,
   "id": "231738c6",
   "metadata": {},
   "outputs": [],
   "source": [
    "# best_params = random_cv.best_params_\n",
    "# best_score = random_cv.best_score_\n",
    "# results = random_cv.cv_results_"
   ]
  },
  {
   "cell_type": "code",
   "execution_count": 20,
   "id": "c19b10cb",
   "metadata": {},
   "outputs": [],
   "source": [
    "# cv_data = pd.DataFrame(results)\n",
    "# cv_data.to_csv('data/cv_results.csv')"
   ]
  },
  {
   "cell_type": "code",
   "execution_count": null,
   "id": "43e06d90",
   "metadata": {},
   "outputs": [],
   "source": []
  },
  {
   "cell_type": "code",
   "execution_count": 21,
   "id": "96918838",
   "metadata": {},
   "outputs": [],
   "source": [
    "cv_results = pd.read_csv('data/cv_results.csv')"
   ]
  },
  {
   "cell_type": "code",
   "execution_count": 22,
   "id": "fc8297a7",
   "metadata": {},
   "outputs": [],
   "source": [
    "# cv_results.head()"
   ]
  },
  {
   "cell_type": "code",
   "execution_count": 23,
   "id": "e3d02c7a",
   "metadata": {},
   "outputs": [],
   "source": [
    "best = cv_results[cv_results['rank_test_score']==1]"
   ]
  },
  {
   "cell_type": "markdown",
   "id": "e40017b2",
   "metadata": {},
   "source": [
    "### 4. Formiranje modela"
   ]
  },
  {
   "cell_type": "code",
   "execution_count": null,
   "id": "b41eb51d",
   "metadata": {},
   "outputs": [],
   "source": []
  },
  {
   "cell_type": "code",
   "execution_count": 24,
   "id": "95546461",
   "metadata": {},
   "outputs": [],
   "source": [
    "kernel_size = (best['param_kernel_size'].values[0], )\n",
    "pool_size = (best['param_pool_size'].values[0], )\n",
    "filters = best['param_filters'].values[0]\n",
    "dropout_rate = best['param_dropout_rate'].values[0]\n",
    "embedding_dim = 100\n",
    "lr = best['param_lr'].values[0]\n",
    "layers = best['param_layers'].values[0]"
   ]
  },
  {
   "cell_type": "code",
   "execution_count": 25,
   "id": "de90a837",
   "metadata": {},
   "outputs": [
    {
     "name": "stdout",
     "output_type": "stream",
     "text": [
      "Model: \"sequential\"\n",
      "_________________________________________________________________\n",
      "Layer (type)                 Output Shape              Param #   \n",
      "=================================================================\n",
      "embedding (Embedding)        (None, 100, 100)          2000000   \n",
      "_________________________________________________________________\n",
      "conv1d (Conv1D)              (None, 100, 128)          12928     \n",
      "_________________________________________________________________\n",
      "max_pooling1d (MaxPooling1D) (None, 20, 128)           0         \n",
      "_________________________________________________________________\n",
      "conv1d_1 (Conv1D)            (None, 20, 256)           33024     \n",
      "_________________________________________________________________\n",
      "max_pooling1d_1 (MaxPooling1 (None, 4, 256)            0         \n",
      "_________________________________________________________________\n",
      "dropout (Dropout)            (None, 4, 256)            0         \n",
      "_________________________________________________________________\n",
      "global_average_pooling1d (Gl (None, 256)               0         \n",
      "_________________________________________________________________\n",
      "flatten (Flatten)            (None, 256)               0         \n",
      "_________________________________________________________________\n",
      "dense (Dense)                (None, 1)                 257       \n",
      "=================================================================\n",
      "Total params: 2,046,209\n",
      "Trainable params: 46,209\n",
      "Non-trainable params: 2,000,000\n",
      "_________________________________________________________________\n"
     ]
    }
   ],
   "source": [
    "binary_model = create_model(num_of_classes = 2, num_of_features = max_features, embedding_dim = embedding_dim, \n",
    "                            kernel_size = kernel_size, pool_size = pool_size, filters = filters, \n",
    "                            dropout_rate = dropout_rate, maxlen = max_len, lr = lr, \n",
    "                            embedding_matrix = embedding_matrix, layers=layers)"
   ]
  },
  {
   "cell_type": "code",
   "execution_count": null,
   "id": "9c39f5e9",
   "metadata": {},
   "outputs": [],
   "source": []
  },
  {
   "cell_type": "markdown",
   "id": "39c289e4",
   "metadata": {},
   "source": [
    "### 5. Obučavanje modela"
   ]
  },
  {
   "cell_type": "code",
   "execution_count": null,
   "id": "04c04077",
   "metadata": {},
   "outputs": [],
   "source": []
  },
  {
   "cell_type": "code",
   "execution_count": 39,
   "id": "5d5c5bb5",
   "metadata": {},
   "outputs": [],
   "source": [
    "epochs = 12\n",
    "batch_size = 128"
   ]
  },
  {
   "cell_type": "code",
   "execution_count": 40,
   "id": "969ce549",
   "metadata": {
    "scrolled": true
   },
   "outputs": [
    {
     "name": "stdout",
     "output_type": "stream",
     "text": [
      "Epoch 1/12\n",
      "936/936 [==============================] - 21s 22ms/step - loss: 0.2544 - precision: 0.5373 - recall: 0.8900 - auc: 0.9621 - f1_m: 0.6634 - val_loss: 0.2670 - val_precision: 0.5246 - val_recall: 0.8864 - val_auc: 0.9582 - val_f1_m: 0.6515\n",
      "Epoch 2/12\n",
      "936/936 [==============================] - 18s 19ms/step - loss: 0.2516 - precision: 0.5383 - recall: 0.8945 - auc: 0.9629 - f1_m: 0.6654 - val_loss: 0.2574 - val_precision: 0.5330 - val_recall: 0.8824 - val_auc: 0.9584 - val_f1_m: 0.6570\n",
      "Epoch 3/12\n",
      "936/936 [==============================] - 20s 21ms/step - loss: 0.2482 - precision: 0.5417 - recall: 0.8971 - auc: 0.9638 - f1_m: 0.6701 - val_loss: 0.2715 - val_precision: 0.5186 - val_recall: 0.8941 - val_auc: 0.9589 - val_f1_m: 0.6489\n",
      "Epoch 4/12\n",
      "936/936 [==============================] - 21s 22ms/step - loss: 0.2464 - precision: 0.5442 - recall: 0.8978 - auc: 0.9644 - f1_m: 0.6717 - val_loss: 0.2923 - val_precision: 0.4988 - val_recall: 0.9083 - val_auc: 0.9592 - val_f1_m: 0.6360\n",
      "Epoch 5/12\n",
      "936/936 [==============================] - 21s 22ms/step - loss: 0.2438 - precision: 0.5467 - recall: 0.8984 - auc: 0.9652 - f1_m: 0.6739 - val_loss: 0.3342 - val_precision: 0.4607 - val_recall: 0.9223 - val_auc: 0.9592 - val_f1_m: 0.6062\n",
      "Epoch 6/12\n",
      "936/936 [==============================] - 20s 22ms/step - loss: 0.2416 - precision: 0.5471 - recall: 0.9014 - auc: 0.9658 - f1_m: 0.6751 - val_loss: 0.2624 - val_precision: 0.5298 - val_recall: 0.8924 - val_auc: 0.9597 - val_f1_m: 0.6572\n",
      "Epoch 7/12\n",
      "936/936 [==============================] - 21s 22ms/step - loss: 0.2385 - precision: 0.5514 - recall: 0.9024 - auc: 0.9667 - f1_m: 0.6787 - val_loss: 0.3041 - val_precision: 0.4875 - val_recall: 0.9130 - val_auc: 0.9600 - val_f1_m: 0.6277\n",
      "Epoch 8/12\n",
      "936/936 [==============================] - 21s 22ms/step - loss: 0.2368 - precision: 0.5527 - recall: 0.9032 - auc: 0.9671 - f1_m: 0.6798 - val_loss: 0.2541 - val_precision: 0.5407 - val_recall: 0.8877 - val_auc: 0.9600 - val_f1_m: 0.6644\n",
      "Epoch 9/12\n",
      "936/936 [==============================] - 21s 22ms/step - loss: 0.2350 - precision: 0.5576 - recall: 0.9036 - auc: 0.9677 - f1_m: 0.6842 - val_loss: 0.2876 - val_precision: 0.5023 - val_recall: 0.9063 - val_auc: 0.9603 - val_f1_m: 0.6380\n",
      "Epoch 10/12\n",
      "936/936 [==============================] - 21s 23ms/step - loss: 0.2322 - precision: 0.5598 - recall: 0.9075 - auc: 0.9684 - f1_m: 0.6871 - val_loss: 0.2551 - val_precision: 0.5400 - val_recall: 0.8901 - val_auc: 0.9605 - val_f1_m: 0.6645\n",
      "Epoch 11/12\n",
      "936/936 [==============================] - 21s 23ms/step - loss: 0.2300 - precision: 0.5607 - recall: 0.9087 - auc: 0.9690 - f1_m: 0.6889 - val_loss: 0.2505 - val_precision: 0.5447 - val_recall: 0.8858 - val_auc: 0.9603 - val_f1_m: 0.6667\n",
      "Epoch 12/12\n",
      "936/936 [==============================] - 21s 23ms/step - loss: 0.2283 - precision: 0.5633 - recall: 0.9082 - auc: 0.9696 - f1_m: 0.6893 - val_loss: 0.2990 - val_precision: 0.4918 - val_recall: 0.9117 - val_auc: 0.9605 - val_f1_m: 0.6307\n",
      "Trajanje obucavanja modela binarne klasifikacije:  246.75075149536133\n"
     ]
    }
   ],
   "source": [
    "start = time.time()    \n",
    "\n",
    "binary_history = binary_model.fit(X_train_transformed, y_train, batch_size=batch_size, epochs=epochs, \n",
    "                                 validation_data=(X_validation_transformed, y_validation), class_weight=weights)\n",
    "                                 \n",
    "print('Trajanje obucavanja modela binarne klasifikacije: ', time.time() - start)"
   ]
  },
  {
   "cell_type": "code",
   "execution_count": null,
   "id": "f89e20b5",
   "metadata": {},
   "outputs": [],
   "source": []
  },
  {
   "cell_type": "markdown",
   "id": "c1cb70f9",
   "metadata": {},
   "source": [
    "Prate se preciznost, odziv, funkcija gubitka, F1 mera i AUC (jer klase nisu izbalansirane)"
   ]
  },
  {
   "cell_type": "code",
   "execution_count": 41,
   "id": "4d39ec52",
   "metadata": {},
   "outputs": [
    {
     "data": {
      "image/png": "[encoded data removed]",
      "text/plain": [
       "<Figure size 1080x360 with 3 Axes>"
      ]
     },
     "metadata": {
      "needs_background": "light"
     },
     "output_type": "display_data"
    }
   ],
   "source": [
    "# Grafici koji prikazuju promene metrika tokom treniranja na trening skupu i validacionom skupu kroz epohe \n",
    "\n",
    "plot_graphs(binary_history, ['precision', 'recall', 'f1_m'])"
   ]
  },
  {
   "cell_type": "code",
   "execution_count": null,
   "id": "150acddc",
   "metadata": {},
   "outputs": [],
   "source": []
  },
  {
   "cell_type": "markdown",
   "id": "a0427b6d",
   "metadata": {},
   "source": [
    "### 6. Evaluacija modela"
   ]
  },
  {
   "cell_type": "code",
   "execution_count": 42,
   "id": "b482d9e8",
   "metadata": {},
   "outputs": [
    {
     "name": "stdout",
     "output_type": "stream",
     "text": [
      "2305/2305 [==============================] - 7s 3ms/step - loss: 0.2987 - precision: 0.4951 - recall: 0.9044 - auc: 0.9586 - f1_m: 0.6097\n",
      "Loss:  0.2987213730812073\n",
      "Test precision:  0.49512627720832825\n",
      "Test recall:  0.904370129108429\n",
      "Test auc:  0.9585508704185486\n",
      "F1:  0.6097171902656555\n"
     ]
    }
   ],
   "source": [
    "scores = binary_model.evaluate(X_test_transformed, y_test)\n",
    "print('Loss: ', scores[0])\n",
    "print('Test precision: ', scores[1])\n",
    "print('Test recall: ', scores[2])\n",
    "print('Test auc: ', scores[3])\n",
    "print('F1: ', scores[4])"
   ]
  },
  {
   "cell_type": "markdown",
   "id": "59cf15c7",
   "metadata": {},
   "source": [
    "Predviđanje: "
   ]
  },
  {
   "cell_type": "code",
   "execution_count": 43,
   "id": "7281cef0",
   "metadata": {},
   "outputs": [],
   "source": [
    "y_predicted = binary_model.predict(X_test_transformed)"
   ]
  },
  {
   "cell_type": "code",
   "execution_count": 44,
   "id": "2499b829",
   "metadata": {},
   "outputs": [],
   "source": [
    "# sigmoidna funkcija:\n",
    "\n",
    "y_labels = [int(score > 0.5) for score in y_predicted]"
   ]
  },
  {
   "cell_type": "code",
   "execution_count": null,
   "id": "1fc8247a",
   "metadata": {},
   "outputs": [],
   "source": []
  },
  {
   "cell_type": "code",
   "execution_count": 45,
   "id": "46408129",
   "metadata": {},
   "outputs": [
    {
     "name": "stdout",
     "output_type": "stream",
     "text": [
      "F1:  0.6399121969841572\n"
     ]
    }
   ],
   "source": [
    "# F1 mera je bolja metrika kada su neizbalansirane klase\n",
    "\n",
    "print('F1: ', metrics.f1_score(y_test, y_labels))"
   ]
  },
  {
   "cell_type": "code",
   "execution_count": 46,
   "id": "c18e0c0e",
   "metadata": {},
   "outputs": [
    {
     "name": "stdout",
     "output_type": "stream",
     "text": [
      "[[59489  6837]\n",
      " [  709  6705]]\n"
     ]
    }
   ],
   "source": [
    "cf = metrics.confusion_matrix(y_test, y_labels)\n",
    "print(cf)"
   ]
  },
  {
   "cell_type": "code",
   "execution_count": 47,
   "id": "220e5e3e",
   "metadata": {},
   "outputs": [
    {
     "data": {
      "image/png": "[encoded data removed]",
      "text/plain": [
       "<Figure size 1008x360 with 4 Axes>"
      ]
     },
     "metadata": {
      "needs_background": "light"
     },
     "output_type": "display_data"
    }
   ],
   "source": [
    "# funkcija koja prikazuje matricu konfuzije i \n",
    "# istu tu matricu sa vrednostima u  procentima\n",
    "\n",
    "plot_cf(cf, 'binary', ['untoxic, toxic'])"
   ]
  },
  {
   "cell_type": "markdown",
   "id": "e821142f",
   "metadata": {},
   "source": [
    "#### - Od oko 90% procenata netoksičnih, 80.67% je tačno klasifikovano(TN), a 9.27% netačno(FP)\n",
    "#### - Od oko 10% procenata toksičnih komentara, 9.09% je tačno klasifikovano(TP), a 0.96% netačno(FN)"
   ]
  },
  {
   "cell_type": "code",
   "execution_count": null,
   "id": "9cdd122c",
   "metadata": {},
   "outputs": [],
   "source": []
  },
  {
   "cell_type": "code",
   "execution_count": 48,
   "id": "c38a46b6",
   "metadata": {},
   "outputs": [
    {
     "name": "stdout",
     "output_type": "stream",
     "text": [
      "---------------------- IZVESTAJ -----------------------\n",
      "\n",
      "              precision    recall  f1-score   support\n",
      "\n",
      "           0       0.99      0.90      0.94     66326\n",
      "           1       0.50      0.90      0.64      7414\n",
      "\n",
      "    accuracy                           0.90     73740\n",
      "   macro avg       0.74      0.90      0.79     73740\n",
      "weighted avg       0.94      0.90      0.91     73740\n",
      "\n"
     ]
    }
   ],
   "source": [
    "print('---------------------- IZVESTAJ -----------------------\\n')\n",
    "print(metrics.classification_report(y_test, y_labels))"
   ]
  },
  {
   "cell_type": "markdown",
   "id": "be393549",
   "metadata": {},
   "source": [
    "Cilj je **maksimizovati odziv**, odnosno treba da bude što manji broj lažno negativnih - važnije je da se pronađu toksični komentari. Manja je šteta ako neki netoksičan bude klasifikovan kao toksičan, nego obrnuto. Preciznost za pozitivnu klasu od 0.5 je u ovom slučaju u redu, jer broj lažno pozitivnih je samo mali deo velikog broja instanci negativne klase (netoksičnih komentara)."
   ]
  },
  {
   "cell_type": "code",
   "execution_count": null,
   "id": "8ebb8eec",
   "metadata": {},
   "outputs": [],
   "source": []
  },
  {
   "cell_type": "markdown",
   "id": "0fc9a74e",
   "metadata": {},
   "source": [
    "Izdvajanje instanci na kojima model greši:"
   ]
  },
  {
   "cell_type": "code",
   "execution_count": 49,
   "id": "2b7e194e",
   "metadata": {},
   "outputs": [],
   "source": [
    "joined = pd.concat([X_test, y_test], axis=1)\n",
    "joined['predicted'] = y_labels"
   ]
  },
  {
   "cell_type": "code",
   "execution_count": 50,
   "id": "a45a78ee",
   "metadata": {},
   "outputs": [],
   "source": [
    "correct = joined[joined['target'] == joined['predicted']]\n",
    "incorrect = joined[joined['target'] != joined['predicted']]"
   ]
  },
  {
   "cell_type": "markdown",
   "id": "a0f4cab1",
   "metadata": {},
   "source": [
    "Primeri pogresno klasifikovanih komentara:"
   ]
  },
  {
   "cell_type": "code",
   "execution_count": 51,
   "id": "cd9f229b",
   "metadata": {},
   "outputs": [
    {
     "data": {
      "text/html": [
       "<div>\n",
       "<style scoped>\n",
       "    .dataframe tbody tr th:only-of-type {\n",
       "        vertical-align: middle;\n",
       "    }\n",
       "\n",
       "    .dataframe tbody tr th {\n",
       "        vertical-align: top;\n",
       "    }\n",
       "\n",
       "    .dataframe thead th {\n",
       "        text-align: right;\n",
       "    }\n",
       "</style>\n",
       "<table border=\"1\" class=\"dataframe\">\n",
       "  <thead>\n",
       "    <tr style=\"text-align: right;\">\n",
       "      <th></th>\n",
       "      <th>comment_text</th>\n",
       "      <th>target</th>\n",
       "      <th>predicted</th>\n",
       "    </tr>\n",
       "  </thead>\n",
       "  <tbody>\n",
       "    <tr>\n",
       "      <th>72935</th>\n",
       "      <td>possibly the worst ever adaptation of a comic ...</td>\n",
       "      <td>0</td>\n",
       "      <td>1</td>\n",
       "    </tr>\n",
       "    <tr>\n",
       "      <th>83588</th>\n",
       "      <td>hi  i am trying to get breasts like yours but ...</td>\n",
       "      <td>0</td>\n",
       "      <td>1</td>\n",
       "    </tr>\n",
       "    <tr>\n",
       "      <th>175061</th>\n",
       "      <td>no but the evidence told me so retard there is...</td>\n",
       "      <td>0</td>\n",
       "      <td>1</td>\n",
       "    </tr>\n",
       "    <tr>\n",
       "      <th>132027</th>\n",
       "      <td>hornswoggle joining club   hornswoggle joined ...</td>\n",
       "      <td>1</td>\n",
       "      <td>0</td>\n",
       "    </tr>\n",
       "    <tr>\n",
       "      <th>223079</th>\n",
       "      <td>i amo hes clearly a rassilon as the doctor and...</td>\n",
       "      <td>0</td>\n",
       "      <td>1</td>\n",
       "    </tr>\n",
       "  </tbody>\n",
       "</table>\n",
       "</div>"
      ],
      "text/plain": [
       "                                             comment_text  target  predicted\n",
       "72935   possibly the worst ever adaptation of a comic ...       0          1\n",
       "83588   hi  i am trying to get breasts like yours but ...       0          1\n",
       "175061  no but the evidence told me so retard there is...       0          1\n",
       "132027  hornswoggle joining club   hornswoggle joined ...       1          0\n",
       "223079  i amo hes clearly a rassilon as the doctor and...       0          1"
      ]
     },
     "execution_count": 51,
     "metadata": {},
     "output_type": "execute_result"
    }
   ],
   "source": [
    "# pogresno klasifikovane instance: \n",
    "incorrect.head()"
   ]
  },
  {
   "cell_type": "code",
   "execution_count": null,
   "id": "db3e8476",
   "metadata": {},
   "outputs": [],
   "source": []
  },
  {
   "cell_type": "code",
   "execution_count": 52,
   "id": "0bea1d15",
   "metadata": {},
   "outputs": [],
   "source": [
    "# FN -> toksicni koji su klasifikovani kao netoksicni\n",
    "FN = (incorrect['target']==1) & (incorrect['predicted']==0)\n",
    "\n",
    "# FP -> netoksicni koji su klasifikovani kao toksicni\n",
    "FP = (incorrect['target']==0) & (incorrect['predicted']==1)"
   ]
  },
  {
   "cell_type": "code",
   "execution_count": 53,
   "id": "3b4db220",
   "metadata": {},
   "outputs": [],
   "source": [
    "# incorrect[FP]['comment_text'].head()\n",
    "# incorrect[FN]['comment_text'].tail()"
   ]
  },
  {
   "cell_type": "code",
   "execution_count": 54,
   "id": "124d7db7",
   "metadata": {},
   "outputs": [
    {
     "name": "stdout",
     "output_type": "stream",
     "text": [
      "Primer lažno pozitivne instance: \n"
     ]
    },
    {
     "data": {
      "text/plain": [
       "'ok i understand  ive been a racist for a minute  talk'"
      ]
     },
     "execution_count": 54,
     "metadata": {},
     "output_type": "execute_result"
    }
   ],
   "source": [
    "indexes = incorrect[FP].index\n",
    "random_index = np.random.choice(indexes)\n",
    "\n",
    "# primer jednog nasumicnog netoksicnog koji je model obelezio kao toksican komentar\n",
    "\n",
    "print('Primer lažno pozitivne instance: ')\n",
    "incorrect[FP]['comment_text'][random_index]"
   ]
  },
  {
   "cell_type": "code",
   "execution_count": 55,
   "id": "9cf60dda",
   "metadata": {},
   "outputs": [
    {
     "name": "stdout",
     "output_type": "stream",
     "text": [
      "Primer lažno negativne instance: \n"
     ]
    },
    {
     "data": {
      "text/plain": [
       "'this and this are two examples of how ridiculous the debate has become'"
      ]
     },
     "execution_count": 55,
     "metadata": {},
     "output_type": "execute_result"
    }
   ],
   "source": [
    "# primer nasumicnog toksicnog koji je model obelezio kao netoksican\n",
    "indexes = incorrect[FN].index\n",
    "random_index = np.random.choice(indexes)\n",
    "\n",
    "print('Primer lažno negativne instance: ')\n",
    "incorrect[FN]['comment_text'][random_index]"
   ]
  },
  {
   "cell_type": "code",
   "execution_count": null,
   "id": "7a2d2708",
   "metadata": {},
   "outputs": [],
   "source": []
  },
  {
   "cell_type": "markdown",
   "id": "5ac721fc",
   "metadata": {},
   "source": [
    "U direktorijumu **plots and images/prediction_examples/** se nalaze skrinšotovi nekoliko zanimljivih izlaza prethodnih naredbi, \n",
    "na osnovu kojih se može zaključiti da model greši u slučaju greški u kucanju, u slučaju kada su reči napisane slovo po slovo sa razmacima između i slično. U slučaju lažno pozitivnih instanci - model predviđa komentar kao toksičan ako ima ružnih reči, a neki takvi komentari su ipak netoksični. Po mom mišljenju, neki od ovih komentara bi trebalo da budu toksični u originalnom skupu. \n",
    "\n",
    "Ovakvo ponašanje je očekivano, što znači da model u većini slučajeva dobro zaključuje. \n",
    "\n",
    "Ono što se može uraditi za bolja predviđanja je detaljnija priprema teksta, sređivanje komentara sa koji su pogrešno spelovani, spajanje u jednu reč ako ima nekoliko uzastopnih pojedinačnih slova sa razmacima izmeđi i slično."
   ]
  },
  {
   "cell_type": "code",
   "execution_count": null,
   "id": "51c50f3d",
   "metadata": {},
   "outputs": [],
   "source": []
  },
  {
   "cell_type": "markdown",
   "id": "87dfec3e",
   "metadata": {},
   "source": [
    "Proba na novim podacima (kratke rečenice)"
   ]
  },
  {
   "cell_type": "code",
   "execution_count": 62,
   "id": "eb15b391",
   "metadata": {},
   "outputs": [],
   "source": [
    "# nekoliko jednostavnih provera za uvredljive, obicne komentare, namerno pogresno spelovane...\n",
    "new_comments = ['fuck you bitch', \n",
    "                'fukc you', \n",
    "                'hello i have a question about something', \n",
    "                'shit head', \n",
    "                'shithead',\n",
    "                'this is a clean comment', \n",
    "                'get out of here',\n",
    "                's h i t']\n",
    "\n",
    "new = to_sequence(new_comments, 100, tokenizer)"
   ]
  },
  {
   "cell_type": "code",
   "execution_count": 63,
   "id": "d7e16792",
   "metadata": {},
   "outputs": [],
   "source": [
    "# verovatnoce pripadanja toksicnim:\n",
    "model = keras.models.load_model('models/binary_model.h5', custom_objects={\"f1_m\": f1_m})\n",
    "\n",
    "probs = model.predict(new)\n",
    "toxic_probs = {}\n",
    "i = 0\n",
    "for comment in new_comments:\n",
    "    toxic_probs[comment] = round(probs[i][0], 3)\n",
    "    i += 1"
   ]
  },
  {
   "cell_type": "code",
   "execution_count": 64,
   "id": "35e3f719",
   "metadata": {},
   "outputs": [
    {
     "name": "stdout",
     "output_type": "stream",
     "text": [
      "Verovatnoca pripadanja komentara klasi toksicnih: \n"
     ]
    },
    {
     "data": {
      "text/plain": [
       "{'fuck you bitch': 1.0,\n",
       " 'fukc you': 0.624,\n",
       " 'hello i have a question about something': 0.09,\n",
       " 'shit head': 0.997,\n",
       " 'shithead': 0.272,\n",
       " 'this is a clean comment': 0.178,\n",
       " 'get out of here': 0.396,\n",
       " 's h i t': 0.253}"
      ]
     },
     "execution_count": 64,
     "metadata": {},
     "output_type": "execute_result"
    }
   ],
   "source": [
    "print('Verovatnoca pripadanja komentara klasi toksicnih: ')\n",
    "toxic_probs"
   ]
  },
  {
   "cell_type": "markdown",
   "id": "bed61954",
   "metadata": {},
   "source": [
    "Od ovih primera, model pogrešno predviđa jedino za dva komentara koja su pogrešno napisana, pa se za njih ne može zaključiti da su u pitanju uvredljive reči. "
   ]
  },
  {
   "cell_type": "code",
   "execution_count": null,
   "id": "559a4e76",
   "metadata": {},
   "outputs": [],
   "source": []
  },
  {
   "cell_type": "markdown",
   "id": "ed71d770",
   "metadata": {},
   "source": [
    "### Čuvanje modela"
   ]
  },
  {
   "cell_type": "code",
   "execution_count": 65,
   "id": "4a9c1b8c",
   "metadata": {},
   "outputs": [],
   "source": [
    "binary_model.save('models/binary_model.h5')"
   ]
  },
  {
   "cell_type": "code",
   "execution_count": null,
   "id": "3eb8e5a1",
   "metadata": {},
   "outputs": [],
   "source": [
    "# model = keras.models.load_model('models/binary_model.h5', custom_objects={\"f1_m\": f1_m})\n",
    "# model.get_config()"
   ]
  },
  {
   "cell_type": "code",
   "execution_count": null,
   "id": "423c007c",
   "metadata": {},
   "outputs": [],
   "source": []
  },
  {
   "cell_type": "code",
   "execution_count": null,
   "id": "b34e8a3a",
   "metadata": {},
   "outputs": [],
   "source": []
  }
 ],
 "metadata": {
  "kernelspec": {
   "display_name": "Python 3 (ipykernel)",
   "language": "python",
   "name": "python3"
  },
  "language_info": {
   "codemirror_mode": {
    "name": "ipython",
    "version": 3
   },
   "file_extension": ".py",
   "mimetype": "text/x-python",
   "name": "python",
   "nbconvert_exporter": "python",
   "pygments_lexer": "ipython3",
   "version": "3.9.6"
  }
 },
 "nbformat": 4,
 "nbformat_minor": 5
}
