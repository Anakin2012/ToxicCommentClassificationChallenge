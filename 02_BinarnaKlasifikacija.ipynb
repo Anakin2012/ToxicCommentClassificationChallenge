{
 "cells": [
  {
   "cell_type": "code",
   "execution_count": 1,
   "id": "ccf4237f",
   "metadata": {},
   "outputs": [],
   "source": [
    "import pandas as pd\n",
    "import numpy as np\n",
    "from matplotlib import pyplot as plt\n",
    "\n",
    "import pickle\n",
    "import sklearn\n",
    "from sklearn.utils import class_weight\n",
    "import time\n",
    "from sklearn import metrics\n",
    "import warnings\n",
    "\n",
    "warnings.simplefilter(action='ignore', category=FutureWarning)"
   ]
  },
  {
   "cell_type": "code",
   "execution_count": 2,
   "id": "ee6c7433",
   "metadata": {},
   "outputs": [],
   "source": [
    "%run SharedFunctions.ipynb"
   ]
  },
  {
   "cell_type": "code",
   "execution_count": null,
   "id": "72e5b526",
   "metadata": {},
   "outputs": [],
   "source": []
  },
  {
   "cell_type": "markdown",
   "id": "ad2119d5",
   "metadata": {},
   "source": [
    "Učitava se prethodno pripremljen skup podataka: "
   ]
  },
  {
   "cell_type": "code",
   "execution_count": 3,
   "id": "2297f84b",
   "metadata": {},
   "outputs": [],
   "source": [
    "data = pd.read_csv('data/data_longer.csv')\n",
    "data.drop(columns=['Unnamed: 0'], inplace=True)"
   ]
  },
  {
   "cell_type": "code",
   "execution_count": 4,
   "id": "cbcc75ce",
   "metadata": {},
   "outputs": [
    {
     "data": {
      "text/plain": [
       "(223453, 9)"
      ]
     },
     "execution_count": 4,
     "metadata": {},
     "output_type": "execute_result"
    }
   ],
   "source": [
    "data.shape"
   ]
  },
  {
   "cell_type": "code",
   "execution_count": null,
   "id": "f692a602",
   "metadata": {},
   "outputs": [],
   "source": []
  },
  {
   "cell_type": "markdown",
   "id": "d7e8f9f6",
   "metadata": {},
   "source": [
    "### 1. Podela na trening, test, i validacioni skup"
   ]
  },
  {
   "cell_type": "code",
   "execution_count": 5,
   "id": "c6ea72fc",
   "metadata": {},
   "outputs": [
    {
     "data": {
      "text/plain": [
       "(127580, 63978, 31895)"
      ]
     },
     "execution_count": 5,
     "metadata": {},
     "output_type": "execute_result"
    }
   ],
   "source": [
    "# Ovo je prepisano iz prethodne sveske\n",
    "\n",
    "train_size = 159571 - 96\n",
    "test_size = 63978\n",
    "validation_size = int(0.2*train_size)\n",
    "train_size = train_size - validation_size\n",
    "\n",
    "validation_data = data[:validation_size]\n",
    "train_data = data[validation_size:train_size+validation_size]\n",
    "test_data = data[train_size+validation_size : ]\n",
    "\n",
    "train_data.shape[0], test_data.shape[0], validation_data.shape[0]"
   ]
  },
  {
   "cell_type": "code",
   "execution_count": null,
   "id": "a9c3088a",
   "metadata": {},
   "outputs": [],
   "source": []
  },
  {
   "cell_type": "code",
   "execution_count": null,
   "id": "743e2319",
   "metadata": {},
   "outputs": [],
   "source": []
  },
  {
   "cell_type": "markdown",
   "id": "23e11fc3",
   "metadata": {},
   "source": [
    "### 2. Tokenizacija I vektorizacija teksta"
   ]
  },
  {
   "cell_type": "code",
   "execution_count": 6,
   "id": "e09f6409",
   "metadata": {},
   "outputs": [],
   "source": [
    "# uzima se recimo 20000 najfrekventinijh reci\n",
    "max_features = 20000\n",
    "\n",
    "# max duzina\n",
    "max_len = 100"
   ]
  },
  {
   "cell_type": "code",
   "execution_count": 7,
   "id": "be037964",
   "metadata": {},
   "outputs": [],
   "source": [
    "word_index, tokenizer = get_vocabulary(max_features, train_data, 'tokenizer_binary.pickle')"
   ]
  },
  {
   "cell_type": "code",
   "execution_count": 8,
   "id": "f099423a",
   "metadata": {},
   "outputs": [
    {
     "name": "stdout",
     "output_type": "stream",
     "text": [
      "Broj jedinstvenih reci: 187048\n"
     ]
    }
   ],
   "source": [
    "print('Broj jedinstvenih reci:', len(word_index))"
   ]
  },
  {
   "cell_type": "code",
   "execution_count": null,
   "id": "d9e438ae",
   "metadata": {},
   "outputs": [],
   "source": []
  },
  {
   "cell_type": "markdown",
   "id": "659647e3",
   "metadata": {},
   "source": [
    "Sada pravimo skupove za trening, test i validaciju sa vektorizovanim tekstom"
   ]
  },
  {
   "cell_type": "code",
   "execution_count": 9,
   "id": "f3673a91",
   "metadata": {},
   "outputs": [],
   "source": [
    "X_train = to_sequence(train_data['comment_text'], max_len, tokenizer)\n",
    "X_test = to_sequence(test_data['comment_text'], max_len, tokenizer)\n",
    "X_validation = to_sequence(validation_data['comment_text'], max_len, tokenizer)"
   ]
  },
  {
   "cell_type": "code",
   "execution_count": 10,
   "id": "be157f6a",
   "metadata": {},
   "outputs": [
    {
     "data": {
      "text/plain": [
       "((127580, 100), (63978, 100), (31895, 100))"
      ]
     },
     "execution_count": 10,
     "metadata": {},
     "output_type": "execute_result"
    }
   ],
   "source": [
    "X_train.shape, X_test.shape, X_validation.shape"
   ]
  },
  {
   "cell_type": "code",
   "execution_count": 11,
   "id": "14432af0",
   "metadata": {},
   "outputs": [],
   "source": [
    "y_train = train_data['target']\n",
    "y_test = test_data['target']\n",
    "y_validation = validation_data['target']"
   ]
  },
  {
   "cell_type": "code",
   "execution_count": null,
   "id": "2299c50f",
   "metadata": {},
   "outputs": [],
   "source": []
  },
  {
   "cell_type": "markdown",
   "id": "c3627b57",
   "metadata": {},
   "source": [
    "Kreira se matrica ugnjezdavanja"
   ]
  },
  {
   "cell_type": "code",
   "execution_count": 12,
   "id": "87606de0",
   "metadata": {},
   "outputs": [],
   "source": [
    "embedding_matrix = create_embedding_matrix(word_index, max_len)"
   ]
  },
  {
   "cell_type": "code",
   "execution_count": 13,
   "id": "a8cfd4b0",
   "metadata": {},
   "outputs": [
    {
     "data": {
      "text/plain": [
       "array([[ 0.        ,  0.        ,  0.        , ...,  0.        ,\n",
       "         0.        ,  0.        ],\n",
       "       [-0.038194  , -0.24487001,  0.72812003, ..., -0.1459    ,\n",
       "         0.82779998,  0.27061999],\n",
       "       [-0.18970001,  0.050024  ,  0.19084001, ..., -0.39804   ,\n",
       "         0.47646999, -0.15983   ],\n",
       "       ...,\n",
       "       [-0.25132999, -0.38620001,  0.37869999, ...,  0.031966  ,\n",
       "        -0.27360001, -0.96281999],\n",
       "       [ 0.        ,  0.        ,  0.        , ...,  0.        ,\n",
       "         0.        ,  0.        ],\n",
       "       [-0.085656  , -0.22007   ,  0.75664997, ...,  0.73556   ,\n",
       "         0.65118998, -0.23041999]])"
      ]
     },
     "execution_count": 13,
     "metadata": {},
     "output_type": "execute_result"
    }
   ],
   "source": [
    "embedding_matrix"
   ]
  },
  {
   "cell_type": "markdown",
   "id": "e40017b2",
   "metadata": {},
   "source": [
    "### 3. Formiranje modela"
   ]
  },
  {
   "cell_type": "code",
   "execution_count": 14,
   "id": "95546461",
   "metadata": {},
   "outputs": [],
   "source": [
    "kernel_size = 3\n",
    "pool_size = 3\n",
    "filters = 64\n",
    "dropout_rate = 0.4"
   ]
  },
  {
   "cell_type": "code",
   "execution_count": 15,
   "id": "de90a837",
   "metadata": {},
   "outputs": [
    {
     "name": "stdout",
     "output_type": "stream",
     "text": [
      "Model: \"sequential\"\n",
      "_________________________________________________________________\n",
      "Layer (type)                 Output Shape              Param #   \n",
      "=================================================================\n",
      "embedding (Embedding)        (None, 100, 100)          2000000   \n",
      "_________________________________________________________________\n",
      "conv1d (Conv1D)              (None, 100, 64)           19264     \n",
      "_________________________________________________________________\n",
      "max_pooling1d (MaxPooling1D) (None, 33, 64)            0         \n",
      "_________________________________________________________________\n",
      "conv1d_1 (Conv1D)            (None, 33, 64)            12352     \n",
      "_________________________________________________________________\n",
      "max_pooling1d_1 (MaxPooling1 (None, 11, 64)            0         \n",
      "_________________________________________________________________\n",
      "dropout (Dropout)            (None, 11, 64)            0         \n",
      "_________________________________________________________________\n",
      "global_average_pooling1d (Gl (None, 64)                0         \n",
      "_________________________________________________________________\n",
      "dense (Dense)                (None, 1)                 65        \n",
      "=================================================================\n",
      "Total params: 2,031,681\n",
      "Trainable params: 31,681\n",
      "Non-trainable params: 2,000,000\n",
      "_________________________________________________________________\n"
     ]
    }
   ],
   "source": [
    "binary_model = create_model(num_of_classes = 2, num_of_features = max_features, embedding_dim = 100, \n",
    "                kernel_size = kernel_size, pool_size = pool_size, filters = filters, \n",
    "                dropout_rate = dropout_rate, maxlen = max_len, embedding_matrix = embedding_matrix)"
   ]
  },
  {
   "cell_type": "code",
   "execution_count": null,
   "id": "9c39f5e9",
   "metadata": {},
   "outputs": [],
   "source": []
  },
  {
   "cell_type": "code",
   "execution_count": 16,
   "id": "d0523d8f",
   "metadata": {},
   "outputs": [],
   "source": [
    "lr = 0.001\n",
    "\n",
    "binary_model.compile(loss='binary_crossentropy', optimizer=Adam(lr), metrics=[f1_m, recall_m, precision_m])"
   ]
  },
  {
   "cell_type": "code",
   "execution_count": null,
   "id": "0fb9778d",
   "metadata": {},
   "outputs": [],
   "source": []
  },
  {
   "cell_type": "markdown",
   "id": "39c289e4",
   "metadata": {},
   "source": [
    "### 4. Obučavanje modela"
   ]
  },
  {
   "cell_type": "code",
   "execution_count": 17,
   "id": "04c04077",
   "metadata": {},
   "outputs": [
    {
     "data": {
      "text/plain": [
       "{0: 0.5563210772343543, 1: 4.9388355528027255}"
      ]
     },
     "execution_count": 17,
     "metadata": {},
     "output_type": "execute_result"
    }
   ],
   "source": [
    "weights = get_weights(y_train)\n",
    "weights"
   ]
  },
  {
   "cell_type": "code",
   "execution_count": 18,
   "id": "5d5c5bb5",
   "metadata": {},
   "outputs": [],
   "source": [
    "epochs = 10\n",
    "batch_size = 128"
   ]
  },
  {
   "cell_type": "code",
   "execution_count": 19,
   "id": "969ce549",
   "metadata": {},
   "outputs": [
    {
     "name": "stdout",
     "output_type": "stream",
     "text": [
      "Epoch 1/10\n",
      "997/997 [==============================] - 28s 28ms/step - loss: 0.3524 - f1_m: 0.5770 - recall_m: 0.8398 - precision_m: 0.4605 - val_loss: 0.2605 - val_f1_m: 0.6716 - val_recall_m: 0.8564 - val_precision_m: 0.5613\n",
      "Epoch 2/10\n",
      "997/997 [==============================] - 30s 30ms/step - loss: 0.2693 - f1_m: 0.6654 - recall_m: 0.8717 - precision_m: 0.5517 - val_loss: 0.2507 - val_f1_m: 0.6804 - val_recall_m: 0.8812 - val_precision_m: 0.5627\n",
      "Epoch 3/10\n",
      "997/997 [==============================] - 29s 29ms/step - loss: 0.2488 - f1_m: 0.6789 - recall_m: 0.8797 - precision_m: 0.5661 - val_loss: 0.1751 - val_f1_m: 0.7404 - val_recall_m: 0.8183 - val_precision_m: 0.6860\n",
      "Epoch 4/10\n",
      "997/997 [==============================] - 30s 30ms/step - loss: 0.2303 - f1_m: 0.6998 - recall_m: 0.8952 - precision_m: 0.5878 - val_loss: 0.1598 - val_f1_m: 0.7553 - val_recall_m: 0.7994 - val_precision_m: 0.7265\n",
      "Epoch 5/10\n",
      "997/997 [==============================] - 29s 29ms/step - loss: 0.2173 - f1_m: 0.7141 - recall_m: 0.9055 - precision_m: 0.6025 - val_loss: 0.2432 - val_f1_m: 0.6870 - val_recall_m: 0.8943 - val_precision_m: 0.5658\n",
      "Epoch 6/10\n",
      "997/997 [==============================] - 30s 30ms/step - loss: 0.2020 - f1_m: 0.7259 - recall_m: 0.9104 - precision_m: 0.6163 - val_loss: 0.2221 - val_f1_m: 0.7055 - val_recall_m: 0.8869 - val_precision_m: 0.5940\n",
      "Epoch 7/10\n",
      "997/997 [==============================] - 30s 30ms/step - loss: 0.1901 - f1_m: 0.7385 - recall_m: 0.9191 - precision_m: 0.6293 - val_loss: 0.2060 - val_f1_m: 0.7172 - val_recall_m: 0.8760 - val_precision_m: 0.6159\n",
      "Epoch 8/10\n",
      "997/997 [==============================] - 29s 30ms/step - loss: 0.1799 - f1_m: 0.7461 - recall_m: 0.9259 - precision_m: 0.6383 - val_loss: 0.2298 - val_f1_m: 0.6996 - val_recall_m: 0.8941 - val_precision_m: 0.5834\n",
      "Epoch 9/10\n",
      "997/997 [==============================] - 29s 29ms/step - loss: 0.1713 - f1_m: 0.7586 - recall_m: 0.9321 - precision_m: 0.6529 - val_loss: 0.2371 - val_f1_m: 0.6918 - val_recall_m: 0.8938 - val_precision_m: 0.5727\n",
      "Epoch 10/10\n",
      "997/997 [==============================] - 30s 30ms/step - loss: 0.1638 - f1_m: 0.7676 - recall_m: 0.9348 - precision_m: 0.6636 - val_loss: 0.3017 - val_f1_m: 0.6486 - val_recall_m: 0.9182 - val_precision_m: 0.5092\n",
      "Trajanje obucavanja modela binarne klasifikacije:  295.63141775131226\n"
     ]
    }
   ],
   "source": [
    "start = time.time()    \n",
    "\n",
    "binary_history = binary_model.fit(X_train, y_train, batch_size=batch_size, epochs=epochs, \n",
    "                                 validation_data=(X_validation, y_validation), class_weight=weights)\n",
    "                                 #,callbacks=[early_stop]\n",
    "                                 \n",
    "print('Trajanje obucavanja modela binarne klasifikacije: ', time.time() - start)"
   ]
  },
  {
   "cell_type": "code",
   "execution_count": null,
   "id": "3d252479",
   "metadata": {},
   "outputs": [],
   "source": []
  },
  {
   "cell_type": "code",
   "execution_count": 20,
   "id": "4d39ec52",
   "metadata": {},
   "outputs": [
    {
     "data": {
      "image/png": "[encoded data removed]",
      "text/plain": [
       "<Figure size 720x360 with 2 Axes>"
      ]
     },
     "metadata": {
      "needs_background": "light"
     },
     "output_type": "display_data"
    }
   ],
   "source": [
    "plot_graphs(binary_history, ['f1_m', 'loss'])"
   ]
  },
  {
   "cell_type": "code",
   "execution_count": null,
   "id": "150acddc",
   "metadata": {},
   "outputs": [],
   "source": []
  },
  {
   "cell_type": "markdown",
   "id": "a0427b6d",
   "metadata": {},
   "source": [
    "### 5. Evaluacija modela"
   ]
  },
  {
   "cell_type": "code",
   "execution_count": 21,
   "id": "b482d9e8",
   "metadata": {},
   "outputs": [
    {
     "name": "stdout",
     "output_type": "stream",
     "text": [
      "2000/2000 [==============================] - 6s 3ms/step - loss: 0.6655 - f1_m: 0.4931 - recall_m: 0.9100 - precision_m: 0.3560A: 4s - loss: 0.6633 - f1_m: 0.4846 - recall_m: 0.9126 - pre - ETA: 3s - \n"
     ]
    }
   ],
   "source": [
    "scores = binary_model.evaluate(X_test, y_test)"
   ]
  },
  {
   "cell_type": "code",
   "execution_count": 22,
   "id": "7281cef0",
   "metadata": {},
   "outputs": [],
   "source": [
    "y_pred = binary_model.predict(X_test)"
   ]
  },
  {
   "cell_type": "code",
   "execution_count": 24,
   "id": "c18e0c0e",
   "metadata": {},
   "outputs": [],
   "source": [
    "cf = metrics.confusion_matrix(y_test, np.argmax(y_pred, axis=1))"
   ]
  },
  {
   "cell_type": "code",
   "execution_count": 27,
   "id": "2b7e194e",
   "metadata": {},
   "outputs": [
    {
     "data": {
      "image/png": "[encoded data removed]",
      "text/plain": [
       "<Figure size 288x288 with 2 Axes>"
      ]
     },
     "metadata": {
      "needs_background": "light"
     },
     "output_type": "display_data"
    }
   ],
   "source": [
    "plt.matshow(cf)\n",
    "plt.colorbar()\n",
    "plt.show()"
   ]
  },
  {
   "cell_type": "code",
   "execution_count": 28,
   "id": "f475b607",
   "metadata": {},
   "outputs": [
    {
     "name": "stdout",
     "output_type": "stream",
     "text": [
      "[[57731     0]\n",
      " [ 6247     0]]\n"
     ]
    }
   ],
   "source": [
    "print(cf)"
   ]
  },
  {
   "cell_type": "code",
   "execution_count": null,
   "id": "f02ea350",
   "metadata": {},
   "outputs": [],
   "source": []
  }
 ],
 "metadata": {
  "kernelspec": {
   "display_name": "Python 3",
   "language": "python",
   "name": "python3"
  },
  "language_info": {
   "codemirror_mode": {
    "name": "ipython",
    "version": 3
   },
   "file_extension": ".py",
   "mimetype": "text/x-python",
   "name": "python",
   "nbconvert_exporter": "python",
   "pygments_lexer": "ipython3",
   "version": "3.8.8"
  }
 },
 "nbformat": 4,
 "nbformat_minor": 5
}
