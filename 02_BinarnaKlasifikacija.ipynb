{
 "cells": [
  {
   "cell_type": "code",
   "execution_count": 1,
   "id": "ccf4237f",
   "metadata": {},
   "outputs": [],
   "source": [
    "import pandas as pd\n",
    "import numpy as np\n",
    "from matplotlib import pyplot as plt\n",
    "\n",
    "import pickle\n",
    "import sklearn\n",
    "import time\n",
    "from sklearn import metrics\n",
    "from sklearn import model_selection\n",
    "\n",
    "import warnings\n",
    "warnings.simplefilter(action='ignore', category=FutureWarning)"
   ]
  },
  {
   "cell_type": "code",
   "execution_count": 32,
   "id": "ee6c7433",
   "metadata": {},
   "outputs": [],
   "source": [
    "%run SharedFunctions.ipynb"
   ]
  },
  {
   "cell_type": "code",
   "execution_count": null,
   "id": "72e5b526",
   "metadata": {},
   "outputs": [],
   "source": []
  },
  {
   "cell_type": "markdown",
   "id": "ad2119d5",
   "metadata": {},
   "source": [
    "Učitava se prethodno pripremljen skup podataka: "
   ]
  },
  {
   "cell_type": "code",
   "execution_count": 3,
   "id": "2297f84b",
   "metadata": {},
   "outputs": [],
   "source": [
    "data = pd.read_csv('data/data_longer.csv')\n",
    "data.drop(columns=['Unnamed: 0'], inplace=True)"
   ]
  },
  {
   "cell_type": "code",
   "execution_count": 4,
   "id": "cbcc75ce",
   "metadata": {},
   "outputs": [
    {
     "data": {
      "text/plain": [
       "(223453, 9)"
      ]
     },
     "execution_count": 4,
     "metadata": {},
     "output_type": "execute_result"
    }
   ],
   "source": [
    "data.shape"
   ]
  },
  {
   "cell_type": "code",
   "execution_count": null,
   "id": "f692a602",
   "metadata": {},
   "outputs": [],
   "source": []
  },
  {
   "cell_type": "markdown",
   "id": "d7e8f9f6",
   "metadata": {},
   "source": [
    "### 1. Podela na trening, test, i validacioni skup"
   ]
  },
  {
   "cell_type": "code",
   "execution_count": 5,
   "id": "fed856a5",
   "metadata": {},
   "outputs": [],
   "source": [
    "# data.head()"
   ]
  },
  {
   "cell_type": "code",
   "execution_count": 6,
   "id": "06f321aa",
   "metadata": {},
   "outputs": [],
   "source": [
    "X = data['comment_text']\n",
    "y = data['target']"
   ]
  },
  {
   "cell_type": "code",
   "execution_count": null,
   "id": "df03e23e",
   "metadata": {},
   "outputs": [],
   "source": []
  },
  {
   "cell_type": "code",
   "execution_count": 7,
   "id": "a9c3088a",
   "metadata": {},
   "outputs": [],
   "source": [
    "X_train_validation, X_test, y_train_validation, y_test = \\\n",
    "    model_selection.train_test_split(X, y, test_size=0.33, stratify=y, random_state=7)\n",
    "\n",
    "X_train, X_validation, y_train, y_validation =\\\n",
    "    model_selection.train_test_split(X_train_validation, y_train_validation, test_size=0.2, stratify=y_train_validation, random_state=7)"
   ]
  },
  {
   "cell_type": "code",
   "execution_count": 8,
   "id": "95c8c3c1",
   "metadata": {},
   "outputs": [
    {
     "data": {
      "text/plain": [
       "((119770,), (29943,), (73740,))"
      ]
     },
     "execution_count": 8,
     "metadata": {},
     "output_type": "execute_result"
    }
   ],
   "source": [
    "X_train.shape, X_validation.shape, X_test.shape"
   ]
  },
  {
   "cell_type": "code",
   "execution_count": 9,
   "id": "04c66ac1",
   "metadata": {},
   "outputs": [
    {
     "data": {
      "text/plain": [
       "((119770,), (29943,), (73740,))"
      ]
     },
     "execution_count": 9,
     "metadata": {},
     "output_type": "execute_result"
    }
   ],
   "source": [
    "y_train.shape, y_validation.shape, y_test.shape"
   ]
  },
  {
   "cell_type": "code",
   "execution_count": null,
   "id": "743e2319",
   "metadata": {},
   "outputs": [],
   "source": []
  },
  {
   "cell_type": "markdown",
   "id": "23e11fc3",
   "metadata": {},
   "source": [
    "### 2. Tokenizacija I vektorizacija teksta"
   ]
  },
  {
   "cell_type": "code",
   "execution_count": 10,
   "id": "e09f6409",
   "metadata": {},
   "outputs": [],
   "source": [
    "# uzima se recimo 20000 najfrekventinijh reci\n",
    "max_features = 20000\n",
    "\n",
    "# max duzina\n",
    "max_len = 100"
   ]
  },
  {
   "cell_type": "code",
   "execution_count": 11,
   "id": "be037964",
   "metadata": {},
   "outputs": [],
   "source": [
    "word_index, tokenizer = get_vocabulary(max_features, X_train, 'tokenizer_binary.pickle')"
   ]
  },
  {
   "cell_type": "code",
   "execution_count": 12,
   "id": "f099423a",
   "metadata": {},
   "outputs": [
    {
     "name": "stdout",
     "output_type": "stream",
     "text": [
      "Broj jedinstvenih reci: 201164\n"
     ]
    }
   ],
   "source": [
    "print('Broj jedinstvenih reci:', len(word_index))"
   ]
  },
  {
   "cell_type": "code",
   "execution_count": null,
   "id": "d9e438ae",
   "metadata": {},
   "outputs": [],
   "source": []
  },
  {
   "cell_type": "markdown",
   "id": "659647e3",
   "metadata": {},
   "source": [
    "Sada pravimo skupove za trening, test i validaciju sa vektorizovanim tekstom"
   ]
  },
  {
   "cell_type": "code",
   "execution_count": 39,
   "id": "f3673a91",
   "metadata": {},
   "outputs": [
    {
     "ename": "AttributeError",
     "evalue": "'numpy.ndarray' object has no attribute 'lower'",
     "output_type": "error",
     "traceback": [
      "\u001b[1;31m---------------------------------------------------------------------------\u001b[0m",
      "\u001b[1;31mAttributeError\u001b[0m                            Traceback (most recent call last)",
      "\u001b[1;32m<ipython-input-39-c64522a398da>\u001b[0m in \u001b[0;36m<module>\u001b[1;34m\u001b[0m\n\u001b[1;32m----> 1\u001b[1;33m \u001b[0mX_train\u001b[0m \u001b[1;33m=\u001b[0m \u001b[0mto_sequence\u001b[0m\u001b[1;33m(\u001b[0m\u001b[0mX_train\u001b[0m\u001b[1;33m,\u001b[0m \u001b[0mmax_len\u001b[0m\u001b[1;33m,\u001b[0m \u001b[0mtokenizer\u001b[0m\u001b[1;33m)\u001b[0m\u001b[1;33m\u001b[0m\u001b[1;33m\u001b[0m\u001b[0m\n\u001b[0m\u001b[0;32m      2\u001b[0m \u001b[0mX_test\u001b[0m \u001b[1;33m=\u001b[0m \u001b[0mto_sequence\u001b[0m\u001b[1;33m(\u001b[0m\u001b[0mX_test\u001b[0m\u001b[1;33m,\u001b[0m \u001b[0mmax_len\u001b[0m\u001b[1;33m,\u001b[0m \u001b[0mtokenizer\u001b[0m\u001b[1;33m)\u001b[0m\u001b[1;33m\u001b[0m\u001b[1;33m\u001b[0m\u001b[0m\n\u001b[0;32m      3\u001b[0m \u001b[0mX_validation\u001b[0m \u001b[1;33m=\u001b[0m \u001b[0mto_sequence\u001b[0m\u001b[1;33m(\u001b[0m\u001b[0mX_validation\u001b[0m\u001b[1;33m,\u001b[0m \u001b[0mmax_len\u001b[0m\u001b[1;33m,\u001b[0m \u001b[0mtokenizer\u001b[0m\u001b[1;33m)\u001b[0m\u001b[1;33m\u001b[0m\u001b[1;33m\u001b[0m\u001b[0m\n\u001b[0;32m      4\u001b[0m \u001b[1;33m\u001b[0m\u001b[0m\n\u001b[0;32m      5\u001b[0m \u001b[0mX_train_validation\u001b[0m \u001b[1;33m=\u001b[0m \u001b[0mto_sequence\u001b[0m\u001b[1;33m(\u001b[0m\u001b[0mX_train_validation\u001b[0m\u001b[1;33m,\u001b[0m \u001b[0mmax_len\u001b[0m\u001b[1;33m,\u001b[0m \u001b[0mtokenizer\u001b[0m\u001b[1;33m)\u001b[0m\u001b[1;33m\u001b[0m\u001b[1;33m\u001b[0m\u001b[0m\n",
      "\u001b[1;32m<ipython-input-32-71976d35416c>\u001b[0m in \u001b[0;36mto_sequence\u001b[1;34m(text, maxlen, tokenizer)\u001b[0m\n\u001b[0;32m      3\u001b[0m \u001b[1;32mdef\u001b[0m \u001b[0mto_sequence\u001b[0m\u001b[1;33m(\u001b[0m\u001b[0mtext\u001b[0m\u001b[1;33m,\u001b[0m \u001b[0mmaxlen\u001b[0m\u001b[1;33m,\u001b[0m \u001b[0mtokenizer\u001b[0m\u001b[1;33m)\u001b[0m\u001b[1;33m:\u001b[0m\u001b[1;33m\u001b[0m\u001b[1;33m\u001b[0m\u001b[0m\n\u001b[0;32m      4\u001b[0m \u001b[1;33m\u001b[0m\u001b[0m\n\u001b[1;32m----> 5\u001b[1;33m     \u001b[0msequences\u001b[0m \u001b[1;33m=\u001b[0m \u001b[0mtokenizer\u001b[0m\u001b[1;33m.\u001b[0m\u001b[0mtexts_to_sequences\u001b[0m\u001b[1;33m(\u001b[0m\u001b[0mtext\u001b[0m\u001b[1;33m)\u001b[0m\u001b[1;33m\u001b[0m\u001b[1;33m\u001b[0m\u001b[0m\n\u001b[0m\u001b[0;32m      6\u001b[0m     \u001b[0mpadded\u001b[0m \u001b[1;33m=\u001b[0m \u001b[0mpreprocessing\u001b[0m\u001b[1;33m.\u001b[0m\u001b[0msequence\u001b[0m\u001b[1;33m.\u001b[0m\u001b[0mpad_sequences\u001b[0m\u001b[1;33m(\u001b[0m\u001b[0msequences\u001b[0m\u001b[1;33m,\u001b[0m \u001b[0mmaxlen\u001b[0m\u001b[1;33m=\u001b[0m\u001b[0mmaxlen\u001b[0m\u001b[1;33m)\u001b[0m\u001b[1;33m\u001b[0m\u001b[1;33m\u001b[0m\u001b[0m\n\u001b[0;32m      7\u001b[0m \u001b[1;33m\u001b[0m\u001b[0m\n",
      "\u001b[1;32mC:\\ProgramData\\Anaconda3\\lib\\site-packages\\keras_preprocessing\\text.py\u001b[0m in \u001b[0;36mtexts_to_sequences\u001b[1;34m(self, texts)\u001b[0m\n\u001b[0;32m    279\u001b[0m             \u001b[0mA\u001b[0m \u001b[0mlist\u001b[0m \u001b[0mof\u001b[0m \u001b[0msequences\u001b[0m\u001b[1;33m.\u001b[0m\u001b[1;33m\u001b[0m\u001b[1;33m\u001b[0m\u001b[0m\n\u001b[0;32m    280\u001b[0m         \"\"\"\n\u001b[1;32m--> 281\u001b[1;33m         \u001b[1;32mreturn\u001b[0m \u001b[0mlist\u001b[0m\u001b[1;33m(\u001b[0m\u001b[0mself\u001b[0m\u001b[1;33m.\u001b[0m\u001b[0mtexts_to_sequences_generator\u001b[0m\u001b[1;33m(\u001b[0m\u001b[0mtexts\u001b[0m\u001b[1;33m)\u001b[0m\u001b[1;33m)\u001b[0m\u001b[1;33m\u001b[0m\u001b[1;33m\u001b[0m\u001b[0m\n\u001b[0m\u001b[0;32m    282\u001b[0m \u001b[1;33m\u001b[0m\u001b[0m\n\u001b[0;32m    283\u001b[0m     \u001b[1;32mdef\u001b[0m \u001b[0mtexts_to_sequences_generator\u001b[0m\u001b[1;33m(\u001b[0m\u001b[0mself\u001b[0m\u001b[1;33m,\u001b[0m \u001b[0mtexts\u001b[0m\u001b[1;33m)\u001b[0m\u001b[1;33m:\u001b[0m\u001b[1;33m\u001b[0m\u001b[1;33m\u001b[0m\u001b[0m\n",
      "\u001b[1;32mC:\\ProgramData\\Anaconda3\\lib\\site-packages\\keras_preprocessing\\text.py\u001b[0m in \u001b[0;36mtexts_to_sequences_generator\u001b[1;34m(self, texts)\u001b[0m\n\u001b[0;32m    307\u001b[0m                 \u001b[0mseq\u001b[0m \u001b[1;33m=\u001b[0m \u001b[0mtext\u001b[0m\u001b[1;33m\u001b[0m\u001b[1;33m\u001b[0m\u001b[0m\n\u001b[0;32m    308\u001b[0m             \u001b[1;32melse\u001b[0m\u001b[1;33m:\u001b[0m\u001b[1;33m\u001b[0m\u001b[1;33m\u001b[0m\u001b[0m\n\u001b[1;32m--> 309\u001b[1;33m                 seq = text_to_word_sequence(text,\n\u001b[0m\u001b[0;32m    310\u001b[0m                                             \u001b[0mself\u001b[0m\u001b[1;33m.\u001b[0m\u001b[0mfilters\u001b[0m\u001b[1;33m,\u001b[0m\u001b[1;33m\u001b[0m\u001b[1;33m\u001b[0m\u001b[0m\n\u001b[0;32m    311\u001b[0m                                             \u001b[0mself\u001b[0m\u001b[1;33m.\u001b[0m\u001b[0mlower\u001b[0m\u001b[1;33m,\u001b[0m\u001b[1;33m\u001b[0m\u001b[1;33m\u001b[0m\u001b[0m\n",
      "\u001b[1;32mC:\\ProgramData\\Anaconda3\\lib\\site-packages\\keras_preprocessing\\text.py\u001b[0m in \u001b[0;36mtext_to_word_sequence\u001b[1;34m(text, filters, lower, split)\u001b[0m\n\u001b[0;32m     41\u001b[0m     \"\"\"\n\u001b[0;32m     42\u001b[0m     \u001b[1;32mif\u001b[0m \u001b[0mlower\u001b[0m\u001b[1;33m:\u001b[0m\u001b[1;33m\u001b[0m\u001b[1;33m\u001b[0m\u001b[0m\n\u001b[1;32m---> 43\u001b[1;33m         \u001b[0mtext\u001b[0m \u001b[1;33m=\u001b[0m \u001b[0mtext\u001b[0m\u001b[1;33m.\u001b[0m\u001b[0mlower\u001b[0m\u001b[1;33m(\u001b[0m\u001b[1;33m)\u001b[0m\u001b[1;33m\u001b[0m\u001b[1;33m\u001b[0m\u001b[0m\n\u001b[0m\u001b[0;32m     44\u001b[0m \u001b[1;33m\u001b[0m\u001b[0m\n\u001b[0;32m     45\u001b[0m     \u001b[1;32mif\u001b[0m \u001b[0msys\u001b[0m\u001b[1;33m.\u001b[0m\u001b[0mversion_info\u001b[0m \u001b[1;33m<\u001b[0m \u001b[1;33m(\u001b[0m\u001b[1;36m3\u001b[0m\u001b[1;33m,\u001b[0m\u001b[1;33m)\u001b[0m\u001b[1;33m:\u001b[0m\u001b[1;33m\u001b[0m\u001b[1;33m\u001b[0m\u001b[0m\n",
      "\u001b[1;31mAttributeError\u001b[0m: 'numpy.ndarray' object has no attribute 'lower'"
     ]
    }
   ],
   "source": [
    "X_train = to_sequence(X_train, max_len, tokenizer)\n",
    "X_test = to_sequence(X_test, max_len, tokenizer)\n",
    "X_validation = to_sequence(X_validation, max_len, tokenizer)"
   ]
  },
  {
   "cell_type": "code",
   "execution_count": 14,
   "id": "be157f6a",
   "metadata": {},
   "outputs": [
    {
     "data": {
      "text/plain": [
       "((119770, 100), (73740, 100), (29943, 100))"
      ]
     },
     "execution_count": 14,
     "metadata": {},
     "output_type": "execute_result"
    }
   ],
   "source": [
    "X_train.shape, X_test.shape, X_validation.shape"
   ]
  },
  {
   "cell_type": "code",
   "execution_count": 40,
   "id": "2299c50f",
   "metadata": {},
   "outputs": [],
   "source": [
    "X_train_validation = to_sequence(X_train_validation, max_len, tokenizer)"
   ]
  },
  {
   "cell_type": "markdown",
   "id": "c3627b57",
   "metadata": {},
   "source": [
    "Kreira se matrica ugnjezdavanja"
   ]
  },
  {
   "cell_type": "code",
   "execution_count": 15,
   "id": "87606de0",
   "metadata": {},
   "outputs": [],
   "source": [
    "embedding_matrix = create_embedding_matrix(word_index, max_len)"
   ]
  },
  {
   "cell_type": "code",
   "execution_count": null,
   "id": "a8cfd4b0",
   "metadata": {},
   "outputs": [],
   "source": []
  },
  {
   "cell_type": "markdown",
   "id": "af8a28dc",
   "metadata": {},
   "source": [
    "### 3. Selekcija i evaluacija modela"
   ]
  },
  {
   "cell_type": "code",
   "execution_count": null,
   "id": "077503d6",
   "metadata": {},
   "outputs": [],
   "source": [
    "# Posto su klasa nebalansirane, potrebno je dodeliti im tezine\n",
    "# tako da se vise kaznjava pogresna klasifikacija manjinske klase\n",
    "\n",
    "weights = get_weights(y_train)\n",
    "# TODO da li ovde treba train and validation\n",
    "\n",
    "# tezinu za klasu 1 podesavamo rucno jer se ispostavlja da\n",
    "# bolje klasifikuje TP instance ako nije bas tacna proporcija\n",
    "weights[1] = 3.5\n",
    "weights"
   ]
  },
  {
   "cell_type": "markdown",
   "id": "56b46f5a",
   "metadata": {},
   "source": [
    "Za podešavanje hiperparametara koristiće se randomizovana unakrsna validacija i keras wrapper "
   ]
  },
  {
   "cell_type": "code",
   "execution_count": 55,
   "id": "ebefe9e8",
   "metadata": {},
   "outputs": [],
   "source": [
    "# recnik parametara koje prima funkcija za kreiranje modela\n",
    "params = {'num_of_classes' : [2],\n",
    "          'num_of_features' : [20000],\n",
    "          'embedding_dim' : [100],\n",
    "          'kernel_size' : [3, 5, 7],\n",
    "          'pool_size' : [3, 5],\n",
    "          'filters' : [32, 64, 128],\n",
    "          'dropout_rate' : [0.2, 0.3],\n",
    "          'maxlen' : [50, 100, 200],\n",
    "          'lr' : [0.00001, 0.0001, 0.001],\n",
    "          'embedding_matrix' : [embedding_matrix]\n",
    "          }\n",
    "    \n",
    "\n",
    "model_random = KerasClassifier(build_fn = create_model, epochs=10, batch_size=128, verbose=True)\n",
    "\n",
    "randomized_cv = RandomizedSearchCV(estimator=model_random, param_distributions=params, cv=3, verbose=1, n_iter=2)"
   ]
  },
  {
   "cell_type": "code",
   "execution_count": 56,
   "id": "231738c6",
   "metadata": {},
   "outputs": [
    {
     "name": "stdout",
     "output_type": "stream",
     "text": [
      "Fitting 3 folds for each of 2 candidates, totalling 6 fits\n",
      "Model: \"sequential_45\"\n",
      "_________________________________________________________________\n",
      "Layer (type)                 Output Shape              Param #   \n",
      "=================================================================\n",
      "embedding_45 (Embedding)     (None, 100, 100)          2000000   \n",
      "_________________________________________________________________\n",
      "conv1d_90 (Conv1D)           (None, 100, 64)           44864     \n",
      "_________________________________________________________________\n",
      "max_pooling1d_90 (MaxPooling (None, 33, 64)            0         \n",
      "_________________________________________________________________\n",
      "conv1d_91 (Conv1D)           (None, 33, 64)            28736     \n",
      "_________________________________________________________________\n",
      "max_pooling1d_91 (MaxPooling (None, 11, 64)            0         \n",
      "_________________________________________________________________\n",
      "dropout_45 (Dropout)         (None, 11, 64)            0         \n",
      "_________________________________________________________________\n",
      "global_average_pooling1d_45  (None, 64)                0         \n",
      "_________________________________________________________________\n",
      "flatten_45 (Flatten)         (None, 64)                0         \n",
      "_________________________________________________________________\n",
      "dense_45 (Dense)             (None, 1)                 65        \n",
      "=================================================================\n",
      "Total params: 2,073,665\n",
      "Trainable params: 73,665\n",
      "Non-trainable params: 2,000,000\n",
      "_________________________________________________________________\n",
      "Epoch 1/10\n",
      "780/780 [==============================] - 48s 61ms/step - loss: 0.5427 - accuracy: 0.8071\n",
      "Epoch 2/10\n",
      "780/780 [==============================] - 43s 55ms/step - loss: 0.4854 - accuracy: 0.8006\n",
      "Epoch 3/10\n",
      "780/780 [==============================] - 39s 51ms/step - loss: 0.4431 - accuracy: 0.8008\n",
      "Epoch 4/10\n",
      "780/780 [==============================] - 40s 52ms/step - loss: 0.4166 - accuracy: 0.8203\n",
      "Epoch 5/10\n",
      "780/780 [==============================] - 38s 49ms/step - loss: 0.3973 - accuracy: 0.8353\n",
      "Epoch 6/10\n",
      "780/780 [==============================] - 39s 50ms/step - loss: 0.3833 - accuracy: 0.8464\n",
      "Epoch 7/10\n",
      "780/780 [==============================] - 40s 51ms/step - loss: 0.3728 - accuracy: 0.8535\n",
      "Epoch 8/10\n",
      "780/780 [==============================] - 41s 52ms/step - loss: 0.3641 - accuracy: 0.8584\n",
      "Epoch 9/10\n",
      "780/780 [==============================] - 44s 56ms/step - loss: 0.3570 - accuracy: 0.8606\n",
      "Epoch 10/10\n",
      "780/780 [==============================] - 41s 53ms/step - loss: 0.3512 - accuracy: 0.8628\n",
      "390/390 [==============================] - 6s 16ms/step - loss: 0.3605 - accuracy: 0.8707\n",
      "Model: \"sequential_46\"\n",
      "_________________________________________________________________\n",
      "Layer (type)                 Output Shape              Param #   \n",
      "=================================================================\n",
      "embedding_46 (Embedding)     (None, 100, 100)          2000000   \n",
      "_________________________________________________________________\n",
      "conv1d_92 (Conv1D)           (None, 100, 64)           44864     \n",
      "_________________________________________________________________\n",
      "max_pooling1d_92 (MaxPooling (None, 33, 64)            0         \n",
      "_________________________________________________________________\n",
      "conv1d_93 (Conv1D)           (None, 33, 64)            28736     \n",
      "_________________________________________________________________\n",
      "max_pooling1d_93 (MaxPooling (None, 11, 64)            0         \n",
      "_________________________________________________________________\n",
      "dropout_46 (Dropout)         (None, 11, 64)            0         \n",
      "_________________________________________________________________\n",
      "global_average_pooling1d_46  (None, 64)                0         \n",
      "_________________________________________________________________\n",
      "flatten_46 (Flatten)         (None, 64)                0         \n",
      "_________________________________________________________________\n",
      "dense_46 (Dense)             (None, 1)                 65        \n",
      "=================================================================\n",
      "Total params: 2,073,665\n",
      "Trainable params: 73,665\n",
      "Non-trainable params: 2,000,000\n",
      "_________________________________________________________________\n",
      "Epoch 1/10\n",
      "780/780 [==============================] - 41s 53ms/step - loss: 0.5318 - accuracy: 0.8407\n",
      "Epoch 2/10\n",
      "780/780 [==============================] - 43s 55ms/step - loss: 0.4752 - accuracy: 0.7931\n",
      "Epoch 3/10\n",
      "780/780 [==============================] - 45s 58ms/step - loss: 0.4404 - accuracy: 0.7985\n",
      "Epoch 4/10\n",
      "780/780 [==============================] - 44s 57ms/step - loss: 0.4166 - accuracy: 0.8192\n",
      "Epoch 5/10\n",
      "780/780 [==============================] - 44s 56ms/step - loss: 0.3991 - accuracy: 0.8358\n",
      "Epoch 6/10\n",
      "780/780 [==============================] - 45s 57ms/step - loss: 0.3854 - accuracy: 0.8478\n",
      "Epoch 7/10\n",
      "780/780 [==============================] - 72s 92ms/step - loss: 0.3742 - accuracy: 0.8566\n",
      "Epoch 8/10\n",
      "780/780 [==============================] - 44s 57ms/step - loss: 0.3653 - accuracy: 0.8626\n",
      "Epoch 9/10\n",
      "780/780 [==============================] - 43s 55ms/step - loss: 0.3588 - accuracy: 0.8655\n",
      "Epoch 10/10\n",
      "780/780 [==============================] - 43s 55ms/step - loss: 0.3522 - accuracy: 0.8689\n",
      "390/390 [==============================] - 7s 18ms/step - loss: 0.3377 - accuracy: 0.8846\n",
      "Model: \"sequential_47\"\n",
      "_________________________________________________________________\n",
      "Layer (type)                 Output Shape              Param #   \n",
      "=================================================================\n",
      "embedding_47 (Embedding)     (None, 100, 100)          2000000   \n",
      "_________________________________________________________________\n",
      "conv1d_94 (Conv1D)           (None, 100, 64)           44864     \n",
      "_________________________________________________________________\n",
      "max_pooling1d_94 (MaxPooling (None, 33, 64)            0         \n",
      "_________________________________________________________________\n",
      "conv1d_95 (Conv1D)           (None, 33, 64)            28736     \n",
      "_________________________________________________________________\n",
      "max_pooling1d_95 (MaxPooling (None, 11, 64)            0         \n",
      "_________________________________________________________________\n",
      "dropout_47 (Dropout)         (None, 11, 64)            0         \n",
      "_________________________________________________________________\n",
      "global_average_pooling1d_47  (None, 64)                0         \n",
      "_________________________________________________________________\n",
      "flatten_47 (Flatten)         (None, 64)                0         \n",
      "_________________________________________________________________\n",
      "dense_47 (Dense)             (None, 1)                 65        \n",
      "=================================================================\n",
      "Total params: 2,073,665\n",
      "Trainable params: 73,665\n",
      "Non-trainable params: 2,000,000\n",
      "_________________________________________________________________\n",
      "Epoch 1/10\n",
      "780/780 [==============================] - 45s 57ms/step - loss: 0.5378 - accuracy: 0.8573\n",
      "Epoch 2/10\n",
      "780/780 [==============================] - 66s 84ms/step - loss: 0.4770 - accuracy: 0.8205\n",
      "Epoch 3/10\n",
      "780/780 [==============================] - 44s 56ms/step - loss: 0.4361 - accuracy: 0.8156\n",
      "Epoch 4/10\n",
      "780/780 [==============================] - 41s 53ms/step - loss: 0.4102 - accuracy: 0.8334\n",
      "Epoch 5/10\n",
      "780/780 [==============================] - 41s 53ms/step - loss: 0.3921 - accuracy: 0.8460\n",
      "Epoch 6/10\n",
      "780/780 [==============================] - 41s 52ms/step - loss: 0.3785 - accuracy: 0.8550\n",
      "Epoch 7/10\n",
      "780/780 [==============================] - 42s 54ms/step - loss: 0.3678 - accuracy: 0.8605\n",
      "Epoch 8/10\n",
      "780/780 [==============================] - 70s 90ms/step - loss: 0.3600 - accuracy: 0.8636\n",
      "Epoch 9/10\n",
      "780/780 [==============================] - 51s 66ms/step - loss: 0.3534 - accuracy: 0.8677\n",
      "Epoch 10/10\n",
      "780/780 [==============================] - 36s 46ms/step - loss: 0.3472 - accuracy: 0.8710\n",
      "390/390 [==============================] - 6s 15ms/step - loss: 0.3532 - accuracy: 0.8716\n",
      "Model: \"sequential_48\"\n",
      "_________________________________________________________________\n",
      "Layer (type)                 Output Shape              Param #   \n",
      "=================================================================\n",
      "embedding_48 (Embedding)     (None, 100, 100)          2000000   \n",
      "_________________________________________________________________\n",
      "conv1d_96 (Conv1D)           (None, 100, 32)           9632      \n",
      "_________________________________________________________________\n",
      "max_pooling1d_96 (MaxPooling (None, 33, 32)            0         \n",
      "_________________________________________________________________\n",
      "conv1d_97 (Conv1D)           (None, 33, 32)            3104      \n",
      "_________________________________________________________________\n"
     ]
    },
    {
     "name": "stdout",
     "output_type": "stream",
     "text": [
      "max_pooling1d_97 (MaxPooling (None, 11, 32)            0         \n",
      "_________________________________________________________________\n",
      "dropout_48 (Dropout)         (None, 11, 32)            0         \n",
      "_________________________________________________________________\n",
      "global_average_pooling1d_48  (None, 32)                0         \n",
      "_________________________________________________________________\n",
      "flatten_48 (Flatten)         (None, 32)                0         \n",
      "_________________________________________________________________\n",
      "dense_48 (Dense)             (None, 1)                 33        \n",
      "=================================================================\n",
      "Total params: 2,012,769\n",
      "Trainable params: 12,769\n",
      "Non-trainable params: 2,000,000\n",
      "_________________________________________________________________\n",
      "Epoch 1/10\n",
      "780/780 [==============================] - 16s 20ms/step - loss: 0.5740 - accuracy: 0.7529\n",
      "Epoch 2/10\n",
      "780/780 [==============================] - 16s 20ms/step - loss: 0.5462 - accuracy: 0.8876\n",
      "Epoch 3/10\n",
      "780/780 [==============================] - 16s 20ms/step - loss: 0.5281 - accuracy: 0.8736\n",
      "Epoch 4/10\n",
      "780/780 [==============================] - 16s 21ms/step - loss: 0.5102 - accuracy: 0.8470\n",
      "Epoch 5/10\n",
      "780/780 [==============================] - 17s 22ms/step - loss: 0.4937 - accuracy: 0.8236\n",
      "Epoch 6/10\n",
      "780/780 [==============================] - 19s 25ms/step - loss: 0.4790 - accuracy: 0.8083\n",
      "Epoch 7/10\n",
      "780/780 [==============================] - 24s 31ms/step - loss: 0.4659 - accuracy: 0.8011\n",
      "Epoch 8/10\n",
      "780/780 [==============================] - 23s 29ms/step - loss: 0.4543 - accuracy: 0.7996\n",
      "Epoch 9/10\n",
      "780/780 [==============================] - 18s 24ms/step - loss: 0.4431 - accuracy: 0.8074\n",
      "Epoch 10/10\n",
      "780/780 [==============================] - 18s 23ms/step - loss: 0.4334 - accuracy: 0.8128\n",
      "390/390 [==============================] - 3s 7ms/step - loss: 0.4326 - accuracy: 0.8319\n",
      "Model: \"sequential_49\"\n",
      "_________________________________________________________________\n",
      "Layer (type)                 Output Shape              Param #   \n",
      "=================================================================\n",
      "embedding_49 (Embedding)     (None, 100, 100)          2000000   \n",
      "_________________________________________________________________\n",
      "conv1d_98 (Conv1D)           (None, 100, 32)           9632      \n",
      "_________________________________________________________________\n",
      "max_pooling1d_98 (MaxPooling (None, 33, 32)            0         \n",
      "_________________________________________________________________\n",
      "conv1d_99 (Conv1D)           (None, 33, 32)            3104      \n",
      "_________________________________________________________________\n",
      "max_pooling1d_99 (MaxPooling (None, 11, 32)            0         \n",
      "_________________________________________________________________\n",
      "dropout_49 (Dropout)         (None, 11, 32)            0         \n",
      "_________________________________________________________________\n",
      "global_average_pooling1d_49  (None, 32)                0         \n",
      "_________________________________________________________________\n",
      "flatten_49 (Flatten)         (None, 32)                0         \n",
      "_________________________________________________________________\n",
      "dense_49 (Dense)             (None, 1)                 33        \n",
      "=================================================================\n",
      "Total params: 2,012,769\n",
      "Trainable params: 12,769\n",
      "Non-trainable params: 2,000,000\n",
      "_________________________________________________________________\n",
      "Epoch 1/10\n",
      "780/780 [==============================] - 15s 20ms/step - loss: 0.6047 - accuracy: 0.4085\n",
      "Epoch 2/10\n",
      "780/780 [==============================] - 16s 20ms/step - loss: 0.5471 - accuracy: 0.8842\n",
      "Epoch 3/10\n",
      "780/780 [==============================] - 16s 21ms/step - loss: 0.5300 - accuracy: 0.8861\n",
      "Epoch 4/10\n",
      "780/780 [==============================] - 17s 22ms/step - loss: 0.5113 - accuracy: 0.8740\n",
      "Epoch 5/10\n",
      "780/780 [==============================] - 18s 24ms/step - loss: 0.4906 - accuracy: 0.8573\n",
      "Epoch 6/10\n",
      "780/780 [==============================] - 16s 21ms/step - loss: 0.4724 - accuracy: 0.8406\n",
      "Epoch 7/10\n",
      "780/780 [==============================] - 16s 21ms/step - loss: 0.4571 - accuracy: 0.8330\n",
      "Epoch 8/10\n",
      "780/780 [==============================] - 16s 21ms/step - loss: 0.4422 - accuracy: 0.8313\n",
      "Epoch 9/10\n",
      "780/780 [==============================] - 17s 22ms/step - loss: 0.4301 - accuracy: 0.8322\n",
      "Epoch 10/10\n",
      "780/780 [==============================] - 21s 27ms/step - loss: 0.4199 - accuracy: 0.8352\n",
      "390/390 [==============================] - 4s 11ms/step - loss: 0.4293 - accuracy: 0.8445\n",
      "Model: \"sequential_50\"\n",
      "_________________________________________________________________\n",
      "Layer (type)                 Output Shape              Param #   \n",
      "=================================================================\n",
      "embedding_50 (Embedding)     (None, 100, 100)          2000000   \n",
      "_________________________________________________________________\n",
      "conv1d_100 (Conv1D)          (None, 100, 32)           9632      \n",
      "_________________________________________________________________\n",
      "max_pooling1d_100 (MaxPoolin (None, 33, 32)            0         \n",
      "_________________________________________________________________\n",
      "conv1d_101 (Conv1D)          (None, 33, 32)            3104      \n",
      "_________________________________________________________________\n",
      "max_pooling1d_101 (MaxPoolin (None, 11, 32)            0         \n",
      "_________________________________________________________________\n",
      "dropout_50 (Dropout)         (None, 11, 32)            0         \n",
      "_________________________________________________________________\n",
      "global_average_pooling1d_50  (None, 32)                0         \n",
      "_________________________________________________________________\n",
      "flatten_50 (Flatten)         (None, 32)                0         \n",
      "_________________________________________________________________\n",
      "dense_50 (Dense)             (None, 1)                 33        \n",
      "=================================================================\n",
      "Total params: 2,012,769\n",
      "Trainable params: 12,769\n",
      "Non-trainable params: 2,000,000\n",
      "_________________________________________________________________\n",
      "Epoch 1/10\n",
      "780/780 [==============================] - 30s 39ms/step - loss: 0.5620 - accuracy: 0.8691\n",
      "Epoch 2/10\n",
      "780/780 [==============================] - 32s 41ms/step - loss: 0.5421 - accuracy: 0.8856\n",
      "Epoch 3/10\n",
      "780/780 [==============================] - 19s 25ms/step - loss: 0.5247 - accuracy: 0.8646\n",
      "Epoch 4/10\n",
      "780/780 [==============================] - 16s 21ms/step - loss: 0.5056 - accuracy: 0.8463\n",
      "Epoch 5/10\n",
      "780/780 [==============================] - 16s 21ms/step - loss: 0.4900 - accuracy: 0.8224\n",
      "Epoch 6/10\n",
      "780/780 [==============================] - 16s 21ms/step - loss: 0.4753 - accuracy: 0.8170\n",
      "Epoch 7/10\n",
      "780/780 [==============================] - 17s 22ms/step - loss: 0.4638 - accuracy: 0.8110\n",
      "Epoch 8/10\n",
      "780/780 [==============================] - 18s 23ms/step - loss: 0.4533 - accuracy: 0.8137\n",
      "Epoch 9/10\n",
      "780/780 [==============================] - 17s 22ms/step - loss: 0.4436 - accuracy: 0.8164\n",
      "Epoch 10/10\n",
      "780/780 [==============================] - 17s 22ms/step - loss: 0.4351 - accuracy: 0.8197\n",
      "390/390 [==============================] - 3s 8ms/step - loss: 0.4309 - accuracy: 0.8322\n"
     ]
    },
    {
     "ename": "RuntimeError",
     "evalue": "Cannot clone object <tensorflow.python.keras.wrappers.scikit_learn.KerasClassifier object at 0x000001AF15EAF790>, as the constructor either does not set or modifies parameter embedding_matrix",
     "output_type": "error",
     "traceback": [
      "\u001b[1;31m---------------------------------------------------------------------------\u001b[0m",
      "\u001b[1;31mRuntimeError\u001b[0m                              Traceback (most recent call last)",
      "\u001b[1;32m<ipython-input-56-51f9e77f6fbc>\u001b[0m in \u001b[0;36m<module>\u001b[1;34m\u001b[0m\n\u001b[1;32m----> 1\u001b[1;33m \u001b[0mrandomized_cv\u001b[0m\u001b[1;33m.\u001b[0m\u001b[0mfit\u001b[0m\u001b[1;33m(\u001b[0m\u001b[0mX_train_validation\u001b[0m\u001b[1;33m,\u001b[0m \u001b[0my_train_validation\u001b[0m\u001b[1;33m,\u001b[0m \u001b[0mclass_weight\u001b[0m\u001b[1;33m=\u001b[0m\u001b[0mweights\u001b[0m\u001b[1;33m)\u001b[0m\u001b[1;33m\u001b[0m\u001b[1;33m\u001b[0m\u001b[0m\n\u001b[0m",
      "\u001b[1;32mC:\\ProgramData\\Anaconda3\\lib\\site-packages\\sklearn\\utils\\validation.py\u001b[0m in \u001b[0;36minner_f\u001b[1;34m(*args, **kwargs)\u001b[0m\n\u001b[0;32m     61\u001b[0m             \u001b[0mextra_args\u001b[0m \u001b[1;33m=\u001b[0m \u001b[0mlen\u001b[0m\u001b[1;33m(\u001b[0m\u001b[0margs\u001b[0m\u001b[1;33m)\u001b[0m \u001b[1;33m-\u001b[0m \u001b[0mlen\u001b[0m\u001b[1;33m(\u001b[0m\u001b[0mall_args\u001b[0m\u001b[1;33m)\u001b[0m\u001b[1;33m\u001b[0m\u001b[1;33m\u001b[0m\u001b[0m\n\u001b[0;32m     62\u001b[0m             \u001b[1;32mif\u001b[0m \u001b[0mextra_args\u001b[0m \u001b[1;33m<=\u001b[0m \u001b[1;36m0\u001b[0m\u001b[1;33m:\u001b[0m\u001b[1;33m\u001b[0m\u001b[1;33m\u001b[0m\u001b[0m\n\u001b[1;32m---> 63\u001b[1;33m                 \u001b[1;32mreturn\u001b[0m \u001b[0mf\u001b[0m\u001b[1;33m(\u001b[0m\u001b[1;33m*\u001b[0m\u001b[0margs\u001b[0m\u001b[1;33m,\u001b[0m \u001b[1;33m**\u001b[0m\u001b[0mkwargs\u001b[0m\u001b[1;33m)\u001b[0m\u001b[1;33m\u001b[0m\u001b[1;33m\u001b[0m\u001b[0m\n\u001b[0m\u001b[0;32m     64\u001b[0m \u001b[1;33m\u001b[0m\u001b[0m\n\u001b[0;32m     65\u001b[0m             \u001b[1;31m# extra_args > 0\u001b[0m\u001b[1;33m\u001b[0m\u001b[1;33m\u001b[0m\u001b[1;33m\u001b[0m\u001b[0m\n",
      "\u001b[1;32mC:\\ProgramData\\Anaconda3\\lib\\site-packages\\sklearn\\model_selection\\_search.py\u001b[0m in \u001b[0;36mfit\u001b[1;34m(self, X, y, groups, **fit_params)\u001b[0m\n\u001b[0;32m    874\u001b[0m             \u001b[1;31m# we clone again after setting params in case some\u001b[0m\u001b[1;33m\u001b[0m\u001b[1;33m\u001b[0m\u001b[1;33m\u001b[0m\u001b[0m\n\u001b[0;32m    875\u001b[0m             \u001b[1;31m# of the params are estimators as well.\u001b[0m\u001b[1;33m\u001b[0m\u001b[1;33m\u001b[0m\u001b[1;33m\u001b[0m\u001b[0m\n\u001b[1;32m--> 876\u001b[1;33m             self.best_estimator_ = clone(clone(base_estimator).set_params(\n\u001b[0m\u001b[0;32m    877\u001b[0m                 **self.best_params_))\n\u001b[0;32m    878\u001b[0m             \u001b[0mrefit_start_time\u001b[0m \u001b[1;33m=\u001b[0m \u001b[0mtime\u001b[0m\u001b[1;33m.\u001b[0m\u001b[0mtime\u001b[0m\u001b[1;33m(\u001b[0m\u001b[1;33m)\u001b[0m\u001b[1;33m\u001b[0m\u001b[1;33m\u001b[0m\u001b[0m\n",
      "\u001b[1;32mC:\\ProgramData\\Anaconda3\\lib\\site-packages\\sklearn\\utils\\validation.py\u001b[0m in \u001b[0;36minner_f\u001b[1;34m(*args, **kwargs)\u001b[0m\n\u001b[0;32m     61\u001b[0m             \u001b[0mextra_args\u001b[0m \u001b[1;33m=\u001b[0m \u001b[0mlen\u001b[0m\u001b[1;33m(\u001b[0m\u001b[0margs\u001b[0m\u001b[1;33m)\u001b[0m \u001b[1;33m-\u001b[0m \u001b[0mlen\u001b[0m\u001b[1;33m(\u001b[0m\u001b[0mall_args\u001b[0m\u001b[1;33m)\u001b[0m\u001b[1;33m\u001b[0m\u001b[1;33m\u001b[0m\u001b[0m\n\u001b[0;32m     62\u001b[0m             \u001b[1;32mif\u001b[0m \u001b[0mextra_args\u001b[0m \u001b[1;33m<=\u001b[0m \u001b[1;36m0\u001b[0m\u001b[1;33m:\u001b[0m\u001b[1;33m\u001b[0m\u001b[1;33m\u001b[0m\u001b[0m\n\u001b[1;32m---> 63\u001b[1;33m                 \u001b[1;32mreturn\u001b[0m \u001b[0mf\u001b[0m\u001b[1;33m(\u001b[0m\u001b[1;33m*\u001b[0m\u001b[0margs\u001b[0m\u001b[1;33m,\u001b[0m \u001b[1;33m**\u001b[0m\u001b[0mkwargs\u001b[0m\u001b[1;33m)\u001b[0m\u001b[1;33m\u001b[0m\u001b[1;33m\u001b[0m\u001b[0m\n\u001b[0m\u001b[0;32m     64\u001b[0m \u001b[1;33m\u001b[0m\u001b[0m\n\u001b[0;32m     65\u001b[0m             \u001b[1;31m# extra_args > 0\u001b[0m\u001b[1;33m\u001b[0m\u001b[1;33m\u001b[0m\u001b[1;33m\u001b[0m\u001b[0m\n",
      "\u001b[1;32mC:\\ProgramData\\Anaconda3\\lib\\site-packages\\sklearn\\base.py\u001b[0m in \u001b[0;36mclone\u001b[1;34m(estimator, safe)\u001b[0m\n\u001b[0;32m     83\u001b[0m         \u001b[0mparam2\u001b[0m \u001b[1;33m=\u001b[0m \u001b[0mparams_set\u001b[0m\u001b[1;33m[\u001b[0m\u001b[0mname\u001b[0m\u001b[1;33m]\u001b[0m\u001b[1;33m\u001b[0m\u001b[1;33m\u001b[0m\u001b[0m\n\u001b[0;32m     84\u001b[0m         \u001b[1;32mif\u001b[0m \u001b[0mparam1\u001b[0m \u001b[1;32mis\u001b[0m \u001b[1;32mnot\u001b[0m \u001b[0mparam2\u001b[0m\u001b[1;33m:\u001b[0m\u001b[1;33m\u001b[0m\u001b[1;33m\u001b[0m\u001b[0m\n\u001b[1;32m---> 85\u001b[1;33m             raise RuntimeError('Cannot clone object %s, as the constructor '\n\u001b[0m\u001b[0;32m     86\u001b[0m                                \u001b[1;34m'either does not set or modifies parameter %s'\u001b[0m \u001b[1;33m%\u001b[0m\u001b[1;33m\u001b[0m\u001b[1;33m\u001b[0m\u001b[0m\n\u001b[0;32m     87\u001b[0m                                (estimator, name))\n",
      "\u001b[1;31mRuntimeError\u001b[0m: Cannot clone object <tensorflow.python.keras.wrappers.scikit_learn.KerasClassifier object at 0x000001AF15EAF790>, as the constructor either does not set or modifies parameter embedding_matrix"
     ]
    }
   ],
   "source": [
    "randomized_cv.fit(X_train_validation, y_train_validation, class_weight=weights)"
   ]
  },
  {
   "cell_type": "code",
   "execution_count": 54,
   "id": "c19b10cb",
   "metadata": {},
   "outputs": [
    {
     "data": {
      "text/plain": [
       "0.9306273579597473"
      ]
     },
     "execution_count": 54,
     "metadata": {},
     "output_type": "execute_result"
    }
   ],
   "source": [
    "randomized_cv.best_score_"
   ]
  },
  {
   "cell_type": "markdown",
   "id": "e40017b2",
   "metadata": {},
   "source": [
    "### 4. Formiranje modela"
   ]
  },
  {
   "cell_type": "code",
   "execution_count": 16,
   "id": "95546461",
   "metadata": {},
   "outputs": [],
   "source": [
    "kernel_size = 3\n",
    "pool_size = 4\n",
    "filters = 64\n",
    "dropout_rate = 0.3\n",
    "embedding_dim = 100\n",
    "lr = 0.0001"
   ]
  },
  {
   "cell_type": "code",
   "execution_count": 17,
   "id": "de90a837",
   "metadata": {},
   "outputs": [
    {
     "name": "stdout",
     "output_type": "stream",
     "text": [
      "Model: \"sequential\"\n",
      "_________________________________________________________________\n",
      "Layer (type)                 Output Shape              Param #   \n",
      "=================================================================\n",
      "embedding (Embedding)        (None, 100, 100)          2000000   \n",
      "_________________________________________________________________\n",
      "conv1d (Conv1D)              (None, 100, 64)           19264     \n",
      "_________________________________________________________________\n",
      "max_pooling1d (MaxPooling1D) (None, 25, 64)            0         \n",
      "_________________________________________________________________\n",
      "conv1d_1 (Conv1D)            (None, 25, 64)            12352     \n",
      "_________________________________________________________________\n",
      "max_pooling1d_1 (MaxPooling1 (None, 6, 64)             0         \n",
      "_________________________________________________________________\n",
      "dropout (Dropout)            (None, 6, 64)             0         \n",
      "_________________________________________________________________\n",
      "global_average_pooling1d (Gl (None, 64)                0         \n",
      "_________________________________________________________________\n",
      "flatten (Flatten)            (None, 64)                0         \n",
      "_________________________________________________________________\n",
      "dense (Dense)                (None, 1)                 65        \n",
      "=================================================================\n",
      "Total params: 2,031,681\n",
      "Trainable params: 31,681\n",
      "Non-trainable params: 2,000,000\n",
      "_________________________________________________________________\n"
     ]
    }
   ],
   "source": [
    "binary_model = create_model(num_of_classes = 2, num_of_features = max_features, embedding_dim = embedding_dim, \n",
    "                kernel_size = kernel_size, pool_size = pool_size, filters = filters, \n",
    "                dropout_rate = dropout_rate, maxlen = max_len, lr = lr, embedding_matrix = embedding_matrix)"
   ]
  },
  {
   "cell_type": "code",
   "execution_count": null,
   "id": "9c39f5e9",
   "metadata": {},
   "outputs": [],
   "source": []
  },
  {
   "cell_type": "markdown",
   "id": "39c289e4",
   "metadata": {},
   "source": [
    "### 5. Obučavanje modela"
   ]
  },
  {
   "cell_type": "code",
   "execution_count": null,
   "id": "04c04077",
   "metadata": {},
   "outputs": [],
   "source": []
  },
  {
   "cell_type": "code",
   "execution_count": 19,
   "id": "5d5c5bb5",
   "metadata": {},
   "outputs": [],
   "source": [
    "epochs = 10\n",
    "batch_size = 64"
   ]
  },
  {
   "cell_type": "code",
   "execution_count": 20,
   "id": "969ce549",
   "metadata": {},
   "outputs": [
    {
     "name": "stdout",
     "output_type": "stream",
     "text": [
      "Epoch 1/10\n",
      "1872/1872 [==============================] - 23s 12ms/step - loss: 0.4029 - accuracy: 0.8425 - val_loss: 0.3296 - val_accuracy: 0.8835\n",
      "Epoch 2/10\n",
      "1872/1872 [==============================] - 25s 13ms/step - loss: 0.3053 - accuracy: 0.8900 - val_loss: 0.3102 - val_accuracy: 0.8916\n",
      "Epoch 3/10\n",
      "1872/1872 [==============================] - 32s 17ms/step - loss: 0.2774 - accuracy: 0.9017 - val_loss: 0.2420 - val_accuracy: 0.9180\n",
      "Epoch 4/10\n",
      "1872/1872 [==============================] - 29s 16ms/step - loss: 0.2626 - accuracy: 0.9088 - val_loss: 0.2715 - val_accuracy: 0.9067\n",
      "Epoch 5/10\n",
      "1872/1872 [==============================] - 29s 16ms/step - loss: 0.2524 - accuracy: 0.9116 - val_loss: 0.2704 - val_accuracy: 0.9075\n",
      "Epoch 6/10\n",
      "1872/1872 [==============================] - 29s 15ms/step - loss: 0.2447 - accuracy: 0.9150 - val_loss: 0.2309 - val_accuracy: 0.9212\n",
      "Epoch 7/10\n",
      "1872/1872 [==============================] - 28s 15ms/step - loss: 0.2375 - accuracy: 0.9177 - val_loss: 0.2656 - val_accuracy: 0.9094\n",
      "Epoch 8/10\n",
      "1872/1872 [==============================] - 28s 15ms/step - loss: 0.2309 - accuracy: 0.9194 - val_loss: 0.2757 - val_accuracy: 0.9058\n",
      "Epoch 9/10\n",
      "1872/1872 [==============================] - 29s 16ms/step - loss: 0.2261 - accuracy: 0.9206 - val_loss: 0.2482 - val_accuracy: 0.9143\n",
      "Epoch 10/10\n",
      "1872/1872 [==============================] - 29s 15ms/step - loss: 0.2213 - accuracy: 0.9227 - val_loss: 0.2344 - val_accuracy: 0.9187\n",
      "Trajanje obucavanja modela binarne klasifikacije:  281.9546866416931\n"
     ]
    }
   ],
   "source": [
    "start = time.time()    \n",
    "\n",
    "binary_history = binary_model.fit(X_train, y_train, batch_size=batch_size, epochs=epochs, \n",
    "                                 validation_data=(X_validation, y_validation), class_weight=weights)\n",
    "                                 #,callbacks=[early_stop]\n",
    "                                 \n",
    "print('Trajanje obucavanja modela binarne klasifikacije: ', time.time() - start)"
   ]
  },
  {
   "cell_type": "code",
   "execution_count": null,
   "id": "3d252479",
   "metadata": {},
   "outputs": [],
   "source": []
  },
  {
   "cell_type": "code",
   "execution_count": 21,
   "id": "4d39ec52",
   "metadata": {},
   "outputs": [
    {
     "data": {
      "image/png": "[encoded data removed]",
      "text/plain": [
       "<Figure size 720x360 with 2 Axes>"
      ]
     },
     "metadata": {
      "needs_background": "light"
     },
     "output_type": "display_data"
    }
   ],
   "source": [
    "plot_graphs(binary_history, ['accuracy', 'loss'])"
   ]
  },
  {
   "cell_type": "code",
   "execution_count": null,
   "id": "150acddc",
   "metadata": {},
   "outputs": [],
   "source": []
  },
  {
   "cell_type": "markdown",
   "id": "a0427b6d",
   "metadata": {},
   "source": [
    "### 6. Evaluacija modela"
   ]
  },
  {
   "cell_type": "code",
   "execution_count": 22,
   "id": "b482d9e8",
   "metadata": {},
   "outputs": [
    {
     "name": "stdout",
     "output_type": "stream",
     "text": [
      "2305/2305 [==============================] - 7s 3ms/step - loss: 0.2350 - accuracy: 0.9189\n",
      "Loss:  0.23495498299598694\n",
      "Test accuracy:  0.9189313650131226\n"
     ]
    }
   ],
   "source": [
    "scores = binary_model.evaluate(X_test, y_test)\n",
    "print('Loss: ', scores[0])\n",
    "print('Test accuracy: ', scores[1])"
   ]
  },
  {
   "cell_type": "markdown",
   "id": "59cf15c7",
   "metadata": {},
   "source": [
    "Predviđanje: "
   ]
  },
  {
   "cell_type": "code",
   "execution_count": 23,
   "id": "7281cef0",
   "metadata": {},
   "outputs": [],
   "source": [
    "y_predicted = binary_model.predict(X_test)"
   ]
  },
  {
   "cell_type": "code",
   "execution_count": 24,
   "id": "2499b829",
   "metadata": {},
   "outputs": [],
   "source": [
    "y_labels = [int(score > 0.5) for score in y_predicted]"
   ]
  },
  {
   "cell_type": "code",
   "execution_count": 25,
   "id": "46408129",
   "metadata": {},
   "outputs": [
    {
     "name": "stdout",
     "output_type": "stream",
     "text": [
      "F1:  0.6765151515151515\n"
     ]
    }
   ],
   "source": [
    "# F1 mera je bolja metrika kada su neizbalansirane klase\n",
    "\n",
    "print('F1: ', metrics.f1_score(y_test, y_labels))"
   ]
  },
  {
   "cell_type": "code",
   "execution_count": 26,
   "id": "c18e0c0e",
   "metadata": {},
   "outputs": [
    {
     "name": "stdout",
     "output_type": "stream",
     "text": [
      "[[61511  4815]\n",
      " [ 1163  6251]]\n"
     ]
    }
   ],
   "source": [
    "cf = metrics.confusion_matrix(y_test, y_labels)\n",
    "print(cf)"
   ]
  },
  {
   "cell_type": "code",
   "execution_count": 33,
   "id": "220e5e3e",
   "metadata": {},
   "outputs": [
    {
     "data": {
      "image/png": "[encoded data removed]",
      "text/plain": [
       "<Figure size 1008x360 with 4 Axes>"
      ]
     },
     "metadata": {
      "needs_background": "light"
     },
     "output_type": "display_data"
    }
   ],
   "source": [
    "# funkcija koja prikazuje matricu konfuzije i \n",
    "# istu tu matricu sa vrednostima u  procentima\n",
    "\n",
    "plot_cf(cf, 'binary')"
   ]
  },
  {
   "cell_type": "code",
   "execution_count": null,
   "id": "ffbc27d7",
   "metadata": {},
   "outputs": [],
   "source": []
  },
  {
   "cell_type": "code",
   "execution_count": 29,
   "id": "c38a46b6",
   "metadata": {},
   "outputs": [
    {
     "name": "stdout",
     "output_type": "stream",
     "text": [
      "---------------------- IZVESTAJ -----------------------\n",
      "\n",
      "              precision    recall  f1-score   support\n",
      "\n",
      "           0       0.98      0.93      0.95     66326\n",
      "           1       0.56      0.84      0.68      7414\n",
      "\n",
      "    accuracy                           0.92     73740\n",
      "   macro avg       0.77      0.89      0.82     73740\n",
      "weighted avg       0.94      0.92      0.93     73740\n",
      "\n"
     ]
    }
   ],
   "source": [
    "print('---------------------- IZVESTAJ -----------------------\\n')\n",
    "print(metrics.classification_report(y_test, y_labels))"
   ]
  },
  {
   "cell_type": "code",
   "execution_count": null,
   "id": "2b7e194e",
   "metadata": {},
   "outputs": [],
   "source": []
  }
 ],
 "metadata": {
  "kernelspec": {
   "display_name": "Python 3",
   "language": "python",
   "name": "python3"
  },
  "language_info": {
   "codemirror_mode": {
    "name": "ipython",
    "version": 3
   },
   "file_extension": ".py",
   "mimetype": "text/x-python",
   "name": "python",
   "nbconvert_exporter": "python",
   "pygments_lexer": "ipython3",
   "version": "3.8.8"
  }
 },
 "nbformat": 4,
 "nbformat_minor": 5
}
