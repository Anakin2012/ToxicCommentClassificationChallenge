{
 "cells": [
  {
   "cell_type": "code",
   "execution_count": 1,
   "id": "ccf4237f",
   "metadata": {},
   "outputs": [],
   "source": [
    "import pandas as pd\n",
    "import numpy as np\n",
    "from matplotlib import pyplot as plt\n",
    "\n",
    "import pickle\n",
    "import sklearn\n",
    "import time\n",
    "from sklearn import metrics\n",
    "from sklearn import model_selection\n",
    "\n",
    "from scikeras.wrappers import KerasClassifier\n",
    "\n",
    "import warnings\n",
    "warnings.simplefilter(action='ignore', category=FutureWarning)"
   ]
  },
  {
   "cell_type": "code",
   "execution_count": 103,
   "id": "ee6c7433",
   "metadata": {},
   "outputs": [],
   "source": [
    "%run SharedFunctions.ipynb"
   ]
  },
  {
   "cell_type": "code",
   "execution_count": null,
   "id": "72e5b526",
   "metadata": {},
   "outputs": [],
   "source": []
  },
  {
   "cell_type": "markdown",
   "id": "ad2119d5",
   "metadata": {},
   "source": [
    "Učitava se prethodno pripremljen skup podataka: "
   ]
  },
  {
   "cell_type": "code",
   "execution_count": 3,
   "id": "2297f84b",
   "metadata": {},
   "outputs": [],
   "source": [
    "data = pd.read_csv('data/data_longer.csv')\n",
    "data.drop(columns=['Unnamed: 0'], inplace=True)"
   ]
  },
  {
   "cell_type": "code",
   "execution_count": 4,
   "id": "cbcc75ce",
   "metadata": {},
   "outputs": [
    {
     "data": {
      "text/plain": [
       "(223453, 9)"
      ]
     },
     "execution_count": 4,
     "metadata": {},
     "output_type": "execute_result"
    }
   ],
   "source": [
    "data.shape"
   ]
  },
  {
   "cell_type": "code",
   "execution_count": null,
   "id": "f692a602",
   "metadata": {},
   "outputs": [],
   "source": []
  },
  {
   "cell_type": "markdown",
   "id": "d7e8f9f6",
   "metadata": {},
   "source": [
    "### 1. Podela na trening, test, i validacioni skup"
   ]
  },
  {
   "cell_type": "code",
   "execution_count": 5,
   "id": "fed856a5",
   "metadata": {},
   "outputs": [],
   "source": [
    "# data.head()"
   ]
  },
  {
   "cell_type": "code",
   "execution_count": 6,
   "id": "06f321aa",
   "metadata": {},
   "outputs": [],
   "source": [
    "X = data['comment_text']\n",
    "y = data['target']"
   ]
  },
  {
   "cell_type": "code",
   "execution_count": null,
   "id": "df03e23e",
   "metadata": {},
   "outputs": [],
   "source": []
  },
  {
   "cell_type": "code",
   "execution_count": 7,
   "id": "a9c3088a",
   "metadata": {},
   "outputs": [],
   "source": [
    "X_train_validation, X_test, y_train_validation, y_test = \\\n",
    "    model_selection.train_test_split(X, y, test_size=0.33, stratify=y, random_state=7)\n",
    "\n",
    "X_train, X_validation, y_train, y_validation =\\\n",
    "    model_selection.train_test_split(X_train_validation, y_train_validation, test_size=0.2, stratify=y_train_validation, random_state=7)"
   ]
  },
  {
   "cell_type": "code",
   "execution_count": 8,
   "id": "95c8c3c1",
   "metadata": {},
   "outputs": [
    {
     "data": {
      "text/plain": [
       "((119770,), (29943,), (73740,))"
      ]
     },
     "execution_count": 8,
     "metadata": {},
     "output_type": "execute_result"
    }
   ],
   "source": [
    "X_train.shape, X_validation.shape, X_test.shape"
   ]
  },
  {
   "cell_type": "code",
   "execution_count": 9,
   "id": "04c66ac1",
   "metadata": {},
   "outputs": [
    {
     "data": {
      "text/plain": [
       "((119770,), (29943,), (73740,))"
      ]
     },
     "execution_count": 9,
     "metadata": {},
     "output_type": "execute_result"
    }
   ],
   "source": [
    "y_train.shape, y_validation.shape, y_test.shape"
   ]
  },
  {
   "cell_type": "code",
   "execution_count": null,
   "id": "743e2319",
   "metadata": {},
   "outputs": [],
   "source": []
  },
  {
   "cell_type": "markdown",
   "id": "23e11fc3",
   "metadata": {},
   "source": [
    "### 2. Tokenizacija I vektorizacija teksta"
   ]
  },
  {
   "cell_type": "code",
   "execution_count": 10,
   "id": "e09f6409",
   "metadata": {},
   "outputs": [],
   "source": [
    "# uzima se recimo 20000 najfrekventinijh reci\n",
    "max_features = 20000\n",
    "\n",
    "# max duzina\n",
    "max_len = 100"
   ]
  },
  {
   "cell_type": "code",
   "execution_count": 11,
   "id": "be037964",
   "metadata": {},
   "outputs": [],
   "source": [
    "word_index, tokenizer = get_vocabulary(max_features, X_train, 'tokenizer_binary.pickle')"
   ]
  },
  {
   "cell_type": "code",
   "execution_count": 12,
   "id": "f099423a",
   "metadata": {},
   "outputs": [
    {
     "name": "stdout",
     "output_type": "stream",
     "text": [
      "Broj jedinstvenih reci: 201164\n"
     ]
    }
   ],
   "source": [
    "print('Broj jedinstvenih reci:', len(word_index))"
   ]
  },
  {
   "cell_type": "code",
   "execution_count": null,
   "id": "d9e438ae",
   "metadata": {},
   "outputs": [],
   "source": []
  },
  {
   "cell_type": "markdown",
   "id": "659647e3",
   "metadata": {},
   "source": [
    "Sada pravimo skupove za trening, test i validaciju sa vektorizovanim tekstom"
   ]
  },
  {
   "cell_type": "code",
   "execution_count": 13,
   "id": "f3673a91",
   "metadata": {},
   "outputs": [],
   "source": [
    "X_train = to_sequence(X_train, max_len, tokenizer)\n",
    "X_test = to_sequence(X_test, max_len, tokenizer)\n",
    "X_validation = to_sequence(X_validation, max_len, tokenizer)"
   ]
  },
  {
   "cell_type": "code",
   "execution_count": 14,
   "id": "be157f6a",
   "metadata": {},
   "outputs": [
    {
     "data": {
      "text/plain": [
       "((119770, 100), (73740, 100), (29943, 100))"
      ]
     },
     "execution_count": 14,
     "metadata": {},
     "output_type": "execute_result"
    }
   ],
   "source": [
    "X_train.shape, X_test.shape, X_validation.shape"
   ]
  },
  {
   "cell_type": "code",
   "execution_count": 15,
   "id": "2299c50f",
   "metadata": {},
   "outputs": [],
   "source": [
    "X_train_validation = to_sequence(X_train_validation, max_len, tokenizer)"
   ]
  },
  {
   "cell_type": "markdown",
   "id": "c3627b57",
   "metadata": {},
   "source": [
    "Kreira se matrica ugnjezdavanja"
   ]
  },
  {
   "cell_type": "code",
   "execution_count": 16,
   "id": "87606de0",
   "metadata": {},
   "outputs": [],
   "source": [
    "embedding_matrix = create_embedding_matrix(word_index, max_len)"
   ]
  },
  {
   "cell_type": "code",
   "execution_count": null,
   "id": "a8cfd4b0",
   "metadata": {},
   "outputs": [],
   "source": []
  },
  {
   "cell_type": "markdown",
   "id": "af8a28dc",
   "metadata": {},
   "source": [
    "### 3. Selekcija i evaluacija modela"
   ]
  },
  {
   "cell_type": "code",
   "execution_count": 29,
   "id": "077503d6",
   "metadata": {},
   "outputs": [
    {
     "data": {
      "text/plain": [
       "{0: 0.5558967465969598, 1: 4.97253221735087}"
      ]
     },
     "execution_count": 29,
     "metadata": {},
     "output_type": "execute_result"
    }
   ],
   "source": [
    "# Posto su klasa nebalansirane, potrebno je dodeliti im tezine\n",
    "# tako da se vise kaznjava pogresna klasifikacija manjinske klase\n",
    "\n",
    "weights = get_weights(y_train_validation)\n",
    "# TODO da li ovde treba train and validation\n",
    "\n",
    "# tezinu za klasu 1 podesavamo rucno jer se ispostavlja da\n",
    "# bolje klasifikuje TP instance ako nije bas tacna proporcija\n",
    "# weights[1] = 3.5\n",
    "weights"
   ]
  },
  {
   "cell_type": "markdown",
   "id": "56b46f5a",
   "metadata": {},
   "source": [
    "Za podešavanje hiperparametara koristiće se randomizovana unakrsna validacija i keras wrapper "
   ]
  },
  {
   "cell_type": "code",
   "execution_count": 32,
   "id": "ebefe9e8",
   "metadata": {},
   "outputs": [
    {
     "name": "stderr",
     "output_type": "stream",
     "text": [
      "C:\\Users\\Petrovic\\AppData\\Local\\Temp\\ipykernel_4964\\1534207424.py:15: DeprecationWarning: KerasClassifier is deprecated, use Sci-Keras (https://github.com/adriangb/scikeras) instead. See https://www.adriangb.com/scikeras/stable/migration.html for help migrating.\n",
      "  model_random = KerasClassifier(build_fn = create_model, epochs=10, batch_size=128, verbose=True)\n"
     ]
    }
   ],
   "source": [
    "# recnik parametara koje prima funkcija za kreiranje modela\n",
    "params = {'num_of_classes' : [2],\n",
    "          'num_of_features' : [20000],\n",
    "          'embedding_dim' : [100],\n",
    "          'kernel_size' : [3, 5, 7],\n",
    "          'pool_size' : [3, 5],\n",
    "          'filters' : [32, 64, 128],\n",
    "          'dropout_rate' : [0.2, 0.4],\n",
    "          'maxlen' : [100],\n",
    "          'lr' : [0.00001, 0.0001, 0.001],\n",
    "          'embedding_matrix' : [embedding_matrix],\n",
    "          'layers' : [0, 1, 2]\n",
    "          }\n",
    "    \n",
    "\n",
    "model_random = KerasClassifier(build_fn = create_model, epochs=10, batch_size=128, verbose=True)\n",
    "\n",
    "randomized_cv = RandomizedSearchCV(estimator=model_random, param_distributions=params, cv=2, verbose=1, n_iter=2)"
   ]
  },
  {
   "cell_type": "code",
   "execution_count": 33,
   "id": "231738c6",
   "metadata": {},
   "outputs": [
    {
     "name": "stdout",
     "output_type": "stream",
     "text": [
      "Fitting 2 folds for each of 2 candidates, totalling 4 fits\n",
      "Model: \"sequential_5\"\n",
      "_________________________________________________________________\n",
      " Layer (type)                Output Shape              Param #   \n",
      "=================================================================\n",
      " embedding_5 (Embedding)     (None, 50, 100)           2000000   \n",
      "                                                                 \n",
      " conv1d_10 (Conv1D)          (None, 50, 64)            32064     \n",
      "                                                                 \n",
      " max_pooling1d_10 (MaxPoolin  (None, 16, 64)           0         \n",
      " g1D)                                                            \n",
      "                                                                 \n",
      " conv1d_11 (Conv1D)          (None, 16, 64)            20544     \n",
      "                                                                 \n",
      " max_pooling1d_11 (MaxPoolin  (None, 5, 64)            0         \n",
      " g1D)                                                            \n",
      "                                                                 \n",
      " dropout_5 (Dropout)         (None, 5, 64)             0         \n",
      "                                                                 \n",
      " global_average_pooling1d_5   (None, 64)               0         \n",
      " (GlobalAveragePooling1D)                                        \n",
      "                                                                 \n",
      " flatten_5 (Flatten)         (None, 64)                0         \n",
      "                                                                 \n",
      " dense_5 (Dense)             (None, 1)                 65        \n",
      "                                                                 \n",
      "=================================================================\n",
      "Total params: 2,052,673\n",
      "Trainable params: 52,673\n",
      "Non-trainable params: 2,000,000\n",
      "_________________________________________________________________\n",
      "Epoch 1/10\n",
      "Model: \"sequential_6\"\n",
      "_________________________________________________________________\n",
      " Layer (type)                Output Shape              Param #   \n",
      "=================================================================\n",
      " embedding_6 (Embedding)     (None, 50, 100)           2000000   \n",
      "                                                                 \n",
      " conv1d_12 (Conv1D)          (None, 50, 64)            32064     \n",
      "                                                                 \n",
      " max_pooling1d_12 (MaxPoolin  (None, 16, 64)           0         \n",
      " g1D)                                                            \n",
      "                                                                 \n",
      " conv1d_13 (Conv1D)          (None, 16, 64)            20544     \n",
      "                                                                 \n",
      " max_pooling1d_13 (MaxPoolin  (None, 5, 64)            0         \n",
      " g1D)                                                            \n",
      "                                                                 \n",
      " dropout_6 (Dropout)         (None, 5, 64)             0         \n",
      "                                                                 \n",
      " global_average_pooling1d_6   (None, 64)               0         \n",
      " (GlobalAveragePooling1D)                                        \n",
      "                                                                 \n",
      " flatten_6 (Flatten)         (None, 64)                0         \n",
      "                                                                 \n",
      " dense_6 (Dense)             (None, 1)                 65        \n",
      "                                                                 \n",
      "=================================================================\n",
      "Total params: 2,052,673\n",
      "Trainable params: 52,673\n",
      "Non-trainable params: 2,000,000\n",
      "_________________________________________________________________\n",
      "Epoch 1/10\n",
      "Model: \"sequential_7\"\n",
      "_________________________________________________________________\n",
      " Layer (type)                Output Shape              Param #   \n",
      "=================================================================\n",
      " embedding_7 (Embedding)     (None, 100, 100)          2000000   \n",
      "                                                                 \n",
      " conv1d_14 (Conv1D)          (None, 100, 128)          64128     \n",
      "                                                                 \n",
      " max_pooling1d_14 (MaxPoolin  (None, 33, 128)          0         \n",
      " g1D)                                                            \n",
      "                                                                 \n",
      " conv1d_15 (Conv1D)          (None, 33, 128)           82048     \n",
      "                                                                 \n",
      " max_pooling1d_15 (MaxPoolin  (None, 11, 128)          0         \n",
      " g1D)                                                            \n",
      "                                                                 \n",
      " dropout_7 (Dropout)         (None, 11, 128)           0         \n",
      "                                                                 \n",
      " global_average_pooling1d_7   (None, 128)              0         \n",
      " (GlobalAveragePooling1D)                                        \n",
      "                                                                 \n",
      " flatten_7 (Flatten)         (None, 128)               0         \n",
      "                                                                 \n",
      " dense_7 (Dense)             (None, 1)                 129       \n",
      "                                                                 \n",
      "=================================================================\n",
      "Total params: 2,146,305\n",
      "Trainable params: 146,305\n",
      "Non-trainable params: 2,000,000\n",
      "_________________________________________________________________\n",
      "Epoch 1/10\n",
      "585/585 [==============================] - 30s 50ms/step - loss: 0.6490 - accuracy: 0.7479\n",
      "Epoch 2/10\n",
      "585/585 [==============================] - 28s 48ms/step - loss: 0.5706 - accuracy: 0.6719\n",
      "Epoch 3/10\n",
      "585/585 [==============================] - 28s 49ms/step - loss: 0.5211 - accuracy: 0.6743\n",
      "Epoch 4/10\n",
      "585/585 [==============================] - 28s 48ms/step - loss: 0.4927 - accuracy: 0.7006\n",
      "Epoch 5/10\n",
      "585/585 [==============================] - 29s 49ms/step - loss: 0.4713 - accuracy: 0.7261\n",
      "Epoch 6/10\n",
      "585/585 [==============================] - 28s 49ms/step - loss: 0.4554 - accuracy: 0.7494\n",
      "Epoch 7/10\n",
      "585/585 [==============================] - 27s 47ms/step - loss: 0.4434 - accuracy: 0.7722\n",
      "Epoch 8/10\n",
      "585/585 [==============================] - 26s 45ms/step - loss: 0.4338 - accuracy: 0.7888\n",
      "Epoch 9/10\n",
      "585/585 [==============================] - 27s 45ms/step - loss: 0.4249 - accuracy: 0.7997\n",
      "Epoch 10/10\n",
      "585/585 [==============================] - 28s 48ms/step - loss: 0.4188 - accuracy: 0.8086\n",
      "585/585 [==============================] - 9s 14ms/step - loss: 0.4286 - accuracy: 0.8143\n",
      "Model: \"sequential_8\"\n",
      "_________________________________________________________________\n",
      " Layer (type)                Output Shape              Param #   \n",
      "=================================================================\n",
      " embedding_8 (Embedding)     (None, 100, 100)          2000000   \n",
      "                                                                 \n",
      " conv1d_16 (Conv1D)          (None, 100, 128)          64128     \n",
      "                                                                 \n",
      " max_pooling1d_16 (MaxPoolin  (None, 33, 128)          0         \n",
      " g1D)                                                            \n",
      "                                                                 \n",
      " conv1d_17 (Conv1D)          (None, 33, 128)           82048     \n",
      "                                                                 \n",
      " max_pooling1d_17 (MaxPoolin  (None, 11, 128)          0         \n",
      " g1D)                                                            \n",
      "                                                                 \n",
      " dropout_8 (Dropout)         (None, 11, 128)           0         \n",
      "                                                                 \n",
      " global_average_pooling1d_8   (None, 128)              0         \n",
      " (GlobalAveragePooling1D)                                        \n",
      "                                                                 \n",
      " flatten_8 (Flatten)         (None, 128)               0         \n",
      "                                                                 \n",
      " dense_8 (Dense)             (None, 1)                 129       \n",
      "                                                                 \n"
     ]
    },
    {
     "name": "stdout",
     "output_type": "stream",
     "text": [
      "=================================================================\n",
      "Total params: 2,146,305\n",
      "Trainable params: 146,305\n",
      "Non-trainable params: 2,000,000\n",
      "_________________________________________________________________\n",
      "Epoch 1/10\n",
      "585/585 [==============================] - 29s 48ms/step - loss: 0.6489 - accuracy: 0.7315\n",
      "Epoch 2/10\n",
      "585/585 [==============================] - 27s 47ms/step - loss: 0.5703 - accuracy: 0.6739\n",
      "Epoch 3/10\n",
      "585/585 [==============================] - 27s 46ms/step - loss: 0.5239 - accuracy: 0.6775\n",
      "Epoch 4/10\n",
      "585/585 [==============================] - 27s 45ms/step - loss: 0.4968 - accuracy: 0.6991\n",
      "Epoch 5/10\n",
      "585/585 [==============================] - 27s 46ms/step - loss: 0.4769 - accuracy: 0.7236\n",
      "Epoch 6/10\n",
      "585/585 [==============================] - 27s 46ms/step - loss: 0.4609 - accuracy: 0.7469\n",
      "Epoch 7/10\n",
      "585/585 [==============================] - 27s 46ms/step - loss: 0.4489 - accuracy: 0.7659\n",
      "Epoch 8/10\n",
      "585/585 [==============================] - 27s 45ms/step - loss: 0.4383 - accuracy: 0.7856\n",
      "Epoch 9/10\n",
      "585/585 [==============================] - 28s 47ms/step - loss: 0.4301 - accuracy: 0.7971\n",
      "Epoch 10/10\n",
      "585/585 [==============================] - 28s 48ms/step - loss: 0.4233 - accuracy: 0.8050\n",
      "585/585 [==============================] - 9s 16ms/step - loss: 0.4143 - accuracy: 0.8170\n",
      "Model: \"sequential_9\"\n",
      "_________________________________________________________________\n",
      " Layer (type)                Output Shape              Param #   \n",
      "=================================================================\n",
      " embedding_9 (Embedding)     (None, 100, 100)          2000000   \n",
      "                                                                 \n",
      " conv1d_18 (Conv1D)          (None, 100, 128)          64128     \n",
      "                                                                 \n",
      " max_pooling1d_18 (MaxPoolin  (None, 33, 128)          0         \n",
      " g1D)                                                            \n",
      "                                                                 \n",
      " conv1d_19 (Conv1D)          (None, 33, 128)           82048     \n",
      "                                                                 \n",
      " max_pooling1d_19 (MaxPoolin  (None, 11, 128)          0         \n",
      " g1D)                                                            \n",
      "                                                                 \n",
      " dropout_9 (Dropout)         (None, 11, 128)           0         \n",
      "                                                                 \n",
      " global_average_pooling1d_9   (None, 128)              0         \n",
      " (GlobalAveragePooling1D)                                        \n",
      "                                                                 \n",
      " flatten_9 (Flatten)         (None, 128)               0         \n",
      "                                                                 \n",
      " dense_9 (Dense)             (None, 1)                 129       \n",
      "                                                                 \n",
      "=================================================================\n",
      "Total params: 2,146,305\n",
      "Trainable params: 146,305\n",
      "Non-trainable params: 2,000,000\n",
      "_________________________________________________________________\n",
      "Epoch 1/10\n"
     ]
    },
    {
     "name": "stderr",
     "output_type": "stream",
     "text": [
      "C:\\Users\\Petrovic\\anaconda3\\lib\\site-packages\\sklearn\\model_selection\\_validation.py:372: FitFailedWarning: \n",
      "2 fits failed out of a total of 4.\n",
      "The score on these train-test partitions for these parameters will be set to nan.\n",
      "If these failures are not expected, you can try to debug them by setting error_score='raise'.\n",
      "\n",
      "Below are more details about the failures:\n",
      "--------------------------------------------------------------------------------\n",
      "1 fits failed with the following error:\n",
      "Traceback (most recent call last):\n",
      "  File \"C:\\Users\\Petrovic\\anaconda3\\lib\\site-packages\\sklearn\\model_selection\\_validation.py\", line 680, in _fit_and_score\n",
      "    estimator.fit(X_train, y_train, **fit_params)\n",
      "  File \"C:\\Users\\Petrovic\\anaconda3\\lib\\site-packages\\keras\\wrappers\\scikit_learn.py\", line 236, in fit\n",
      "    return super(KerasClassifier, self).fit(x, y, **kwargs)\n",
      "  File \"C:\\Users\\Petrovic\\anaconda3\\lib\\site-packages\\keras\\wrappers\\scikit_learn.py\", line 164, in fit\n",
      "    history = self.model.fit(x, y, **fit_args)\n",
      "  File \"C:\\Users\\Petrovic\\anaconda3\\lib\\site-packages\\keras\\utils\\traceback_utils.py\", line 67, in error_handler\n",
      "    raise e.with_traceback(filtered_tb) from None\n",
      "  File \"C:\\Users\\Petrovic\\AppData\\Local\\Temp\\__autograph_generated_file878rg4nt.py\", line 15, in tf__train_function\n",
      "    retval_ = ag__.converted_call(ag__.ld(step_function), (ag__.ld(self), ag__.ld(iterator)), None, fscope)\n",
      "ValueError: in user code:\n",
      "\n",
      "    File \"C:\\Users\\Petrovic\\anaconda3\\lib\\site-packages\\keras\\engine\\training.py\", line 1051, in train_function  *\n",
      "        return step_function(self, iterator)\n",
      "    File \"C:\\Users\\Petrovic\\anaconda3\\lib\\site-packages\\keras\\engine\\training.py\", line 1040, in step_function  **\n",
      "        outputs = model.distribute_strategy.run(run_step, args=(data,))\n",
      "    File \"C:\\Users\\Petrovic\\anaconda3\\lib\\site-packages\\keras\\engine\\training.py\", line 1030, in run_step  **\n",
      "        outputs = model.train_step(data)\n",
      "    File \"C:\\Users\\Petrovic\\anaconda3\\lib\\site-packages\\keras\\engine\\training.py\", line 889, in train_step\n",
      "        y_pred = self(x, training=True)\n",
      "    File \"C:\\Users\\Petrovic\\anaconda3\\lib\\site-packages\\keras\\utils\\traceback_utils.py\", line 67, in error_handler\n",
      "        raise e.with_traceback(filtered_tb) from None\n",
      "    File \"C:\\Users\\Petrovic\\anaconda3\\lib\\site-packages\\keras\\engine\\input_spec.py\", line 264, in assert_input_compatibility\n",
      "        raise ValueError(f'Input {input_index} of layer \"{layer_name}\" is '\n",
      "\n",
      "    ValueError: Input 0 of layer \"sequential_5\" is incompatible with the layer: expected shape=(None, 50), found shape=(None, 100)\n",
      "\n",
      "\n",
      "--------------------------------------------------------------------------------\n",
      "1 fits failed with the following error:\n",
      "Traceback (most recent call last):\n",
      "  File \"C:\\Users\\Petrovic\\anaconda3\\lib\\site-packages\\sklearn\\model_selection\\_validation.py\", line 680, in _fit_and_score\n",
      "    estimator.fit(X_train, y_train, **fit_params)\n",
      "  File \"C:\\Users\\Petrovic\\anaconda3\\lib\\site-packages\\keras\\wrappers\\scikit_learn.py\", line 236, in fit\n",
      "    return super(KerasClassifier, self).fit(x, y, **kwargs)\n",
      "  File \"C:\\Users\\Petrovic\\anaconda3\\lib\\site-packages\\keras\\wrappers\\scikit_learn.py\", line 164, in fit\n",
      "    history = self.model.fit(x, y, **fit_args)\n",
      "  File \"C:\\Users\\Petrovic\\anaconda3\\lib\\site-packages\\keras\\utils\\traceback_utils.py\", line 67, in error_handler\n",
      "    raise e.with_traceback(filtered_tb) from None\n",
      "  File \"C:\\Users\\Petrovic\\AppData\\Local\\Temp\\__autograph_generated_file878rg4nt.py\", line 15, in tf__train_function\n",
      "    retval_ = ag__.converted_call(ag__.ld(step_function), (ag__.ld(self), ag__.ld(iterator)), None, fscope)\n",
      "ValueError: in user code:\n",
      "\n",
      "    File \"C:\\Users\\Petrovic\\anaconda3\\lib\\site-packages\\keras\\engine\\training.py\", line 1051, in train_function  *\n",
      "        return step_function(self, iterator)\n",
      "    File \"C:\\Users\\Petrovic\\anaconda3\\lib\\site-packages\\keras\\engine\\training.py\", line 1040, in step_function  **\n",
      "        outputs = model.distribute_strategy.run(run_step, args=(data,))\n",
      "    File \"C:\\Users\\Petrovic\\anaconda3\\lib\\site-packages\\keras\\engine\\training.py\", line 1030, in run_step  **\n",
      "        outputs = model.train_step(data)\n",
      "    File \"C:\\Users\\Petrovic\\anaconda3\\lib\\site-packages\\keras\\engine\\training.py\", line 889, in train_step\n",
      "        y_pred = self(x, training=True)\n",
      "    File \"C:\\Users\\Petrovic\\anaconda3\\lib\\site-packages\\keras\\utils\\traceback_utils.py\", line 67, in error_handler\n",
      "        raise e.with_traceback(filtered_tb) from None\n",
      "    File \"C:\\Users\\Petrovic\\anaconda3\\lib\\site-packages\\keras\\engine\\input_spec.py\", line 264, in assert_input_compatibility\n",
      "        raise ValueError(f'Input {input_index} of layer \"{layer_name}\" is '\n",
      "\n",
      "    ValueError: Input 0 of layer \"sequential_6\" is incompatible with the layer: expected shape=(None, 50), found shape=(None, 100)\n",
      "\n",
      "\n",
      "  warnings.warn(some_fits_failed_message, FitFailedWarning)\n",
      "C:\\Users\\Petrovic\\anaconda3\\lib\\site-packages\\sklearn\\model_selection\\_search.py:969: UserWarning: One or more of the test scores are non-finite: [       nan 0.81562054]\n",
      "  warnings.warn(\n"
     ]
    },
    {
     "name": "stdout",
     "output_type": "stream",
     "text": [
      "1170/1170 [==============================] - 54s 45ms/step - loss: 0.6063 - accuracy: 0.6957\n",
      "Epoch 2/10\n",
      "1170/1170 [==============================] - 53s 45ms/step - loss: 0.5085 - accuracy: 0.6863\n",
      "Epoch 3/10\n",
      "1170/1170 [==============================] - 55s 47ms/step - loss: 0.4642 - accuracy: 0.7465\n",
      "Epoch 4/10\n",
      "1170/1170 [==============================] - 55s 47ms/step - loss: 0.4368 - accuracy: 0.7894\n",
      "Epoch 5/10\n",
      "1170/1170 [==============================] - 55s 47ms/step - loss: 0.4203 - accuracy: 0.8105\n",
      "Epoch 6/10\n",
      "1170/1170 [==============================] - 56s 48ms/step - loss: 0.4082 - accuracy: 0.8214\n",
      "Epoch 7/10\n",
      "1170/1170 [==============================] - 54s 46ms/step - loss: 0.3979 - accuracy: 0.8299\n",
      "Epoch 8/10\n",
      "1170/1170 [==============================] - 54s 46ms/step - loss: 0.3890 - accuracy: 0.8380\n",
      "Epoch 9/10\n",
      "1170/1170 [==============================] - 56s 47ms/step - loss: 0.3810 - accuracy: 0.8435\n",
      "Epoch 10/10\n",
      "1170/1170 [==============================] - 57s 49ms/step - loss: 0.3733 - accuracy: 0.8494\n"
     ]
    },
    {
     "data": {
      "text/plain": [
       "RandomizedSearchCV(cv=2,\n",
       "                   estimator=<keras.wrappers.scikit_learn.KerasClassifier object at 0x00000174CB172A30>,\n",
       "                   n_iter=2,\n",
       "                   param_distributions={'dropout_rate': [0.2, 0.4],\n",
       "                                        'embedding_dim': [100],\n",
       "                                        'embedding_matrix': [array([[ 0.        ,  0.        ,  0.        , ...,  0.        ,\n",
       "         0.        ,  0.        ],\n",
       "       [-0.038194  , -0.24487001,  0.72812003, ..., -0.1459    ,\n",
       "         0.82779998,  0.27061999],\n",
       "       [-0.18970001,  0.050024  ,  0.19084001, ..., -0.39804   ,\n",
       "         0...\n",
       "       [ 0.29811999,  0.053545  ,  0.27474001, ..., -0.51871002,\n",
       "        -0.73246002,  0.54639   ],\n",
       "       [ 0.48453999, -0.66696   ,  0.31995001, ..., -0.2985    ,\n",
       "        -0.36061999,  0.23197   ],\n",
       "       [ 0.25542   ,  0.34395   , -0.28141999, ...,  0.20162   ,\n",
       "        -0.4488    ,  0.023272  ]])],\n",
       "                                        'filters': [32, 64, 128],\n",
       "                                        'kernel_size': [3, 5, 7],\n",
       "                                        'lr': [1e-05, 0.0001, 0.001],\n",
       "                                        'maxlen': [50, 100, 200],\n",
       "                                        'num_of_classes': [2],\n",
       "                                        'num_of_features': [20000],\n",
       "                                        'pool_size': [3, 5]},\n",
       "                   verbose=1)"
      ]
     },
     "execution_count": 33,
     "metadata": {},
     "output_type": "execute_result"
    }
   ],
   "source": [
    "randomized_cv.fit(X_train_validation, y_train_validation, class_weight=weights)"
   ]
  },
  {
   "cell_type": "code",
   "execution_count": 35,
   "id": "c19b10cb",
   "metadata": {},
   "outputs": [
    {
     "data": {
      "text/plain": [
       "{'pool_size': 3,\n",
       " 'num_of_features': 20000,\n",
       " 'num_of_classes': 2,\n",
       " 'maxlen': 100,\n",
       " 'lr': 1e-05,\n",
       " 'kernel_size': 5,\n",
       " 'filters': 128,\n",
       " 'embedding_matrix': array([[ 0.        ,  0.        ,  0.        , ...,  0.        ,\n",
       "          0.        ,  0.        ],\n",
       "        [-0.038194  , -0.24487001,  0.72812003, ..., -0.1459    ,\n",
       "          0.82779998,  0.27061999],\n",
       "        [-0.18970001,  0.050024  ,  0.19084001, ..., -0.39804   ,\n",
       "          0.47646999, -0.15983   ],\n",
       "        ...,\n",
       "        [ 0.29811999,  0.053545  ,  0.27474001, ..., -0.51871002,\n",
       "         -0.73246002,  0.54639   ],\n",
       "        [ 0.48453999, -0.66696   ,  0.31995001, ..., -0.2985    ,\n",
       "         -0.36061999,  0.23197   ],\n",
       "        [ 0.25542   ,  0.34395   , -0.28141999, ...,  0.20162   ,\n",
       "         -0.4488    ,  0.023272  ]]),\n",
       " 'embedding_dim': 100,\n",
       " 'dropout_rate': 0.2}"
      ]
     },
     "execution_count": 35,
     "metadata": {},
     "output_type": "execute_result"
    }
   ],
   "source": [
    "randomized_cv.best_params_"
   ]
  },
  {
   "cell_type": "markdown",
   "id": "e40017b2",
   "metadata": {},
   "source": [
    "### 4. Formiranje modela"
   ]
  },
  {
   "cell_type": "code",
   "execution_count": 93,
   "id": "95546461",
   "metadata": {},
   "outputs": [],
   "source": [
    "kernel_size = 3\n",
    "pool_size = 4\n",
    "filters = 64\n",
    "dropout_rate = 0.3\n",
    "embedding_dim = 100\n",
    "lr = 0.0001\n",
    "layers = 1"
   ]
  },
  {
   "cell_type": "code",
   "execution_count": 94,
   "id": "de90a837",
   "metadata": {},
   "outputs": [
    {
     "name": "stdout",
     "output_type": "stream",
     "text": [
      "Model: \"sequential_14\"\n",
      "_________________________________________________________________\n",
      " Layer (type)                Output Shape              Param #   \n",
      "=================================================================\n",
      " embedding_14 (Embedding)    (None, 100, 100)          2000000   \n",
      "                                                                 \n",
      " conv1d_28 (Conv1D)          (None, 100, 64)           19264     \n",
      "                                                                 \n",
      " max_pooling1d_28 (MaxPoolin  (None, 25, 64)           0         \n",
      " g1D)                                                            \n",
      "                                                                 \n",
      " conv1d_29 (Conv1D)          (None, 25, 128)           24704     \n",
      "                                                                 \n",
      " max_pooling1d_29 (MaxPoolin  (None, 6, 128)           0         \n",
      " g1D)                                                            \n",
      "                                                                 \n",
      " dropout_14 (Dropout)        (None, 6, 128)            0         \n",
      "                                                                 \n",
      " global_average_pooling1d_14  (None, 128)              0         \n",
      "  (GlobalAveragePooling1D)                                       \n",
      "                                                                 \n",
      " flatten_14 (Flatten)        (None, 128)               0         \n",
      "                                                                 \n",
      " dense_17 (Dense)            (None, 10)                1290      \n",
      "                                                                 \n",
      " dense_18 (Dense)            (None, 1)                 11        \n",
      "                                                                 \n",
      "=================================================================\n",
      "Total params: 2,045,269\n",
      "Trainable params: 45,269\n",
      "Non-trainable params: 2,000,000\n",
      "_________________________________________________________________\n"
     ]
    }
   ],
   "source": [
    "binary_model = create_model(num_of_classes = 2, num_of_features = max_features, embedding_dim = embedding_dim, \n",
    "                kernel_size = kernel_size, pool_size = pool_size, filters = filters, \n",
    "                dropout_rate = dropout_rate, maxlen = max_len, lr = lr, embedding_matrix = embedding_matrix, layers=layers)"
   ]
  },
  {
   "cell_type": "code",
   "execution_count": null,
   "id": "9c39f5e9",
   "metadata": {},
   "outputs": [],
   "source": []
  },
  {
   "cell_type": "markdown",
   "id": "39c289e4",
   "metadata": {},
   "source": [
    "### 5. Obučavanje modela"
   ]
  },
  {
   "cell_type": "code",
   "execution_count": 112,
   "id": "04c04077",
   "metadata": {},
   "outputs": [],
   "source": [
    "weights[1] = 3.5"
   ]
  },
  {
   "cell_type": "code",
   "execution_count": 115,
   "id": "5d5c5bb5",
   "metadata": {},
   "outputs": [],
   "source": [
    "epochs = 13\n",
    "batch_size = 64"
   ]
  },
  {
   "cell_type": "code",
   "execution_count": 116,
   "id": "969ce549",
   "metadata": {},
   "outputs": [
    {
     "name": "stdout",
     "output_type": "stream",
     "text": [
      "Epoch 1/13\n",
      "1872/1872 [==============================] - 28s 15ms/step - loss: 0.2112 - accuracy: 0.9202 - f1_m: 0.6688 - val_loss: 0.1983 - val_accuracy: 0.9278 - val_f1_m: 0.6782\n",
      "Epoch 2/13\n",
      "1872/1872 [==============================] - 28s 15ms/step - loss: 0.2033 - accuracy: 0.9223 - f1_m: 0.6798 - val_loss: 0.2040 - val_accuracy: 0.9260 - val_f1_m: 0.6761\n",
      "Epoch 3/13\n",
      "1872/1872 [==============================] - 29s 15ms/step - loss: 0.1974 - accuracy: 0.9243 - f1_m: 0.6866 - val_loss: 0.2252 - val_accuracy: 0.9158 - val_f1_m: 0.6567\n",
      "Epoch 4/13\n",
      "1872/1872 [==============================] - 30s 16ms/step - loss: 0.1915 - accuracy: 0.9258 - f1_m: 0.6907 - val_loss: 0.2372 - val_accuracy: 0.9087 - val_f1_m: 0.6410\n",
      "Epoch 5/13\n",
      "1872/1872 [==============================] - 28s 15ms/step - loss: 0.1863 - accuracy: 0.9272 - f1_m: 0.6947 - val_loss: 0.2416 - val_accuracy: 0.9078 - val_f1_m: 0.6402\n",
      "Epoch 6/13\n",
      "1872/1872 [==============================] - 29s 16ms/step - loss: 0.1804 - accuracy: 0.9281 - f1_m: 0.7006 - val_loss: 0.1749 - val_accuracy: 0.9348 - val_f1_m: 0.6972\n",
      "Epoch 7/13\n",
      "1872/1872 [==============================] - 29s 15ms/step - loss: 0.1763 - accuracy: 0.9296 - f1_m: 0.7082 - val_loss: 0.2401 - val_accuracy: 0.9076 - val_f1_m: 0.6407\n",
      "Epoch 8/13\n",
      "1872/1872 [==============================] - 29s 15ms/step - loss: 0.1710 - accuracy: 0.9307 - f1_m: 0.7094 - val_loss: 0.2119 - val_accuracy: 0.9179 - val_f1_m: 0.6619\n",
      "Epoch 9/13\n",
      "1872/1872 [==============================] - 30s 16ms/step - loss: 0.1670 - accuracy: 0.9313 - f1_m: 0.7142 - val_loss: 0.1667 - val_accuracy: 0.9377 - val_f1_m: 0.7048\n",
      "Epoch 10/13\n",
      "1872/1872 [==============================] - 30s 16ms/step - loss: 0.1633 - accuracy: 0.9325 - f1_m: 0.7182 - val_loss: 0.2070 - val_accuracy: 0.9200 - val_f1_m: 0.6672\n",
      "Epoch 11/13\n",
      "1872/1872 [==============================] - 30s 16ms/step - loss: 0.1588 - accuracy: 0.9334 - f1_m: 0.7203 - val_loss: 0.1911 - val_accuracy: 0.9259 - val_f1_m: 0.6817\n",
      "Epoch 12/13\n",
      "1872/1872 [==============================] - 27s 15ms/step - loss: 0.1555 - accuracy: 0.9343 - f1_m: 0.7280 - val_loss: 0.1749 - val_accuracy: 0.9331 - val_f1_m: 0.6962\n",
      "Epoch 13/13\n",
      "1872/1872 [==============================] - 27s 15ms/step - loss: 0.1511 - accuracy: 0.9362 - f1_m: 0.7292 - val_loss: 0.2267 - val_accuracy: 0.9092 - val_f1_m: 0.6435\n",
      "Trajanje obucavanja modela binarne klasifikacije:  374.7000365257263\n"
     ]
    }
   ],
   "source": [
    "start = time.time()    \n",
    "\n",
    "binary_history = binary_model.fit(X_train, y_train, batch_size=batch_size, epochs=epochs, \n",
    "                                 validation_data=(X_validation, y_validation), class_weight=weights)\n",
    "                                 #,callbacks=[early_stop]\n",
    "                                 \n",
    "print('Trajanje obucavanja modela binarne klasifikacije: ', time.time() - start)"
   ]
  },
  {
   "cell_type": "code",
   "execution_count": null,
   "id": "f89e20b5",
   "metadata": {},
   "outputs": [],
   "source": []
  },
  {
   "cell_type": "markdown",
   "id": "c1cb70f9",
   "metadata": {},
   "source": [
    "Prate se tacnost, funkcija gubitka i F1 mera (jer klase nisu izbalansirane)"
   ]
  },
  {
   "cell_type": "code",
   "execution_count": 117,
   "id": "4d39ec52",
   "metadata": {},
   "outputs": [
    {
     "data": {
      "image/png": "[encoded data removed]",
      "text/plain": [
       "<Figure size 1080x360 with 3 Axes>"
      ]
     },
     "metadata": {
      "needs_background": "light"
     },
     "output_type": "display_data"
    }
   ],
   "source": [
    "# Grafici koji prikazuju promene metrika na trening skupu i validacionom skupu kroz epohe tokom treniranja\n",
    "\n",
    "plot_graphs(binary_history, ['accuracy', 'loss', 'f1_m'])"
   ]
  },
  {
   "cell_type": "code",
   "execution_count": null,
   "id": "150acddc",
   "metadata": {},
   "outputs": [],
   "source": []
  },
  {
   "cell_type": "markdown",
   "id": "a0427b6d",
   "metadata": {},
   "source": [
    "### 6. Evaluacija modela"
   ]
  },
  {
   "cell_type": "code",
   "execution_count": 118,
   "id": "b482d9e8",
   "metadata": {},
   "outputs": [
    {
     "name": "stdout",
     "output_type": "stream",
     "text": [
      "2305/2305 [==============================] - 6s 3ms/step - loss: 0.2270 - accuracy: 0.9086 - f1_m: 0.6258\n",
      "Loss:  0.22704654932022095\n",
      "Test accuracy:  0.9086248874664307\n"
     ]
    }
   ],
   "source": [
    "scores = binary_model.evaluate(X_test, y_test)\n",
    "print('Loss: ', scores[0])\n",
    "print('Test accuracy: ', scores[1])"
   ]
  },
  {
   "cell_type": "markdown",
   "id": "59cf15c7",
   "metadata": {},
   "source": [
    "Predviđanje: "
   ]
  },
  {
   "cell_type": "code",
   "execution_count": 119,
   "id": "7281cef0",
   "metadata": {},
   "outputs": [
    {
     "name": "stdout",
     "output_type": "stream",
     "text": [
      "2305/2305 [==============================] - 6s 3ms/step\n"
     ]
    }
   ],
   "source": [
    "y_predicted = binary_model.predict(X_test)"
   ]
  },
  {
   "cell_type": "code",
   "execution_count": 120,
   "id": "2499b829",
   "metadata": {},
   "outputs": [],
   "source": [
    "# sigmoidna funkcija:\n",
    "\n",
    "y_labels = [int(score > 0.5) for score in y_predicted]"
   ]
  },
  {
   "cell_type": "code",
   "execution_count": 121,
   "id": "46408129",
   "metadata": {},
   "outputs": [
    {
     "name": "stdout",
     "output_type": "stream",
     "text": [
      "F1:  0.6591460946985026\n"
     ]
    }
   ],
   "source": [
    "# F1 mera je bolja metrika kada su neizbalansirane klase\n",
    "\n",
    "print('F1: ', metrics.f1_score(y_test, y_labels))"
   ]
  },
  {
   "cell_type": "code",
   "execution_count": 122,
   "id": "c18e0c0e",
   "metadata": {},
   "outputs": [
    {
     "name": "stdout",
     "output_type": "stream",
     "text": [
      "[[60487  5839]\n",
      " [  899  6515]]\n"
     ]
    }
   ],
   "source": [
    "cf = metrics.confusion_matrix(y_test, y_labels)\n",
    "print(cf)"
   ]
  },
  {
   "cell_type": "code",
   "execution_count": 123,
   "id": "220e5e3e",
   "metadata": {},
   "outputs": [
    {
     "data": {
      "image/png": "[encoded data removed]",
      "text/plain": [
       "<Figure size 1008x360 with 4 Axes>"
      ]
     },
     "metadata": {
      "needs_background": "light"
     },
     "output_type": "display_data"
    }
   ],
   "source": [
    "# funkcija koja prikazuje matricu konfuzije i \n",
    "# istu tu matricu sa vrednostima u  procentima\n",
    "\n",
    "plot_cf(cf, 'binary')"
   ]
  },
  {
   "cell_type": "code",
   "execution_count": null,
   "id": "ffbc27d7",
   "metadata": {},
   "outputs": [],
   "source": []
  },
  {
   "cell_type": "code",
   "execution_count": 124,
   "id": "c38a46b6",
   "metadata": {},
   "outputs": [
    {
     "name": "stdout",
     "output_type": "stream",
     "text": [
      "---------------------- IZVESTAJ -----------------------\n",
      "\n",
      "              precision    recall  f1-score   support\n",
      "\n",
      "           0       0.99      0.91      0.95     66326\n",
      "           1       0.53      0.88      0.66      7414\n",
      "\n",
      "    accuracy                           0.91     73740\n",
      "   macro avg       0.76      0.90      0.80     73740\n",
      "weighted avg       0.94      0.91      0.92     73740\n",
      "\n"
     ]
    }
   ],
   "source": [
    "print('---------------------- IZVESTAJ -----------------------\\n')\n",
    "print(metrics.classification_report(y_test, y_labels))"
   ]
  },
  {
   "cell_type": "code",
   "execution_count": null,
   "id": "2b7e194e",
   "metadata": {},
   "outputs": [],
   "source": []
  }
 ],
 "metadata": {
  "kernelspec": {
   "display_name": "Python 3 (ipykernel)",
   "language": "python",
   "name": "python3"
  },
  "language_info": {
   "codemirror_mode": {
    "name": "ipython",
    "version": 3
   },
   "file_extension": ".py",
   "mimetype": "text/x-python",
   "name": "python",
   "nbconvert_exporter": "python",
   "pygments_lexer": "ipython3",
   "version": "3.9.12"
  }
 },
 "nbformat": 4,
 "nbformat_minor": 5
}
