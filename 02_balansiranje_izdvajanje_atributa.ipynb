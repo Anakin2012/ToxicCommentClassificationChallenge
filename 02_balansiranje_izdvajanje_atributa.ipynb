{
 "cells": [
  {
   "cell_type": "code",
   "execution_count": 35,
   "id": "a242631a",
   "metadata": {},
   "outputs": [],
   "source": [
    "import pandas as pd\n",
    "import numpy as np\n",
    "from matplotlib import pyplot as plt\n",
    "import nltk\n",
    "from nltk import word_tokenize\n",
    "from sklearn import model_selection\n",
    "from sklearn.feature_extraction.text import TfidfVectorizer\n",
    "from sklearn import metrics\n",
    "from sklearn.metrics import multilabel_confusion_matrix\n",
    "import pickle\n",
    "\n",
    "import seaborn as sns"
   ]
  },
  {
   "cell_type": "markdown",
   "id": "c7e85792",
   "metadata": {},
   "source": [
    "### Učitavanje prethodno očišćenih podataka"
   ]
  },
  {
   "cell_type": "code",
   "execution_count": 36,
   "id": "7e2b66db",
   "metadata": {},
   "outputs": [
    {
     "data": {
      "text/html": [
       "<div>\n",
       "<style scoped>\n",
       "    .dataframe tbody tr th:only-of-type {\n",
       "        vertical-align: middle;\n",
       "    }\n",
       "\n",
       "    .dataframe tbody tr th {\n",
       "        vertical-align: top;\n",
       "    }\n",
       "\n",
       "    .dataframe thead th {\n",
       "        text-align: right;\n",
       "    }\n",
       "</style>\n",
       "<table border=\"1\" class=\"dataframe\">\n",
       "  <thead>\n",
       "    <tr style=\"text-align: right;\">\n",
       "      <th></th>\n",
       "      <th>id</th>\n",
       "      <th>comment_text</th>\n",
       "      <th>toxic</th>\n",
       "      <th>severe_toxic</th>\n",
       "      <th>obscene</th>\n",
       "      <th>threat</th>\n",
       "      <th>insult</th>\n",
       "      <th>identity_hate</th>\n",
       "    </tr>\n",
       "  </thead>\n",
       "  <tbody>\n",
       "    <tr>\n",
       "      <th>0</th>\n",
       "      <td>0000997932d777bf</td>\n",
       "      <td>explan edit made username hardcore metallica f...</td>\n",
       "      <td>0</td>\n",
       "      <td>0</td>\n",
       "      <td>0</td>\n",
       "      <td>0</td>\n",
       "      <td>0</td>\n",
       "      <td>0</td>\n",
       "    </tr>\n",
       "    <tr>\n",
       "      <th>1</th>\n",
       "      <td>000103f0d9cfb60f</td>\n",
       "      <td>d'aww! match background colour i'm seemingly s...</td>\n",
       "      <td>0</td>\n",
       "      <td>0</td>\n",
       "      <td>0</td>\n",
       "      <td>0</td>\n",
       "      <td>0</td>\n",
       "      <td>0</td>\n",
       "    </tr>\n",
       "    <tr>\n",
       "      <th>2</th>\n",
       "      <td>000113f07ec002fd</td>\n",
       "      <td>hey man, i'm really tri edit war guy constantl...</td>\n",
       "      <td>0</td>\n",
       "      <td>0</td>\n",
       "      <td>0</td>\n",
       "      <td>0</td>\n",
       "      <td>0</td>\n",
       "      <td>0</td>\n",
       "    </tr>\n",
       "    <tr>\n",
       "      <th>3</th>\n",
       "      <td>0001b41b1c6bb37e</td>\n",
       "      <td>\" can't make real suggest improv wonder sectio...</td>\n",
       "      <td>0</td>\n",
       "      <td>0</td>\n",
       "      <td>0</td>\n",
       "      <td>0</td>\n",
       "      <td>0</td>\n",
       "      <td>0</td>\n",
       "    </tr>\n",
       "    <tr>\n",
       "      <th>4</th>\n",
       "      <td>0001d958c54c6e35</td>\n",
       "      <td>you, sir, hero chance rememb page that on?</td>\n",
       "      <td>0</td>\n",
       "      <td>0</td>\n",
       "      <td>0</td>\n",
       "      <td>0</td>\n",
       "      <td>0</td>\n",
       "      <td>0</td>\n",
       "    </tr>\n",
       "  </tbody>\n",
       "</table>\n",
       "</div>"
      ],
      "text/plain": [
       "                 id                                       comment_text  toxic  \\\n",
       "0  0000997932d777bf  explan edit made username hardcore metallica f...      0   \n",
       "1  000103f0d9cfb60f  d'aww! match background colour i'm seemingly s...      0   \n",
       "2  000113f07ec002fd  hey man, i'm really tri edit war guy constantl...      0   \n",
       "3  0001b41b1c6bb37e  \" can't make real suggest improv wonder sectio...      0   \n",
       "4  0001d958c54c6e35         you, sir, hero chance rememb page that on?      0   \n",
       "\n",
       "   severe_toxic  obscene  threat  insult  identity_hate  \n",
       "0             0        0       0       0              0  \n",
       "1             0        0       0       0              0  \n",
       "2             0        0       0       0              0  \n",
       "3             0        0       0       0              0  \n",
       "4             0        0       0       0              0  "
      ]
     },
     "execution_count": 36,
     "metadata": {},
     "output_type": "execute_result"
    }
   ],
   "source": [
    "data = pd.read_csv('csv/train_01.csv')\n",
    "data.head()"
   ]
  },
  {
   "cell_type": "markdown",
   "id": "b834f04b",
   "metadata": {},
   "source": [
    "Da li postoje null vrednosti?"
   ]
  },
  {
   "cell_type": "code",
   "execution_count": 37,
   "id": "19d8649e",
   "metadata": {},
   "outputs": [
    {
     "data": {
      "text/html": [
       "<div>\n",
       "<style scoped>\n",
       "    .dataframe tbody tr th:only-of-type {\n",
       "        vertical-align: middle;\n",
       "    }\n",
       "\n",
       "    .dataframe tbody tr th {\n",
       "        vertical-align: top;\n",
       "    }\n",
       "\n",
       "    .dataframe thead th {\n",
       "        text-align: right;\n",
       "    }\n",
       "</style>\n",
       "<table border=\"1\" class=\"dataframe\">\n",
       "  <thead>\n",
       "    <tr style=\"text-align: right;\">\n",
       "      <th></th>\n",
       "      <th>id</th>\n",
       "      <th>comment_text</th>\n",
       "      <th>toxic</th>\n",
       "      <th>severe_toxic</th>\n",
       "      <th>obscene</th>\n",
       "      <th>threat</th>\n",
       "      <th>insult</th>\n",
       "      <th>identity_hate</th>\n",
       "    </tr>\n",
       "  </thead>\n",
       "  <tbody>\n",
       "    <tr>\n",
       "      <th>228</th>\n",
       "      <td>0091798f05a311af</td>\n",
       "      <td>NaN</td>\n",
       "      <td>0</td>\n",
       "      <td>0</td>\n",
       "      <td>0</td>\n",
       "      <td>0</td>\n",
       "      <td>0</td>\n",
       "      <td>0</td>\n",
       "    </tr>\n",
       "    <tr>\n",
       "      <th>329</th>\n",
       "      <td>00d300b2a1d61c1c</td>\n",
       "      <td>NaN</td>\n",
       "      <td>0</td>\n",
       "      <td>0</td>\n",
       "      <td>0</td>\n",
       "      <td>0</td>\n",
       "      <td>0</td>\n",
       "      <td>0</td>\n",
       "    </tr>\n",
       "    <tr>\n",
       "      <th>3699</th>\n",
       "      <td>09e4ea8663421151</td>\n",
       "      <td>NaN</td>\n",
       "      <td>0</td>\n",
       "      <td>0</td>\n",
       "      <td>0</td>\n",
       "      <td>0</td>\n",
       "      <td>0</td>\n",
       "      <td>0</td>\n",
       "    </tr>\n",
       "    <tr>\n",
       "      <th>3990</th>\n",
       "      <td>0aa6f3529219b37e</td>\n",
       "      <td>NaN</td>\n",
       "      <td>0</td>\n",
       "      <td>0</td>\n",
       "      <td>0</td>\n",
       "      <td>0</td>\n",
       "      <td>0</td>\n",
       "      <td>0</td>\n",
       "    </tr>\n",
       "    <tr>\n",
       "      <th>4482</th>\n",
       "      <td>0bed2196c873636d</td>\n",
       "      <td>NaN</td>\n",
       "      <td>0</td>\n",
       "      <td>0</td>\n",
       "      <td>0</td>\n",
       "      <td>0</td>\n",
       "      <td>0</td>\n",
       "      <td>0</td>\n",
       "    </tr>\n",
       "    <tr>\n",
       "      <th>...</th>\n",
       "      <td>...</td>\n",
       "      <td>...</td>\n",
       "      <td>...</td>\n",
       "      <td>...</td>\n",
       "      <td>...</td>\n",
       "      <td>...</td>\n",
       "      <td>...</td>\n",
       "      <td>...</td>\n",
       "    </tr>\n",
       "    <tr>\n",
       "      <th>153616</th>\n",
       "      <td>9fe2529bbf1aa64a</td>\n",
       "      <td>NaN</td>\n",
       "      <td>0</td>\n",
       "      <td>0</td>\n",
       "      <td>0</td>\n",
       "      <td>0</td>\n",
       "      <td>0</td>\n",
       "      <td>0</td>\n",
       "    </tr>\n",
       "    <tr>\n",
       "      <th>154268</th>\n",
       "      <td>ab68b24628bbe30e</td>\n",
       "      <td>NaN</td>\n",
       "      <td>0</td>\n",
       "      <td>0</td>\n",
       "      <td>0</td>\n",
       "      <td>0</td>\n",
       "      <td>0</td>\n",
       "      <td>0</td>\n",
       "    </tr>\n",
       "    <tr>\n",
       "      <th>156776</th>\n",
       "      <td>d3741a61f9c91ac0</td>\n",
       "      <td>NaN</td>\n",
       "      <td>0</td>\n",
       "      <td>0</td>\n",
       "      <td>0</td>\n",
       "      <td>0</td>\n",
       "      <td>0</td>\n",
       "      <td>0</td>\n",
       "    </tr>\n",
       "    <tr>\n",
       "      <th>158092</th>\n",
       "      <td>e8a55975186094fe</td>\n",
       "      <td>NaN</td>\n",
       "      <td>0</td>\n",
       "      <td>0</td>\n",
       "      <td>0</td>\n",
       "      <td>0</td>\n",
       "      <td>0</td>\n",
       "      <td>0</td>\n",
       "    </tr>\n",
       "    <tr>\n",
       "      <th>159315</th>\n",
       "      <td>fbf8672ea3b4ddf7</td>\n",
       "      <td>NaN</td>\n",
       "      <td>1</td>\n",
       "      <td>0</td>\n",
       "      <td>0</td>\n",
       "      <td>0</td>\n",
       "      <td>0</td>\n",
       "      <td>0</td>\n",
       "    </tr>\n",
       "  </tbody>\n",
       "</table>\n",
       "<p>118 rows × 8 columns</p>\n",
       "</div>"
      ],
      "text/plain": [
       "                      id comment_text  toxic  severe_toxic  obscene  threat  \\\n",
       "228     0091798f05a311af          NaN      0             0        0       0   \n",
       "329     00d300b2a1d61c1c          NaN      0             0        0       0   \n",
       "3699    09e4ea8663421151          NaN      0             0        0       0   \n",
       "3990    0aa6f3529219b37e          NaN      0             0        0       0   \n",
       "4482    0bed2196c873636d          NaN      0             0        0       0   \n",
       "...                  ...          ...    ...           ...      ...     ...   \n",
       "153616  9fe2529bbf1aa64a          NaN      0             0        0       0   \n",
       "154268  ab68b24628bbe30e          NaN      0             0        0       0   \n",
       "156776  d3741a61f9c91ac0          NaN      0             0        0       0   \n",
       "158092  e8a55975186094fe          NaN      0             0        0       0   \n",
       "159315  fbf8672ea3b4ddf7          NaN      1             0        0       0   \n",
       "\n",
       "        insult  identity_hate  \n",
       "228          0              0  \n",
       "329          0              0  \n",
       "3699         0              0  \n",
       "3990         0              0  \n",
       "4482         0              0  \n",
       "...        ...            ...  \n",
       "153616       0              0  \n",
       "154268       0              0  \n",
       "156776       0              0  \n",
       "158092       0              0  \n",
       "159315       0              0  \n",
       "\n",
       "[118 rows x 8 columns]"
      ]
     },
     "execution_count": 37,
     "metadata": {},
     "output_type": "execute_result"
    }
   ],
   "source": [
    "data[data.isnull().any(axis=1)]\n",
    "# ovo su komentari koji su bili prazni"
   ]
  },
  {
   "cell_type": "code",
   "execution_count": 38,
   "id": "49a4166e",
   "metadata": {},
   "outputs": [
    {
     "data": {
      "text/plain": [
       "False"
      ]
     },
     "execution_count": 38,
     "metadata": {},
     "output_type": "execute_result"
    }
   ],
   "source": [
    "# Izbacivanje redova koji sadrže NaN vrednosti\n",
    "\n",
    "data = data.dropna(how='any',axis=0) \n",
    "data['comment_text'].isnull().any()"
   ]
  },
  {
   "cell_type": "markdown",
   "id": "1ba8a64e",
   "metadata": {},
   "source": [
    "Datoteka test.csv - podaci koji su se na takmičenju koristili za proveru. Spajanje kolona i izbacivanje onih koje se ne koriste (sadrže -1 na mestu klase)"
   ]
  },
  {
   "cell_type": "code",
   "execution_count": 39,
   "id": "49c9c84f",
   "metadata": {},
   "outputs": [
    {
     "data": {
      "text/html": [
       "<div>\n",
       "<style scoped>\n",
       "    .dataframe tbody tr th:only-of-type {\n",
       "        vertical-align: middle;\n",
       "    }\n",
       "\n",
       "    .dataframe tbody tr th {\n",
       "        vertical-align: top;\n",
       "    }\n",
       "\n",
       "    .dataframe thead th {\n",
       "        text-align: right;\n",
       "    }\n",
       "</style>\n",
       "<table border=\"1\" class=\"dataframe\">\n",
       "  <thead>\n",
       "    <tr style=\"text-align: right;\">\n",
       "      <th></th>\n",
       "      <th>id</th>\n",
       "      <th>comment_text</th>\n",
       "      <th>toxic</th>\n",
       "      <th>severe_toxic</th>\n",
       "      <th>obscene</th>\n",
       "      <th>threat</th>\n",
       "      <th>insult</th>\n",
       "      <th>identity_hate</th>\n",
       "    </tr>\n",
       "  </thead>\n",
       "  <tbody>\n",
       "    <tr>\n",
       "      <th>5</th>\n",
       "      <td>0001ea8717f6de06</td>\n",
       "      <td>thank understand think highly would revert wit...</td>\n",
       "      <td>0</td>\n",
       "      <td>0</td>\n",
       "      <td>0</td>\n",
       "      <td>0</td>\n",
       "      <td>0</td>\n",
       "      <td>0</td>\n",
       "    </tr>\n",
       "    <tr>\n",
       "      <th>7</th>\n",
       "      <td>000247e83dcc1211</td>\n",
       "      <td>dear god site horrible</td>\n",
       "      <td>0</td>\n",
       "      <td>0</td>\n",
       "      <td>0</td>\n",
       "      <td>0</td>\n",
       "      <td>0</td>\n",
       "      <td>0</td>\n",
       "    </tr>\n",
       "    <tr>\n",
       "      <th>11</th>\n",
       "      <td>0002f87b16116a7f</td>\n",
       "      <td>\" somebody invariably try add religion? really...</td>\n",
       "      <td>0</td>\n",
       "      <td>0</td>\n",
       "      <td>0</td>\n",
       "      <td>0</td>\n",
       "      <td>0</td>\n",
       "      <td>0</td>\n",
       "    </tr>\n",
       "    <tr>\n",
       "      <th>13</th>\n",
       "      <td>0003e1cccfd5a40a</td>\n",
       "      <td>\" say right type \"\"type\"\" institut need case t...</td>\n",
       "      <td>0</td>\n",
       "      <td>0</td>\n",
       "      <td>0</td>\n",
       "      <td>0</td>\n",
       "      <td>0</td>\n",
       "      <td>0</td>\n",
       "    </tr>\n",
       "    <tr>\n",
       "      <th>14</th>\n",
       "      <td>00059ace3e3e9a53</td>\n",
       "      <td>\" ad new product list, make sure relev ad new ...</td>\n",
       "      <td>0</td>\n",
       "      <td>0</td>\n",
       "      <td>0</td>\n",
       "      <td>0</td>\n",
       "      <td>0</td>\n",
       "      <td>0</td>\n",
       "    </tr>\n",
       "    <tr>\n",
       "      <th>...</th>\n",
       "      <td>...</td>\n",
       "      <td>...</td>\n",
       "      <td>...</td>\n",
       "      <td>...</td>\n",
       "      <td>...</td>\n",
       "      <td>...</td>\n",
       "      <td>...</td>\n",
       "      <td>...</td>\n",
       "    </tr>\n",
       "    <tr>\n",
       "      <th>153150</th>\n",
       "      <td>fff8f64043129fa2</td>\n",
       "      <td>jerome, see never got around ! surpris look ex...</td>\n",
       "      <td>0</td>\n",
       "      <td>0</td>\n",
       "      <td>0</td>\n",
       "      <td>0</td>\n",
       "      <td>0</td>\n",
       "      <td>0</td>\n",
       "    </tr>\n",
       "    <tr>\n",
       "      <th>153151</th>\n",
       "      <td>fff9d70fe0722906</td>\n",
       "      <td>lucky bastard heh famous kida envy congrat</td>\n",
       "      <td>0</td>\n",
       "      <td>0</td>\n",
       "      <td>0</td>\n",
       "      <td>0</td>\n",
       "      <td>0</td>\n",
       "      <td>0</td>\n",
       "    </tr>\n",
       "    <tr>\n",
       "      <th>153154</th>\n",
       "      <td>fffa8a11c4378854</td>\n",
       "      <td>shame all!!! want speak gay romanian</td>\n",
       "      <td>0</td>\n",
       "      <td>0</td>\n",
       "      <td>0</td>\n",
       "      <td>0</td>\n",
       "      <td>0</td>\n",
       "      <td>0</td>\n",
       "    </tr>\n",
       "    <tr>\n",
       "      <th>153155</th>\n",
       "      <td>fffac2a094c8e0e2</td>\n",
       "      <td>mel gibson nazi bitch make shitty movie much b...</td>\n",
       "      <td>1</td>\n",
       "      <td>0</td>\n",
       "      <td>1</td>\n",
       "      <td>0</td>\n",
       "      <td>1</td>\n",
       "      <td>0</td>\n",
       "    </tr>\n",
       "    <tr>\n",
       "      <th>153156</th>\n",
       "      <td>fffb5451268fb5ba</td>\n",
       "      <td>\" unicorn lair discovery supposedly, unicorn l...</td>\n",
       "      <td>0</td>\n",
       "      <td>0</td>\n",
       "      <td>0</td>\n",
       "      <td>0</td>\n",
       "      <td>0</td>\n",
       "      <td>0</td>\n",
       "    </tr>\n",
       "  </tbody>\n",
       "</table>\n",
       "<p>63711 rows × 8 columns</p>\n",
       "</div>"
      ],
      "text/plain": [
       "                      id                                       comment_text  \\\n",
       "5       0001ea8717f6de06  thank understand think highly would revert wit...   \n",
       "7       000247e83dcc1211                             dear god site horrible   \n",
       "11      0002f87b16116a7f  \" somebody invariably try add religion? really...   \n",
       "13      0003e1cccfd5a40a  \" say right type \"\"type\"\" institut need case t...   \n",
       "14      00059ace3e3e9a53  \" ad new product list, make sure relev ad new ...   \n",
       "...                  ...                                                ...   \n",
       "153150  fff8f64043129fa2  jerome, see never got around ! surpris look ex...   \n",
       "153151  fff9d70fe0722906         lucky bastard heh famous kida envy congrat   \n",
       "153154  fffa8a11c4378854               shame all!!! want speak gay romanian   \n",
       "153155  fffac2a094c8e0e2  mel gibson nazi bitch make shitty movie much b...   \n",
       "153156  fffb5451268fb5ba  \" unicorn lair discovery supposedly, unicorn l...   \n",
       "\n",
       "        toxic  severe_toxic  obscene  threat  insult  identity_hate  \n",
       "5           0             0        0       0       0              0  \n",
       "7           0             0        0       0       0              0  \n",
       "11          0             0        0       0       0              0  \n",
       "13          0             0        0       0       0              0  \n",
       "14          0             0        0       0       0              0  \n",
       "...       ...           ...      ...     ...     ...            ...  \n",
       "153150      0             0        0       0       0              0  \n",
       "153151      0             0        0       0       0              0  \n",
       "153154      0             0        0       0       0              0  \n",
       "153155      1             0        1       0       1              0  \n",
       "153156      0             0        0       0       0              0  \n",
       "\n",
       "[63711 rows x 8 columns]"
      ]
     },
     "execution_count": 39,
     "metadata": {},
     "output_type": "execute_result"
    }
   ],
   "source": [
    "test_unseen = pd.read_csv('csv/test_01.csv')\n",
    "test_labels = pd.read_csv('csv/test_labels.csv')\n",
    "\n",
    "test_text = test_unseen['comment_text'].values.astype('U')\n",
    "\n",
    "unseen_data = pd.merge(test_unseen,test_labels,on=\"id\")\n",
    "unseen_data = unseen_data.dropna(how='any',axis=0)\n",
    "unseen_data = unseen_data[unseen_data[\"toxic\"] != -1]\n",
    "unseen_data"
   ]
  },
  {
   "cell_type": "code",
   "execution_count": null,
   "id": "81b3cbbb",
   "metadata": {},
   "outputs": [],
   "source": []
  },
  {
   "cell_type": "markdown",
   "id": "5099cf08",
   "metadata": {},
   "source": [
    "### Podela na trening i test skup"
   ]
  },
  {
   "cell_type": "code",
   "execution_count": 40,
   "id": "8ca3a4ac",
   "metadata": {},
   "outputs": [],
   "source": [
    "data_text = data['comment_text'].values.astype('U')\n",
    "X = data.drop(labels=['id'], axis=1)\n",
    "y = data.drop(labels = ['id', 'comment_text'], axis=1)"
   ]
  },
  {
   "cell_type": "code",
   "execution_count": 41,
   "id": "fa59b0b5",
   "metadata": {},
   "outputs": [],
   "source": [
    "X_train, X_test, y_train, y_test = model_selection.train_test_split(X, y, test_size = 0.33, random_state=42)\n"
   ]
  },
  {
   "cell_type": "markdown",
   "id": "a4b74da5",
   "metadata": {},
   "source": [
    "### Izdvajanje atributa - feature engineering\n",
    "\n",
    "https://www.youtube.com/watch?v=YyOuDi-zSiI\n",
    "\n",
    "https://medium.com/technovators/machine-learning-based-multi-label-text-classification-9a0e17f88bb4\n",
    "\n",
    "Koristićemo TF-IDF reprezentaciju"
   ]
  },
  {
   "cell_type": "code",
   "execution_count": 42,
   "id": "a7a0461b",
   "metadata": {},
   "outputs": [],
   "source": [
    "# maksimalni broj atributa postavljamo na 10000\n",
    "\n",
    "vectorizer = TfidfVectorizer(strip_accents='unicode', tokenizer=word_tokenize, analyzer='word', ngram_range=(1,3), norm='l2', max_features = 10000)"
   ]
  },
  {
   "cell_type": "code",
   "execution_count": 43,
   "id": "76415f9f",
   "metadata": {},
   "outputs": [],
   "source": [
    "# kreiramo vokabular i transformišemo tekst\n",
    "\n",
    "X_train_vec = vectorizer.fit_transform(X_train['comment_text'])\n",
    "X_test_vec = vectorizer.transform(X_test['comment_text'])"
   ]
  },
  {
   "cell_type": "code",
   "execution_count": 44,
   "id": "12dd9225",
   "metadata": {},
   "outputs": [
    {
     "data": {
      "text/plain": [
       "[', mind',\n",
       " ', miss',\n",
       " ', mostly',\n",
       " ', move',\n",
       " ', mr',\n",
       " ', much',\n",
       " ', must',\n",
       " ', name',\n",
       " ', nation',\n",
       " ', need',\n",
       " ', neither',\n",
       " ', neutral',\n",
       " ', never',\n",
       " ', new',\n",
       " ', new york',\n",
       " ', next',\n",
       " ', nice',\n",
       " ', no',\n",
       " ', no ,',\n",
       " ', nobody']"
      ]
     },
     "execution_count": 44,
     "metadata": {},
     "output_type": "execute_result"
    }
   ],
   "source": [
    "features = vectorizer.get_feature_names()\n",
    "features[1000:1020]"
   ]
  },
  {
   "cell_type": "code",
   "execution_count": 45,
   "id": "b93a895f",
   "metadata": {},
   "outputs": [
    {
     "data": {
      "text/plain": [
       "10000"
      ]
     },
     "execution_count": 45,
     "metadata": {},
     "output_type": "execute_result"
    }
   ],
   "source": [
    "len(vectorizer.vocabulary_)"
   ]
  },
  {
   "cell_type": "code",
   "execution_count": 46,
   "id": "49f2c0ab",
   "metadata": {},
   "outputs": [
    {
     "data": {
      "text/plain": [
       "(106833, 10000)"
      ]
     },
     "execution_count": 46,
     "metadata": {},
     "output_type": "execute_result"
    }
   ],
   "source": [
    "X_train_vec.shape"
   ]
  },
  {
   "cell_type": "markdown",
   "id": "44ea617f",
   "metadata": {},
   "source": [
    "Čuvamo vectorizer i učitavamo ponovo"
   ]
  },
  {
   "cell_type": "code",
   "execution_count": 47,
   "id": "bdcff306",
   "metadata": {},
   "outputs": [],
   "source": [
    "# pickle.dump(vectorizer, open(\"tfidfvectorizer_01.pickle\", \"wb\"))"
   ]
  },
  {
   "cell_type": "code",
   "execution_count": 48,
   "id": "34d75393",
   "metadata": {},
   "outputs": [],
   "source": [
    "loaded_vectorizer = pickle.load(open(\"tfidfvectorizer_01.pickle\", \"rb\"))"
   ]
  },
  {
   "cell_type": "code",
   "execution_count": null,
   "id": "bd8824e6",
   "metadata": {},
   "outputs": [],
   "source": []
  },
  {
   "cell_type": "markdown",
   "id": "7c023980",
   "metadata": {},
   "source": [
    "### Pokušaj pravljenja modela"
   ]
  },
  {
   "cell_type": "code",
   "execution_count": 49,
   "id": "aa6fcfad",
   "metadata": {},
   "outputs": [
    {
     "data": {
      "text/plain": [
       "OneVsRestClassifier(estimator=LinearSVC(), n_jobs=1)"
      ]
     },
     "execution_count": 49,
     "metadata": {},
     "output_type": "execute_result"
    }
   ],
   "source": [
    "from sklearn.multiclass import OneVsRestClassifier\n",
    "from sklearn.svm import LinearSVC\n",
    "\n",
    "clf = OneVsRestClassifier(LinearSVC(), n_jobs=1)\n",
    "\n",
    "clf.fit(X_train_vec, y_train)"
   ]
  },
  {
   "cell_type": "code",
   "execution_count": 50,
   "id": "ea14bd88",
   "metadata": {},
   "outputs": [],
   "source": [
    "# pickle.dump(clf, open(\"clf_01_OneVsRestLinearSVC.pickle\", \"wb\"))"
   ]
  },
  {
   "cell_type": "code",
   "execution_count": 51,
   "id": "8ae15043",
   "metadata": {},
   "outputs": [],
   "source": [
    "pred = clf.predict(X_test_vec)"
   ]
  },
  {
   "cell_type": "markdown",
   "id": "8986b1fe",
   "metadata": {},
   "source": [
    "Metrike:"
   ]
  },
  {
   "cell_type": "code",
   "execution_count": 52,
   "id": "b0b340d7",
   "metadata": {},
   "outputs": [],
   "source": [
    "def get_metrics(y_test, pred):\n",
    "    accuracy = metrics.accuracy_score(y_test, pred)\n",
    "    precision = metrics.precision_score(y_test, pred, average='weighted', labels=np.unique(pred))\n",
    "    recall = metrics.recall_score(y_test, pred, average='weighted', labels=np.unique(pred))\n",
    "    f1 = metrics.f1_score(y_test, pred, average='weighted', labels=np.unique(pred))\n",
    "    auc = metrics.roc_auc_score(y_test, pred)\n",
    "\n",
    "    print('Tačnost: {}'.format(accuracy))\n",
    "    print('Preciznost: {}'.format(precision))\n",
    "    print('Odziv: {}'.format(recall))\n",
    "    print('F1 mera: {}'.format(f1))\n",
    "    print('AUC vrednost:{}'.format(auc))"
   ]
  },
  {
   "cell_type": "code",
   "execution_count": 67,
   "id": "c9269a3b",
   "metadata": {},
   "outputs": [
    {
     "name": "stdout",
     "output_type": "stream",
     "text": [
      "Tačnost: 0.9172557962751805\n",
      "Preciznost: 0.829255757559203\n",
      "Odziv: 0.6273258904837852\n",
      "F1 mera: 0.7117872274611893\n",
      "AUC vrednost:0.713360943266029\n"
     ]
    }
   ],
   "source": [
    "get_metrics(y_test, pred)"
   ]
  },
  {
   "cell_type": "code",
   "execution_count": 54,
   "id": "df837fb9",
   "metadata": {},
   "outputs": [
    {
     "name": "stderr",
     "output_type": "stream",
     "text": [
      "C:\\ProgramData\\Anaconda3\\lib\\site-packages\\sklearn\\metrics\\_classification.py:1245: UndefinedMetricWarning: Precision and F-score are ill-defined and being set to 0.0 in samples with no predicted labels. Use `zero_division` parameter to control this behavior.\n",
      "  _warn_prf(average, modifier, msg_start, len(result))\n",
      "C:\\ProgramData\\Anaconda3\\lib\\site-packages\\sklearn\\metrics\\_classification.py:1245: UndefinedMetricWarning: Recall and F-score are ill-defined and being set to 0.0 in samples with no true labels. Use `zero_division` parameter to control this behavior.\n",
      "  _warn_prf(average, modifier, msg_start, len(result))\n"
     ]
    }
   ],
   "source": [
    "report = metrics.classification_report(y_test, pred)"
   ]
  },
  {
   "cell_type": "code",
   "execution_count": 55,
   "id": "e22ed158",
   "metadata": {},
   "outputs": [
    {
     "name": "stdout",
     "output_type": "stream",
     "text": [
      "              precision    recall  f1-score   support\n",
      "\n",
      "           0       0.87      0.67      0.76      5095\n",
      "           1       0.49      0.21      0.29       548\n",
      "           2       0.88      0.71      0.78      2833\n",
      "           3       0.52      0.21      0.30       155\n",
      "           4       0.79      0.57      0.66      2629\n",
      "           5       0.63      0.23      0.34       492\n",
      "\n",
      "   micro avg       0.83      0.61      0.70     11752\n",
      "   macro avg       0.69      0.43      0.52     11752\n",
      "weighted avg       0.82      0.61      0.70     11752\n",
      " samples avg       0.06      0.06      0.06     11752\n",
      "\n"
     ]
    }
   ],
   "source": [
    "print(report)"
   ]
  },
  {
   "cell_type": "markdown",
   "id": "4e4165d4",
   "metadata": {},
   "source": [
    "Zbog nebalansiranih podataka, dobija se visoka tačnost, ali na osnovu ostalih metrika, jasno je da klasifikacija nije dobra"
   ]
  },
  {
   "cell_type": "code",
   "execution_count": 56,
   "id": "296b4787",
   "metadata": {},
   "outputs": [
    {
     "data": {
      "text/plain": [
       "array([[[46995,   530],\n",
       "        [ 1668,  3427]],\n",
       "\n",
       "       [[51953,   119],\n",
       "        [  435,   113]],\n",
       "\n",
       "       [[49506,   281],\n",
       "        [  834,  1999]],\n",
       "\n",
       "       [[52436,    29],\n",
       "        [  123,    32]],\n",
       "\n",
       "       [[49587,   404],\n",
       "        [ 1139,  1490]],\n",
       "\n",
       "       [[52060,    68],\n",
       "        [  378,   114]]], dtype=int64)"
      ]
     },
     "execution_count": 56,
     "metadata": {},
     "output_type": "execute_result"
    }
   ],
   "source": [
    "confusion_matrix = multilabel_confusion_matrix(y_test, pred)\n",
    "confusion_matrix"
   ]
  },
  {
   "cell_type": "code",
   "execution_count": null,
   "id": "c4f8827a",
   "metadata": {},
   "outputs": [],
   "source": []
  },
  {
   "cell_type": "markdown",
   "id": "44c925aa",
   "metadata": {},
   "source": [
    "### TODO: plot confusion matrix"
   ]
  },
  {
   "cell_type": "code",
   "execution_count": null,
   "id": "b7a68faf",
   "metadata": {},
   "outputs": [],
   "source": []
  },
  {
   "cell_type": "code",
   "execution_count": 57,
   "id": "0c4e5411",
   "metadata": {},
   "outputs": [],
   "source": [
    "#from skmultilearn.problem_transform import ClassifierChain\n",
    "\n",
    "#classifier = ClassifierChain(LinearSVC())\n",
    "#classifier.fit(X_train_vec, y_train)\n",
    "\n",
    "# NIJE USPELO: MemoryError: Unable to allocate 7.96 GiB for an array with shape \n",
    "# (106833, 10000) and data type float64"
   ]
  },
  {
   "cell_type": "code",
   "execution_count": null,
   "id": "0d8ee28f",
   "metadata": {},
   "outputs": [],
   "source": []
  },
  {
   "cell_type": "markdown",
   "id": "11c355ac",
   "metadata": {},
   "source": [
    "### Balansiranje podataka"
   ]
  },
  {
   "cell_type": "markdown",
   "id": "33ac7f98",
   "metadata": {},
   "source": [
    "U prethodnoj svesci videli smo da su podaci značajno nebalansirani, tj. da postoji previše podataka koji ne pripadaju nijednoj klasi (komentari koji nisu uvredljivi). Uradićemo undersampling tih podataka i izjednačiti sa brojem elemenata u najbrojnijoj klasi. Ovo će takođe rešiti i problem na koji smo naišli sa memorijom. "
   ]
  },
  {
   "cell_type": "code",
   "execution_count": 58,
   "id": "3181ead4",
   "metadata": {},
   "outputs": [
    {
     "name": "stderr",
     "output_type": "stream",
     "text": [
      "C:\\ProgramData\\Anaconda3\\lib\\site-packages\\IPython\\core\\magics\\pylab.py:159: UserWarning: pylab import has clobbered these variables: ['clf']\n",
      "`%matplotlib` prevents importing * from pylab and numpy\n",
      "  warn(\"pylab import has clobbered these variables: %s\"  % clobbered +\n"
     ]
    },
    {
     "name": "stdout",
     "output_type": "stream",
     "text": [
      "Populating the interactive namespace from numpy and matplotlib\n"
     ]
    },
    {
     "data": {
      "image/png": "[encoded data removed]",
      "text/plain": [
       "<Figure size 648x648 with 1 Axes>"
      ]
     },
     "metadata": {
      "needs_background": "light"
     },
     "output_type": "display_data"
    }
   ],
   "source": [
    "%pylab inline\n",
    "import matplotlib.image as mpimg\n",
    "plt.figure(figsize=(9,9))\n",
    "img = mpimg.imread('img/02_class_distribution.png')\n",
    "imgplot = plt.imshow(img)\n",
    "plt.show()"
   ]
  },
  {
   "cell_type": "markdown",
   "id": "ab9c75cb",
   "metadata": {},
   "source": [
    "Funkcija koja radi undersampling:"
   ]
  },
  {
   "cell_type": "code",
   "execution_count": 59,
   "id": "e7fe0889",
   "metadata": {},
   "outputs": [],
   "source": [
    "def balance_data(data):\n",
    "    classes = ['toxic', 'severe_toxic', 'obscene', 'threat', 'insult', 'identity_hate']\n",
    "    largest_class_size = (data[classes].sum()).max()\n",
    "    unclassified_data = data[(data['toxic'] == 0) & (data['severe_toxic'] == 0) & (data['obscene'] == 0) & (data['threat'] == 0) & (data['insult'] == 0) & (data['identity_hate'] == 0)] \n",
    "    dropped_rows = unclassified_data.sample(unclassified_data.shape[0] - largest_class_size)\n",
    "    data_balanced = data[~data['id'].isin(dropped_rows['id'])]\n",
    "    return data_balanced"
   ]
  },
  {
   "cell_type": "code",
   "execution_count": 60,
   "id": "f69f0bdc",
   "metadata": {},
   "outputs": [],
   "source": [
    "data_balanced = balance_data(data)"
   ]
  },
  {
   "cell_type": "code",
   "execution_count": 61,
   "id": "e5545882",
   "metadata": {},
   "outputs": [
    {
     "name": "stdout",
     "output_type": "stream",
     "text": [
      "Broj podataka nakon balansiranja:  31503\n"
     ]
    }
   ],
   "source": [
    "print('Broj podataka nakon balansiranja: ', data_balanced.shape[0])"
   ]
  },
  {
   "cell_type": "code",
   "execution_count": 62,
   "id": "628e53b7",
   "metadata": {},
   "outputs": [],
   "source": [
    "data_balanced.to_csv('csv/train_02_balanced.csv', index = False)"
   ]
  },
  {
   "cell_type": "markdown",
   "id": "c872b9c8",
   "metadata": {},
   "source": [
    "Funkcija za izdvajanje trening i test skupa na balansiranim podacima - TODO: izmestiti"
   ]
  },
  {
   "cell_type": "code",
   "execution_count": 63,
   "id": "6d76a363",
   "metadata": {},
   "outputs": [],
   "source": [
    "def feature_selection_and_vectorization(data):\n",
    "    data_text = data['comment_text'].values.astype('U')\n",
    "    X = data.drop(labels=['id'], axis=1)\n",
    "    y = data.drop(labels = ['id', 'comment_text'], axis=1)\n",
    "    X_train, X_test, y_train, y_test = model_selection.train_test_split(X, y, test_size = 0.33, random_state=42)\n",
    "    vectorizer = TfidfVectorizer(strip_accents='unicode', tokenizer=word_tokenize, analyzer='word', ngram_range=(1,3), norm='l2', max_features = 10000)\n",
    "    X_train_vec = vectorizer.fit_transform(X_train['comment_text'])\n",
    "    X_test_vec = vectorizer.transform(X_test['comment_text'])\n",
    "    #pickle.dump(vectorizer, open(\"vectorizer_balanced.pickle\", \"wb\"))\n",
    "    return X_train_vec, X_test_vec, y_train, y_test"
   ]
  },
  {
   "cell_type": "code",
   "execution_count": 64,
   "id": "a6dc0d75",
   "metadata": {},
   "outputs": [],
   "source": [
    "X_train_balanced, X_test_balanced, y_train_balanced, y_test_balanced = feature_selection_and_vectorization(data_balanced)"
   ]
  },
  {
   "cell_type": "code",
   "execution_count": 69,
   "id": "c40add42",
   "metadata": {},
   "outputs": [],
   "source": [
    "clf = OneVsRestClassifier(LinearSVC(), n_jobs=1)\n",
    "clf.fit(X_train_balanced, y_train_balanced)\n",
    "#pickle.dump(clf, open(\"OneVsRestClassifier_LinearSVC_balanced.pickle\", \"wb\"))\n",
    "#clf = pickle.load(open(\"OneVsRestClassifier_LinearSVC_balanced.pickle\", \"rb\"))\n",
    "pred_balanced = clf.predict(X_test_balanced)"
   ]
  },
  {
   "cell_type": "code",
   "execution_count": 70,
   "id": "178afa88",
   "metadata": {},
   "outputs": [
    {
     "name": "stdout",
     "output_type": "stream",
     "text": [
      "Tačnost: 0.6337052712581762\n",
      "Preciznost: 0.8395546395699038\n",
      "Odziv: 0.7932391343230192\n",
      "F1 mera: 0.8121423628769786\n",
      "AUC vrednost:0.7301071224221497\n"
     ]
    }
   ],
   "source": [
    "get_metrics(y_test_balanced, pred_balanced)"
   ]
  },
  {
   "cell_type": "markdown",
   "id": "ae021251",
   "metadata": {},
   "source": [
    "Tacnost je opala, ali ostale metrike su znacajno vise"
   ]
  },
  {
   "cell_type": "code",
   "execution_count": 114,
   "id": "02c16d61",
   "metadata": {},
   "outputs": [
    {
     "name": "stderr",
     "output_type": "stream",
     "text": [
      "C:\\ProgramData\\Anaconda3\\lib\\site-packages\\sklearn\\metrics\\_classification.py:1245: UndefinedMetricWarning: Precision and F-score are ill-defined and being set to 0.0 in samples with no predicted labels. Use `zero_division` parameter to control this behavior.\n",
      "  _warn_prf(average, modifier, msg_start, len(result))\n",
      "C:\\ProgramData\\Anaconda3\\lib\\site-packages\\sklearn\\metrics\\_classification.py:1245: UndefinedMetricWarning: Recall and F-score are ill-defined and being set to 0.0 in samples with no true labels. Use `zero_division` parameter to control this behavior.\n",
      "  _warn_prf(average, modifier, msg_start, len(result))\n"
     ]
    }
   ],
   "source": [
    "balanced_report = metrics.classification_report(y_test_balanced, pred_balanced)"
   ]
  },
  {
   "cell_type": "code",
   "execution_count": 115,
   "id": "e133698e",
   "metadata": {},
   "outputs": [
    {
     "name": "stdout",
     "output_type": "stream",
     "text": [
      "              precision    recall  f1-score   support\n",
      "\n",
      "           0       0.88      0.85      0.86      5019\n",
      "           1       0.50      0.22      0.30       512\n",
      "           2       0.86      0.72      0.79      2805\n",
      "           3       0.61      0.25      0.35       167\n",
      "           4       0.72      0.62      0.67      2564\n",
      "           5       0.64      0.29      0.40       482\n",
      "\n",
      "   micro avg       0.82      0.71      0.76     11549\n",
      "   macro avg       0.70      0.49      0.56     11549\n",
      "weighted avg       0.81      0.71      0.75     11549\n",
      " samples avg       0.38      0.35      0.35     11549\n",
      "\n"
     ]
    }
   ],
   "source": [
    "print(balanced_report)"
   ]
  },
  {
   "cell_type": "code",
   "execution_count": 116,
   "id": "a7c1fefb",
   "metadata": {},
   "outputs": [
    {
     "data": {
      "text/plain": [
       "array([[[46995,   530],\n",
       "        [ 1668,  3427]],\n",
       "\n",
       "       [[51953,   119],\n",
       "        [  435,   113]],\n",
       "\n",
       "       [[49506,   281],\n",
       "        [  834,  1999]],\n",
       "\n",
       "       [[52436,    29],\n",
       "        [  123,    32]],\n",
       "\n",
       "       [[49587,   404],\n",
       "        [ 1139,  1490]],\n",
       "\n",
       "       [[52060,    68],\n",
       "        [  378,   114]]], dtype=int64)"
      ]
     },
     "execution_count": 116,
     "metadata": {},
     "output_type": "execute_result"
    }
   ],
   "source": [
    "confusion_matrix_balanced = multilabel_confusion_matrix(y_test_balanced, pred_balanced\n",
    "                                                       )\n",
    "confusion_matrix"
   ]
  },
  {
   "cell_type": "code",
   "execution_count": 44,
   "id": "4fa3f90e",
   "metadata": {},
   "outputs": [],
   "source": []
  },
  {
   "cell_type": "code",
   "execution_count": null,
   "id": "143a4712",
   "metadata": {},
   "outputs": [],
   "source": []
  },
  {
   "cell_type": "code",
   "execution_count": null,
   "id": "7b04255c",
   "metadata": {},
   "outputs": [],
   "source": []
  }
 ],
 "metadata": {
  "kernelspec": {
   "display_name": "Python 3",
   "language": "python",
   "name": "python3"
  },
  "language_info": {
   "codemirror_mode": {
    "name": "ipython",
    "version": 3
   },
   "file_extension": ".py",
   "mimetype": "text/x-python",
   "name": "python",
   "nbconvert_exporter": "python",
   "pygments_lexer": "ipython3",
   "version": "3.8.8"
  }
 },
 "nbformat": 4,
 "nbformat_minor": 5
}
