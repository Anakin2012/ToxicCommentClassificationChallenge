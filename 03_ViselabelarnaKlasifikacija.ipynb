{
 "cells": [
  {
   "cell_type": "code",
   "execution_count": 1,
   "id": "eb4fa92d",
   "metadata": {},
   "outputs": [],
   "source": [
    "import pandas as pd\n",
    "import numpy as np\n",
    "from matplotlib import pyplot as plt\n",
    "\n",
    "import pickle\n",
    "import sklearn\n",
    "import time\n",
    "from sklearn import metrics\n",
    "from sklearn import model_selection\n",
    "from sklearn.metrics import multilabel_confusion_matrix\n",
    "\n",
    "import warnings\n",
    "warnings.simplefilter(action='ignore', category=FutureWarning)"
   ]
  },
  {
   "cell_type": "code",
   "execution_count": 2,
   "id": "d8c18f75",
   "metadata": {},
   "outputs": [],
   "source": [
    "%run SharedFunctions.ipynb"
   ]
  },
  {
   "cell_type": "code",
   "execution_count": null,
   "id": "d4a6f169",
   "metadata": {},
   "outputs": [],
   "source": []
  },
  {
   "cell_type": "markdown",
   "id": "41cb269b",
   "metadata": {},
   "source": [
    "Učitava se prethodno pripremljen skup podataka: "
   ]
  },
  {
   "cell_type": "code",
   "execution_count": 3,
   "id": "bb216802",
   "metadata": {},
   "outputs": [],
   "source": [
    "data = pd.read_csv('data/data_longer.csv')\n",
    "data.drop(columns=['Unnamed: 0'], inplace=True)"
   ]
  },
  {
   "cell_type": "markdown",
   "id": "9b7129d0",
   "metadata": {},
   "source": [
    "U ovom slučaju, koristi se samo deo podataka koji ima neku labelu, tj. samo toksični komentari. Njih je potrebno klasifikovati u 6 različitih klasa (sa preklapanjem)."
   ]
  },
  {
   "cell_type": "code",
   "execution_count": 4,
   "id": "2112e5a5",
   "metadata": {},
   "outputs": [],
   "source": [
    "labels = ['toxic', 'severe_toxic', 'obscene', 'threat', 'insult', 'identity_hate']\n",
    "data = data[data['target'] == 1]"
   ]
  },
  {
   "cell_type": "code",
   "execution_count": 5,
   "id": "e605464d",
   "metadata": {},
   "outputs": [
    {
     "data": {
      "text/html": [
       "<div>\n",
       "<style scoped>\n",
       "    .dataframe tbody tr th:only-of-type {\n",
       "        vertical-align: middle;\n",
       "    }\n",
       "\n",
       "    .dataframe tbody tr th {\n",
       "        vertical-align: top;\n",
       "    }\n",
       "\n",
       "    .dataframe thead th {\n",
       "        text-align: right;\n",
       "    }\n",
       "</style>\n",
       "<table border=\"1\" class=\"dataframe\">\n",
       "  <thead>\n",
       "    <tr style=\"text-align: right;\">\n",
       "      <th></th>\n",
       "      <th>comment_text</th>\n",
       "      <th>toxic</th>\n",
       "      <th>severe_toxic</th>\n",
       "      <th>obscene</th>\n",
       "      <th>threat</th>\n",
       "      <th>insult</th>\n",
       "      <th>identity_hate</th>\n",
       "      <th>target</th>\n",
       "      <th>word_count</th>\n",
       "    </tr>\n",
       "  </thead>\n",
       "  <tbody>\n",
       "    <tr>\n",
       "      <th>6</th>\n",
       "      <td>cocksucker before you piss around on my work</td>\n",
       "      <td>1</td>\n",
       "      <td>1</td>\n",
       "      <td>1</td>\n",
       "      <td>0</td>\n",
       "      <td>1</td>\n",
       "      <td>0</td>\n",
       "      <td>1</td>\n",
       "      <td>8</td>\n",
       "    </tr>\n",
       "    <tr>\n",
       "      <th>12</th>\n",
       "      <td>hey what is it   talk  what is it an exclusive...</td>\n",
       "      <td>1</td>\n",
       "      <td>0</td>\n",
       "      <td>0</td>\n",
       "      <td>0</td>\n",
       "      <td>0</td>\n",
       "      <td>0</td>\n",
       "      <td>1</td>\n",
       "      <td>50</td>\n",
       "    </tr>\n",
       "    <tr>\n",
       "      <th>16</th>\n",
       "      <td>bye   dont look come or think of comming back ...</td>\n",
       "      <td>1</td>\n",
       "      <td>0</td>\n",
       "      <td>0</td>\n",
       "      <td>0</td>\n",
       "      <td>0</td>\n",
       "      <td>0</td>\n",
       "      <td>1</td>\n",
       "      <td>10</td>\n",
       "    </tr>\n",
       "    <tr>\n",
       "      <th>42</th>\n",
       "      <td>you are gay or antisemmitian   archangel white...</td>\n",
       "      <td>1</td>\n",
       "      <td>0</td>\n",
       "      <td>1</td>\n",
       "      <td>0</td>\n",
       "      <td>1</td>\n",
       "      <td>1</td>\n",
       "      <td>1</td>\n",
       "      <td>109</td>\n",
       "    </tr>\n",
       "    <tr>\n",
       "      <th>43</th>\n",
       "      <td>fuck your filthy mother in the ass dry</td>\n",
       "      <td>1</td>\n",
       "      <td>0</td>\n",
       "      <td>1</td>\n",
       "      <td>0</td>\n",
       "      <td>1</td>\n",
       "      <td>0</td>\n",
       "      <td>1</td>\n",
       "      <td>8</td>\n",
       "    </tr>\n",
       "  </tbody>\n",
       "</table>\n",
       "</div>"
      ],
      "text/plain": [
       "                                         comment_text  toxic  severe_toxic  \\\n",
       "6        cocksucker before you piss around on my work      1             1   \n",
       "12  hey what is it   talk  what is it an exclusive...      1             0   \n",
       "16  bye   dont look come or think of comming back ...      1             0   \n",
       "42  you are gay or antisemmitian   archangel white...      1             0   \n",
       "43             fuck your filthy mother in the ass dry      1             0   \n",
       "\n",
       "    obscene  threat  insult  identity_hate  target  word_count  \n",
       "6         1       0       1              0       1           8  \n",
       "12        0       0       0              0       1          50  \n",
       "16        0       0       0              0       1          10  \n",
       "42        1       0       1              1       1         109  \n",
       "43        1       0       1              0       1           8  "
      ]
     },
     "execution_count": 5,
     "metadata": {},
     "output_type": "execute_result"
    }
   ],
   "source": [
    "data.head()"
   ]
  },
  {
   "cell_type": "code",
   "execution_count": 6,
   "id": "73afb2e5",
   "metadata": {},
   "outputs": [
    {
     "data": {
      "text/plain": [
       "(22468, 9)"
      ]
     },
     "execution_count": 6,
     "metadata": {},
     "output_type": "execute_result"
    }
   ],
   "source": [
    "data.shape"
   ]
  },
  {
   "cell_type": "markdown",
   "id": "924e6bb6",
   "metadata": {},
   "source": [
    "Dakle, broj instanci za višelabelarnu klasifikaciju je 22468"
   ]
  },
  {
   "cell_type": "code",
   "execution_count": 7,
   "id": "5a6fb3f7",
   "metadata": {},
   "outputs": [
    {
     "data": {
      "text/plain": [
       "48.906044151682394"
      ]
     },
     "execution_count": 7,
     "metadata": {},
     "output_type": "execute_result"
    }
   ],
   "source": [
    "# prosecan broj reci po komentaru\n",
    "\n",
    "data['word_count'].mean()"
   ]
  },
  {
   "cell_type": "markdown",
   "id": "68d0d514",
   "metadata": {},
   "source": [
    "### 1. Podela na trening, test, i validacioni skup"
   ]
  },
  {
   "cell_type": "code",
   "execution_count": null,
   "id": "7d956610",
   "metadata": {},
   "outputs": [],
   "source": []
  },
  {
   "cell_type": "code",
   "execution_count": 8,
   "id": "a47d919e",
   "metadata": {},
   "outputs": [],
   "source": [
    "X = data['comment_text']\n",
    "y = data[labels]\n",
    "\n",
    "X_train_validation, X_test, y_train_validation, y_test = \\\n",
    "    model_selection.train_test_split(X, y, test_size=0.33, random_state=7)\n",
    "\n",
    "X_train, X_validation, y_train, y_validation =\\\n",
    "    model_selection.train_test_split(X_train_validation, y_train_validation, test_size=0.2, random_state=7)"
   ]
  },
  {
   "cell_type": "markdown",
   "id": "09a1c672",
   "metadata": {},
   "source": [
    " train_test_split izbacuje gresku\n",
    " ValueError: The least populated class in y has only 1 member, \n",
    " which is too few. The minimum number of groups for any class cannot be less than 2.\n",
    "\n",
    " X_train, X_test, y_train, y_test = model_selection.train_test_split(X, y, test_size=0.33, random_state=7, stratify=y)"
   ]
  },
  {
   "cell_type": "code",
   "execution_count": 9,
   "id": "011a0fb7",
   "metadata": {},
   "outputs": [],
   "source": [
    "# RUCNO:"
   ]
  },
  {
   "cell_type": "code",
   "execution_count": 10,
   "id": "09d11381",
   "metadata": {},
   "outputs": [],
   "source": [
    "#test_size = int(0.3 * data.shape[0])\n",
    "#train_size = data.shape[0] - test_size\n",
    "#validation_size = int(0.2 * train_size)\n",
    "#train_size -= validation_size"
   ]
  },
  {
   "cell_type": "code",
   "execution_count": 11,
   "id": "3408c120",
   "metadata": {},
   "outputs": [],
   "source": [
    "#train_data = data[:train_size]\n",
    "#validation_data = data[train_size : train_size + validation_size]\n",
    "#test_data = data[train_size+validation_size: ]"
   ]
  },
  {
   "cell_type": "code",
   "execution_count": 12,
   "id": "6b3c6389",
   "metadata": {},
   "outputs": [],
   "source": [
    "#X_train = train_data['comment_text']\n",
    "#X_validation = validation_data['comment_text']\n",
    "#X_test = test_data['comment_text']\n",
    "\n",
    "#y_train = train_data[labels]\n",
    "#y_test = test_data[labels]\n",
    "#y_validation = validation_data[labels]"
   ]
  },
  {
   "cell_type": "code",
   "execution_count": 13,
   "id": "bb6db433",
   "metadata": {},
   "outputs": [],
   "source": [
    "label_counts = {}\n",
    "for label in labels:\n",
    "    label_counts[label] = (y_test[y_test[label]==1].shape[0])"
   ]
  },
  {
   "cell_type": "markdown",
   "id": "c9f9dc21",
   "metadata": {},
   "source": [
    "### 2. Tokenizacija I vektorizacija teksta"
   ]
  },
  {
   "cell_type": "code",
   "execution_count": 14,
   "id": "e0d090e1",
   "metadata": {},
   "outputs": [],
   "source": [
    "# uzima se recimo 20000 najfrekventinijh reci\n",
    "max_features = 10000\n",
    "\n",
    "# max duzina\n",
    "max_len = 50"
   ]
  },
  {
   "cell_type": "code",
   "execution_count": 15,
   "id": "136b88c6",
   "metadata": {},
   "outputs": [],
   "source": [
    "word_index, tokenizer = get_vocabulary(max_features, X_train, 'tokenizer_multi.pickle')"
   ]
  },
  {
   "cell_type": "code",
   "execution_count": 16,
   "id": "f12da6a2",
   "metadata": {},
   "outputs": [
    {
     "name": "stdout",
     "output_type": "stream",
     "text": [
      "Broj jedinstvenih reci: 31529\n"
     ]
    }
   ],
   "source": [
    "print('Broj jedinstvenih reci:', len(word_index))"
   ]
  },
  {
   "cell_type": "code",
   "execution_count": 17,
   "id": "264f9784",
   "metadata": {},
   "outputs": [],
   "source": [
    "X_train = to_sequence(X_train, max_len, tokenizer)\n",
    "X_test = to_sequence(X_test, max_len, tokenizer)\n",
    "X_validation = to_sequence(X_validation, max_len, tokenizer)"
   ]
  },
  {
   "cell_type": "code",
   "execution_count": 18,
   "id": "1124c664",
   "metadata": {},
   "outputs": [
    {
     "data": {
      "text/plain": [
       "((12042, 50), (7415, 50), (3011, 50))"
      ]
     },
     "execution_count": 18,
     "metadata": {},
     "output_type": "execute_result"
    }
   ],
   "source": [
    "X_train.shape, X_test.shape, X_validation.shape"
   ]
  },
  {
   "cell_type": "code",
   "execution_count": null,
   "id": "7d892b74",
   "metadata": {},
   "outputs": [],
   "source": []
  },
  {
   "cell_type": "code",
   "execution_count": 19,
   "id": "1ee3435a",
   "metadata": {},
   "outputs": [],
   "source": [
    "# kreiranje matrice ugnjezdjavanja\n",
    "\n",
    "embedding_matrix = create_embedding_matrix(word_index, max_len)"
   ]
  },
  {
   "cell_type": "code",
   "execution_count": null,
   "id": "17f7714a",
   "metadata": {},
   "outputs": [],
   "source": []
  },
  {
   "cell_type": "markdown",
   "id": "0b9b9192",
   "metadata": {},
   "source": [
    "### 3. Formiranje modela"
   ]
  },
  {
   "cell_type": "markdown",
   "id": "a6119772",
   "metadata": {},
   "source": [
    "Odmah se prelazi na formiranje modela, parametre izabrani isprobavanjem"
   ]
  },
  {
   "cell_type": "code",
   "execution_count": 20,
   "id": "9a9dbf39",
   "metadata": {},
   "outputs": [],
   "source": [
    "kernel_size = 3\n",
    "pool_size = 4\n",
    "filters = 64\n",
    "dropout_rate = 0.2\n",
    "embedding_dim = 50\n",
    "lr = 0.001\n",
    "layers = 0"
   ]
  },
  {
   "cell_type": "code",
   "execution_count": 21,
   "id": "8828375f",
   "metadata": {},
   "outputs": [
    {
     "name": "stdout",
     "output_type": "stream",
     "text": [
      "Model: \"sequential\"\n",
      "_________________________________________________________________\n",
      "Layer (type)                 Output Shape              Param #   \n",
      "=================================================================\n",
      "embedding (Embedding)        (None, 50, 50)            500000    \n",
      "_________________________________________________________________\n",
      "conv1d (Conv1D)              (None, 50, 64)            9664      \n",
      "_________________________________________________________________\n",
      "max_pooling1d (MaxPooling1D) (None, 12, 64)            0         \n",
      "_________________________________________________________________\n",
      "conv1d_1 (Conv1D)            (None, 12, 128)           24704     \n",
      "_________________________________________________________________\n",
      "max_pooling1d_1 (MaxPooling1 (None, 3, 128)            0         \n",
      "_________________________________________________________________\n",
      "dropout (Dropout)            (None, 3, 128)            0         \n",
      "_________________________________________________________________\n",
      "global_average_pooling1d (Gl (None, 128)               0         \n",
      "_________________________________________________________________\n",
      "flatten (Flatten)            (None, 128)               0         \n",
      "_________________________________________________________________\n",
      "dense (Dense)                (None, 6)                 774       \n",
      "=================================================================\n",
      "Total params: 535,142\n",
      "Trainable params: 35,142\n",
      "Non-trainable params: 500,000\n",
      "_________________________________________________________________\n"
     ]
    }
   ],
   "source": [
    "multi_model = create_model(num_of_classes = 6, num_of_features = max_features, embedding_dim = embedding_dim, \n",
    "                           kernel_size = kernel_size, pool_size = pool_size, filters = filters, \n",
    "                           dropout_rate = dropout_rate, maxlen = max_len, lr = lr, \n",
    "                           embedding_matrix = embedding_matrix, layers=layers)"
   ]
  },
  {
   "cell_type": "code",
   "execution_count": null,
   "id": "a6dd204f",
   "metadata": {},
   "outputs": [],
   "source": []
  },
  {
   "cell_type": "markdown",
   "id": "3cadc5e6",
   "metadata": {},
   "source": [
    "### 4. Obučavanje modela"
   ]
  },
  {
   "cell_type": "code",
   "execution_count": 22,
   "id": "e3362f23",
   "metadata": {},
   "outputs": [],
   "source": [
    "# TODO weights"
   ]
  },
  {
   "cell_type": "code",
   "execution_count": 23,
   "id": "5ab09a2a",
   "metadata": {},
   "outputs": [
    {
     "data": {
      "text/plain": [
       "{0: 0.17511535104127696,\n",
       " 1: 1.90859667006456,\n",
       " 2: 0.3084568918176826,\n",
       " 3: 5.43492985002419,\n",
       " 4: 0.3312691672564284,\n",
       " 5: 1.7688552983782082}"
      ]
     },
     "execution_count": 23,
     "metadata": {},
     "output_type": "execute_result"
    }
   ],
   "source": [
    "weights = get_weights(data[labels].to_numpy(), 6)\n",
    "weights"
   ]
  },
  {
   "cell_type": "code",
   "execution_count": 24,
   "id": "56e4b179",
   "metadata": {},
   "outputs": [],
   "source": [
    "epochs = 15\n",
    "batch_size = 64"
   ]
  },
  {
   "cell_type": "code",
   "execution_count": 25,
   "id": "af602db6",
   "metadata": {},
   "outputs": [
    {
     "name": "stdout",
     "output_type": "stream",
     "text": [
      "Epoch 1/15\n",
      "189/189 [==============================] - 3s 7ms/step - loss: 0.0875 - accuracy: 0.9296 - f1_m: 0.7550 - val_loss: 0.3605 - val_accuracy: 0.9545 - val_f1_m: 0.7773\n",
      "Epoch 2/15\n",
      "189/189 [==============================] - 1s 5ms/step - loss: 0.0765 - accuracy: 0.9442 - f1_m: 0.7794 - val_loss: 0.3440 - val_accuracy: 0.9508 - val_f1_m: 0.7856\n",
      "Epoch 3/15\n",
      "189/189 [==============================] - 1s 5ms/step - loss: 0.0729 - accuracy: 0.9420 - f1_m: 0.7864 - val_loss: 0.3398 - val_accuracy: 0.9256 - val_f1_m: 0.7897\n",
      "Epoch 4/15\n",
      "189/189 [==============================] - 1s 5ms/step - loss: 0.0701 - accuracy: 0.9316 - f1_m: 0.7924 - val_loss: 0.3315 - val_accuracy: 0.9229 - val_f1_m: 0.7886\n",
      "Epoch 5/15\n",
      "189/189 [==============================] - 1s 5ms/step - loss: 0.0678 - accuracy: 0.9203 - f1_m: 0.7950 - val_loss: 0.3295 - val_accuracy: 0.9382 - val_f1_m: 0.7774\n",
      "Epoch 6/15\n",
      "189/189 [==============================] - 1s 5ms/step - loss: 0.0660 - accuracy: 0.9143 - f1_m: 0.7987 - val_loss: 0.3261 - val_accuracy: 0.9017 - val_f1_m: 0.7910\n",
      "Epoch 7/15\n",
      "189/189 [==============================] - 1s 5ms/step - loss: 0.0639 - accuracy: 0.9094 - f1_m: 0.8039 - val_loss: 0.3229 - val_accuracy: 0.9329 - val_f1_m: 0.7866\n",
      "Epoch 8/15\n",
      "189/189 [==============================] - 1s 6ms/step - loss: 0.0620 - accuracy: 0.8974 - f1_m: 0.8080 - val_loss: 0.3233 - val_accuracy: 0.8854 - val_f1_m: 0.7851\n",
      "Epoch 9/15\n",
      "189/189 [==============================] - 1s 6ms/step - loss: 0.0606 - accuracy: 0.8856 - f1_m: 0.8104 - val_loss: 0.3202 - val_accuracy: 0.8904 - val_f1_m: 0.7875\n",
      "Epoch 10/15\n",
      "189/189 [==============================] - 1s 6ms/step - loss: 0.0589 - accuracy: 0.8888 - f1_m: 0.8135 - val_loss: 0.3145 - val_accuracy: 0.8917 - val_f1_m: 0.7992\n",
      "Epoch 11/15\n",
      "189/189 [==============================] - 1s 6ms/step - loss: 0.0576 - accuracy: 0.8763 - f1_m: 0.8151 - val_loss: 0.3149 - val_accuracy: 0.8456 - val_f1_m: 0.8035\n",
      "Epoch 12/15\n",
      "189/189 [==============================] - 1s 6ms/step - loss: 0.0564 - accuracy: 0.8758 - f1_m: 0.8204 - val_loss: 0.3117 - val_accuracy: 0.9057 - val_f1_m: 0.8031\n",
      "Epoch 13/15\n",
      "189/189 [==============================] - 1s 6ms/step - loss: 0.0554 - accuracy: 0.8724 - f1_m: 0.8225 - val_loss: 0.3197 - val_accuracy: 0.8223 - val_f1_m: 0.8071\n",
      "Epoch 14/15\n",
      "189/189 [==============================] - 1s 6ms/step - loss: 0.0540 - accuracy: 0.8626 - f1_m: 0.8274 - val_loss: 0.3169 - val_accuracy: 0.8512 - val_f1_m: 0.8043\n",
      "Epoch 15/15\n",
      "189/189 [==============================] - 1s 6ms/step - loss: 0.0529 - accuracy: 0.8626 - f1_m: 0.8314 - val_loss: 0.3186 - val_accuracy: 0.8180 - val_f1_m: 0.8092\n",
      "Trajanje obucavanja modela multilabel klasifikacije:  18.049758434295654\n"
     ]
    }
   ],
   "source": [
    "start = time.time()    \n",
    "\n",
    "multi_history = multi_model.fit(X_train, y_train, batch_size=batch_size, epochs=epochs, \n",
    "                                validation_data=(X_validation, y_validation),\n",
    "                                class_weight=weights)\n",
    "                                 \n",
    "print('Trajanje obucavanja modela multilabel klasifikacije: ', time.time() - start)"
   ]
  },
  {
   "cell_type": "code",
   "execution_count": null,
   "id": "fee2cb63",
   "metadata": {},
   "outputs": [],
   "source": []
  },
  {
   "cell_type": "code",
   "execution_count": 26,
   "id": "0fe8ae39",
   "metadata": {},
   "outputs": [
    {
     "data": {
      "image/png": "[encoded data removed]",
      "text/plain": [
       "<Figure size 1080x360 with 3 Axes>"
      ]
     },
     "metadata": {
      "needs_background": "light"
     },
     "output_type": "display_data"
    }
   ],
   "source": [
    "plot_graphs(multi_history, ['accuracy', 'loss', 'f1_m'])"
   ]
  },
  {
   "cell_type": "code",
   "execution_count": null,
   "id": "9a339b9b",
   "metadata": {},
   "outputs": [],
   "source": []
  },
  {
   "cell_type": "markdown",
   "id": "3c7db9a5",
   "metadata": {},
   "source": [
    "### 5. Evaluacija modela"
   ]
  },
  {
   "cell_type": "code",
   "execution_count": 27,
   "id": "b0c731ca",
   "metadata": {},
   "outputs": [
    {
     "name": "stdout",
     "output_type": "stream",
     "text": [
      "232/232 [==============================] - 0s 2ms/step - loss: 0.3219 - accuracy: 0.8189 - f1_m: 0.8082\n",
      "Loss:  0.32186058163642883\n",
      "Test accuracy:  0.8188806176185608\n",
      "F1:  0.8082356452941895\n"
     ]
    }
   ],
   "source": [
    "scores = multi_model.evaluate(X_test, y_test)\n",
    "print('Loss: ', scores[0])\n",
    "print('Test accuracy: ', scores[1])\n",
    "print('F1: ', scores[2])"
   ]
  },
  {
   "cell_type": "markdown",
   "id": "fa7f1cb0",
   "metadata": {},
   "source": [
    "Predviđanje:"
   ]
  },
  {
   "cell_type": "code",
   "execution_count": 28,
   "id": "cf20574e",
   "metadata": {},
   "outputs": [],
   "source": [
    "y_predicted = multi_model.predict(X_test)"
   ]
  },
  {
   "cell_type": "code",
   "execution_count": 29,
   "id": "88f579a2",
   "metadata": {},
   "outputs": [],
   "source": [
    "y_labels = y_predicted.round()"
   ]
  },
  {
   "cell_type": "code",
   "execution_count": 30,
   "id": "8d514392",
   "metadata": {},
   "outputs": [],
   "source": [
    "cf = multilabel_confusion_matrix(y_test, y_labels)"
   ]
  },
  {
   "cell_type": "code",
   "execution_count": 31,
   "id": "82e853da",
   "metadata": {},
   "outputs": [
    {
     "data": {
      "text/plain": [
       "{'toxic': 7058,\n",
       " 'severe_toxic': 649,\n",
       " 'obscene': 3976,\n",
       " 'threat': 236,\n",
       " 'insult': 3709,\n",
       " 'identity_hate': 735}"
      ]
     },
     "execution_count": 31,
     "metadata": {},
     "output_type": "execute_result"
    }
   ],
   "source": [
    "label_counts"
   ]
  },
  {
   "cell_type": "code",
   "execution_count": 32,
   "id": "1a0ff368",
   "metadata": {},
   "outputs": [
    {
     "data": {
      "image/png": "[encoded data removed]",
      "text/plain": [
       "<Figure size 1296x648 with 12 Axes>"
      ]
     },
     "metadata": {
      "needs_background": "light"
     },
     "output_type": "display_data"
    }
   ],
   "source": [
    "plot_cf(cf, 'multi', labels)"
   ]
  },
  {
   "cell_type": "code",
   "execution_count": 33,
   "id": "a6086d71",
   "metadata": {},
   "outputs": [
    {
     "name": "stdout",
     "output_type": "stream",
     "text": [
      "---------------------- IZVESTAJ -----------------------\n",
      "\n",
      "               precision    recall  f1-score   support\n",
      "\n",
      "        toxic       0.95      0.99      0.97      7058\n",
      " severe_toxic       0.50      0.24      0.32       649\n",
      "      obscene       0.76      0.77      0.76      3976\n",
      "       threat       0.45      0.19      0.26       236\n",
      "       insult       0.68      0.71      0.69      3709\n",
      "identity_hate       0.54      0.33      0.41       735\n",
      "\n",
      "    micro avg       0.82      0.80      0.81     16363\n",
      "    macro avg       0.65      0.54      0.57     16363\n",
      " weighted avg       0.80      0.80      0.80     16363\n",
      "  samples avg       0.83      0.84      0.79     16363\n",
      "\n"
     ]
    },
    {
     "name": "stderr",
     "output_type": "stream",
     "text": [
      "C:\\Users\\panap\\anaconda3\\envs\\envi\\lib\\site-packages\\sklearn\\metrics\\_classification.py:1327: UndefinedMetricWarning: Precision and F-score are ill-defined and being set to 0.0 in samples with no predicted labels. Use `zero_division` parameter to control this behavior.\n",
      "  _warn_prf(average, modifier, msg_start, len(result))\n"
     ]
    }
   ],
   "source": [
    "print('---------------------- IZVESTAJ -----------------------\\n')\n",
    "print(metrics.classification_report(y_test, y_labels,\n",
    "      target_names=labels))"
   ]
  },
  {
   "cell_type": "code",
   "execution_count": null,
   "id": "5fba0fdf",
   "metadata": {},
   "outputs": [],
   "source": []
  }
 ],
 "metadata": {
  "kernelspec": {
   "display_name": "Python 3 (ipykernel)",
   "language": "python",
   "name": "python3"
  },
  "language_info": {
   "codemirror_mode": {
    "name": "ipython",
    "version": 3
   },
   "file_extension": ".py",
   "mimetype": "text/x-python",
   "name": "python",
   "nbconvert_exporter": "python",
   "pygments_lexer": "ipython3",
   "version": "3.9.6"
  }
 },
 "nbformat": 4,
 "nbformat_minor": 5
}
