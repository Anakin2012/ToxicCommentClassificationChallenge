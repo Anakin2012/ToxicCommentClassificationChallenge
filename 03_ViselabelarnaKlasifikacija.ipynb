{
 "cells": [
  {
   "cell_type": "code",
   "execution_count": 38,
   "id": "eb4fa92d",
   "metadata": {},
   "outputs": [],
   "source": [
    "import pandas as pd\n",
    "import numpy as np\n",
    "from matplotlib import pyplot as plt\n",
    "\n",
    "import pickle\n",
    "import sklearn\n",
    "import time\n",
    "from sklearn import metrics\n",
    "from sklearn import model_selection\n",
    "from sklearn.metrics import multilabel_confusion_matrix\n",
    "\n",
    "import warnings\n",
    "warnings.simplefilter(action='ignore', category=FutureWarning)"
   ]
  },
  {
   "cell_type": "code",
   "execution_count": 62,
   "id": "d8c18f75",
   "metadata": {},
   "outputs": [],
   "source": [
    "%run SharedFunctions.ipynb"
   ]
  },
  {
   "cell_type": "code",
   "execution_count": null,
   "id": "d4a6f169",
   "metadata": {},
   "outputs": [],
   "source": []
  },
  {
   "cell_type": "markdown",
   "id": "41cb269b",
   "metadata": {},
   "source": [
    "Učitava se prethodno pripremljen skup podataka: "
   ]
  },
  {
   "cell_type": "code",
   "execution_count": 3,
   "id": "bb216802",
   "metadata": {},
   "outputs": [],
   "source": [
    "data = pd.read_csv('data/data_longer.csv')\n",
    "data.drop(columns=['Unnamed: 0'], inplace=True)"
   ]
  },
  {
   "cell_type": "markdown",
   "id": "9b7129d0",
   "metadata": {},
   "source": [
    "U ovom slučaju, koristi se samo deo podataka koji ima neku labelu, tj. samo toksični komentari. Njih je potrebno klasifikovati u 6 različitih klasa (sa preklapanjem)."
   ]
  },
  {
   "cell_type": "code",
   "execution_count": 4,
   "id": "2112e5a5",
   "metadata": {},
   "outputs": [],
   "source": [
    "labels = ['toxic', 'severe_toxic', 'obscene', 'threat', 'insult', 'identity_hate']\n",
    "data = data[data['target'] == 1]"
   ]
  },
  {
   "cell_type": "code",
   "execution_count": 5,
   "id": "e605464d",
   "metadata": {},
   "outputs": [
    {
     "data": {
      "text/html": [
       "<div>\n",
       "<style scoped>\n",
       "    .dataframe tbody tr th:only-of-type {\n",
       "        vertical-align: middle;\n",
       "    }\n",
       "\n",
       "    .dataframe tbody tr th {\n",
       "        vertical-align: top;\n",
       "    }\n",
       "\n",
       "    .dataframe thead th {\n",
       "        text-align: right;\n",
       "    }\n",
       "</style>\n",
       "<table border=\"1\" class=\"dataframe\">\n",
       "  <thead>\n",
       "    <tr style=\"text-align: right;\">\n",
       "      <th></th>\n",
       "      <th>comment_text</th>\n",
       "      <th>toxic</th>\n",
       "      <th>severe_toxic</th>\n",
       "      <th>obscene</th>\n",
       "      <th>threat</th>\n",
       "      <th>insult</th>\n",
       "      <th>identity_hate</th>\n",
       "      <th>target</th>\n",
       "      <th>word_count</th>\n",
       "    </tr>\n",
       "  </thead>\n",
       "  <tbody>\n",
       "    <tr>\n",
       "      <th>6</th>\n",
       "      <td>cocksucker before you piss around on my work</td>\n",
       "      <td>1</td>\n",
       "      <td>1</td>\n",
       "      <td>1</td>\n",
       "      <td>0</td>\n",
       "      <td>1</td>\n",
       "      <td>0</td>\n",
       "      <td>1</td>\n",
       "      <td>8</td>\n",
       "    </tr>\n",
       "    <tr>\n",
       "      <th>12</th>\n",
       "      <td>hey what is it   talk  what is it an exclusive...</td>\n",
       "      <td>1</td>\n",
       "      <td>0</td>\n",
       "      <td>0</td>\n",
       "      <td>0</td>\n",
       "      <td>0</td>\n",
       "      <td>0</td>\n",
       "      <td>1</td>\n",
       "      <td>50</td>\n",
       "    </tr>\n",
       "    <tr>\n",
       "      <th>16</th>\n",
       "      <td>bye   dont look come or think of comming back ...</td>\n",
       "      <td>1</td>\n",
       "      <td>0</td>\n",
       "      <td>0</td>\n",
       "      <td>0</td>\n",
       "      <td>0</td>\n",
       "      <td>0</td>\n",
       "      <td>1</td>\n",
       "      <td>10</td>\n",
       "    </tr>\n",
       "    <tr>\n",
       "      <th>42</th>\n",
       "      <td>you are gay or antisemmitian   archangel white...</td>\n",
       "      <td>1</td>\n",
       "      <td>0</td>\n",
       "      <td>1</td>\n",
       "      <td>0</td>\n",
       "      <td>1</td>\n",
       "      <td>1</td>\n",
       "      <td>1</td>\n",
       "      <td>109</td>\n",
       "    </tr>\n",
       "    <tr>\n",
       "      <th>43</th>\n",
       "      <td>fuck your filthy mother in the ass dry</td>\n",
       "      <td>1</td>\n",
       "      <td>0</td>\n",
       "      <td>1</td>\n",
       "      <td>0</td>\n",
       "      <td>1</td>\n",
       "      <td>0</td>\n",
       "      <td>1</td>\n",
       "      <td>8</td>\n",
       "    </tr>\n",
       "  </tbody>\n",
       "</table>\n",
       "</div>"
      ],
      "text/plain": [
       "                                         comment_text  toxic  severe_toxic  \\\n",
       "6        cocksucker before you piss around on my work      1             1   \n",
       "12  hey what is it   talk  what is it an exclusive...      1             0   \n",
       "16  bye   dont look come or think of comming back ...      1             0   \n",
       "42  you are gay or antisemmitian   archangel white...      1             0   \n",
       "43             fuck your filthy mother in the ass dry      1             0   \n",
       "\n",
       "    obscene  threat  insult  identity_hate  target  word_count  \n",
       "6         1       0       1              0       1           8  \n",
       "12        0       0       0              0       1          50  \n",
       "16        0       0       0              0       1          10  \n",
       "42        1       0       1              1       1         109  \n",
       "43        1       0       1              0       1           8  "
      ]
     },
     "execution_count": 5,
     "metadata": {},
     "output_type": "execute_result"
    }
   ],
   "source": [
    "data.head()"
   ]
  },
  {
   "cell_type": "code",
   "execution_count": 6,
   "id": "73afb2e5",
   "metadata": {},
   "outputs": [
    {
     "data": {
      "text/plain": [
       "(22468, 9)"
      ]
     },
     "execution_count": 6,
     "metadata": {},
     "output_type": "execute_result"
    }
   ],
   "source": [
    "data.shape"
   ]
  },
  {
   "cell_type": "markdown",
   "id": "924e6bb6",
   "metadata": {},
   "source": [
    "Dakle, broj instanci za višelabelarnu klasifikaciju je 22468"
   ]
  },
  {
   "cell_type": "code",
   "execution_count": null,
   "id": "5a6fb3f7",
   "metadata": {},
   "outputs": [],
   "source": []
  },
  {
   "cell_type": "markdown",
   "id": "68d0d514",
   "metadata": {},
   "source": [
    "### 1. Podela na trening, test, i validacioni skup"
   ]
  },
  {
   "cell_type": "markdown",
   "id": "3e4dc1fb",
   "metadata": {},
   "source": [
    "Ovde će podela biti odrađena ručno, jer je skup podataka mali. "
   ]
  },
  {
   "cell_type": "code",
   "execution_count": null,
   "id": "a47d919e",
   "metadata": {},
   "outputs": [],
   "source": []
  },
  {
   "cell_type": "code",
   "execution_count": 9,
   "id": "ec1070f8",
   "metadata": {},
   "outputs": [],
   "source": [
    "# train_test_split izbacuje gresku\n",
    "# ValueError: The least populated class in y has only 1 member, \n",
    "# which is too few. The minimum number of groups for any class cannot be less than 2.\n",
    "\n",
    "# X_train, X_test, y_train, y_test = model_selection.train_test_split(data['comment_text'], data[labels], test_size=0.33, random_state=7, stratify=data[labels])"
   ]
  },
  {
   "cell_type": "code",
   "execution_count": 10,
   "id": "09d11381",
   "metadata": {},
   "outputs": [],
   "source": [
    "test_size = int(0.3 * data.shape[0])\n",
    "train_size = data.shape[0] - test_size\n",
    "validation_size = int(0.2 * train_size)\n",
    "train_size -= validation_size"
   ]
  },
  {
   "cell_type": "code",
   "execution_count": 11,
   "id": "3408c120",
   "metadata": {},
   "outputs": [],
   "source": [
    "train_data = data[:train_size]\n",
    "validation_data = data[train_size : train_size + validation_size]\n",
    "test_data = data[train_size+validation_size: ]"
   ]
  },
  {
   "cell_type": "code",
   "execution_count": 12,
   "id": "6b3c6389",
   "metadata": {},
   "outputs": [],
   "source": [
    "X_train = train_data['comment_text']\n",
    "X_validation = validation_data['comment_text']\n",
    "X_test = test_data['comment_text']\n",
    "\n",
    "y_train = train_data[labels]\n",
    "y_test = test_data[labels]\n",
    "y_validation = validation_data[labels]"
   ]
  },
  {
   "cell_type": "code",
   "execution_count": null,
   "id": "bb6db433",
   "metadata": {},
   "outputs": [],
   "source": []
  },
  {
   "cell_type": "markdown",
   "id": "c9f9dc21",
   "metadata": {},
   "source": [
    "### 2. Tokenizacija I vektorizacija teksta"
   ]
  },
  {
   "cell_type": "code",
   "execution_count": 13,
   "id": "e0d090e1",
   "metadata": {},
   "outputs": [],
   "source": [
    "# uzima se recimo 20000 najfrekventinijh reci\n",
    "max_features = 20000\n",
    "\n",
    "# max duzina\n",
    "max_len = 100"
   ]
  },
  {
   "cell_type": "code",
   "execution_count": 14,
   "id": "136b88c6",
   "metadata": {},
   "outputs": [],
   "source": [
    "word_index, tokenizer = get_vocabulary(max_features, X_train, 'tokenizer_multi.pickle')"
   ]
  },
  {
   "cell_type": "code",
   "execution_count": 15,
   "id": "f12da6a2",
   "metadata": {},
   "outputs": [
    {
     "name": "stdout",
     "output_type": "stream",
     "text": [
      "Broj jedinstvenih reci: 31832\n"
     ]
    }
   ],
   "source": [
    "print('Broj jedinstvenih reci:', len(word_index))"
   ]
  },
  {
   "cell_type": "code",
   "execution_count": 16,
   "id": "264f9784",
   "metadata": {},
   "outputs": [],
   "source": [
    "X_train = to_sequence(X_train, max_len, tokenizer)\n",
    "X_test = to_sequence(X_test, max_len, tokenizer)\n",
    "X_validation = to_sequence(X_validation, max_len, tokenizer)"
   ]
  },
  {
   "cell_type": "code",
   "execution_count": 17,
   "id": "1124c664",
   "metadata": {},
   "outputs": [
    {
     "data": {
      "text/plain": [
       "((12583, 100), (6740, 100), (3145, 100))"
      ]
     },
     "execution_count": 17,
     "metadata": {},
     "output_type": "execute_result"
    }
   ],
   "source": [
    "X_train.shape, X_test.shape, X_validation.shape"
   ]
  },
  {
   "cell_type": "code",
   "execution_count": null,
   "id": "7d892b74",
   "metadata": {},
   "outputs": [],
   "source": []
  },
  {
   "cell_type": "code",
   "execution_count": 18,
   "id": "1ee3435a",
   "metadata": {},
   "outputs": [],
   "source": [
    "# kreiranje matrice ugnjezdjavanja\n",
    "\n",
    "embedding_matrix = create_embedding_matrix(word_index, max_len)"
   ]
  },
  {
   "cell_type": "code",
   "execution_count": null,
   "id": "17f7714a",
   "metadata": {},
   "outputs": [],
   "source": []
  },
  {
   "cell_type": "markdown",
   "id": "0b9b9192",
   "metadata": {},
   "source": [
    "### 3. Formiranje modela"
   ]
  },
  {
   "cell_type": "markdown",
   "id": "a6119772",
   "metadata": {},
   "source": [
    "Odmah se prelazi na formiranje modela, koristiće se isti parametri koji su izabrani kao najbolji za binarnu klasifikaciju."
   ]
  },
  {
   "cell_type": "code",
   "execution_count": 86,
   "id": "9a9dbf39",
   "metadata": {},
   "outputs": [],
   "source": [
    "kernel_size = 4\n",
    "pool_size = 4\n",
    "filters = 64\n",
    "dropout_rate = 0.4\n",
    "embedding_dim = 100\n",
    "lr = 0.001"
   ]
  },
  {
   "cell_type": "code",
   "execution_count": 87,
   "id": "8828375f",
   "metadata": {},
   "outputs": [
    {
     "name": "stdout",
     "output_type": "stream",
     "text": [
      "Model: \"sequential_2\"\n",
      "_________________________________________________________________\n",
      " Layer (type)                Output Shape              Param #   \n",
      "=================================================================\n",
      " embedding_2 (Embedding)     (None, 100, 100)          2000000   \n",
      "                                                                 \n",
      " conv1d_4 (Conv1D)           (None, 100, 64)           25664     \n",
      "                                                                 \n",
      " max_pooling1d_4 (MaxPooling  (None, 25, 64)           0         \n",
      " 1D)                                                             \n",
      "                                                                 \n",
      " conv1d_5 (Conv1D)           (None, 25, 128)           32896     \n",
      "                                                                 \n",
      " max_pooling1d_5 (MaxPooling  (None, 6, 128)           0         \n",
      " 1D)                                                             \n",
      "                                                                 \n",
      " dropout_2 (Dropout)         (None, 6, 128)            0         \n",
      "                                                                 \n",
      " global_average_pooling1d_2   (None, 128)              0         \n",
      " (GlobalAveragePooling1D)                                        \n",
      "                                                                 \n",
      " flatten_2 (Flatten)         (None, 128)               0         \n",
      "                                                                 \n",
      " dense_2 (Dense)             (None, 6)                 774       \n",
      "                                                                 \n",
      "=================================================================\n",
      "Total params: 2,059,334\n",
      "Trainable params: 59,334\n",
      "Non-trainable params: 2,000,000\n",
      "_________________________________________________________________\n"
     ]
    }
   ],
   "source": [
    "multi_model = create_model(num_of_classes = 6, num_of_features = max_features, embedding_dim = embedding_dim, \n",
    "                           kernel_size = kernel_size, pool_size = pool_size, filters = filters, \n",
    "                           dropout_rate = dropout_rate, maxlen = max_len, lr = lr, \n",
    "                           embedding_matrix = embedding_matrix, layers=0)"
   ]
  },
  {
   "cell_type": "code",
   "execution_count": null,
   "id": "a6dd204f",
   "metadata": {},
   "outputs": [],
   "source": []
  },
  {
   "cell_type": "markdown",
   "id": "3cadc5e6",
   "metadata": {},
   "source": [
    "### 4. Obučavanje modela"
   ]
  },
  {
   "cell_type": "code",
   "execution_count": 85,
   "id": "e3362f23",
   "metadata": {},
   "outputs": [],
   "source": [
    "# TODO weights\n"
   ]
  },
  {
   "cell_type": "code",
   "execution_count": 88,
   "id": "56e4b179",
   "metadata": {},
   "outputs": [],
   "source": [
    "epochs = 15\n",
    "batch_size = 64"
   ]
  },
  {
   "cell_type": "code",
   "execution_count": 89,
   "id": "af602db6",
   "metadata": {},
   "outputs": [
    {
     "name": "stdout",
     "output_type": "stream",
     "text": [
      "Epoch 1/15\n",
      "197/197 [==============================] - 10s 34ms/step - loss: 0.3890 - accuracy: 0.9414 - f1_m: 0.7584 - val_loss: 0.3394 - val_accuracy: 0.9297 - val_f1_m: 0.7819\n",
      "Epoch 2/15\n",
      "197/197 [==============================] - 6s 30ms/step - loss: 0.3255 - accuracy: 0.9193 - f1_m: 0.8025 - val_loss: 0.3164 - val_accuracy: 0.9119 - val_f1_m: 0.7987\n",
      "Epoch 3/15\n",
      "197/197 [==============================] - 6s 28ms/step - loss: 0.3089 - accuracy: 0.8937 - f1_m: 0.8124 - val_loss: 0.3036 - val_accuracy: 0.8986 - val_f1_m: 0.8133\n",
      "Epoch 4/15\n",
      "197/197 [==============================] - 6s 28ms/step - loss: 0.2936 - accuracy: 0.8827 - f1_m: 0.8218 - val_loss: 0.2998 - val_accuracy: 0.8824 - val_f1_m: 0.8067\n",
      "Epoch 5/15\n",
      "197/197 [==============================] - 6s 28ms/step - loss: 0.2834 - accuracy: 0.8595 - f1_m: 0.8279 - val_loss: 0.3113 - val_accuracy: 0.8986 - val_f1_m: 0.7975\n",
      "Epoch 6/15\n",
      "197/197 [==============================] - 6s 28ms/step - loss: 0.2754 - accuracy: 0.8487 - f1_m: 0.8347 - val_loss: 0.2942 - val_accuracy: 0.8432 - val_f1_m: 0.8220\n",
      "Epoch 7/15\n",
      "197/197 [==============================] - 5s 28ms/step - loss: 0.2658 - accuracy: 0.8372 - f1_m: 0.8416 - val_loss: 0.2920 - val_accuracy: 0.8305 - val_f1_m: 0.8165\n",
      "Epoch 8/15\n",
      "197/197 [==============================] - 6s 28ms/step - loss: 0.2583 - accuracy: 0.8273 - f1_m: 0.8444 - val_loss: 0.2935 - val_accuracy: 0.8035 - val_f1_m: 0.8250\n",
      "Epoch 9/15\n",
      "197/197 [==============================] - 6s 29ms/step - loss: 0.2514 - accuracy: 0.8097 - f1_m: 0.8502 - val_loss: 0.2979 - val_accuracy: 0.8134 - val_f1_m: 0.8169\n",
      "Epoch 10/15\n",
      "197/197 [==============================] - 6s 29ms/step - loss: 0.2431 - accuracy: 0.7995 - f1_m: 0.8556 - val_loss: 0.2974 - val_accuracy: 0.7291 - val_f1_m: 0.8260\n",
      "Epoch 11/15\n",
      "197/197 [==============================] - 6s 28ms/step - loss: 0.2360 - accuracy: 0.7807 - f1_m: 0.8619 - val_loss: 0.2933 - val_accuracy: 0.7965 - val_f1_m: 0.8175\n",
      "Epoch 12/15\n",
      "197/197 [==============================] - 5s 28ms/step - loss: 0.2286 - accuracy: 0.7741 - f1_m: 0.8652 - val_loss: 0.3001 - val_accuracy: 0.7266 - val_f1_m: 0.8264\n",
      "Epoch 13/15\n",
      "197/197 [==============================] - 6s 29ms/step - loss: 0.2211 - accuracy: 0.7556 - f1_m: 0.8719 - val_loss: 0.3021 - val_accuracy: 0.7739 - val_f1_m: 0.8178\n",
      "Epoch 14/15\n",
      "197/197 [==============================] - 6s 29ms/step - loss: 0.2149 - accuracy: 0.7524 - f1_m: 0.8757 - val_loss: 0.3050 - val_accuracy: 0.7339 - val_f1_m: 0.8213\n",
      "Epoch 15/15\n",
      "197/197 [==============================] - 6s 28ms/step - loss: 0.2082 - accuracy: 0.7413 - f1_m: 0.8804 - val_loss: 0.3136 - val_accuracy: 0.7647 - val_f1_m: 0.8143\n",
      "Trajanje obucavanja modela multilabel klasifikacije:  88.44921445846558\n"
     ]
    }
   ],
   "source": [
    "start = time.time()    \n",
    "\n",
    "multi_history = multi_model.fit(X_train, y_train, batch_size=batch_size, epochs=epochs, \n",
    "                                 validation_data=(X_validation, y_validation))\n",
    "                                #, class_weight=weights)\n",
    "                                 \n",
    "print('Trajanje obucavanja modela multilabel klasifikacije: ', time.time() - start)"
   ]
  },
  {
   "cell_type": "code",
   "execution_count": null,
   "id": "fee2cb63",
   "metadata": {},
   "outputs": [],
   "source": []
  },
  {
   "cell_type": "code",
   "execution_count": 90,
   "id": "0fe8ae39",
   "metadata": {},
   "outputs": [
    {
     "data": {
      "image/png": "[encoded data removed]",
      "text/plain": [
       "<Figure size 1080x360 with 3 Axes>"
      ]
     },
     "metadata": {
      "needs_background": "light"
     },
     "output_type": "display_data"
    }
   ],
   "source": [
    "plot_graphs(multi_history, ['accuracy', 'loss', 'f1_m'])"
   ]
  },
  {
   "cell_type": "code",
   "execution_count": null,
   "id": "9a339b9b",
   "metadata": {},
   "outputs": [],
   "source": []
  },
  {
   "cell_type": "markdown",
   "id": "3c7db9a5",
   "metadata": {},
   "source": [
    "### 5. Evaluacija modela"
   ]
  },
  {
   "cell_type": "code",
   "execution_count": 91,
   "id": "b0c731ca",
   "metadata": {},
   "outputs": [
    {
     "name": "stdout",
     "output_type": "stream",
     "text": [
      "211/211 [==============================] - 2s 7ms/step - loss: 0.3085 - accuracy: 0.7868 - f1_m: 0.8210\n",
      "Loss:  0.30854538083076477\n",
      "Test accuracy:  0.7867952585220337\n",
      "F1:  0.8209932446479797\n"
     ]
    }
   ],
   "source": [
    "scores = multi_model.evaluate(X_test, y_test)\n",
    "print('Loss: ', scores[0])\n",
    "print('Test accuracy: ', scores[1])\n",
    "print('F1: ', scores[2])"
   ]
  },
  {
   "cell_type": "markdown",
   "id": "fa7f1cb0",
   "metadata": {},
   "source": [
    "Predviđanje:"
   ]
  },
  {
   "cell_type": "code",
   "execution_count": 92,
   "id": "cf20574e",
   "metadata": {},
   "outputs": [
    {
     "name": "stdout",
     "output_type": "stream",
     "text": [
      "211/211 [==============================] - 2s 6ms/step\n"
     ]
    }
   ],
   "source": [
    "y_predicted = multi_model.predict(X_test)"
   ]
  },
  {
   "cell_type": "code",
   "execution_count": 93,
   "id": "88f579a2",
   "metadata": {},
   "outputs": [],
   "source": [
    "y_labels = y_predicted.round()"
   ]
  },
  {
   "cell_type": "code",
   "execution_count": 94,
   "id": "477d1f30",
   "metadata": {},
   "outputs": [
    {
     "data": {
      "text/plain": [
       "array([[1., 0., 0., 0., 0., 0.],\n",
       "       [1., 0., 0., 0., 0., 0.],\n",
       "       [1., 0., 0., 0., 0., 0.],\n",
       "       ...,\n",
       "       [1., 0., 0., 0., 0., 0.],\n",
       "       [1., 0., 0., 0., 0., 0.],\n",
       "       [1., 0., 1., 0., 1., 0.]], dtype=float32)"
      ]
     },
     "execution_count": 94,
     "metadata": {},
     "output_type": "execute_result"
    }
   ],
   "source": [
    "y_labels"
   ]
  },
  {
   "cell_type": "code",
   "execution_count": 95,
   "id": "8d514392",
   "metadata": {},
   "outputs": [],
   "source": [
    "cf = multilabel_confusion_matrix(y_test, y_labels)"
   ]
  },
  {
   "cell_type": "code",
   "execution_count": 96,
   "id": "f57d36ec",
   "metadata": {},
   "outputs": [],
   "source": [
    "label_counts = []\n",
    "for label in labels:\n",
    "    label_counts.append(y_test[y_test[label]==1].shape[0])"
   ]
  },
  {
   "cell_type": "code",
   "execution_count": 97,
   "id": "82e853da",
   "metadata": {},
   "outputs": [
    {
     "data": {
      "text/plain": [
       "[6567, 410, 3937, 229, 3658, 758]"
      ]
     },
     "execution_count": 97,
     "metadata": {},
     "output_type": "execute_result"
    }
   ],
   "source": [
    "label_counts"
   ]
  },
  {
   "cell_type": "code",
   "execution_count": 98,
   "id": "1a0ff368",
   "metadata": {},
   "outputs": [
    {
     "data": {
      "image/png": "[encoded data removed]",
      "text/plain": [
       "<Figure size 1296x648 with 12 Axes>"
      ]
     },
     "metadata": {
      "needs_background": "light"
     },
     "output_type": "display_data"
    }
   ],
   "source": [
    "plot_cf(cf, 'multi', labels)"
   ]
  },
  {
   "cell_type": "code",
   "execution_count": 99,
   "id": "a6086d71",
   "metadata": {},
   "outputs": [
    {
     "name": "stdout",
     "output_type": "stream",
     "text": [
      "---------------------- IZVESTAJ -----------------------\n",
      "\n",
      "               precision    recall  f1-score   support\n",
      "\n",
      "        toxic       0.97      1.00      0.99      6567\n",
      " severe_toxic       0.43      0.25      0.31       410\n",
      "      obscene       0.86      0.68      0.76      3937\n",
      "       threat       0.59      0.24      0.34       229\n",
      "       insult       0.78      0.61      0.69      3658\n",
      "identity_hate       0.74      0.32      0.44       758\n",
      "\n",
      "    micro avg       0.89      0.76      0.82     15559\n",
      "    macro avg       0.73      0.52      0.59     15559\n",
      " weighted avg       0.87      0.76      0.81     15559\n",
      "  samples avg       0.91      0.80      0.81     15559\n",
      "\n"
     ]
    }
   ],
   "source": [
    "print('---------------------- IZVESTAJ -----------------------\\n')\n",
    "print(metrics.classification_report(y_test, y_labels,\n",
    "      target_names=labels))"
   ]
  },
  {
   "cell_type": "code",
   "execution_count": null,
   "id": "0dee777d",
   "metadata": {},
   "outputs": [],
   "source": []
  }
 ],
 "metadata": {
  "kernelspec": {
   "display_name": "Python 3 (ipykernel)",
   "language": "python",
   "name": "python3"
  },
  "language_info": {
   "codemirror_mode": {
    "name": "ipython",
    "version": 3
   },
   "file_extension": ".py",
   "mimetype": "text/x-python",
   "name": "python",
   "nbconvert_exporter": "python",
   "pygments_lexer": "ipython3",
   "version": "3.9.12"
  }
 },
 "nbformat": 4,
 "nbformat_minor": 5
}
