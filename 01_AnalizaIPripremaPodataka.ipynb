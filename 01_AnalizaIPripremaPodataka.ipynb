{
 "cells": [
  {
   "cell_type": "code",
   "execution_count": 3,
   "id": "7167a55a",
   "metadata": {},
   "outputs": [],
   "source": [
    "import pandas as pd\n",
    "import numpy as np\n",
    "from matplotlib import pyplot as plt"
   ]
  },
  {
   "cell_type": "code",
   "execution_count": 4,
   "id": "475b882a",
   "metadata": {},
   "outputs": [],
   "source": [
    "from IPython.display import Image\n",
    "from wordcloud import WordCloud, STOPWORDS\n",
    "import string\n",
    "from sklearn.feature_extraction.text import CountVectorizer\n",
    "import re\n",
    "from nltk.corpus import stopwords\n",
    "from nltk.tokenize import word_tokenize"
   ]
  },
  {
   "cell_type": "markdown",
   "id": "4ade435d",
   "metadata": {},
   "source": [
    "## Učitavanje skupa podataka"
   ]
  },
  {
   "cell_type": "code",
   "execution_count": 5,
   "id": "43185b0a",
   "metadata": {},
   "outputs": [],
   "source": [
    "data_train = pd.read_csv('data/train.csv')\n",
    "data_test = pd.read_csv('data/test.csv')\n",
    "test_labels = pd.read_csv('data/test_labels.csv')"
   ]
  },
  {
   "cell_type": "markdown",
   "id": "9cb8efe0",
   "metadata": {},
   "source": [
    "Skup za obučavanje sadrži 159571 instanci, a skup za testiranje 153164 (ali će većina biti izbačeno jer ne postoje labele za njih). "
   ]
  },
  {
   "cell_type": "code",
   "execution_count": 6,
   "id": "a31d5d6f",
   "metadata": {},
   "outputs": [
    {
     "data": {
      "text/plain": [
       "(159571, 8)"
      ]
     },
     "execution_count": 6,
     "metadata": {},
     "output_type": "execute_result"
    }
   ],
   "source": [
    "data_train.shape"
   ]
  },
  {
   "cell_type": "code",
   "execution_count": 7,
   "id": "64dcfeac",
   "metadata": {},
   "outputs": [
    {
     "data": {
      "text/plain": [
       "((153164, 2), (153164, 7))"
      ]
     },
     "execution_count": 7,
     "metadata": {},
     "output_type": "execute_result"
    }
   ],
   "source": [
    "data_test.shape, test_labels.shape"
   ]
  },
  {
   "cell_type": "code",
   "execution_count": null,
   "id": "1c0cd54e",
   "metadata": {},
   "outputs": [],
   "source": []
  },
  {
   "cell_type": "code",
   "execution_count": 8,
   "id": "6d8308f9",
   "metadata": {},
   "outputs": [
    {
     "data": {
      "text/html": [
       "<div>\n",
       "<style scoped>\n",
       "    .dataframe tbody tr th:only-of-type {\n",
       "        vertical-align: middle;\n",
       "    }\n",
       "\n",
       "    .dataframe tbody tr th {\n",
       "        vertical-align: top;\n",
       "    }\n",
       "\n",
       "    .dataframe thead th {\n",
       "        text-align: right;\n",
       "    }\n",
       "</style>\n",
       "<table border=\"1\" class=\"dataframe\">\n",
       "  <thead>\n",
       "    <tr style=\"text-align: right;\">\n",
       "      <th></th>\n",
       "      <th>id</th>\n",
       "      <th>comment_text</th>\n",
       "    </tr>\n",
       "  </thead>\n",
       "  <tbody>\n",
       "    <tr>\n",
       "      <th>0</th>\n",
       "      <td>00001cee341fdb12</td>\n",
       "      <td>Yo bitch Ja Rule is more succesful then you'll...</td>\n",
       "    </tr>\n",
       "    <tr>\n",
       "      <th>1</th>\n",
       "      <td>0000247867823ef7</td>\n",
       "      <td>== From RfC == \\n\\n The title is fine as it is...</td>\n",
       "    </tr>\n",
       "    <tr>\n",
       "      <th>2</th>\n",
       "      <td>00013b17ad220c46</td>\n",
       "      <td>\" \\n\\n == Sources == \\n\\n * Zawe Ashton on Lap...</td>\n",
       "    </tr>\n",
       "    <tr>\n",
       "      <th>3</th>\n",
       "      <td>00017563c3f7919a</td>\n",
       "      <td>:If you have a look back at the source, the in...</td>\n",
       "    </tr>\n",
       "    <tr>\n",
       "      <th>4</th>\n",
       "      <td>00017695ad8997eb</td>\n",
       "      <td>I don't anonymously edit articles at all.</td>\n",
       "    </tr>\n",
       "  </tbody>\n",
       "</table>\n",
       "</div>"
      ],
      "text/plain": [
       "                 id                                       comment_text\n",
       "0  00001cee341fdb12  Yo bitch Ja Rule is more succesful then you'll...\n",
       "1  0000247867823ef7  == From RfC == \\n\\n The title is fine as it is...\n",
       "2  00013b17ad220c46  \" \\n\\n == Sources == \\n\\n * Zawe Ashton on Lap...\n",
       "3  00017563c3f7919a  :If you have a look back at the source, the in...\n",
       "4  00017695ad8997eb          I don't anonymously edit articles at all."
      ]
     },
     "execution_count": 8,
     "metadata": {},
     "output_type": "execute_result"
    }
   ],
   "source": [
    "data_test.head()"
   ]
  },
  {
   "cell_type": "code",
   "execution_count": 9,
   "id": "2d266b1b",
   "metadata": {},
   "outputs": [
    {
     "data": {
      "text/html": [
       "<div>\n",
       "<style scoped>\n",
       "    .dataframe tbody tr th:only-of-type {\n",
       "        vertical-align: middle;\n",
       "    }\n",
       "\n",
       "    .dataframe tbody tr th {\n",
       "        vertical-align: top;\n",
       "    }\n",
       "\n",
       "    .dataframe thead th {\n",
       "        text-align: right;\n",
       "    }\n",
       "</style>\n",
       "<table border=\"1\" class=\"dataframe\">\n",
       "  <thead>\n",
       "    <tr style=\"text-align: right;\">\n",
       "      <th></th>\n",
       "      <th>id</th>\n",
       "      <th>toxic</th>\n",
       "      <th>severe_toxic</th>\n",
       "      <th>obscene</th>\n",
       "      <th>threat</th>\n",
       "      <th>insult</th>\n",
       "      <th>identity_hate</th>\n",
       "    </tr>\n",
       "  </thead>\n",
       "  <tbody>\n",
       "    <tr>\n",
       "      <th>0</th>\n",
       "      <td>00001cee341fdb12</td>\n",
       "      <td>-1</td>\n",
       "      <td>-1</td>\n",
       "      <td>-1</td>\n",
       "      <td>-1</td>\n",
       "      <td>-1</td>\n",
       "      <td>-1</td>\n",
       "    </tr>\n",
       "    <tr>\n",
       "      <th>1</th>\n",
       "      <td>0000247867823ef7</td>\n",
       "      <td>-1</td>\n",
       "      <td>-1</td>\n",
       "      <td>-1</td>\n",
       "      <td>-1</td>\n",
       "      <td>-1</td>\n",
       "      <td>-1</td>\n",
       "    </tr>\n",
       "    <tr>\n",
       "      <th>2</th>\n",
       "      <td>00013b17ad220c46</td>\n",
       "      <td>-1</td>\n",
       "      <td>-1</td>\n",
       "      <td>-1</td>\n",
       "      <td>-1</td>\n",
       "      <td>-1</td>\n",
       "      <td>-1</td>\n",
       "    </tr>\n",
       "    <tr>\n",
       "      <th>3</th>\n",
       "      <td>00017563c3f7919a</td>\n",
       "      <td>-1</td>\n",
       "      <td>-1</td>\n",
       "      <td>-1</td>\n",
       "      <td>-1</td>\n",
       "      <td>-1</td>\n",
       "      <td>-1</td>\n",
       "    </tr>\n",
       "    <tr>\n",
       "      <th>4</th>\n",
       "      <td>00017695ad8997eb</td>\n",
       "      <td>-1</td>\n",
       "      <td>-1</td>\n",
       "      <td>-1</td>\n",
       "      <td>-1</td>\n",
       "      <td>-1</td>\n",
       "      <td>-1</td>\n",
       "    </tr>\n",
       "  </tbody>\n",
       "</table>\n",
       "</div>"
      ],
      "text/plain": [
       "                 id  toxic  severe_toxic  obscene  threat  insult  \\\n",
       "0  00001cee341fdb12     -1            -1       -1      -1      -1   \n",
       "1  0000247867823ef7     -1            -1       -1      -1      -1   \n",
       "2  00013b17ad220c46     -1            -1       -1      -1      -1   \n",
       "3  00017563c3f7919a     -1            -1       -1      -1      -1   \n",
       "4  00017695ad8997eb     -1            -1       -1      -1      -1   \n",
       "\n",
       "   identity_hate  \n",
       "0             -1  \n",
       "1             -1  \n",
       "2             -1  \n",
       "3             -1  \n",
       "4             -1  "
      ]
     },
     "execution_count": 9,
     "metadata": {},
     "output_type": "execute_result"
    }
   ],
   "source": [
    "test_labels.head()"
   ]
  },
  {
   "cell_type": "code",
   "execution_count": null,
   "id": "f8837af1",
   "metadata": {},
   "outputs": [],
   "source": []
  },
  {
   "cell_type": "markdown",
   "id": "2302d9bf",
   "metadata": {},
   "source": [
    "test i test_labels je potrebno spojiti preko id-ja"
   ]
  },
  {
   "cell_type": "code",
   "execution_count": 10,
   "id": "4cbc4b26",
   "metadata": {},
   "outputs": [],
   "source": [
    "data_test = pd.merge(data_test, test_labels, on='id')"
   ]
  },
  {
   "cell_type": "code",
   "execution_count": null,
   "id": "fbb387c6",
   "metadata": {},
   "outputs": [],
   "source": []
  },
  {
   "cell_type": "code",
   "execution_count": 11,
   "id": "c8c5aa13",
   "metadata": {},
   "outputs": [
    {
     "data": {
      "text/html": [
       "<div>\n",
       "<style scoped>\n",
       "    .dataframe tbody tr th:only-of-type {\n",
       "        vertical-align: middle;\n",
       "    }\n",
       "\n",
       "    .dataframe tbody tr th {\n",
       "        vertical-align: top;\n",
       "    }\n",
       "\n",
       "    .dataframe thead th {\n",
       "        text-align: right;\n",
       "    }\n",
       "</style>\n",
       "<table border=\"1\" class=\"dataframe\">\n",
       "  <thead>\n",
       "    <tr style=\"text-align: right;\">\n",
       "      <th></th>\n",
       "      <th>id</th>\n",
       "      <th>comment_text</th>\n",
       "      <th>toxic</th>\n",
       "      <th>severe_toxic</th>\n",
       "      <th>obscene</th>\n",
       "      <th>threat</th>\n",
       "      <th>insult</th>\n",
       "      <th>identity_hate</th>\n",
       "    </tr>\n",
       "  </thead>\n",
       "  <tbody>\n",
       "    <tr>\n",
       "      <th>0</th>\n",
       "      <td>00001cee341fdb12</td>\n",
       "      <td>Yo bitch Ja Rule is more succesful then you'll...</td>\n",
       "      <td>-1</td>\n",
       "      <td>-1</td>\n",
       "      <td>-1</td>\n",
       "      <td>-1</td>\n",
       "      <td>-1</td>\n",
       "      <td>-1</td>\n",
       "    </tr>\n",
       "    <tr>\n",
       "      <th>1</th>\n",
       "      <td>0000247867823ef7</td>\n",
       "      <td>== From RfC == \\n\\n The title is fine as it is...</td>\n",
       "      <td>-1</td>\n",
       "      <td>-1</td>\n",
       "      <td>-1</td>\n",
       "      <td>-1</td>\n",
       "      <td>-1</td>\n",
       "      <td>-1</td>\n",
       "    </tr>\n",
       "    <tr>\n",
       "      <th>2</th>\n",
       "      <td>00013b17ad220c46</td>\n",
       "      <td>\" \\n\\n == Sources == \\n\\n * Zawe Ashton on Lap...</td>\n",
       "      <td>-1</td>\n",
       "      <td>-1</td>\n",
       "      <td>-1</td>\n",
       "      <td>-1</td>\n",
       "      <td>-1</td>\n",
       "      <td>-1</td>\n",
       "    </tr>\n",
       "    <tr>\n",
       "      <th>3</th>\n",
       "      <td>00017563c3f7919a</td>\n",
       "      <td>:If you have a look back at the source, the in...</td>\n",
       "      <td>-1</td>\n",
       "      <td>-1</td>\n",
       "      <td>-1</td>\n",
       "      <td>-1</td>\n",
       "      <td>-1</td>\n",
       "      <td>-1</td>\n",
       "    </tr>\n",
       "    <tr>\n",
       "      <th>4</th>\n",
       "      <td>00017695ad8997eb</td>\n",
       "      <td>I don't anonymously edit articles at all.</td>\n",
       "      <td>-1</td>\n",
       "      <td>-1</td>\n",
       "      <td>-1</td>\n",
       "      <td>-1</td>\n",
       "      <td>-1</td>\n",
       "      <td>-1</td>\n",
       "    </tr>\n",
       "  </tbody>\n",
       "</table>\n",
       "</div>"
      ],
      "text/plain": [
       "                 id                                       comment_text  toxic  \\\n",
       "0  00001cee341fdb12  Yo bitch Ja Rule is more succesful then you'll...     -1   \n",
       "1  0000247867823ef7  == From RfC == \\n\\n The title is fine as it is...     -1   \n",
       "2  00013b17ad220c46  \" \\n\\n == Sources == \\n\\n * Zawe Ashton on Lap...     -1   \n",
       "3  00017563c3f7919a  :If you have a look back at the source, the in...     -1   \n",
       "4  00017695ad8997eb          I don't anonymously edit articles at all.     -1   \n",
       "\n",
       "   severe_toxic  obscene  threat  insult  identity_hate  \n",
       "0            -1       -1      -1      -1             -1  \n",
       "1            -1       -1      -1      -1             -1  \n",
       "2            -1       -1      -1      -1             -1  \n",
       "3            -1       -1      -1      -1             -1  \n",
       "4            -1       -1      -1      -1             -1  "
      ]
     },
     "execution_count": 11,
     "metadata": {},
     "output_type": "execute_result"
    }
   ],
   "source": [
    "data_test.head()"
   ]
  },
  {
   "cell_type": "markdown",
   "id": "fb66deff",
   "metadata": {},
   "source": [
    "Instance koje za svih 6 klasa imaju vrednost -1 je potrebno izbaciti iz skupa (njih ima 89186)"
   ]
  },
  {
   "cell_type": "code",
   "execution_count": 12,
   "id": "e201aa59",
   "metadata": {},
   "outputs": [],
   "source": [
    "#df = data_test[['toxic', 'severe_toxic', 'obscene', 'threat', 'insult', 'identity_hate']]\n",
    "#p = df.iloc[:, :].sum(axis=1).value_counts()\n",
    "#p"
   ]
  },
  {
   "cell_type": "code",
   "execution_count": 13,
   "id": "e0cdd326",
   "metadata": {},
   "outputs": [],
   "source": [
    "data_test = data_test[data_test['toxic'] != -1]"
   ]
  },
  {
   "cell_type": "code",
   "execution_count": 14,
   "id": "071a8e9e",
   "metadata": {},
   "outputs": [],
   "source": [
    "test_size = data_test.shape[0]"
   ]
  },
  {
   "cell_type": "markdown",
   "id": "de1b2bfa",
   "metadata": {},
   "source": [
    "Sada je ostalo 63978 instanci u test skupu"
   ]
  },
  {
   "cell_type": "code",
   "execution_count": 15,
   "id": "a44a4606",
   "metadata": {},
   "outputs": [
    {
     "data": {
      "text/plain": [
       "(159571, 63978)"
      ]
     },
     "execution_count": 15,
     "metadata": {},
     "output_type": "execute_result"
    }
   ],
   "source": [
    "train_size = data_train.shape[0]\n",
    "\n",
    "train_size, test_size"
   ]
  },
  {
   "cell_type": "markdown",
   "id": "4deda0d6",
   "metadata": {},
   "source": [
    "Dalje, trening i test skup biće spojeni radi zajedničke analize i pripreme, pa kasnije pred samo obučavanje modela ponovo izdvojeni"
   ]
  },
  {
   "cell_type": "code",
   "execution_count": 16,
   "id": "5439797f",
   "metadata": {},
   "outputs": [],
   "source": [
    "data = pd.concat([data_train, data_test])"
   ]
  },
  {
   "cell_type": "code",
   "execution_count": 17,
   "id": "8a108b3c",
   "metadata": {},
   "outputs": [
    {
     "data": {
      "text/plain": [
       "(223549, 8)"
      ]
     },
     "execution_count": 17,
     "metadata": {},
     "output_type": "execute_result"
    }
   ],
   "source": [
    "data.shape"
   ]
  },
  {
   "cell_type": "markdown",
   "id": "45c7c06b",
   "metadata": {},
   "source": [
    "Dakle, celokupan skup podataka ima 223549 komentara koje je potrebno klasifikovati."
   ]
  },
  {
   "cell_type": "code",
   "execution_count": null,
   "id": "473ec3cc",
   "metadata": {},
   "outputs": [],
   "source": []
  },
  {
   "cell_type": "code",
   "execution_count": null,
   "id": "4dd8e1ab",
   "metadata": {},
   "outputs": [],
   "source": []
  },
  {
   "cell_type": "code",
   "execution_count": null,
   "id": "e72d3fe4",
   "metadata": {},
   "outputs": [],
   "source": []
  },
  {
   "cell_type": "markdown",
   "id": "46cbd935",
   "metadata": {},
   "source": [
    "## Analiza skupa podataka"
   ]
  },
  {
   "cell_type": "markdown",
   "id": "67873010",
   "metadata": {},
   "source": [
    "Komentari u tekstualnom formatu se nalaze u koloni comment_text, ostale kolone označavaju klase kojima komentar pripada, označene jedinicom za svaku klasu kojoj pripada, nulom u suprotnom. Kolonu id brišemo iz skupa."
   ]
  },
  {
   "cell_type": "code",
   "execution_count": 18,
   "id": "9d3fec9d",
   "metadata": {
    "scrolled": true
   },
   "outputs": [
    {
     "data": {
      "text/html": [
       "<div>\n",
       "<style scoped>\n",
       "    .dataframe tbody tr th:only-of-type {\n",
       "        vertical-align: middle;\n",
       "    }\n",
       "\n",
       "    .dataframe tbody tr th {\n",
       "        vertical-align: top;\n",
       "    }\n",
       "\n",
       "    .dataframe thead th {\n",
       "        text-align: right;\n",
       "    }\n",
       "</style>\n",
       "<table border=\"1\" class=\"dataframe\">\n",
       "  <thead>\n",
       "    <tr style=\"text-align: right;\">\n",
       "      <th></th>\n",
       "      <th>id</th>\n",
       "      <th>comment_text</th>\n",
       "      <th>toxic</th>\n",
       "      <th>severe_toxic</th>\n",
       "      <th>obscene</th>\n",
       "      <th>threat</th>\n",
       "      <th>insult</th>\n",
       "      <th>identity_hate</th>\n",
       "    </tr>\n",
       "  </thead>\n",
       "  <tbody>\n",
       "    <tr>\n",
       "      <th>0</th>\n",
       "      <td>0000997932d777bf</td>\n",
       "      <td>Explanation\\nWhy the edits made under my usern...</td>\n",
       "      <td>0</td>\n",
       "      <td>0</td>\n",
       "      <td>0</td>\n",
       "      <td>0</td>\n",
       "      <td>0</td>\n",
       "      <td>0</td>\n",
       "    </tr>\n",
       "    <tr>\n",
       "      <th>1</th>\n",
       "      <td>000103f0d9cfb60f</td>\n",
       "      <td>D'aww! He matches this background colour I'm s...</td>\n",
       "      <td>0</td>\n",
       "      <td>0</td>\n",
       "      <td>0</td>\n",
       "      <td>0</td>\n",
       "      <td>0</td>\n",
       "      <td>0</td>\n",
       "    </tr>\n",
       "    <tr>\n",
       "      <th>2</th>\n",
       "      <td>000113f07ec002fd</td>\n",
       "      <td>Hey man, I'm really not trying to edit war. It...</td>\n",
       "      <td>0</td>\n",
       "      <td>0</td>\n",
       "      <td>0</td>\n",
       "      <td>0</td>\n",
       "      <td>0</td>\n",
       "      <td>0</td>\n",
       "    </tr>\n",
       "    <tr>\n",
       "      <th>3</th>\n",
       "      <td>0001b41b1c6bb37e</td>\n",
       "      <td>\"\\nMore\\nI can't make any real suggestions on ...</td>\n",
       "      <td>0</td>\n",
       "      <td>0</td>\n",
       "      <td>0</td>\n",
       "      <td>0</td>\n",
       "      <td>0</td>\n",
       "      <td>0</td>\n",
       "    </tr>\n",
       "    <tr>\n",
       "      <th>4</th>\n",
       "      <td>0001d958c54c6e35</td>\n",
       "      <td>You, sir, are my hero. Any chance you remember...</td>\n",
       "      <td>0</td>\n",
       "      <td>0</td>\n",
       "      <td>0</td>\n",
       "      <td>0</td>\n",
       "      <td>0</td>\n",
       "      <td>0</td>\n",
       "    </tr>\n",
       "  </tbody>\n",
       "</table>\n",
       "</div>"
      ],
      "text/plain": [
       "                 id                                       comment_text  toxic  \\\n",
       "0  0000997932d777bf  Explanation\\nWhy the edits made under my usern...      0   \n",
       "1  000103f0d9cfb60f  D'aww! He matches this background colour I'm s...      0   \n",
       "2  000113f07ec002fd  Hey man, I'm really not trying to edit war. It...      0   \n",
       "3  0001b41b1c6bb37e  \"\\nMore\\nI can't make any real suggestions on ...      0   \n",
       "4  0001d958c54c6e35  You, sir, are my hero. Any chance you remember...      0   \n",
       "\n",
       "   severe_toxic  obscene  threat  insult  identity_hate  \n",
       "0             0        0       0       0              0  \n",
       "1             0        0       0       0              0  \n",
       "2             0        0       0       0              0  \n",
       "3             0        0       0       0              0  \n",
       "4             0        0       0       0              0  "
      ]
     },
     "execution_count": 18,
     "metadata": {},
     "output_type": "execute_result"
    }
   ],
   "source": [
    "data.head()"
   ]
  },
  {
   "cell_type": "code",
   "execution_count": 19,
   "id": "e1e9d4a0",
   "metadata": {},
   "outputs": [
    {
     "data": {
      "text/plain": [
       "(223549, 7)"
      ]
     },
     "execution_count": 19,
     "metadata": {},
     "output_type": "execute_result"
    }
   ],
   "source": [
    "data = data.drop(columns=['id'])\n",
    "data.shape"
   ]
  },
  {
   "cell_type": "markdown",
   "id": "74b68765",
   "metadata": {},
   "source": [
    "Tipovi svake od kolona:"
   ]
  },
  {
   "cell_type": "code",
   "execution_count": 20,
   "id": "87d0b383",
   "metadata": {},
   "outputs": [
    {
     "data": {
      "text/plain": [
       "comment_text     object\n",
       "toxic             int64\n",
       "severe_toxic      int64\n",
       "obscene           int64\n",
       "threat            int64\n",
       "insult            int64\n",
       "identity_hate     int64\n",
       "dtype: object"
      ]
     },
     "execution_count": 20,
     "metadata": {},
     "output_type": "execute_result"
    }
   ],
   "source": [
    "data.dtypes"
   ]
  },
  {
   "cell_type": "code",
   "execution_count": null,
   "id": "694cd9bd",
   "metadata": {},
   "outputs": [],
   "source": []
  },
  {
   "cell_type": "markdown",
   "id": "a2109260",
   "metadata": {},
   "source": [
    "Primer jedne instance, tj. komentara i njemu pridruženih klasa\n",
    "- ovaj komentar označen je sa dve labele: toxic i insult"
   ]
  },
  {
   "cell_type": "code",
   "execution_count": 21,
   "id": "eff030de",
   "metadata": {},
   "outputs": [
    {
     "name": "stdout",
     "output_type": "stream",
     "text": [
      "\"\n",
      "\n",
      "Hey listen don't you ever!!!! Delete my edits ever again I'm annoyed because the WWE 2K15 a few of the roster have been confirmed and your stupid ass deletes what I write. just stop!!!! Please STOP!!!! You don't work 2k or WWE games so stop deleting other peoples shit if I get it wrong or others get it wrong let them they will get the hang of it eventually but don't stick your most ass in their and I'm gonna delete the \"\"please do not insert the roster\"\" shit how do you not have it if has been confirmed!!!!! God your stupid.\"\n",
      "\n",
      "\n",
      "toxic            1\n",
      "severe_toxic     0\n",
      "obscene          0\n",
      "threat           0\n",
      "insult           1\n",
      "identity_hate    0\n",
      "Name: 159546, dtype: object\n"
     ]
    }
   ],
   "source": [
    "print(data['comment_text'][159546])\n",
    "print('\\n')\n",
    "print(data.iloc[159546].drop(['comment_text']))"
   ]
  },
  {
   "cell_type": "code",
   "execution_count": null,
   "id": "ccf61063",
   "metadata": {},
   "outputs": [],
   "source": []
  },
  {
   "cell_type": "markdown",
   "id": "a115f3a4",
   "metadata": {},
   "source": [
    "Provera da li postoje neke nedostajuće vrednosti"
   ]
  },
  {
   "cell_type": "code",
   "execution_count": 22,
   "id": "a3bf087e",
   "metadata": {},
   "outputs": [
    {
     "data": {
      "text/plain": [
       "comment_text     False\n",
       "toxic            False\n",
       "severe_toxic     False\n",
       "obscene          False\n",
       "threat           False\n",
       "insult           False\n",
       "identity_hate    False\n",
       "dtype: bool"
      ]
     },
     "execution_count": 22,
     "metadata": {},
     "output_type": "execute_result"
    }
   ],
   "source": [
    "data.isnull().any()"
   ]
  },
  {
   "cell_type": "code",
   "execution_count": null,
   "id": "bebbe20a",
   "metadata": {},
   "outputs": [],
   "source": []
  },
  {
   "cell_type": "markdown",
   "id": "1fcb317f",
   "metadata": {},
   "source": [
    "Izdvajanje 6 klasa u promenljivu labels"
   ]
  },
  {
   "cell_type": "code",
   "execution_count": 23,
   "id": "f59a9643",
   "metadata": {},
   "outputs": [],
   "source": [
    "labels = data[['toxic', 'severe_toxic', 'obscene', 'threat', 'insult', 'identity_hate']]"
   ]
  },
  {
   "cell_type": "code",
   "execution_count": 24,
   "id": "3d0b30c0",
   "metadata": {},
   "outputs": [
    {
     "data": {
      "text/plain": [
       "(223549, 6)"
      ]
     },
     "execution_count": 24,
     "metadata": {},
     "output_type": "execute_result"
    }
   ],
   "source": [
    "labels.shape"
   ]
  },
  {
   "cell_type": "markdown",
   "id": "31a6f340",
   "metadata": {},
   "source": [
    "### Vizualizacija podataka"
   ]
  },
  {
   "cell_type": "markdown",
   "id": "14402018",
   "metadata": {},
   "source": [
    "Prikaz brojnosti komentara po klasama"
   ]
  },
  {
   "cell_type": "code",
   "execution_count": 25,
   "id": "ef5dbb10",
   "metadata": {},
   "outputs": [
    {
     "data": {
      "text/plain": [
       "toxic            21384\n",
       "severe_toxic      1962\n",
       "obscene          12140\n",
       "threat             689\n",
       "insult           11304\n",
       "identity_hate     2117\n",
       "dtype: int64"
      ]
     },
     "execution_count": 25,
     "metadata": {},
     "output_type": "execute_result"
    }
   ],
   "source": [
    "frequency_per_class = labels.sum()\n",
    "frequency_per_class"
   ]
  },
  {
   "cell_type": "code",
   "execution_count": null,
   "id": "87ad1520",
   "metadata": {},
   "outputs": [],
   "source": []
  },
  {
   "cell_type": "code",
   "execution_count": null,
   "id": "3686412e",
   "metadata": {},
   "outputs": [],
   "source": []
  },
  {
   "cell_type": "code",
   "execution_count": 26,
   "id": "215611e0",
   "metadata": {},
   "outputs": [
    {
     "data": {
      "image/png": "[encoded data removed]",
      "text/plain": [
       "<Figure size 864x432 with 1 Axes>"
      ]
     },
     "metadata": {
      "needs_background": "light"
     },
     "output_type": "display_data"
    }
   ],
   "source": [
    "colors = ['skyblue', 'orange', 'pink', 'red', 'teal', 'purple', 'khaki']\n",
    "plt.figure(figsize=(12, 6))\n",
    "plt.title('Brojnost toksičnih komentara po klasama')\n",
    "plt.xlabel('Frekvencija')\n",
    "plt.ylabel('Klasa')\n",
    "\n",
    "plt.barh(frequency_per_class.index, frequency_per_class.values, color=colors)\n",
    "for index, value in enumerate(frequency_per_class):\n",
    "    plt.text(value, index, str(value))\n",
    "    \n",
    "plt.savefig('plots and images/01_frequency_bar.png', orientation='landscape')\n",
    "plt.show()"
   ]
  },
  {
   "cell_type": "code",
   "execution_count": null,
   "id": "e58649eb",
   "metadata": {},
   "outputs": [],
   "source": []
  },
  {
   "cell_type": "markdown",
   "id": "cd8ec371",
   "metadata": {},
   "source": [
    "S obzirom na to da se radi o višelabelarnoj klasifikaciji, jedna instanca može pripadati istovremeno dvema ili više klasa. Komentar može npr. biti označen kao toksičan i uvreda, ali ne i pretnja, amože i spadati pod svih 6 obeležja i tako imati labelu koja za svih 6 klasa ima vrednost 1.\n",
    "\n",
    "Zbog toga je dat i grafički prikaz broja komentara po tome da li su svrstani u jednu, dve, tri, četiri, pet, ili svih šest klasa."
   ]
  },
  {
   "cell_type": "code",
   "execution_count": null,
   "id": "e2604be7",
   "metadata": {},
   "outputs": [],
   "source": []
  },
  {
   "cell_type": "code",
   "execution_count": 27,
   "id": "37576c3e",
   "metadata": {},
   "outputs": [
    {
     "data": {
      "text/plain": [
       "1    8202\n",
       "3    6290\n",
       "2    5010\n",
       "4    2371\n",
       "5     550\n",
       "6      45\n",
       "dtype: int64"
      ]
     },
     "execution_count": 27,
     "metadata": {},
     "output_type": "execute_result"
    }
   ],
   "source": [
    "counts = data.iloc[:, 1:].sum(axis=1).value_counts()\n",
    "multilabels = counts[1:]\n",
    "multilabels"
   ]
  },
  {
   "cell_type": "code",
   "execution_count": null,
   "id": "0ec89ad5",
   "metadata": {},
   "outputs": [],
   "source": []
  },
  {
   "cell_type": "code",
   "execution_count": 28,
   "id": "27c74443",
   "metadata": {
    "scrolled": false
   },
   "outputs": [
    {
     "data": {
      "image/png": "[encoded data removed]",
      "text/plain": [
       "<Figure size 720x360 with 1 Axes>"
      ]
     },
     "metadata": {
      "needs_background": "light"
     },
     "output_type": "display_data"
    }
   ],
   "source": [
    "plt.figure(figsize=(10, 5))\n",
    "plt.title('Brojnost komentara koji pripadaju više klasa istovremeno')\n",
    "plt.xlabel('Broj klasa')\n",
    "plt.ylabel('Btoj instanci')\n",
    "\n",
    "plt.bar(multilabels.index, multilabels.values, color=colors)\n",
    "for index, value in enumerate(multilabels.sort_index()):\n",
    "    plt.text(index+1, value, str(value))\n",
    "\n",
    "plt.savefig('plots and images/02_multilabels.png', orientation='landscape')\n",
    "\n",
    "plt.show()"
   ]
  },
  {
   "cell_type": "markdown",
   "id": "67869bff",
   "metadata": {},
   "source": [
    "Dakle, najviše komentara pripada samo jednoj klasi, a samo 45 komentara ispunjava uslove za svaku od 6 klasa (istovremeno je toxic, severe_toxic, insult, obscene, threat i identity hate)"
   ]
  },
  {
   "cell_type": "code",
   "execution_count": null,
   "id": "5e2b8d26",
   "metadata": {},
   "outputs": [],
   "source": []
  },
  {
   "cell_type": "markdown",
   "id": "206e90b1",
   "metadata": {},
   "source": [
    "U vidu toplotne mape, predstavljene su korelacije između ovih labela"
   ]
  },
  {
   "cell_type": "code",
   "execution_count": 56,
   "id": "9a80b293",
   "metadata": {},
   "outputs": [
    {
     "data": {
      "image/png": "[encoded data removed]",
      "text/plain": [
       "<Figure size 432x288 with 2 Axes>"
      ]
     },
     "metadata": {
      "needs_background": "light"
     },
     "output_type": "display_data"
    }
   ],
   "source": [
    "plt.imshow(labels.corr(), cmap='plasma')\n",
    "plt.title('Medjuzavisnosti labela')\n",
    "plt.xticks(range(0, 6), list(labels.columns), rotation='90')\n",
    "plt.yticks(range(0, 6), list(labels.columns))\n",
    "plt.colorbar()\n",
    "plt.savefig('plots and images/heatmap_corr.png')\n",
    "plt.show()"
   ]
  },
  {
   "cell_type": "markdown",
   "id": "876ef557",
   "metadata": {},
   "source": [
    "Može se zaključiti koje klase se najviše preklapaju, npr. uvrede su često i nepristojne (obscene)."
   ]
  },
  {
   "cell_type": "code",
   "execution_count": null,
   "id": "8a85cf2f",
   "metadata": {},
   "outputs": [],
   "source": []
  },
  {
   "cell_type": "markdown",
   "id": "739b0c7a",
   "metadata": {},
   "source": [
    "U nastavku će biti prikazano koliko instanci nije klasifikovano u nijednu od ovih 6 klasa. Te instance zapravo predstavljaju \"čiste\", tj. netoksične komentare. Grafički prikaz biće dat u obliku pitice, kako bi se jasno video udeo toksičnih i netoksičnih komentara u celom skupu podataka."
   ]
  },
  {
   "cell_type": "code",
   "execution_count": 27,
   "id": "0af02839",
   "metadata": {},
   "outputs": [
    {
     "data": {
      "text/plain": [
       "201081"
      ]
     },
     "execution_count": 27,
     "metadata": {},
     "output_type": "execute_result"
    }
   ],
   "source": [
    "untoxic = counts[0]\n",
    "untoxic"
   ]
  },
  {
   "cell_type": "code",
   "execution_count": 28,
   "id": "c0657070",
   "metadata": {},
   "outputs": [
    {
     "name": "stdout",
     "output_type": "stream",
     "text": [
      "Udeo neoznacenih komentara:  89.95%\n"
     ]
    }
   ],
   "source": [
    "print('Udeo neoznacenih komentara:  {:.2%}'.format(untoxic/data.shape[0]))"
   ]
  },
  {
   "cell_type": "markdown",
   "id": "860cc7e8",
   "metadata": {},
   "source": [
    "Dakle, samo oko 10% celog skupa su toksični komentari."
   ]
  },
  {
   "cell_type": "markdown",
   "id": "9cbb9b25",
   "metadata": {},
   "source": [
    "Dodatno, ako posmatramo samo ovih 10% toksičnih komentara, i unutar njih važi neravnomerna raspodela po klasama (već je bilo prikazano gore u obliku stubića)"
   ]
  },
  {
   "cell_type": "code",
   "execution_count": null,
   "id": "75d4c0b7",
   "metadata": {},
   "outputs": [],
   "source": []
  },
  {
   "cell_type": "code",
   "execution_count": 29,
   "id": "7e5a59de",
   "metadata": {},
   "outputs": [],
   "source": [
    "toxic = data.shape[0] - untoxic"
   ]
  },
  {
   "cell_type": "code",
   "execution_count": 30,
   "id": "54f89da7",
   "metadata": {},
   "outputs": [
    {
     "data": {
      "image/png": "[encoded data removed]",
      "text/plain": [
       "<Figure size 720x1080 with 2 Axes>"
      ]
     },
     "metadata": {},
     "output_type": "display_data"
    }
   ],
   "source": [
    "plt.figure(figsize=(10, 15))\n",
    "plt.subplot(2, 1, 1)\n",
    "plt.title('Udeo toksičnih i netoksičnih instanci u skupu podataka')\n",
    "plt.pie([untoxic, toxic] , colors=['skyblue', 'red'], explode=[0, 0.2], autopct='%1.1f%%', shadow=True)\n",
    "plt.legend(['untoxic', 'toxic'], loc='best')\n",
    "\n",
    "plt.subplot(2, 1, 2)\n",
    "plt.title('Udeo po klasama (samo komentari označeni kao toksični)')\n",
    "plt.pie(frequency_per_class, colors=colors, autopct='%1.1f%%', shadow=True)\n",
    "plt.legend(loc='best', labels=frequency_per_class.index)\n",
    "\n",
    "plt.savefig('plots and images/03_pie_class_distribution.png')\n",
    "plt.show()"
   ]
  },
  {
   "cell_type": "markdown",
   "id": "f00d06dd",
   "metadata": {},
   "source": [
    "Odavde je jasno da je skup podataka izuzetno neizbalansiran."
   ]
  },
  {
   "cell_type": "code",
   "execution_count": 31,
   "id": "7993a7d7",
   "metadata": {},
   "outputs": [
    {
     "data": {
      "text/plain": [
       "(22468, 201081)"
      ]
     },
     "execution_count": 31,
     "metadata": {},
     "output_type": "execute_result"
    }
   ],
   "source": [
    "# prva podela\n",
    "\n",
    "toxic, untoxic"
   ]
  },
  {
   "cell_type": "code",
   "execution_count": 32,
   "id": "090fd7ac",
   "metadata": {},
   "outputs": [
    {
     "data": {
      "text/plain": [
       "toxic            21384\n",
       "severe_toxic      1962\n",
       "obscene          12140\n",
       "threat             689\n",
       "insult           11304\n",
       "identity_hate     2117\n",
       "dtype: int64"
      ]
     },
     "execution_count": 32,
     "metadata": {},
     "output_type": "execute_result"
    }
   ],
   "source": [
    "# druga podela\n",
    "\n",
    "frequency_per_class"
   ]
  },
  {
   "cell_type": "markdown",
   "id": "edf5a909",
   "metadata": {},
   "source": [
    "Zbog ovoga, problem će biti podeljen na dva - biće odrađene dve klasifikacije: \n",
    "#### 1. Binarna klasifikacija na toksične (1) i netoksične (0)\n",
    "#### 2. Višeklasna klasifikacija toksičnih komentara"
   ]
  },
  {
   "cell_type": "markdown",
   "id": "3846361f",
   "metadata": {},
   "source": [
    "Dodata je kolona target koja ima vrednost 0 ako je u pitanju netoksičan, a 1 ako je komentar toksičan."
   ]
  },
  {
   "cell_type": "code",
   "execution_count": 33,
   "id": "a4eed01e",
   "metadata": {},
   "outputs": [],
   "source": [
    "data['target'] = np.where(data[labels.columns].sum(axis=1)==0, 0, 1)"
   ]
  },
  {
   "cell_type": "code",
   "execution_count": 34,
   "id": "dad3ce67",
   "metadata": {},
   "outputs": [
    {
     "data": {
      "text/plain": [
       "0    201081\n",
       "1     22468\n",
       "Name: target, dtype: int64"
      ]
     },
     "execution_count": 34,
     "metadata": {},
     "output_type": "execute_result"
    }
   ],
   "source": [
    "data['target'].value_counts()"
   ]
  },
  {
   "cell_type": "code",
   "execution_count": null,
   "id": "947e6af2",
   "metadata": {},
   "outputs": [],
   "source": []
  },
  {
   "cell_type": "code",
   "execution_count": null,
   "id": "3229f845",
   "metadata": {},
   "outputs": [],
   "source": []
  },
  {
   "cell_type": "markdown",
   "id": "65ab1f2d",
   "metadata": {},
   "source": [
    "## Analiza teksta"
   ]
  },
  {
   "cell_type": "markdown",
   "id": "a06da543",
   "metadata": {},
   "source": [
    "Prvo će se odraditi čišćenje teksta - uklanjanje svih nepotrebnih karaktera "
   ]
  },
  {
   "cell_type": "code",
   "execution_count": 35,
   "id": "ba3298b7",
   "metadata": {},
   "outputs": [],
   "source": [
    "def prepare_text(text):\n",
    "\n",
    "    text = text.lower()  \n",
    "    text = re.sub('<.*?>','',text).strip() \n",
    "    text = re.sub('\\[|\\(.*\\]|\\)','', text).strip() \n",
    "    text = text.translate(str.maketrans('', '', string.punctuation)) \n",
    "    text = re.sub(\"(\\\\W)\",\" \",text).strip()\n",
    "    text = re.sub('\\S*\\d\\S*\\s*','', text).strip()\n",
    "    return text.strip()"
   ]
  },
  {
   "cell_type": "code",
   "execution_count": null,
   "id": "a1eb0d29",
   "metadata": {},
   "outputs": [],
   "source": []
  },
  {
   "cell_type": "markdown",
   "id": "cfaea207",
   "metadata": {},
   "source": [
    "Expand Contractions\n",
    "\n",
    "Kontrakcije su skraćene verzije reči kao što su don't, how'll, ain't i slične. Njih je potrebno proširiti za bolju analizu sadržaja. \n",
    "\n",
    "Preuzeto sa  https://www.analyticsvidhya.com/blog/2020/04/beginners-guide-exploratory-data-analysis-text-data/"
   ]
  },
  {
   "cell_type": "code",
   "execution_count": null,
   "id": "66bbdc36",
   "metadata": {},
   "outputs": [],
   "source": []
  },
  {
   "cell_type": "code",
   "execution_count": 36,
   "id": "f0bfeeb6",
   "metadata": {},
   "outputs": [],
   "source": [
    "# Recnik kontrakcija na engleskom jeziku\n",
    "\n",
    "contractions_dict = { \"ain't\": \"are not\",\"'s\":\" is\",\"aren't\": \"are not\", \"im\" : \"i am\",\n",
    "                     \"can't\": \"cannot\",\"can't've\": \"cannot have\",\n",
    "                     \"'cause\": \"because\",\"could've\": \"could have\",\"couldn't\": \"could not\",\n",
    "                     \"couldn't've\": \"could not have\", \"didn't\": \"did not\",\"doesn't\": \"does not\",\n",
    "                     \"don't\": \"do not\",\"hadn't\": \"had not\",\"hadn't've\": \"had not have\",\n",
    "                     \"hasn't\": \"has not\",\"haven't\": \"have not\",\"he'd\": \"he would\",\n",
    "                     \"he'd've\": \"he would have\",\"he'll\": \"he will\", \"he'll've\": \"he will have\",\n",
    "                     \"how'd\": \"how did\",\"how'd'y\": \"how do you\",\"how'll\": \"how will\",\n",
    "                     \"I'd\": \"I would\", \"I'd've\": \"I would have\",\"I'll\": \"I will\",\n",
    "                     \"I'll've\": \"I will have\",\"I'm\": \"I am\",\"I've\": \"I have\", \"isn't\": \"is not\",\n",
    "                     \"it'd\": \"it would\",\"it'd've\": \"it would have\",\"it'll\": \"it will\",\n",
    "                     \"it'll've\": \"it will have\", \"let's\": \"let us\",\"ma'am\": \"madam\",\n",
    "                     \"mayn't\": \"may not\",\"might've\": \"might have\",\"mightn't\": \"might not\", \n",
    "                     \"mightn't've\": \"might not have\",\"must've\": \"must have\",\"mustn't\": \"must not\",\n",
    "                     \"mustn't've\": \"must not have\", \"needn't\": \"need not\",\n",
    "                     \"needn't've\": \"need not have\",\"o'clock\": \"of the clock\",\"oughtn't\": \"ought not\",\n",
    "                     \"oughtn't've\": \"ought not have\",\"shan't\": \"shall not\",\"sha'n't\": \"shall not\",\n",
    "                     \"shan't've\": \"shall not have\",\"she'd\": \"she would\",\"she'd've\": \"she would have\",\n",
    "                     \"she'll\": \"she will\", \"she'll've\": \"she will have\",\"should've\": \"should have\",\n",
    "                     \"shouldn't\": \"should not\", \"shouldn't've\": \"should not have\",\"so've\": \"so have\",\n",
    "                     \"that'd\": \"that would\",\"that'd've\": \"that would have\", \"there'd\": \"there would\",\n",
    "                     \"there'd've\": \"there would have\", \"they'd\": \"they would\",\n",
    "                     \"they'd've\": \"they would have\",\"they'll\": \"they will\",\n",
    "                     \"they'll've\": \"they will have\", \"they're\": \"they are\",\"they've\": \"they have\",\n",
    "                     \"to've\": \"to have\",\"wasn't\": \"was not\",\"we'd\": \"we would\",\n",
    "                     \"we'd've\": \"we would have\",\"we'll\": \"we will\",\"we'll've\": \"we will have\",\n",
    "                     \"we're\": \"we are\",\"we've\": \"we have\", \"weren't\": \"were not\",\"what'll\": \"what will\",\n",
    "                     \"what'll've\": \"what will have\",\"what're\": \"what are\", \"what've\": \"what have\",\n",
    "                     \"when've\": \"when have\",\"where'd\": \"where did\", \"where've\": \"where have\",\n",
    "                     \"who'll\": \"who will\",\"who'll've\": \"who will have\",\"who've\": \"who have\",\n",
    "                     \"why've\": \"why have\",\"will've\": \"will have\",\"won't\": \"will not\",\n",
    "                     \"won't've\": \"will not have\", \"would've\": \"would have\",\"wouldn't\": \"would not\",\n",
    "                     \"wouldn't've\": \"would not have\",\"y'all\": \"you all\", \"y'all'd\": \"you all would\",\n",
    "                     \"y'all'd've\": \"you all would have\",\"y'all're\": \"you all are\",\n",
    "                     \"y'all've\": \"you all have\", \"you'd\": \"you would\",\"you'd've\": \"you would have\",\n",
    "                     \"you'll\": \"you will\",\"you'll've\": \"you will have\", \"you're\": \"you are\",\n",
    "                     \"you've\": \"you have\"}\n",
    "\n",
    "contractions_re=re.compile('(%s)' % '|'.join(contractions_dict.keys()))\n",
    "\n",
    "def expand_contractions(text,contractions_dict=contractions_dict):\n",
    "  def replace(match):\n",
    "    return contractions_dict[match.group(0)]\n",
    "  return contractions_re.sub(replace, text)"
   ]
  },
  {
   "cell_type": "code",
   "execution_count": null,
   "id": "7235d35b",
   "metadata": {},
   "outputs": [],
   "source": []
  },
  {
   "cell_type": "markdown",
   "id": "e39115da",
   "metadata": {},
   "source": [
    "Uklanjanje stop reči (prilozi, predlozi zamenice - reči koje su najfrekventnije, ali ne doprinose semantici)"
   ]
  },
  {
   "cell_type": "code",
   "execution_count": 37,
   "id": "008552c5",
   "metadata": {},
   "outputs": [],
   "source": [
    "# data.head()\n",
    "\n",
    "def remove_stopwords(sentence):\n",
    "    \n",
    "    sw_list = stopwords.words('english')\n",
    "    words = [word for word in sentence.split() if word not in sw_list]\n",
    "    new_sentence = \" \".join(words)\n",
    "    \n",
    "    return new_sentence"
   ]
  },
  {
   "cell_type": "code",
   "execution_count": null,
   "id": "b5aa3353",
   "metadata": {},
   "outputs": [],
   "source": []
  },
  {
   "cell_type": "code",
   "execution_count": 38,
   "id": "561f63a6",
   "metadata": {},
   "outputs": [],
   "source": [
    "data['comment_text'] = data['comment_text'].apply(lambda x: prepare_text(x))\n",
    "\n",
    "data['comment_text']=data['comment_text'].apply(lambda x:expand_contractions(x))\n",
    "\n",
    "# data['comment_text'] = data['comment_text'].apply(lambda x : remove_stopwords(x))"
   ]
  },
  {
   "cell_type": "code",
   "execution_count": null,
   "id": "f19d950c",
   "metadata": {},
   "outputs": [],
   "source": []
  },
  {
   "cell_type": "markdown",
   "id": "01e9689f",
   "metadata": {},
   "source": [
    "Biće prikazane reči koje su najfrekventnije u instancama određenih klasa. U vidu oblaka reči, vizualizovane su reči koje se ponavljaju u toksičnim komentarima. Što je reč krupnija na slici, to se ona češće pojavljuje u skupu. Na osnovu ovoga, možemo da znamo kakve reči možemo očekivati u svakoj od klasa."
   ]
  },
  {
   "cell_type": "markdown",
   "id": "a56a17b3",
   "metadata": {},
   "source": [
    "Funkcija koja formira wordcloud za konkretnu klasu:"
   ]
  },
  {
   "cell_type": "code",
   "execution_count": 39,
   "id": "be0d1831",
   "metadata": {},
   "outputs": [],
   "source": [
    "def get_wordcloud(data, label, show=False):\n",
    "    \n",
    "    d = data[data[label]==1]\n",
    "    words = ' '.join([text for text in d['comment_text'] ])\n",
    "\n",
    "    wordcloud = WordCloud(width=2500,\n",
    "                      height=1600,\n",
    "                      max_words=500,\n",
    "                      collocations=False,\n",
    "                      stopwords=STOPWORDS).generate(words)\n",
    "\n",
    "    if show:\n",
    "        plt.title(str(label) + ' wordcloud')\n",
    "        plt.imshow(wordcloud)\n",
    "        plt.axis(\"off\")\n",
    "        plt.savefig('plots and images/wordclouds/' + str(label) + '.png')\n",
    "        plt.show()\n",
    "        \n",
    "    return wordcloud"
   ]
  },
  {
   "cell_type": "code",
   "execution_count": 40,
   "id": "9cf3a8ef",
   "metadata": {},
   "outputs": [],
   "source": [
    "#wordcloud_toxic = get_wordcloud(data, 'toxic', True)\n",
    "#wordcloud_insult = get_wordcloud(data, 'insult', True)\n",
    "#wordcloud_severe_toxic = get_wordcloud(data, 'severe_toxic', True)\n",
    "#wordcloud_threat = get_wordcloud(data, 'threat', True)\n",
    "#wordcloud_identity_hate = get_wordcloud(data, 'identity_hate', True)\n",
    "#wordcloud_obscene = get_wordcloud(data, 'obscene', True)"
   ]
  },
  {
   "cell_type": "code",
   "execution_count": null,
   "id": "3ca33ac8",
   "metadata": {},
   "outputs": [],
   "source": []
  },
  {
   "cell_type": "markdown",
   "id": "cc807b1b",
   "metadata": {},
   "source": [
    "Slike oblaka reči za svaku od labela sačuvane su u direktorijumu plots and images/wordclouds. Ovde je prikazana jedna od njih, konkretno za labelu 'threat'."
   ]
  },
  {
   "cell_type": "code",
   "execution_count": 41,
   "id": "35ebb9df",
   "metadata": {},
   "outputs": [
    {
     "data": {
      "image/png": "[encoded data removed]",
      "text/plain": [
       "<IPython.core.display.Image object>"
      ]
     },
     "execution_count": 41,
     "metadata": {},
     "output_type": "execute_result"
    }
   ],
   "source": [
    "#Image('plots and images/wordclouds/toxic.png')\n",
    "#Image('plots and images/wordclouds/severe_toxic.png')\n",
    "#Image('plots and images/wordclouds/identity_hate.png')\n",
    "#Image('plots and images/wordclouds/obscene.png')\n",
    "#Image('plots and images/wordclouds/insult.png')\n",
    "Image('plots and images/wordclouds/threat.png')"
   ]
  },
  {
   "cell_type": "code",
   "execution_count": null,
   "id": "cb099ded",
   "metadata": {},
   "outputs": [],
   "source": []
  },
  {
   "cell_type": "markdown",
   "id": "4dfb7824",
   "metadata": {},
   "source": [
    "Mogu se predstaviti npr. pojavljivanja najčešćih n-grama reči"
   ]
  },
  {
   "cell_type": "code",
   "execution_count": null,
   "id": "c9433991",
   "metadata": {},
   "outputs": [],
   "source": []
  },
  {
   "cell_type": "code",
   "execution_count": 42,
   "id": "fae3dfbe",
   "metadata": {},
   "outputs": [],
   "source": [
    "def plot_ngrams(instances,\n",
    "                ngram_range=(1, 2),\n",
    "                num_ngrams=25):\n",
    "    \n",
    "    vectorizer = CountVectorizer(ngram_range=(1, 3), dtype='int32', strip_accents='unicode',\n",
    "                                 decode_error='replace', analyzer='word')\n",
    "\n",
    "    vectorized = vectorizer.fit_transform(instances)\n",
    "\n",
    "    all_ngrams = list(vectorizer.get_feature_names())\n",
    "    num_ngrams = min(num_ngrams, len(all_ngrams))\n",
    "    # ngrams = all_ngrams[:num_ngrams]\n",
    "\n",
    "    all_counts = vectorized.sum(axis=0).tolist()[0]\n",
    "\n",
    "    all_counts, all_ngrams = zip(*[(c, n) for c, n in sorted(\n",
    "        zip(all_counts, all_ngrams), reverse=True)])\n",
    "    ngrams = list(all_ngrams)[:num_ngrams]\n",
    "    counts = list(all_counts)[:num_ngrams]\n",
    "\n",
    "    idx = np.arange(num_ngrams)\n",
    "    plt.figure(figsize=(12, 5))\n",
    "    plt.bar(idx, counts, width=0.8, color='skyblue')\n",
    "    plt.xlabel('N-grami')\n",
    "    plt.ylabel('Frekvencije')\n",
    "    plt.title('Frekvencija ngrama')\n",
    "    plt.xticks(idx, ngrams, rotation=45)\n",
    "    plt.show()"
   ]
  },
  {
   "cell_type": "code",
   "execution_count": 43,
   "id": "7c47ce4e",
   "metadata": {},
   "outputs": [
    {
     "data": {
      "image/png": "[encoded data removed]",
      "text/plain": [
       "<Figure size 864x360 with 1 Axes>"
      ]
     },
     "metadata": {
      "needs_background": "light"
     },
     "output_type": "display_data"
    }
   ],
   "source": [
    "plot_ngrams(data[data['target']==1].comment_text.apply(lambda x : remove_stopwords(x)))"
   ]
  },
  {
   "cell_type": "markdown",
   "id": "c15d42f4",
   "metadata": {},
   "source": [
    "Ovo su najzastupljeniji unigrami, bigrami i trigrami u podacima koji imaju pridruženu neku od toksičnih klasa."
   ]
  },
  {
   "cell_type": "code",
   "execution_count": null,
   "id": "5178405c",
   "metadata": {},
   "outputs": [],
   "source": []
  },
  {
   "cell_type": "code",
   "execution_count": null,
   "id": "7a767092",
   "metadata": {},
   "outputs": [],
   "source": []
  },
  {
   "cell_type": "markdown",
   "id": "001d51ce",
   "metadata": {},
   "source": [
    "Dalje, možemo dodati atribut koji predstavlja broj reči po instanci, kako bismo imali uvid u to koliko su komentari dugački."
   ]
  },
  {
   "cell_type": "code",
   "execution_count": 44,
   "id": "c5f157dc",
   "metadata": {},
   "outputs": [
    {
     "data": {
      "text/html": [
       "<div>\n",
       "<style scoped>\n",
       "    .dataframe tbody tr th:only-of-type {\n",
       "        vertical-align: middle;\n",
       "    }\n",
       "\n",
       "    .dataframe tbody tr th {\n",
       "        vertical-align: top;\n",
       "    }\n",
       "\n",
       "    .dataframe thead th {\n",
       "        text-align: right;\n",
       "    }\n",
       "</style>\n",
       "<table border=\"1\" class=\"dataframe\">\n",
       "  <thead>\n",
       "    <tr style=\"text-align: right;\">\n",
       "      <th></th>\n",
       "      <th>comment_text</th>\n",
       "      <th>toxic</th>\n",
       "      <th>severe_toxic</th>\n",
       "      <th>obscene</th>\n",
       "      <th>threat</th>\n",
       "      <th>insult</th>\n",
       "      <th>identity_hate</th>\n",
       "      <th>target</th>\n",
       "      <th>word_count</th>\n",
       "    </tr>\n",
       "  </thead>\n",
       "  <tbody>\n",
       "    <tr>\n",
       "      <th>0</th>\n",
       "      <td>explanation why the edits made under my userna...</td>\n",
       "      <td>0</td>\n",
       "      <td>0</td>\n",
       "      <td>0</td>\n",
       "      <td>0</td>\n",
       "      <td>0</td>\n",
       "      <td>0</td>\n",
       "      <td>0</td>\n",
       "      <td>43</td>\n",
       "    </tr>\n",
       "    <tr>\n",
       "      <th>1</th>\n",
       "      <td>daww he matches this background colour i am se...</td>\n",
       "      <td>0</td>\n",
       "      <td>0</td>\n",
       "      <td>0</td>\n",
       "      <td>0</td>\n",
       "      <td>0</td>\n",
       "      <td>0</td>\n",
       "      <td>0</td>\n",
       "      <td>15</td>\n",
       "    </tr>\n",
       "    <tr>\n",
       "      <th>2</th>\n",
       "      <td>hey man i am really not trying to edit war its...</td>\n",
       "      <td>0</td>\n",
       "      <td>0</td>\n",
       "      <td>0</td>\n",
       "      <td>0</td>\n",
       "      <td>0</td>\n",
       "      <td>0</td>\n",
       "      <td>0</td>\n",
       "      <td>43</td>\n",
       "    </tr>\n",
       "    <tr>\n",
       "      <th>3</th>\n",
       "      <td>more i cant make any real suggestions on i amp...</td>\n",
       "      <td>0</td>\n",
       "      <td>0</td>\n",
       "      <td>0</td>\n",
       "      <td>0</td>\n",
       "      <td>0</td>\n",
       "      <td>0</td>\n",
       "      <td>0</td>\n",
       "      <td>110</td>\n",
       "    </tr>\n",
       "    <tr>\n",
       "      <th>4</th>\n",
       "      <td>you sir are my hero any chance you remember wh...</td>\n",
       "      <td>0</td>\n",
       "      <td>0</td>\n",
       "      <td>0</td>\n",
       "      <td>0</td>\n",
       "      <td>0</td>\n",
       "      <td>0</td>\n",
       "      <td>0</td>\n",
       "      <td>13</td>\n",
       "    </tr>\n",
       "  </tbody>\n",
       "</table>\n",
       "</div>"
      ],
      "text/plain": [
       "                                        comment_text  toxic  severe_toxic  \\\n",
       "0  explanation why the edits made under my userna...      0             0   \n",
       "1  daww he matches this background colour i am se...      0             0   \n",
       "2  hey man i am really not trying to edit war its...      0             0   \n",
       "3  more i cant make any real suggestions on i amp...      0             0   \n",
       "4  you sir are my hero any chance you remember wh...      0             0   \n",
       "\n",
       "   obscene  threat  insult  identity_hate  target  word_count  \n",
       "0        0       0       0              0       0          43  \n",
       "1        0       0       0              0       0          15  \n",
       "2        0       0       0              0       0          43  \n",
       "3        0       0       0              0       0         110  \n",
       "4        0       0       0              0       0          13  "
      ]
     },
     "execution_count": 44,
     "metadata": {},
     "output_type": "execute_result"
    }
   ],
   "source": [
    "data['word_count'] = data['comment_text'].apply(lambda x : len(x.split()))\n",
    "data.head()"
   ]
  },
  {
   "cell_type": "code",
   "execution_count": null,
   "id": "11a162bd",
   "metadata": {},
   "outputs": [],
   "source": []
  },
  {
   "cell_type": "markdown",
   "id": "de709e37",
   "metadata": {},
   "source": [
    "Prikaz statistika za broj reči:"
   ]
  },
  {
   "cell_type": "code",
   "execution_count": 45,
   "id": "93fce93f",
   "metadata": {},
   "outputs": [
    {
     "data": {
      "text/plain": [
       "count    223549.000000\n",
       "mean         64.891031\n",
       "std          98.227984\n",
       "min           0.000000\n",
       "25%          15.000000\n",
       "50%          34.000000\n",
       "75%          72.000000\n",
       "max        2142.000000\n",
       "Name: word_count, dtype: float64"
      ]
     },
     "execution_count": 45,
     "metadata": {},
     "output_type": "execute_result"
    }
   ],
   "source": [
    "data['word_count'].describe()"
   ]
  },
  {
   "cell_type": "code",
   "execution_count": 46,
   "id": "a910fb2f",
   "metadata": {},
   "outputs": [
    {
     "data": {
      "text/plain": [
       "508"
      ]
     },
     "execution_count": 46,
     "metadata": {},
     "output_type": "execute_result"
    }
   ],
   "source": [
    "# Broj komentara koji imaju samo jednu rec\n",
    "\n",
    "data[data['word_count'] == 1].shape[0]"
   ]
  },
  {
   "cell_type": "code",
   "execution_count": 47,
   "id": "39fd047f",
   "metadata": {},
   "outputs": [
    {
     "data": {
      "text/plain": [
       "99492    c o m m i e  f u c k e r c o m m i e  f u c k ...\n",
       "Name: comment_text, dtype: object"
      ]
     },
     "execution_count": 47,
     "metadata": {},
     "output_type": "execute_result"
    }
   ],
   "source": [
    "# Komentar koji ima najvecu duzinu \n",
    "\n",
    "data[data['word_count'] == int(data['word_count'].describe()['max'])]['comment_text']"
   ]
  },
  {
   "cell_type": "markdown",
   "id": "f7b0fd00",
   "metadata": {},
   "source": [
    "Ovaj komentar je dugačak jer je napisan slovo po slovo sa razmacima"
   ]
  },
  {
   "cell_type": "code",
   "execution_count": null,
   "id": "e16c1dad",
   "metadata": {},
   "outputs": [],
   "source": []
  },
  {
   "cell_type": "code",
   "execution_count": 48,
   "id": "d6fcab7a",
   "metadata": {},
   "outputs": [
    {
     "data": {
      "text/plain": [
       "96"
      ]
     },
     "execution_count": 48,
     "metadata": {},
     "output_type": "execute_result"
    }
   ],
   "source": [
    "# Broj komentara koji imaju 0 reci\n",
    "\n",
    "data[data['word_count'] == 0].shape[0]"
   ]
  },
  {
   "cell_type": "code",
   "execution_count": 49,
   "id": "b033984e",
   "metadata": {},
   "outputs": [],
   "source": [
    "data = data[data['word_count'] != 0]"
   ]
  },
  {
   "cell_type": "code",
   "execution_count": 50,
   "id": "9283b62e",
   "metadata": {},
   "outputs": [
    {
     "data": {
      "text/plain": [
       "(223453, 9)"
      ]
     },
     "execution_count": 50,
     "metadata": {},
     "output_type": "execute_result"
    }
   ],
   "source": [
    "data.shape"
   ]
  },
  {
   "cell_type": "code",
   "execution_count": null,
   "id": "0768ba03",
   "metadata": {},
   "outputs": [],
   "source": []
  },
  {
   "cell_type": "markdown",
   "id": "efb79014",
   "metadata": {},
   "source": [
    "Histogram za broj reči po komentaru"
   ]
  },
  {
   "cell_type": "code",
   "execution_count": 51,
   "id": "c1dfad04",
   "metadata": {},
   "outputs": [
    {
     "data": {
      "image/png": "[encoded data removed]",
      "text/plain": [
       "<Figure size 432x288 with 1 Axes>"
      ]
     },
     "metadata": {
      "needs_background": "light"
     },
     "output_type": "display_data"
    }
   ],
   "source": [
    "plt.title('Raspodela broja reči')\n",
    "data['word_count'].hist()\n",
    "plt.xlabel('Dužina reči')\n",
    "plt.ylabel('Broj instanci')\n",
    "\n",
    "plt.savefig('plots and images/04_hist_word_count.png')\n",
    "plt.show()"
   ]
  },
  {
   "cell_type": "markdown",
   "id": "5176de91",
   "metadata": {},
   "source": [
    "Većina komentara ima do 200 reči. Podelićemo prethodni histogram na dva: prvi predstavlja raspodelu instanci koje imaju do 200 reči, a drugi raspodelu onih dužih komentara (više od 200 reči), koji su u manjini "
   ]
  },
  {
   "cell_type": "code",
   "execution_count": 52,
   "id": "5a50aeeb",
   "metadata": {},
   "outputs": [
    {
     "data": {
      "image/png": "[encoded data removed]",
      "text/plain": [
       "<Figure size 1080x360 with 2 Axes>"
      ]
     },
     "metadata": {
      "needs_background": "light"
     },
     "output_type": "display_data"
    }
   ],
   "source": [
    "plt.figure(figsize=(15, 5))\n",
    "\n",
    "plt.subplot(1, 2, 1)\n",
    "plt.title('Raspodela komentara koji imaju do 200 reči')\n",
    "data[data['word_count'] <= 200]['word_count'].hist()\n",
    "plt.xlabel('Broj reči')\n",
    "plt.ylabel('Broj instanci')\n",
    "\n",
    "plt.subplot(1, 2, 2)\n",
    "plt.title('Raspodela komentara koji imaju preko 200 reči')\n",
    "data[data['word_count'] > 200]['word_count'].hist()\n",
    "plt.xlabel('Broj reči')\n",
    "plt.ylabel('Broj instanci')\n",
    "\n",
    "plt.savefig(\"plots and images/05_hist_wordcount_split.png\")\n",
    "plt.show()"
   ]
  },
  {
   "cell_type": "code",
   "execution_count": null,
   "id": "74fe8f99",
   "metadata": {},
   "outputs": [],
   "source": []
  },
  {
   "cell_type": "markdown",
   "id": "8aac2067",
   "metadata": {},
   "source": [
    "Prosečan broj reči po instanci: "
   ]
  },
  {
   "cell_type": "code",
   "execution_count": 53,
   "id": "4b7b0ce7",
   "metadata": {},
   "outputs": [
    {
     "data": {
      "text/plain": [
       "64.91890912182875"
      ]
     },
     "execution_count": 53,
     "metadata": {},
     "output_type": "execute_result"
    }
   ],
   "source": [
    "average_word_count = data['word_count'].mean()\n",
    "average_word_count"
   ]
  },
  {
   "cell_type": "markdown",
   "id": "2dfe7016",
   "metadata": {},
   "source": [
    "#### Prosečna dužina komentara je oko 65 reči (bez uklanjanja stop reči)."
   ]
  },
  {
   "cell_type": "code",
   "execution_count": 54,
   "id": "96cff92f",
   "metadata": {},
   "outputs": [],
   "source": [
    "data.to_csv('data/data_longer.csv')"
   ]
  },
  {
   "cell_type": "code",
   "execution_count": null,
   "id": "a16c7f87",
   "metadata": {},
   "outputs": [],
   "source": []
  },
  {
   "cell_type": "code",
   "execution_count": null,
   "id": "e2406a35",
   "metadata": {},
   "outputs": [],
   "source": []
  },
  {
   "cell_type": "code",
   "execution_count": null,
   "id": "a7342aea",
   "metadata": {},
   "outputs": [],
   "source": []
  }
 ],
 "metadata": {
  "kernelspec": {
   "display_name": "Python 3",
   "language": "python",
   "name": "python3"
  },
  "language_info": {
   "codemirror_mode": {
    "name": "ipython",
    "version": 3
   },
   "file_extension": ".py",
   "mimetype": "text/x-python",
   "name": "python",
   "nbconvert_exporter": "python",
   "pygments_lexer": "ipython3",
   "version": "3.8.8"
  }
 },
 "nbformat": 4,
 "nbformat_minor": 5
}
