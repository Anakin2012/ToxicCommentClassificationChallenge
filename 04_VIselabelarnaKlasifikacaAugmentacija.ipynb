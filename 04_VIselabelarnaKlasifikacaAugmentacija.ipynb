{
 "cells": [
  {
   "cell_type": "code",
   "execution_count": 2,
   "id": "e499fb3c",
   "metadata": {},
   "outputs": [],
   "source": [
    "import nlpaug.augmenter.char as nac\n",
    "import nlpaug.augmenter.word as naw\n",
    "import nlpaug.augmenter.sentence as nas"
   ]
  },
  {
   "cell_type": "code",
   "execution_count": 3,
   "id": "2f9cd3e9",
   "metadata": {},
   "outputs": [],
   "source": [
    "import pandas as pd\n",
    "import numpy as np\n",
    "from matplotlib import pyplot as plt\n",
    "\n",
    "import pickle\n",
    "import sklearn\n",
    "import time\n",
    "from sklearn import metrics\n",
    "from sklearn import model_selection\n",
    "from sklearn.metrics import multilabel_confusion_matrix\n",
    "from skmultilearn.model_selection import iterative_train_test_split\n",
    "from keras.utils.vis_utils import plot_model\n",
    "import warnings\n",
    "warnings.simplefilter(action='ignore', category=FutureWarning)"
   ]
  },
  {
   "cell_type": "code",
   "execution_count": 4,
   "id": "e732bb47",
   "metadata": {},
   "outputs": [],
   "source": [
    "import nltk\n",
    "import ssl\n",
    "\n",
    "try:\n",
    "    _create_unverified_https_context = ssl._create_unverified_context\n",
    "except AttributeError:\n",
    "    pass\n",
    "else:\n",
    "    ssl._create_default_https_context = _create_unverified_https_context\n",
    "\n",
    "# nltk.download('omw-1.4')"
   ]
  },
  {
   "cell_type": "code",
   "execution_count": 5,
   "id": "2e0bfd36",
   "metadata": {},
   "outputs": [],
   "source": [
    "%run SharedFunctions.ipynb"
   ]
  },
  {
   "cell_type": "markdown",
   "id": "6c5eab7f",
   "metadata": {},
   "source": [
    "Učitavamo podatke, i izdvajamo samo toksične"
   ]
  },
  {
   "cell_type": "code",
   "execution_count": 6,
   "id": "ff1dba3b",
   "metadata": {},
   "outputs": [],
   "source": [
    "data = pd.read_csv('data/data_longer.csv')\n",
    "labels = ['toxic', 'severe_toxic', 'obscene', 'threat', 'insult', 'identity_hate']\n",
    "data = data[data['target'] == 1]"
   ]
  },
  {
   "cell_type": "code",
   "execution_count": 7,
   "id": "510b84b5",
   "metadata": {},
   "outputs": [
    {
     "data": {
      "text/plain": [
       "{'toxic': 21384,\n",
       " 'severe_toxic': 1962,\n",
       " 'obscene': 12140,\n",
       " 'threat': 689,\n",
       " 'insult': 11304,\n",
       " 'identity_hate': 2117}"
      ]
     },
     "execution_count": 7,
     "metadata": {},
     "output_type": "execute_result"
    }
   ],
   "source": [
    "get_label_counts(data, labels)"
   ]
  },
  {
   "cell_type": "code",
   "execution_count": null,
   "id": "6574200c",
   "metadata": {},
   "outputs": [],
   "source": []
  },
  {
   "cell_type": "markdown",
   "id": "34757168",
   "metadata": {},
   "source": [
    "## DataAugmentation"
   ]
  },
  {
   "cell_type": "markdown",
   "id": "cda2ae27",
   "metadata": {},
   "source": [
    "U ovoj svesci, pokušaćemo da uvećamo broj instanci manjinskih klasa pomoću biblioteke nlpaug: https://github.com/makcedward/nlpaug/tree/40794970124c26ce2e587e567738247bf20ebcad#nlpaug"
   ]
  },
  {
   "cell_type": "markdown",
   "id": "0f281354",
   "metadata": {},
   "source": [
    "Ova biblioteka omogućava uvećavanje tekstualnih podataka kreiranjem veštačkih. Postoje veliki broj različitih metoda augmentacije, od kojih su ovde iskorišćena 4. Korišćeni su:\n",
    "- RandomWordAug koji na osnovu datog teksta kreira sličan tako što nasumično izbaci nekoliko reči iz teksta.\n",
    "- SynonymAug koji na osnovu datog teksta kreira sličan tako što zameni reči njihovim sinonimima\n",
    "- KeyboardAug koji na osnovu datog teksta kreira sličan tako što menja neke karaktere njima bliskim na tastaturi, i tako simulira greške u kucanju\n",
    "- OcrAug koji na osnovu datog teksta kreira sličan tako što menja slova ciframa ili drugim karakterima koji se često koriste u pisanju (npr. o i 0, ili b i 6)"
   ]
  },
  {
   "cell_type": "code",
   "execution_count": 8,
   "id": "4271f43d",
   "metadata": {},
   "outputs": [],
   "source": [
    "aug1 = naw.RandomWordAug()\n",
    "aug2 = naw.SynonymAug(aug_src='wordnet')\n",
    "aug3 = nac.KeyboardAug()\n",
    "aug4 = nac.OcrAug()"
   ]
  },
  {
   "cell_type": "code",
   "execution_count": null,
   "id": "d7c29ce1",
   "metadata": {},
   "outputs": [],
   "source": []
  },
  {
   "cell_type": "code",
   "execution_count": 9,
   "id": "88ee8dd6",
   "metadata": {},
   "outputs": [],
   "source": [
    "train_data, test_data = model_selection.train_test_split(data, test_size=0.4)"
   ]
  },
  {
   "cell_type": "markdown",
   "id": "5fa35971",
   "metadata": {},
   "source": [
    "Uvećavamo broj instanci klase threat, identity_hate i severe_toxic, pošto se na njima prethodni model slabo pokazao"
   ]
  },
  {
   "cell_type": "code",
   "execution_count": 10,
   "id": "8c28cae3",
   "metadata": {},
   "outputs": [],
   "source": [
    "train_threat = train_data[train_data['threat']==1]\n",
    "train_identity_hate = train_data[train_data['identity_hate']==1]\n",
    "train_severe = train_data[train_data['severe_toxic']==1]"
   ]
  },
  {
   "cell_type": "markdown",
   "id": "4fea7d91",
   "metadata": {},
   "source": [
    "Klasu threat ćemo uvećati 4 puta, a druge dve 2 puta"
   ]
  },
  {
   "cell_type": "code",
   "execution_count": 11,
   "id": "681c1e95",
   "metadata": {},
   "outputs": [],
   "source": [
    "augmented_text_threat1 = aug1.augment(list(train_threat['comment_text']))\n",
    "augmented_text_threat2 = aug2.augment(list(train_threat['comment_text']))\n",
    "augmented_text_threat3 = aug3.augment(list(train_threat['comment_text']))\n",
    "augmented_text_threat4 = aug2.augment(list(train_threat['comment_text']))\n",
    "\n",
    "augmented_text_identity = aug2.augment(list(train_identity_hate['comment_text']))\n",
    "augmented_text_severe = aug2.augment(list(train_severe['comment_text']))"
   ]
  },
  {
   "cell_type": "code",
   "execution_count": 12,
   "id": "d8c43453",
   "metadata": {},
   "outputs": [
    {
     "data": {
      "text/plain": [
       "13480"
      ]
     },
     "execution_count": 12,
     "metadata": {},
     "output_type": "execute_result"
    }
   ],
   "source": [
    "text = list(train_data['comment_text'])\n",
    "len(text)"
   ]
  },
  {
   "cell_type": "code",
   "execution_count": 13,
   "id": "0b05b267",
   "metadata": {},
   "outputs": [],
   "source": [
    "text.extend(augmented_text_threat1)\n",
    "text.extend(augmented_text_threat2)\n",
    "text.extend(augmented_text_threat3)\n",
    "text.extend(augmented_text_threat4)\n",
    "\n",
    "text.extend(augmented_text_identity)\n",
    "text.extend(augmented_text_severe)"
   ]
  },
  {
   "cell_type": "code",
   "execution_count": 14,
   "id": "0486db79",
   "metadata": {},
   "outputs": [],
   "source": [
    "label_threat1 = train_threat[labels]\n",
    "label_threat2 = train_threat[labels]\n",
    "label_threat3 = train_threat[labels]\n",
    "label_threat4 = train_threat[labels]\n",
    "\n",
    "label_identity = train_identity_hate[labels]\n",
    "label_severe = train_severe[labels]"
   ]
  },
  {
   "cell_type": "code",
   "execution_count": null,
   "id": "1ec8acc4",
   "metadata": {},
   "outputs": [],
   "source": []
  },
  {
   "cell_type": "code",
   "execution_count": 15,
   "id": "fb7add14",
   "metadata": {},
   "outputs": [],
   "source": [
    "X_train = pd.DataFrame(text)"
   ]
  },
  {
   "cell_type": "code",
   "execution_count": 16,
   "id": "372713fe",
   "metadata": {},
   "outputs": [],
   "source": [
    "y_train = pd.DataFrame(pd.concat([train_data[labels], label_threat1, label_threat2, label_threat3, label_threat4, label_identity, label_severe]))"
   ]
  },
  {
   "cell_type": "code",
   "execution_count": 17,
   "id": "fb51f5f0",
   "metadata": {},
   "outputs": [
    {
     "data": {
      "text/plain": [
       "((17509, 1), (17509, 6))"
      ]
     },
     "execution_count": 17,
     "metadata": {},
     "output_type": "execute_result"
    }
   ],
   "source": [
    "X_train.shape, y_train.shape"
   ]
  },
  {
   "cell_type": "code",
   "execution_count": 18,
   "id": "5752d054",
   "metadata": {},
   "outputs": [
    {
     "data": {
      "text/plain": [
       "{'toxic': 16734,\n",
       " 'severe_toxic': 2943,\n",
       " 'obscene': 10295,\n",
       " 'threat': 2154,\n",
       " 'insult': 9878,\n",
       " 'identity_hate': 3157}"
      ]
     },
     "execution_count": 18,
     "metadata": {},
     "output_type": "execute_result"
    }
   ],
   "source": [
    "get_label_counts(y_train, labels)"
   ]
  },
  {
   "cell_type": "code",
   "execution_count": null,
   "id": "65e6d3d2",
   "metadata": {},
   "outputs": [],
   "source": []
  },
  {
   "cell_type": "code",
   "execution_count": 19,
   "id": "85234c32",
   "metadata": {},
   "outputs": [],
   "source": [
    "# uzima se recimo 20000 najfrekventinijh reci\n",
    "max_features = 20000\n",
    "\n",
    "# max duzina\n",
    "max_len = 100"
   ]
  },
  {
   "cell_type": "code",
   "execution_count": 20,
   "id": "d378e279",
   "metadata": {},
   "outputs": [],
   "source": [
    "word_index, tokenizer = get_vocabulary(max_features, X_train[0], 'tokenizer_multi2.pickle')"
   ]
  },
  {
   "cell_type": "code",
   "execution_count": 21,
   "id": "630f816e",
   "metadata": {},
   "outputs": [
    {
     "name": "stdout",
     "output_type": "stream",
     "text": [
      "Broj jedinstvenih reci: 36595\n"
     ]
    }
   ],
   "source": [
    "print('Broj jedinstvenih reci:', len(word_index))"
   ]
  },
  {
   "cell_type": "code",
   "execution_count": 22,
   "id": "f612704a",
   "metadata": {},
   "outputs": [],
   "source": [
    "X_train_transformed = to_sequence(X_train[0], max_len, tokenizer)\n",
    "X_test_transformed = to_sequence(test_data['comment_text'], max_len, tokenizer)"
   ]
  },
  {
   "cell_type": "code",
   "execution_count": 23,
   "id": "e61bf079",
   "metadata": {},
   "outputs": [
    {
     "data": {
      "text/plain": [
       "((17509, 100), (8988, 100))"
      ]
     },
     "execution_count": 23,
     "metadata": {},
     "output_type": "execute_result"
    }
   ],
   "source": [
    "X_train_transformed.shape, X_test_transformed.shape"
   ]
  },
  {
   "cell_type": "code",
   "execution_count": 24,
   "id": "dc191961",
   "metadata": {},
   "outputs": [],
   "source": [
    "embedding_dim = 100\n",
    "embedding_matrix = create_embedding_matrix(word_index, embedding_dim)"
   ]
  },
  {
   "cell_type": "code",
   "execution_count": 25,
   "id": "75720d90",
   "metadata": {},
   "outputs": [],
   "source": [
    "kernel_size = 3\n",
    "pool_size = 4\n",
    "filters = 64\n",
    "dropout_rate = 0.2\n",
    "embedding_dim = 100\n",
    "lr = 0.01\n",
    "layers = 0"
   ]
  },
  {
   "cell_type": "code",
   "execution_count": 26,
   "id": "3618f7ad",
   "metadata": {},
   "outputs": [
    {
     "name": "stdout",
     "output_type": "stream",
     "text": [
      "Model: \"sequential\"\n",
      "_________________________________________________________________\n",
      "Layer (type)                 Output Shape              Param #   \n",
      "=================================================================\n",
      "embedding (Embedding)        (None, 100, 100)          2000000   \n",
      "_________________________________________________________________\n",
      "conv1d (Conv1D)              (None, 100, 64)           19264     \n",
      "_________________________________________________________________\n",
      "max_pooling1d (MaxPooling1D) (None, 25, 64)            0         \n",
      "_________________________________________________________________\n",
      "conv1d_1 (Conv1D)            (None, 25, 128)           24704     \n",
      "_________________________________________________________________\n",
      "max_pooling1d_1 (MaxPooling1 (None, 6, 128)            0         \n",
      "_________________________________________________________________\n",
      "dropout (Dropout)            (None, 6, 128)            0         \n",
      "_________________________________________________________________\n",
      "global_average_pooling1d (Gl (None, 128)               0         \n",
      "_________________________________________________________________\n",
      "flatten (Flatten)            (None, 128)               0         \n",
      "_________________________________________________________________\n",
      "dense (Dense)                (None, 6)                 774       \n",
      "=================================================================\n",
      "Total params: 2,044,742\n",
      "Trainable params: 44,742\n",
      "Non-trainable params: 2,000,000\n",
      "_________________________________________________________________\n"
     ]
    }
   ],
   "source": [
    "multi_model = create_model(num_of_classes = 6, num_of_features = max_features, embedding_dim = embedding_dim, \n",
    "                           kernel_size = kernel_size, pool_size = pool_size, filters = filters, \n",
    "                           dropout_rate = dropout_rate, maxlen = max_len, lr = lr, \n",
    "                           embedding_matrix = embedding_matrix, layers=layers)"
   ]
  },
  {
   "cell_type": "code",
   "execution_count": 27,
   "id": "1b136d36",
   "metadata": {},
   "outputs": [
    {
     "data": {
      "text/plain": [
       "{0: 0.17438548265009363,\n",
       " 1: 0.9915618982897271,\n",
       " 2: 0.28345475149749066,\n",
       " 3: 1.3547663262147942,\n",
       " 4: 0.2954208004319363,\n",
       " 5: 0.9243480097138633}"
      ]
     },
     "execution_count": 27,
     "metadata": {},
     "output_type": "execute_result"
    }
   ],
   "source": [
    "weights = get_weights(y_train[labels].to_numpy(), 6)\n",
    "weights"
   ]
  },
  {
   "cell_type": "code",
   "execution_count": 28,
   "id": "2cc08fff",
   "metadata": {},
   "outputs": [],
   "source": [
    "epochs = 20\n",
    "batch_size = 128"
   ]
  },
  {
   "cell_type": "code",
   "execution_count": 29,
   "id": "55827eec",
   "metadata": {},
   "outputs": [
    {
     "name": "stdout",
     "output_type": "stream",
     "text": [
      "Trajanje obucavanja modela multilabel klasifikacije:  70.83722376823425\n"
     ]
    }
   ],
   "source": [
    "start = time.time()    \n",
    "\n",
    "multi_history = multi_model.fit(X_train_transformed, y_train, batch_size=batch_size, epochs=epochs, \n",
    "                                validation_split=0.2,\n",
    "                                class_weight=weights, verbose=False, shuffle=True)\n",
    "                                 \n",
    "print('Trajanje obucavanja modela multilabel klasifikacije: ', time.time() - start)"
   ]
  },
  {
   "cell_type": "code",
   "execution_count": 31,
   "id": "84ade3f0",
   "metadata": {},
   "outputs": [
    {
     "data": {
      "image/png": "[encoded data removed]",
      "text/plain": [
       "<Figure size 1080x360 with 3 Axes>"
      ]
     },
     "metadata": {
      "needs_background": "light"
     },
     "output_type": "display_data"
    }
   ],
   "source": [
    "plot_graphs(multi_history, ['accuracy', 'recall', 'auc'])"
   ]
  },
  {
   "cell_type": "markdown",
   "id": "18b7c8e7",
   "metadata": {},
   "source": [
    "Sa grafika može da se zaključi da je augmentacija dovela do preprilagođavanja"
   ]
  },
  {
   "cell_type": "code",
   "execution_count": 32,
   "id": "ccdb508b",
   "metadata": {},
   "outputs": [
    {
     "name": "stdout",
     "output_type": "stream",
     "text": [
      "548/548 [==============================] - 3s 5ms/step - loss: 0.2212 - accuracy: 0.8774 - precision: 0.9620 - recall: 0.8467 - auc: 0.9448 - f1_m: 0.9082\n",
      "Train Loss:  0.22122879326343536\n",
      "Train Acc:  0.8773773312568665\n",
      "Train Precision:  0.9620106816291809\n",
      "Train Recall:  0.8467040061950684\n",
      "Train AUC: 0.9448310732841492\n",
      "Train F1:  0.9081646203994751\n"
     ]
    }
   ],
   "source": [
    "scores = multi_model.evaluate(X_train_transformed, y_train)\n",
    "print('Train Loss: ', scores[0])\n",
    "print('Train Acc: ', scores[1])\n",
    "print('Train Precision: ', scores[2])\n",
    "print('Train Recall: ', scores[3])\n",
    "print('Train AUC:', scores[4])\n",
    "print('Train F1: ', scores[5])"
   ]
  },
  {
   "cell_type": "code",
   "execution_count": 33,
   "id": "94ba62d5",
   "metadata": {
    "scrolled": true
   },
   "outputs": [
    {
     "name": "stdout",
     "output_type": "stream",
     "text": [
      "281/281 [==============================] - 2s 5ms/step - loss: 0.4512 - accuracy: 0.8336 - precision: 0.8503 - recall: 0.7703 - auc: 0.7612 - f1_m: 0.8078\n",
      "Test Loss:  0.45122402906417847\n",
      "Test Acc:  0.8335558772087097\n",
      "Test Precision:  0.850297749042511\n",
      "Test Recall:  0.7702661752700806\n",
      "Test AUC: 0.7611870169639587\n",
      "Test F1:  0.8077940344810486\n"
     ]
    }
   ],
   "source": [
    "scores = multi_model.evaluate(X_test_transformed, test_data[labels])\n",
    "print('Test Loss: ', scores[0])\n",
    "print('Test Acc: ', scores[1])\n",
    "print('Test Precision: ', scores[2])\n",
    "print('Test Recall: ', scores[3])\n",
    "print('Test AUC:', scores[4])\n",
    "print('Test F1: ', scores[5])"
   ]
  },
  {
   "cell_type": "code",
   "execution_count": 34,
   "id": "fa07b84c",
   "metadata": {},
   "outputs": [],
   "source": [
    "y_predicted = multi_model.predict(X_test_transformed)"
   ]
  },
  {
   "cell_type": "code",
   "execution_count": 35,
   "id": "4f889a5f",
   "metadata": {},
   "outputs": [],
   "source": [
    "# Bolje da imamo vise lazno pozitivnih nego lazno negativnih\n",
    "\n",
    "def translate(array):\n",
    "    \n",
    "    res1 = [1 if x>0.4 else 0 for x in array[::2]]\n",
    "    res2 = [1 if x>0.2 else 0 for x in array[1::2]]\n",
    "\n",
    "    res = []\n",
    "    for r1, r2 in zip(res1, res2):\n",
    "        res.append(r1)\n",
    "        res.append(r2)\n",
    "\n",
    "    return res\n",
    "\n",
    "result = map(translate, y_predicted)\n",
    "\n",
    "y_labels = list(result)\n",
    "cf = multilabel_confusion_matrix(test_data[labels], y_labels)"
   ]
  },
  {
   "cell_type": "code",
   "execution_count": 36,
   "id": "e570081d",
   "metadata": {
    "scrolled": false
   },
   "outputs": [
    {
     "data": {
      "image/png": "[encoded data removed]",
      "text/plain": [
       "<Figure size 1440x720 with 12 Axes>"
      ]
     },
     "metadata": {
      "needs_background": "light"
     },
     "output_type": "display_data"
    }
   ],
   "source": [
    "plot_cf(cf, 'multi_aug', labels)"
   ]
  },
  {
   "cell_type": "code",
   "execution_count": 37,
   "id": "3876c507",
   "metadata": {},
   "outputs": [
    {
     "name": "stdout",
     "output_type": "stream",
     "text": [
      "Brojnost po klasama na test skupu:\n",
      "{'toxic': 8540, 'severe_toxic': 786, 'obscene': 4865, 'threat': 292, 'insult': 4501, 'identity_hate': 852}\n"
     ]
    }
   ],
   "source": [
    "print('Brojnost po klasama na test skupu:')\n",
    "print(get_label_counts(test_data[labels], labels))"
   ]
  },
  {
   "cell_type": "code",
   "execution_count": 38,
   "id": "be265eaf",
   "metadata": {},
   "outputs": [
    {
     "name": "stdout",
     "output_type": "stream",
     "text": [
      "               precision    recall  f1-score   support\n",
      "\n",
      "        toxic       0.95      0.99      0.97      8540\n",
      " severe_toxic       0.39      0.43      0.41       786\n",
      "      obscene       0.79      0.77      0.78      4865\n",
      "       threat       0.39      0.45      0.42       292\n",
      "       insult       0.72      0.65      0.68      4501\n",
      "identity_hate       0.52      0.46      0.49       852\n",
      "\n",
      "    micro avg       0.81      0.81      0.81     19836\n",
      "    macro avg       0.63      0.63      0.62     19836\n",
      " weighted avg       0.81      0.81      0.81     19836\n",
      "  samples avg       0.83      0.83      0.79     19836\n",
      "\n"
     ]
    },
    {
     "name": "stderr",
     "output_type": "stream",
     "text": [
      "C:\\Users\\panap\\anaconda3\\envs\\envi\\lib\\site-packages\\sklearn\\metrics\\_classification.py:1327: UndefinedMetricWarning: Precision and F-score are ill-defined and being set to 0.0 in samples with no predicted labels. Use `zero_division` parameter to control this behavior.\n",
      "  _warn_prf(average, modifier, msg_start, len(result))\n"
     ]
    }
   ],
   "source": [
    "print(metrics.classification_report(test_data[labels], y_labels,target_names=labels))"
   ]
  },
  {
   "cell_type": "code",
   "execution_count": 46,
   "id": "0f057b5e",
   "metadata": {},
   "outputs": [
    {
     "name": "stderr",
     "output_type": "stream",
     "text": [
      "C:\\Users\\panap\\anaconda3\\envs\\envi\\lib\\site-packages\\sklearn\\metrics\\_classification.py:1327: UndefinedMetricWarning: Precision and F-score are ill-defined and being set to 0.0 in samples with no predicted labels. Use `zero_division` parameter to control this behavior.\n",
      "  _warn_prf(average, modifier, msg_start, len(result))\n"
     ]
    }
   ],
   "source": [
    "report = metrics.classification_report(test_data[labels], y_labels, output_dict=True)\n",
    "df = pd.DataFrame(report).transpose()\n",
    "\n",
    "df.round(2).to_csv('data/cr2.csv')"
   ]
  },
  {
   "cell_type": "code",
   "execution_count": 39,
   "id": "2c9119bc",
   "metadata": {},
   "outputs": [],
   "source": [
    "precisions, recalls, f1_scores = get_prec_rec_f1(cf, labels)"
   ]
  },
  {
   "cell_type": "code",
   "execution_count": 40,
   "id": "a029ed9e",
   "metadata": {},
   "outputs": [
    {
     "data": {
      "text/plain": [
       "{'toxic': 0.95,\n",
       " 'severe_toxic': 0.39,\n",
       " 'obscene': 0.79,\n",
       " 'threat': 0.39,\n",
       " 'insult': 0.72,\n",
       " 'identity_hate': 0.52}"
      ]
     },
     "execution_count": 40,
     "metadata": {},
     "output_type": "execute_result"
    }
   ],
   "source": [
    "precisions"
   ]
  },
  {
   "cell_type": "code",
   "execution_count": 41,
   "id": "905334cc",
   "metadata": {},
   "outputs": [
    {
     "data": {
      "text/plain": [
       "{'toxic': 0.99,\n",
       " 'severe_toxic': 0.43,\n",
       " 'obscene': 0.77,\n",
       " 'threat': 0.45,\n",
       " 'insult': 0.65,\n",
       " 'identity_hate': 0.46}"
      ]
     },
     "execution_count": 41,
     "metadata": {},
     "output_type": "execute_result"
    }
   ],
   "source": [
    "recalls"
   ]
  },
  {
   "cell_type": "code",
   "execution_count": 42,
   "id": "b9336e87",
   "metadata": {},
   "outputs": [
    {
     "data": {
      "text/plain": [
       "{'toxic': 0.97,\n",
       " 'severe_toxic': 0.41,\n",
       " 'obscene': 0.78,\n",
       " 'threat': 0.42,\n",
       " 'insult': 0.68,\n",
       " 'identity_hate': 0.49}"
      ]
     },
     "execution_count": 42,
     "metadata": {},
     "output_type": "execute_result"
    }
   ],
   "source": [
    "f1_scores"
   ]
  },
  {
   "cell_type": "code",
   "execution_count": null,
   "id": "1f41748a",
   "metadata": {},
   "outputs": [],
   "source": []
  },
  {
   "cell_type": "code",
   "execution_count": 43,
   "id": "2c20514a",
   "metadata": {},
   "outputs": [],
   "source": [
    "# izracunate metrike se cuvaju u csv datoteku: \n",
    "\n",
    "report1 = pd.DataFrame(precisions, index=['precision'])\n",
    "report2 = pd.DataFrame(recalls, index=['recall'])\n",
    "report3 = pd.DataFrame(f1_scores, index=['f1'])\n",
    "\n",
    "report = pd.concat([report1, report2, report3])\n",
    "\n",
    "report.to_csv('data/report2.csv')"
   ]
  },
  {
   "cell_type": "markdown",
   "id": "5543293b",
   "metadata": {},
   "source": [
    "U odnosu na model iz prethodne sveske, jedino se povećao odziv za klasu threat, ostalo je sve prilično slično."
   ]
  },
  {
   "cell_type": "code",
   "execution_count": 44,
   "id": "8338e09e",
   "metadata": {},
   "outputs": [],
   "source": [
    "#multi_model.save_weights('models/multi_model_aug_weights.hdf5')\n",
    "#multi_model.save('models/multi_model_aug.hdf5')"
   ]
  },
  {
   "cell_type": "code",
   "execution_count": null,
   "id": "fb1e4cfb",
   "metadata": {},
   "outputs": [],
   "source": []
  }
 ],
 "metadata": {
  "kernelspec": {
   "display_name": "Python 3 (ipykernel)",
   "language": "python",
   "name": "python3"
  },
  "language_info": {
   "codemirror_mode": {
    "name": "ipython",
    "version": 3
   },
   "file_extension": ".py",
   "mimetype": "text/x-python",
   "name": "python",
   "nbconvert_exporter": "python",
   "pygments_lexer": "ipython3",
   "version": "3.9.6"
  }
 },
 "nbformat": 4,
 "nbformat_minor": 5
}
