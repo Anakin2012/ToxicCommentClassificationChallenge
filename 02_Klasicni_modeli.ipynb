{
 "cells": [
  {
   "cell_type": "code",
   "execution_count": 1,
   "id": "494afe45",
   "metadata": {},
   "outputs": [],
   "source": [
    "import pandas as pd\n",
    "import numpy as np\n",
    "from matplotlib import pyplot as plt\n",
    "\n",
    "import nltk\n",
    "from nltk import word_tokenize\n",
    "from sklearn import model_selection\n",
    "from sklearn.feature_extraction.text import TfidfVectorizer\n",
    "\n",
    "import pickle"
   ]
  },
  {
   "cell_type": "code",
   "execution_count": 51,
   "id": "659efe13",
   "metadata": {},
   "outputs": [],
   "source": [
    "from sklearn import metrics\n",
    "\n",
    "from sklearn.linear_model import LogisticRegression\n",
    "from sklearn.neighbors import KNeighborsClassifier\n",
    "from sklearn.tree import DecisionTreeClassifier\n",
    "from sklearn.naive_bayes import GaussianNB,MultinomialNB\n",
    "from sklearn.multiclass import OneVsRestClassifier\n",
    "from sklearn.svm import LinearSVC\n",
    "from skmultilearn.problem_transform import ClassifierChain\n",
    "from sklearn.ensemble import RandomForestClassifier"
   ]
  },
  {
   "cell_type": "code",
   "execution_count": null,
   "id": "adbca57b",
   "metadata": {},
   "outputs": [],
   "source": []
  },
  {
   "cell_type": "markdown",
   "id": "10543ad9",
   "metadata": {},
   "source": [
    "### Učitavanje prethodno sačuvanih podatka"
   ]
  },
  {
   "cell_type": "code",
   "execution_count": 8,
   "id": "2993d695",
   "metadata": {},
   "outputs": [
    {
     "name": "stdout",
     "output_type": "stream",
     "text": [
      "(159412, 8)\n"
     ]
    }
   ],
   "source": [
    "data = pd.read_csv('csv/data_filtered.csv')\n",
    "print(data.shape)"
   ]
  },
  {
   "cell_type": "code",
   "execution_count": 9,
   "id": "183cb2d4",
   "metadata": {},
   "outputs": [
    {
     "name": "stdout",
     "output_type": "stream",
     "text": [
      "(31503, 8)\n"
     ]
    }
   ],
   "source": [
    "balanced_data = pd.read_csv('csv/data_balanced.csv')\n",
    "print(balanced_data.shape)"
   ]
  },
  {
   "cell_type": "markdown",
   "id": "da7852eb",
   "metadata": {},
   "source": [
    "###  Podela na trening i test skup \n",
    "### Izdvajanje atributa - feature engineering\n",
    "https://www.youtube.com/watch?v=YyOuDi-zSiI\n",
    "\n",
    "https://medium.com/technovators/machine-learning-based-multi-label-text-classification-9a0e17f88bb4\n",
    "\n",
    "Koristićemo TF-IDF reprezentaciju"
   ]
  },
  {
   "cell_type": "markdown",
   "id": "0229e64a",
   "metadata": {},
   "source": [
    "Funkcija koja vrši podelu na trening i test skup, i nakon toga kreira vokabular i transformiše tekst:"
   ]
  },
  {
   "cell_type": "code",
   "execution_count": 10,
   "id": "299f7e3b",
   "metadata": {},
   "outputs": [],
   "source": [
    "def split_and_vectorize(data, max_features, name):\n",
    "    data_text = data['comment_text'].values.astype('U')\n",
    "    X = data.drop(labels=['id'], axis=1)\n",
    "    y = data.drop(labels = ['id', 'comment_text'], axis=1)\n",
    "    \n",
    "    X_train, X_test, y_train, y_test = model_selection.train_test_split(X, y, test_size = 0.33, random_state=42)\n",
    "    \n",
    "    vectorizer = TfidfVectorizer(strip_accents='unicode', tokenizer=word_tokenize, analyzer='word', ngram_range=(1,3), norm='l2', max_features = max_features)\n",
    "   \n",
    "    X_train_vec = vectorizer.fit_transform(X_train['comment_text'])\n",
    "    X_test_vec = vectorizer.transform(X_test['comment_text'])\n",
    "\n",
    "   # pickle.dump(vectorizer, open('tfidf_vectorizer_' + name + '.pickle', \"wb\"))\n",
    "    return X_train_vec, X_test_vec, y_train, y_test"
   ]
  },
  {
   "cell_type": "code",
   "execution_count": 12,
   "id": "b8359b83",
   "metadata": {},
   "outputs": [],
   "source": [
    "X_train, X_test, y_train, y_test = split_and_vectorize(data, 10000, 'data')"
   ]
  },
  {
   "cell_type": "code",
   "execution_count": 13,
   "id": "b8ee41cf",
   "metadata": {},
   "outputs": [],
   "source": [
    "X_train_balanced, X_test_balanced, y_train_balanced, y_test_balanced = split_and_vectorize(balanced_data, 20000, 'balanced')"
   ]
  },
  {
   "cell_type": "code",
   "execution_count": 14,
   "id": "1b5c90d4",
   "metadata": {},
   "outputs": [],
   "source": [
    "vectorizer_data = pickle.load(open(\"tfidf_vectorizer_data.pickle\", \"rb\"))\n",
    "vectorizer_balanced = pickle.load(open(\"tfidf_vectorizer_balanced.pickle\", \"rb\"))"
   ]
  },
  {
   "cell_type": "code",
   "execution_count": 19,
   "id": "ace6b30a",
   "metadata": {},
   "outputs": [
    {
     "data": {
      "text/plain": [
       "['blog ,',\n",
       " 'blood',\n",
       " 'bloody',\n",
       " 'bloody fool',\n",
       " 'bloody fool bloody',\n",
       " 'blow',\n",
       " 'blp',\n",
       " 'blue',\n",
       " 'bnp',\n",
       " 'board']"
      ]
     },
     "execution_count": 19,
     "metadata": {},
     "output_type": "execute_result"
    }
   ],
   "source": [
    "features1 = vectorizer_data.get_feature_names()\n",
    "features1[2020:2030]"
   ]
  },
  {
   "cell_type": "code",
   "execution_count": 16,
   "id": "21fe109b",
   "metadata": {},
   "outputs": [
    {
     "data": {
      "text/plain": [
       "['abuse admin', 'abuse power', 'abusive', 'ac', 'academ']"
      ]
     },
     "execution_count": 16,
     "metadata": {},
     "output_type": "execute_result"
    }
   ],
   "source": [
    "features2 = vectorizer_balanced.get_feature_names()\n",
    "features2[2020:2025]"
   ]
  },
  {
   "cell_type": "code",
   "execution_count": null,
   "id": "cb10489a",
   "metadata": {},
   "outputs": [],
   "source": []
  },
  {
   "cell_type": "markdown",
   "id": "34bf9587",
   "metadata": {},
   "source": [
    "## Igradnja modela"
   ]
  },
  {
   "cell_type": "markdown",
   "id": "f84915a1",
   "metadata": {},
   "source": [
    "Postoje tri pristupa kada je u pitanju multilaberna klasifikacija\n",
    "\n",
    "### Transformacija problema\n",
    "where we divide the multi-label problem into one or more conventional single-label problems\n",
    "\n",
    "- **Binary Relevance**: treats each label as a separate single class classification\n",
    "\n",
    "- **Classifier Chains**: In this, the first classifier is trained just on the input data and then each next classifier is trained on the input space and all the previous classifiers in the chain.\n",
    "\n",
    "- **Label Powerset**:we transform the problem into a multi-class problem with one multi-class classifier is trained on all unique label combinations found in the training data.\n",
    "\n",
    "### Adaptacija problema\n",
    "Some classification algorithms/models like (knn, Decision trees) have been adapted to the multi-label task, without requiring problem transformations.\n",
    "\n",
    "### Ansabli\n"
   ]
  },
  {
   "cell_type": "code",
   "execution_count": null,
   "id": "e8824aef",
   "metadata": {},
   "outputs": [],
   "source": []
  },
  {
   "cell_type": "markdown",
   "id": "920f7c23",
   "metadata": {},
   "source": [
    "Funkcija koja računa metrike za napravljen model i daje izveštaj i matricu konfuzije:"
   ]
  },
  {
   "cell_type": "code",
   "execution_count": 29,
   "id": "b57f2907",
   "metadata": {},
   "outputs": [],
   "source": [
    "def get_metrics(y_test, y_predicted, name):\n",
    "    accuracy = metrics.accuracy_score(y_test, y_predicted)\n",
    "    precision = metrics.precision_score(y_test, y_predicted, average='weighted', labels=np.unique(y_predicted))\n",
    "    recall = metrics.recall_score(y_test, y_predicted, average='weighted', labels=np.unique(y_predicted))\n",
    "    f1 = metrics.f1_score(y_test, y_predicted, average='weighted', labels=np.unique(y_predicted))\n",
    "    auc = metrics.roc_auc_score(y_test, y_predicted)\n",
    "    hamming_loss = metrics.hamming_loss(y_test, y_predicted)\n",
    "\n",
    "    print(name + ':\\n')\n",
    "    \n",
    "    print('Tačnost: {}'.format(accuracy))\n",
    "    print('Preciznost: {}'.format(precision))\n",
    "    print('Odziv: {}'.format(recall))\n",
    "    print('F1 mera: {}'.format(f1))\n",
    "    print('AUC vrednost:{}'.format(auc))\n",
    "    print('Haming vrednost: {}'.format(hamming_loss))\n",
    "    \n",
    "    report = metrics.classification_report(y_test, y_predicted)\n",
    "    confusion_matrix = multilabel_confusion_matrix(y_test, y_predicted)\n",
    "    print('\\nIzvestaj:\\n {}'.format(report))\n",
    "    print('\\n')\n",
    "    print('Matrica konfuzije:\\n {}'.format(confusion_matrix))"
   ]
  },
  {
   "cell_type": "code",
   "execution_count": null,
   "id": "f8f34ffe",
   "metadata": {},
   "outputs": [],
   "source": []
  },
  {
   "cell_type": "code",
   "execution_count": 21,
   "id": "c895529a",
   "metadata": {},
   "outputs": [],
   "source": [
    "\n",
    "\n",
    "clf = OneVsRestClassifier(LinearSVC(), n_jobs=1)"
   ]
  },
  {
   "cell_type": "code",
   "execution_count": 22,
   "id": "d7a0bcef",
   "metadata": {},
   "outputs": [
    {
     "data": {
      "text/plain": [
       "OneVsRestClassifier(estimator=LinearSVC(), n_jobs=1)"
      ]
     },
     "execution_count": 22,
     "metadata": {},
     "output_type": "execute_result"
    }
   ],
   "source": [
    "clf.fit(X_train, y_train)"
   ]
  },
  {
   "cell_type": "code",
   "execution_count": 23,
   "id": "807a5886",
   "metadata": {},
   "outputs": [],
   "source": [
    "y_predicted = clf.predict(X_test)"
   ]
  },
  {
   "cell_type": "code",
   "execution_count": 30,
   "id": "a5b9a69a",
   "metadata": {},
   "outputs": [
    {
     "name": "stdout",
     "output_type": "stream",
     "text": [
      "All data:\n",
      "\n",
      "Tačnost: 0.917804052769646\n",
      "Preciznost: 0.8306549461122665\n",
      "Odziv: 0.6268122427062824\n",
      "F1 mera: 0.7129711238500114\n",
      "AUC vrednost:0.7172989596547032\n",
      "Haming vrednost: 0.018651231165012862\n",
      "\n",
      "Izvestaj:\n",
      "               precision    recall  f1-score   support\n",
      "\n",
      "           0       0.87      0.67      0.75      5066\n",
      "           1       0.48      0.23      0.31       521\n",
      "           2       0.89      0.70      0.79      2795\n",
      "           3       0.61      0.18      0.28       156\n",
      "           4       0.80      0.56      0.66      2647\n",
      "           5       0.62      0.29      0.39       453\n",
      "\n",
      "   micro avg       0.84      0.61      0.71     11638\n",
      "   macro avg       0.71      0.44      0.53     11638\n",
      "weighted avg       0.83      0.61      0.70     11638\n",
      " samples avg       0.06      0.05      0.05     11638\n",
      "\n",
      "\n",
      "\n",
      "Matrica konfuzije:\n",
      " [[[47020   520]\n",
      "  [ 1685  3381]]\n",
      "\n",
      " [[51954   131]\n",
      "  [  400   121]]\n",
      "\n",
      " [[49570   241]\n",
      "  [  827  1968]]\n",
      "\n",
      " [[52432    18]\n",
      "  [  128    28]]\n",
      "\n",
      " [[49581   378]\n",
      "  [ 1157  1490]]\n",
      "\n",
      " [[52073    80]\n",
      "  [  322   131]]]\n"
     ]
    },
    {
     "name": "stderr",
     "output_type": "stream",
     "text": [
      "C:\\ProgramData\\Anaconda3\\lib\\site-packages\\sklearn\\metrics\\_classification.py:1245: UndefinedMetricWarning: Precision and F-score are ill-defined and being set to 0.0 in samples with no predicted labels. Use `zero_division` parameter to control this behavior.\n",
      "  _warn_prf(average, modifier, msg_start, len(result))\n",
      "C:\\ProgramData\\Anaconda3\\lib\\site-packages\\sklearn\\metrics\\_classification.py:1245: UndefinedMetricWarning: Recall and F-score are ill-defined and being set to 0.0 in samples with no true labels. Use `zero_division` parameter to control this behavior.\n",
      "  _warn_prf(average, modifier, msg_start, len(result))\n"
     ]
    }
   ],
   "source": [
    "get_metrics(y_test, y_predicted, 'All data')"
   ]
  },
  {
   "cell_type": "code",
   "execution_count": 35,
   "id": "1e782c47",
   "metadata": {},
   "outputs": [],
   "source": [
    "clf1 = OneVsRestClassifier(LinearSVC(), n_jobs=1)"
   ]
  },
  {
   "cell_type": "code",
   "execution_count": 36,
   "id": "a7f8805b",
   "metadata": {},
   "outputs": [
    {
     "data": {
      "text/plain": [
       "OneVsRestClassifier(estimator=LinearSVC(), n_jobs=1)"
      ]
     },
     "execution_count": 36,
     "metadata": {},
     "output_type": "execute_result"
    }
   ],
   "source": [
    "clf1.fit(X_train_balanced, y_train_balanced)"
   ]
  },
  {
   "cell_type": "code",
   "execution_count": 37,
   "id": "90aa69bc",
   "metadata": {},
   "outputs": [],
   "source": [
    "y_predicted_balanced = clf1.predict(X_test_balanced)"
   ]
  },
  {
   "cell_type": "code",
   "execution_count": 38,
   "id": "4effa80e",
   "metadata": {},
   "outputs": [
    {
     "name": "stdout",
     "output_type": "stream",
     "text": [
      "Balanced data:\n",
      "\n",
      "Tačnost: 0.6341862254713351\n",
      "Preciznost: 0.8353661823381402\n",
      "Odziv: 0.7825462381037889\n",
      "F1 mera: 0.8046278960498456\n",
      "AUC vrednost:0.7265086488906104\n",
      "Haming vrednost: 0.0819545979222778\n",
      "\n",
      "Izvestaj:\n",
      "               precision    recall  f1-score   support\n",
      "\n",
      "           0       0.87      0.84      0.86      5046\n",
      "           1       0.48      0.24      0.32       523\n",
      "           2       0.86      0.75      0.80      2767\n",
      "           3       0.63      0.25      0.36       149\n",
      "           4       0.74      0.62      0.68      2631\n",
      "           5       0.62      0.29      0.39       448\n",
      "\n",
      "   micro avg       0.82      0.71      0.76     11564\n",
      "   macro avg       0.70      0.50      0.57     11564\n",
      "weighted avg       0.81      0.71      0.75     11564\n",
      " samples avg       0.38      0.35      0.35     11564\n",
      "\n",
      "\n",
      "\n",
      "Matrica konfuzije:\n",
      " [[[ 4727   623]\n",
      "  [  811  4235]]\n",
      "\n",
      " [[ 9742   131]\n",
      "  [  400   123]]\n",
      "\n",
      " [[ 7280   349]\n",
      "  [  699  2068]]\n",
      "\n",
      " [[10225    22]\n",
      "  [  112    37]]\n",
      "\n",
      " [[ 7196   569]\n",
      "  [  997  1634]]\n",
      "\n",
      " [[ 9869    79]\n",
      "  [  320   128]]]\n"
     ]
    },
    {
     "name": "stderr",
     "output_type": "stream",
     "text": [
      "C:\\ProgramData\\Anaconda3\\lib\\site-packages\\sklearn\\metrics\\_classification.py:1245: UndefinedMetricWarning: Precision and F-score are ill-defined and being set to 0.0 in samples with no predicted labels. Use `zero_division` parameter to control this behavior.\n",
      "  _warn_prf(average, modifier, msg_start, len(result))\n",
      "C:\\ProgramData\\Anaconda3\\lib\\site-packages\\sklearn\\metrics\\_classification.py:1245: UndefinedMetricWarning: Recall and F-score are ill-defined and being set to 0.0 in samples with no true labels. Use `zero_division` parameter to control this behavior.\n",
      "  _warn_prf(average, modifier, msg_start, len(result))\n"
     ]
    }
   ],
   "source": [
    "get_metrics(y_test_balanced, y_predicted_balanced, 'Balanced data')"
   ]
  },
  {
   "cell_type": "code",
   "execution_count": 43,
   "id": "a538bb38",
   "metadata": {},
   "outputs": [],
   "source": [
    "# Chain sa SVM nije uspeo zbog memoriije\n",
    "\n",
    "\n",
    "\n",
    "#clf_chain = ClassifierChain(LinearSVC())\n",
    "#clf_chain.fit(X_train, y_train)"
   ]
  },
  {
   "cell_type": "code",
   "execution_count": 44,
   "id": "9d5a4621",
   "metadata": {},
   "outputs": [
    {
     "data": {
      "text/plain": [
       "ClassifierChain(classifier=LinearSVC(), require_dense=[True, True])"
      ]
     },
     "execution_count": 44,
     "metadata": {},
     "output_type": "execute_result"
    }
   ],
   "source": [
    "clf_balanced_chain = ClassifierChain(LinearSVC())\n",
    "clf_balanced_chain.fit(X_train_balanced, y_train_balanced)"
   ]
  },
  {
   "cell_type": "code",
   "execution_count": 45,
   "id": "46ab89de",
   "metadata": {},
   "outputs": [],
   "source": [
    "y_predicted = clf_balanced_chain.predict(X_test_balanced)"
   ]
  },
  {
   "cell_type": "code",
   "execution_count": null,
   "id": "19a51457",
   "metadata": {},
   "outputs": [],
   "source": []
  },
  {
   "cell_type": "code",
   "execution_count": 53,
   "id": "6a0ca32e",
   "metadata": {},
   "outputs": [],
   "source": [
    "rfClassifier = RandomForestClassifier(n_jobs=-1)\n",
    "rfClassifier.fit(X_train_balanced, y_train_balanced)\n",
    "rfPreds = rfClassifier.predict(X_test_balanced)"
   ]
  },
  {
   "cell_type": "code",
   "execution_count": 54,
   "id": "aaa6294c",
   "metadata": {},
   "outputs": [
    {
     "name": "stdout",
     "output_type": "stream",
     "text": [
      "Random forest balanced:\n",
      "\n",
      "Tačnost: 0.6217776067718354\n",
      "Preciznost: 0.8640832457540458\n",
      "Odziv: 0.6922248159454121\n",
      "F1 mera: 0.7569885813911984\n",
      "AUC vrednost:0.6681784987749627\n",
      "Haming vrednost: 0.08742144414518405\n",
      "\n",
      "Izvestaj:\n",
      "               precision    recall  f1-score   support\n",
      "\n",
      "           0       0.90      0.76      0.82      5046\n",
      "           1       0.51      0.07      0.12       523\n",
      "           2       0.89      0.68      0.78      2767\n",
      "           3       0.53      0.06      0.11       149\n",
      "           4       0.80      0.52      0.63      2631\n",
      "           5       0.81      0.09      0.16       448\n",
      "\n",
      "   micro avg       0.87      0.62      0.72     11564\n",
      "   macro avg       0.74      0.36      0.44     11564\n",
      "weighted avg       0.85      0.62      0.70     11564\n",
      " samples avg       0.35      0.30      0.31     11564\n",
      "\n",
      "\n",
      "\n",
      "Matrica konfuzije:\n",
      " [[[ 4931   419]\n",
      "  [ 1228  3818]]\n",
      "\n",
      " [[ 9837    36]\n",
      "  [  486    37]]\n",
      "\n",
      " [[ 7403   226]\n",
      "  [  872  1895]]\n",
      "\n",
      " [[10239     8]\n",
      "  [  140     9]]\n",
      "\n",
      " [[ 7417   348]\n",
      "  [ 1272  1359]]\n",
      "\n",
      " [[ 9939     9]\n",
      "  [  409    39]]]\n"
     ]
    },
    {
     "name": "stderr",
     "output_type": "stream",
     "text": [
      "C:\\ProgramData\\Anaconda3\\lib\\site-packages\\sklearn\\metrics\\_classification.py:1245: UndefinedMetricWarning: Precision and F-score are ill-defined and being set to 0.0 in samples with no predicted labels. Use `zero_division` parameter to control this behavior.\n",
      "  _warn_prf(average, modifier, msg_start, len(result))\n",
      "C:\\ProgramData\\Anaconda3\\lib\\site-packages\\sklearn\\metrics\\_classification.py:1245: UndefinedMetricWarning: Recall and F-score are ill-defined and being set to 0.0 in samples with no true labels. Use `zero_division` parameter to control this behavior.\n",
      "  _warn_prf(average, modifier, msg_start, len(result))\n"
     ]
    }
   ],
   "source": [
    "get_metrics(y_test_balanced, rfPreds, 'Random forest balanced')"
   ]
  },
  {
   "cell_type": "code",
   "execution_count": null,
   "id": "e410158e",
   "metadata": {},
   "outputs": [],
   "source": []
  }
 ],
 "metadata": {
  "kernelspec": {
   "display_name": "Python 3",
   "language": "python",
   "name": "python3"
  },
  "language_info": {
   "codemirror_mode": {
    "name": "ipython",
    "version": 3
   },
   "file_extension": ".py",
   "mimetype": "text/x-python",
   "name": "python",
   "nbconvert_exporter": "python",
   "pygments_lexer": "ipython3",
   "version": "3.8.8"
  }
 },
 "nbformat": 4,
 "nbformat_minor": 5
}
