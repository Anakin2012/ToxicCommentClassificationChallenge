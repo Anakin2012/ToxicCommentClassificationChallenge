{
 "cells": [
  {
   "cell_type": "code",
   "execution_count": 100,
   "id": "76b7a06a",
   "metadata": {},
   "outputs": [],
   "source": [
    "import pandas as pd\n",
    "import numpy as np\n",
    "from matplotlib import pyplot as plt\n",
    "from wordcloud import WordCloud, STOPWORDS"
   ]
  },
  {
   "cell_type": "code",
   "execution_count": 116,
   "id": "28114ed7",
   "metadata": {},
   "outputs": [],
   "source": [
    "import pickle\n",
    "\n",
    "import nltk\n",
    "from nltk.corpus import stopwords\n",
    "from nltk.stem.snowball import SnowballStemmer\n",
    "from nltk.stem import WordNetLemmatizer"
   ]
  },
  {
   "cell_type": "markdown",
   "id": "50eebe8e",
   "metadata": {},
   "source": [
    "## Učitavanje i analiza podataka"
   ]
  },
  {
   "cell_type": "code",
   "execution_count": 2,
   "id": "4c6ae0d7",
   "metadata": {},
   "outputs": [],
   "source": [
    "train_data = pd.read_csv('csv/train.csv')"
   ]
  },
  {
   "cell_type": "code",
   "execution_count": 3,
   "id": "1e7e58c2",
   "metadata": {},
   "outputs": [
    {
     "data": {
      "text/html": [
       "<div>\n",
       "<style scoped>\n",
       "    .dataframe tbody tr th:only-of-type {\n",
       "        vertical-align: middle;\n",
       "    }\n",
       "\n",
       "    .dataframe tbody tr th {\n",
       "        vertical-align: top;\n",
       "    }\n",
       "\n",
       "    .dataframe thead th {\n",
       "        text-align: right;\n",
       "    }\n",
       "</style>\n",
       "<table border=\"1\" class=\"dataframe\">\n",
       "  <thead>\n",
       "    <tr style=\"text-align: right;\">\n",
       "      <th></th>\n",
       "      <th>id</th>\n",
       "      <th>comment_text</th>\n",
       "      <th>toxic</th>\n",
       "      <th>severe_toxic</th>\n",
       "      <th>obscene</th>\n",
       "      <th>threat</th>\n",
       "      <th>insult</th>\n",
       "      <th>identity_hate</th>\n",
       "    </tr>\n",
       "  </thead>\n",
       "  <tbody>\n",
       "    <tr>\n",
       "      <th>0</th>\n",
       "      <td>0000997932d777bf</td>\n",
       "      <td>Explanation\\r\\nWhy the edits made under my use...</td>\n",
       "      <td>0</td>\n",
       "      <td>0</td>\n",
       "      <td>0</td>\n",
       "      <td>0</td>\n",
       "      <td>0</td>\n",
       "      <td>0</td>\n",
       "    </tr>\n",
       "    <tr>\n",
       "      <th>1</th>\n",
       "      <td>000103f0d9cfb60f</td>\n",
       "      <td>D'aww! He matches this background colour I'm s...</td>\n",
       "      <td>0</td>\n",
       "      <td>0</td>\n",
       "      <td>0</td>\n",
       "      <td>0</td>\n",
       "      <td>0</td>\n",
       "      <td>0</td>\n",
       "    </tr>\n",
       "    <tr>\n",
       "      <th>2</th>\n",
       "      <td>000113f07ec002fd</td>\n",
       "      <td>Hey man, I'm really not trying to edit war. It...</td>\n",
       "      <td>0</td>\n",
       "      <td>0</td>\n",
       "      <td>0</td>\n",
       "      <td>0</td>\n",
       "      <td>0</td>\n",
       "      <td>0</td>\n",
       "    </tr>\n",
       "    <tr>\n",
       "      <th>3</th>\n",
       "      <td>0001b41b1c6bb37e</td>\n",
       "      <td>\"\\r\\nMore\\r\\nI can't make any real suggestions...</td>\n",
       "      <td>0</td>\n",
       "      <td>0</td>\n",
       "      <td>0</td>\n",
       "      <td>0</td>\n",
       "      <td>0</td>\n",
       "      <td>0</td>\n",
       "    </tr>\n",
       "    <tr>\n",
       "      <th>4</th>\n",
       "      <td>0001d958c54c6e35</td>\n",
       "      <td>You, sir, are my hero. Any chance you remember...</td>\n",
       "      <td>0</td>\n",
       "      <td>0</td>\n",
       "      <td>0</td>\n",
       "      <td>0</td>\n",
       "      <td>0</td>\n",
       "      <td>0</td>\n",
       "    </tr>\n",
       "  </tbody>\n",
       "</table>\n",
       "</div>"
      ],
      "text/plain": [
       "                 id                                       comment_text  toxic  \\\n",
       "0  0000997932d777bf  Explanation\\r\\nWhy the edits made under my use...      0   \n",
       "1  000103f0d9cfb60f  D'aww! He matches this background colour I'm s...      0   \n",
       "2  000113f07ec002fd  Hey man, I'm really not trying to edit war. It...      0   \n",
       "3  0001b41b1c6bb37e  \"\\r\\nMore\\r\\nI can't make any real suggestions...      0   \n",
       "4  0001d958c54c6e35  You, sir, are my hero. Any chance you remember...      0   \n",
       "\n",
       "   severe_toxic  obscene  threat  insult  identity_hate  \n",
       "0             0        0       0       0              0  \n",
       "1             0        0       0       0              0  \n",
       "2             0        0       0       0              0  \n",
       "3             0        0       0       0              0  \n",
       "4             0        0       0       0              0  "
      ]
     },
     "execution_count": 3,
     "metadata": {},
     "output_type": "execute_result"
    }
   ],
   "source": [
    "train_data.head()"
   ]
  },
  {
   "cell_type": "code",
   "execution_count": 4,
   "id": "a208e074",
   "metadata": {},
   "outputs": [],
   "source": [
    "test_data = pd.read_csv('csv/test.csv')"
   ]
  },
  {
   "cell_type": "code",
   "execution_count": 5,
   "id": "cfa94bc3",
   "metadata": {},
   "outputs": [
    {
     "data": {
      "text/plain": [
       "id               object\n",
       "comment_text     object\n",
       "toxic             int64\n",
       "severe_toxic      int64\n",
       "obscene           int64\n",
       "threat            int64\n",
       "insult            int64\n",
       "identity_hate     int64\n",
       "dtype: object"
      ]
     },
     "execution_count": 5,
     "metadata": {},
     "output_type": "execute_result"
    }
   ],
   "source": [
    "train_data.dtypes"
   ]
  },
  {
   "cell_type": "code",
   "execution_count": 6,
   "id": "38666524",
   "metadata": {},
   "outputs": [
    {
     "data": {
      "text/html": [
       "<div>\n",
       "<style scoped>\n",
       "    .dataframe tbody tr th:only-of-type {\n",
       "        vertical-align: middle;\n",
       "    }\n",
       "\n",
       "    .dataframe tbody tr th {\n",
       "        vertical-align: top;\n",
       "    }\n",
       "\n",
       "    .dataframe thead th {\n",
       "        text-align: right;\n",
       "    }\n",
       "</style>\n",
       "<table border=\"1\" class=\"dataframe\">\n",
       "  <thead>\n",
       "    <tr style=\"text-align: right;\">\n",
       "      <th></th>\n",
       "      <th>id</th>\n",
       "      <th>comment_text</th>\n",
       "    </tr>\n",
       "  </thead>\n",
       "  <tbody>\n",
       "    <tr>\n",
       "      <th>0</th>\n",
       "      <td>00001cee341fdb12</td>\n",
       "      <td>Yo bitch Ja Rule is more succesful then you'll...</td>\n",
       "    </tr>\n",
       "    <tr>\n",
       "      <th>1</th>\n",
       "      <td>0000247867823ef7</td>\n",
       "      <td>== From RfC == \\r\\n\\r\\n The title is fine as i...</td>\n",
       "    </tr>\n",
       "    <tr>\n",
       "      <th>2</th>\n",
       "      <td>00013b17ad220c46</td>\n",
       "      <td>\" \\r\\n\\r\\n == Sources == \\r\\n\\r\\n * Zawe Ashto...</td>\n",
       "    </tr>\n",
       "    <tr>\n",
       "      <th>3</th>\n",
       "      <td>00017563c3f7919a</td>\n",
       "      <td>:If you have a look back at the source, the in...</td>\n",
       "    </tr>\n",
       "    <tr>\n",
       "      <th>4</th>\n",
       "      <td>00017695ad8997eb</td>\n",
       "      <td>I don't anonymously edit articles at all.</td>\n",
       "    </tr>\n",
       "  </tbody>\n",
       "</table>\n",
       "</div>"
      ],
      "text/plain": [
       "                 id                                       comment_text\n",
       "0  00001cee341fdb12  Yo bitch Ja Rule is more succesful then you'll...\n",
       "1  0000247867823ef7  == From RfC == \\r\\n\\r\\n The title is fine as i...\n",
       "2  00013b17ad220c46  \" \\r\\n\\r\\n == Sources == \\r\\n\\r\\n * Zawe Ashto...\n",
       "3  00017563c3f7919a  :If you have a look back at the source, the in...\n",
       "4  00017695ad8997eb          I don't anonymously edit articles at all."
      ]
     },
     "execution_count": 6,
     "metadata": {},
     "output_type": "execute_result"
    }
   ],
   "source": [
    "test_data.head()"
   ]
  },
  {
   "cell_type": "code",
   "execution_count": 7,
   "id": "62df777e",
   "metadata": {},
   "outputs": [
    {
     "data": {
      "text/plain": [
       "((159571, 8), (153164, 2))"
      ]
     },
     "execution_count": 7,
     "metadata": {},
     "output_type": "execute_result"
    }
   ],
   "source": [
    "train_data.shape, test_data.shape"
   ]
  },
  {
   "cell_type": "code",
   "execution_count": null,
   "id": "99f23007",
   "metadata": {},
   "outputs": [],
   "source": []
  },
  {
   "cell_type": "code",
   "execution_count": 73,
   "id": "9ceb35a2",
   "metadata": {
    "scrolled": true
   },
   "outputs": [],
   "source": [
    "#train_data[train_data['toxic'] == 1]"
   ]
  },
  {
   "cell_type": "markdown",
   "id": "6a4d3705",
   "metadata": {},
   "source": [
    "Provera da li ima nedostajućih vrednosti:"
   ]
  },
  {
   "cell_type": "code",
   "execution_count": 8,
   "id": "c96b9730",
   "metadata": {},
   "outputs": [
    {
     "data": {
      "text/plain": [
       "False"
      ]
     },
     "execution_count": 8,
     "metadata": {},
     "output_type": "execute_result"
    }
   ],
   "source": [
    "train_data.isnull().values.any()"
   ]
  },
  {
   "cell_type": "markdown",
   "id": "55953a15",
   "metadata": {},
   "source": [
    "Nema nedostajućih vrednosti - sve vrednosti su ili 0 ili 1"
   ]
  },
  {
   "cell_type": "code",
   "execution_count": 9,
   "id": "a81cf0c7",
   "metadata": {},
   "outputs": [
    {
     "name": "stdout",
     "output_type": "stream",
     "text": [
      "[0 1]\n",
      "[0 1]\n",
      "[0 1]\n",
      "[0 1]\n",
      "[0 1]\n",
      "[0 1]\n"
     ]
    }
   ],
   "source": [
    "print(train_data['toxic'].unique()) \n",
    "print(train_data['severe_toxic'].unique())\n",
    "print(train_data['obscene'].unique())\n",
    "print(train_data['insult'].unique())\n",
    "print(train_data['threat'].unique())\n",
    "print(train_data['identity_hate'].unique())"
   ]
  },
  {
   "cell_type": "markdown",
   "id": "70db385f",
   "metadata": {},
   "source": [
    "Izdvajanje klasa"
   ]
  },
  {
   "cell_type": "code",
   "execution_count": 11,
   "id": "9ee3253b",
   "metadata": {},
   "outputs": [],
   "source": [
    "classes = ['toxic', 'severe_toxic', 'obscene', 'threat', 'insult', 'identity_hate']\n",
    "categories = train_data[classes]"
   ]
  },
  {
   "cell_type": "code",
   "execution_count": 12,
   "id": "0f33ab29",
   "metadata": {},
   "outputs": [
    {
     "data": {
      "text/html": [
       "<div>\n",
       "<style scoped>\n",
       "    .dataframe tbody tr th:only-of-type {\n",
       "        vertical-align: middle;\n",
       "    }\n",
       "\n",
       "    .dataframe tbody tr th {\n",
       "        vertical-align: top;\n",
       "    }\n",
       "\n",
       "    .dataframe thead th {\n",
       "        text-align: right;\n",
       "    }\n",
       "</style>\n",
       "<table border=\"1\" class=\"dataframe\">\n",
       "  <thead>\n",
       "    <tr style=\"text-align: right;\">\n",
       "      <th></th>\n",
       "      <th>toxic</th>\n",
       "      <th>severe_toxic</th>\n",
       "      <th>obscene</th>\n",
       "      <th>threat</th>\n",
       "      <th>insult</th>\n",
       "      <th>identity_hate</th>\n",
       "    </tr>\n",
       "  </thead>\n",
       "  <tbody>\n",
       "    <tr>\n",
       "      <th>0</th>\n",
       "      <td>0</td>\n",
       "      <td>0</td>\n",
       "      <td>0</td>\n",
       "      <td>0</td>\n",
       "      <td>0</td>\n",
       "      <td>0</td>\n",
       "    </tr>\n",
       "    <tr>\n",
       "      <th>1</th>\n",
       "      <td>0</td>\n",
       "      <td>0</td>\n",
       "      <td>0</td>\n",
       "      <td>0</td>\n",
       "      <td>0</td>\n",
       "      <td>0</td>\n",
       "    </tr>\n",
       "    <tr>\n",
       "      <th>2</th>\n",
       "      <td>0</td>\n",
       "      <td>0</td>\n",
       "      <td>0</td>\n",
       "      <td>0</td>\n",
       "      <td>0</td>\n",
       "      <td>0</td>\n",
       "    </tr>\n",
       "    <tr>\n",
       "      <th>3</th>\n",
       "      <td>0</td>\n",
       "      <td>0</td>\n",
       "      <td>0</td>\n",
       "      <td>0</td>\n",
       "      <td>0</td>\n",
       "      <td>0</td>\n",
       "    </tr>\n",
       "    <tr>\n",
       "      <th>4</th>\n",
       "      <td>0</td>\n",
       "      <td>0</td>\n",
       "      <td>0</td>\n",
       "      <td>0</td>\n",
       "      <td>0</td>\n",
       "      <td>0</td>\n",
       "    </tr>\n",
       "  </tbody>\n",
       "</table>\n",
       "</div>"
      ],
      "text/plain": [
       "   toxic  severe_toxic  obscene  threat  insult  identity_hate\n",
       "0      0             0        0       0       0              0\n",
       "1      0             0        0       0       0              0\n",
       "2      0             0        0       0       0              0\n",
       "3      0             0        0       0       0              0\n",
       "4      0             0        0       0       0              0"
      ]
     },
     "execution_count": 12,
     "metadata": {},
     "output_type": "execute_result"
    }
   ],
   "source": [
    "categories.head()"
   ]
  },
  {
   "cell_type": "markdown",
   "id": "02722c08",
   "metadata": {},
   "source": [
    "### Broj komentara po kategorijama"
   ]
  },
  {
   "cell_type": "code",
   "execution_count": 13,
   "id": "c8caeed0",
   "metadata": {},
   "outputs": [],
   "source": [
    "freq_per_class = categories.sum()"
   ]
  },
  {
   "cell_type": "code",
   "execution_count": 14,
   "id": "725389b1",
   "metadata": {},
   "outputs": [
    {
     "data": {
      "text/plain": [
       "toxic            15294\n",
       "severe_toxic      1595\n",
       "obscene           8449\n",
       "threat             478\n",
       "insult            7877\n",
       "identity_hate     1405\n",
       "dtype: int64"
      ]
     },
     "execution_count": 14,
     "metadata": {},
     "output_type": "execute_result"
    }
   ],
   "source": [
    "freq_per_class"
   ]
  },
  {
   "cell_type": "code",
   "execution_count": null,
   "id": "7b225cc9",
   "metadata": {},
   "outputs": [],
   "source": []
  },
  {
   "cell_type": "markdown",
   "id": "4aefce30",
   "metadata": {},
   "source": [
    "Grafički prikaz zastupljenosti različitih vrsta komentara"
   ]
  },
  {
   "cell_type": "code",
   "execution_count": 16,
   "id": "ef77c46a",
   "metadata": {},
   "outputs": [
    {
     "data": {
      "image/png": "[encoded data removed]",
      "text/plain": [
       "<Figure size 864x360 with 1 Axes>"
      ]
     },
     "metadata": {
      "needs_background": "light"
     },
     "output_type": "display_data"
    }
   ],
   "source": [
    "colors = ['skyblue', 'orange', 'pink', 'red', 'teal', 'purple', 'khaki']\n",
    "\n",
    "plt.figure(figsize=(12,5))\n",
    "plt.barh(freq_per_class.index, freq_per_class, color = colors)\n",
    "for index, value in enumerate(freq_per_class):\n",
    "    plt.text(value, index, str(value))\n",
    "\n",
    "plt.xlabel('Broj instanci')\n",
    "plt.ylabel('Tip komentara')\n",
    "plt.title('Broj komentara po klasama')\n",
    "plt.savefig('img/01_frequency_bar.png', orientation='landscape')\n",
    "\n",
    "plt.show()"
   ]
  },
  {
   "cell_type": "code",
   "execution_count": null,
   "id": "4d496f95",
   "metadata": {},
   "outputs": [],
   "source": []
  },
  {
   "cell_type": "markdown",
   "id": "1ab9cdb9",
   "metadata": {},
   "source": [
    " "
   ]
  },
  {
   "cell_type": "markdown",
   "id": "22ca945e",
   "metadata": {},
   "source": [
    "Broj komentara klasifikovanih u više od jedne klase:"
   ]
  },
  {
   "cell_type": "code",
   "execution_count": 17,
   "id": "63b0bd56",
   "metadata": {},
   "outputs": [
    {
     "name": "stdout",
     "output_type": "stream",
     "text": [
      "1    6360\n",
      "2    3480\n",
      "3    4209\n",
      "4    1760\n",
      "5     385\n",
      "6      31\n",
      "dtype: int64\n"
     ]
    },
    {
     "data": {
      "image/png": "[encoded data removed]",
      "text/plain": [
       "<Figure size 864x360 with 1 Axes>"
      ]
     },
     "metadata": {
      "needs_background": "light"
     },
     "output_type": "display_data"
    }
   ],
   "source": [
    "class_sums = train_data.iloc[:, 2:].sum(axis = 1)\n",
    "counts = class_sums.value_counts().sort_index()\n",
    "counts = counts.iloc[1:]\n",
    "print(counts)\n",
    "\n",
    "plt.figure(figsize=(12,5))\n",
    "plt.barh(counts.index, counts.values, color = colors)\n",
    "for index, value in enumerate(counts.values):\n",
    "    plt.text(value, index+1, str(value))\n",
    "\n",
    "plt.xlabel('Broj komentara')\n",
    "plt.ylabel('Broj klasa')\n",
    "plt.title('Broj komentara koji pripadaju više klasa')\n",
    "plt.savefig('img/03_multilabel_freq.png', orientation='landscape')\n",
    "\n",
    "plt.show()"
   ]
  },
  {
   "cell_type": "markdown",
   "id": "56e14e08",
   "metadata": {},
   "source": [
    "Dakle, najviše komentara pripada samo jednoj klasi, a 31 komentar ispunjava uslove za svaku od 6 klasa (istovremeno je toxic, severe_toxic, insult, obscene, threat i identity hate)"
   ]
  },
  {
   "cell_type": "markdown",
   "id": "0842e9d2",
   "metadata": {},
   "source": [
    "Udeo neklasifikovanih komentara u celom trening skupu:"
   ]
  },
  {
   "cell_type": "code",
   "execution_count": 18,
   "id": "ac9bf6e9",
   "metadata": {},
   "outputs": [
    {
     "name": "stdout",
     "output_type": "stream",
     "text": [
      "Broj neoznacenih komentara:  143346\n",
      "Broj ukupnih komentara:  159571\n",
      "Udeo neoznacenih komentara:  89.83%\n"
     ]
    }
   ],
   "source": [
    "not_labeled_count= class_sums.value_counts()[0]\n",
    "print('Broj neoznacenih komentara: ', not_labeled_count)\n",
    "print('Broj ukupnih komentara: ', train_data.shape[0])\n",
    "percent_not_labeled = not_labeled_count/train_data.shape[0]\n",
    "print('Udeo neoznacenih komentara:  {:.2%}'.format(percent_not_labeled))"
   ]
  },
  {
   "cell_type": "markdown",
   "id": "2c11aeca",
   "metadata": {},
   "source": [
    "\n",
    " ####  Samo oko 10% skupa je klasifikovano kao toksično, ostatak su komentari koji se smatraju 'čistim' - NEBALANSIRAN SKUP"
   ]
  },
  {
   "cell_type": "code",
   "execution_count": 19,
   "id": "7193cd4f",
   "metadata": {
    "scrolled": true
   },
   "outputs": [],
   "source": [
    "percents = [round(p/train_data.shape[0]*100, 2) for p in freq_per_class]\n",
    "percents.append(round(percent_not_labeled*100,2))\n",
    "\n",
    "legend = freq_per_class.index.values.tolist()\n",
    "legend.append('not_labeled')"
   ]
  },
  {
   "cell_type": "code",
   "execution_count": 21,
   "id": "12ec5c3c",
   "metadata": {},
   "outputs": [
    {
     "data": {
      "image/png": "[encoded data removed]",
      "text/plain": [
       "<Figure size 648x648 with 1 Axes>"
      ]
     },
     "metadata": {},
     "output_type": "display_data"
    }
   ],
   "source": [
    "plt.figure(figsize=(9,9))\n",
    "plt.pie(percents, colors = colors)\n",
    "plt.legend(legend, loc='upper left')\n",
    "plt.title('Udeo klasa u ukupnom skupu')\n",
    "plt.savefig('img/02_class_distribution.png')\n",
    "\n",
    "plt.show()"
   ]
  },
  {
   "cell_type": "markdown",
   "id": "1108474d",
   "metadata": {},
   "source": [
    "#### Napomena: Balansiranje podataka je odrađeno u narednoj svesci."
   ]
  },
  {
   "cell_type": "markdown",
   "id": "9ef346b8",
   "metadata": {},
   "source": [
    "## Priprema teksta"
   ]
  },
  {
   "cell_type": "code",
   "execution_count": 22,
   "id": "04cb7a9c",
   "metadata": {},
   "outputs": [],
   "source": [
    "# Podaci izdvojeni za svaku klasu:\n",
    "\n",
    "toxic = train_data[train_data.toxic==1]\n",
    "severe_toxic = train_data[train_data.severe_toxic==1]\n",
    "obscene = train_data[train_data.obscene==1]\n",
    "threat = train_data[train_data.threat == 1]\n",
    "insult = train_data[train_data.insult==1]\n",
    "identity_hate = train_data[train_data.identity_hate==1]\n",
    "not_labeled = train_data[train_data[classes].eq(0).all(1)]"
   ]
  },
  {
   "cell_type": "markdown",
   "id": "9b0d72c6",
   "metadata": {},
   "source": [
    "### Najčešće reči po klasama"
   ]
  },
  {
   "cell_type": "code",
   "execution_count": 23,
   "id": "de02e454",
   "metadata": {},
   "outputs": [],
   "source": [
    "# fja koja vraca string naziva data frame-a\n",
    "\n",
    "def get_df_name(df):\n",
    "    name =[x for x in globals() if globals()[x] is df][0]\n",
    "    return name"
   ]
  },
  {
   "cell_type": "code",
   "execution_count": 24,
   "id": "60568bd0",
   "metadata": {},
   "outputs": [],
   "source": [
    "def get_wordcloud(comment_type):\n",
    "    df = comment_type\n",
    "    words = ' '.join([text for text in df['comment_text'] ])\n",
    "\n",
    "    wordcloud = WordCloud(width=2500,\n",
    "                      height=1600,\n",
    "                      max_words=500,\n",
    "                      collocations=False,\n",
    "                      stopwords=STOPWORDS).generate(words)\n",
    "\n",
    "    name = get_df_name(df)\n",
    "    plt.imshow(wordcloud)\n",
    "    plt.axis(\"off\")\n",
    "    plt.title(name + ' wordcloud')\n",
    "    plt.savefig('img/wordclouds/' + name + '.png')\n",
    "    plt.show()"
   ]
  },
  {
   "cell_type": "markdown",
   "id": "c730c9d2",
   "metadata": {},
   "source": [
    "### Wordcloud za svaku od klasa\n",
    "\n",
    "Slike sa oblacima reči za svaku od klasa: https://github.com/Anakin2012/ToxicCommentClassificationChallenge/tree/main/img/wordclouds"
   ]
  },
  {
   "cell_type": "code",
   "execution_count": 25,
   "id": "15bc9015",
   "metadata": {},
   "outputs": [],
   "source": [
    "#get_wordcloud(not_labeled)\n",
    "#get_wordcloud(toxic)\n",
    "#get_wordcloud(severe_toxic)\n",
    "#get_wordcloud(obscene)\n",
    "#get_wordcloud(insult)\n",
    "#get_wordcloud(identity_hate)\n",
    "#get_wordcloud(threat)"
   ]
  },
  {
   "cell_type": "code",
   "execution_count": 26,
   "id": "ee6f6536",
   "metadata": {
    "scrolled": true
   },
   "outputs": [],
   "source": [
    "# wordcloud za test skup\n",
    "\n",
    "#get_wordcloud(test_data)"
   ]
  },
  {
   "cell_type": "code",
   "execution_count": null,
   "id": "ed8a0da3",
   "metadata": {},
   "outputs": [],
   "source": []
  },
  {
   "cell_type": "markdown",
   "id": "2eb8d2d5",
   "metadata": {},
   "source": [
    "Izbacivanje nepotrebnih karaktera\n",
    "https://github.com/hundredblocks/concrete_NLP_tutorial/blob/master/NLP_notebook.ipynb"
   ]
  },
  {
   "cell_type": "code",
   "execution_count": 28,
   "id": "9ec92cb6",
   "metadata": {
    "scrolled": true
   },
   "outputs": [
    {
     "data": {
      "text/plain": [
       "0         Explanation\\r\\nWhy the edits made under my use...\n",
       "1         D'aww! He matches this background colour I'm s...\n",
       "2         Hey man, I'm really not trying to edit war. It...\n",
       "3         \"\\r\\nMore\\r\\nI can't make any real suggestions...\n",
       "4         You, sir, are my hero. Any chance you remember...\n",
       "                                ...                        \n",
       "159566    \":::::And for the second time of asking, when ...\n",
       "159567    You should be ashamed of yourself \\r\\n\\r\\nThat...\n",
       "159568    Spitzer \\r\\n\\r\\nUmm, theres no actual article ...\n",
       "159569    And it looks like it was actually you who put ...\n",
       "159570    \"\\r\\nAnd ... I really don't think you understa...\n",
       "Name: comment_text, Length: 159571, dtype: object"
      ]
     },
     "execution_count": 28,
     "metadata": {},
     "output_type": "execute_result"
    }
   ],
   "source": [
    "train_data['comment_text']"
   ]
  },
  {
   "cell_type": "code",
   "execution_count": 29,
   "id": "e4ec0337",
   "metadata": {
    "scrolled": false
   },
   "outputs": [],
   "source": [
    "def remove_irrelevant(df):\n",
    "    \n",
    "    df['comment_text'] = df['comment_text'].str.lower()\n",
    "    df['comment_text'] = df['comment_text'].str.replace(r\"https?:\\/\\/.*[\\r\\n]*\", \"\")\n",
    "    df['comment_text'] = df['comment_text'].str.replace(r\"\\d+\", \"\")\n",
    "    df['comment_text'] = df['comment_text'].str.replace(r\"[\\n\\r\\t]\", \" \")\n",
    "    df['comment_text'] = df['comment_text'].str.replace(r\"[^A-Za-z0-9(),]\", \" \")\n",
    "    df['comment_text'] = df['comment_text'].str.replace(r\"@\\S+\", \"\")\n",
    "    \n",
    "    return df"
   ]
  },
  {
   "cell_type": "markdown",
   "id": "571403e5",
   "metadata": {},
   "source": [
    "Izbacivanje stop-reči"
   ]
  },
  {
   "cell_type": "code",
   "execution_count": 30,
   "id": "ea61188e",
   "metadata": {},
   "outputs": [
    {
     "name": "stdout",
     "output_type": "stream",
     "text": [
      "['i', 'me', 'my', 'myself', 'we', 'our', 'ours', 'ourselves', 'you', \"you're\", \"you've\", \"you'll\", \"you'd\", 'your', 'yours', 'yourself', 'yourselves', 'he', 'him', 'his', 'himself', 'she', \"she's\", 'her', 'hers', 'herself', 'it', \"it's\", 'its', 'itself', 'they', 'them', 'their', 'theirs', 'themselves', 'what', 'which', 'who', 'whom', 'this', 'that', \"that'll\", 'these', 'those', 'am', 'is', 'are', 'was', 'were', 'be', 'been', 'being', 'have', 'has', 'had', 'having', 'do', 'does', 'did', 'doing', 'a', 'an', 'the', 'and', 'but', 'if', 'or', 'because', 'as', 'until', 'while', 'of', 'at', 'by', 'for', 'with', 'about', 'against', 'between', 'into', 'through', 'during', 'before', 'after', 'above', 'below', 'to', 'from', 'up', 'down', 'in', 'out', 'on', 'off', 'over', 'under', 'again', 'further', 'then', 'once', 'here', 'there', 'when', 'where', 'why', 'how', 'all', 'any', 'both', 'each', 'few', 'more', 'most', 'other', 'some', 'such', 'no', 'nor', 'not', 'only', 'own', 'same', 'so', 'than', 'too', 'very', 's', 't', 'can', 'will', 'just', 'don', \"don't\", 'should', \"should've\", 'now', 'd', 'll', 'm', 'o', 're', 've', 'y', 'ain', 'aren', \"aren't\", 'couldn', \"couldn't\", 'didn', \"didn't\", 'doesn', \"doesn't\", 'hadn', \"hadn't\", 'hasn', \"hasn't\", 'haven', \"haven't\", 'isn', \"isn't\", 'ma', 'mightn', \"mightn't\", 'mustn', \"mustn't\", 'needn', \"needn't\", 'shan', \"shan't\", 'shouldn', \"shouldn't\", 'wasn', \"wasn't\", 'weren', \"weren't\", 'won', \"won't\", 'wouldn', \"wouldn't\"]\n"
     ]
    }
   ],
   "source": [
    "sw = stopwords.words('english')\n",
    "print(sw)"
   ]
  },
  {
   "cell_type": "code",
   "execution_count": 31,
   "id": "a7291307",
   "metadata": {},
   "outputs": [],
   "source": [
    "def remove_stopwords(sentence):\n",
    "    \n",
    "    sw_list = stopwords.words('english')\n",
    "    words = [word for word in sentence.split() if word not in sw_list]\n",
    "    new_sentence = \" \".join(words)\n",
    "    \n",
    "    return new_sentence"
   ]
  },
  {
   "cell_type": "code",
   "execution_count": null,
   "id": "d945feae",
   "metadata": {},
   "outputs": [],
   "source": []
  },
  {
   "cell_type": "markdown",
   "id": "8d865b89",
   "metadata": {},
   "source": [
    "Stemovanje i lematizacija\n",
    "https://www.datacamp.com/community/tutorials/stemming-lemmatization-python"
   ]
  },
  {
   "cell_type": "code",
   "execution_count": 32,
   "id": "f978c830",
   "metadata": {
    "scrolled": true
   },
   "outputs": [],
   "source": [
    "stemmer = SnowballStemmer(\"english\")\n",
    "wnl = WordNetLemmatizer()\n",
    "\n",
    "\n",
    "def stem(sentence):\n",
    "    new_sentence = \"\"\n",
    "    for word in sentence.split():\n",
    "        stem = wnl.lemmatize(word) if (wnl.lemmatize(word).endswith('e') or wnl.lemmatize(word).endswith('y')) else stemmer.stem(word)\n",
    "        #stem = stemmer.stem(word)\n",
    "        new_sentence += stem\n",
    "        new_sentence += \" \"\n",
    "\n",
    "    new_sentence = new_sentence.strip()\n",
    "    return new_sentence"
   ]
  },
  {
   "cell_type": "code",
   "execution_count": null,
   "id": "34dad9a5",
   "metadata": {},
   "outputs": [],
   "source": []
  },
  {
   "cell_type": "code",
   "execution_count": 33,
   "id": "b025c013",
   "metadata": {},
   "outputs": [],
   "source": [
    "new_train = train_data\n",
    "new_test = test_data"
   ]
  },
  {
   "cell_type": "code",
   "execution_count": 34,
   "id": "56270a26",
   "metadata": {},
   "outputs": [],
   "source": [
    "def transform_text(df):\n",
    "\n",
    "    remove_irrelevant(df)\n",
    "    df['comment_text'] = df['comment_text'].apply(remove_stopwords)\n",
    "    df['comment_text'] = df['comment_text'].apply(stem)"
   ]
  },
  {
   "cell_type": "code",
   "execution_count": 35,
   "id": "90afb4d9",
   "metadata": {},
   "outputs": [
    {
     "name": "stderr",
     "output_type": "stream",
     "text": [
      "<ipython-input-29-4c48b8e1fca3>:4: FutureWarning: The default value of regex will change from True to False in a future version.\n",
      "  df['comment_text'] = df['comment_text'].str.replace(r\"https?:\\/\\/.*[\\r\\n]*\", \"\")\n",
      "<ipython-input-29-4c48b8e1fca3>:5: FutureWarning: The default value of regex will change from True to False in a future version.\n",
      "  df['comment_text'] = df['comment_text'].str.replace(r\"\\d+\", \"\")\n",
      "<ipython-input-29-4c48b8e1fca3>:6: FutureWarning: The default value of regex will change from True to False in a future version.\n",
      "  df['comment_text'] = df['comment_text'].str.replace(r\"[\\n\\r\\t]\", \" \")\n",
      "<ipython-input-29-4c48b8e1fca3>:7: FutureWarning: The default value of regex will change from True to False in a future version.\n",
      "  df['comment_text'] = df['comment_text'].str.replace(r\"[^A-Za-z0-9(),]\", \" \")\n",
      "<ipython-input-29-4c48b8e1fca3>:8: FutureWarning: The default value of regex will change from True to False in a future version.\n",
      "  df['comment_text'] = df['comment_text'].str.replace(r\"@\\S+\", \"\")\n"
     ]
    }
   ],
   "source": [
    "transform_text(new_train)\n",
    "transform_text(new_test)"
   ]
  },
  {
   "cell_type": "markdown",
   "id": "64392bbf",
   "metadata": {},
   "source": [
    "Tekst komentara nakon svih transformacija izgleda ovako:"
   ]
  },
  {
   "cell_type": "code",
   "execution_count": 36,
   "id": "88838025",
   "metadata": {},
   "outputs": [
    {
     "data": {
      "text/plain": [
       "0    explan edit made username hardcore metallica f...\n",
       "1    aww match background colour seemingly stuck th...\n",
       "2    hey man, really tri edit war guy constantly re...\n",
       "3    make real suggest improv wonder section statis...\n",
       "4                    you, sir, hero chance rememb page\n",
       "Name: comment_text, dtype: object"
      ]
     },
     "execution_count": 36,
     "metadata": {},
     "output_type": "execute_result"
    }
   ],
   "source": [
    "new_train['comment_text'].head()"
   ]
  },
  {
   "cell_type": "code",
   "execution_count": 38,
   "id": "7dba87ac",
   "metadata": {
    "scrolled": true
   },
   "outputs": [
    {
     "data": {
      "text/plain": [
       "0    yo bitch ja rule succes ever what hate sad mof...\n",
       "1                               rfc title fine is, imo\n",
       "2                           source zawe ashton lapland\n",
       "3    look back source, inform updat correct form gu...\n",
       "4                             anonymously edit article\n",
       "Name: comment_text, dtype: object"
      ]
     },
     "execution_count": 38,
     "metadata": {},
     "output_type": "execute_result"
    }
   ],
   "source": [
    "new_test['comment_text'].head()"
   ]
  },
  {
   "cell_type": "markdown",
   "id": "5f1ccf22",
   "metadata": {},
   "source": []
  },
  {
   "cell_type": "markdown",
   "id": "ebd09fa2",
   "metadata": {},
   "source": [
    "Da li postoje prazni komentari?"
   ]
  },
  {
   "cell_type": "code",
   "execution_count": 41,
   "id": "1231dfc3",
   "metadata": {},
   "outputs": [
    {
     "data": {
      "text/html": [
       "<div>\n",
       "<style scoped>\n",
       "    .dataframe tbody tr th:only-of-type {\n",
       "        vertical-align: middle;\n",
       "    }\n",
       "\n",
       "    .dataframe tbody tr th {\n",
       "        vertical-align: top;\n",
       "    }\n",
       "\n",
       "    .dataframe thead th {\n",
       "        text-align: right;\n",
       "    }\n",
       "</style>\n",
       "<table border=\"1\" class=\"dataframe\">\n",
       "  <thead>\n",
       "    <tr style=\"text-align: right;\">\n",
       "      <th></th>\n",
       "      <th>id</th>\n",
       "      <th>comment_text</th>\n",
       "      <th>toxic</th>\n",
       "      <th>severe_toxic</th>\n",
       "      <th>obscene</th>\n",
       "      <th>threat</th>\n",
       "      <th>insult</th>\n",
       "      <th>identity_hate</th>\n",
       "    </tr>\n",
       "  </thead>\n",
       "  <tbody>\n",
       "    <tr>\n",
       "      <th>228</th>\n",
       "      <td>0091798f05a311af</td>\n",
       "      <td></td>\n",
       "      <td>0</td>\n",
       "      <td>0</td>\n",
       "      <td>0</td>\n",
       "      <td>0</td>\n",
       "      <td>0</td>\n",
       "      <td>0</td>\n",
       "    </tr>\n",
       "    <tr>\n",
       "      <th>329</th>\n",
       "      <td>00d300b2a1d61c1c</td>\n",
       "      <td></td>\n",
       "      <td>0</td>\n",
       "      <td>0</td>\n",
       "      <td>0</td>\n",
       "      <td>0</td>\n",
       "      <td>0</td>\n",
       "      <td>0</td>\n",
       "    </tr>\n",
       "    <tr>\n",
       "      <th>3699</th>\n",
       "      <td>09e4ea8663421151</td>\n",
       "      <td></td>\n",
       "      <td>0</td>\n",
       "      <td>0</td>\n",
       "      <td>0</td>\n",
       "      <td>0</td>\n",
       "      <td>0</td>\n",
       "      <td>0</td>\n",
       "    </tr>\n",
       "    <tr>\n",
       "      <th>3990</th>\n",
       "      <td>0aa6f3529219b37e</td>\n",
       "      <td></td>\n",
       "      <td>0</td>\n",
       "      <td>0</td>\n",
       "      <td>0</td>\n",
       "      <td>0</td>\n",
       "      <td>0</td>\n",
       "      <td>0</td>\n",
       "    </tr>\n",
       "    <tr>\n",
       "      <th>4217</th>\n",
       "      <td>0b3eadc48e6dac06</td>\n",
       "      <td></td>\n",
       "      <td>0</td>\n",
       "      <td>0</td>\n",
       "      <td>0</td>\n",
       "      <td>0</td>\n",
       "      <td>0</td>\n",
       "      <td>0</td>\n",
       "    </tr>\n",
       "    <tr>\n",
       "      <th>...</th>\n",
       "      <td>...</td>\n",
       "      <td>...</td>\n",
       "      <td>...</td>\n",
       "      <td>...</td>\n",
       "      <td>...</td>\n",
       "      <td>...</td>\n",
       "      <td>...</td>\n",
       "      <td>...</td>\n",
       "    </tr>\n",
       "    <tr>\n",
       "      <th>156776</th>\n",
       "      <td>d3741a61f9c91ac0</td>\n",
       "      <td></td>\n",
       "      <td>0</td>\n",
       "      <td>0</td>\n",
       "      <td>0</td>\n",
       "      <td>0</td>\n",
       "      <td>0</td>\n",
       "      <td>0</td>\n",
       "    </tr>\n",
       "    <tr>\n",
       "      <th>158092</th>\n",
       "      <td>e8a55975186094fe</td>\n",
       "      <td></td>\n",
       "      <td>0</td>\n",
       "      <td>0</td>\n",
       "      <td>0</td>\n",
       "      <td>0</td>\n",
       "      <td>0</td>\n",
       "      <td>0</td>\n",
       "    </tr>\n",
       "    <tr>\n",
       "      <th>158123</th>\n",
       "      <td>e919900bd9def7c1</td>\n",
       "      <td></td>\n",
       "      <td>0</td>\n",
       "      <td>0</td>\n",
       "      <td>0</td>\n",
       "      <td>0</td>\n",
       "      <td>0</td>\n",
       "      <td>0</td>\n",
       "    </tr>\n",
       "    <tr>\n",
       "      <th>159019</th>\n",
       "      <td>f76021a84e196d98</td>\n",
       "      <td></td>\n",
       "      <td>0</td>\n",
       "      <td>0</td>\n",
       "      <td>0</td>\n",
       "      <td>0</td>\n",
       "      <td>0</td>\n",
       "      <td>0</td>\n",
       "    </tr>\n",
       "    <tr>\n",
       "      <th>159315</th>\n",
       "      <td>fbf8672ea3b4ddf7</td>\n",
       "      <td></td>\n",
       "      <td>1</td>\n",
       "      <td>0</td>\n",
       "      <td>0</td>\n",
       "      <td>0</td>\n",
       "      <td>0</td>\n",
       "      <td>0</td>\n",
       "    </tr>\n",
       "  </tbody>\n",
       "</table>\n",
       "<p>159 rows × 8 columns</p>\n",
       "</div>"
      ],
      "text/plain": [
       "                      id comment_text  toxic  severe_toxic  obscene  threat  \\\n",
       "228     0091798f05a311af                   0             0        0       0   \n",
       "329     00d300b2a1d61c1c                   0             0        0       0   \n",
       "3699    09e4ea8663421151                   0             0        0       0   \n",
       "3990    0aa6f3529219b37e                   0             0        0       0   \n",
       "4217    0b3eadc48e6dac06                   0             0        0       0   \n",
       "...                  ...          ...    ...           ...      ...     ...   \n",
       "156776  d3741a61f9c91ac0                   0             0        0       0   \n",
       "158092  e8a55975186094fe                   0             0        0       0   \n",
       "158123  e919900bd9def7c1                   0             0        0       0   \n",
       "159019  f76021a84e196d98                   0             0        0       0   \n",
       "159315  fbf8672ea3b4ddf7                   1             0        0       0   \n",
       "\n",
       "        insult  identity_hate  \n",
       "228          0              0  \n",
       "329          0              0  \n",
       "3699         0              0  \n",
       "3990         0              0  \n",
       "4217         0              0  \n",
       "...        ...            ...  \n",
       "156776       0              0  \n",
       "158092       0              0  \n",
       "158123       0              0  \n",
       "159019       0              0  \n",
       "159315       0              0  \n",
       "\n",
       "[159 rows x 8 columns]"
      ]
     },
     "execution_count": 41,
     "metadata": {},
     "output_type": "execute_result"
    }
   ],
   "source": [
    "new_train[new_train['comment_text']== '']"
   ]
  },
  {
   "cell_type": "markdown",
   "id": "23240fc2",
   "metadata": {},
   "source": [
    "Izbacivanje 159 redova koji sadrže prazne komentare:"
   ]
  },
  {
   "cell_type": "code",
   "execution_count": 43,
   "id": "cb27e60a",
   "metadata": {},
   "outputs": [
    {
     "data": {
      "text/plain": [
       "(159571, 8)"
      ]
     },
     "execution_count": 43,
     "metadata": {},
     "output_type": "execute_result"
    }
   ],
   "source": [
    "new_train.shape"
   ]
  },
  {
   "cell_type": "code",
   "execution_count": 49,
   "id": "d30e391f",
   "metadata": {},
   "outputs": [
    {
     "data": {
      "text/plain": [
       "(159412, 8)"
      ]
     },
     "execution_count": 49,
     "metadata": {},
     "output_type": "execute_result"
    }
   ],
   "source": [
    "new_train = new_train[new_train['comment_text'] != '']\n",
    "new_train.shape"
   ]
  },
  {
   "cell_type": "markdown",
   "id": "39b1d570",
   "metadata": {},
   "source": [
    "Datoteka test.csv - podaci koji su se na takmičenju koristili za proveru. Spajanje kolona i izbacivanje onih koje se ne koriste (sadrže -1 na mestu klase)"
   ]
  },
  {
   "cell_type": "code",
   "execution_count": 58,
   "id": "e2ff0929",
   "metadata": {},
   "outputs": [],
   "source": [
    "test_labels = pd.read_csv('csv/test_labels.csv')\n",
    "\n",
    "test_text = new_test['comment_text'].values.astype('U')\n",
    "\n",
    "unseen_data = pd.merge(new_test,test_labels,on=\"id\")\n",
    "unseen_data = unseen_data[unseen_data[\"toxic\"] != -1]\n",
    "unseen_data = unseen_data[unseen_data[\"comment_text\"] != '']"
   ]
  },
  {
   "cell_type": "code",
   "execution_count": 61,
   "id": "03feea3d",
   "metadata": {},
   "outputs": [
    {
     "data": {
      "text/html": [
       "<div>\n",
       "<style scoped>\n",
       "    .dataframe tbody tr th:only-of-type {\n",
       "        vertical-align: middle;\n",
       "    }\n",
       "\n",
       "    .dataframe tbody tr th {\n",
       "        vertical-align: top;\n",
       "    }\n",
       "\n",
       "    .dataframe thead th {\n",
       "        text-align: right;\n",
       "    }\n",
       "</style>\n",
       "<table border=\"1\" class=\"dataframe\">\n",
       "  <thead>\n",
       "    <tr style=\"text-align: right;\">\n",
       "      <th></th>\n",
       "      <th>id</th>\n",
       "      <th>comment_text</th>\n",
       "      <th>toxic</th>\n",
       "      <th>severe_toxic</th>\n",
       "      <th>obscene</th>\n",
       "      <th>threat</th>\n",
       "      <th>insult</th>\n",
       "      <th>identity_hate</th>\n",
       "    </tr>\n",
       "  </thead>\n",
       "  <tbody>\n",
       "    <tr>\n",
       "      <th>5</th>\n",
       "      <td>0001ea8717f6de06</td>\n",
       "      <td>thank understand think highly would revert wit...</td>\n",
       "      <td>0</td>\n",
       "      <td>0</td>\n",
       "      <td>0</td>\n",
       "      <td>0</td>\n",
       "      <td>0</td>\n",
       "      <td>0</td>\n",
       "    </tr>\n",
       "    <tr>\n",
       "      <th>7</th>\n",
       "      <td>000247e83dcc1211</td>\n",
       "      <td>dear god site horrible</td>\n",
       "      <td>0</td>\n",
       "      <td>0</td>\n",
       "      <td>0</td>\n",
       "      <td>0</td>\n",
       "      <td>0</td>\n",
       "      <td>0</td>\n",
       "    </tr>\n",
       "    <tr>\n",
       "      <th>11</th>\n",
       "      <td>0002f87b16116a7f</td>\n",
       "      <td>somebody invariably try add religion really me...</td>\n",
       "      <td>0</td>\n",
       "      <td>0</td>\n",
       "      <td>0</td>\n",
       "      <td>0</td>\n",
       "      <td>0</td>\n",
       "      <td>0</td>\n",
       "    </tr>\n",
       "    <tr>\n",
       "      <th>13</th>\n",
       "      <td>0003e1cccfd5a40a</td>\n",
       "      <td>say right type type institut need case three l...</td>\n",
       "      <td>0</td>\n",
       "      <td>0</td>\n",
       "      <td>0</td>\n",
       "      <td>0</td>\n",
       "      <td>0</td>\n",
       "      <td>0</td>\n",
       "    </tr>\n",
       "    <tr>\n",
       "      <th>14</th>\n",
       "      <td>00059ace3e3e9a53</td>\n",
       "      <td>ad new product list, make sure relev ad new pr...</td>\n",
       "      <td>0</td>\n",
       "      <td>0</td>\n",
       "      <td>0</td>\n",
       "      <td>0</td>\n",
       "      <td>0</td>\n",
       "      <td>0</td>\n",
       "    </tr>\n",
       "  </tbody>\n",
       "</table>\n",
       "</div>"
      ],
      "text/plain": [
       "                  id                                       comment_text  \\\n",
       "5   0001ea8717f6de06  thank understand think highly would revert wit...   \n",
       "7   000247e83dcc1211                             dear god site horrible   \n",
       "11  0002f87b16116a7f  somebody invariably try add religion really me...   \n",
       "13  0003e1cccfd5a40a  say right type type institut need case three l...   \n",
       "14  00059ace3e3e9a53  ad new product list, make sure relev ad new pr...   \n",
       "\n",
       "    toxic  severe_toxic  obscene  threat  insult  identity_hate  \n",
       "5       0             0        0       0       0              0  \n",
       "7       0             0        0       0       0              0  \n",
       "11      0             0        0       0       0              0  \n",
       "13      0             0        0       0       0              0  \n",
       "14      0             0        0       0       0              0  "
      ]
     },
     "execution_count": 61,
     "metadata": {},
     "output_type": "execute_result"
    }
   ],
   "source": [
    "unseen_data.head()"
   ]
  },
  {
   "cell_type": "code",
   "execution_count": 62,
   "id": "cc24a9b8",
   "metadata": {},
   "outputs": [
    {
     "data": {
      "text/plain": [
       "(63641, 8)"
      ]
     },
     "execution_count": 62,
     "metadata": {},
     "output_type": "execute_result"
    }
   ],
   "source": [
    "unseen_data.shape"
   ]
  },
  {
   "cell_type": "markdown",
   "id": "aab4031c",
   "metadata": {},
   "source": [
    "Čuvamo u nove csv fajlove filtrirane podatke"
   ]
  },
  {
   "cell_type": "code",
   "execution_count": 63,
   "id": "cbf2311a",
   "metadata": {},
   "outputs": [],
   "source": [
    "#new_train.to_csv('csv/data_filtered.csv', index = False)\n",
    "#unseen_data.to_csv('csv/unseen_filtered', index = False)"
   ]
  },
  {
   "cell_type": "markdown",
   "id": "88f35431",
   "metadata": {},
   "source": [
    "### Balansiranje\n",
    "Problem nebalansiranog skupa podataka rešavamo koristeći undersampling."
   ]
  },
  {
   "cell_type": "code",
   "execution_count": 84,
   "id": "2aeed11f",
   "metadata": {},
   "outputs": [],
   "source": [
    "def balance_data(data):\n",
    "    classes = ['toxic', 'severe_toxic', 'obscene', 'threat', 'insult', 'identity_hate']\n",
    "    largest_class_size = (data[classes].sum()).max()\n",
    "    unclassified_data = data[(data['toxic'] == 0) & (data['severe_toxic'] == 0) & (data['obscene'] == 0) & (data['threat'] == 0) & (data['insult'] == 0) & (data['identity_hate'] == 0)] \n",
    "    dropped_rows = unclassified_data.sample(unclassified_data.shape[0] - largest_class_size)\n",
    "    data_balanced = data[~data['id'].isin(dropped_rows['id'])]\n",
    "    return data_balanced"
   ]
  },
  {
   "cell_type": "code",
   "execution_count": 85,
   "id": "d197ab2d",
   "metadata": {},
   "outputs": [
    {
     "data": {
      "text/plain": [
       "(159412, 8)"
      ]
     },
     "execution_count": 85,
     "metadata": {},
     "output_type": "execute_result"
    }
   ],
   "source": [
    "new_train.shape"
   ]
  },
  {
   "cell_type": "code",
   "execution_count": 89,
   "id": "08b2f328",
   "metadata": {},
   "outputs": [
    {
     "name": "stdout",
     "output_type": "stream",
     "text": [
      "Broj podataka nakon balansiranja:  31503\n"
     ]
    }
   ],
   "source": [
    "balanced_data = balance_data(new_train)\n",
    "print('Broj podataka nakon balansiranja: ', balanced_data.shape[0])"
   ]
  },
  {
   "cell_type": "code",
   "execution_count": 90,
   "id": "e75d7bd4",
   "metadata": {},
   "outputs": [],
   "source": [
    "balanced_data.to_csv('csv/data_balanced.csv', index = False)"
   ]
  }
 ],
 "metadata": {
  "kernelspec": {
   "display_name": "Python 3",
   "language": "python",
   "name": "python3"
  },
  "language_info": {
   "codemirror_mode": {
    "name": "ipython",
    "version": 3
   },
   "file_extension": ".py",
   "mimetype": "text/x-python",
   "name": "python",
   "nbconvert_exporter": "python",
   "pygments_lexer": "ipython3",
   "version": "3.8.8"
  }
 },
 "nbformat": 4,
 "nbformat_minor": 5
}
