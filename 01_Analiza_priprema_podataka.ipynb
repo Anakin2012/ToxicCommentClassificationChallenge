{
 "cells": [
  {
   "cell_type": "code",
   "execution_count": 2,
   "id": "76b7a06a",
   "metadata": {},
   "outputs": [],
   "source": [
    "import pandas as pd\n",
    "import numpy as np\n",
    "from matplotlib import pyplot as plt\n",
    "import os \n",
    "import math\n",
    "from wordcloud import WordCloud, STOPWORDS"
   ]
  },
  {
   "cell_type": "markdown",
   "id": "50eebe8e",
   "metadata": {},
   "source": [
    "## Analiza podataka"
   ]
  },
  {
   "cell_type": "code",
   "execution_count": 3,
   "id": "4c6ae0d7",
   "metadata": {},
   "outputs": [],
   "source": [
    "train_data = pd.read_csv('csv/train.csv')"
   ]
  },
  {
   "cell_type": "code",
   "execution_count": 4,
   "id": "1e7e58c2",
   "metadata": {},
   "outputs": [
    {
     "data": {
      "text/html": [
       "<div>\n",
       "<style scoped>\n",
       "    .dataframe tbody tr th:only-of-type {\n",
       "        vertical-align: middle;\n",
       "    }\n",
       "\n",
       "    .dataframe tbody tr th {\n",
       "        vertical-align: top;\n",
       "    }\n",
       "\n",
       "    .dataframe thead th {\n",
       "        text-align: right;\n",
       "    }\n",
       "</style>\n",
       "<table border=\"1\" class=\"dataframe\">\n",
       "  <thead>\n",
       "    <tr style=\"text-align: right;\">\n",
       "      <th></th>\n",
       "      <th>id</th>\n",
       "      <th>comment_text</th>\n",
       "      <th>toxic</th>\n",
       "      <th>severe_toxic</th>\n",
       "      <th>obscene</th>\n",
       "      <th>threat</th>\n",
       "      <th>insult</th>\n",
       "      <th>identity_hate</th>\n",
       "    </tr>\n",
       "  </thead>\n",
       "  <tbody>\n",
       "    <tr>\n",
       "      <th>0</th>\n",
       "      <td>0000997932d777bf</td>\n",
       "      <td>Explanation\\r\\nWhy the edits made under my use...</td>\n",
       "      <td>0</td>\n",
       "      <td>0</td>\n",
       "      <td>0</td>\n",
       "      <td>0</td>\n",
       "      <td>0</td>\n",
       "      <td>0</td>\n",
       "    </tr>\n",
       "    <tr>\n",
       "      <th>1</th>\n",
       "      <td>000103f0d9cfb60f</td>\n",
       "      <td>D'aww! He matches this background colour I'm s...</td>\n",
       "      <td>0</td>\n",
       "      <td>0</td>\n",
       "      <td>0</td>\n",
       "      <td>0</td>\n",
       "      <td>0</td>\n",
       "      <td>0</td>\n",
       "    </tr>\n",
       "    <tr>\n",
       "      <th>2</th>\n",
       "      <td>000113f07ec002fd</td>\n",
       "      <td>Hey man, I'm really not trying to edit war. It...</td>\n",
       "      <td>0</td>\n",
       "      <td>0</td>\n",
       "      <td>0</td>\n",
       "      <td>0</td>\n",
       "      <td>0</td>\n",
       "      <td>0</td>\n",
       "    </tr>\n",
       "    <tr>\n",
       "      <th>3</th>\n",
       "      <td>0001b41b1c6bb37e</td>\n",
       "      <td>\"\\r\\nMore\\r\\nI can't make any real suggestions...</td>\n",
       "      <td>0</td>\n",
       "      <td>0</td>\n",
       "      <td>0</td>\n",
       "      <td>0</td>\n",
       "      <td>0</td>\n",
       "      <td>0</td>\n",
       "    </tr>\n",
       "    <tr>\n",
       "      <th>4</th>\n",
       "      <td>0001d958c54c6e35</td>\n",
       "      <td>You, sir, are my hero. Any chance you remember...</td>\n",
       "      <td>0</td>\n",
       "      <td>0</td>\n",
       "      <td>0</td>\n",
       "      <td>0</td>\n",
       "      <td>0</td>\n",
       "      <td>0</td>\n",
       "    </tr>\n",
       "  </tbody>\n",
       "</table>\n",
       "</div>"
      ],
      "text/plain": [
       "                 id                                       comment_text  toxic  \\\n",
       "0  0000997932d777bf  Explanation\\r\\nWhy the edits made under my use...      0   \n",
       "1  000103f0d9cfb60f  D'aww! He matches this background colour I'm s...      0   \n",
       "2  000113f07ec002fd  Hey man, I'm really not trying to edit war. It...      0   \n",
       "3  0001b41b1c6bb37e  \"\\r\\nMore\\r\\nI can't make any real suggestions...      0   \n",
       "4  0001d958c54c6e35  You, sir, are my hero. Any chance you remember...      0   \n",
       "\n",
       "   severe_toxic  obscene  threat  insult  identity_hate  \n",
       "0             0        0       0       0              0  \n",
       "1             0        0       0       0              0  \n",
       "2             0        0       0       0              0  \n",
       "3             0        0       0       0              0  \n",
       "4             0        0       0       0              0  "
      ]
     },
     "execution_count": 4,
     "metadata": {},
     "output_type": "execute_result"
    }
   ],
   "source": [
    "train_data.head()"
   ]
  },
  {
   "cell_type": "code",
   "execution_count": 70,
   "id": "a208e074",
   "metadata": {},
   "outputs": [],
   "source": [
    "test_data = pd.read_csv('csv/test.csv')"
   ]
  },
  {
   "cell_type": "code",
   "execution_count": 5,
   "id": "cfa94bc3",
   "metadata": {},
   "outputs": [
    {
     "data": {
      "text/plain": [
       "id               object\n",
       "comment_text     object\n",
       "toxic             int64\n",
       "severe_toxic      int64\n",
       "obscene           int64\n",
       "threat            int64\n",
       "insult            int64\n",
       "identity_hate     int64\n",
       "dtype: object"
      ]
     },
     "execution_count": 5,
     "metadata": {},
     "output_type": "execute_result"
    }
   ],
   "source": [
    "train_data.dtypes"
   ]
  },
  {
   "cell_type": "code",
   "execution_count": 71,
   "id": "38666524",
   "metadata": {},
   "outputs": [
    {
     "data": {
      "text/html": [
       "<div>\n",
       "<style scoped>\n",
       "    .dataframe tbody tr th:only-of-type {\n",
       "        vertical-align: middle;\n",
       "    }\n",
       "\n",
       "    .dataframe tbody tr th {\n",
       "        vertical-align: top;\n",
       "    }\n",
       "\n",
       "    .dataframe thead th {\n",
       "        text-align: right;\n",
       "    }\n",
       "</style>\n",
       "<table border=\"1\" class=\"dataframe\">\n",
       "  <thead>\n",
       "    <tr style=\"text-align: right;\">\n",
       "      <th></th>\n",
       "      <th>id</th>\n",
       "      <th>comment_text</th>\n",
       "    </tr>\n",
       "  </thead>\n",
       "  <tbody>\n",
       "    <tr>\n",
       "      <th>0</th>\n",
       "      <td>00001cee341fdb12</td>\n",
       "      <td>Yo bitch Ja Rule is more succesful then you'll...</td>\n",
       "    </tr>\n",
       "    <tr>\n",
       "      <th>1</th>\n",
       "      <td>0000247867823ef7</td>\n",
       "      <td>== From RfC == \\r\\n\\r\\n The title is fine as i...</td>\n",
       "    </tr>\n",
       "    <tr>\n",
       "      <th>2</th>\n",
       "      <td>00013b17ad220c46</td>\n",
       "      <td>\" \\r\\n\\r\\n == Sources == \\r\\n\\r\\n * Zawe Ashto...</td>\n",
       "    </tr>\n",
       "    <tr>\n",
       "      <th>3</th>\n",
       "      <td>00017563c3f7919a</td>\n",
       "      <td>:If you have a look back at the source, the in...</td>\n",
       "    </tr>\n",
       "    <tr>\n",
       "      <th>4</th>\n",
       "      <td>00017695ad8997eb</td>\n",
       "      <td>I don't anonymously edit articles at all.</td>\n",
       "    </tr>\n",
       "  </tbody>\n",
       "</table>\n",
       "</div>"
      ],
      "text/plain": [
       "                 id                                       comment_text\n",
       "0  00001cee341fdb12  Yo bitch Ja Rule is more succesful then you'll...\n",
       "1  0000247867823ef7  == From RfC == \\r\\n\\r\\n The title is fine as i...\n",
       "2  00013b17ad220c46  \" \\r\\n\\r\\n == Sources == \\r\\n\\r\\n * Zawe Ashto...\n",
       "3  00017563c3f7919a  :If you have a look back at the source, the in...\n",
       "4  00017695ad8997eb          I don't anonymously edit articles at all."
      ]
     },
     "execution_count": 71,
     "metadata": {},
     "output_type": "execute_result"
    }
   ],
   "source": [
    "test_data.head()"
   ]
  },
  {
   "cell_type": "code",
   "execution_count": 72,
   "id": "62df777e",
   "metadata": {},
   "outputs": [
    {
     "data": {
      "text/plain": [
       "((159571, 8), (153164, 2))"
      ]
     },
     "execution_count": 72,
     "metadata": {},
     "output_type": "execute_result"
    }
   ],
   "source": [
    "train_data.shape, test_data.shape"
   ]
  },
  {
   "cell_type": "code",
   "execution_count": null,
   "id": "99f23007",
   "metadata": {},
   "outputs": [],
   "source": []
  },
  {
   "cell_type": "code",
   "execution_count": 73,
   "id": "9ceb35a2",
   "metadata": {
    "scrolled": true
   },
   "outputs": [],
   "source": [
    "#train_data[train_data['toxic'] == 1]"
   ]
  },
  {
   "cell_type": "markdown",
   "id": "6a4d3705",
   "metadata": {},
   "source": [
    "Provera da li ima nedostajućih vrednosti:"
   ]
  },
  {
   "cell_type": "code",
   "execution_count": 74,
   "id": "c96b9730",
   "metadata": {},
   "outputs": [
    {
     "data": {
      "text/plain": [
       "False"
      ]
     },
     "execution_count": 74,
     "metadata": {},
     "output_type": "execute_result"
    }
   ],
   "source": [
    "train_data.isnull().values.any()"
   ]
  },
  {
   "cell_type": "markdown",
   "id": "55953a15",
   "metadata": {},
   "source": [
    "Nema nedostajućih vrednosti - sve vrednosti su ili 0 ili 1"
   ]
  },
  {
   "cell_type": "code",
   "execution_count": 75,
   "id": "a81cf0c7",
   "metadata": {},
   "outputs": [
    {
     "name": "stdout",
     "output_type": "stream",
     "text": [
      "[0 1]\n",
      "[0 1]\n",
      "[0 1]\n",
      "[0 1]\n",
      "[0 1]\n",
      "[0 1]\n"
     ]
    }
   ],
   "source": [
    "print(train_data['toxic'].unique()) \n",
    "print(train_data['severe_toxic'].unique())\n",
    "print(train_data['obscene'].unique())\n",
    "print(train_data['insult'].unique())\n",
    "print(train_data['threat'].unique())\n",
    "print(train_data['identity_hate'].unique())"
   ]
  },
  {
   "cell_type": "markdown",
   "id": "70db385f",
   "metadata": {},
   "source": [
    "Izdvajanje samo kategorija"
   ]
  },
  {
   "cell_type": "code",
   "execution_count": 76,
   "id": "9ee3253b",
   "metadata": {},
   "outputs": [],
   "source": [
    "classes = ['toxic', 'severe_toxic', 'obscene', 'threat', 'insult', 'identity_hate']\n",
    "categories = train_data[classes]"
   ]
  },
  {
   "cell_type": "code",
   "execution_count": 77,
   "id": "0f33ab29",
   "metadata": {},
   "outputs": [
    {
     "data": {
      "text/html": [
       "<div>\n",
       "<style scoped>\n",
       "    .dataframe tbody tr th:only-of-type {\n",
       "        vertical-align: middle;\n",
       "    }\n",
       "\n",
       "    .dataframe tbody tr th {\n",
       "        vertical-align: top;\n",
       "    }\n",
       "\n",
       "    .dataframe thead th {\n",
       "        text-align: right;\n",
       "    }\n",
       "</style>\n",
       "<table border=\"1\" class=\"dataframe\">\n",
       "  <thead>\n",
       "    <tr style=\"text-align: right;\">\n",
       "      <th></th>\n",
       "      <th>toxic</th>\n",
       "      <th>severe_toxic</th>\n",
       "      <th>obscene</th>\n",
       "      <th>threat</th>\n",
       "      <th>insult</th>\n",
       "      <th>identity_hate</th>\n",
       "    </tr>\n",
       "  </thead>\n",
       "  <tbody>\n",
       "    <tr>\n",
       "      <th>0</th>\n",
       "      <td>0</td>\n",
       "      <td>0</td>\n",
       "      <td>0</td>\n",
       "      <td>0</td>\n",
       "      <td>0</td>\n",
       "      <td>0</td>\n",
       "    </tr>\n",
       "    <tr>\n",
       "      <th>1</th>\n",
       "      <td>0</td>\n",
       "      <td>0</td>\n",
       "      <td>0</td>\n",
       "      <td>0</td>\n",
       "      <td>0</td>\n",
       "      <td>0</td>\n",
       "    </tr>\n",
       "    <tr>\n",
       "      <th>2</th>\n",
       "      <td>0</td>\n",
       "      <td>0</td>\n",
       "      <td>0</td>\n",
       "      <td>0</td>\n",
       "      <td>0</td>\n",
       "      <td>0</td>\n",
       "    </tr>\n",
       "    <tr>\n",
       "      <th>3</th>\n",
       "      <td>0</td>\n",
       "      <td>0</td>\n",
       "      <td>0</td>\n",
       "      <td>0</td>\n",
       "      <td>0</td>\n",
       "      <td>0</td>\n",
       "    </tr>\n",
       "    <tr>\n",
       "      <th>4</th>\n",
       "      <td>0</td>\n",
       "      <td>0</td>\n",
       "      <td>0</td>\n",
       "      <td>0</td>\n",
       "      <td>0</td>\n",
       "      <td>0</td>\n",
       "    </tr>\n",
       "  </tbody>\n",
       "</table>\n",
       "</div>"
      ],
      "text/plain": [
       "   toxic  severe_toxic  obscene  threat  insult  identity_hate\n",
       "0      0             0        0       0       0              0\n",
       "1      0             0        0       0       0              0\n",
       "2      0             0        0       0       0              0\n",
       "3      0             0        0       0       0              0\n",
       "4      0             0        0       0       0              0"
      ]
     },
     "execution_count": 77,
     "metadata": {},
     "output_type": "execute_result"
    }
   ],
   "source": [
    "categories.head()"
   ]
  },
  {
   "cell_type": "markdown",
   "id": "02722c08",
   "metadata": {},
   "source": [
    "Broj komentara po kategorijama"
   ]
  },
  {
   "cell_type": "code",
   "execution_count": 78,
   "id": "c8caeed0",
   "metadata": {},
   "outputs": [],
   "source": [
    "freq_per_class = categories.sum()"
   ]
  },
  {
   "cell_type": "code",
   "execution_count": 79,
   "id": "725389b1",
   "metadata": {},
   "outputs": [
    {
     "data": {
      "text/plain": [
       "toxic            15294\n",
       "severe_toxic      1595\n",
       "obscene           8449\n",
       "threat             478\n",
       "insult            7877\n",
       "identity_hate     1405\n",
       "dtype: int64"
      ]
     },
     "execution_count": 79,
     "metadata": {},
     "output_type": "execute_result"
    }
   ],
   "source": [
    "freq_per_class"
   ]
  },
  {
   "cell_type": "code",
   "execution_count": null,
   "id": "7b225cc9",
   "metadata": {},
   "outputs": [],
   "source": []
  },
  {
   "cell_type": "markdown",
   "id": "4aefce30",
   "metadata": {},
   "source": [
    "Grafički prikaz zastupljenosti različitih vrsta komentara"
   ]
  },
  {
   "cell_type": "code",
   "execution_count": 80,
   "id": "ef77c46a",
   "metadata": {},
   "outputs": [
    {
     "data": {
      "image/png": "[encoded data removed]",
      "text/plain": [
       "<Figure size 864x360 with 1 Axes>"
      ]
     },
     "metadata": {
      "needs_background": "light"
     },
     "output_type": "display_data"
    }
   ],
   "source": [
    "colors = ['skyblue', 'orange', 'pink', 'red', 'teal', 'purple', 'khaki']\n",
    "\n",
    "plt.figure(figsize=(12,5))\n",
    "plt.barh(freq_per_class.index, freq_per_class, color = colors)\n",
    "for index, value in enumerate(freq_per_class):\n",
    "    plt.text(value, index, str(value))\n",
    "\n",
    "plt.xlabel('Broj instanci')\n",
    "plt.ylabel('Tip komentara')\n",
    "plt.title('Broj komentara po klasama (trening skup)')\n",
    "plt.savefig('img/01_frequency_bar.png', orientation='landscape')\n",
    "\n",
    "plt.show()"
   ]
  },
  {
   "cell_type": "code",
   "execution_count": null,
   "id": "4d496f95",
   "metadata": {},
   "outputs": [],
   "source": [
    "\n"
   ]
  },
  {
   "cell_type": "markdown",
   "id": "1ab9cdb9",
   "metadata": {},
   "source": [
    " ### **TODO: nebalansiranost?**"
   ]
  },
  {
   "cell_type": "markdown",
   "id": "22ca945e",
   "metadata": {},
   "source": [
    "Broj komentara klasifikovanih u više od jedne klase:"
   ]
  },
  {
   "cell_type": "code",
   "execution_count": 81,
   "id": "63b0bd56",
   "metadata": {},
   "outputs": [
    {
     "name": "stdout",
     "output_type": "stream",
     "text": [
      "1    6360\n",
      "2    3480\n",
      "3    4209\n",
      "4    1760\n",
      "5     385\n",
      "6      31\n",
      "dtype: int64\n"
     ]
    },
    {
     "data": {
      "image/png": "[encoded data removed]",
      "text/plain": [
       "<Figure size 864x360 with 1 Axes>"
      ]
     },
     "metadata": {
      "needs_background": "light"
     },
     "output_type": "display_data"
    }
   ],
   "source": [
    "class_sums = train_data.iloc[:, 2:].sum(axis = 1)\n",
    "counts = class_sums.value_counts().sort_index()\n",
    "counts = counts.iloc[1:]\n",
    "print(counts)\n",
    "\n",
    "plt.figure(figsize=(12,5))\n",
    "plt.barh(counts.index, counts.values, color = colors)\n",
    "for index, value in enumerate(counts.values):\n",
    "    plt.text(value, index+1, str(value))\n",
    "\n",
    "plt.xlabel('Broj komentara')\n",
    "plt.ylabel('Broj klasa')\n",
    "plt.title('Broj komentara koji pripadaju više klasa')\n",
    "plt.savefig('img/03_multilabel_freq.png', orientation='landscape')\n",
    "\n",
    "plt.show()"
   ]
  },
  {
   "cell_type": "code",
   "execution_count": null,
   "id": "bec50981",
   "metadata": {},
   "outputs": [],
   "source": []
  },
  {
   "cell_type": "code",
   "execution_count": null,
   "id": "7d52fd34",
   "metadata": {},
   "outputs": [],
   "source": []
  },
  {
   "cell_type": "markdown",
   "id": "0842e9d2",
   "metadata": {},
   "source": [
    "Udeo neklasifikovanih komentara u celom trening skupu:"
   ]
  },
  {
   "cell_type": "code",
   "execution_count": 82,
   "id": "ac9bf6e9",
   "metadata": {},
   "outputs": [
    {
     "name": "stdout",
     "output_type": "stream",
     "text": [
      "Broj neoznacenih komentara:  143346\n",
      "Broj ukupnih komentara:  159571\n",
      "Udeo neoznacenih komentara:  89.83%\n"
     ]
    }
   ],
   "source": [
    "not_labeled_count= class_sums.value_counts()[0]\n",
    "print('Broj neoznacenih komentara: ', not_labeled_count)\n",
    "print('Broj ukupnih komentara: ', train_data.shape[0])\n",
    "percent_not_labeled = not_labeled_count/train_data.shape[0]\n",
    "print('Udeo neoznacenih komentara:  {:.2%}'.format(percent_not_labeled))"
   ]
  },
  {
   "cell_type": "markdown",
   "id": "2c11aeca",
   "metadata": {},
   "source": [
    "\n",
    " #### Samo oko 10% trening skupa je klasifikovano u konkretne klase"
   ]
  },
  {
   "cell_type": "code",
   "execution_count": 83,
   "id": "7193cd4f",
   "metadata": {
    "scrolled": true
   },
   "outputs": [],
   "source": [
    "percents = [round(p/train_data.shape[0]*100, 2) for p in freq_per_class]\n",
    "percents.append(round(percent_not_labeled*100,2))\n",
    "\n",
    "legend = freq_per_class.index.values.tolist()\n",
    "legend.append('not_labeled')"
   ]
  },
  {
   "cell_type": "code",
   "execution_count": 84,
   "id": "12ec5c3c",
   "metadata": {},
   "outputs": [
    {
     "data": {
      "image/png": "[encoded data removed]",
      "text/plain": [
       "<Figure size 720x720 with 1 Axes>"
      ]
     },
     "metadata": {},
     "output_type": "display_data"
    }
   ],
   "source": [
    "plt.figure(figsize=(10,10))\n",
    "plt.pie(percents, colors = colors)\n",
    "plt.legend(legend, loc='upper left')\n",
    "plt.title('Udeo klasa u ukupnom skupu')\n",
    "plt.savefig('img/02_class_distribution.png')\n",
    "\n",
    "plt.show()"
   ]
  },
  {
   "cell_type": "code",
   "execution_count": null,
   "id": "12368927",
   "metadata": {},
   "outputs": [],
   "source": []
  },
  {
   "cell_type": "markdown",
   "id": "9ef346b8",
   "metadata": {},
   "source": [
    "## Obrada i priprema teksta"
   ]
  },
  {
   "cell_type": "code",
   "execution_count": null,
   "id": "b2934ee1",
   "metadata": {},
   "outputs": [],
   "source": []
  },
  {
   "cell_type": "code",
   "execution_count": 85,
   "id": "04cb7a9c",
   "metadata": {},
   "outputs": [],
   "source": [
    "# Podaci izdvojeni za svaku klasu:\n",
    "\n",
    "toxic = train_data[train_data.toxic==1]\n",
    "severe_toxic = train_data[train_data.severe_toxic==1]\n",
    "obscene = train_data[train_data.obscene==1]\n",
    "threat = train_data[train_data.threat == 1]\n",
    "insult = train_data[train_data.insult==1]\n",
    "identity_hate = train_data[train_data.identity_hate==1]\n",
    "not_labeled = train_data[train_data[classes].eq(0).all(1)]"
   ]
  },
  {
   "cell_type": "markdown",
   "id": "9b0d72c6",
   "metadata": {},
   "source": [
    "### Najčešće reči po klasama"
   ]
  },
  {
   "cell_type": "code",
   "execution_count": null,
   "id": "8661bbec",
   "metadata": {},
   "outputs": [],
   "source": []
  },
  {
   "cell_type": "code",
   "execution_count": 86,
   "id": "de02e454",
   "metadata": {},
   "outputs": [],
   "source": [
    "# fja koja vraca string naziva data frame-a\n",
    "\n",
    "def get_df_name(df):\n",
    "    name =[x for x in globals() if globals()[x] is df][0]\n",
    "    return name"
   ]
  },
  {
   "cell_type": "code",
   "execution_count": 87,
   "id": "60568bd0",
   "metadata": {},
   "outputs": [],
   "source": [
    "def get_wordcloud(comment_type):\n",
    "    df = comment_type\n",
    "    words = ' '.join([text for text in df['comment_text'] ])\n",
    "\n",
    "    wordcloud = WordCloud(width=2500,\n",
    "                      height=1600,\n",
    "                      max_words=500,\n",
    "                      collocations=False,\n",
    "                      stopwords=STOPWORDS).generate(words)\n",
    "\n",
    "    name = get_df_name(df)\n",
    "    plt.imshow(wordcloud)\n",
    "    plt.axis(\"off\")\n",
    "    plt.title(name + ' wordcloud')\n",
    "    plt.savefig('img/wordclouds/' + name + '.png')\n",
    "    plt.show()"
   ]
  },
  {
   "cell_type": "markdown",
   "id": "c730c9d2",
   "metadata": {},
   "source": [
    "### Wordcloud za svaku od klasa"
   ]
  },
  {
   "cell_type": "code",
   "execution_count": 88,
   "id": "15bc9015",
   "metadata": {},
   "outputs": [],
   "source": [
    "#get_wordcloud(not_labeled)\n",
    "#get_wordcloud(toxic)\n",
    "#get_wordcloud(severe_toxic)\n",
    "#get_wordcloud(obscene)\n",
    "#get_wordcloud(insult)\n",
    "#get_wordcloud(identity_hate)\n",
    "#get_wordcloud(threat)"
   ]
  },
  {
   "cell_type": "markdown",
   "id": "5661cc7c",
   "metadata": {},
   "source": [
    "### Wordcloud za test skup"
   ]
  },
  {
   "cell_type": "code",
   "execution_count": 89,
   "id": "ee6f6536",
   "metadata": {
    "scrolled": true
   },
   "outputs": [],
   "source": [
    "#get_wordcloud(test_data)"
   ]
  },
  {
   "cell_type": "markdown",
   "id": "224f39b2",
   "metadata": {},
   "source": [
    "### Pretprocesiranje"
   ]
  },
  {
   "cell_type": "code",
   "execution_count": 90,
   "id": "ed8a0da3",
   "metadata": {},
   "outputs": [],
   "source": [
    "import nltk\n",
    "from nltk.corpus import stopwords\n",
    "from nltk.stem.snowball import SnowballStemmer\n",
    "from nltk.stem import WordNetLemmatizer"
   ]
  },
  {
   "cell_type": "markdown",
   "id": "2eb8d2d5",
   "metadata": {},
   "source": [
    "Izbacivanje nepotrebnih karaktera\n",
    "https://github.com/hundredblocks/concrete_NLP_tutorial/blob/master/NLP_notebook.ipynb"
   ]
  },
  {
   "cell_type": "code",
   "execution_count": 91,
   "id": "9ec92cb6",
   "metadata": {
    "scrolled": true
   },
   "outputs": [
    {
     "data": {
      "text/plain": [
       "0         Explanation\\r\\nWhy the edits made under my use...\n",
       "1         D'aww! He matches this background colour I'm s...\n",
       "2         Hey man, I'm really not trying to edit war. It...\n",
       "3         \"\\r\\nMore\\r\\nI can't make any real suggestions...\n",
       "4         You, sir, are my hero. Any chance you remember...\n",
       "                                ...                        \n",
       "159566    \":::::And for the second time of asking, when ...\n",
       "159567    You should be ashamed of yourself \\r\\n\\r\\nThat...\n",
       "159568    Spitzer \\r\\n\\r\\nUmm, theres no actual article ...\n",
       "159569    And it looks like it was actually you who put ...\n",
       "159570    \"\\r\\nAnd ... I really don't think you understa...\n",
       "Name: comment_text, Length: 159571, dtype: object"
      ]
     },
     "execution_count": 91,
     "metadata": {},
     "output_type": "execute_result"
    }
   ],
   "source": [
    "train_data['comment_text']"
   ]
  },
  {
   "cell_type": "code",
   "execution_count": 92,
   "id": "e4ec0337",
   "metadata": {
    "scrolled": false
   },
   "outputs": [],
   "source": [
    "def remove_irrelevant(df):\n",
    "    \n",
    "    df['comment_text'] = df['comment_text'].str.lower()\n",
    "    df['comment_text'] = df['comment_text'].str.replace(r\"https?:\\/\\/.*[\\r\\n]*\", \"\")\n",
    "    df['comment_text'] = df['comment_text'].str.replace(r\"\\d+\", \"\")\n",
    "    df['comment_text'] = df['comment_text'].str.replace(r\"[\\n\\r\\t]\", \" \")\n",
    "    df['comment_text'] = df['comment_text'].str.replace(r\"[^A-Za-z0-9(),!?@\\'\\`\\\"\\_]\", \" \")\n",
    "    df['comment_text'] = df['comment_text'].str.replace(r\"@\\S+\", \"\")\n",
    "    \n",
    "    return df"
   ]
  },
  {
   "cell_type": "markdown",
   "id": "571403e5",
   "metadata": {},
   "source": [
    "Izbacivanje stop-reči"
   ]
  },
  {
   "cell_type": "code",
   "execution_count": 93,
   "id": "ea61188e",
   "metadata": {},
   "outputs": [
    {
     "name": "stdout",
     "output_type": "stream",
     "text": [
      "['i', 'me', 'my', 'myself', 'we', 'our', 'ours', 'ourselves', 'you', \"you're\", \"you've\", \"you'll\", \"you'd\", 'your', 'yours', 'yourself', 'yourselves', 'he', 'him', 'his', 'himself', 'she', \"she's\", 'her', 'hers', 'herself', 'it', \"it's\", 'its', 'itself', 'they', 'them', 'their', 'theirs', 'themselves', 'what', 'which', 'who', 'whom', 'this', 'that', \"that'll\", 'these', 'those', 'am', 'is', 'are', 'was', 'were', 'be', 'been', 'being', 'have', 'has', 'had', 'having', 'do', 'does', 'did', 'doing', 'a', 'an', 'the', 'and', 'but', 'if', 'or', 'because', 'as', 'until', 'while', 'of', 'at', 'by', 'for', 'with', 'about', 'against', 'between', 'into', 'through', 'during', 'before', 'after', 'above', 'below', 'to', 'from', 'up', 'down', 'in', 'out', 'on', 'off', 'over', 'under', 'again', 'further', 'then', 'once', 'here', 'there', 'when', 'where', 'why', 'how', 'all', 'any', 'both', 'each', 'few', 'more', 'most', 'other', 'some', 'such', 'no', 'nor', 'not', 'only', 'own', 'same', 'so', 'than', 'too', 'very', 's', 't', 'can', 'will', 'just', 'don', \"don't\", 'should', \"should've\", 'now', 'd', 'll', 'm', 'o', 're', 've', 'y', 'ain', 'aren', \"aren't\", 'couldn', \"couldn't\", 'didn', \"didn't\", 'doesn', \"doesn't\", 'hadn', \"hadn't\", 'hasn', \"hasn't\", 'haven', \"haven't\", 'isn', \"isn't\", 'ma', 'mightn', \"mightn't\", 'mustn', \"mustn't\", 'needn', \"needn't\", 'shan', \"shan't\", 'shouldn', \"shouldn't\", 'wasn', \"wasn't\", 'weren', \"weren't\", 'won', \"won't\", 'wouldn', \"wouldn't\"]\n"
     ]
    }
   ],
   "source": [
    "sw = stopwords.words('english')\n",
    "print(sw)"
   ]
  },
  {
   "cell_type": "code",
   "execution_count": 94,
   "id": "a7291307",
   "metadata": {},
   "outputs": [],
   "source": [
    "def remove_stopwords(sentence):\n",
    "    \n",
    "    sw_list = stopwords.words('english')\n",
    "    words = [word for word in sentence.split() if word not in sw_list]\n",
    "    new_sentence = \" \".join(words)\n",
    "    \n",
    "    return new_sentence"
   ]
  },
  {
   "cell_type": "code",
   "execution_count": null,
   "id": "d945feae",
   "metadata": {},
   "outputs": [],
   "source": []
  },
  {
   "cell_type": "markdown",
   "id": "8d865b89",
   "metadata": {},
   "source": [
    "Stemovanje i lematizacija\n",
    "https://www.datacamp.com/community/tutorials/stemming-lemmatization-python"
   ]
  },
  {
   "cell_type": "code",
   "execution_count": 95,
   "id": "f978c830",
   "metadata": {
    "scrolled": true
   },
   "outputs": [],
   "source": [
    "stemmer = SnowballStemmer(\"english\")\n",
    "wnl = WordNetLemmatizer()\n",
    "\n",
    "\n",
    "def stem(sentence):\n",
    "    new_sentence = \"\"\n",
    "    for word in sentence.split():\n",
    "        stem = wnl.lemmatize(word) if (wnl.lemmatize(word).endswith('e') or wnl.lemmatize(word).endswith('y')) else stemmer.stem(word)\n",
    "        #stem = stemmer.stem(word)\n",
    "        new_sentence += stem\n",
    "        new_sentence += \" \"\n",
    "\n",
    "    new_sentence = new_sentence.strip()\n",
    "    return new_sentence"
   ]
  },
  {
   "cell_type": "code",
   "execution_count": null,
   "id": "34dad9a5",
   "metadata": {},
   "outputs": [],
   "source": []
  },
  {
   "cell_type": "code",
   "execution_count": 96,
   "id": "b025c013",
   "metadata": {},
   "outputs": [],
   "source": [
    "new_train = train_data\n",
    "new_test = test_data"
   ]
  },
  {
   "cell_type": "code",
   "execution_count": 97,
   "id": "56270a26",
   "metadata": {},
   "outputs": [],
   "source": [
    "def transform_text(df):\n",
    "\n",
    "    remove_irrelevant(df)\n",
    "    df['comment_text'] = df['comment_text'].apply(remove_stopwords)\n",
    "    df['comment_text'] = df['comment_text'].apply(stem)"
   ]
  },
  {
   "cell_type": "code",
   "execution_count": 98,
   "id": "90afb4d9",
   "metadata": {},
   "outputs": [
    {
     "name": "stderr",
     "output_type": "stream",
     "text": [
      "<ipython-input-92-e9f1b94cbf37>:4: FutureWarning: The default value of regex will change from True to False in a future version.\n",
      "  df['comment_text'] = df['comment_text'].str.replace(r\"https?:\\/\\/.*[\\r\\n]*\", \"\")\n",
      "<ipython-input-92-e9f1b94cbf37>:5: FutureWarning: The default value of regex will change from True to False in a future version.\n",
      "  df['comment_text'] = df['comment_text'].str.replace(r\"\\d+\", \"\")\n",
      "<ipython-input-92-e9f1b94cbf37>:6: FutureWarning: The default value of regex will change from True to False in a future version.\n",
      "  df['comment_text'] = df['comment_text'].str.replace(r\"[\\n\\r\\t]\", \" \")\n",
      "<ipython-input-92-e9f1b94cbf37>:7: FutureWarning: The default value of regex will change from True to False in a future version.\n",
      "  df['comment_text'] = df['comment_text'].str.replace(r\"[^A-Za-z0-9(),!?@\\'\\`\\\"\\_]\", \" \")\n",
      "<ipython-input-92-e9f1b94cbf37>:8: FutureWarning: The default value of regex will change from True to False in a future version.\n",
      "  df['comment_text'] = df['comment_text'].str.replace(r\"@\\S+\", \"\")\n"
     ]
    }
   ],
   "source": [
    "transform_text(new_train)\n",
    "transform_text(new_test)"
   ]
  },
  {
   "cell_type": "markdown",
   "id": "43401fc1",
   "metadata": {},
   "source": [
    "Koju reprezentaciju koristiti? n-grami, tf-id, word2vec, glove, byte pair encoding,..?"
   ]
  },
  {
   "cell_type": "code",
   "execution_count": 99,
   "id": "88838025",
   "metadata": {},
   "outputs": [
    {
     "data": {
      "text/plain": [
       "0    explan edit made username hardcore metallica f...\n",
       "1    d'aww! match background colour i'm seemingly s...\n",
       "2    hey man, i'm really tri edit war guy constantl...\n",
       "3    \" can't make real suggest improv wonder sectio...\n",
       "4           you, sir, hero chance rememb page that on?\n",
       "Name: comment_text, dtype: object"
      ]
     },
     "execution_count": 99,
     "metadata": {},
     "output_type": "execute_result"
    }
   ],
   "source": [
    "new_train['comment_text'].head()"
   ]
  },
  {
   "cell_type": "code",
   "execution_count": 100,
   "id": "7dba87ac",
   "metadata": {
    "scrolled": true
   },
   "outputs": [
    {
     "data": {
      "text/plain": [
       "0    yo bitch ja rule succes ever what hate sad mof...\n",
       "1                               rfc title fine is, imo\n",
       "2                       \" source zawe ashton lapland \"\n",
       "3    look back source, inform updat correct form gu...\n",
       "4                             anonymously edit article\n",
       "Name: comment_text, dtype: object"
      ]
     },
     "execution_count": 100,
     "metadata": {},
     "output_type": "execute_result"
    }
   ],
   "source": [
    "new_test['comment_text'].head()"
   ]
  },
  {
   "cell_type": "markdown",
   "id": "5f1ccf22",
   "metadata": {},
   "source": [
    "Df sa filtriranim tekstom cuvamo u nove csv fajlove"
   ]
  },
  {
   "cell_type": "code",
   "execution_count": 102,
   "id": "cb27e60a",
   "metadata": {},
   "outputs": [],
   "source": [
    "#new_train.to_csv('train_01.csv', index = False)"
   ]
  },
  {
   "cell_type": "code",
   "execution_count": 103,
   "id": "cbf2311a",
   "metadata": {},
   "outputs": [],
   "source": [
    "#new_test.to_csv('test_01.csv', index = False)"
   ]
  }
 ],
 "metadata": {
  "kernelspec": {
   "display_name": "Python 3",
   "language": "python",
   "name": "python3"
  },
  "language_info": {
   "codemirror_mode": {
    "name": "ipython",
    "version": 3
   },
   "file_extension": ".py",
   "mimetype": "text/x-python",
   "name": "python",
   "nbconvert_exporter": "python",
   "pygments_lexer": "ipython3",
   "version": "3.8.8"
  }
 },
 "nbformat": 4,
 "nbformat_minor": 5
}
