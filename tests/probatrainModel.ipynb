{
 "cells": [
  {
   "cell_type": "code",
   "execution_count": 1,
   "id": "7cd177bb",
   "metadata": {},
   "outputs": [],
   "source": [
    "import pandas as pd\n",
    "import numpy as np\n",
    "from matplotlib import pyplot as plt\n",
    "\n",
    "import pickle\n",
    "import sklearn\n",
    "import time\n",
    "from sklearn import metrics\n",
    "from sklearn import model_selection\n",
    "\n",
    "import warnings\n",
    "warnings.simplefilter(action='ignore', category=FutureWarning)"
   ]
  },
  {
   "cell_type": "code",
   "execution_count": 2,
   "id": "d810c045",
   "metadata": {},
   "outputs": [],
   "source": [
    "%run SharedFunctions.ipynb"
   ]
  },
  {
   "cell_type": "code",
   "execution_count": 11,
   "id": "376f9159",
   "metadata": {},
   "outputs": [],
   "source": [
    "data = pd.read_csv('data/just_train.csv')\n",
    "\n",
    "data.comment_text=data.comment_text.astype(str)"
   ]
  },
  {
   "cell_type": "code",
   "execution_count": 12,
   "id": "1bf9a272",
   "metadata": {},
   "outputs": [],
   "source": [
    "X = data['comment_text']\n",
    "y = data['target']"
   ]
  },
  {
   "cell_type": "code",
   "execution_count": 13,
   "id": "3230b511",
   "metadata": {},
   "outputs": [],
   "source": [
    "X_train_validation, X_test, y_train_validation, y_test = \\\n",
    "    model_selection.train_test_split(X, y, test_size=0.33, stratify=y, random_state=7)\n",
    "\n",
    "X_train, X_validation, y_train, y_validation =\\\n",
    "    model_selection.train_test_split(X_train_validation, y_train_validation, test_size=0.2, stratify=y_train_validation, random_state=7)"
   ]
  },
  {
   "cell_type": "code",
   "execution_count": 14,
   "id": "0a656517",
   "metadata": {},
   "outputs": [
    {
     "data": {
      "text/plain": [
       "((85529,), (21383,), (52659,))"
      ]
     },
     "execution_count": 14,
     "metadata": {},
     "output_type": "execute_result"
    }
   ],
   "source": [
    "X_train.shape, X_validation.shape, X_test.shape"
   ]
  },
  {
   "cell_type": "code",
   "execution_count": 15,
   "id": "cc04f6ea",
   "metadata": {},
   "outputs": [
    {
     "data": {
      "text/plain": [
       "((85529,), (21383,), (52659,))"
      ]
     },
     "execution_count": 15,
     "metadata": {},
     "output_type": "execute_result"
    }
   ],
   "source": [
    "y_train.shape, y_validation.shape, y_test.shape"
   ]
  },
  {
   "cell_type": "code",
   "execution_count": 16,
   "id": "e34b1b86",
   "metadata": {},
   "outputs": [],
   "source": [
    "# uzima se recimo 20000 najfrekventinijh reci\n",
    "max_features = 20000\n",
    "\n",
    "# max duzina\n",
    "max_len = 100"
   ]
  },
  {
   "cell_type": "code",
   "execution_count": 17,
   "id": "1fe30b67",
   "metadata": {},
   "outputs": [
    {
     "name": "stdout",
     "output_type": "stream",
     "text": [
      "Broj jedinstvenih reci: 143757\n"
     ]
    }
   ],
   "source": [
    "word_index, tokenizer = get_vocabulary(max_features, X_train, 'tokenizer_binaryTrain.pickle')\n",
    "print('Broj jedinstvenih reci:', len(word_index))"
   ]
  },
  {
   "cell_type": "code",
   "execution_count": 18,
   "id": "2d648082",
   "metadata": {},
   "outputs": [],
   "source": [
    "X_train = to_sequence(X_train, max_len, tokenizer)\n",
    "X_test = to_sequence(X_test, max_len, tokenizer)\n",
    "X_validation = to_sequence(X_validation, max_len, tokenizer)"
   ]
  },
  {
   "cell_type": "code",
   "execution_count": 19,
   "id": "bf546d2d",
   "metadata": {},
   "outputs": [
    {
     "data": {
      "text/plain": [
       "((85529, 100), (52659, 100), (21383, 100))"
      ]
     },
     "execution_count": 19,
     "metadata": {},
     "output_type": "execute_result"
    }
   ],
   "source": [
    "X_train.shape, X_test.shape, X_validation.shape"
   ]
  },
  {
   "cell_type": "code",
   "execution_count": 20,
   "id": "68f3b5bd",
   "metadata": {},
   "outputs": [],
   "source": [
    "embedding_matrix = create_embedding_matrix(word_index, max_len)"
   ]
  },
  {
   "cell_type": "code",
   "execution_count": null,
   "id": "33c994a5",
   "metadata": {},
   "outputs": [],
   "source": []
  },
  {
   "cell_type": "code",
   "execution_count": null,
   "id": "464b207a",
   "metadata": {},
   "outputs": [],
   "source": []
  },
  {
   "cell_type": "code",
   "execution_count": 21,
   "id": "bde5e775",
   "metadata": {},
   "outputs": [],
   "source": [
    "kernel_size = 3\n",
    "pool_size = 4\n",
    "filters = 64\n",
    "dropout_rate = 0.3\n",
    "embedding_dim = 100\n",
    "lr = 0.0001"
   ]
  },
  {
   "cell_type": "code",
   "execution_count": 22,
   "id": "7d46bd79",
   "metadata": {},
   "outputs": [
    {
     "name": "stdout",
     "output_type": "stream",
     "text": [
      "Model: \"sequential\"\n",
      "_________________________________________________________________\n",
      "Layer (type)                 Output Shape              Param #   \n",
      "=================================================================\n",
      "embedding (Embedding)        (None, 100, 100)          2000000   \n",
      "_________________________________________________________________\n",
      "conv1d (Conv1D)              (None, 100, 64)           19264     \n",
      "_________________________________________________________________\n",
      "max_pooling1d (MaxPooling1D) (None, 25, 64)            0         \n",
      "_________________________________________________________________\n",
      "conv1d_1 (Conv1D)            (None, 25, 64)            12352     \n",
      "_________________________________________________________________\n",
      "max_pooling1d_1 (MaxPooling1 (None, 6, 64)             0         \n",
      "_________________________________________________________________\n",
      "dropout (Dropout)            (None, 6, 64)             0         \n",
      "_________________________________________________________________\n",
      "global_average_pooling1d (Gl (None, 64)                0         \n",
      "_________________________________________________________________\n",
      "flatten (Flatten)            (None, 64)                0         \n",
      "_________________________________________________________________\n",
      "dense (Dense)                (None, 1)                 65        \n",
      "=================================================================\n",
      "Total params: 2,031,681\n",
      "Trainable params: 31,681\n",
      "Non-trainable params: 2,000,000\n",
      "_________________________________________________________________\n"
     ]
    }
   ],
   "source": [
    "binary_model = create_model(num_of_classes = 2, num_of_features = max_features, embedding_dim = embedding_dim, \n",
    "                kernel_size = kernel_size, pool_size = pool_size, filters = filters, \n",
    "                dropout_rate = dropout_rate, maxlen = max_len, lr = lr, embedding_matrix = embedding_matrix)"
   ]
  },
  {
   "cell_type": "code",
   "execution_count": 23,
   "id": "25186763",
   "metadata": {},
   "outputs": [
    {
     "data": {
      "text/plain": [
       "{0: 0.5565975114535611, 1: 4.917155340922157}"
      ]
     },
     "execution_count": 23,
     "metadata": {},
     "output_type": "execute_result"
    }
   ],
   "source": [
    "weights = get_weights(y_train)\n",
    "\n",
    "# tezinu za klasu 1 podesavamo rucno jer se ispostavlja da\n",
    "# bolje klasifikuje TP instance ako nije bas tacna proporcija\n",
    "weights"
   ]
  },
  {
   "cell_type": "code",
   "execution_count": 24,
   "id": "2629cf69",
   "metadata": {},
   "outputs": [],
   "source": [
    "weights[1] = 3.99"
   ]
  },
  {
   "cell_type": "code",
   "execution_count": 25,
   "id": "4421f0e7",
   "metadata": {},
   "outputs": [],
   "source": [
    "epochs = 10\n",
    "batch_size = 64"
   ]
  },
  {
   "cell_type": "code",
   "execution_count": 26,
   "id": "e37be7b0",
   "metadata": {},
   "outputs": [
    {
     "name": "stdout",
     "output_type": "stream",
     "text": [
      "Epoch 1/10\n",
      "1337/1337 [==============================] - 17s 13ms/step - loss: 0.4695 - accuracy: 0.8161 - val_loss: 0.3344 - val_accuracy: 0.8839\n",
      "Epoch 2/10\n",
      "1337/1337 [==============================] - 16s 12ms/step - loss: 0.3363 - accuracy: 0.8727 - val_loss: 0.3054 - val_accuracy: 0.8932\n",
      "Epoch 3/10\n",
      "1337/1337 [==============================] - 19s 14ms/step - loss: 0.3039 - accuracy: 0.8932 - val_loss: 0.3572 - val_accuracy: 0.8713\n",
      "Epoch 4/10\n",
      "1337/1337 [==============================] - 21s 16ms/step - loss: 0.2825 - accuracy: 0.9040 - val_loss: 0.2738 - val_accuracy: 0.9088\n",
      "Epoch 5/10\n",
      "1337/1337 [==============================] - 23s 17ms/step - loss: 0.2685 - accuracy: 0.9100 - val_loss: 0.2384 - val_accuracy: 0.9219\n",
      "Epoch 6/10\n",
      "1337/1337 [==============================] - 25s 18ms/step - loss: 0.2593 - accuracy: 0.9134 - val_loss: 0.2470 - val_accuracy: 0.9171\n",
      "Epoch 7/10\n",
      "1337/1337 [==============================] - 25s 19ms/step - loss: 0.2491 - accuracy: 0.9169 - val_loss: 0.2157 - val_accuracy: 0.9278\n",
      "Epoch 8/10\n",
      "1337/1337 [==============================] - 21s 16ms/step - loss: 0.2423 - accuracy: 0.9201 - val_loss: 0.2096 - val_accuracy: 0.9293\n",
      "Epoch 9/10\n",
      "1337/1337 [==============================] - 21s 16ms/step - loss: 0.2360 - accuracy: 0.9215 - val_loss: 0.2285 - val_accuracy: 0.9223\n",
      "Epoch 10/10\n",
      "1337/1337 [==============================] - 21s 16ms/step - loss: 0.2326 - accuracy: 0.9226 - val_loss: 0.2540 - val_accuracy: 0.9124\n",
      "Trajanje obucavanja modela binarne klasifikacije:  209.93347477912903\n"
     ]
    }
   ],
   "source": [
    "start = time.time()    \n",
    "\n",
    "binary_history = binary_model.fit(X_train, y_train, batch_size=batch_size, epochs=epochs, \n",
    "                                 validation_data=(X_validation, y_validation), class_weight=weights)\n",
    "                                 #,callbacks=[early_stop]\n",
    "                                 \n",
    "print('Trajanje obucavanja modela binarne klasifikacije: ', time.time() - start)"
   ]
  },
  {
   "cell_type": "code",
   "execution_count": 27,
   "id": "420efe8e",
   "metadata": {},
   "outputs": [
    {
     "data": {
      "image/png": "[encoded data removed]",
      "text/plain": [
       "<Figure size 720x360 with 2 Axes>"
      ]
     },
     "metadata": {
      "needs_background": "light"
     },
     "output_type": "display_data"
    }
   ],
   "source": [
    "plot_graphs(binary_history, ['accuracy', 'loss'])"
   ]
  },
  {
   "cell_type": "code",
   "execution_count": null,
   "id": "dc0feb06",
   "metadata": {},
   "outputs": [],
   "source": []
  },
  {
   "cell_type": "code",
   "execution_count": 28,
   "id": "63cbae5a",
   "metadata": {},
   "outputs": [
    {
     "name": "stdout",
     "output_type": "stream",
     "text": [
      "1646/1646 [==============================] - 4s 3ms/step - loss: 0.2502 - accuracy: 0.9162\n",
      "Loss:  0.2502013146877289\n",
      "Test accuracy:  0.9162156581878662\n"
     ]
    }
   ],
   "source": [
    "scores = binary_model.evaluate(X_test, y_test)\n",
    "print('Loss: ', scores[0])\n",
    "print('Test accuracy: ', scores[1])"
   ]
  },
  {
   "cell_type": "code",
   "execution_count": 29,
   "id": "a97b83cc",
   "metadata": {},
   "outputs": [],
   "source": [
    "y_predicted = binary_model.predict(X_test)"
   ]
  },
  {
   "cell_type": "code",
   "execution_count": 30,
   "id": "63c80594",
   "metadata": {},
   "outputs": [],
   "source": [
    "y_labels = [int(score > 0.5) for score in y_predicted]"
   ]
  },
  {
   "cell_type": "code",
   "execution_count": 31,
   "id": "917299e6",
   "metadata": {},
   "outputs": [
    {
     "name": "stdout",
     "output_type": "stream",
     "text": [
      "F1:  0.6776267718836767\n"
     ]
    }
   ],
   "source": [
    "# F1 mera je bolja metrika kada su neizbalansirane klase\n",
    "\n",
    "print('F1: ', metrics.f1_score(y_test, y_labels))"
   ]
  },
  {
   "cell_type": "code",
   "execution_count": 32,
   "id": "740d9f42",
   "metadata": {},
   "outputs": [
    {
     "name": "stdout",
     "output_type": "stream",
     "text": [
      "[[43610  3695]\n",
      " [  717  4637]]\n"
     ]
    }
   ],
   "source": [
    "cf = metrics.confusion_matrix(y_test, y_labels)\n",
    "print(cf)"
   ]
  },
  {
   "cell_type": "code",
   "execution_count": 33,
   "id": "0f5a3b90",
   "metadata": {},
   "outputs": [
    {
     "data": {
      "image/png": "[encoded data removed]",
      "text/plain": [
       "<Figure size 1008x360 with 4 Axes>"
      ]
     },
     "metadata": {
      "needs_background": "light"
     },
     "output_type": "display_data"
    }
   ],
   "source": [
    "plot_cf(cf)"
   ]
  },
  {
   "cell_type": "code",
   "execution_count": null,
   "id": "bc5596a8",
   "metadata": {},
   "outputs": [],
   "source": [
    "print('---------------------- IZVESTAJ -----------------------\\n')\n",
    "print(metrics.classification_report(y_test, y_labels))"
   ]
  }
 ],
 "metadata": {
  "kernelspec": {
   "display_name": "Python 3",
   "language": "python",
   "name": "python3"
  },
  "language_info": {
   "codemirror_mode": {
    "name": "ipython",
    "version": 3
   },
   "file_extension": ".py",
   "mimetype": "text/x-python",
   "name": "python",
   "nbconvert_exporter": "python",
   "pygments_lexer": "ipython3",
   "version": "3.8.8"
  }
 },
 "nbformat": 4,
 "nbformat_minor": 5
}
