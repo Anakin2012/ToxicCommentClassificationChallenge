{
 "cells": [
  {
   "cell_type": "code",
   "execution_count": 1,
   "id": "112f0ed9",
   "metadata": {},
   "outputs": [],
   "source": [
    "import pandas as pd\n",
    "import numpy as np\n",
    "from matplotlib import pyplot as plt\n",
    "\n",
    "import pickle\n",
    "import sklearn\n",
    "from sklearn.utils import class_weight\n",
    "import time\n",
    "from sklearn import metrics\n",
    "import warnings\n",
    "\n",
    "warnings.simplefilter(action='ignore', category=FutureWarning)"
   ]
  },
  {
   "cell_type": "code",
   "execution_count": 2,
   "id": "f7b6b51e",
   "metadata": {},
   "outputs": [],
   "source": [
    "%run SharedFunctions.ipynb"
   ]
  },
  {
   "cell_type": "code",
   "execution_count": 3,
   "id": "5a4df134",
   "metadata": {},
   "outputs": [],
   "source": [
    "data = pd.read_csv('data/undersampled.csv')\n",
    "data.drop(columns=['Unnamed: 0'], inplace=True)\n"
   ]
  },
  {
   "cell_type": "code",
   "execution_count": 4,
   "id": "dcb829c4",
   "metadata": {},
   "outputs": [],
   "source": [
    "data.drop(columns=['Unnamed: 0.1'], inplace=True)"
   ]
  },
  {
   "cell_type": "code",
   "execution_count": 5,
   "id": "e2e39204",
   "metadata": {},
   "outputs": [
    {
     "data": {
      "text/plain": [
       "(44936, 9)"
      ]
     },
     "execution_count": 5,
     "metadata": {},
     "output_type": "execute_result"
    }
   ],
   "source": [
    "data.shape"
   ]
  },
  {
   "cell_type": "code",
   "execution_count": 6,
   "id": "f9a7f1dd",
   "metadata": {},
   "outputs": [
    {
     "data": {
      "text/plain": [
       "(22468, 9)"
      ]
     },
     "execution_count": 6,
     "metadata": {},
     "output_type": "execute_result"
    }
   ],
   "source": [
    "data[data['target']==0].shape\n",
    "data[data['target']==1].shape"
   ]
  },
  {
   "cell_type": "code",
   "execution_count": null,
   "id": "40956b90",
   "metadata": {},
   "outputs": [],
   "source": []
  },
  {
   "cell_type": "code",
   "execution_count": 7,
   "id": "175cbed6",
   "metadata": {},
   "outputs": [],
   "source": [
    "test_size = int(0.33*data.shape[0])\n",
    "train_size = data.shape[0] - test_size\n",
    "\n",
    "validation_size = int(0.2*train_size)\n",
    "train_size -= validation_size"
   ]
  },
  {
   "cell_type": "code",
   "execution_count": 8,
   "id": "8dda747b",
   "metadata": {},
   "outputs": [
    {
     "data": {
      "text/plain": [
       "(24087, 14828, 6021)"
      ]
     },
     "execution_count": 8,
     "metadata": {},
     "output_type": "execute_result"
    }
   ],
   "source": [
    "train_size, test_size, validation_size"
   ]
  },
  {
   "cell_type": "code",
   "execution_count": null,
   "id": "f558c8fe",
   "metadata": {},
   "outputs": [],
   "source": []
  },
  {
   "cell_type": "code",
   "execution_count": 9,
   "id": "a93172d5",
   "metadata": {},
   "outputs": [],
   "source": [
    "validation_data = data[:validation_size]\n",
    "train_data = data[validation_size : train_size+validation_size]\n",
    "test_data = data[train_size + validation_size: ]"
   ]
  },
  {
   "cell_type": "code",
   "execution_count": 10,
   "id": "8d38486b",
   "metadata": {},
   "outputs": [
    {
     "data": {
      "text/plain": [
       "((24087, 9), (14828, 9), (6021, 9))"
      ]
     },
     "execution_count": 10,
     "metadata": {},
     "output_type": "execute_result"
    }
   ],
   "source": [
    "train_data.shape, test_data.shape, validation_data.shape"
   ]
  },
  {
   "cell_type": "code",
   "execution_count": null,
   "id": "3127e099",
   "metadata": {},
   "outputs": [],
   "source": []
  },
  {
   "cell_type": "code",
   "execution_count": 11,
   "id": "fe82e2e9",
   "metadata": {},
   "outputs": [],
   "source": [
    "# uzima se recimo 20000 najfrekventinijh reci\n",
    "max_features = 20000\n",
    "\n",
    "# max duzina\n",
    "max_len = 100"
   ]
  },
  {
   "cell_type": "code",
   "execution_count": 12,
   "id": "7165de5b",
   "metadata": {},
   "outputs": [],
   "source": [
    "word_index, tokenizer = get_vocabulary(max_features, train_data, 'tokenizer_binary.pickle')"
   ]
  },
  {
   "cell_type": "code",
   "execution_count": 13,
   "id": "272925b5",
   "metadata": {},
   "outputs": [
    {
     "name": "stdout",
     "output_type": "stream",
     "text": [
      "Broj jedinstvenih reci: 58383\n"
     ]
    }
   ],
   "source": [
    "print('Broj jedinstvenih reci:', len(word_index))"
   ]
  },
  {
   "cell_type": "code",
   "execution_count": 14,
   "id": "ddb7b984",
   "metadata": {},
   "outputs": [],
   "source": [
    "X_train = to_sequence(train_data['comment_text'], max_len, tokenizer)\n",
    "X_test = to_sequence(test_data['comment_text'], max_len, tokenizer)\n",
    "X_validation = to_sequence(validation_data['comment_text'], max_len, tokenizer)"
   ]
  },
  {
   "cell_type": "code",
   "execution_count": 15,
   "id": "0b46704c",
   "metadata": {},
   "outputs": [],
   "source": [
    "y_train = train_data['target']\n",
    "y_test = test_data['target']\n",
    "y_validation = validation_data['target']"
   ]
  },
  {
   "cell_type": "code",
   "execution_count": 16,
   "id": "bba7ce17",
   "metadata": {},
   "outputs": [],
   "source": [
    "embedding_matrix = create_embedding_matrix(word_index, max_len)"
   ]
  },
  {
   "cell_type": "code",
   "execution_count": 17,
   "id": "c12b4932",
   "metadata": {},
   "outputs": [],
   "source": [
    "kernel_size = 3\n",
    "pool_size = 3\n",
    "filters = 32\n",
    "dropout_rate = 0.4"
   ]
  },
  {
   "cell_type": "code",
   "execution_count": 18,
   "id": "1d11a19b",
   "metadata": {},
   "outputs": [
    {
     "name": "stdout",
     "output_type": "stream",
     "text": [
      "Model: \"sequential\"\n",
      "_________________________________________________________________\n",
      "Layer (type)                 Output Shape              Param #   \n",
      "=================================================================\n",
      "embedding (Embedding)        (None, 100, 100)          2000000   \n",
      "_________________________________________________________________\n",
      "conv1d (Conv1D)              (None, 100, 32)           9632      \n",
      "_________________________________________________________________\n",
      "max_pooling1d (MaxPooling1D) (None, 33, 32)            0         \n",
      "_________________________________________________________________\n",
      "conv1d_1 (Conv1D)            (None, 33, 32)            3104      \n",
      "_________________________________________________________________\n",
      "max_pooling1d_1 (MaxPooling1 (None, 11, 32)            0         \n",
      "_________________________________________________________________\n",
      "dropout (Dropout)            (None, 11, 32)            0         \n",
      "_________________________________________________________________\n",
      "global_average_pooling1d (Gl (None, 32)                0         \n",
      "_________________________________________________________________\n",
      "dense (Dense)                (None, 1)                 33        \n",
      "=================================================================\n",
      "Total params: 2,012,769\n",
      "Trainable params: 12,769\n",
      "Non-trainable params: 2,000,000\n",
      "_________________________________________________________________\n"
     ]
    }
   ],
   "source": [
    "binary_model = create_model(num_of_classes = 2, num_of_features = max_features, embedding_dim = 100, \n",
    "                kernel_size = kernel_size, pool_size = pool_size, filters = filters, \n",
    "                dropout_rate = dropout_rate, maxlen = max_len, embedding_matrix = embedding_matrix)"
   ]
  },
  {
   "cell_type": "code",
   "execution_count": 19,
   "id": "550a160a",
   "metadata": {},
   "outputs": [],
   "source": [
    "lr = 0.001\n",
    "\n",
    "binary_model.compile(loss='binary_crossentropy', optimizer=Adam(lr), metrics=[f1_m, recall_m, precision_m, 'acc'])"
   ]
  },
  {
   "cell_type": "code",
   "execution_count": 20,
   "id": "3215d6d7",
   "metadata": {},
   "outputs": [
    {
     "data": {
      "text/plain": [
       "{0: 1.009090909090909, 1: 0.9910714285714286}"
      ]
     },
     "execution_count": 20,
     "metadata": {},
     "output_type": "execute_result"
    }
   ],
   "source": [
    "weights = get_weights(y_train)\n",
    "weights"
   ]
  },
  {
   "cell_type": "code",
   "execution_count": 21,
   "id": "f563148d",
   "metadata": {},
   "outputs": [],
   "source": [
    "epochs = 10\n",
    "batch_size = 128"
   ]
  },
  {
   "cell_type": "code",
   "execution_count": 22,
   "id": "0dbd7a7e",
   "metadata": {},
   "outputs": [
    {
     "name": "stdout",
     "output_type": "stream",
     "text": [
      "Epoch 1/10\n",
      "189/189 [==============================] - 7s 36ms/step - loss: 0.4994 - f1_m: 0.7716 - recall_m: 0.8047 - precision_m: 0.7607 - acc: 0.7698 - val_loss: 0.3826 - val_f1_m: 0.8552 - val_recall_m: 0.8896 - val_precision_m: 0.8277 - val_acc: 0.8550\n",
      "Epoch 2/10\n",
      "189/189 [==============================] - 6s 33ms/step - loss: 0.3571 - f1_m: 0.8658 - recall_m: 0.8600 - precision_m: 0.8749 - acc: 0.8664 - val_loss: 0.3258 - val_f1_m: 0.8791 - val_recall_m: 0.8572 - val_precision_m: 0.9044 - val_acc: 0.8801\n",
      "Epoch 3/10\n",
      "189/189 [==============================] - 6s 33ms/step - loss: 0.3188 - f1_m: 0.8782 - recall_m: 0.8627 - precision_m: 0.8976 - acc: 0.8805 - val_loss: 0.3009 - val_f1_m: 0.8925 - val_recall_m: 0.8859 - val_precision_m: 0.9015 - val_acc: 0.8914\n",
      "Epoch 4/10\n",
      "189/189 [==============================] - 6s 33ms/step - loss: 0.2921 - f1_m: 0.8901 - recall_m: 0.8738 - precision_m: 0.9093 - acc: 0.8916 - val_loss: 0.2844 - val_f1_m: 0.8954 - val_recall_m: 0.8750 - val_precision_m: 0.9190 - val_acc: 0.8962\n",
      "Epoch 5/10\n",
      "189/189 [==============================] - 6s 33ms/step - loss: 0.2785 - f1_m: 0.8919 - recall_m: 0.8732 - precision_m: 0.9137 - acc: 0.8939 - val_loss: 0.2800 - val_f1_m: 0.8990 - val_recall_m: 0.9007 - val_precision_m: 0.8991 - val_acc: 0.8970\n",
      "Epoch 6/10\n",
      "189/189 [==============================] - 6s 33ms/step - loss: 0.2656 - f1_m: 0.8952 - recall_m: 0.8770 - precision_m: 0.9170 - acc: 0.8969 - val_loss: 0.2701 - val_f1_m: 0.8946 - val_recall_m: 0.8692 - val_precision_m: 0.9236 - val_acc: 0.8960\n",
      "Epoch 7/10\n",
      "189/189 [==============================] - 6s 33ms/step - loss: 0.2555 - f1_m: 0.8988 - recall_m: 0.8801 - precision_m: 0.9210 - acc: 0.9011 - val_loss: 0.2656 - val_f1_m: 0.8962 - val_recall_m: 0.8694 - val_precision_m: 0.9271 - val_acc: 0.8979\n",
      "Epoch 8/10\n",
      "189/189 [==============================] - 6s 31ms/step - loss: 0.2461 - f1_m: 0.9030 - recall_m: 0.8854 - precision_m: 0.9232 - acc: 0.9050 - val_loss: 0.2631 - val_f1_m: 0.9027 - val_recall_m: 0.8926 - val_precision_m: 0.9145 - val_acc: 0.9022\n",
      "Epoch 9/10\n",
      "189/189 [==============================] - 6s 33ms/step - loss: 0.2396 - f1_m: 0.9039 - recall_m: 0.8868 - precision_m: 0.9240 - acc: 0.9058 - val_loss: 0.2606 - val_f1_m: 0.8978 - val_recall_m: 0.8695 - val_precision_m: 0.9301 - val_acc: 0.8997\n",
      "Epoch 10/10\n",
      "189/189 [==============================] - 6s 33ms/step - loss: 0.2329 - f1_m: 0.9089 - recall_m: 0.8921 - precision_m: 0.9288 - acc: 0.9107 - val_loss: 0.2709 - val_f1_m: 0.9049 - val_recall_m: 0.9171 - val_precision_m: 0.8945 - val_acc: 0.9022l_m: 0.8940 - - ETA: 0s - loss: 0.2317 - f1_m: 0.9090 - recall_m: 0.8932 - precision_m: 0.9280 - acc:\n",
      "Trajanje obucavanja modela binarne klasifikacije:  66.13093996047974\n"
     ]
    }
   ],
   "source": [
    "start = time.time()    \n",
    "\n",
    "binary_history = binary_model.fit(X_train, y_train, batch_size=batch_size, epochs=epochs, \n",
    "                                 validation_data=(X_validation, y_validation), class_weight=weights)\n",
    "                                 #,callbacks=[early_stop]\n",
    "                                 \n",
    "print('Trajanje obucavanja modela binarne klasifikacije: ', time.time() - start)"
   ]
  },
  {
   "cell_type": "code",
   "execution_count": 23,
   "id": "538b89f4",
   "metadata": {},
   "outputs": [
    {
     "data": {
      "image/png": "[encoded data removed]",
      "text/plain": [
       "<Figure size 720x360 with 2 Axes>"
      ]
     },
     "metadata": {
      "needs_background": "light"
     },
     "output_type": "display_data"
    }
   ],
   "source": [
    "plot_graphs(binary_history, ['acc', 'loss'])"
   ]
  },
  {
   "cell_type": "code",
   "execution_count": 24,
   "id": "ec74ec2f",
   "metadata": {},
   "outputs": [
    {
     "name": "stdout",
     "output_type": "stream",
     "text": [
      "464/464 [==============================] - 2s 5ms/step - loss: 0.2708 - f1_m: 0.8953 - recall_m: 0.9169 - precision_m: 0.8802 - acc: 0.8978\n"
     ]
    }
   ],
   "source": [
    "scores = binary_model.evaluate(X_test, y_test)"
   ]
  },
  {
   "cell_type": "code",
   "execution_count": 29,
   "id": "2321c269",
   "metadata": {},
   "outputs": [],
   "source": [
    "y_pred = binary_model.predict(X_test)\n",
    "\n",
    "label = [int(score > 0.5) for score in y_pred]"
   ]
  },
  {
   "cell_type": "code",
   "execution_count": 30,
   "id": "327a60b2",
   "metadata": {},
   "outputs": [],
   "source": [
    "cf = metrics.confusion_matrix(y_test, label)"
   ]
  },
  {
   "cell_type": "code",
   "execution_count": 31,
   "id": "66eade42",
   "metadata": {},
   "outputs": [
    {
     "data": {
      "text/plain": [
       "array([[6616,  905],\n",
       "       [ 610, 6697]], dtype=int64)"
      ]
     },
     "execution_count": 31,
     "metadata": {},
     "output_type": "execute_result"
    }
   ],
   "source": [
    "cf"
   ]
  },
  {
   "cell_type": "code",
   "execution_count": 32,
   "id": "24452022",
   "metadata": {},
   "outputs": [
    {
     "data": {
      "image/png": "[encoded data removed]",
      "text/plain": [
       "<Figure size 288x288 with 2 Axes>"
      ]
     },
     "metadata": {
      "needs_background": "light"
     },
     "output_type": "display_data"
    }
   ],
   "source": [
    "plt.matshow(cf)\n",
    "plt.colorbar()\n",
    "plt.show()"
   ]
  },
  {
   "cell_type": "code",
   "execution_count": null,
   "id": "3a6ad95c",
   "metadata": {},
   "outputs": [],
   "source": []
  }
 ],
 "metadata": {
  "kernelspec": {
   "display_name": "Python 3",
   "language": "python",
   "name": "python3"
  },
  "language_info": {
   "codemirror_mode": {
    "name": "ipython",
    "version": 3
   },
   "file_extension": ".py",
   "mimetype": "text/x-python",
   "name": "python",
   "nbconvert_exporter": "python",
   "pygments_lexer": "ipython3",
   "version": "3.8.8"
  }
 },
 "nbformat": 4,
 "nbformat_minor": 5
}
