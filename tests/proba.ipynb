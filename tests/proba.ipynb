{
 "cells": [
  {
   "cell_type": "code",
   "execution_count": 1,
   "id": "42eda1a3",
   "metadata": {},
   "outputs": [],
   "source": [
    "import pandas as pd\n",
    "import numpy as np\n",
    "from matplotlib import pyplot as plt"
   ]
  },
  {
   "cell_type": "code",
   "execution_count": 2,
   "id": "0ff68467",
   "metadata": {},
   "outputs": [],
   "source": [
    "import tensorflow as tf\n",
    "from tensorflow import keras\n",
    "from tensorflow.keras.models import Sequential\n",
    "from tensorflow.keras.layers import Embedding, LSTM, Dense,Bidirectional, GlobalAveragePooling1D, Flatten, Dropout, Conv1D, MaxPooling1D\n",
    "from tensorflow.keras import preprocessing\n",
    "from tensorflow.keras.optimizers import Adam\n",
    "from tensorflow.keras.preprocessing.text import Tokenizer\n",
    "from tensorflow.keras import metrics\n",
    "from keras.callbacks import EarlyStopping\n",
    "from keras import backend as K\n",
    "from tensorflow.keras import utils\n",
    "\n",
    "import pickle\n",
    "from sklearn.utils import class_weight\n",
    "import sklearn\n",
    "import time\n",
    "\n"
   ]
  },
  {
   "cell_type": "code",
   "execution_count": null,
   "id": "f708123e",
   "metadata": {},
   "outputs": [],
   "source": []
  },
  {
   "cell_type": "code",
   "execution_count": 3,
   "id": "1e5f198b",
   "metadata": {},
   "outputs": [
    {
     "data": {
      "text/plain": [
       "(223453, 9)"
      ]
     },
     "execution_count": 3,
     "metadata": {},
     "output_type": "execute_result"
    }
   ],
   "source": [
    "data = pd.read_csv('data/data_longer.csv')\n",
    "data.drop(columns=['Unnamed: 0'], inplace=True)\n",
    "data.shape"
   ]
  },
  {
   "cell_type": "markdown",
   "id": "b2b68de5",
   "metadata": {},
   "source": [
    "### 1. Podela na trening, test, i validacioni skup"
   ]
  },
  {
   "cell_type": "code",
   "execution_count": 4,
   "id": "84318f29",
   "metadata": {},
   "outputs": [
    {
     "data": {
      "text/plain": [
       "(127580, 63978, 31895)"
      ]
     },
     "execution_count": 4,
     "metadata": {},
     "output_type": "execute_result"
    }
   ],
   "source": [
    "# Ovo je prepisano iz prethodne sveske\n",
    "\n",
    "train_size = 159571 - 96\n",
    "test_size = 63978\n",
    "validation_size = int(0.2*train_size)\n",
    "train_size = train_size - validation_size\n",
    "\n",
    "validation_data = data[:validation_size]\n",
    "train_data = data[validation_size:train_size+validation_size]\n",
    "test_data = data[train_size+validation_size : ]\n",
    "\n",
    "train_data.shape[0], test_data.shape[0], validation_data.shape[0]"
   ]
  },
  {
   "cell_type": "code",
   "execution_count": null,
   "id": "48197843",
   "metadata": {},
   "outputs": [],
   "source": []
  },
  {
   "cell_type": "code",
   "execution_count": 5,
   "id": "c73c3e6e",
   "metadata": {},
   "outputs": [],
   "source": [
    "y_train = train_data['target']\n",
    "y_test = test_data['target']\n",
    "y_validation = validation_data['target']"
   ]
  },
  {
   "cell_type": "code",
   "execution_count": 6,
   "id": "42d90f79",
   "metadata": {},
   "outputs": [
    {
     "data": {
      "text/plain": [
       "(114664, 9)"
      ]
     },
     "execution_count": 6,
     "metadata": {},
     "output_type": "execute_result"
    }
   ],
   "source": [
    "train_data[train_data['target']==0].shape"
   ]
  },
  {
   "cell_type": "code",
   "execution_count": 7,
   "id": "1be0578e",
   "metadata": {},
   "outputs": [
    {
     "data": {
      "text/plain": [
       "(12916, 9)"
      ]
     },
     "execution_count": 7,
     "metadata": {},
     "output_type": "execute_result"
    }
   ],
   "source": [
    "train_data[train_data['target']==1].shape"
   ]
  },
  {
   "cell_type": "code",
   "execution_count": null,
   "id": "09ef3fb5",
   "metadata": {},
   "outputs": [],
   "source": []
  },
  {
   "cell_type": "markdown",
   "id": "942d1d89",
   "metadata": {},
   "source": [
    "### 2. Tokenizacija teksta i transformacija u vektore"
   ]
  },
  {
   "cell_type": "code",
   "execution_count": 8,
   "id": "7a219729",
   "metadata": {},
   "outputs": [],
   "source": [
    "# uzima se recimo 20000 najfrekventinijh reci\n",
    "max_features = 20000\n",
    "\n",
    "# max duzina\n",
    "max_len = 100"
   ]
  },
  {
   "cell_type": "markdown",
   "id": "307b7815",
   "metadata": {},
   "source": [
    "Instance će biti podeljene na reči, izdvojiće se neki broj najfrekventnijih reči, a onda će biti pretvorene u vektore reči sekvenci"
   ]
  },
  {
   "cell_type": "code",
   "execution_count": 9,
   "id": "327e9fd4",
   "metadata": {},
   "outputs": [
    {
     "data": {
      "text/plain": [
       "187048"
      ]
     },
     "execution_count": 9,
     "metadata": {},
     "output_type": "execute_result"
    }
   ],
   "source": [
    "tokenizer = Tokenizer(num_words=max_features)\n",
    "tokenizer.fit_on_texts(train_data['comment_text'])\n",
    "\n",
    "# vokabular:\n",
    "word_index = tokenizer.word_index\n",
    "\n",
    "# broj jedinstvenih tokena:\n",
    "len(word_index)"
   ]
  },
  {
   "cell_type": "code",
   "execution_count": 10,
   "id": "76bca05e",
   "metadata": {},
   "outputs": [],
   "source": [
    "# cuvanje tokenizera\n",
    "with open('data/tokenizer_undersampled.pickle', 'wb') as f:\n",
    "    pickle.dump(tokenizer, f)"
   ]
  },
  {
   "cell_type": "code",
   "execution_count": 11,
   "id": "0bab6c2b",
   "metadata": {},
   "outputs": [],
   "source": [
    "def to_sequence(text, maxlen):\n",
    "    \n",
    "    sequences = tokenizer.texts_to_sequences(text)\n",
    "    padded = preprocessing.sequence.pad_sequences(sequences, maxlen=maxlen)\n",
    "    \n",
    "    return padded "
   ]
  },
  {
   "cell_type": "code",
   "execution_count": 12,
   "id": "2eb2f7a5",
   "metadata": {},
   "outputs": [],
   "source": [
    "# Podaci za binarnu klasifikaciju\n",
    "X_train = to_sequence(train_data['comment_text'], max_len)\n",
    "X_test = to_sequence(test_data['comment_text'], max_len)\n",
    "X_validation = to_sequence(validation_data['comment_text'], max_len)"
   ]
  },
  {
   "cell_type": "code",
   "execution_count": null,
   "id": "04781dc7",
   "metadata": {},
   "outputs": [],
   "source": []
  },
  {
   "cell_type": "code",
   "execution_count": null,
   "id": "180057c4",
   "metadata": {},
   "outputs": [],
   "source": []
  },
  {
   "cell_type": "code",
   "execution_count": null,
   "id": "b1b9f2c5",
   "metadata": {},
   "outputs": [],
   "source": []
  },
  {
   "cell_type": "code",
   "execution_count": 13,
   "id": "148d550a",
   "metadata": {},
   "outputs": [],
   "source": [
    "# Kreiranje embedding matrice na osnovu Glove"
   ]
  },
  {
   "cell_type": "code",
   "execution_count": 14,
   "id": "e610c60e",
   "metadata": {},
   "outputs": [],
   "source": [
    "def create_embedding_matrix(word_index, embedding_dim):\n",
    "    word_embeddings = {}\n",
    "    with open('data/glove.6B.100d.txt', 'r', encoding='utf-8') as f:\n",
    "        for line in f:\n",
    "            values = line.split()\n",
    "            word = values[0]\n",
    "            coefs = np.asarray(values[1:], dtype='float32')\n",
    "            word_embeddings[word] = coefs\n",
    "        \n",
    "        \n",
    "    embedding_matrix = np.zeros((max_features, embedding_dim))\n",
    "    for word, i in word_index.items():\n",
    "        if i >= max_features:\n",
    "            break\n",
    "        \n",
    "        embedding_vector = word_embeddings.get(word)\n",
    "    \n",
    "        if embedding_vector is not None:\n",
    "            embedding_matrix[i] = embedding_vector\n",
    "            \n",
    "    return embedding_matrix"
   ]
  },
  {
   "cell_type": "code",
   "execution_count": 15,
   "id": "db999b7a",
   "metadata": {},
   "outputs": [],
   "source": [
    "embedding_matrix = create_embedding_matrix(word_index, max_len)"
   ]
  },
  {
   "cell_type": "code",
   "execution_count": null,
   "id": "ac6bbaf4",
   "metadata": {},
   "outputs": [],
   "source": []
  },
  {
   "cell_type": "markdown",
   "id": "f17e0262",
   "metadata": {},
   "source": [
    "### 3. Modeli"
   ]
  },
  {
   "cell_type": "markdown",
   "id": "07b0e9b9",
   "metadata": {},
   "source": [
    "Model će biti isti za binarnu i višeklasnu klasifikaciju. Jedina razlika u broju jedinica i aktivacionoj funkciji poslednjeg sloja mreže. Funkcija će imati parametar za broj klasa. "
   ]
  },
  {
   "cell_type": "code",
   "execution_count": 16,
   "id": "6829815d",
   "metadata": {},
   "outputs": [],
   "source": [
    "# funckija koja kreira model\n",
    "\n",
    "def create_model(num_of_classes, num_of_features, embedding_dim, \n",
    "                kernel_size, pool_size, filters, dropout_rate, maxlen,\n",
    "                embedding_matrix):\n",
    "    \n",
    "    # za poslednji sloj, u zavisnosti da li je binarna ili viseklasna\n",
    "    # razlikuju se aktivaciona funkcija i broj jedinica\n",
    "    if num_of_classes == 2:\n",
    "        activation = 'sigmoid'\n",
    "        units = 1\n",
    "    else:\n",
    "        activation = 'softmax'\n",
    "        units = num_of_classes\n",
    "        \n",
    "    \n",
    "    model = Sequential([\n",
    "        \n",
    "        Embedding(input_dim = num_of_features,\n",
    "                 output_dim = embedding_dim,\n",
    "                 input_length = maxlen,\n",
    "                 weights = [embedding_matrix],\n",
    "                 trainable = False),\n",
    "        \n",
    "        Bidirectional(LSTM(64, return_sequences=True)),\n",
    "        \n",
    "        Dropout(dropout_rate),\n",
    "        Dense(64, activation='relu'),\n",
    "        Dense(units, activation=activation)\n",
    "    ])\n",
    "    \n",
    "    model.summary()\n",
    "    \n",
    "    return model"
   ]
  },
  {
   "cell_type": "code",
   "execution_count": 17,
   "id": "db81de75",
   "metadata": {},
   "outputs": [],
   "source": [
    "# Funkcije za metrike koje se prate\n",
    "\n",
    "def recall_m(y_true, y_pred):\n",
    "    true_positives = K.sum(K.round(K.clip(y_true * y_pred, 0, 1)))\n",
    "    possible_positives = K.sum(K.round(K.clip(y_true, 0, 1)))\n",
    "    recall = true_positives / (possible_positives + K.epsilon())\n",
    "    return recall\n",
    "\n",
    "def precision_m(y_true, y_pred):\n",
    "    true_positives = K.sum(K.round(K.clip(y_true * y_pred, 0, 1)))\n",
    "    predicted_positives = K.sum(K.round(K.clip(y_pred, 0, 1)))\n",
    "    precision = true_positives / (predicted_positives + K.epsilon())\n",
    "    return precision\n",
    "\n",
    "def f1_m(y_true, y_pred):\n",
    "    precision = precision_m(y_true, y_pred)\n",
    "    recall = recall_m(y_true, y_pred)\n",
    "    return 2*((precision*recall)/(precision+recall+K.epsilon()))"
   ]
  },
  {
   "cell_type": "code",
   "execution_count": 18,
   "id": "8b245cd7",
   "metadata": {},
   "outputs": [],
   "source": [
    "# Funkcija koja racuna tezine za razlicite klase\n",
    "# Dodelice vece tezine instancama manjinske klase\n",
    "\n",
    "def get_weights(y_train):\n",
    "    weights = class_weight.compute_class_weight('balanced', np.unique(y_train), y_train)\n",
    "    weights = dict(enumerate(weights))\n",
    "\n",
    "    return weights"
   ]
  },
  {
   "cell_type": "code",
   "execution_count": null,
   "id": "4b0b446f",
   "metadata": {},
   "outputs": [],
   "source": []
  },
  {
   "cell_type": "code",
   "execution_count": 19,
   "id": "73f1a6e6",
   "metadata": {},
   "outputs": [],
   "source": [
    "# Funkcija koja plotuje grafike za metrike tokom treniranja\n",
    "\n",
    "def plot_graphs(history, metrics):\n",
    "    \n",
    "    plt.figure(figsize=(10, 5))\n",
    "    \n",
    "    plt.subplot(1, 2, 1)\n",
    "    plt.title(str(metrics[0]))\n",
    "    accuracy = history.history[str(metrics[0])]\n",
    "    val_accuracy = history.history['val_' + metrics[0]]\n",
    "    plt.plot(range(0, history.epoch[-1]+1), accuracy, color='red', label='training')\n",
    "    plt.plot(range(0, history.epoch[-1]+1), val_accuracy, color='orange', label='validation')\n",
    "    plt.xlabel('epochs')\n",
    "    plt.legend(loc='best')\n",
    "    \n",
    "    plt.subplot(1, 2, 2)\n",
    "    plt.title(str(metrics[1]))\n",
    "    loss = history.history[str(metrics[1])]\n",
    "    val_loss = history.history['val_' + str(metrics[1])]\n",
    "    plt.plot(range(0, history.epoch[-1]+1), loss, color='red', label='training')\n",
    "    plt.plot(range(0, history.epoch[-1]+1), val_loss, color='orange', label='validation')\n",
    "    plt.xlabel('epochs')\n",
    "    plt.legend(loc='best')\n",
    "    \n",
    "    plt.show()"
   ]
  },
  {
   "cell_type": "code",
   "execution_count": null,
   "id": "c2055f3b",
   "metadata": {},
   "outputs": [],
   "source": []
  },
  {
   "cell_type": "code",
   "execution_count": 20,
   "id": "cecd2361",
   "metadata": {},
   "outputs": [],
   "source": [
    "kernel_size = 3\n",
    "pool_size = 3\n",
    "filters = 64\n",
    "dropout_rate = 0.3"
   ]
  },
  {
   "cell_type": "code",
   "execution_count": null,
   "id": "e2809a72",
   "metadata": {},
   "outputs": [],
   "source": []
  },
  {
   "cell_type": "code",
   "execution_count": 21,
   "id": "d40b6065",
   "metadata": {},
   "outputs": [
    {
     "name": "stdout",
     "output_type": "stream",
     "text": [
      "Model: \"sequential\"\n",
      "_________________________________________________________________\n",
      "Layer (type)                 Output Shape              Param #   \n",
      "=================================================================\n",
      "embedding (Embedding)        (None, 100, 100)          2000000   \n",
      "_________________________________________________________________\n",
      "bidirectional (Bidirectional (None, 100, 128)          84480     \n",
      "_________________________________________________________________\n",
      "dropout (Dropout)            (None, 100, 128)          0         \n",
      "_________________________________________________________________\n",
      "dense (Dense)                (None, 100, 64)           8256      \n",
      "_________________________________________________________________\n",
      "dense_1 (Dense)              (None, 100, 1)            65        \n",
      "=================================================================\n",
      "Total params: 2,092,801\n",
      "Trainable params: 92,801\n",
      "Non-trainable params: 2,000,000\n",
      "_________________________________________________________________\n"
     ]
    }
   ],
   "source": [
    "binary_model = create_model(num_of_classes = 2, num_of_features = max_features, embedding_dim = 100, \n",
    "                kernel_size = kernel_size, pool_size = pool_size, filters = filters, \n",
    "                dropout_rate = dropout_rate, maxlen = max_len, embedding_matrix = embedding_matrix)"
   ]
  },
  {
   "cell_type": "code",
   "execution_count": 22,
   "id": "3603ead9",
   "metadata": {},
   "outputs": [],
   "source": [
    "lr = 0.0001"
   ]
  },
  {
   "cell_type": "code",
   "execution_count": 23,
   "id": "7207be6f",
   "metadata": {},
   "outputs": [],
   "source": [
    "binary_model.compile(loss='binary_crossentropy', optimizer=Adam(lr), metrics=[recall_m, precision_m, f1_m])\n",
    "# multiclass_model.compile(loss='categorical_crossentropy', optimizer=Adam(lr), metrics=[recall_m, precision_m, f1_m])"
   ]
  },
  {
   "cell_type": "code",
   "execution_count": null,
   "id": "6088c386",
   "metadata": {},
   "outputs": [],
   "source": []
  },
  {
   "cell_type": "code",
   "execution_count": 24,
   "id": "e0e4fd55",
   "metadata": {},
   "outputs": [
    {
     "name": "stderr",
     "output_type": "stream",
     "text": [
      "C:\\ProgramData\\Anaconda3\\lib\\site-packages\\sklearn\\utils\\validation.py:70: FutureWarning: Pass classes=[0 1], y=31895     0\n",
      "31896     0\n",
      "31897     1\n",
      "31898     0\n",
      "31899     0\n",
      "         ..\n",
      "159470    0\n",
      "159471    0\n",
      "159472    0\n",
      "159473    0\n",
      "159474    0\n",
      "Name: target, Length: 127580, dtype: int64 as keyword args. From version 1.0 (renaming of 0.25) passing these as positional arguments will result in an error\n",
      "  warnings.warn(f\"Pass {args_msg} as keyword args. From version \"\n"
     ]
    }
   ],
   "source": [
    "weights_binary = get_weights(y_train)\n",
    "#weights_multi = get_weights(y_train_multi)"
   ]
  },
  {
   "cell_type": "code",
   "execution_count": null,
   "id": "0b098fc6",
   "metadata": {},
   "outputs": [],
   "source": []
  },
  {
   "cell_type": "markdown",
   "id": "9dc9a4d6",
   "metadata": {},
   "source": [
    "### Treniranje modela"
   ]
  },
  {
   "cell_type": "code",
   "execution_count": 25,
   "id": "27555ff5",
   "metadata": {},
   "outputs": [],
   "source": [
    "epochs = 10\n",
    "batch_size = 64"
   ]
  },
  {
   "cell_type": "code",
   "execution_count": null,
   "id": "8b3400f8",
   "metadata": {},
   "outputs": [],
   "source": []
  },
  {
   "cell_type": "code",
   "execution_count": null,
   "id": "a7437dcc",
   "metadata": {},
   "outputs": [
    {
     "name": "stdout",
     "output_type": "stream",
     "text": [
      "Epoch 1/10\n",
      "1994/1994 [==============================] - 212s 106ms/step - loss: 0.4099 - recall_m: 80.9155 - precision_m: 0.3687 - f1_m: 0.7334 - val_loss: 0.2502 - val_recall_m: 81.0016 - val_precision_m: 0.5215 - val_f1_m: 1.0357\n",
      "Epoch 2/10\n",
      "1994/1994 [==============================] - 225s 113ms/step - loss: 0.3146 - recall_m: 86.1265 - precision_m: 0.4385 - f1_m: 0.8720 - val_loss: 0.2414 - val_recall_m: 84.3166 - val_precision_m: 0.5287 - val_f1_m: 1.0501\n",
      "Epoch 3/10\n",
      "1994/1994 [==============================] - 227s 114ms/step - loss: 0.2895 - recall_m: 87.3781 - precision_m: 0.4587 - f1_m: 0.9121 - val_loss: 0.2797 - val_recall_m: 88.3456 - val_precision_m: 0.4861 - val_f1_m: 0.9665\n",
      "Epoch 4/10\n",
      "1994/1994 [==============================] - 218s 109ms/step - loss: 0.2761 - recall_m: 88.4438 - precision_m: 0.4720 - f1_m: 0.9384 - val_loss: 0.3292 - val_recall_m: 93.8278 - val_precision_m: 0.3803 - val_f1_m: 0.7573\n",
      "Epoch 5/10\n",
      " 299/1994 [===>..........................] - ETA: 2:42 - loss: 0.2689 - recall_m: 88.6379 - precision_m: 0.4814 - f1_m: 0.9570"
     ]
    }
   ],
   "source": [
    "start = time.time()    \n",
    "\n",
    "binary_history = binary_model.fit(X_train, y_train, batch_size=batch_size, epochs=epochs, \n",
    "                                 validation_data=(X_validation, y_validation), class_weight=weights_binary \n",
    "                                 #weights = weights_binary ,callbacks=[early_stop]\n",
    "                                 )\n",
    "\n",
    "print('Trajanje obucavanja modela binarne klasifikacije: ', time.time() - start)"
   ]
  },
  {
   "cell_type": "code",
   "execution_count": null,
   "id": "bf072036",
   "metadata": {},
   "outputs": [],
   "source": []
  },
  {
   "cell_type": "code",
   "execution_count": null,
   "id": "5502c6fc",
   "metadata": {},
   "outputs": [],
   "source": []
  },
  {
   "cell_type": "code",
   "execution_count": null,
   "id": "a0770f0c",
   "metadata": {},
   "outputs": [],
   "source": [
    "plot_graphs(binary_history, ['f1_m', 'loss'])"
   ]
  },
  {
   "cell_type": "code",
   "execution_count": null,
   "id": "d03f31f1",
   "metadata": {},
   "outputs": [],
   "source": [
    "scores = binary_model.evaluate(X_test, y_test)"
   ]
  },
  {
   "cell_type": "code",
   "execution_count": null,
   "id": "97f616ff",
   "metadata": {},
   "outputs": [],
   "source": [
    "y_pred = binary_model.predict(X_test)"
   ]
  },
  {
   "cell_type": "code",
   "execution_count": null,
   "id": "e1fadd75",
   "metadata": {},
   "outputs": [],
   "source": [
    "sklearn.metrics.confusion_matrix(y_test, np.argmax(y_pred, axis=1))"
   ]
  },
  {
   "cell_type": "code",
   "execution_count": null,
   "id": "e0aa20fa",
   "metadata": {},
   "outputs": [],
   "source": []
  },
  {
   "cell_type": "code",
   "execution_count": null,
   "id": "3cd2638f",
   "metadata": {},
   "outputs": [],
   "source": []
  },
  {
   "cell_type": "code",
   "execution_count": null,
   "id": "a283dcfd",
   "metadata": {},
   "outputs": [],
   "source": []
  },
  {
   "cell_type": "code",
   "execution_count": null,
   "id": "bdb78ea7",
   "metadata": {},
   "outputs": [],
   "source": []
  }
 ],
 "metadata": {
  "kernelspec": {
   "display_name": "Python 3",
   "language": "python",
   "name": "python3"
  },
  "language_info": {
   "codemirror_mode": {
    "name": "ipython",
    "version": 3
   },
   "file_extension": ".py",
   "mimetype": "text/x-python",
   "name": "python",
   "nbconvert_exporter": "python",
   "pygments_lexer": "ipython3",
   "version": "3.8.8"
  }
 },
 "nbformat": 4,
 "nbformat_minor": 5
}
