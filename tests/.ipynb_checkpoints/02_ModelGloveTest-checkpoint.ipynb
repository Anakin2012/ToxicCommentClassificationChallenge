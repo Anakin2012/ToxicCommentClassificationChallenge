{
 "cells": [
  {
   "cell_type": "code",
   "execution_count": 20,
   "id": "eeca9872",
   "metadata": {},
   "outputs": [],
   "source": [
    "import numpy as np\n",
    "import pandas as pd\n",
    "from matplotlib import pyplot as plt\n",
    "import tensorflow as tf\n",
    "from tensorflow import keras\n",
    "from tensorflow.keras.models import Sequential\n",
    "from tensorflow.keras.layers import Embedding, Dense, SimpleRNN, LSTM, GRU, Flatten, Dropout\n",
    "from tensorflow.keras.datasets import imdb\n",
    "from tensorflow.keras import preprocessing\n",
    "from tensorflow.keras.optimizers import Adam\n",
    "\n",
    "from tensorflow.keras.preprocessing.text import Tokenizer"
   ]
  },
  {
   "cell_type": "code",
   "execution_count": null,
   "id": "0b5ceaa1",
   "metadata": {},
   "outputs": [],
   "source": []
  },
  {
   "cell_type": "markdown",
   "id": "3134565e",
   "metadata": {},
   "source": [
    "Učitava se skup napravljen u prethodnoj svesci"
   ]
  },
  {
   "cell_type": "code",
   "execution_count": 10,
   "id": "f13e9bb3",
   "metadata": {},
   "outputs": [],
   "source": [
    "data = pd.read_csv('data/toxic_comments.csv')"
   ]
  },
  {
   "cell_type": "code",
   "execution_count": 11,
   "id": "32e8b293",
   "metadata": {},
   "outputs": [
    {
     "data": {
      "text/plain": [
       "(223549, 10)"
      ]
     },
     "execution_count": 11,
     "metadata": {},
     "output_type": "execute_result"
    }
   ],
   "source": [
    "data.shape"
   ]
  },
  {
   "cell_type": "code",
   "execution_count": null,
   "id": "4b28d1f8",
   "metadata": {},
   "outputs": [],
   "source": []
  },
  {
   "cell_type": "code",
   "execution_count": 15,
   "id": "de7d6025",
   "metadata": {},
   "outputs": [],
   "source": [
    "data.drop(columns=['Unnamed: 0'], inplace=True)"
   ]
  },
  {
   "cell_type": "code",
   "execution_count": 16,
   "id": "5826a49b",
   "metadata": {},
   "outputs": [
    {
     "data": {
      "text/html": [
       "<div>\n",
       "<style scoped>\n",
       "    .dataframe tbody tr th:only-of-type {\n",
       "        vertical-align: middle;\n",
       "    }\n",
       "\n",
       "    .dataframe tbody tr th {\n",
       "        vertical-align: top;\n",
       "    }\n",
       "\n",
       "    .dataframe thead th {\n",
       "        text-align: right;\n",
       "    }\n",
       "</style>\n",
       "<table border=\"1\" class=\"dataframe\">\n",
       "  <thead>\n",
       "    <tr style=\"text-align: right;\">\n",
       "      <th></th>\n",
       "      <th>comment_text</th>\n",
       "      <th>toxic</th>\n",
       "      <th>severe_toxic</th>\n",
       "      <th>obscene</th>\n",
       "      <th>threat</th>\n",
       "      <th>insult</th>\n",
       "      <th>identity_hate</th>\n",
       "      <th>target</th>\n",
       "      <th>word_count</th>\n",
       "    </tr>\n",
       "  </thead>\n",
       "  <tbody>\n",
       "    <tr>\n",
       "      <th>0</th>\n",
       "      <td>explanation why the edits made under my userna...</td>\n",
       "      <td>0</td>\n",
       "      <td>0</td>\n",
       "      <td>0</td>\n",
       "      <td>0</td>\n",
       "      <td>0</td>\n",
       "      <td>0</td>\n",
       "      <td>0</td>\n",
       "      <td>43</td>\n",
       "    </tr>\n",
       "    <tr>\n",
       "      <th>1</th>\n",
       "      <td>daww he matches this background colour i am se...</td>\n",
       "      <td>0</td>\n",
       "      <td>0</td>\n",
       "      <td>0</td>\n",
       "      <td>0</td>\n",
       "      <td>0</td>\n",
       "      <td>0</td>\n",
       "      <td>0</td>\n",
       "      <td>15</td>\n",
       "    </tr>\n",
       "    <tr>\n",
       "      <th>2</th>\n",
       "      <td>hey man i am really not trying to edit war its...</td>\n",
       "      <td>0</td>\n",
       "      <td>0</td>\n",
       "      <td>0</td>\n",
       "      <td>0</td>\n",
       "      <td>0</td>\n",
       "      <td>0</td>\n",
       "      <td>0</td>\n",
       "      <td>43</td>\n",
       "    </tr>\n",
       "    <tr>\n",
       "      <th>3</th>\n",
       "      <td>more i cant make any real suggestions on i amp...</td>\n",
       "      <td>0</td>\n",
       "      <td>0</td>\n",
       "      <td>0</td>\n",
       "      <td>0</td>\n",
       "      <td>0</td>\n",
       "      <td>0</td>\n",
       "      <td>0</td>\n",
       "      <td>110</td>\n",
       "    </tr>\n",
       "    <tr>\n",
       "      <th>4</th>\n",
       "      <td>you sir are my hero any chance you remember wh...</td>\n",
       "      <td>0</td>\n",
       "      <td>0</td>\n",
       "      <td>0</td>\n",
       "      <td>0</td>\n",
       "      <td>0</td>\n",
       "      <td>0</td>\n",
       "      <td>0</td>\n",
       "      <td>13</td>\n",
       "    </tr>\n",
       "  </tbody>\n",
       "</table>\n",
       "</div>"
      ],
      "text/plain": [
       "                                        comment_text  toxic  severe_toxic  \\\n",
       "0  explanation why the edits made under my userna...      0             0   \n",
       "1  daww he matches this background colour i am se...      0             0   \n",
       "2  hey man i am really not trying to edit war its...      0             0   \n",
       "3  more i cant make any real suggestions on i amp...      0             0   \n",
       "4  you sir are my hero any chance you remember wh...      0             0   \n",
       "\n",
       "   obscene  threat  insult  identity_hate  target  word_count  \n",
       "0        0       0       0              0       0          43  \n",
       "1        0       0       0              0       0          15  \n",
       "2        0       0       0              0       0          43  \n",
       "3        0       0       0              0       0         110  \n",
       "4        0       0       0              0       0          13  "
      ]
     },
     "execution_count": 16,
     "metadata": {},
     "output_type": "execute_result"
    }
   ],
   "source": [
    "data.head()"
   ]
  },
  {
   "cell_type": "code",
   "execution_count": 35,
   "id": "2838d711",
   "metadata": {},
   "outputs": [],
   "source": [
    "data.comment_text = data.comment_text.astype(str)\n"
   ]
  },
  {
   "cell_type": "markdown",
   "id": "0d810581",
   "metadata": {},
   "source": [
    "### Binarna klasifikacija"
   ]
  },
  {
   "cell_type": "code",
   "execution_count": 17,
   "id": "dfabddf3",
   "metadata": {},
   "outputs": [],
   "source": [
    "word_embeddings = {}\n",
    "with open('data/glove.6B.100d.txt', 'r', encoding='utf-8') as f:\n",
    "    for line in f:\n",
    "        values = line.split()\n",
    "        word = values[0]\n",
    "        coefs = np.asarray(values[1:], dtype='float32')\n",
    "        word_embeddings[word] = coefs"
   ]
  },
  {
   "cell_type": "code",
   "execution_count": 18,
   "id": "1db109be",
   "metadata": {},
   "outputs": [
    {
     "data": {
      "text/plain": [
       "400000"
      ]
     },
     "execution_count": 18,
     "metadata": {},
     "output_type": "execute_result"
    }
   ],
   "source": [
    "len(word_embeddings)"
   ]
  },
  {
   "cell_type": "code",
   "execution_count": 23,
   "id": "33c15828",
   "metadata": {},
   "outputs": [],
   "source": [
    "#word_embeddings['die']"
   ]
  },
  {
   "cell_type": "markdown",
   "id": "2567c10a",
   "metadata": {},
   "source": [
    "Prepisano iz prethodne sveske:"
   ]
  },
  {
   "cell_type": "code",
   "execution_count": 22,
   "id": "7235b8e6",
   "metadata": {},
   "outputs": [],
   "source": [
    "train_size = 159571\n",
    "test_size = 63978\n",
    "validation_size = int(0.2*train_size)"
   ]
  },
  {
   "cell_type": "code",
   "execution_count": 36,
   "id": "4d82e9af",
   "metadata": {},
   "outputs": [],
   "source": [
    "validation_data = data[:validation_size]\n",
    "train_data = data[validation_size:train_size]\n",
    "test_data = data[train_size:]"
   ]
  },
  {
   "cell_type": "code",
   "execution_count": 37,
   "id": "505da53c",
   "metadata": {},
   "outputs": [
    {
     "data": {
      "text/plain": [
       "((31914, 9), (127657, 9), (63978, 9))"
      ]
     },
     "execution_count": 37,
     "metadata": {},
     "output_type": "execute_result"
    }
   ],
   "source": [
    "validation_data.shape, train_data.shape, test_data.shape"
   ]
  },
  {
   "cell_type": "code",
   "execution_count": null,
   "id": "34594672",
   "metadata": {},
   "outputs": [],
   "source": []
  },
  {
   "cell_type": "code",
   "execution_count": 39,
   "id": "cb920779",
   "metadata": {},
   "outputs": [],
   "source": [
    "max_features = 5000"
   ]
  },
  {
   "cell_type": "code",
   "execution_count": 40,
   "id": "b9f6cb03",
   "metadata": {},
   "outputs": [],
   "source": [
    "tokenizer = Tokenizer(num_words=max_features)\n",
    "tokenizer.fit_on_texts(train_data['comment_text'])"
   ]
  },
  {
   "cell_type": "code",
   "execution_count": 41,
   "id": "2a73be2b",
   "metadata": {},
   "outputs": [
    {
     "name": "stdout",
     "output_type": "stream",
     "text": [
      "Broj jedinstvenih reci (tokena):  187080\n"
     ]
    }
   ],
   "source": [
    "word_index = tokenizer.word_index\n",
    "print('Broj jedinstvenih reci (tokena): ', len(word_index))"
   ]
  },
  {
   "cell_type": "code",
   "execution_count": 42,
   "id": "c6e09aa9",
   "metadata": {},
   "outputs": [],
   "source": [
    "embedding_dimensionality = 100\n",
    "number_of_words = min(max_features, len(word_index) + 1)\n",
    "embedding_matrix = np.zeros((number_of_words, embedding_dimensionality))"
   ]
  },
  {
   "cell_type": "code",
   "execution_count": 43,
   "id": "63120f0a",
   "metadata": {},
   "outputs": [],
   "source": [
    "for word, i in word_index.items():\n",
    "    if i >= max_features:\n",
    "        break\n",
    "    embedding_vector = word_embeddings.get(word)\n",
    "    \n",
    "    if embedding_vector is not None:\n",
    "        embedding_matrix[i] = embedding_vector"
   ]
  },
  {
   "cell_type": "code",
   "execution_count": 44,
   "id": "b927725a",
   "metadata": {},
   "outputs": [
    {
     "data": {
      "text/plain": [
       "(5000, 100)"
      ]
     },
     "execution_count": 44,
     "metadata": {},
     "output_type": "execute_result"
    }
   ],
   "source": [
    "embedding_matrix.shape"
   ]
  },
  {
   "cell_type": "code",
   "execution_count": null,
   "id": "2d86778b",
   "metadata": {},
   "outputs": [],
   "source": []
  },
  {
   "cell_type": "code",
   "execution_count": 45,
   "id": "2465c752",
   "metadata": {},
   "outputs": [],
   "source": [
    "train_sequences = tokenizer.texts_to_sequences(train_data['comment_text'])\n",
    "X_train = preprocessing.sequence.pad_sequences(train_sequences, maxlen=400)\n",
    "y_train = train_data['target']\n",
    "\n",
    "test_sequences = tokenizer.texts_to_sequences(test_data['comment_text'])\n",
    "X_test = preprocessing.sequence.pad_sequences(test_sequences, maxlen=400)\n",
    "y_test = test_data['target']\n",
    "\n",
    "validation_sequences = tokenizer.texts_to_sequences(validation_data['comment_text'])\n",
    "X_validation = preprocessing.sequence.pad_sequences(validation_sequences, maxlen=400)\n",
    "y_validation = validation_data['target']"
   ]
  },
  {
   "cell_type": "code",
   "execution_count": null,
   "id": "fec07161",
   "metadata": {},
   "outputs": [],
   "source": []
  },
  {
   "cell_type": "code",
   "execution_count": null,
   "id": "cdbffb2b",
   "metadata": {},
   "outputs": [],
   "source": []
  },
  {
   "cell_type": "code",
   "execution_count": 64,
   "id": "a7752899",
   "metadata": {},
   "outputs": [
    {
     "name": "stdout",
     "output_type": "stream",
     "text": [
      "Model: \"sequential_2\"\n",
      "_________________________________________________________________\n",
      "Layer (type)                 Output Shape              Param #   \n",
      "=================================================================\n",
      "embedding_1 (Embedding)      (None, 400, 100)          500000    \n",
      "_________________________________________________________________\n",
      "flatten_1 (Flatten)          (None, 40000)             0         \n",
      "_________________________________________________________________\n",
      "dropout_2 (Dropout)          (None, 40000)             0         \n",
      "_________________________________________________________________\n",
      "dense_2 (Dense)              (None, 32)                1280032   \n",
      "_________________________________________________________________\n",
      "dropout_3 (Dropout)          (None, 32)                0         \n",
      "_________________________________________________________________\n",
      "dense_3 (Dense)              (None, 1)                 33        \n",
      "=================================================================\n",
      "Total params: 1,780,065\n",
      "Trainable params: 1,280,065\n",
      "Non-trainable params: 500,000\n",
      "_________________________________________________________________\n"
     ]
    }
   ],
   "source": [
    "model_with_glove = Sequential()\n",
    "model_with_glove.add(Embedding(max_features, embedding_dimensionality, weights=[embedding_matrix], input_length=400, trainable=False))\n",
    "model_with_glove.add(Flatten())\n",
    "model_with_glove.add(Dropout(rate=0.3))\n",
    "model_with_glove.add(Dense(32, activation='relu'))\n",
    "model_with_glove.add(Dropout(rate=0.3))\n",
    "model_with_glove.add(Dense(1, activation='sigmoid'))\n",
    "model_with_glove.summary()"
   ]
  },
  {
   "cell_type": "code",
   "execution_count": null,
   "id": "2ae0527f",
   "metadata": {},
   "outputs": [],
   "source": []
  },
  {
   "cell_type": "code",
   "execution_count": 65,
   "id": "4a58f999",
   "metadata": {},
   "outputs": [],
   "source": [
    "model_with_glove.compile(optimizer=Adam(0.00001), loss='binary_crossentropy', metrics=['accuracy'])"
   ]
  },
  {
   "cell_type": "code",
   "execution_count": 66,
   "id": "c733cab6",
   "metadata": {},
   "outputs": [],
   "source": [
    "epoches = 20\n",
    "batch_size = 128"
   ]
  },
  {
   "cell_type": "code",
   "execution_count": 67,
   "id": "e8efdb2a",
   "metadata": {},
   "outputs": [
    {
     "name": "stderr",
     "output_type": "stream",
     "text": [
      "C:\\ProgramData\\Anaconda3\\lib\\site-packages\\sklearn\\utils\\validation.py:70: FutureWarning: Pass classes=[0 1], y=31914     0\n",
      "31915     0\n",
      "31916     0\n",
      "31917     0\n",
      "31918     0\n",
      "         ..\n",
      "159566    0\n",
      "159567    0\n",
      "159568    0\n",
      "159569    0\n",
      "159570    0\n",
      "Name: target, Length: 127657, dtype: int64 as keyword args. From version 1.0 (renaming of 0.25) passing these as positional arguments will result in an error\n",
      "  warnings.warn(f\"Pass {args_msg} as keyword args. From version \"\n"
     ]
    }
   ],
   "source": [
    "weights = class_weight.compute_class_weight('balanced', np.unique(y_train), y_train)"
   ]
  },
  {
   "cell_type": "code",
   "execution_count": 68,
   "id": "d02880bd",
   "metadata": {},
   "outputs": [
    {
     "data": {
      "text/plain": [
       "array([0.55629298, 4.94105125])"
      ]
     },
     "execution_count": 68,
     "metadata": {},
     "output_type": "execute_result"
    }
   ],
   "source": [
    "weights"
   ]
  },
  {
   "cell_type": "code",
   "execution_count": 52,
   "id": "52f00b74",
   "metadata": {},
   "outputs": [],
   "source": [
    "from sklearn.utils import class_weight"
   ]
  },
  {
   "cell_type": "code",
   "execution_count": 69,
   "id": "fea34d29",
   "metadata": {},
   "outputs": [
    {
     "data": {
      "text/plain": [
       "{0: 0.5562929779761023, 1: 4.94105124632296}"
      ]
     },
     "execution_count": 69,
     "metadata": {},
     "output_type": "execute_result"
    }
   ],
   "source": [
    "weights = dict(enumerate(weights))\n",
    "weights"
   ]
  },
  {
   "cell_type": "code",
   "execution_count": null,
   "id": "b6f7e2dc",
   "metadata": {},
   "outputs": [],
   "source": []
  },
  {
   "cell_type": "code",
   "execution_count": null,
   "id": "20b7720f",
   "metadata": {},
   "outputs": [],
   "source": []
  },
  {
   "cell_type": "code",
   "execution_count": null,
   "id": "4073a90a",
   "metadata": {},
   "outputs": [],
   "source": []
  },
  {
   "cell_type": "code",
   "execution_count": 86,
   "id": "dabff531",
   "metadata": {},
   "outputs": [
    {
     "name": "stdout",
     "output_type": "stream",
     "text": [
      "Epoch 1/20\n",
      "998/998 [==============================] - 96s 96ms/step - loss: 0.9481 - accuracy: 0.5060 - val_loss: 1.1012 - val_accuracy: 0.4831\n",
      "Epoch 2/20\n",
      "998/998 [==============================] - 91s 91ms/step - loss: 0.9023 - accuracy: 0.5059 - val_loss: 1.0981 - val_accuracy: 0.4889\n",
      "Epoch 3/20\n",
      "998/998 [==============================] - 95s 95ms/step - loss: 0.8939 - accuracy: 0.5083 - val_loss: 1.1225 - val_accuracy: 0.4823\n",
      "Epoch 4/20\n",
      "998/998 [==============================] - 95s 95ms/step - loss: 0.8826 - accuracy: 0.5119 - val_loss: 1.1256 - val_accuracy: 0.4842\n",
      "Epoch 5/20\n",
      "998/998 [==============================] - 93s 93ms/step - loss: 0.8792 - accuracy: 0.5120 - val_loss: 1.0468 - val_accuracy: 0.5118\n",
      "Epoch 6/20\n",
      "998/998 [==============================] - 94s 94ms/step - loss: 0.8722 - accuracy: 0.5168 - val_loss: 1.1176 - val_accuracy: 0.4885\n",
      "Epoch 7/20\n",
      "998/998 [==============================] - 96s 96ms/step - loss: 0.8561 - accuracy: 0.5202 - val_loss: 1.0325 - val_accuracy: 0.5212\n",
      "Epoch 8/20\n",
      "998/998 [==============================] - 94s 94ms/step - loss: 0.8598 - accuracy: 0.5239 - val_loss: 1.0199 - val_accuracy: 0.5235\n",
      "Epoch 9/20\n",
      "998/998 [==============================] - 94s 94ms/step - loss: 0.8475 - accuracy: 0.5282 - val_loss: 1.0812 - val_accuracy: 0.5064\n",
      "Epoch 10/20\n",
      "998/998 [==============================] - 94s 94ms/step - loss: 0.8520 - accuracy: 0.5270 - val_loss: 1.1061 - val_accuracy: 0.4973\n",
      "Epoch 11/20\n",
      "998/998 [==============================] - 94s 95ms/step - loss: 0.8400 - accuracy: 0.5321 - val_loss: 0.9971 - val_accuracy: 0.5400\n",
      "Epoch 12/20\n",
      "998/998 [==============================] - 94s 94ms/step - loss: 0.8416 - accuracy: 0.5333 - val_loss: 1.0354 - val_accuracy: 0.5267\n",
      "Epoch 13/20\n",
      "998/998 [==============================] - 94s 94ms/step - loss: 0.8287 - accuracy: 0.5382 - val_loss: 1.0575 - val_accuracy: 0.5185\n",
      "Epoch 14/20\n",
      "998/998 [==============================] - 95s 95ms/step - loss: 0.8352 - accuracy: 0.5343 - val_loss: 1.0816 - val_accuracy: 0.5100\n",
      "Epoch 15/20\n",
      "998/998 [==============================] - 94s 94ms/step - loss: 0.8365 - accuracy: 0.5366 - val_loss: 1.0909 - val_accuracy: 0.5086\n",
      "Epoch 16/20\n",
      "998/998 [==============================] - 94s 94ms/step - loss: 0.8248 - accuracy: 0.5383 - val_loss: 1.0270 - val_accuracy: 0.5336\n",
      "Epoch 17/20\n",
      "998/998 [==============================] - 96s 96ms/step - loss: 0.8117 - accuracy: 0.5500 - val_loss: 1.0685 - val_accuracy: 0.5224\n",
      "Epoch 18/20\n",
      "998/998 [==============================] - 95s 95ms/step - loss: 0.8198 - accuracy: 0.5452 - val_loss: 0.9981 - val_accuracy: 0.5496\n",
      "Epoch 19/20\n",
      "998/998 [==============================] - 90s 90ms/step - loss: 0.8099 - accuracy: 0.5512 - val_loss: 1.1150 - val_accuracy: 0.5076\n",
      "Epoch 20/20\n",
      "998/998 [==============================] - 92s 92ms/step - loss: 0.8104 - accuracy: 0.5509 - val_loss: 1.0615 - val_accuracy: 0.5243\n"
     ]
    }
   ],
   "source": [
    "history_with_glove = model_with_glove.fit(X_train, y_train, batch_size=batch_size, epochs=epoches, class_weight={0: 0.5, 1 : 50}, validation_data=(X_validation, y_validation))\n"
   ]
  },
  {
   "cell_type": "code",
   "execution_count": 87,
   "id": "3e2e2892",
   "metadata": {},
   "outputs": [],
   "source": [
    "def plot_graphs(history, epoches):\n",
    "    \n",
    "    plt.figure(figsize=(10, 5))\n",
    "    \n",
    "    plt.subplot(1, 2, 1)\n",
    "    plt.title('Accuracy')\n",
    "    accuracy = history.history['accuracy']\n",
    "    val_accuracy = history.history['val_accuracy']\n",
    "    plt.plot(range(0, epoches), accuracy, color='red', label='training')\n",
    "    plt.plot(range(0, epoches), val_accuracy, color='orange', label='validation')\n",
    "    plt.xlabel('epochs')\n",
    "    plt.legend(loc='best')\n",
    "    \n",
    "    plt.subplot(1, 2, 2)\n",
    "    plt.title('Loss')\n",
    "    loss = history.history['loss']\n",
    "    val_loss = history.history['val_loss']\n",
    "    plt.plot(range(0, epoches), loss, color='red', label='training')\n",
    "    plt.plot(range(0, epoches), val_loss, color='orange', label='validation')\n",
    "    plt.xlabel('epochs')\n",
    "    plt.legend(loc='best')\n",
    "    \n",
    "    plt.show()"
   ]
  },
  {
   "cell_type": "code",
   "execution_count": 88,
   "id": "12c09225",
   "metadata": {},
   "outputs": [
    {
     "data": {
      "image/png": "[encoded data removed]",
      "text/plain": [
       "<Figure size 720x360 with 2 Axes>"
      ]
     },
     "metadata": {
      "needs_background": "light"
     },
     "output_type": "display_data"
    }
   ],
   "source": [
    "plot_graphs(history_with_glove, epoches)"
   ]
  },
  {
   "cell_type": "code",
   "execution_count": null,
   "id": "a4364e21",
   "metadata": {},
   "outputs": [
    {
     "name": "stdout",
     "output_type": "stream",
     "text": [
      "1561/2000 [======================>.......] - ETA: 2s - loss: 1.1841 - accuracy: 0.4943"
     ]
    }
   ],
   "source": [
    "loss_with_glove, accuracy_with_glove = model_with_glove.evaluate(X_test, y_test)"
   ]
  },
  {
   "cell_type": "code",
   "execution_count": 74,
   "id": "cebf6122",
   "metadata": {},
   "outputs": [],
   "source": [
    "#model_with_glove.save('models/glove.h5')"
   ]
  },
  {
   "cell_type": "code",
   "execution_count": 80,
   "id": "bc8d734a",
   "metadata": {},
   "outputs": [],
   "source": [
    "y_predicted = model_with_glove.predict(X_test).argmax(axis=1)"
   ]
  },
  {
   "cell_type": "code",
   "execution_count": 81,
   "id": "bbc37ba7",
   "metadata": {},
   "outputs": [],
   "source": [
    "from sklearn import metrics"
   ]
  },
  {
   "cell_type": "code",
   "execution_count": 85,
   "id": "0fece334",
   "metadata": {},
   "outputs": [
    {
     "data": {
      "image/png": "[encoded data removed]",
      "text/plain": [
       "<Figure size 288x288 with 2 Axes>"
      ]
     },
     "metadata": {
      "needs_background": "light"
     },
     "output_type": "display_data"
    }
   ],
   "source": [
    "plt.matshow(metrics.confusion_matrix(y_test, y_predicted))\n",
    "plt.colorbar()\n",
    "plt.show()"
   ]
  },
  {
   "cell_type": "code",
   "execution_count": null,
   "id": "44b1bf35",
   "metadata": {},
   "outputs": [],
   "source": []
  }
 ],
 "metadata": {
  "kernelspec": {
   "display_name": "Python 3",
   "language": "python",
   "name": "python3"
  },
  "language_info": {
   "codemirror_mode": {
    "name": "ipython",
    "version": 3
   },
   "file_extension": ".py",
   "mimetype": "text/x-python",
   "name": "python",
   "nbconvert_exporter": "python",
   "pygments_lexer": "ipython3",
   "version": "3.8.8"
  }
 },
 "nbformat": 4,
 "nbformat_minor": 5
}
