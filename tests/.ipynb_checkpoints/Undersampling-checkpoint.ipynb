{
 "cells": [
  {
   "cell_type": "markdown",
   "id": "9f10bf98",
   "metadata": {},
   "source": [
    "Balansiranje"
   ]
  },
  {
   "cell_type": "code",
   "execution_count": 1,
   "id": "a122f3f9",
   "metadata": {},
   "outputs": [],
   "source": [
    "import tensorflow as tf\n",
    "from tensorflow import keras\n",
    "from tensorflow.keras.models import Sequential\n",
    "from tensorflow.keras.layers import Embedding, Dense, GlobalAveragePooling1D, Flatten, Dropout, SeparableConv1D, MaxPooling1D\n",
    "from tensorflow.keras import preprocessing\n",
    "from tensorflow.keras.optimizers import Adam\n",
    "from tensorflow.keras.preprocessing.text import Tokenizer\n",
    "from tensorflow.keras import metrics\n",
    "from keras.callbacks import EarlyStopping\n",
    "from keras import backend as K\n",
    "\n",
    "import pickle\n",
    "from sklearn.utils import class_weight\n",
    "from sklearn import metrics\n",
    "import time"
   ]
  },
  {
   "cell_type": "code",
   "execution_count": 3,
   "id": "3b554d01",
   "metadata": {},
   "outputs": [],
   "source": [
    "import pandas as pd\n",
    "import numpy as np\n",
    "from matplotlib import pyplot as plt"
   ]
  },
  {
   "cell_type": "code",
   "execution_count": null,
   "id": "129c02bc",
   "metadata": {},
   "outputs": [],
   "source": [
    "\n"
   ]
  },
  {
   "cell_type": "code",
   "execution_count": 51,
   "id": "3a135a8c",
   "metadata": {},
   "outputs": [],
   "source": [
    "data = pd.read_csv('data/data_longer.csv')"
   ]
  },
  {
   "cell_type": "code",
   "execution_count": 52,
   "id": "21fe2337",
   "metadata": {},
   "outputs": [
    {
     "data": {
      "text/plain": [
       "(200985, 10)"
      ]
     },
     "execution_count": 52,
     "metadata": {},
     "output_type": "execute_result"
    }
   ],
   "source": [
    "data[data['target']==0].shape"
   ]
  },
  {
   "cell_type": "code",
   "execution_count": 53,
   "id": "5ecce746",
   "metadata": {},
   "outputs": [
    {
     "data": {
      "text/plain": [
       "(22468, 10)"
      ]
     },
     "execution_count": 53,
     "metadata": {},
     "output_type": "execute_result"
    }
   ],
   "source": [
    "data[data['target']==1].shape"
   ]
  },
  {
   "cell_type": "code",
   "execution_count": 54,
   "id": "a0268019",
   "metadata": {},
   "outputs": [],
   "source": [
    "indexes = data[data['target']==0].index"
   ]
  },
  {
   "cell_type": "code",
   "execution_count": 55,
   "id": "d0d2ac6c",
   "metadata": {},
   "outputs": [],
   "source": [
    "randoms = np.random.choice(indexes, 44000)"
   ]
  },
  {
   "cell_type": "code",
   "execution_count": 56,
   "id": "8bd9a731",
   "metadata": {},
   "outputs": [],
   "source": [
    "clean = data[data['target']==0]\n",
    "toxic = data[data['target']==1]"
   ]
  },
  {
   "cell_type": "code",
   "execution_count": 45,
   "id": "2235b644",
   "metadata": {},
   "outputs": [],
   "source": [
    "clean = clean[:44000]"
   ]
  },
  {
   "cell_type": "code",
   "execution_count": 46,
   "id": "f4be83b5",
   "metadata": {},
   "outputs": [],
   "source": [
    "new_data = pd.concat([clean, toxic])"
   ]
  },
  {
   "cell_type": "code",
   "execution_count": 47,
   "id": "1faff3ec",
   "metadata": {},
   "outputs": [],
   "source": [
    "new_data = new_data.sample(frac=1)"
   ]
  },
  {
   "cell_type": "code",
   "execution_count": 48,
   "id": "6a8f1795",
   "metadata": {},
   "outputs": [],
   "source": [
    "new_data.to_csv('data/undersampled.csv')"
   ]
  },
  {
   "cell_type": "code",
   "execution_count": 50,
   "id": "0eb2ec87",
   "metadata": {},
   "outputs": [
    {
     "data": {
      "text/html": [
       "<div>\n",
       "<style scoped>\n",
       "    .dataframe tbody tr th:only-of-type {\n",
       "        vertical-align: middle;\n",
       "    }\n",
       "\n",
       "    .dataframe tbody tr th {\n",
       "        vertical-align: top;\n",
       "    }\n",
       "\n",
       "    .dataframe thead th {\n",
       "        text-align: right;\n",
       "    }\n",
       "</style>\n",
       "<table border=\"1\" class=\"dataframe\">\n",
       "  <thead>\n",
       "    <tr style=\"text-align: right;\">\n",
       "      <th></th>\n",
       "      <th>Unnamed: 0</th>\n",
       "      <th>comment_text</th>\n",
       "      <th>toxic</th>\n",
       "      <th>severe_toxic</th>\n",
       "      <th>obscene</th>\n",
       "      <th>threat</th>\n",
       "      <th>insult</th>\n",
       "      <th>identity_hate</th>\n",
       "      <th>target</th>\n",
       "      <th>word_count</th>\n",
       "    </tr>\n",
       "  </thead>\n",
       "  <tbody>\n",
       "    <tr>\n",
       "      <th>5330</th>\n",
       "      <td>5332</td>\n",
       "      <td>copy edit   following userthedemonhogs request...</td>\n",
       "      <td>0</td>\n",
       "      <td>0</td>\n",
       "      <td>0</td>\n",
       "      <td>0</td>\n",
       "      <td>0</td>\n",
       "      <td>0</td>\n",
       "      <td>0</td>\n",
       "      <td>282</td>\n",
       "    </tr>\n",
       "    <tr>\n",
       "      <th>32391</th>\n",
       "      <td>32400</td>\n",
       "      <td>that was really milleseconds wasnt it bitch   ...</td>\n",
       "      <td>1</td>\n",
       "      <td>0</td>\n",
       "      <td>1</td>\n",
       "      <td>0</td>\n",
       "      <td>1</td>\n",
       "      <td>1</td>\n",
       "      <td>1</td>\n",
       "      <td>1238</td>\n",
       "    </tr>\n",
       "    <tr>\n",
       "      <th>16232</th>\n",
       "      <td>16239</td>\n",
       "      <td>well if you could give me a hand here that mov...</td>\n",
       "      <td>0</td>\n",
       "      <td>0</td>\n",
       "      <td>0</td>\n",
       "      <td>0</td>\n",
       "      <td>0</td>\n",
       "      <td>0</td>\n",
       "      <td>0</td>\n",
       "      <td>15</td>\n",
       "    </tr>\n",
       "    <tr>\n",
       "      <th>6415</th>\n",
       "      <td>6419</td>\n",
       "      <td>perhaps but it is a fact and it is usually the...</td>\n",
       "      <td>0</td>\n",
       "      <td>0</td>\n",
       "      <td>0</td>\n",
       "      <td>0</td>\n",
       "      <td>0</td>\n",
       "      <td>0</td>\n",
       "      <td>0</td>\n",
       "      <td>76</td>\n",
       "    </tr>\n",
       "    <tr>\n",
       "      <th>21771</th>\n",
       "      <td>21779</td>\n",
       "      <td>no  louisville kentucky us most people not fro...</td>\n",
       "      <td>0</td>\n",
       "      <td>0</td>\n",
       "      <td>0</td>\n",
       "      <td>0</td>\n",
       "      <td>0</td>\n",
       "      <td>0</td>\n",
       "      <td>0</td>\n",
       "      <td>56</td>\n",
       "    </tr>\n",
       "    <tr>\n",
       "      <th>...</th>\n",
       "      <td>...</td>\n",
       "      <td>...</td>\n",
       "      <td>...</td>\n",
       "      <td>...</td>\n",
       "      <td>...</td>\n",
       "      <td>...</td>\n",
       "      <td>...</td>\n",
       "      <td>...</td>\n",
       "      <td>...</td>\n",
       "      <td>...</td>\n",
       "    </tr>\n",
       "    <tr>\n",
       "      <th>10068</th>\n",
       "      <td>10072</td>\n",
       "      <td>wwe network a wrestling site is not a good source</td>\n",
       "      <td>0</td>\n",
       "      <td>0</td>\n",
       "      <td>0</td>\n",
       "      <td>0</td>\n",
       "      <td>0</td>\n",
       "      <td>0</td>\n",
       "      <td>0</td>\n",
       "      <td>10</td>\n",
       "    </tr>\n",
       "    <tr>\n",
       "      <th>86337</th>\n",
       "      <td>86359</td>\n",
       "      <td>die i just wanted to tell you that i hate you ...</td>\n",
       "      <td>1</td>\n",
       "      <td>1</td>\n",
       "      <td>1</td>\n",
       "      <td>0</td>\n",
       "      <td>1</td>\n",
       "      <td>1</td>\n",
       "      <td>1</td>\n",
       "      <td>95</td>\n",
       "    </tr>\n",
       "    <tr>\n",
       "      <th>92066</th>\n",
       "      <td>92088</td>\n",
       "      <td>human beings are basically fuking idiots</td>\n",
       "      <td>1</td>\n",
       "      <td>0</td>\n",
       "      <td>1</td>\n",
       "      <td>0</td>\n",
       "      <td>1</td>\n",
       "      <td>0</td>\n",
       "      <td>1</td>\n",
       "      <td>6</td>\n",
       "    </tr>\n",
       "    <tr>\n",
       "      <th>100544</th>\n",
       "      <td>100567</td>\n",
       "      <td>divantranin  pighumping whore   it has recentl...</td>\n",
       "      <td>1</td>\n",
       "      <td>0</td>\n",
       "      <td>0</td>\n",
       "      <td>0</td>\n",
       "      <td>0</td>\n",
       "      <td>0</td>\n",
       "      <td>1</td>\n",
       "      <td>60</td>\n",
       "    </tr>\n",
       "    <tr>\n",
       "      <th>3781</th>\n",
       "      <td>3782</td>\n",
       "      <td>i am actually quite pleased to see ji ambo get...</td>\n",
       "      <td>0</td>\n",
       "      <td>0</td>\n",
       "      <td>0</td>\n",
       "      <td>0</td>\n",
       "      <td>0</td>\n",
       "      <td>0</td>\n",
       "      <td>0</td>\n",
       "      <td>34</td>\n",
       "    </tr>\n",
       "  </tbody>\n",
       "</table>\n",
       "<p>44936 rows × 10 columns</p>\n",
       "</div>"
      ],
      "text/plain": [
       "        Unnamed: 0                                       comment_text  toxic  \\\n",
       "5330          5332  copy edit   following userthedemonhogs request...      0   \n",
       "32391        32400  that was really milleseconds wasnt it bitch   ...      1   \n",
       "16232        16239  well if you could give me a hand here that mov...      0   \n",
       "6415          6419  perhaps but it is a fact and it is usually the...      0   \n",
       "21771        21779  no  louisville kentucky us most people not fro...      0   \n",
       "...            ...                                                ...    ...   \n",
       "10068        10072  wwe network a wrestling site is not a good source      0   \n",
       "86337        86359  die i just wanted to tell you that i hate you ...      1   \n",
       "92066        92088           human beings are basically fuking idiots      1   \n",
       "100544      100567  divantranin  pighumping whore   it has recentl...      1   \n",
       "3781          3782  i am actually quite pleased to see ji ambo get...      0   \n",
       "\n",
       "        severe_toxic  obscene  threat  insult  identity_hate  target  \\\n",
       "5330               0        0       0       0              0       0   \n",
       "32391              0        1       0       1              1       1   \n",
       "16232              0        0       0       0              0       0   \n",
       "6415               0        0       0       0              0       0   \n",
       "21771              0        0       0       0              0       0   \n",
       "...              ...      ...     ...     ...            ...     ...   \n",
       "10068              0        0       0       0              0       0   \n",
       "86337              1        1       0       1              1       1   \n",
       "92066              0        1       0       1              0       1   \n",
       "100544             0        0       0       0              0       1   \n",
       "3781               0        0       0       0              0       0   \n",
       "\n",
       "        word_count  \n",
       "5330           282  \n",
       "32391         1238  \n",
       "16232           15  \n",
       "6415            76  \n",
       "21771           56  \n",
       "...            ...  \n",
       "10068           10  \n",
       "86337           95  \n",
       "92066            6  \n",
       "100544          60  \n",
       "3781            34  \n",
       "\n",
       "[44936 rows x 10 columns]"
      ]
     },
     "execution_count": 50,
     "metadata": {},
     "output_type": "execute_result"
    }
   ],
   "source": [
    "new_data"
   ]
  },
  {
   "cell_type": "code",
   "execution_count": null,
   "id": "02e72a9a",
   "metadata": {},
   "outputs": [],
   "source": []
  }
 ],
 "metadata": {
  "kernelspec": {
   "display_name": "Python 3",
   "language": "python",
   "name": "python3"
  },
  "language_info": {
   "codemirror_mode": {
    "name": "ipython",
    "version": 3
   },
   "file_extension": ".py",
   "mimetype": "text/x-python",
   "name": "python",
   "nbconvert_exporter": "python",
   "pygments_lexer": "ipython3",
   "version": "3.8.8"
  }
 },
 "nbformat": 4,
 "nbformat_minor": 5
}
