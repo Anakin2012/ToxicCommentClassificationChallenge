{
 "cells": [
  {
   "cell_type": "code",
   "execution_count": 1,
   "id": "ccf4237f",
   "metadata": {},
   "outputs": [],
   "source": [
    "import pandas as pd\n",
    "import numpy as np\n",
    "from matplotlib import pyplot as plt\n",
    "\n",
    "import pickle\n",
    "import sklearn\n",
    "import time\n",
    "from sklearn import metrics\n",
    "from sklearn import model_selection\n",
    "\n",
    "from tensorflow.keras.wrappers.scikit_learn import KerasClassifier\n",
    "\n",
    "import warnings\n",
    "warnings.simplefilter(action='ignore', category=FutureWarning)\n",
    "warnings.simplefilter(action='ignore', category=DeprecationWarning)"
   ]
  },
  {
   "cell_type": "code",
   "execution_count": 2,
   "id": "ee6c7433",
   "metadata": {},
   "outputs": [],
   "source": [
    "%run SharedFunctions.ipynb"
   ]
  },
  {
   "cell_type": "code",
   "execution_count": null,
   "id": "72e5b526",
   "metadata": {},
   "outputs": [],
   "source": []
  },
  {
   "cell_type": "markdown",
   "id": "ad2119d5",
   "metadata": {},
   "source": [
    "Učitava se prethodno pripremljen skup podataka: "
   ]
  },
  {
   "cell_type": "code",
   "execution_count": 3,
   "id": "2297f84b",
   "metadata": {},
   "outputs": [],
   "source": [
    "data = pd.read_csv('data/data_longer.csv')\n",
    "data.drop(columns=['Unnamed: 0'], inplace=True)"
   ]
  },
  {
   "cell_type": "code",
   "execution_count": 4,
   "id": "cbcc75ce",
   "metadata": {},
   "outputs": [
    {
     "data": {
      "text/plain": [
       "(223453, 9)"
      ]
     },
     "execution_count": 4,
     "metadata": {},
     "output_type": "execute_result"
    }
   ],
   "source": [
    "data.shape"
   ]
  },
  {
   "cell_type": "code",
   "execution_count": null,
   "id": "f692a602",
   "metadata": {},
   "outputs": [],
   "source": []
  },
  {
   "cell_type": "markdown",
   "id": "d7e8f9f6",
   "metadata": {},
   "source": [
    "### 1. Podela na trening, test, i validacioni skup"
   ]
  },
  {
   "cell_type": "code",
   "execution_count": 5,
   "id": "fed856a5",
   "metadata": {},
   "outputs": [],
   "source": [
    "# data.head()"
   ]
  },
  {
   "cell_type": "code",
   "execution_count": 6,
   "id": "06f321aa",
   "metadata": {},
   "outputs": [],
   "source": [
    "X = data['comment_text']\n",
    "y = data['target']"
   ]
  },
  {
   "cell_type": "code",
   "execution_count": null,
   "id": "df03e23e",
   "metadata": {},
   "outputs": [],
   "source": []
  },
  {
   "cell_type": "code",
   "execution_count": 7,
   "id": "a9c3088a",
   "metadata": {},
   "outputs": [],
   "source": [
    "X_train_validation, X_test, y_train_validation, y_test = \\\n",
    "    model_selection.train_test_split(X, y, test_size=0.33, stratify=y, random_state=7)\n",
    "\n",
    "X_train, X_validation, y_train, y_validation =\\\n",
    "    model_selection.train_test_split(X_train_validation, y_train_validation, test_size=0.2, stratify=y_train_validation, random_state=7)"
   ]
  },
  {
   "cell_type": "code",
   "execution_count": 8,
   "id": "95c8c3c1",
   "metadata": {},
   "outputs": [
    {
     "data": {
      "text/plain": [
       "((119770,), (29943,), (73740,))"
      ]
     },
     "execution_count": 8,
     "metadata": {},
     "output_type": "execute_result"
    }
   ],
   "source": [
    "X_train.shape, X_validation.shape, X_test.shape"
   ]
  },
  {
   "cell_type": "code",
   "execution_count": 9,
   "id": "04c66ac1",
   "metadata": {},
   "outputs": [
    {
     "data": {
      "text/plain": [
       "((119770,), (29943,), (73740,))"
      ]
     },
     "execution_count": 9,
     "metadata": {},
     "output_type": "execute_result"
    }
   ],
   "source": [
    "y_train.shape, y_validation.shape, y_test.shape"
   ]
  },
  {
   "cell_type": "code",
   "execution_count": null,
   "id": "743e2319",
   "metadata": {},
   "outputs": [],
   "source": []
  },
  {
   "cell_type": "markdown",
   "id": "23e11fc3",
   "metadata": {},
   "source": [
    "### 2. Tokenizacija I vektorizacija teksta"
   ]
  },
  {
   "cell_type": "code",
   "execution_count": 10,
   "id": "e09f6409",
   "metadata": {},
   "outputs": [],
   "source": [
    "# uzima se recimo 20000 najfrekventinijh reci\n",
    "max_features = 20000\n",
    "\n",
    "# max duzina\n",
    "max_len = 100"
   ]
  },
  {
   "cell_type": "code",
   "execution_count": 11,
   "id": "be037964",
   "metadata": {},
   "outputs": [],
   "source": [
    "word_index, tokenizer = get_vocabulary(max_features, X_train, 'tokenizer_binary.pickle')"
   ]
  },
  {
   "cell_type": "code",
   "execution_count": 12,
   "id": "f099423a",
   "metadata": {},
   "outputs": [
    {
     "name": "stdout",
     "output_type": "stream",
     "text": [
      "Broj jedinstvenih reci: 201164\n"
     ]
    }
   ],
   "source": [
    "print('Broj jedinstvenih reci:', len(word_index))"
   ]
  },
  {
   "cell_type": "code",
   "execution_count": null,
   "id": "d9e438ae",
   "metadata": {},
   "outputs": [],
   "source": []
  },
  {
   "cell_type": "markdown",
   "id": "659647e3",
   "metadata": {},
   "source": [
    "Sada pravimo skupove za trening, test i validaciju sa vektorizovanim tekstom"
   ]
  },
  {
   "cell_type": "code",
   "execution_count": 13,
   "id": "f3673a91",
   "metadata": {},
   "outputs": [],
   "source": [
    "X_train = to_sequence(X_train, max_len, tokenizer)\n",
    "X_test = to_sequence(X_test, max_len, tokenizer)\n",
    "X_validation = to_sequence(X_validation, max_len, tokenizer)"
   ]
  },
  {
   "cell_type": "code",
   "execution_count": 14,
   "id": "be157f6a",
   "metadata": {},
   "outputs": [
    {
     "data": {
      "text/plain": [
       "((119770, 100), (73740, 100), (29943, 100))"
      ]
     },
     "execution_count": 14,
     "metadata": {},
     "output_type": "execute_result"
    }
   ],
   "source": [
    "X_train.shape, X_test.shape, X_validation.shape"
   ]
  },
  {
   "cell_type": "code",
   "execution_count": 15,
   "id": "2299c50f",
   "metadata": {},
   "outputs": [],
   "source": [
    "X_train_validation = to_sequence(X_train_validation, max_len, tokenizer)"
   ]
  },
  {
   "cell_type": "markdown",
   "id": "c3627b57",
   "metadata": {},
   "source": [
    "Kreira se matrica ugnjezdavanja"
   ]
  },
  {
   "cell_type": "code",
   "execution_count": 16,
   "id": "87606de0",
   "metadata": {},
   "outputs": [],
   "source": [
    "embedding_matrix = create_embedding_matrix(word_index, max_len)"
   ]
  },
  {
   "cell_type": "code",
   "execution_count": null,
   "id": "a8cfd4b0",
   "metadata": {},
   "outputs": [],
   "source": []
  },
  {
   "cell_type": "markdown",
   "id": "af8a28dc",
   "metadata": {},
   "source": [
    "### 3. Selekcija i evaluacija modela"
   ]
  },
  {
   "cell_type": "code",
   "execution_count": 17,
   "id": "077503d6",
   "metadata": {},
   "outputs": [
    {
     "data": {
      "text/plain": [
       "{0: 0.5558967465969598, 1: 4.97253221735087}"
      ]
     },
     "execution_count": 17,
     "metadata": {},
     "output_type": "execute_result"
    }
   ],
   "source": [
    "# Posto su klasa nebalansirane, potrebno je dodeliti im tezine\n",
    "# tako da se vise kaznjava pogresna klasifikacija manjinske klase\n",
    "\n",
    "weights = get_weights(y_train_validation)\n",
    "weights"
   ]
  },
  {
   "cell_type": "markdown",
   "id": "56b46f5a",
   "metadata": {},
   "source": [
    "Za podešavanje hiperparametara koristiće se randomizovana unakrsna validacija i keras wrapper "
   ]
  },
  {
   "cell_type": "code",
   "execution_count": 18,
   "id": "ebefe9e8",
   "metadata": {},
   "outputs": [],
   "source": [
    "random_cv = randomized_search_cv(X, y, weights, embedding_matrix):"
   ]
  },
  {
   "cell_type": "code",
   "execution_count": 19,
   "id": "231738c6",
   "metadata": {},
   "outputs": [],
   "source": [
    "best_params = random_cv.best_params_\n",
    "best_score = random_cv.best_score_\n",
    "results = random_cv.cv_results_"
   ]
  },
  {
   "cell_type": "code",
   "execution_count": 20,
   "id": "c19b10cb",
   "metadata": {},
   "outputs": [],
   "source": [
    "cv_data = pd.DataFrama(results)\n",
    "cv_data.to_csv('data/cv_results.csv')"
   ]
  },
  {
   "cell_type": "code",
   "execution_count": 21,
   "id": "43e06d90",
   "metadata": {},
   "outputs": [],
   "source": []
  },
  {
   "cell_type": "code",
   "execution_count": 22,
   "id": "96918838",
   "metadata": {},
   "outputs": [],
   "source": [
    "cv_results = pd.read_csv('data/cross_validation_report.csv')"
   ]
  },
  {
   "cell_type": "code",
   "execution_count": 23,
   "id": "fc8297a7",
   "metadata": {},
   "outputs": [
    {
     "data": {
      "text/html": [
       "<div>\n",
       "<style scoped>\n",
       "    .dataframe tbody tr th:only-of-type {\n",
       "        vertical-align: middle;\n",
       "    }\n",
       "\n",
       "    .dataframe tbody tr th {\n",
       "        vertical-align: top;\n",
       "    }\n",
       "\n",
       "    .dataframe thead th {\n",
       "        text-align: right;\n",
       "    }\n",
       "</style>\n",
       "<table border=\"1\" class=\"dataframe\">\n",
       "  <thead>\n",
       "    <tr style=\"text-align: right;\">\n",
       "      <th></th>\n",
       "      <th>Unnamed: 0</th>\n",
       "      <th>mean_fit_time</th>\n",
       "      <th>std_fit_time</th>\n",
       "      <th>mean_score_time</th>\n",
       "      <th>std_score_time</th>\n",
       "      <th>param_pool_size</th>\n",
       "      <th>param_num_of_features</th>\n",
       "      <th>param_num_of_classes</th>\n",
       "      <th>param_maxlen</th>\n",
       "      <th>param_lr</th>\n",
       "      <th>...</th>\n",
       "      <th>param_dropout_rate</th>\n",
       "      <th>params</th>\n",
       "      <th>split0_test_score</th>\n",
       "      <th>split1_test_score</th>\n",
       "      <th>split2_test_score</th>\n",
       "      <th>split3_test_score</th>\n",
       "      <th>split4_test_score</th>\n",
       "      <th>mean_test_score</th>\n",
       "      <th>std_test_score</th>\n",
       "      <th>rank_test_score</th>\n",
       "    </tr>\n",
       "  </thead>\n",
       "  <tbody>\n",
       "    <tr>\n",
       "      <th>0</th>\n",
       "      <td>0</td>\n",
       "      <td>199.911071</td>\n",
       "      <td>4.666308</td>\n",
       "      <td>1.874989</td>\n",
       "      <td>0.172555</td>\n",
       "      <td>5</td>\n",
       "      <td>20000</td>\n",
       "      <td>2</td>\n",
       "      <td>100</td>\n",
       "      <td>0.00001</td>\n",
       "      <td>...</td>\n",
       "      <td>0.4</td>\n",
       "      <td>{'pool_size': 5, 'num_of_features': 20000, 'nu...</td>\n",
       "      <td>0.813946</td>\n",
       "      <td>0.799619</td>\n",
       "      <td>0.823331</td>\n",
       "      <td>0.822657</td>\n",
       "      <td>0.819184</td>\n",
       "      <td>0.815748</td>\n",
       "      <td>0.008723</td>\n",
       "      <td>5</td>\n",
       "    </tr>\n",
       "    <tr>\n",
       "      <th>1</th>\n",
       "      <td>1</td>\n",
       "      <td>426.410586</td>\n",
       "      <td>6.160574</td>\n",
       "      <td>3.659113</td>\n",
       "      <td>0.093119</td>\n",
       "      <td>5</td>\n",
       "      <td>20000</td>\n",
       "      <td>2</td>\n",
       "      <td>100</td>\n",
       "      <td>0.00001</td>\n",
       "      <td>...</td>\n",
       "      <td>0.4</td>\n",
       "      <td>{'pool_size': 5, 'num_of_features': 20000, 'nu...</td>\n",
       "      <td>0.859199</td>\n",
       "      <td>0.852787</td>\n",
       "      <td>0.863574</td>\n",
       "      <td>0.866575</td>\n",
       "      <td>0.873489</td>\n",
       "      <td>0.863125</td>\n",
       "      <td>0.006954</td>\n",
       "      <td>2</td>\n",
       "    </tr>\n",
       "    <tr>\n",
       "      <th>2</th>\n",
       "      <td>2</td>\n",
       "      <td>200.758207</td>\n",
       "      <td>5.759126</td>\n",
       "      <td>1.866160</td>\n",
       "      <td>0.113049</td>\n",
       "      <td>5</td>\n",
       "      <td>20000</td>\n",
       "      <td>2</td>\n",
       "      <td>100</td>\n",
       "      <td>0.00001</td>\n",
       "      <td>...</td>\n",
       "      <td>0.2</td>\n",
       "      <td>{'pool_size': 5, 'num_of_features': 20000, 'nu...</td>\n",
       "      <td>0.805731</td>\n",
       "      <td>0.817553</td>\n",
       "      <td>0.831747</td>\n",
       "      <td>0.805724</td>\n",
       "      <td>0.851647</td>\n",
       "      <td>0.822480</td>\n",
       "      <td>0.017448</td>\n",
       "      <td>4</td>\n",
       "    </tr>\n",
       "    <tr>\n",
       "      <th>3</th>\n",
       "      <td>3</td>\n",
       "      <td>241.732305</td>\n",
       "      <td>3.735428</td>\n",
       "      <td>2.218115</td>\n",
       "      <td>0.045768</td>\n",
       "      <td>3</td>\n",
       "      <td>20000</td>\n",
       "      <td>2</td>\n",
       "      <td>100</td>\n",
       "      <td>0.00100</td>\n",
       "      <td>...</td>\n",
       "      <td>0.2</td>\n",
       "      <td>{'pool_size': 3, 'num_of_features': 20000, 'nu...</td>\n",
       "      <td>0.926226</td>\n",
       "      <td>0.917710</td>\n",
       "      <td>0.884748</td>\n",
       "      <td>0.923719</td>\n",
       "      <td>0.908657</td>\n",
       "      <td>0.912212</td>\n",
       "      <td>0.015007</td>\n",
       "      <td>1</td>\n",
       "    </tr>\n",
       "    <tr>\n",
       "      <th>4</th>\n",
       "      <td>4</td>\n",
       "      <td>199.298834</td>\n",
       "      <td>1.252905</td>\n",
       "      <td>2.061189</td>\n",
       "      <td>0.120534</td>\n",
       "      <td>5</td>\n",
       "      <td>20000</td>\n",
       "      <td>2</td>\n",
       "      <td>100</td>\n",
       "      <td>0.00001</td>\n",
       "      <td>...</td>\n",
       "      <td>0.2</td>\n",
       "      <td>{'pool_size': 5, 'num_of_features': 20000, 'nu...</td>\n",
       "      <td>0.846809</td>\n",
       "      <td>0.840330</td>\n",
       "      <td>0.851752</td>\n",
       "      <td>0.856723</td>\n",
       "      <td>0.858226</td>\n",
       "      <td>0.850768</td>\n",
       "      <td>0.006583</td>\n",
       "      <td>3</td>\n",
       "    </tr>\n",
       "  </tbody>\n",
       "</table>\n",
       "<p>5 rows × 25 columns</p>\n",
       "</div>"
      ],
      "text/plain": [
       "   Unnamed: 0  mean_fit_time  std_fit_time  mean_score_time  std_score_time  \\\n",
       "0           0     199.911071      4.666308         1.874989        0.172555   \n",
       "1           1     426.410586      6.160574         3.659113        0.093119   \n",
       "2           2     200.758207      5.759126         1.866160        0.113049   \n",
       "3           3     241.732305      3.735428         2.218115        0.045768   \n",
       "4           4     199.298834      1.252905         2.061189        0.120534   \n",
       "\n",
       "   param_pool_size  param_num_of_features  param_num_of_classes  param_maxlen  \\\n",
       "0                5                  20000                     2           100   \n",
       "1                5                  20000                     2           100   \n",
       "2                5                  20000                     2           100   \n",
       "3                3                  20000                     2           100   \n",
       "4                5                  20000                     2           100   \n",
       "\n",
       "   param_lr  ...  param_dropout_rate  \\\n",
       "0   0.00001  ...                 0.4   \n",
       "1   0.00001  ...                 0.4   \n",
       "2   0.00001  ...                 0.2   \n",
       "3   0.00100  ...                 0.2   \n",
       "4   0.00001  ...                 0.2   \n",
       "\n",
       "                                              params  split0_test_score  \\\n",
       "0  {'pool_size': 5, 'num_of_features': 20000, 'nu...           0.813946   \n",
       "1  {'pool_size': 5, 'num_of_features': 20000, 'nu...           0.859199   \n",
       "2  {'pool_size': 5, 'num_of_features': 20000, 'nu...           0.805731   \n",
       "3  {'pool_size': 3, 'num_of_features': 20000, 'nu...           0.926226   \n",
       "4  {'pool_size': 5, 'num_of_features': 20000, 'nu...           0.846809   \n",
       "\n",
       "  split1_test_score  split2_test_score  split3_test_score split4_test_score  \\\n",
       "0          0.799619           0.823331           0.822657          0.819184   \n",
       "1          0.852787           0.863574           0.866575          0.873489   \n",
       "2          0.817553           0.831747           0.805724          0.851647   \n",
       "3          0.917710           0.884748           0.923719          0.908657   \n",
       "4          0.840330           0.851752           0.856723          0.858226   \n",
       "\n",
       "   mean_test_score  std_test_score  rank_test_score  \n",
       "0         0.815748        0.008723                5  \n",
       "1         0.863125        0.006954                2  \n",
       "2         0.822480        0.017448                4  \n",
       "3         0.912212        0.015007                1  \n",
       "4         0.850768        0.006583                3  \n",
       "\n",
       "[5 rows x 25 columns]"
      ]
     },
     "execution_count": 23,
     "metadata": {},
     "output_type": "execute_result"
    }
   ],
   "source": [
    "cv_results.head()"
   ]
  },
  {
   "cell_type": "code",
   "execution_count": 36,
   "id": "e3d02c7a",
   "metadata": {},
   "outputs": [],
   "source": []
  },
  {
   "cell_type": "markdown",
   "id": "e40017b2",
   "metadata": {},
   "source": [
    "### 4. Formiranje modela"
   ]
  },
  {
   "cell_type": "code",
   "execution_count": null,
   "id": "b41eb51d",
   "metadata": {},
   "outputs": [],
   "source": []
  },
  {
   "cell_type": "code",
   "execution_count": 47,
   "id": "95546461",
   "metadata": {},
   "outputs": [],
   "source": [
    "kernel_size =3\n",
    "pool_size = 3\n",
    "filters = 64\n",
    "dropout_rate = 0.2\n",
    "embedding_dim = 100\n",
    "lr = 0.001\n",
    "layers = 0\n",
    "trainable = False"
   ]
  },
  {
   "cell_type": "code",
   "execution_count": 48,
   "id": "de90a837",
   "metadata": {},
   "outputs": [
    {
     "name": "stdout",
     "output_type": "stream",
     "text": [
      "Model: \"sequential_2\"\n",
      "_________________________________________________________________\n",
      " Layer (type)                Output Shape              Param #   \n",
      "=================================================================\n",
      " embedding_2 (Embedding)     (None, 100, 100)          2000000   \n",
      "                                                                 \n",
      " conv1d_2 (Conv1D)           (None, 100, 64)           19264     \n",
      "                                                                 \n",
      " max_pooling1d (MaxPooling1D  (None, 33, 64)           0         \n",
      " )                                                               \n",
      "                                                                 \n",
      " conv1d_3 (Conv1D)           (None, 33, 128)           24704     \n",
      "                                                                 \n",
      " max_pooling1d_1 (MaxPooling  (None, 11, 128)          0         \n",
      " 1D)                                                             \n",
      "                                                                 \n",
      " dropout (Dropout)           (None, 11, 128)           0         \n",
      "                                                                 \n",
      " global_average_pooling1d (G  (None, 128)              0         \n",
      " lobalAveragePooling1D)                                          \n",
      "                                                                 \n",
      " flatten (Flatten)           (None, 128)               0         \n",
      "                                                                 \n",
      " dense (Dense)               (None, 1)                 129       \n",
      "                                                                 \n",
      "=================================================================\n",
      "Total params: 2,044,097\n",
      "Trainable params: 44,097\n",
      "Non-trainable params: 2,000,000\n",
      "_________________________________________________________________\n"
     ]
    }
   ],
   "source": [
    "binary_model = create_model(num_of_classes = 2, num_of_features = max_features, embedding_dim = embedding_dim, \n",
    "                            kernel_size = kernel_size, pool_size = pool_size, filters = filters, \n",
    "                            dropout_rate = dropout_rate, maxlen = max_len, lr = lr, \n",
    "                            embedding_matrix = embedding_matrix, layers=layers, trainable=trainable)"
   ]
  },
  {
   "cell_type": "code",
   "execution_count": null,
   "id": "9c39f5e9",
   "metadata": {},
   "outputs": [],
   "source": []
  },
  {
   "cell_type": "markdown",
   "id": "39c289e4",
   "metadata": {},
   "source": [
    "### 5. Obučavanje modela"
   ]
  },
  {
   "cell_type": "code",
   "execution_count": 49,
   "id": "04c04077",
   "metadata": {},
   "outputs": [],
   "source": [
    "# tezinu za klasu 1 podesavamo rucno jer se ispostavlja da\n",
    "# bolje klasifikuje TP instance ako nije bas tacna proporcija\n",
    "\n",
    "weights[1] = 3.4"
   ]
  },
  {
   "cell_type": "code",
   "execution_count": 50,
   "id": "5d5c5bb5",
   "metadata": {},
   "outputs": [],
   "source": [
    "epochs = 13\n",
    "batch_size = 64"
   ]
  },
  {
   "cell_type": "code",
   "execution_count": 51,
   "id": "969ce549",
   "metadata": {
    "scrolled": true
   },
   "outputs": [
    {
     "name": "stdout",
     "output_type": "stream",
     "text": [
      "Epoch 1/13\n",
      "1872/1872 [==============================] - 34s 17ms/step - loss: 0.2811 - accuracy: 0.9014 - f1_m: 0.6068 - val_loss: 0.2780 - val_accuracy: 0.9043 - val_f1_m: 0.6289\n",
      "Epoch 2/13\n",
      "1872/1872 [==============================] - 32s 17ms/step - loss: 0.2281 - accuracy: 0.9212 - f1_m: 0.6669 - val_loss: 0.2266 - val_accuracy: 0.9211 - val_f1_m: 0.6634\n",
      "Epoch 3/13\n",
      "1872/1872 [==============================] - 32s 17ms/step - loss: 0.2104 - accuracy: 0.9264 - f1_m: 0.6885 - val_loss: 0.1904 - val_accuracy: 0.9343 - val_f1_m: 0.6909\n",
      "Epoch 4/13\n",
      "1872/1872 [==============================] - 32s 17ms/step - loss: 0.1959 - accuracy: 0.9307 - f1_m: 0.7021 - val_loss: 0.2221 - val_accuracy: 0.9238 - val_f1_m: 0.6712\n",
      "Epoch 5/13\n",
      "1872/1872 [==============================] - 32s 17ms/step - loss: 0.1811 - accuracy: 0.9354 - f1_m: 0.7224 - val_loss: 0.2536 - val_accuracy: 0.9122 - val_f1_m: 0.6474\n",
      "Epoch 6/13\n",
      "1872/1872 [==============================] - 32s 17ms/step - loss: 0.1697 - accuracy: 0.9396 - f1_m: 0.7368 - val_loss: 0.1821 - val_accuracy: 0.9350 - val_f1_m: 0.6963\n",
      "Epoch 7/13\n",
      "1872/1872 [==============================] - 32s 17ms/step - loss: 0.1564 - accuracy: 0.9435 - f1_m: 0.7543 - val_loss: 0.2301 - val_accuracy: 0.9214 - val_f1_m: 0.6689\n",
      "Epoch 8/13\n",
      "1872/1872 [==============================] - 32s 17ms/step - loss: 0.1462 - accuracy: 0.9471 - f1_m: 0.7650 - val_loss: 0.2148 - val_accuracy: 0.9276 - val_f1_m: 0.6768\n",
      "Epoch 9/13\n",
      "1872/1872 [==============================] - 32s 17ms/step - loss: 0.1362 - accuracy: 0.9501 - f1_m: 0.7749 - val_loss: 0.1823 - val_accuracy: 0.9403 - val_f1_m: 0.7062\n",
      "Epoch 10/13\n",
      "1872/1872 [==============================] - 33s 17ms/step - loss: 0.1255 - accuracy: 0.9532 - f1_m: 0.7900 - val_loss: 0.1785 - val_accuracy: 0.9412 - val_f1_m: 0.7014\n",
      "Epoch 11/13\n",
      "1872/1872 [==============================] - 32s 17ms/step - loss: 0.1203 - accuracy: 0.9554 - f1_m: 0.7962 - val_loss: 0.2044 - val_accuracy: 0.9321 - val_f1_m: 0.6796\n",
      "Epoch 12/13\n",
      "1872/1872 [==============================] - 31s 17ms/step - loss: 0.1125 - accuracy: 0.9584 - f1_m: 0.8106 - val_loss: 0.2182 - val_accuracy: 0.9309 - val_f1_m: 0.6798\n",
      "Epoch 13/13\n",
      "1872/1872 [==============================] - 33s 17ms/step - loss: 0.1060 - accuracy: 0.9607 - f1_m: 0.8164 - val_loss: 0.2100 - val_accuracy: 0.9366 - val_f1_m: 0.6857\n",
      "Trajanje obucavanja modela binarne klasifikacije:  419.6748962402344\n"
     ]
    }
   ],
   "source": [
    "start = time.time()    \n",
    "\n",
    "binary_history = binary_model.fit(X_train, y_train, batch_size=batch_size, epochs=epochs, \n",
    "                                 validation_data=(X_validation, y_validation), class_weight=weights)\n",
    "                                 #,callbacks=[early_stop]\n",
    "                                 \n",
    "print('Trajanje obucavanja modela binarne klasifikacije: ', time.time() - start)"
   ]
  },
  {
   "cell_type": "code",
   "execution_count": null,
   "id": "f89e20b5",
   "metadata": {},
   "outputs": [],
   "source": []
  },
  {
   "cell_type": "markdown",
   "id": "c1cb70f9",
   "metadata": {},
   "source": [
    "Prate se tacnost, funkcija gubitka i F1 mera (jer klase nisu izbalansirane)"
   ]
  },
  {
   "cell_type": "code",
   "execution_count": 52,
   "id": "4d39ec52",
   "metadata": {},
   "outputs": [
    {
     "data": {
      "image/png": "[encoded data removed]",
      "text/plain": [
       "<Figure size 1080x360 with 3 Axes>"
      ]
     },
     "metadata": {
      "needs_background": "light"
     },
     "output_type": "display_data"
    }
   ],
   "source": [
    "# Grafici koji prikazuju promene metrika tokom treniranja na trening skupu i validacionom skupu kroz epohe \n",
    "\n",
    "plot_graphs(binary_history, ['accuracy', 'loss', 'f1_m'])"
   ]
  },
  {
   "cell_type": "code",
   "execution_count": null,
   "id": "150acddc",
   "metadata": {},
   "outputs": [],
   "source": []
  },
  {
   "cell_type": "markdown",
   "id": "a0427b6d",
   "metadata": {},
   "source": [
    "### 6. Evaluacija modela"
   ]
  },
  {
   "cell_type": "code",
   "execution_count": 53,
   "id": "b482d9e8",
   "metadata": {},
   "outputs": [
    {
     "name": "stdout",
     "output_type": "stream",
     "text": [
      "2305/2305 [==============================] - 7s 3ms/step - loss: 0.2088 - accuracy: 0.9357 - f1_m: 0.6568\n",
      "Loss:  0.20881909132003784\n",
      "Test accuracy:  0.9357336759567261\n"
     ]
    }
   ],
   "source": [
    "scores = binary_model.evaluate(X_test, y_test)\n",
    "print('Loss: ', scores[0])\n",
    "print('Test accuracy: ', scores[1])"
   ]
  },
  {
   "cell_type": "markdown",
   "id": "59cf15c7",
   "metadata": {},
   "source": [
    "Predviđanje: "
   ]
  },
  {
   "cell_type": "code",
   "execution_count": 54,
   "id": "7281cef0",
   "metadata": {},
   "outputs": [
    {
     "name": "stdout",
     "output_type": "stream",
     "text": [
      "2305/2305 [==============================] - 7s 3ms/step\n"
     ]
    }
   ],
   "source": [
    "y_predicted = binary_model.predict(X_test)"
   ]
  },
  {
   "cell_type": "code",
   "execution_count": 55,
   "id": "2499b829",
   "metadata": {},
   "outputs": [],
   "source": [
    "# sigmoidna funkcija:\n",
    "\n",
    "y_labels = [int(score > 0.5) for score in y_predicted]"
   ]
  },
  {
   "cell_type": "code",
   "execution_count": 56,
   "id": "46408129",
   "metadata": {},
   "outputs": [
    {
     "name": "stdout",
     "output_type": "stream",
     "text": [
      "F1:  0.7033861175439694\n"
     ]
    }
   ],
   "source": [
    "# F1 mera je bolja metrika kada su neizbalansirane klase\n",
    "\n",
    "print('F1: ', metrics.f1_score(y_test, y_labels))"
   ]
  },
  {
   "cell_type": "code",
   "execution_count": 57,
   "id": "c18e0c0e",
   "metadata": {},
   "outputs": [
    {
     "name": "stdout",
     "output_type": "stream",
     "text": [
      "[[63382  2944]\n",
      " [ 1795  5619]]\n"
     ]
    }
   ],
   "source": [
    "cf = metrics.confusion_matrix(y_test, y_labels)\n",
    "print(cf)"
   ]
  },
  {
   "cell_type": "code",
   "execution_count": 58,
   "id": "220e5e3e",
   "metadata": {},
   "outputs": [
    {
     "data": {
      "image/png": "[encoded data removed]",
      "text/plain": [
       "<Figure size 1008x360 with 4 Axes>"
      ]
     },
     "metadata": {
      "needs_background": "light"
     },
     "output_type": "display_data"
    }
   ],
   "source": [
    "# funkcija koja prikazuje matricu konfuzije i \n",
    "# istu tu matricu sa vrednostima u  procentima\n",
    "\n",
    "plot_cf(cf, 'binary')"
   ]
  },
  {
   "cell_type": "code",
   "execution_count": null,
   "id": "ffbc27d7",
   "metadata": {},
   "outputs": [],
   "source": []
  },
  {
   "cell_type": "code",
   "execution_count": 59,
   "id": "c38a46b6",
   "metadata": {},
   "outputs": [
    {
     "name": "stdout",
     "output_type": "stream",
     "text": [
      "---------------------- IZVESTAJ -----------------------\n",
      "\n",
      "              precision    recall  f1-score   support\n",
      "\n",
      "           0       0.97      0.96      0.96     66326\n",
      "           1       0.66      0.76      0.70      7414\n",
      "\n",
      "    accuracy                           0.94     73740\n",
      "   macro avg       0.81      0.86      0.83     73740\n",
      "weighted avg       0.94      0.94      0.94     73740\n",
      "\n"
     ]
    }
   ],
   "source": [
    "print('---------------------- IZVESTAJ -----------------------\\n')\n",
    "print(metrics.classification_report(y_test, y_labels))"
   ]
  },
  {
   "cell_type": "code",
   "execution_count": null,
   "id": "2b7e194e",
   "metadata": {},
   "outputs": [],
   "source": []
  }
 ],
 "metadata": {
  "kernelspec": {
   "display_name": "Python 3 (ipykernel)",
   "language": "python",
   "name": "python3"
  },
  "language_info": {
   "codemirror_mode": {
    "name": "ipython",
    "version": 3
   },
   "file_extension": ".py",
   "mimetype": "text/x-python",
   "name": "python",
   "nbconvert_exporter": "python",
   "pygments_lexer": "ipython3",
   "version": "3.9.12"
  }
 },
 "nbformat": 4,
 "nbformat_minor": 5
}
