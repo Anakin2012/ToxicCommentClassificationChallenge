{
 "cells": [
  {
   "cell_type": "code",
   "execution_count": 1,
   "id": "ccf4237f",
   "metadata": {},
   "outputs": [],
   "source": [
    "import pandas as pd\n",
    "import numpy as np\n",
    "from matplotlib import pyplot as plt\n",
    "\n",
    "import pickle\n",
    "import sklearn\n",
    "import time\n",
    "from sklearn import metrics\n",
    "from sklearn import model_selection\n",
    "\n",
    "\n",
    "import warnings\n",
    "warnings.simplefilter(action='ignore', category=FutureWarning)\n",
    "warnings.simplefilter(action='ignore', category=DeprecationWarning)"
   ]
  },
  {
   "cell_type": "code",
   "execution_count": 2,
   "id": "ee6c7433",
   "metadata": {},
   "outputs": [],
   "source": [
    "%run SharedFunctions.ipynb"
   ]
  },
  {
   "cell_type": "code",
   "execution_count": null,
   "id": "72e5b526",
   "metadata": {},
   "outputs": [],
   "source": []
  },
  {
   "cell_type": "markdown",
   "id": "ad2119d5",
   "metadata": {},
   "source": [
    "Učitava se prethodno pripremljen skup podataka: "
   ]
  },
  {
   "cell_type": "code",
   "execution_count": 3,
   "id": "2297f84b",
   "metadata": {},
   "outputs": [],
   "source": [
    "data = pd.read_csv('data/data_longer.csv')\n",
    "data.drop(columns=['Unnamed: 0'], inplace=True)"
   ]
  },
  {
   "cell_type": "code",
   "execution_count": 4,
   "id": "cbcc75ce",
   "metadata": {},
   "outputs": [
    {
     "data": {
      "text/plain": [
       "(223453, 9)"
      ]
     },
     "execution_count": 4,
     "metadata": {},
     "output_type": "execute_result"
    }
   ],
   "source": [
    "data.shape"
   ]
  },
  {
   "cell_type": "code",
   "execution_count": null,
   "id": "f692a602",
   "metadata": {},
   "outputs": [],
   "source": []
  },
  {
   "cell_type": "markdown",
   "id": "d7e8f9f6",
   "metadata": {},
   "source": [
    "### 1. Podela na trening, test, i validacioni skup"
   ]
  },
  {
   "cell_type": "code",
   "execution_count": 5,
   "id": "fed856a5",
   "metadata": {},
   "outputs": [],
   "source": [
    "# data.head()"
   ]
  },
  {
   "cell_type": "code",
   "execution_count": 6,
   "id": "06f321aa",
   "metadata": {},
   "outputs": [],
   "source": [
    "X = data['comment_text']\n",
    "y = data['target']"
   ]
  },
  {
   "cell_type": "code",
   "execution_count": null,
   "id": "df03e23e",
   "metadata": {},
   "outputs": [],
   "source": []
  },
  {
   "cell_type": "code",
   "execution_count": 7,
   "id": "a9c3088a",
   "metadata": {},
   "outputs": [],
   "source": [
    "X_train_validation, X_test, y_train_validation, y_test = \\\n",
    "    model_selection.train_test_split(X, y, test_size=0.33, stratify=y, random_state=7)\n",
    "\n",
    "X_train, X_validation, y_train, y_validation =\\\n",
    "    model_selection.train_test_split(X_train_validation, y_train_validation, test_size=0.2, stratify=y_train_validation, random_state=7)"
   ]
  },
  {
   "cell_type": "code",
   "execution_count": 8,
   "id": "95c8c3c1",
   "metadata": {},
   "outputs": [
    {
     "data": {
      "text/plain": [
       "((119770,), (29943,), (73740,))"
      ]
     },
     "execution_count": 8,
     "metadata": {},
     "output_type": "execute_result"
    }
   ],
   "source": [
    "X_train.shape, X_validation.shape, X_test.shape"
   ]
  },
  {
   "cell_type": "code",
   "execution_count": 9,
   "id": "04c66ac1",
   "metadata": {},
   "outputs": [
    {
     "data": {
      "text/plain": [
       "((119770,), (29943,), (73740,))"
      ]
     },
     "execution_count": 9,
     "metadata": {},
     "output_type": "execute_result"
    }
   ],
   "source": [
    "y_train.shape, y_validation.shape, y_test.shape"
   ]
  },
  {
   "cell_type": "code",
   "execution_count": null,
   "id": "743e2319",
   "metadata": {},
   "outputs": [],
   "source": []
  },
  {
   "cell_type": "markdown",
   "id": "23e11fc3",
   "metadata": {},
   "source": [
    "### 2. Tokenizacija I vektorizacija teksta"
   ]
  },
  {
   "cell_type": "code",
   "execution_count": 11,
   "id": "e09f6409",
   "metadata": {},
   "outputs": [],
   "source": [
    "# uzima se recimo 20000 najfrekventinijh reci\n",
    "max_features = 20000\n",
    "\n",
    "# max duzina\n",
    "max_len = 100"
   ]
  },
  {
   "cell_type": "code",
   "execution_count": 12,
   "id": "be037964",
   "metadata": {},
   "outputs": [],
   "source": [
    "word_index, tokenizer = get_vocabulary(max_features, X_train, 'tokenizer_binary.pickle')"
   ]
  },
  {
   "cell_type": "code",
   "execution_count": 13,
   "id": "f099423a",
   "metadata": {},
   "outputs": [
    {
     "name": "stdout",
     "output_type": "stream",
     "text": [
      "Broj jedinstvenih reci: 201164\n"
     ]
    }
   ],
   "source": [
    "print('Broj jedinstvenih reci:', len(word_index))"
   ]
  },
  {
   "cell_type": "code",
   "execution_count": null,
   "id": "d9e438ae",
   "metadata": {},
   "outputs": [],
   "source": []
  },
  {
   "cell_type": "markdown",
   "id": "659647e3",
   "metadata": {},
   "source": [
    "Sada pravimo skupove za trening, test i validaciju sa vektorizovanim tekstom"
   ]
  },
  {
   "cell_type": "code",
   "execution_count": 14,
   "id": "f3673a91",
   "metadata": {},
   "outputs": [],
   "source": [
    "X_train_transformed = to_sequence(X_train, max_len, tokenizer)\n",
    "X_test_transformed = to_sequence(X_test, max_len, tokenizer)\n",
    "X_validation_transformed = to_sequence(X_validation, max_len, tokenizer)"
   ]
  },
  {
   "cell_type": "code",
   "execution_count": 15,
   "id": "be157f6a",
   "metadata": {},
   "outputs": [
    {
     "data": {
      "text/plain": [
       "((119770,), (73740,), (29943,))"
      ]
     },
     "execution_count": 15,
     "metadata": {},
     "output_type": "execute_result"
    }
   ],
   "source": [
    "X_train.shape, X_test.shape, X_validation.shape"
   ]
  },
  {
   "cell_type": "code",
   "execution_count": 16,
   "id": "2299c50f",
   "metadata": {},
   "outputs": [],
   "source": [
    "X_train_validation_transformed = to_sequence(X_train_validation, max_len, tokenizer)"
   ]
  },
  {
   "cell_type": "markdown",
   "id": "c3627b57",
   "metadata": {},
   "source": [
    "Kreira se matrica ugnjezdavanja"
   ]
  },
  {
   "cell_type": "code",
   "execution_count": 17,
   "id": "87606de0",
   "metadata": {},
   "outputs": [],
   "source": [
    "embedding_matrix = create_embedding_matrix(word_index, max_len)"
   ]
  },
  {
   "cell_type": "code",
   "execution_count": null,
   "id": "a8cfd4b0",
   "metadata": {},
   "outputs": [],
   "source": []
  },
  {
   "cell_type": "markdown",
   "id": "af8a28dc",
   "metadata": {},
   "source": [
    "### 3. Selekcija i evaluacija modela"
   ]
  },
  {
   "cell_type": "code",
   "execution_count": 18,
   "id": "077503d6",
   "metadata": {},
   "outputs": [
    {
     "data": {
      "text/plain": [
       "{0: 0.5558967465969598, 1: 4.97253221735087}"
      ]
     },
     "execution_count": 18,
     "metadata": {},
     "output_type": "execute_result"
    }
   ],
   "source": [
    "# Posto su klasa nebalansirane, potrebno je dodeliti im tezine\n",
    "# tako da se vise kaznjava pogresna klasifikacija manjinske klase\n",
    "\n",
    "weights = get_weights(y_train_validation, 2)\n",
    "weights"
   ]
  },
  {
   "cell_type": "markdown",
   "id": "56b46f5a",
   "metadata": {},
   "source": [
    "Za podešavanje hiperparametara koristiće se randomizovana unakrsna validacija i keras wrapper "
   ]
  },
  {
   "cell_type": "code",
   "execution_count": 19,
   "id": "ebefe9e8",
   "metadata": {},
   "outputs": [],
   "source": [
    "# random_cv = randomized_search_cv(X_train_validation, y_train_validation, weights, embedding_matrix)"
   ]
  },
  {
   "cell_type": "code",
   "execution_count": 20,
   "id": "231738c6",
   "metadata": {},
   "outputs": [],
   "source": [
    "# best_params = random_cv.best_params_\n",
    "# best_score = random_cv.best_score_\n",
    "# results = random_cv.cv_results_"
   ]
  },
  {
   "cell_type": "code",
   "execution_count": 21,
   "id": "c19b10cb",
   "metadata": {},
   "outputs": [],
   "source": [
    "# cv_data = pd.DataFrame(results)\n",
    "# cv_data.to_csv('data/cv_results.csv')"
   ]
  },
  {
   "cell_type": "code",
   "execution_count": null,
   "id": "43e06d90",
   "metadata": {},
   "outputs": [],
   "source": []
  },
  {
   "cell_type": "code",
   "execution_count": 22,
   "id": "96918838",
   "metadata": {},
   "outputs": [],
   "source": [
    "cv_results = pd.read_csv('data/cv_results.csv')"
   ]
  },
  {
   "cell_type": "code",
   "execution_count": 23,
   "id": "fc8297a7",
   "metadata": {},
   "outputs": [],
   "source": [
    "# cv_results.head()"
   ]
  },
  {
   "cell_type": "code",
   "execution_count": 24,
   "id": "e3d02c7a",
   "metadata": {},
   "outputs": [],
   "source": [
    "best = cv_results[cv_results['rank_test_score']==1]"
   ]
  },
  {
   "cell_type": "markdown",
   "id": "e40017b2",
   "metadata": {},
   "source": [
    "### 4. Formiranje modela"
   ]
  },
  {
   "cell_type": "code",
   "execution_count": null,
   "id": "b41eb51d",
   "metadata": {},
   "outputs": [],
   "source": []
  },
  {
   "cell_type": "code",
   "execution_count": 25,
   "id": "95546461",
   "metadata": {},
   "outputs": [],
   "source": [
    "kernel_size = (best['param_kernel_size'].values[0], )\n",
    "pool_size = (best['param_pool_size'].values[0], )\n",
    "filters = best['param_filters'].values[0]\n",
    "dropout_rate = best['param_dropout_rate'].values[0]\n",
    "embedding_dim = 100\n",
    "lr = best['param_lr'].values[0]\n",
    "layers = best['param_layers'].values[0]"
   ]
  },
  {
   "cell_type": "code",
   "execution_count": 26,
   "id": "de90a837",
   "metadata": {},
   "outputs": [
    {
     "name": "stdout",
     "output_type": "stream",
     "text": [
      "Model: \"sequential\"\n",
      "_________________________________________________________________\n",
      "Layer (type)                 Output Shape              Param #   \n",
      "=================================================================\n",
      "embedding (Embedding)        (None, 100, 100)          2000000   \n",
      "_________________________________________________________________\n",
      "conv1d (Conv1D)              (None, 100, 128)          12928     \n",
      "_________________________________________________________________\n",
      "max_pooling1d (MaxPooling1D) (None, 20, 128)           0         \n",
      "_________________________________________________________________\n",
      "conv1d_1 (Conv1D)            (None, 20, 256)           33024     \n",
      "_________________________________________________________________\n",
      "max_pooling1d_1 (MaxPooling1 (None, 4, 256)            0         \n",
      "_________________________________________________________________\n",
      "dropout (Dropout)            (None, 4, 256)            0         \n",
      "_________________________________________________________________\n",
      "global_average_pooling1d (Gl (None, 256)               0         \n",
      "_________________________________________________________________\n",
      "flatten (Flatten)            (None, 256)               0         \n",
      "_________________________________________________________________\n",
      "dense (Dense)                (None, 1)                 257       \n",
      "=================================================================\n",
      "Total params: 2,046,209\n",
      "Trainable params: 46,209\n",
      "Non-trainable params: 2,000,000\n",
      "_________________________________________________________________\n"
     ]
    }
   ],
   "source": [
    "binary_model = create_model(num_of_classes = 2, num_of_features = max_features, embedding_dim = embedding_dim, \n",
    "                            kernel_size = kernel_size, pool_size = pool_size, filters = filters, \n",
    "                            dropout_rate = dropout_rate, maxlen = max_len, lr = lr, \n",
    "                            embedding_matrix = embedding_matrix, layers=layers)"
   ]
  },
  {
   "cell_type": "code",
   "execution_count": null,
   "id": "9c39f5e9",
   "metadata": {},
   "outputs": [],
   "source": []
  },
  {
   "cell_type": "markdown",
   "id": "39c289e4",
   "metadata": {},
   "source": [
    "### 5. Obučavanje modela"
   ]
  },
  {
   "cell_type": "code",
   "execution_count": 27,
   "id": "04c04077",
   "metadata": {},
   "outputs": [],
   "source": [
    "# tezinu za klasu 1 podesavamo rucno jer se ispostavlja da\n",
    "# bolje klasifikuje TP instance ako nije bas tacna proporcija\n",
    "\n",
    "weights[1] = 3.99"
   ]
  },
  {
   "cell_type": "code",
   "execution_count": 28,
   "id": "5d5c5bb5",
   "metadata": {},
   "outputs": [],
   "source": [
    "epochs = 12\n",
    "batch_size = 128"
   ]
  },
  {
   "cell_type": "code",
   "execution_count": 29,
   "id": "969ce549",
   "metadata": {
    "scrolled": true
   },
   "outputs": [
    {
     "name": "stdout",
     "output_type": "stream",
     "text": [
      "Epoch 1/12\n",
      "936/936 [==============================] - 23s 23ms/step - loss: 0.4194 - accuracy: 0.8507 - f1_m: 0.4631 - val_loss: 0.3111 - val_accuracy: 0.8835 - val_f1_m: 0.5823\n",
      "Epoch 2/12\n",
      "936/936 [==============================] - 23s 25ms/step - loss: 0.2902 - accuracy: 0.8915 - f1_m: 0.6010 - val_loss: 0.2985 - val_accuracy: 0.8918 - val_f1_m: 0.6081\n",
      "Epoch 3/12\n",
      "936/936 [==============================] - 20s 21ms/step - loss: 0.2737 - accuracy: 0.9013 - f1_m: 0.6252 - val_loss: 0.2615 - val_accuracy: 0.9075 - val_f1_m: 0.6390\n",
      "Epoch 4/12\n",
      "936/936 [==============================] - 21s 22ms/step - loss: 0.2649 - accuracy: 0.9064 - f1_m: 0.6391 - val_loss: 0.2704 - val_accuracy: 0.9068 - val_f1_m: 0.6435\n",
      "Epoch 5/12\n",
      "936/936 [==============================] - 21s 22ms/step - loss: 0.2578 - accuracy: 0.9085 - f1_m: 0.6434 - val_loss: 0.2657 - val_accuracy: 0.9087 - val_f1_m: 0.6483\n",
      "Epoch 6/12\n",
      "936/936 [==============================] - 21s 22ms/step - loss: 0.2527 - accuracy: 0.9114 - f1_m: 0.6530 - val_loss: 0.2591 - val_accuracy: 0.9117 - val_f1_m: 0.6558\n",
      "Epoch 7/12\n",
      "936/936 [==============================] - 20s 22ms/step - loss: 0.2491 - accuracy: 0.9129 - f1_m: 0.6574 - val_loss: 0.2278 - val_accuracy: 0.9231 - val_f1_m: 0.6804\n",
      "Epoch 8/12\n",
      "936/936 [==============================] - 24s 25ms/step - loss: 0.2447 - accuracy: 0.9147 - f1_m: 0.6630 - val_loss: 0.2619 - val_accuracy: 0.9109 - val_f1_m: 0.6555\n",
      "Epoch 9/12\n",
      "936/936 [==============================] - 20s 22ms/step - loss: 0.2410 - accuracy: 0.9159 - f1_m: 0.6673 - val_loss: 0.2159 - val_accuracy: 0.9268 - val_f1_m: 0.6906\n",
      "Epoch 10/12\n",
      "936/936 [==============================] - 21s 22ms/step - loss: 0.2368 - accuracy: 0.9178 - f1_m: 0.6741 - val_loss: 0.2413 - val_accuracy: 0.9180 - val_f1_m: 0.6726\n",
      "Epoch 11/12\n",
      "936/936 [==============================] - 21s 22ms/step - loss: 0.2345 - accuracy: 0.9182 - f1_m: 0.6745 - val_loss: 0.2853 - val_accuracy: 0.9023 - val_f1_m: 0.6401- loss: 0.2356 -  - ETA: 2s - \n",
      "Epoch 12/12\n",
      "936/936 [==============================] - 20s 22ms/step - loss: 0.2321 - accuracy: 0.9191 - f1_m: 0.6783 - val_loss: 0.2915 - val_accuracy: 0.9002 - val_f1_m: 0.6359\n",
      "Trajanje obucavanja modela binarne klasifikacije:  254.64856052398682\n"
     ]
    }
   ],
   "source": [
    "start = time.time()    \n",
    "\n",
    "binary_history = binary_model.fit(X_train_transformed, y_train, batch_size=batch_size, epochs=epochs, \n",
    "                                 validation_data=(X_validation_transformed, y_validation), class_weight=weights)\n",
    "                                 \n",
    "print('Trajanje obucavanja modela binarne klasifikacije: ', time.time() - start)"
   ]
  },
  {
   "cell_type": "code",
   "execution_count": null,
   "id": "f89e20b5",
   "metadata": {},
   "outputs": [],
   "source": []
  },
  {
   "cell_type": "markdown",
   "id": "c1cb70f9",
   "metadata": {},
   "source": [
    "Prate se tacnost, funkcija gubitka i F1 mera (jer klase nisu izbalansirane)"
   ]
  },
  {
   "cell_type": "code",
   "execution_count": 30,
   "id": "4d39ec52",
   "metadata": {},
   "outputs": [
    {
     "data": {
      "image/png": "[encoded data removed]",
      "text/plain": [
       "<Figure size 1080x360 with 3 Axes>"
      ]
     },
     "metadata": {
      "needs_background": "light"
     },
     "output_type": "display_data"
    }
   ],
   "source": [
    "# Grafici koji prikazuju promene metrika tokom treniranja na trening skupu i validacionom skupu kroz epohe \n",
    "\n",
    "plot_graphs(binary_history, ['accuracy', 'loss', 'f1_m'])"
   ]
  },
  {
   "cell_type": "code",
   "execution_count": null,
   "id": "150acddc",
   "metadata": {},
   "outputs": [],
   "source": []
  },
  {
   "cell_type": "markdown",
   "id": "a0427b6d",
   "metadata": {},
   "source": [
    "### 6. Evaluacija modela"
   ]
  },
  {
   "cell_type": "code",
   "execution_count": 31,
   "id": "b482d9e8",
   "metadata": {},
   "outputs": [
    {
     "name": "stdout",
     "output_type": "stream",
     "text": [
      "2305/2305 [==============================] - 7s 3ms/step - loss: 0.2910 - accuracy: 0.8999 - f1_m: 0.6091\n",
      "Loss:  0.29097795486450195\n",
      "Test accuracy:  0.8998914957046509\n",
      "F1:  0.6090745329856873\n"
     ]
    }
   ],
   "source": [
    "scores = binary_model.evaluate(X_test_transformed, y_test)\n",
    "print('Loss: ', scores[0])\n",
    "print('Test accuracy: ', scores[1])\n",
    "print('F1: ', scores[2])"
   ]
  },
  {
   "cell_type": "markdown",
   "id": "59cf15c7",
   "metadata": {},
   "source": [
    "Predviđanje: "
   ]
  },
  {
   "cell_type": "code",
   "execution_count": 32,
   "id": "7281cef0",
   "metadata": {},
   "outputs": [],
   "source": [
    "y_predicted = binary_model.predict(X_test_transformed)"
   ]
  },
  {
   "cell_type": "code",
   "execution_count": 33,
   "id": "2499b829",
   "metadata": {},
   "outputs": [],
   "source": [
    "# sigmoidna funkcija:\n",
    "\n",
    "y_labels = [int(score > 0.5) for score in y_predicted]"
   ]
  },
  {
   "cell_type": "code",
   "execution_count": null,
   "id": "1fc8247a",
   "metadata": {},
   "outputs": [],
   "source": []
  },
  {
   "cell_type": "code",
   "execution_count": 34,
   "id": "46408129",
   "metadata": {},
   "outputs": [
    {
     "name": "stdout",
     "output_type": "stream",
     "text": [
      "F1:  0.6421715947649055\n"
     ]
    }
   ],
   "source": [
    "# F1 mera je bolja metrika kada su neizbalansirane klase\n",
    "\n",
    "print('F1: ', metrics.f1_score(y_test, y_labels))"
   ]
  },
  {
   "cell_type": "code",
   "execution_count": 35,
   "id": "c18e0c0e",
   "metadata": {},
   "outputs": [
    {
     "name": "stdout",
     "output_type": "stream",
     "text": [
      "[[59734  6592]\n",
      " [  790  6624]]\n"
     ]
    }
   ],
   "source": [
    "cf = metrics.confusion_matrix(y_test, y_labels)\n",
    "print(cf)"
   ]
  },
  {
   "cell_type": "code",
   "execution_count": 36,
   "id": "220e5e3e",
   "metadata": {},
   "outputs": [
    {
     "data": {
      "image/png": "[encoded data removed]",
      "text/plain": [
       "<Figure size 1008x360 with 4 Axes>"
      ]
     },
     "metadata": {
      "needs_background": "light"
     },
     "output_type": "display_data"
    }
   ],
   "source": [
    "# funkcija koja prikazuje matricu konfuzije i \n",
    "# istu tu matricu sa vrednostima u  procentima\n",
    "\n",
    "plot_cf(cf, 'binary', ['untoxic, toxic'])"
   ]
  },
  {
   "cell_type": "markdown",
   "id": "e821142f",
   "metadata": {},
   "source": [
    "#### - Od oko 90% procenata netoksičnih, 81.01% je tačno klasifikovano(TN), a 8.94% netačno(FP)\n",
    "#### - Od oko 10% procenata toksičnih komentara, 8.98% je tačno klasifikovano(TP), a 1.07% netačno(FN)"
   ]
  },
  {
   "cell_type": "code",
   "execution_count": null,
   "id": "9cdd122c",
   "metadata": {},
   "outputs": [],
   "source": []
  },
  {
   "cell_type": "code",
   "execution_count": 37,
   "id": "c38a46b6",
   "metadata": {},
   "outputs": [
    {
     "name": "stdout",
     "output_type": "stream",
     "text": [
      "---------------------- IZVESTAJ -----------------------\n",
      "\n",
      "              precision    recall  f1-score   support\n",
      "\n",
      "           0       0.99      0.90      0.94     66326\n",
      "           1       0.50      0.89      0.64      7414\n",
      "\n",
      "    accuracy                           0.90     73740\n",
      "   macro avg       0.74      0.90      0.79     73740\n",
      "weighted avg       0.94      0.90      0.91     73740\n",
      "\n"
     ]
    }
   ],
   "source": [
    "print('---------------------- IZVESTAJ -----------------------\\n')\n",
    "print(metrics.classification_report(y_test, y_labels))"
   ]
  },
  {
   "cell_type": "code",
   "execution_count": null,
   "id": "b6503390",
   "metadata": {},
   "outputs": [],
   "source": []
  },
  {
   "cell_type": "markdown",
   "id": "0fc9a74e",
   "metadata": {},
   "source": [
    "Izdvajanje instanci na kojima model greši, i onih na kojima pogađa"
   ]
  },
  {
   "cell_type": "code",
   "execution_count": 38,
   "id": "2b7e194e",
   "metadata": {},
   "outputs": [],
   "source": [
    "joined = pd.concat([X_test, y_test], axis=1)\n",
    "joined['predicted'] = y_labels"
   ]
  },
  {
   "cell_type": "code",
   "execution_count": 39,
   "id": "a45a78ee",
   "metadata": {},
   "outputs": [],
   "source": [
    "correct = joined[joined['target'] == joined['predicted']]\n",
    "incorrect = joined[joined['target'] != joined['predicted']]"
   ]
  },
  {
   "cell_type": "markdown",
   "id": "a0f4cab1",
   "metadata": {},
   "source": [
    "Primeri pogresno klasifikovanih komentara:"
   ]
  },
  {
   "cell_type": "code",
   "execution_count": 40,
   "id": "cd9f229b",
   "metadata": {},
   "outputs": [
    {
     "data": {
      "text/html": [
       "<div>\n",
       "<style scoped>\n",
       "    .dataframe tbody tr th:only-of-type {\n",
       "        vertical-align: middle;\n",
       "    }\n",
       "\n",
       "    .dataframe tbody tr th {\n",
       "        vertical-align: top;\n",
       "    }\n",
       "\n",
       "    .dataframe thead th {\n",
       "        text-align: right;\n",
       "    }\n",
       "</style>\n",
       "<table border=\"1\" class=\"dataframe\">\n",
       "  <thead>\n",
       "    <tr style=\"text-align: right;\">\n",
       "      <th></th>\n",
       "      <th>comment_text</th>\n",
       "      <th>target</th>\n",
       "      <th>predicted</th>\n",
       "    </tr>\n",
       "  </thead>\n",
       "  <tbody>\n",
       "    <tr>\n",
       "      <th>72935</th>\n",
       "      <td>possibly the worst ever adaptation of a comic ...</td>\n",
       "      <td>0</td>\n",
       "      <td>1</td>\n",
       "    </tr>\n",
       "    <tr>\n",
       "      <th>83588</th>\n",
       "      <td>hi  i am trying to get breasts like yours but ...</td>\n",
       "      <td>0</td>\n",
       "      <td>1</td>\n",
       "    </tr>\n",
       "    <tr>\n",
       "      <th>132027</th>\n",
       "      <td>hornswoggle joining club   hornswoggle joined ...</td>\n",
       "      <td>1</td>\n",
       "      <td>0</td>\n",
       "    </tr>\n",
       "    <tr>\n",
       "      <th>150714</th>\n",
       "      <td>then assert your case please do  you write  bu...</td>\n",
       "      <td>0</td>\n",
       "      <td>1</td>\n",
       "    </tr>\n",
       "    <tr>\n",
       "      <th>166794</th>\n",
       "      <td>flickrcom     here are a random selection of t...</td>\n",
       "      <td>0</td>\n",
       "      <td>1</td>\n",
       "    </tr>\n",
       "  </tbody>\n",
       "</table>\n",
       "</div>"
      ],
      "text/plain": [
       "                                             comment_text  target  predicted\n",
       "72935   possibly the worst ever adaptation of a comic ...       0          1\n",
       "83588   hi  i am trying to get breasts like yours but ...       0          1\n",
       "132027  hornswoggle joining club   hornswoggle joined ...       1          0\n",
       "150714  then assert your case please do  you write  bu...       0          1\n",
       "166794  flickrcom     here are a random selection of t...       0          1"
      ]
     },
     "execution_count": 40,
     "metadata": {},
     "output_type": "execute_result"
    }
   ],
   "source": [
    "# pogresno klasifikovane instance: \n",
    "incorrect.head()"
   ]
  },
  {
   "cell_type": "code",
   "execution_count": null,
   "id": "db3e8476",
   "metadata": {},
   "outputs": [],
   "source": []
  },
  {
   "cell_type": "code",
   "execution_count": 41,
   "id": "0bea1d15",
   "metadata": {},
   "outputs": [],
   "source": [
    "# FN -> toksicni koji su klasifikovani kao netoksicni\n",
    "FN = (incorrect['target']==1) & (incorrect['predicted']==0)\n",
    "\n",
    "# FP -> netoksicni koji su klasifikovani kao toksicni\n",
    "FP = (incorrect['target']==0) & (incorrect['predicted']==1)"
   ]
  },
  {
   "cell_type": "code",
   "execution_count": 140,
   "id": "3b4db220",
   "metadata": {},
   "outputs": [],
   "source": [
    "# incorrect[FP]['comment_text'].head()\n",
    "# incorrect[FN]['comment_text'].tail()"
   ]
  },
  {
   "cell_type": "code",
   "execution_count": 180,
   "id": "124d7db7",
   "metadata": {},
   "outputs": [
    {
     "name": "stdout",
     "output_type": "stream",
     "text": [
      "Primer lažno pozitivne instance: \n"
     ]
    },
    {
     "data": {
      "text/plain": [
       "'now   i still think you are doo doo  yes doo doo indeed'"
      ]
     },
     "execution_count": 180,
     "metadata": {},
     "output_type": "execute_result"
    }
   ],
   "source": [
    "indexes = incorrect[FP].index\n",
    "random_index = np.random.choice(indexes)\n",
    "\n",
    "# primer jednog nasumicnog netoksicnog koji je model obelezio kao toksican komentar\n",
    "\n",
    "print('Primer lažno pozitivne instance: ')\n",
    "incorrect[FP]['comment_text'][random_index]"
   ]
  },
  {
   "cell_type": "code",
   "execution_count": 170,
   "id": "9cf60dda",
   "metadata": {},
   "outputs": [
    {
     "name": "stdout",
     "output_type": "stream",
     "text": [
      "Primer lažno negativne instance: \n"
     ]
    },
    {
     "data": {
      "text/plain": [
       "'why is chris a known paedophile  still allowed to edit wikipedia'"
      ]
     },
     "execution_count": 170,
     "metadata": {},
     "output_type": "execute_result"
    }
   ],
   "source": [
    "# primer nasumicnog toksicnog koji je model obelezio kao netoksican\n",
    "indexes = incorrect[FN].index\n",
    "random_index = np.random.choice(indexes)\n",
    "\n",
    "print('Primer lažno negativne instance: ')\n",
    "incorrect[FN]['comment_text'][random_index]"
   ]
  },
  {
   "cell_type": "code",
   "execution_count": null,
   "id": "7a2d2708",
   "metadata": {},
   "outputs": [],
   "source": []
  },
  {
   "cell_type": "markdown",
   "id": "5ac721fc",
   "metadata": {},
   "source": [
    "U direktorijumu **plots and images/prediction_examples/** se nalaze skrinšotovi nekoliko zanimljivih izlaza prethodnih naredbi, \n",
    "na osnovu kojih se može zaključiti da model greši u slučaju greški u kucanju, u slučaju kada su reči napisane slovo po slovo sa razmacima između i slično. U slučaju lažno pozitivnih instanci - model predviđa komentar kao toksičan ako ima ružnih reči, a neki takvi komentari su ipak netoksični. Po mom mišljenju, neki od ovih komentara bi trebalo da budu toksični u originalnom skupu. \n",
    "\n",
    "Ovakvo ponašanje je očekivano, što znači da model u većini slučajeva dobro zaključuje. \n",
    "\n",
    "Ono što se može uraditi za bolja predviđanja je detaljnija priprema teksta, sređivanje komentara sa koji su pogrešno spelovani, spajanje u jednu reč ako ima nekoliko uzastopnih pojedinačnih slova sa razmacima izmeđi i slično."
   ]
  },
  {
   "cell_type": "code",
   "execution_count": null,
   "id": "51c50f3d",
   "metadata": {},
   "outputs": [],
   "source": []
  },
  {
   "cell_type": "code",
   "execution_count": 137,
   "id": "eb15b391",
   "metadata": {},
   "outputs": [],
   "source": [
    "# nekoliko jednostavnih provera za uvredljive, obicne komentare, namerno pogresno spelovane...\n",
    "new_comments = ['fuck you bitch', \n",
    "                'fukc you', \n",
    "                'hello i have a question about something', \n",
    "                'shit head', \n",
    "                'shithead',\n",
    "                'this is a clean comment', \n",
    "                'get out of here']\n",
    "\n",
    "new = to_sequence(new_comments, 100, tokenizer)"
   ]
  },
  {
   "cell_type": "code",
   "execution_count": 138,
   "id": "d7e16792",
   "metadata": {},
   "outputs": [],
   "source": [
    "# verovatnoce pripadanja toksicnim:\n",
    "\n",
    "probs = binary_model.predict(new)\n",
    "\n",
    "toxic_probs = {}\n",
    "i = 0\n",
    "for comment in new_comments:\n",
    "    toxic_probs[comment] = probs[i][0]\n",
    "    i += 1"
   ]
  },
  {
   "cell_type": "code",
   "execution_count": 139,
   "id": "35e3f719",
   "metadata": {},
   "outputs": [
    {
     "data": {
      "text/plain": [
       "{'fuck you bitch': 0.9989043,\n",
       " 'fukc you': 0.5652397,\n",
       " 'hello i have a question about something': 0.20029521,\n",
       " 'shit head': 0.9964296,\n",
       " 'shithead': 0.26495153,\n",
       " 'this is a clean comment': 0.20271212,\n",
       " 'get out of here': 0.4103075}"
      ]
     },
     "execution_count": 139,
     "metadata": {},
     "output_type": "execute_result"
    }
   ],
   "source": [
    "toxic_probs"
   ]
  },
  {
   "cell_type": "markdown",
   "id": "bed61954",
   "metadata": {},
   "source": [
    "Od ovih primera, model pogrešno predviđa jedino za dva komentara koja su pogrešno napisana, pa se za njih ne može zaključiti da su u pitanju uvredljive reči. "
   ]
  },
  {
   "cell_type": "code",
   "execution_count": null,
   "id": "559a4e76",
   "metadata": {},
   "outputs": [],
   "source": []
  },
  {
   "cell_type": "markdown",
   "id": "ed71d770",
   "metadata": {},
   "source": [
    "### Čuvanje modela"
   ]
  },
  {
   "cell_type": "code",
   "execution_count": 181,
   "id": "4a9c1b8c",
   "metadata": {},
   "outputs": [],
   "source": [
    "binary_model.save('models/binary_model.h5')"
   ]
  },
  {
   "cell_type": "code",
   "execution_count": null,
   "id": "3eb8e5a1",
   "metadata": {},
   "outputs": [],
   "source": [
    "# model = keras.models.load_model('models/binary_model.h5', custom_objects={\"f1_m\": f1_m})"
   ]
  },
  {
   "cell_type": "code",
   "execution_count": null,
   "id": "423c007c",
   "metadata": {},
   "outputs": [],
   "source": [
    "# model.get_config()"
   ]
  },
  {
   "cell_type": "code",
   "execution_count": null,
   "id": "b34e8a3a",
   "metadata": {},
   "outputs": [],
   "source": []
  }
 ],
 "metadata": {
  "kernelspec": {
   "display_name": "Python 3 (ipykernel)",
   "language": "python",
   "name": "python3"
  },
  "language_info": {
   "codemirror_mode": {
    "name": "ipython",
    "version": 3
   },
   "file_extension": ".py",
   "mimetype": "text/x-python",
   "name": "python",
   "nbconvert_exporter": "python",
   "pygments_lexer": "ipython3",
   "version": "3.9.6"
  }
 },
 "nbformat": 4,
 "nbformat_minor": 5
}
