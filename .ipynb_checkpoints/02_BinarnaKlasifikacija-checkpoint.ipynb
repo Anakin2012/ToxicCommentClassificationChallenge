{
 "cells": [
  {
   "cell_type": "code",
   "execution_count": 1,
   "id": "ccf4237f",
   "metadata": {},
   "outputs": [],
   "source": [
    "import pandas as pd\n",
    "import numpy as np\n",
    "from matplotlib import pyplot as plt\n",
    "\n",
    "import pickle\n",
    "import sklearn\n",
    "from sklearn.utils import class_weight\n",
    "import time\n",
    "from sklearn import metrics\n",
    "import warnings\n",
    "\n",
    "warnings.simplefilter(action='ignore', category=FutureWarning)"
   ]
  },
  {
   "cell_type": "code",
   "execution_count": 101,
   "id": "ee6c7433",
   "metadata": {},
   "outputs": [],
   "source": [
    "%run SharedFunctions.ipynb"
   ]
  },
  {
   "cell_type": "code",
   "execution_count": null,
   "id": "72e5b526",
   "metadata": {},
   "outputs": [],
   "source": []
  },
  {
   "cell_type": "markdown",
   "id": "ad2119d5",
   "metadata": {},
   "source": [
    "Učitava se prethodno pripremljen skup podataka: "
   ]
  },
  {
   "cell_type": "code",
   "execution_count": 3,
   "id": "2297f84b",
   "metadata": {},
   "outputs": [],
   "source": [
    "data = pd.read_csv('data/data_longer.csv')\n",
    "data.drop(columns=['Unnamed: 0'], inplace=True)"
   ]
  },
  {
   "cell_type": "code",
   "execution_count": 4,
   "id": "cbcc75ce",
   "metadata": {},
   "outputs": [
    {
     "data": {
      "text/plain": [
       "(223453, 9)"
      ]
     },
     "execution_count": 4,
     "metadata": {},
     "output_type": "execute_result"
    }
   ],
   "source": [
    "data.shape"
   ]
  },
  {
   "cell_type": "code",
   "execution_count": null,
   "id": "f692a602",
   "metadata": {},
   "outputs": [],
   "source": []
  },
  {
   "cell_type": "markdown",
   "id": "d7e8f9f6",
   "metadata": {},
   "source": [
    "### 1. Podela na trening, test, i validacioni skup"
   ]
  },
  {
   "cell_type": "code",
   "execution_count": 5,
   "id": "c6ea72fc",
   "metadata": {},
   "outputs": [
    {
     "data": {
      "text/plain": [
       "(127580, 63978, 31895)"
      ]
     },
     "execution_count": 5,
     "metadata": {},
     "output_type": "execute_result"
    }
   ],
   "source": [
    "# Ovo je prepisano iz prethodne sveske\n",
    "\n",
    "train_size = 159571 - 96\n",
    "test_size = 63978\n",
    "validation_size = int(0.2*train_size)\n",
    "train_size = train_size - validation_size\n",
    "\n",
    "validation_data = data[:validation_size]\n",
    "train_data = data[validation_size:train_size+validation_size]\n",
    "test_data = data[train_size+validation_size : ]\n",
    "\n",
    "train_data.shape[0], test_data.shape[0], validation_data.shape[0]"
   ]
  },
  {
   "cell_type": "code",
   "execution_count": null,
   "id": "a9c3088a",
   "metadata": {},
   "outputs": [],
   "source": []
  },
  {
   "cell_type": "code",
   "execution_count": null,
   "id": "743e2319",
   "metadata": {},
   "outputs": [],
   "source": []
  },
  {
   "cell_type": "markdown",
   "id": "23e11fc3",
   "metadata": {},
   "source": [
    "### 2. Tokenizacija I vektorizacija teksta"
   ]
  },
  {
   "cell_type": "code",
   "execution_count": 6,
   "id": "e09f6409",
   "metadata": {},
   "outputs": [],
   "source": [
    "# uzima se recimo 20000 najfrekventinijh reci\n",
    "max_features = 20000\n",
    "\n",
    "# max duzina\n",
    "max_len = 100"
   ]
  },
  {
   "cell_type": "code",
   "execution_count": 7,
   "id": "be037964",
   "metadata": {},
   "outputs": [],
   "source": [
    "word_index, tokenizer = get_vocabulary(max_features, train_data, 'tokenizer_binary.pickle')"
   ]
  },
  {
   "cell_type": "code",
   "execution_count": 8,
   "id": "f099423a",
   "metadata": {},
   "outputs": [
    {
     "name": "stdout",
     "output_type": "stream",
     "text": [
      "Broj jedinstvenih reci: 187048\n"
     ]
    }
   ],
   "source": [
    "print('Broj jedinstvenih reci:', len(word_index))"
   ]
  },
  {
   "cell_type": "code",
   "execution_count": null,
   "id": "d9e438ae",
   "metadata": {},
   "outputs": [],
   "source": []
  },
  {
   "cell_type": "markdown",
   "id": "659647e3",
   "metadata": {},
   "source": [
    "Sada pravimo skupove za trening, test i validaciju sa vektorizovanim tekstom"
   ]
  },
  {
   "cell_type": "code",
   "execution_count": 9,
   "id": "f3673a91",
   "metadata": {},
   "outputs": [],
   "source": [
    "X_train = to_sequence(train_data['comment_text'], max_len, tokenizer)\n",
    "X_test = to_sequence(test_data['comment_text'], max_len, tokenizer)\n",
    "X_validation = to_sequence(validation_data['comment_text'], max_len, tokenizer)"
   ]
  },
  {
   "cell_type": "code",
   "execution_count": 10,
   "id": "be157f6a",
   "metadata": {},
   "outputs": [
    {
     "data": {
      "text/plain": [
       "((127580, 100), (63978, 100), (31895, 100))"
      ]
     },
     "execution_count": 10,
     "metadata": {},
     "output_type": "execute_result"
    }
   ],
   "source": [
    "X_train.shape, X_test.shape, X_validation.shape"
   ]
  },
  {
   "cell_type": "code",
   "execution_count": 11,
   "id": "14432af0",
   "metadata": {},
   "outputs": [],
   "source": [
    "y_train = train_data['target']\n",
    "y_test = test_data['target']\n",
    "y_validation = validation_data['target']"
   ]
  },
  {
   "cell_type": "code",
   "execution_count": null,
   "id": "2299c50f",
   "metadata": {},
   "outputs": [],
   "source": []
  },
  {
   "cell_type": "markdown",
   "id": "c3627b57",
   "metadata": {},
   "source": [
    "Kreira se matrica ugnjezdavanja"
   ]
  },
  {
   "cell_type": "code",
   "execution_count": 12,
   "id": "87606de0",
   "metadata": {},
   "outputs": [],
   "source": [
    "embedding_matrix = create_embedding_matrix(word_index, max_len)"
   ]
  },
  {
   "cell_type": "code",
   "execution_count": null,
   "id": "a8cfd4b0",
   "metadata": {},
   "outputs": [],
   "source": []
  },
  {
   "cell_type": "markdown",
   "id": "e40017b2",
   "metadata": {},
   "source": [
    "### 3. Formiranje modela"
   ]
  },
  {
   "cell_type": "code",
   "execution_count": 73,
   "id": "95546461",
   "metadata": {},
   "outputs": [],
   "source": [
    "kernel_size = 3\n",
    "pool_size = 4\n",
    "filters = 64\n",
    "dropout_rate = 0.3"
   ]
  },
  {
   "cell_type": "code",
   "execution_count": 74,
   "id": "de90a837",
   "metadata": {},
   "outputs": [
    {
     "name": "stdout",
     "output_type": "stream",
     "text": [
      "Model: \"sequential_5\"\n",
      "_________________________________________________________________\n",
      "Layer (type)                 Output Shape              Param #   \n",
      "=================================================================\n",
      "embedding_5 (Embedding)      (None, 100, 100)          2000000   \n",
      "_________________________________________________________________\n",
      "conv1d_7 (Conv1D)            (None, 100, 64)           19264     \n",
      "_________________________________________________________________\n",
      "max_pooling1d_6 (MaxPooling1 (None, 25, 64)            0         \n",
      "_________________________________________________________________\n",
      "conv1d_8 (Conv1D)            (None, 25, 64)            12352     \n",
      "_________________________________________________________________\n",
      "max_pooling1d_7 (MaxPooling1 (None, 6, 64)             0         \n",
      "_________________________________________________________________\n",
      "dropout_3 (Dropout)          (None, 6, 64)             0         \n",
      "_________________________________________________________________\n",
      "global_average_pooling1d_1 ( (None, 64)                0         \n",
      "_________________________________________________________________\n",
      "flatten_2 (Flatten)          (None, 64)                0         \n",
      "_________________________________________________________________\n",
      "dense_7 (Dense)              (None, 1)                 65        \n",
      "=================================================================\n",
      "Total params: 2,031,681\n",
      "Trainable params: 31,681\n",
      "Non-trainable params: 2,000,000\n",
      "_________________________________________________________________\n"
     ]
    }
   ],
   "source": [
    "binary_model = create_model(num_of_classes = 2, num_of_features = max_features, embedding_dim = 100, \n",
    "                kernel_size = kernel_size, pool_size = pool_size, filters = filters, \n",
    "                dropout_rate = dropout_rate, maxlen = max_len, embedding_matrix = embedding_matrix)"
   ]
  },
  {
   "cell_type": "code",
   "execution_count": null,
   "id": "9c39f5e9",
   "metadata": {},
   "outputs": [],
   "source": []
  },
  {
   "cell_type": "code",
   "execution_count": null,
   "id": "d0523d8f",
   "metadata": {},
   "outputs": [],
   "source": []
  },
  {
   "cell_type": "code",
   "execution_count": null,
   "id": "0fb9778d",
   "metadata": {},
   "outputs": [],
   "source": []
  },
  {
   "cell_type": "markdown",
   "id": "39c289e4",
   "metadata": {},
   "source": [
    "### 4. Obučavanje modela"
   ]
  },
  {
   "cell_type": "code",
   "execution_count": 76,
   "id": "04c04077",
   "metadata": {},
   "outputs": [
    {
     "data": {
      "text/plain": [
       "{0: 0.5563210772343543, 1: 4.9388355528027255}"
      ]
     },
     "execution_count": 76,
     "metadata": {},
     "output_type": "execute_result"
    }
   ],
   "source": [
    "weights = get_weights(y_train)\n",
    "weights"
   ]
  },
  {
   "cell_type": "code",
   "execution_count": 77,
   "id": "5d5c5bb5",
   "metadata": {},
   "outputs": [],
   "source": [
    "epochs = 10\n",
    "batch_size = 128"
   ]
  },
  {
   "cell_type": "code",
   "execution_count": 78,
   "id": "969ce549",
   "metadata": {},
   "outputs": [
    {
     "name": "stdout",
     "output_type": "stream",
     "text": [
      "Epoch 1/10\n",
      "997/997 [==============================] - 43s 43ms/step - loss: 0.5223 - accuracy: 0.7520 - val_loss: 0.4104 - val_accuracy: 0.8228\n",
      "Epoch 2/10\n",
      "997/997 [==============================] - 40s 40ms/step - loss: 0.3758 - accuracy: 0.8499 - val_loss: 0.3760 - val_accuracy: 0.8592\n",
      "Epoch 3/10\n",
      "997/997 [==============================] - 26s 26ms/step - loss: 0.3347 - accuracy: 0.8802 - val_loss: 0.3176 - val_accuracy: 0.8900\n",
      "Epoch 4/10\n",
      "997/997 [==============================] - 24s 25ms/step - loss: 0.3143 - accuracy: 0.8915 - val_loss: 0.2631 - val_accuracy: 0.9140\n",
      "Epoch 5/10\n",
      "997/997 [==============================] - 27s 28ms/step - loss: 0.2993 - accuracy: 0.9005 - val_loss: 0.2905 - val_accuracy: 0.9024\n",
      "Epoch 6/10\n",
      "997/997 [==============================] - 27s 27ms/step - loss: 0.2896 - accuracy: 0.9037 - val_loss: 0.3430 - val_accuracy: 0.8807\n",
      "Epoch 7/10\n",
      "997/997 [==============================] - 27s 27ms/step - loss: 0.2809 - accuracy: 0.9068 - val_loss: 0.2854 - val_accuracy: 0.9041\n",
      "Epoch 8/10\n",
      "997/997 [==============================] - 27s 27ms/step - loss: 0.2744 - accuracy: 0.9090 - val_loss: 0.2332 - val_accuracy: 0.9229\n",
      "Epoch 9/10\n",
      "997/997 [==============================] - 28s 28ms/step - loss: 0.2679 - accuracy: 0.9121 - val_loss: 0.2926 - val_accuracy: 0.9005\n",
      "Epoch 10/10\n",
      "997/997 [==============================] - 28s 28ms/step - loss: 0.2633 - accuracy: 0.9129 - val_loss: 0.2597 - val_accuracy: 0.9117\n",
      "Trajanje obucavanja modela binarne klasifikacije:  300.068243265152\n"
     ]
    }
   ],
   "source": [
    "start = time.time()    \n",
    "\n",
    "binary_history = binary_model.fit(X_train, y_train, batch_size=batch_size, epochs=epochs, \n",
    "                                 validation_data=(X_validation, y_validation), class_weight=weights)\n",
    "                                 #,callbacks=[early_stop]\n",
    "                                 \n",
    "print('Trajanje obucavanja modela binarne klasifikacije: ', time.time() - start)"
   ]
  },
  {
   "cell_type": "code",
   "execution_count": null,
   "id": "3d252479",
   "metadata": {},
   "outputs": [],
   "source": []
  },
  {
   "cell_type": "code",
   "execution_count": 79,
   "id": "4d39ec52",
   "metadata": {},
   "outputs": [
    {
     "data": {
      "image/png": "[encoded data removed]",
      "text/plain": [
       "<Figure size 720x360 with 2 Axes>"
      ]
     },
     "metadata": {
      "needs_background": "light"
     },
     "output_type": "display_data"
    }
   ],
   "source": [
    "plot_graphs(binary_history, ['accuracy', 'loss'])"
   ]
  },
  {
   "cell_type": "code",
   "execution_count": null,
   "id": "150acddc",
   "metadata": {},
   "outputs": [],
   "source": []
  },
  {
   "cell_type": "markdown",
   "id": "a0427b6d",
   "metadata": {},
   "source": [
    "### 5. Evaluacija modela"
   ]
  },
  {
   "cell_type": "code",
   "execution_count": 80,
   "id": "b482d9e8",
   "metadata": {},
   "outputs": [
    {
     "name": "stdout",
     "output_type": "stream",
     "text": [
      "2000/2000 [==============================] - 8s 4ms/step - loss: 0.4687 - accuracy: 0.8441\n"
     ]
    },
    {
     "data": {
      "text/plain": [
       "[0.46872419118881226, 0.844102680683136]"
      ]
     },
     "execution_count": 80,
     "metadata": {},
     "output_type": "execute_result"
    }
   ],
   "source": [
    "scores = binary_model.evaluate(X_test, y_test)\n",
    "scores"
   ]
  },
  {
   "cell_type": "code",
   "execution_count": 81,
   "id": "7281cef0",
   "metadata": {},
   "outputs": [],
   "source": [
    "y_pred = binary_model.predict(X_test)"
   ]
  },
  {
   "cell_type": "code",
   "execution_count": 82,
   "id": "2499b829",
   "metadata": {},
   "outputs": [
    {
     "data": {
      "text/plain": [
       "0.8441026602894746"
      ]
     },
     "execution_count": 82,
     "metadata": {},
     "output_type": "execute_result"
    }
   ],
   "source": [
    "new_class = [int(score > 0.5) for score in y_pred]\n",
    "metrics.accuracy_score(y_test, new_class)"
   ]
  },
  {
   "cell_type": "code",
   "execution_count": 112,
   "id": "c18e0c0e",
   "metadata": {},
   "outputs": [
    {
     "name": "stdout",
     "output_type": "stream",
     "text": [
      "[[48330  9401]\n",
      " [  573  5674]]\n"
     ]
    }
   ],
   "source": [
    "cf = metrics.confusion_matrix(y_test, new_class)\n",
    "print(cf)"
   ]
  },
  {
   "cell_type": "code",
   "execution_count": 122,
   "id": "ffbc27d7",
   "metadata": {},
   "outputs": [
    {
     "data": {
      "image/png": "[encoded data removed]",
      "text/plain": [
       "<Figure size 432x288 with 2 Axes>"
      ]
     },
     "metadata": {},
     "output_type": "display_data"
    }
   ],
   "source": [
    "import seaborn as sns\n",
    "\n",
    "sns.heatmap(cf, annot=True, fmt=\"d\", linewidths=.5)\n",
    "plt.show()"
   ]
  },
  {
   "cell_type": "code",
   "execution_count": null,
   "id": "2b7e194e",
   "metadata": {},
   "outputs": [],
   "source": []
  },
  {
   "cell_type": "code",
   "execution_count": null,
   "id": "f475b607",
   "metadata": {},
   "outputs": [],
   "source": []
  },
  {
   "cell_type": "code",
   "execution_count": null,
   "id": "f02ea350",
   "metadata": {},
   "outputs": [],
   "source": []
  },
  {
   "cell_type": "code",
   "execution_count": null,
   "id": "5dc140a9",
   "metadata": {},
   "outputs": [],
   "source": []
  },
  {
   "cell_type": "code",
   "execution_count": null,
   "id": "387fbfec",
   "metadata": {},
   "outputs": [],
   "source": []
  },
  {
   "cell_type": "code",
   "execution_count": null,
   "id": "1c931d67",
   "metadata": {},
   "outputs": [],
   "source": []
  },
  {
   "cell_type": "code",
   "execution_count": null,
   "id": "55f233f9",
   "metadata": {},
   "outputs": [],
   "source": []
  },
  {
   "cell_type": "code",
   "execution_count": null,
   "id": "4374e4ce",
   "metadata": {},
   "outputs": [],
   "source": []
  },
  {
   "cell_type": "code",
   "execution_count": null,
   "id": "01e5e1af",
   "metadata": {},
   "outputs": [],
   "source": []
  }
 ],
 "metadata": {
  "kernelspec": {
   "display_name": "Python 3",
   "language": "python",
   "name": "python3"
  },
  "language_info": {
   "codemirror_mode": {
    "name": "ipython",
    "version": 3
   },
   "file_extension": ".py",
   "mimetype": "text/x-python",
   "name": "python",
   "nbconvert_exporter": "python",
   "pygments_lexer": "ipython3",
   "version": "3.8.8"
  }
 },
 "nbformat": 4,
 "nbformat_minor": 5
}
