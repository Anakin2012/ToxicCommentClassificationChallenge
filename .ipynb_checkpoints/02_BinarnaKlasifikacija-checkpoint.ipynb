{
 "cells": [
  {
   "cell_type": "code",
   "execution_count": 1,
   "id": "ccf4237f",
   "metadata": {},
   "outputs": [],
   "source": [
    "import pandas as pd\n",
    "import numpy as np\n",
    "from matplotlib import pyplot as plt\n",
    "\n",
    "import pickle\n",
    "import sklearn\n",
    "import time\n",
    "from sklearn import metrics\n",
    "from sklearn import model_selection\n",
    "\n",
    "\n",
    "import warnings\n",
    "warnings.simplefilter(action='ignore', category=FutureWarning)\n",
    "warnings.simplefilter(action='ignore', category=DeprecationWarning)"
   ]
  },
  {
   "cell_type": "code",
   "execution_count": 2,
   "id": "ee6c7433",
   "metadata": {},
   "outputs": [],
   "source": [
    "%run SharedFunctions.ipynb"
   ]
  },
  {
   "cell_type": "code",
   "execution_count": null,
   "id": "72e5b526",
   "metadata": {},
   "outputs": [],
   "source": []
  },
  {
   "cell_type": "markdown",
   "id": "ad2119d5",
   "metadata": {},
   "source": [
    "Učitava se prethodno pripremljen skup podataka: "
   ]
  },
  {
   "cell_type": "code",
   "execution_count": 3,
   "id": "2297f84b",
   "metadata": {},
   "outputs": [],
   "source": [
    "data = pd.read_csv('data/data_longer.csv')\n",
    "data.drop(columns=['Unnamed: 0'], inplace=True)"
   ]
  },
  {
   "cell_type": "code",
   "execution_count": 4,
   "id": "cbcc75ce",
   "metadata": {},
   "outputs": [
    {
     "data": {
      "text/plain": [
       "(223453, 9)"
      ]
     },
     "execution_count": 4,
     "metadata": {},
     "output_type": "execute_result"
    }
   ],
   "source": [
    "data.shape"
   ]
  },
  {
   "cell_type": "code",
   "execution_count": null,
   "id": "f692a602",
   "metadata": {},
   "outputs": [],
   "source": []
  },
  {
   "cell_type": "markdown",
   "id": "d7e8f9f6",
   "metadata": {},
   "source": [
    "### 1. Podela na trening, test, i validacioni skup"
   ]
  },
  {
   "cell_type": "code",
   "execution_count": 5,
   "id": "fed856a5",
   "metadata": {},
   "outputs": [],
   "source": [
    "# data.head()"
   ]
  },
  {
   "cell_type": "code",
   "execution_count": 5,
   "id": "06f321aa",
   "metadata": {},
   "outputs": [],
   "source": [
    "X = data['comment_text']\n",
    "y = data['target']"
   ]
  },
  {
   "cell_type": "code",
   "execution_count": null,
   "id": "df03e23e",
   "metadata": {},
   "outputs": [],
   "source": []
  },
  {
   "cell_type": "code",
   "execution_count": 6,
   "id": "a9c3088a",
   "metadata": {},
   "outputs": [],
   "source": [
    "X_train_validation, X_test, y_train_validation, y_test = \\\n",
    "    model_selection.train_test_split(X, y, test_size=0.33, stratify=y, random_state=7)\n",
    "\n",
    "X_train, X_validation, y_train, y_validation =\\\n",
    "    model_selection.train_test_split(X_train_validation, y_train_validation, test_size=0.2, stratify=y_train_validation, random_state=7)"
   ]
  },
  {
   "cell_type": "code",
   "execution_count": 7,
   "id": "95c8c3c1",
   "metadata": {},
   "outputs": [
    {
     "data": {
      "text/plain": [
       "((119770,), (29943,), (73740,))"
      ]
     },
     "execution_count": 7,
     "metadata": {},
     "output_type": "execute_result"
    }
   ],
   "source": [
    "X_train.shape, X_validation.shape, X_test.shape"
   ]
  },
  {
   "cell_type": "code",
   "execution_count": 8,
   "id": "04c66ac1",
   "metadata": {},
   "outputs": [
    {
     "data": {
      "text/plain": [
       "((119770,), (29943,), (73740,))"
      ]
     },
     "execution_count": 8,
     "metadata": {},
     "output_type": "execute_result"
    }
   ],
   "source": [
    "y_train.shape, y_validation.shape, y_test.shape"
   ]
  },
  {
   "cell_type": "code",
   "execution_count": null,
   "id": "743e2319",
   "metadata": {},
   "outputs": [],
   "source": []
  },
  {
   "cell_type": "markdown",
   "id": "23e11fc3",
   "metadata": {},
   "source": [
    "### 2. Tokenizacija I vektorizacija teksta"
   ]
  },
  {
   "cell_type": "code",
   "execution_count": 9,
   "id": "e09f6409",
   "metadata": {},
   "outputs": [],
   "source": [
    "# uzima se recimo 20000 najfrekventinijh reci\n",
    "max_features = 20000\n",
    "\n",
    "# max duzina\n",
    "max_len = 100"
   ]
  },
  {
   "cell_type": "code",
   "execution_count": 10,
   "id": "be037964",
   "metadata": {},
   "outputs": [],
   "source": [
    "word_index, tokenizer = get_vocabulary(max_features, X_train, 'tokenizer_binary.pickle')"
   ]
  },
  {
   "cell_type": "code",
   "execution_count": 11,
   "id": "f099423a",
   "metadata": {},
   "outputs": [
    {
     "name": "stdout",
     "output_type": "stream",
     "text": [
      "Broj jedinstvenih reci: 201164\n"
     ]
    }
   ],
   "source": [
    "print('Broj jedinstvenih reci:', len(word_index))"
   ]
  },
  {
   "cell_type": "code",
   "execution_count": null,
   "id": "d9e438ae",
   "metadata": {},
   "outputs": [],
   "source": []
  },
  {
   "cell_type": "markdown",
   "id": "659647e3",
   "metadata": {},
   "source": [
    "Sada pravimo skupove za trening, test i validaciju sa vektorizovanim tekstom"
   ]
  },
  {
   "cell_type": "code",
   "execution_count": 12,
   "id": "f3673a91",
   "metadata": {},
   "outputs": [],
   "source": [
    "X_train = to_sequence(X_train, max_len, tokenizer)\n",
    "X_test = to_sequence(X_test, max_len, tokenizer)\n",
    "X_validation = to_sequence(X_validation, max_len, tokenizer)"
   ]
  },
  {
   "cell_type": "code",
   "execution_count": 13,
   "id": "be157f6a",
   "metadata": {},
   "outputs": [
    {
     "data": {
      "text/plain": [
       "((119770, 100), (73740, 100), (29943, 100))"
      ]
     },
     "execution_count": 13,
     "metadata": {},
     "output_type": "execute_result"
    }
   ],
   "source": [
    "X_train.shape, X_test.shape, X_validation.shape"
   ]
  },
  {
   "cell_type": "code",
   "execution_count": 14,
   "id": "2299c50f",
   "metadata": {},
   "outputs": [],
   "source": [
    "X_train_validation = to_sequence(X_train_validation, max_len, tokenizer)"
   ]
  },
  {
   "cell_type": "markdown",
   "id": "c3627b57",
   "metadata": {},
   "source": [
    "Kreira se matrica ugnjezdavanja"
   ]
  },
  {
   "cell_type": "code",
   "execution_count": 15,
   "id": "87606de0",
   "metadata": {},
   "outputs": [],
   "source": [
    "embedding_matrix = create_embedding_matrix(word_index, max_len)"
   ]
  },
  {
   "cell_type": "code",
   "execution_count": null,
   "id": "a8cfd4b0",
   "metadata": {},
   "outputs": [],
   "source": []
  },
  {
   "cell_type": "markdown",
   "id": "af8a28dc",
   "metadata": {},
   "source": [
    "### 3. Selekcija i evaluacija modela"
   ]
  },
  {
   "cell_type": "code",
   "execution_count": 16,
   "id": "077503d6",
   "metadata": {},
   "outputs": [
    {
     "data": {
      "text/plain": [
       "{0: 0.5558967465969598, 1: 4.97253221735087}"
      ]
     },
     "execution_count": 16,
     "metadata": {},
     "output_type": "execute_result"
    }
   ],
   "source": [
    "# Posto su klasa nebalansirane, potrebno je dodeliti im tezine\n",
    "# tako da se vise kaznjava pogresna klasifikacija manjinske klase\n",
    "\n",
    "weights = get_weights(y_train_validation)\n",
    "weights"
   ]
  },
  {
   "cell_type": "markdown",
   "id": "56b46f5a",
   "metadata": {},
   "source": [
    "Za podešavanje hiperparametara koristiće se randomizovana unakrsna validacija i keras wrapper "
   ]
  },
  {
   "cell_type": "code",
   "execution_count": 17,
   "id": "ebefe9e8",
   "metadata": {},
   "outputs": [
    {
     "name": "stdout",
     "output_type": "stream",
     "text": [
      "Fitting 5 folds for each of 5 candidates, totalling 25 fits\n",
      "Model: \"sequential\"\n",
      "_________________________________________________________________\n",
      " Layer (type)                Output Shape              Param #   \n",
      "=================================================================\n",
      " embedding (Embedding)       (None, 100, 100)          2000000   \n",
      "                                                                 \n",
      " conv1d (Conv1D)             (None, 100, 128)          12928     \n",
      "                                                                 \n",
      " max_pooling1d (MaxPooling1D  (None, 33, 128)          0         \n",
      " )                                                               \n",
      "                                                                 \n",
      " conv1d_1 (Conv1D)           (None, 33, 256)           33024     \n",
      "                                                                 \n",
      " max_pooling1d_1 (MaxPooling  (None, 11, 256)          0         \n",
      " 1D)                                                             \n",
      "                                                                 \n",
      " dropout (Dropout)           (None, 11, 256)           0         \n",
      "                                                                 \n",
      " global_average_pooling1d (G  (None, 256)              0         \n",
      " lobalAveragePooling1D)                                          \n",
      "                                                                 \n",
      " flatten (Flatten)           (None, 256)               0         \n",
      "                                                                 \n",
      " dense (Dense)               (None, 1)                 257       \n",
      "                                                                 \n",
      "=================================================================\n",
      "Total params: 2,046,209\n",
      "Trainable params: 46,209\n",
      "Non-trainable params: 2,000,000\n",
      "_________________________________________________________________\n",
      "936/936 [==============================] - 3s 3ms/step\n",
      "Model: \"sequential_1\"\n",
      "_________________________________________________________________\n",
      " Layer (type)                Output Shape              Param #   \n",
      "=================================================================\n",
      " embedding_1 (Embedding)     (None, 100, 100)          2000000   \n",
      "                                                                 \n",
      " conv1d_2 (Conv1D)           (None, 100, 128)          12928     \n",
      "                                                                 \n",
      " max_pooling1d_2 (MaxPooling  (None, 33, 128)          0         \n",
      " 1D)                                                             \n",
      "                                                                 \n",
      " conv1d_3 (Conv1D)           (None, 33, 256)           33024     \n",
      "                                                                 \n",
      " max_pooling1d_3 (MaxPooling  (None, 11, 256)          0         \n",
      " 1D)                                                             \n",
      "                                                                 \n",
      " dropout_1 (Dropout)         (None, 11, 256)           0         \n",
      "                                                                 \n",
      " global_average_pooling1d_1   (None, 256)              0         \n",
      " (GlobalAveragePooling1D)                                        \n",
      "                                                                 \n",
      " flatten_1 (Flatten)         (None, 256)               0         \n",
      "                                                                 \n",
      " dense_1 (Dense)             (None, 1)                 257       \n",
      "                                                                 \n",
      "=================================================================\n",
      "Total params: 2,046,209\n",
      "Trainable params: 46,209\n",
      "Non-trainable params: 2,000,000\n",
      "_________________________________________________________________\n",
      "936/936 [==============================] - 3s 3ms/step\n",
      "Model: \"sequential_2\"\n",
      "_________________________________________________________________\n",
      " Layer (type)                Output Shape              Param #   \n",
      "=================================================================\n",
      " embedding_2 (Embedding)     (None, 100, 100)          2000000   \n",
      "                                                                 \n",
      " conv1d_4 (Conv1D)           (None, 100, 128)          12928     \n",
      "                                                                 \n",
      " max_pooling1d_4 (MaxPooling  (None, 33, 128)          0         \n",
      " 1D)                                                             \n",
      "                                                                 \n",
      " conv1d_5 (Conv1D)           (None, 33, 256)           33024     \n",
      "                                                                 \n",
      " max_pooling1d_5 (MaxPooling  (None, 11, 256)          0         \n",
      " 1D)                                                             \n",
      "                                                                 \n",
      " dropout_2 (Dropout)         (None, 11, 256)           0         \n",
      "                                                                 \n",
      " global_average_pooling1d_2   (None, 256)              0         \n",
      " (GlobalAveragePooling1D)                                        \n",
      "                                                                 \n",
      " flatten_2 (Flatten)         (None, 256)               0         \n",
      "                                                                 \n",
      " dense_2 (Dense)             (None, 1)                 257       \n",
      "                                                                 \n",
      "=================================================================\n",
      "Total params: 2,046,209\n",
      "Trainable params: 46,209\n",
      "Non-trainable params: 2,000,000\n",
      "_________________________________________________________________\n",
      "936/936 [==============================] - 3s 3ms/step\n",
      "Model: \"sequential_3\"\n",
      "_________________________________________________________________\n",
      " Layer (type)                Output Shape              Param #   \n",
      "=================================================================\n",
      " embedding_3 (Embedding)     (None, 100, 100)          2000000   \n",
      "                                                                 \n",
      " conv1d_6 (Conv1D)           (None, 100, 128)          12928     \n",
      "                                                                 \n",
      " max_pooling1d_6 (MaxPooling  (None, 33, 128)          0         \n",
      " 1D)                                                             \n",
      "                                                                 \n",
      " conv1d_7 (Conv1D)           (None, 33, 256)           33024     \n",
      "                                                                 \n",
      " max_pooling1d_7 (MaxPooling  (None, 11, 256)          0         \n",
      " 1D)                                                             \n",
      "                                                                 \n",
      " dropout_3 (Dropout)         (None, 11, 256)           0         \n",
      "                                                                 \n",
      " global_average_pooling1d_3   (None, 256)              0         \n",
      " (GlobalAveragePooling1D)                                        \n",
      "                                                                 \n",
      " flatten_3 (Flatten)         (None, 256)               0         \n",
      "                                                                 \n",
      " dense_3 (Dense)             (None, 1)                 257       \n",
      "                                                                 \n",
      "=================================================================\n",
      "Total params: 2,046,209\n",
      "Trainable params: 46,209\n",
      "Non-trainable params: 2,000,000\n",
      "_________________________________________________________________\n",
      "936/936 [==============================] - 3s 3ms/step\n",
      "Model: \"sequential_4\"\n",
      "_________________________________________________________________\n",
      " Layer (type)                Output Shape              Param #   \n",
      "=================================================================\n",
      " embedding_4 (Embedding)     (None, 100, 100)          2000000   \n",
      "                                                                 \n",
      " conv1d_8 (Conv1D)           (None, 100, 128)          12928     \n",
      "                                                                 \n",
      " max_pooling1d_8 (MaxPooling  (None, 33, 128)          0         \n",
      " 1D)                                                             \n",
      "                                                                 \n"
     ]
    },
    {
     "name": "stdout",
     "output_type": "stream",
     "text": [
      " conv1d_9 (Conv1D)           (None, 33, 256)           33024     \n",
      "                                                                 \n",
      " max_pooling1d_9 (MaxPooling  (None, 11, 256)          0         \n",
      " 1D)                                                             \n",
      "                                                                 \n",
      " dropout_4 (Dropout)         (None, 11, 256)           0         \n",
      "                                                                 \n",
      " global_average_pooling1d_4   (None, 256)              0         \n",
      " (GlobalAveragePooling1D)                                        \n",
      "                                                                 \n",
      " flatten_4 (Flatten)         (None, 256)               0         \n",
      "                                                                 \n",
      " dense_4 (Dense)             (None, 1)                 257       \n",
      "                                                                 \n",
      "=================================================================\n",
      "Total params: 2,046,209\n",
      "Trainable params: 46,209\n",
      "Non-trainable params: 2,000,000\n",
      "_________________________________________________________________\n",
      "936/936 [==============================] - 3s 3ms/step\n",
      "Model: \"sequential_5\"\n",
      "_________________________________________________________________\n",
      " Layer (type)                Output Shape              Param #   \n",
      "=================================================================\n",
      " embedding_5 (Embedding)     (None, 100, 100)          2000000   \n",
      "                                                                 \n",
      " conv1d_10 (Conv1D)          (None, 100, 64)           6464      \n",
      "                                                                 \n",
      " max_pooling1d_10 (MaxPoolin  (None, 20, 64)           0         \n",
      " g1D)                                                            \n",
      "                                                                 \n",
      " conv1d_11 (Conv1D)          (None, 20, 128)           8320      \n",
      "                                                                 \n",
      " max_pooling1d_11 (MaxPoolin  (None, 4, 128)           0         \n",
      " g1D)                                                            \n",
      "                                                                 \n",
      " dropout_5 (Dropout)         (None, 4, 128)            0         \n",
      "                                                                 \n",
      " global_average_pooling1d_5   (None, 128)              0         \n",
      " (GlobalAveragePooling1D)                                        \n",
      "                                                                 \n",
      " flatten_5 (Flatten)         (None, 128)               0         \n",
      "                                                                 \n",
      " dense_5 (Dense)             (None, 1)                 129       \n",
      "                                                                 \n",
      "=================================================================\n",
      "Total params: 2,014,913\n",
      "Trainable params: 14,913\n",
      "Non-trainable params: 2,000,000\n",
      "_________________________________________________________________\n",
      "936/936 [==============================] - 2s 2ms/step\n",
      "Model: \"sequential_6\"\n",
      "_________________________________________________________________\n",
      " Layer (type)                Output Shape              Param #   \n",
      "=================================================================\n",
      " embedding_6 (Embedding)     (None, 100, 100)          2000000   \n",
      "                                                                 \n",
      " conv1d_12 (Conv1D)          (None, 100, 64)           6464      \n",
      "                                                                 \n",
      " max_pooling1d_12 (MaxPoolin  (None, 20, 64)           0         \n",
      " g1D)                                                            \n",
      "                                                                 \n",
      " conv1d_13 (Conv1D)          (None, 20, 128)           8320      \n",
      "                                                                 \n",
      " max_pooling1d_13 (MaxPoolin  (None, 4, 128)           0         \n",
      " g1D)                                                            \n",
      "                                                                 \n",
      " dropout_6 (Dropout)         (None, 4, 128)            0         \n",
      "                                                                 \n",
      " global_average_pooling1d_6   (None, 128)              0         \n",
      " (GlobalAveragePooling1D)                                        \n",
      "                                                                 \n",
      " flatten_6 (Flatten)         (None, 128)               0         \n",
      "                                                                 \n",
      " dense_6 (Dense)             (None, 1)                 129       \n",
      "                                                                 \n",
      "=================================================================\n",
      "Total params: 2,014,913\n",
      "Trainable params: 14,913\n",
      "Non-trainable params: 2,000,000\n",
      "_________________________________________________________________\n",
      "936/936 [==============================] - 2s 2ms/step\n",
      "Model: \"sequential_7\"\n",
      "_________________________________________________________________\n",
      " Layer (type)                Output Shape              Param #   \n",
      "=================================================================\n",
      " embedding_7 (Embedding)     (None, 100, 100)          2000000   \n",
      "                                                                 \n",
      " conv1d_14 (Conv1D)          (None, 100, 64)           6464      \n",
      "                                                                 \n",
      " max_pooling1d_14 (MaxPoolin  (None, 20, 64)           0         \n",
      " g1D)                                                            \n",
      "                                                                 \n",
      " conv1d_15 (Conv1D)          (None, 20, 128)           8320      \n",
      "                                                                 \n",
      " max_pooling1d_15 (MaxPoolin  (None, 4, 128)           0         \n",
      " g1D)                                                            \n",
      "                                                                 \n",
      " dropout_7 (Dropout)         (None, 4, 128)            0         \n",
      "                                                                 \n",
      " global_average_pooling1d_7   (None, 128)              0         \n",
      " (GlobalAveragePooling1D)                                        \n",
      "                                                                 \n",
      " flatten_7 (Flatten)         (None, 128)               0         \n",
      "                                                                 \n",
      " dense_7 (Dense)             (None, 1)                 129       \n",
      "                                                                 \n",
      "=================================================================\n",
      "Total params: 2,014,913\n",
      "Trainable params: 14,913\n",
      "Non-trainable params: 2,000,000\n",
      "_________________________________________________________________\n",
      "936/936 [==============================] - 2s 2ms/step\n",
      "Model: \"sequential_8\"\n",
      "_________________________________________________________________\n",
      " Layer (type)                Output Shape              Param #   \n",
      "=================================================================\n",
      " embedding_8 (Embedding)     (None, 100, 100)          2000000   \n",
      "                                                                 \n",
      " conv1d_16 (Conv1D)          (None, 100, 64)           6464      \n",
      "                                                                 \n",
      " max_pooling1d_16 (MaxPoolin  (None, 20, 64)           0         \n",
      " g1D)                                                            \n",
      "                                                                 \n",
      " conv1d_17 (Conv1D)          (None, 20, 128)           8320      \n",
      "                                                                 \n",
      " max_pooling1d_17 (MaxPoolin  (None, 4, 128)           0         \n",
      " g1D)                                                            \n",
      "                                                                 \n",
      " dropout_8 (Dropout)         (None, 4, 128)            0         \n",
      "                                                                 \n",
      " global_average_pooling1d_8   (None, 128)              0         \n",
      " (GlobalAveragePooling1D)                                        \n",
      "                                                                 \n",
      " flatten_8 (Flatten)         (None, 128)               0         \n"
     ]
    },
    {
     "name": "stdout",
     "output_type": "stream",
     "text": [
      "                                                                 \n",
      " dense_8 (Dense)             (None, 1)                 129       \n",
      "                                                                 \n",
      "=================================================================\n",
      "Total params: 2,014,913\n",
      "Trainable params: 14,913\n",
      "Non-trainable params: 2,000,000\n",
      "_________________________________________________________________\n",
      "936/936 [==============================] - 2s 2ms/step\n",
      "Model: \"sequential_9\"\n",
      "_________________________________________________________________\n",
      " Layer (type)                Output Shape              Param #   \n",
      "=================================================================\n",
      " embedding_9 (Embedding)     (None, 100, 100)          2000000   \n",
      "                                                                 \n",
      " conv1d_18 (Conv1D)          (None, 100, 64)           6464      \n",
      "                                                                 \n",
      " max_pooling1d_18 (MaxPoolin  (None, 20, 64)           0         \n",
      " g1D)                                                            \n",
      "                                                                 \n",
      " conv1d_19 (Conv1D)          (None, 20, 128)           8320      \n",
      "                                                                 \n",
      " max_pooling1d_19 (MaxPoolin  (None, 4, 128)           0         \n",
      " g1D)                                                            \n",
      "                                                                 \n",
      " dropout_9 (Dropout)         (None, 4, 128)            0         \n",
      "                                                                 \n",
      " global_average_pooling1d_9   (None, 128)              0         \n",
      " (GlobalAveragePooling1D)                                        \n",
      "                                                                 \n",
      " flatten_9 (Flatten)         (None, 128)               0         \n",
      "                                                                 \n",
      " dense_9 (Dense)             (None, 1)                 129       \n",
      "                                                                 \n",
      "=================================================================\n",
      "Total params: 2,014,913\n",
      "Trainable params: 14,913\n",
      "Non-trainable params: 2,000,000\n",
      "_________________________________________________________________\n",
      "936/936 [==============================] - 2s 2ms/step\n",
      "Model: \"sequential_10\"\n",
      "_________________________________________________________________\n",
      " Layer (type)                Output Shape              Param #   \n",
      "=================================================================\n",
      " embedding_10 (Embedding)    (None, 100, 100)          2000000   \n",
      "                                                                 \n",
      " conv1d_20 (Conv1D)          (None, 100, 32)           6432      \n",
      "                                                                 \n",
      " max_pooling1d_20 (MaxPoolin  (None, 33, 32)           0         \n",
      " g1D)                                                            \n",
      "                                                                 \n",
      " conv1d_21 (Conv1D)          (None, 33, 64)            4160      \n",
      "                                                                 \n",
      " max_pooling1d_21 (MaxPoolin  (None, 11, 64)           0         \n",
      " g1D)                                                            \n",
      "                                                                 \n",
      " dropout_10 (Dropout)        (None, 11, 64)            0         \n",
      "                                                                 \n",
      " global_average_pooling1d_10  (None, 64)               0         \n",
      "  (GlobalAveragePooling1D)                                       \n",
      "                                                                 \n",
      " flatten_10 (Flatten)        (None, 64)                0         \n",
      "                                                                 \n",
      " dense_10 (Dense)            (None, 1)                 65        \n",
      "                                                                 \n",
      "=================================================================\n",
      "Total params: 2,010,657\n",
      "Trainable params: 10,657\n",
      "Non-trainable params: 2,000,000\n",
      "_________________________________________________________________\n",
      "936/936 [==============================] - 2s 2ms/step\n",
      "Model: \"sequential_11\"\n",
      "_________________________________________________________________\n",
      " Layer (type)                Output Shape              Param #   \n",
      "=================================================================\n",
      " embedding_11 (Embedding)    (None, 100, 100)          2000000   \n",
      "                                                                 \n",
      " conv1d_22 (Conv1D)          (None, 100, 32)           6432      \n",
      "                                                                 \n",
      " max_pooling1d_22 (MaxPoolin  (None, 33, 32)           0         \n",
      " g1D)                                                            \n",
      "                                                                 \n",
      " conv1d_23 (Conv1D)          (None, 33, 64)            4160      \n",
      "                                                                 \n",
      " max_pooling1d_23 (MaxPoolin  (None, 11, 64)           0         \n",
      " g1D)                                                            \n",
      "                                                                 \n",
      " dropout_11 (Dropout)        (None, 11, 64)            0         \n",
      "                                                                 \n",
      " global_average_pooling1d_11  (None, 64)               0         \n",
      "  (GlobalAveragePooling1D)                                       \n",
      "                                                                 \n",
      " flatten_11 (Flatten)        (None, 64)                0         \n",
      "                                                                 \n",
      " dense_11 (Dense)            (None, 1)                 65        \n",
      "                                                                 \n",
      "=================================================================\n",
      "Total params: 2,010,657\n",
      "Trainable params: 10,657\n",
      "Non-trainable params: 2,000,000\n",
      "_________________________________________________________________\n",
      "936/936 [==============================] - 2s 2ms/step\n",
      "Model: \"sequential_12\"\n",
      "_________________________________________________________________\n",
      " Layer (type)                Output Shape              Param #   \n",
      "=================================================================\n",
      " embedding_12 (Embedding)    (None, 100, 100)          2000000   \n",
      "                                                                 \n",
      " conv1d_24 (Conv1D)          (None, 100, 32)           6432      \n",
      "                                                                 \n",
      " max_pooling1d_24 (MaxPoolin  (None, 33, 32)           0         \n",
      " g1D)                                                            \n",
      "                                                                 \n",
      " conv1d_25 (Conv1D)          (None, 33, 64)            4160      \n",
      "                                                                 \n",
      " max_pooling1d_25 (MaxPoolin  (None, 11, 64)           0         \n",
      " g1D)                                                            \n",
      "                                                                 \n",
      " dropout_12 (Dropout)        (None, 11, 64)            0         \n",
      "                                                                 \n",
      " global_average_pooling1d_12  (None, 64)               0         \n",
      "  (GlobalAveragePooling1D)                                       \n",
      "                                                                 \n",
      " flatten_12 (Flatten)        (None, 64)                0         \n",
      "                                                                 \n",
      " dense_12 (Dense)            (None, 1)                 65        \n",
      "                                                                 \n",
      "=================================================================\n",
      "Total params: 2,010,657\n",
      "Trainable params: 10,657\n",
      "Non-trainable params: 2,000,000\n",
      "_________________________________________________________________\n",
      "936/936 [==============================] - 2s 2ms/step\n",
      "Model: \"sequential_13\"\n",
      "_________________________________________________________________\n",
      " Layer (type)                Output Shape              Param #   \n",
      "=================================================================\n",
      " embedding_13 (Embedding)    (None, 100, 100)          2000000   \n"
     ]
    },
    {
     "name": "stdout",
     "output_type": "stream",
     "text": [
      "                                                                 \n",
      " conv1d_26 (Conv1D)          (None, 100, 32)           6432      \n",
      "                                                                 \n",
      " max_pooling1d_26 (MaxPoolin  (None, 33, 32)           0         \n",
      " g1D)                                                            \n",
      "                                                                 \n",
      " conv1d_27 (Conv1D)          (None, 33, 64)            4160      \n",
      "                                                                 \n",
      " max_pooling1d_27 (MaxPoolin  (None, 11, 64)           0         \n",
      " g1D)                                                            \n",
      "                                                                 \n",
      " dropout_13 (Dropout)        (None, 11, 64)            0         \n",
      "                                                                 \n",
      " global_average_pooling1d_13  (None, 64)               0         \n",
      "  (GlobalAveragePooling1D)                                       \n",
      "                                                                 \n",
      " flatten_13 (Flatten)        (None, 64)                0         \n",
      "                                                                 \n",
      " dense_13 (Dense)            (None, 1)                 65        \n",
      "                                                                 \n",
      "=================================================================\n",
      "Total params: 2,010,657\n",
      "Trainable params: 10,657\n",
      "Non-trainable params: 2,000,000\n",
      "_________________________________________________________________\n",
      "936/936 [==============================] - 2s 2ms/step\n",
      "Model: \"sequential_14\"\n",
      "_________________________________________________________________\n",
      " Layer (type)                Output Shape              Param #   \n",
      "=================================================================\n",
      " embedding_14 (Embedding)    (None, 100, 100)          2000000   \n",
      "                                                                 \n",
      " conv1d_28 (Conv1D)          (None, 100, 32)           6432      \n",
      "                                                                 \n",
      " max_pooling1d_28 (MaxPoolin  (None, 33, 32)           0         \n",
      " g1D)                                                            \n",
      "                                                                 \n",
      " conv1d_29 (Conv1D)          (None, 33, 64)            4160      \n",
      "                                                                 \n",
      " max_pooling1d_29 (MaxPoolin  (None, 11, 64)           0         \n",
      " g1D)                                                            \n",
      "                                                                 \n",
      " dropout_14 (Dropout)        (None, 11, 64)            0         \n",
      "                                                                 \n",
      " global_average_pooling1d_14  (None, 64)               0         \n",
      "  (GlobalAveragePooling1D)                                       \n",
      "                                                                 \n",
      " flatten_14 (Flatten)        (None, 64)                0         \n",
      "                                                                 \n",
      " dense_14 (Dense)            (None, 1)                 65        \n",
      "                                                                 \n",
      "=================================================================\n",
      "Total params: 2,010,657\n",
      "Trainable params: 10,657\n",
      "Non-trainable params: 2,000,000\n",
      "_________________________________________________________________\n",
      "936/936 [==============================] - 2s 2ms/step\n",
      "Model: \"sequential_15\"\n",
      "_________________________________________________________________\n",
      " Layer (type)                Output Shape              Param #   \n",
      "=================================================================\n",
      " embedding_15 (Embedding)    (None, 100, 100)          2000000   \n",
      "                                                                 \n",
      " conv1d_30 (Conv1D)          (None, 100, 64)           6464      \n",
      "                                                                 \n",
      " max_pooling1d_30 (MaxPoolin  (None, 33, 64)           0         \n",
      " g1D)                                                            \n",
      "                                                                 \n",
      " conv1d_31 (Conv1D)          (None, 33, 128)           8320      \n",
      "                                                                 \n",
      " max_pooling1d_31 (MaxPoolin  (None, 11, 128)          0         \n",
      " g1D)                                                            \n",
      "                                                                 \n",
      " dropout_15 (Dropout)        (None, 11, 128)           0         \n",
      "                                                                 \n",
      " global_average_pooling1d_15  (None, 128)              0         \n",
      "  (GlobalAveragePooling1D)                                       \n",
      "                                                                 \n",
      " flatten_15 (Flatten)        (None, 128)               0         \n",
      "                                                                 \n",
      " dense_15 (Dense)            (None, 10)                1290      \n",
      "                                                                 \n",
      " dense_16 (Dense)            (None, 10)                110       \n",
      "                                                                 \n",
      " dense_17 (Dense)            (None, 1)                 11        \n",
      "                                                                 \n",
      "=================================================================\n",
      "Total params: 2,016,195\n",
      "Trainable params: 16,195\n",
      "Non-trainable params: 2,000,000\n",
      "_________________________________________________________________\n",
      "936/936 [==============================] - 2s 2ms/step\n",
      "Model: \"sequential_16\"\n",
      "_________________________________________________________________\n",
      " Layer (type)                Output Shape              Param #   \n",
      "=================================================================\n",
      " embedding_16 (Embedding)    (None, 100, 100)          2000000   \n",
      "                                                                 \n",
      " conv1d_32 (Conv1D)          (None, 100, 64)           6464      \n",
      "                                                                 \n",
      " max_pooling1d_32 (MaxPoolin  (None, 33, 64)           0         \n",
      " g1D)                                                            \n",
      "                                                                 \n",
      " conv1d_33 (Conv1D)          (None, 33, 128)           8320      \n",
      "                                                                 \n",
      " max_pooling1d_33 (MaxPoolin  (None, 11, 128)          0         \n",
      " g1D)                                                            \n",
      "                                                                 \n",
      " dropout_16 (Dropout)        (None, 11, 128)           0         \n",
      "                                                                 \n",
      " global_average_pooling1d_16  (None, 128)              0         \n",
      "  (GlobalAveragePooling1D)                                       \n",
      "                                                                 \n",
      " flatten_16 (Flatten)        (None, 128)               0         \n",
      "                                                                 \n",
      " dense_18 (Dense)            (None, 10)                1290      \n",
      "                                                                 \n",
      " dense_19 (Dense)            (None, 10)                110       \n",
      "                                                                 \n",
      " dense_20 (Dense)            (None, 1)                 11        \n",
      "                                                                 \n",
      "=================================================================\n",
      "Total params: 2,016,195\n",
      "Trainable params: 16,195\n",
      "Non-trainable params: 2,000,000\n",
      "_________________________________________________________________\n",
      "936/936 [==============================] - 2s 2ms/step\n",
      "Model: \"sequential_17\"\n",
      "_________________________________________________________________\n",
      " Layer (type)                Output Shape              Param #   \n",
      "=================================================================\n",
      " embedding_17 (Embedding)    (None, 100, 100)          2000000   \n",
      "                                                                 \n",
      " conv1d_34 (Conv1D)          (None, 100, 64)           6464      \n",
      "                                                                 \n"
     ]
    },
    {
     "name": "stdout",
     "output_type": "stream",
     "text": [
      " max_pooling1d_34 (MaxPoolin  (None, 33, 64)           0         \n",
      " g1D)                                                            \n",
      "                                                                 \n",
      " conv1d_35 (Conv1D)          (None, 33, 128)           8320      \n",
      "                                                                 \n",
      " max_pooling1d_35 (MaxPoolin  (None, 11, 128)          0         \n",
      " g1D)                                                            \n",
      "                                                                 \n",
      " dropout_17 (Dropout)        (None, 11, 128)           0         \n",
      "                                                                 \n",
      " global_average_pooling1d_17  (None, 128)              0         \n",
      "  (GlobalAveragePooling1D)                                       \n",
      "                                                                 \n",
      " flatten_17 (Flatten)        (None, 128)               0         \n",
      "                                                                 \n",
      " dense_21 (Dense)            (None, 10)                1290      \n",
      "                                                                 \n",
      " dense_22 (Dense)            (None, 10)                110       \n",
      "                                                                 \n",
      " dense_23 (Dense)            (None, 1)                 11        \n",
      "                                                                 \n",
      "=================================================================\n",
      "Total params: 2,016,195\n",
      "Trainable params: 16,195\n",
      "Non-trainable params: 2,000,000\n",
      "_________________________________________________________________\n",
      "936/936 [==============================] - 2s 2ms/step\n",
      "Model: \"sequential_18\"\n",
      "_________________________________________________________________\n",
      " Layer (type)                Output Shape              Param #   \n",
      "=================================================================\n",
      " embedding_18 (Embedding)    (None, 100, 100)          2000000   \n",
      "                                                                 \n",
      " conv1d_36 (Conv1D)          (None, 100, 64)           6464      \n",
      "                                                                 \n",
      " max_pooling1d_36 (MaxPoolin  (None, 33, 64)           0         \n",
      " g1D)                                                            \n",
      "                                                                 \n",
      " conv1d_37 (Conv1D)          (None, 33, 128)           8320      \n",
      "                                                                 \n",
      " max_pooling1d_37 (MaxPoolin  (None, 11, 128)          0         \n",
      " g1D)                                                            \n",
      "                                                                 \n",
      " dropout_18 (Dropout)        (None, 11, 128)           0         \n",
      "                                                                 \n",
      " global_average_pooling1d_18  (None, 128)              0         \n",
      "  (GlobalAveragePooling1D)                                       \n",
      "                                                                 \n",
      " flatten_18 (Flatten)        (None, 128)               0         \n",
      "                                                                 \n",
      " dense_24 (Dense)            (None, 10)                1290      \n",
      "                                                                 \n",
      " dense_25 (Dense)            (None, 10)                110       \n",
      "                                                                 \n",
      " dense_26 (Dense)            (None, 1)                 11        \n",
      "                                                                 \n",
      "=================================================================\n",
      "Total params: 2,016,195\n",
      "Trainable params: 16,195\n",
      "Non-trainable params: 2,000,000\n",
      "_________________________________________________________________\n",
      "936/936 [==============================] - 2s 2ms/step\n",
      "Model: \"sequential_19\"\n",
      "_________________________________________________________________\n",
      " Layer (type)                Output Shape              Param #   \n",
      "=================================================================\n",
      " embedding_19 (Embedding)    (None, 100, 100)          2000000   \n",
      "                                                                 \n",
      " conv1d_38 (Conv1D)          (None, 100, 64)           6464      \n",
      "                                                                 \n",
      " max_pooling1d_38 (MaxPoolin  (None, 33, 64)           0         \n",
      " g1D)                                                            \n",
      "                                                                 \n",
      " conv1d_39 (Conv1D)          (None, 33, 128)           8320      \n",
      "                                                                 \n",
      " max_pooling1d_39 (MaxPoolin  (None, 11, 128)          0         \n",
      " g1D)                                                            \n",
      "                                                                 \n",
      " dropout_19 (Dropout)        (None, 11, 128)           0         \n",
      "                                                                 \n",
      " global_average_pooling1d_19  (None, 128)              0         \n",
      "  (GlobalAveragePooling1D)                                       \n",
      "                                                                 \n",
      " flatten_19 (Flatten)        (None, 128)               0         \n",
      "                                                                 \n",
      " dense_27 (Dense)            (None, 10)                1290      \n",
      "                                                                 \n",
      " dense_28 (Dense)            (None, 10)                110       \n",
      "                                                                 \n",
      " dense_29 (Dense)            (None, 1)                 11        \n",
      "                                                                 \n",
      "=================================================================\n",
      "Total params: 2,016,195\n",
      "Trainable params: 16,195\n",
      "Non-trainable params: 2,000,000\n",
      "_________________________________________________________________\n",
      "936/936 [==============================] - 2s 2ms/step\n",
      "Model: \"sequential_20\"\n",
      "_________________________________________________________________\n",
      " Layer (type)                Output Shape              Param #   \n",
      "=================================================================\n",
      " embedding_20 (Embedding)    (None, 100, 100)          2000000   \n",
      "                                                                 \n",
      " conv1d_40 (Conv1D)          (None, 100, 128)          12928     \n",
      "                                                                 \n",
      " max_pooling1d_40 (MaxPoolin  (None, 20, 128)          0         \n",
      " g1D)                                                            \n",
      "                                                                 \n",
      " conv1d_41 (Conv1D)          (None, 20, 256)           33024     \n",
      "                                                                 \n",
      " max_pooling1d_41 (MaxPoolin  (None, 4, 256)           0         \n",
      " g1D)                                                            \n",
      "                                                                 \n",
      " dropout_20 (Dropout)        (None, 4, 256)            0         \n",
      "                                                                 \n",
      " global_average_pooling1d_20  (None, 256)              0         \n",
      "  (GlobalAveragePooling1D)                                       \n",
      "                                                                 \n",
      " flatten_20 (Flatten)        (None, 256)               0         \n",
      "                                                                 \n",
      " dense_30 (Dense)            (None, 1)                 257       \n",
      "                                                                 \n",
      "=================================================================\n",
      "Total params: 2,046,209\n",
      "Trainable params: 46,209\n",
      "Non-trainable params: 2,000,000\n",
      "_________________________________________________________________\n",
      "936/936 [==============================] - 3s 3ms/step\n",
      "Model: \"sequential_21\"\n",
      "_________________________________________________________________\n",
      " Layer (type)                Output Shape              Param #   \n",
      "=================================================================\n",
      " embedding_21 (Embedding)    (None, 100, 100)          2000000   \n",
      "                                                                 \n",
      " conv1d_42 (Conv1D)          (None, 100, 128)          12928     \n"
     ]
    },
    {
     "name": "stdout",
     "output_type": "stream",
     "text": [
      "                                                                 \n",
      " max_pooling1d_42 (MaxPoolin  (None, 20, 128)          0         \n",
      " g1D)                                                            \n",
      "                                                                 \n",
      " conv1d_43 (Conv1D)          (None, 20, 256)           33024     \n",
      "                                                                 \n",
      " max_pooling1d_43 (MaxPoolin  (None, 4, 256)           0         \n",
      " g1D)                                                            \n",
      "                                                                 \n",
      " dropout_21 (Dropout)        (None, 4, 256)            0         \n",
      "                                                                 \n",
      " global_average_pooling1d_21  (None, 256)              0         \n",
      "  (GlobalAveragePooling1D)                                       \n",
      "                                                                 \n",
      " flatten_21 (Flatten)        (None, 256)               0         \n",
      "                                                                 \n",
      " dense_31 (Dense)            (None, 1)                 257       \n",
      "                                                                 \n",
      "=================================================================\n",
      "Total params: 2,046,209\n",
      "Trainable params: 46,209\n",
      "Non-trainable params: 2,000,000\n",
      "_________________________________________________________________\n",
      "936/936 [==============================] - 3s 3ms/step\n",
      "Model: \"sequential_22\"\n",
      "_________________________________________________________________\n",
      " Layer (type)                Output Shape              Param #   \n",
      "=================================================================\n",
      " embedding_22 (Embedding)    (None, 100, 100)          2000000   \n",
      "                                                                 \n",
      " conv1d_44 (Conv1D)          (None, 100, 128)          12928     \n",
      "                                                                 \n",
      " max_pooling1d_44 (MaxPoolin  (None, 20, 128)          0         \n",
      " g1D)                                                            \n",
      "                                                                 \n",
      " conv1d_45 (Conv1D)          (None, 20, 256)           33024     \n",
      "                                                                 \n",
      " max_pooling1d_45 (MaxPoolin  (None, 4, 256)           0         \n",
      " g1D)                                                            \n",
      "                                                                 \n",
      " dropout_22 (Dropout)        (None, 4, 256)            0         \n",
      "                                                                 \n",
      " global_average_pooling1d_22  (None, 256)              0         \n",
      "  (GlobalAveragePooling1D)                                       \n",
      "                                                                 \n",
      " flatten_22 (Flatten)        (None, 256)               0         \n",
      "                                                                 \n",
      " dense_32 (Dense)            (None, 1)                 257       \n",
      "                                                                 \n",
      "=================================================================\n",
      "Total params: 2,046,209\n",
      "Trainable params: 46,209\n",
      "Non-trainable params: 2,000,000\n",
      "_________________________________________________________________\n",
      "936/936 [==============================] - 3s 3ms/step\n",
      "Model: \"sequential_23\"\n",
      "_________________________________________________________________\n",
      " Layer (type)                Output Shape              Param #   \n",
      "=================================================================\n",
      " embedding_23 (Embedding)    (None, 100, 100)          2000000   \n",
      "                                                                 \n",
      " conv1d_46 (Conv1D)          (None, 100, 128)          12928     \n",
      "                                                                 \n",
      " max_pooling1d_46 (MaxPoolin  (None, 20, 128)          0         \n",
      " g1D)                                                            \n",
      "                                                                 \n",
      " conv1d_47 (Conv1D)          (None, 20, 256)           33024     \n",
      "                                                                 \n",
      " max_pooling1d_47 (MaxPoolin  (None, 4, 256)           0         \n",
      " g1D)                                                            \n",
      "                                                                 \n",
      " dropout_23 (Dropout)        (None, 4, 256)            0         \n",
      "                                                                 \n",
      " global_average_pooling1d_23  (None, 256)              0         \n",
      "  (GlobalAveragePooling1D)                                       \n",
      "                                                                 \n",
      " flatten_23 (Flatten)        (None, 256)               0         \n",
      "                                                                 \n",
      " dense_33 (Dense)            (None, 1)                 257       \n",
      "                                                                 \n",
      "=================================================================\n",
      "Total params: 2,046,209\n",
      "Trainable params: 46,209\n",
      "Non-trainable params: 2,000,000\n",
      "_________________________________________________________________\n",
      "936/936 [==============================] - 3s 3ms/step\n",
      "Model: \"sequential_24\"\n",
      "_________________________________________________________________\n",
      " Layer (type)                Output Shape              Param #   \n",
      "=================================================================\n",
      " embedding_24 (Embedding)    (None, 100, 100)          2000000   \n",
      "                                                                 \n",
      " conv1d_48 (Conv1D)          (None, 100, 128)          12928     \n",
      "                                                                 \n",
      " max_pooling1d_48 (MaxPoolin  (None, 20, 128)          0         \n",
      " g1D)                                                            \n",
      "                                                                 \n",
      " conv1d_49 (Conv1D)          (None, 20, 256)           33024     \n",
      "                                                                 \n",
      " max_pooling1d_49 (MaxPoolin  (None, 4, 256)           0         \n",
      " g1D)                                                            \n",
      "                                                                 \n",
      " dropout_24 (Dropout)        (None, 4, 256)            0         \n",
      "                                                                 \n",
      " global_average_pooling1d_24  (None, 256)              0         \n",
      "  (GlobalAveragePooling1D)                                       \n",
      "                                                                 \n",
      " flatten_24 (Flatten)        (None, 256)               0         \n",
      "                                                                 \n",
      " dense_34 (Dense)            (None, 1)                 257       \n",
      "                                                                 \n",
      "=================================================================\n",
      "Total params: 2,046,209\n",
      "Trainable params: 46,209\n",
      "Non-trainable params: 2,000,000\n",
      "_________________________________________________________________\n",
      "936/936 [==============================] - 3s 3ms/step\n",
      "Model: \"sequential_25\"\n",
      "_________________________________________________________________\n",
      " Layer (type)                Output Shape              Param #   \n",
      "=================================================================\n",
      " embedding_25 (Embedding)    (None, 100, 100)          2000000   \n",
      "                                                                 \n",
      " conv1d_50 (Conv1D)          (None, 100, 128)          12928     \n",
      "                                                                 \n",
      " max_pooling1d_50 (MaxPoolin  (None, 20, 128)          0         \n",
      " g1D)                                                            \n",
      "                                                                 \n",
      " conv1d_51 (Conv1D)          (None, 20, 256)           33024     \n",
      "                                                                 \n",
      " max_pooling1d_51 (MaxPoolin  (None, 4, 256)           0         \n",
      " g1D)                                                            \n",
      "                                                                 \n",
      " dropout_25 (Dropout)        (None, 4, 256)            0         \n",
      "                                                                 \n"
     ]
    },
    {
     "name": "stdout",
     "output_type": "stream",
     "text": [
      " global_average_pooling1d_25  (None, 256)              0         \n",
      "  (GlobalAveragePooling1D)                                       \n",
      "                                                                 \n",
      " flatten_25 (Flatten)        (None, 256)               0         \n",
      "                                                                 \n",
      " dense_35 (Dense)            (None, 1)                 257       \n",
      "                                                                 \n",
      "=================================================================\n",
      "Total params: 2,046,209\n",
      "Trainable params: 46,209\n",
      "Non-trainable params: 2,000,000\n",
      "_________________________________________________________________\n"
     ]
    }
   ],
   "source": [
    "random_cv = randomized_search_cv(X_train_validation, y_train_validation, weights, embedding_matrix)"
   ]
  },
  {
   "cell_type": "code",
   "execution_count": 18,
   "id": "231738c6",
   "metadata": {},
   "outputs": [],
   "source": [
    "# best_params = random_cv.best_params_\n",
    "# best_score = random_cv.best_score_\n",
    "# results = random_cv.cv_results_"
   ]
  },
  {
   "cell_type": "code",
   "execution_count": 19,
   "id": "c19b10cb",
   "metadata": {},
   "outputs": [],
   "source": [
    "# cv_data = pd.DataFrame(results)\n",
    "# cv_data.to_csv('data/cv_results.csv')"
   ]
  },
  {
   "cell_type": "code",
   "execution_count": 20,
   "id": "43e06d90",
   "metadata": {},
   "outputs": [
    {
     "data": {
      "text/plain": [
       "{'pool_size': 5,\n",
       " 'num_of_features': 20000,\n",
       " 'num_of_classes': 2,\n",
       " 'maxlen': 100,\n",
       " 'lr': 0.0001,\n",
       " 'layers': 0,\n",
       " 'kernel_size': 1,\n",
       " 'filters': 128,\n",
       " 'embedding_matrix': array([[ 0.        ,  0.        ,  0.        , ...,  0.        ,\n",
       "          0.        ,  0.        ],\n",
       "        [-0.038194  , -0.24487001,  0.72812003, ..., -0.1459    ,\n",
       "          0.82779998,  0.27061999],\n",
       "        [-0.18970001,  0.050024  ,  0.19084001, ..., -0.39804   ,\n",
       "          0.47646999, -0.15983   ],\n",
       "        ...,\n",
       "        [ 0.29811999,  0.053545  ,  0.27474001, ..., -0.51871002,\n",
       "         -0.73246002,  0.54639   ],\n",
       "        [ 0.48453999, -0.66696   ,  0.31995001, ..., -0.2985    ,\n",
       "         -0.36061999,  0.23197   ],\n",
       "        [ 0.25542   ,  0.34395   , -0.28141999, ...,  0.20162   ,\n",
       "         -0.4488    ,  0.023272  ]]),\n",
       " 'embedding_dim': 100,\n",
       " 'dropout_rate': 0.2}"
      ]
     },
     "execution_count": 20,
     "metadata": {},
     "output_type": "execute_result"
    }
   ],
   "source": [
    "best_params"
   ]
  },
  {
   "cell_type": "code",
   "execution_count": 21,
   "id": "96918838",
   "metadata": {},
   "outputs": [],
   "source": [
    "cv_results = pd.read_csv('data/cv_results.csv')"
   ]
  },
  {
   "cell_type": "code",
   "execution_count": 22,
   "id": "fc8297a7",
   "metadata": {},
   "outputs": [],
   "source": [
    "# cv_results.head()"
   ]
  },
  {
   "cell_type": "code",
   "execution_count": 38,
   "id": "e3d02c7a",
   "metadata": {},
   "outputs": [],
   "source": [
    "best = cv_results[cv_results['rank_test_score']==1]"
   ]
  },
  {
   "cell_type": "markdown",
   "id": "e40017b2",
   "metadata": {},
   "source": [
    "### 4. Formiranje modela"
   ]
  },
  {
   "cell_type": "code",
   "execution_count": null,
   "id": "b41eb51d",
   "metadata": {},
   "outputs": [],
   "source": []
  },
  {
   "cell_type": "code",
   "execution_count": 48,
   "id": "95546461",
   "metadata": {},
   "outputs": [],
   "source": [
    "kernel_size = (best['param_kernel_size'].values[0], )\n",
    "pool_size = (best['param_pool_size'].values[0], )\n",
    "filters = best['param_filters'].values[0]\n",
    "dropout_rate = best['param_dropout_rate'].values[0]\n",
    "embedding_dim = 100\n",
    "lr = best['param_lr'].values[0]\n",
    "layers = best['param_layers'].values[0]"
   ]
  },
  {
   "cell_type": "code",
   "execution_count": 49,
   "id": "de90a837",
   "metadata": {},
   "outputs": [
    {
     "name": "stdout",
     "output_type": "stream",
     "text": [
      "Model: \"sequential_27\"\n",
      "_________________________________________________________________\n",
      " Layer (type)                Output Shape              Param #   \n",
      "=================================================================\n",
      " embedding_27 (Embedding)    (None, 100, 100)          2000000   \n",
      "                                                                 \n",
      " conv1d_53 (Conv1D)          (None, 100, 128)          12928     \n",
      "                                                                 \n",
      " max_pooling1d_52 (MaxPoolin  (None, 20, 128)          0         \n",
      " g1D)                                                            \n",
      "                                                                 \n",
      " conv1d_54 (Conv1D)          (None, 20, 256)           33024     \n",
      "                                                                 \n",
      " max_pooling1d_53 (MaxPoolin  (None, 4, 256)           0         \n",
      " g1D)                                                            \n",
      "                                                                 \n",
      " dropout_26 (Dropout)        (None, 4, 256)            0         \n",
      "                                                                 \n",
      " global_average_pooling1d_26  (None, 256)              0         \n",
      "  (GlobalAveragePooling1D)                                       \n",
      "                                                                 \n",
      " flatten_26 (Flatten)        (None, 256)               0         \n",
      "                                                                 \n",
      " dense_36 (Dense)            (None, 1)                 257       \n",
      "                                                                 \n",
      "=================================================================\n",
      "Total params: 2,046,209\n",
      "Trainable params: 46,209\n",
      "Non-trainable params: 2,000,000\n",
      "_________________________________________________________________\n"
     ]
    }
   ],
   "source": [
    "binary_model = create_model(num_of_classes = 2, num_of_features = max_features, embedding_dim = embedding_dim, \n",
    "                            kernel_size = kernel_size, pool_size = pool_size, filters = filters, \n",
    "                            dropout_rate = dropout_rate, maxlen = max_len, lr = lr, \n",
    "                            embedding_matrix = embedding_matrix, layers=layers)"
   ]
  },
  {
   "cell_type": "code",
   "execution_count": null,
   "id": "9c39f5e9",
   "metadata": {},
   "outputs": [],
   "source": []
  },
  {
   "cell_type": "markdown",
   "id": "39c289e4",
   "metadata": {},
   "source": [
    "### 5. Obučavanje modela"
   ]
  },
  {
   "cell_type": "code",
   "execution_count": 67,
   "id": "04c04077",
   "metadata": {},
   "outputs": [],
   "source": [
    "# tezinu za klasu 1 podesavamo rucno jer se ispostavlja da\n",
    "# bolje klasifikuje TP instance ako nije bas tacna proporcija\n",
    "\n",
    "weights[1] = 3.4"
   ]
  },
  {
   "cell_type": "code",
   "execution_count": 68,
   "id": "5d5c5bb5",
   "metadata": {},
   "outputs": [],
   "source": [
    "epochs = 15\n",
    "batch_size = 64"
   ]
  },
  {
   "cell_type": "code",
   "execution_count": 69,
   "id": "969ce549",
   "metadata": {
    "scrolled": true
   },
   "outputs": [
    {
     "name": "stdout",
     "output_type": "stream",
     "text": [
      "Epoch 1/15\n",
      "1872/1872 [==============================] - 25s 13ms/step - loss: 0.1961 - accuracy: 0.9309 - f1_m: 0.7015 - val_loss: 0.1884 - val_accuracy: 0.9368 - val_f1_m: 0.7079\n",
      "Epoch 2/15\n",
      "1872/1872 [==============================] - 24s 13ms/step - loss: 0.1938 - accuracy: 0.9320 - f1_m: 0.7064 - val_loss: 0.1953 - val_accuracy: 0.9339 - val_f1_m: 0.7018\n",
      "Epoch 3/15\n",
      "1872/1872 [==============================] - 24s 13ms/step - loss: 0.1918 - accuracy: 0.9323 - f1_m: 0.7067 - val_loss: 0.2167 - val_accuracy: 0.9267 - val_f1_m: 0.6850\n",
      "Epoch 4/15\n",
      "1872/1872 [==============================] - 24s 13ms/step - loss: 0.1908 - accuracy: 0.9326 - f1_m: 0.7100 - val_loss: 0.2228 - val_accuracy: 0.9246 - val_f1_m: 0.6794\n",
      "Epoch 5/15\n",
      "1872/1872 [==============================] - 24s 13ms/step - loss: 0.1887 - accuracy: 0.9324 - f1_m: 0.7102 - val_loss: 0.2218 - val_accuracy: 0.9257 - val_f1_m: 0.6830\n",
      "Epoch 6/15\n",
      "1872/1872 [==============================] - 24s 13ms/step - loss: 0.1865 - accuracy: 0.9335 - f1_m: 0.7136 - val_loss: 0.2141 - val_accuracy: 0.9276 - val_f1_m: 0.6866\n",
      "Epoch 7/15\n",
      "1872/1872 [==============================] - 24s 13ms/step - loss: 0.1853 - accuracy: 0.9341 - f1_m: 0.7143 - val_loss: 0.2475 - val_accuracy: 0.9160 - val_f1_m: 0.6621\n",
      "Epoch 8/15\n",
      "1872/1872 [==============================] - 24s 13ms/step - loss: 0.1828 - accuracy: 0.9347 - f1_m: 0.7164 - val_loss: 0.2094 - val_accuracy: 0.9293 - val_f1_m: 0.6912\n",
      "Epoch 9/15\n",
      "1872/1872 [==============================] - 24s 13ms/step - loss: 0.1815 - accuracy: 0.9354 - f1_m: 0.7195 - val_loss: 0.2105 - val_accuracy: 0.9290 - val_f1_m: 0.6900\n",
      "Epoch 10/15\n",
      "1872/1872 [==============================] - 24s 13ms/step - loss: 0.1798 - accuracy: 0.9358 - f1_m: 0.7197 - val_loss: 0.1706 - val_accuracy: 0.9427 - val_f1_m: 0.7197\n",
      "Epoch 11/15\n",
      "1872/1872 [==============================] - 24s 13ms/step - loss: 0.1784 - accuracy: 0.9362 - f1_m: 0.7227 - val_loss: 0.2139 - val_accuracy: 0.9280 - val_f1_m: 0.6880\n",
      "Epoch 12/15\n",
      "1872/1872 [==============================] - 24s 13ms/step - loss: 0.1772 - accuracy: 0.9365 - f1_m: 0.7244 - val_loss: 0.2105 - val_accuracy: 0.9289 - val_f1_m: 0.6907\n",
      "Epoch 13/15\n",
      "1872/1872 [==============================] - 24s 13ms/step - loss: 0.1747 - accuracy: 0.9373 - f1_m: 0.7276 - val_loss: 0.1816 - val_accuracy: 0.9393 - val_f1_m: 0.7150\n",
      "Epoch 14/15\n",
      "1872/1872 [==============================] - 24s 13ms/step - loss: 0.1731 - accuracy: 0.9373 - f1_m: 0.7259 - val_loss: 0.2106 - val_accuracy: 0.9300 - val_f1_m: 0.6929\n",
      "Epoch 15/15\n",
      "1872/1872 [==============================] - 24s 13ms/step - loss: 0.1726 - accuracy: 0.9382 - f1_m: 0.7307 - val_loss: 0.2180 - val_accuracy: 0.9265 - val_f1_m: 0.6854\n",
      "Trajanje obucavanja modela binarne klasifikacije:  358.8946268558502\n"
     ]
    }
   ],
   "source": [
    "start = time.time()    \n",
    "\n",
    "binary_history = binary_model.fit(X_train, y_train, batch_size=batch_size, epochs=epochs, \n",
    "                                 validation_data=(X_validation, y_validation), class_weight=weights)\n",
    "                                 \n",
    "print('Trajanje obucavanja modela binarne klasifikacije: ', time.time() - start)"
   ]
  },
  {
   "cell_type": "code",
   "execution_count": null,
   "id": "f89e20b5",
   "metadata": {},
   "outputs": [],
   "source": []
  },
  {
   "cell_type": "markdown",
   "id": "c1cb70f9",
   "metadata": {},
   "source": [
    "Prate se tacnost, funkcija gubitka i F1 mera (jer klase nisu izbalansirane)"
   ]
  },
  {
   "cell_type": "code",
   "execution_count": 70,
   "id": "4d39ec52",
   "metadata": {},
   "outputs": [
    {
     "data": {
      "image/png": "[encoded data removed]",
      "text/plain": [
       "<Figure size 1080x360 with 3 Axes>"
      ]
     },
     "metadata": {
      "needs_background": "light"
     },
     "output_type": "display_data"
    }
   ],
   "source": [
    "# Grafici koji prikazuju promene metrika tokom treniranja na trening skupu i validacionom skupu kroz epohe \n",
    "\n",
    "plot_graphs(binary_history, ['accuracy', 'loss', 'f1_m'])"
   ]
  },
  {
   "cell_type": "code",
   "execution_count": null,
   "id": "150acddc",
   "metadata": {},
   "outputs": [],
   "source": []
  },
  {
   "cell_type": "markdown",
   "id": "a0427b6d",
   "metadata": {},
   "source": [
    "### 6. Evaluacija modela"
   ]
  },
  {
   "cell_type": "code",
   "execution_count": 71,
   "id": "b482d9e8",
   "metadata": {},
   "outputs": [
    {
     "name": "stdout",
     "output_type": "stream",
     "text": [
      "2305/2305 [==============================] - 7s 3ms/step - loss: 0.2183 - accuracy: 0.9264 - f1_m: 0.6615\n",
      "Loss:  0.21834060549736023\n",
      "Test accuracy:  0.9264171123504639\n",
      "F1:  0.6615444421768188\n"
     ]
    }
   ],
   "source": [
    "scores = binary_model.evaluate(X_test, y_test)\n",
    "print('Loss: ', scores[0])\n",
    "print('Test accuracy: ', scores[1])\n",
    "print('F1: ', scores[2])"
   ]
  },
  {
   "cell_type": "markdown",
   "id": "59cf15c7",
   "metadata": {},
   "source": [
    "Predviđanje: "
   ]
  },
  {
   "cell_type": "code",
   "execution_count": 72,
   "id": "7281cef0",
   "metadata": {},
   "outputs": [
    {
     "name": "stdout",
     "output_type": "stream",
     "text": [
      "2305/2305 [==============================] - 6s 3ms/step\n"
     ]
    }
   ],
   "source": [
    "y_predicted = binary_model.predict(X_test)"
   ]
  },
  {
   "cell_type": "code",
   "execution_count": 73,
   "id": "2499b829",
   "metadata": {},
   "outputs": [],
   "source": [
    "# sigmoidna funkcija:\n",
    "\n",
    "y_labels = [int(score > 0.5) for score in y_predicted]"
   ]
  },
  {
   "cell_type": "code",
   "execution_count": 74,
   "id": "46408129",
   "metadata": {},
   "outputs": [
    {
     "name": "stdout",
     "output_type": "stream",
     "text": [
      "F1:  0.6996235606731621\n"
     ]
    }
   ],
   "source": [
    "# F1 mera je bolja metrika kada su neizbalansirane klase\n",
    "\n",
    "print('F1: ', metrics.f1_score(y_test, y_labels))"
   ]
  },
  {
   "cell_type": "code",
   "execution_count": 75,
   "id": "c18e0c0e",
   "metadata": {},
   "outputs": [
    {
     "name": "stdout",
     "output_type": "stream",
     "text": [
      "[[61995  4331]\n",
      " [ 1095  6319]]\n"
     ]
    }
   ],
   "source": [
    "cf = metrics.confusion_matrix(y_test, y_labels)\n",
    "print(cf)"
   ]
  },
  {
   "cell_type": "code",
   "execution_count": 76,
   "id": "220e5e3e",
   "metadata": {},
   "outputs": [
    {
     "data": {
      "image/png": "[encoded data removed]",
      "text/plain": [
       "<Figure size 1008x360 with 4 Axes>"
      ]
     },
     "metadata": {
      "needs_background": "light"
     },
     "output_type": "display_data"
    }
   ],
   "source": [
    "# funkcija koja prikazuje matricu konfuzije i \n",
    "# istu tu matricu sa vrednostima u  procentima\n",
    "\n",
    "plot_cf(cf, 'binary', ['untoxic, toxic'])"
   ]
  },
  {
   "cell_type": "code",
   "execution_count": 77,
   "id": "ffbc27d7",
   "metadata": {},
   "outputs": [
    {
     "data": {
      "text/plain": [
       "0    66326\n",
       "1     7414\n",
       "Name: target, dtype: int64"
      ]
     },
     "execution_count": 77,
     "metadata": {},
     "output_type": "execute_result"
    }
   ],
   "source": [
    "y_test.value_counts()"
   ]
  },
  {
   "cell_type": "code",
   "execution_count": 78,
   "id": "c38a46b6",
   "metadata": {},
   "outputs": [
    {
     "name": "stdout",
     "output_type": "stream",
     "text": [
      "---------------------- IZVESTAJ -----------------------\n",
      "\n",
      "              precision    recall  f1-score   support\n",
      "\n",
      "           0       0.98      0.93      0.96     66326\n",
      "           1       0.59      0.85      0.70      7414\n",
      "\n",
      "    accuracy                           0.93     73740\n",
      "   macro avg       0.79      0.89      0.83     73740\n",
      "weighted avg       0.94      0.93      0.93     73740\n",
      "\n"
     ]
    }
   ],
   "source": [
    "print('---------------------- IZVESTAJ -----------------------\\n')\n",
    "print(metrics.classification_report(y_test, y_labels))"
   ]
  },
  {
   "cell_type": "code",
   "execution_count": null,
   "id": "2b7e194e",
   "metadata": {},
   "outputs": [],
   "source": []
  }
 ],
 "metadata": {
  "kernelspec": {
   "display_name": "Python 3 (ipykernel)",
   "language": "python",
   "name": "python3"
  },
  "language_info": {
   "codemirror_mode": {
    "name": "ipython",
    "version": 3
   },
   "file_extension": ".py",
   "mimetype": "text/x-python",
   "name": "python",
   "nbconvert_exporter": "python",
   "pygments_lexer": "ipython3",
   "version": "3.9.12"
  }
 },
 "nbformat": 4,
 "nbformat_minor": 5
}
