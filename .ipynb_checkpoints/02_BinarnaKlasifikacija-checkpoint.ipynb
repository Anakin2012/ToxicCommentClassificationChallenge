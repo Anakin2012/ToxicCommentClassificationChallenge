{
 "cells": [
  {
   "cell_type": "code",
   "execution_count": 17,
   "id": "ccf4237f",
   "metadata": {},
   "outputs": [],
   "source": [
    "import pandas as pd\n",
    "import numpy as np\n",
    "from matplotlib import pyplot as plt\n",
    "\n",
    "import pickle\n",
    "import sklearn\n",
    "import time\n",
    "from sklearn import metrics\n",
    "from sklearn import model_selection\n",
    "\n",
    "\n",
    "import warnings\n",
    "warnings.simplefilter(action='ignore', category=FutureWarning)\n",
    "warnings.simplefilter(action='ignore', category=DeprecationWarning)"
   ]
  },
  {
   "cell_type": "code",
   "execution_count": 50,
   "id": "ee6c7433",
   "metadata": {},
   "outputs": [],
   "source": [
    "%run SharedFunctions.ipynb"
   ]
  },
  {
   "cell_type": "code",
   "execution_count": null,
   "id": "72e5b526",
   "metadata": {},
   "outputs": [],
   "source": []
  },
  {
   "cell_type": "markdown",
   "id": "ad2119d5",
   "metadata": {},
   "source": [
    "Učitava se prethodno pripremljen skup podataka: "
   ]
  },
  {
   "cell_type": "code",
   "execution_count": 3,
   "id": "2297f84b",
   "metadata": {},
   "outputs": [],
   "source": [
    "data = pd.read_csv('data/data_longer.csv')\n",
    "data.drop(columns=['Unnamed: 0'], inplace=True)"
   ]
  },
  {
   "cell_type": "code",
   "execution_count": 4,
   "id": "cbcc75ce",
   "metadata": {},
   "outputs": [
    {
     "data": {
      "text/plain": [
       "(223453, 9)"
      ]
     },
     "execution_count": 4,
     "metadata": {},
     "output_type": "execute_result"
    }
   ],
   "source": [
    "data.shape"
   ]
  },
  {
   "cell_type": "code",
   "execution_count": null,
   "id": "f692a602",
   "metadata": {},
   "outputs": [],
   "source": []
  },
  {
   "cell_type": "markdown",
   "id": "d7e8f9f6",
   "metadata": {},
   "source": [
    "### 1. Podela na trening, test, i validacioni skup"
   ]
  },
  {
   "cell_type": "code",
   "execution_count": 5,
   "id": "fed856a5",
   "metadata": {},
   "outputs": [],
   "source": [
    "# data.head()"
   ]
  },
  {
   "cell_type": "code",
   "execution_count": 5,
   "id": "06f321aa",
   "metadata": {},
   "outputs": [],
   "source": [
    "X = data['comment_text']\n",
    "y = data['target']"
   ]
  },
  {
   "cell_type": "code",
   "execution_count": null,
   "id": "df03e23e",
   "metadata": {},
   "outputs": [],
   "source": []
  },
  {
   "cell_type": "code",
   "execution_count": 6,
   "id": "a9c3088a",
   "metadata": {},
   "outputs": [],
   "source": [
    "X_train_validation, X_test, y_train_validation, y_test = \\\n",
    "    model_selection.train_test_split(X, y, test_size=0.33, stratify=y, random_state=7)\n",
    "\n",
    "X_train, X_validation, y_train, y_validation =\\\n",
    "    model_selection.train_test_split(X_train_validation, y_train_validation, test_size=0.2, stratify=y_train_validation, random_state=7)"
   ]
  },
  {
   "cell_type": "code",
   "execution_count": 7,
   "id": "95c8c3c1",
   "metadata": {},
   "outputs": [
    {
     "data": {
      "text/plain": [
       "((119770,), (29943,), (73740,))"
      ]
     },
     "execution_count": 7,
     "metadata": {},
     "output_type": "execute_result"
    }
   ],
   "source": [
    "X_train.shape, X_validation.shape, X_test.shape"
   ]
  },
  {
   "cell_type": "code",
   "execution_count": 8,
   "id": "04c66ac1",
   "metadata": {},
   "outputs": [
    {
     "data": {
      "text/plain": [
       "((119770,), (29943,), (73740,))"
      ]
     },
     "execution_count": 8,
     "metadata": {},
     "output_type": "execute_result"
    }
   ],
   "source": [
    "y_train.shape, y_validation.shape, y_test.shape"
   ]
  },
  {
   "cell_type": "code",
   "execution_count": null,
   "id": "743e2319",
   "metadata": {},
   "outputs": [],
   "source": []
  },
  {
   "cell_type": "markdown",
   "id": "23e11fc3",
   "metadata": {},
   "source": [
    "### 2. Tokenizacija I vektorizacija teksta"
   ]
  },
  {
   "cell_type": "code",
   "execution_count": 9,
   "id": "e09f6409",
   "metadata": {},
   "outputs": [],
   "source": [
    "# uzima se recimo 20000 najfrekventinijh reci\n",
    "max_features = 20000\n",
    "\n",
    "# max duzina\n",
    "max_len = 100"
   ]
  },
  {
   "cell_type": "code",
   "execution_count": 10,
   "id": "be037964",
   "metadata": {},
   "outputs": [],
   "source": [
    "word_index, tokenizer = get_vocabulary(max_features, X_train, 'tokenizer_binary.pickle')"
   ]
  },
  {
   "cell_type": "code",
   "execution_count": 11,
   "id": "f099423a",
   "metadata": {},
   "outputs": [
    {
     "name": "stdout",
     "output_type": "stream",
     "text": [
      "Broj jedinstvenih reci: 201164\n"
     ]
    }
   ],
   "source": [
    "print('Broj jedinstvenih reci:', len(word_index))"
   ]
  },
  {
   "cell_type": "code",
   "execution_count": null,
   "id": "d9e438ae",
   "metadata": {},
   "outputs": [],
   "source": []
  },
  {
   "cell_type": "markdown",
   "id": "659647e3",
   "metadata": {},
   "source": [
    "Sada pravimo skupove za trening, test i validaciju sa vektorizovanim tekstom"
   ]
  },
  {
   "cell_type": "code",
   "execution_count": 12,
   "id": "f3673a91",
   "metadata": {},
   "outputs": [],
   "source": [
    "X_train = to_sequence(X_train, max_len, tokenizer)\n",
    "X_test = to_sequence(X_test, max_len, tokenizer)\n",
    "X_validation = to_sequence(X_validation, max_len, tokenizer)"
   ]
  },
  {
   "cell_type": "code",
   "execution_count": 13,
   "id": "be157f6a",
   "metadata": {},
   "outputs": [
    {
     "data": {
      "text/plain": [
       "((119770, 100), (73740, 100), (29943, 100))"
      ]
     },
     "execution_count": 13,
     "metadata": {},
     "output_type": "execute_result"
    }
   ],
   "source": [
    "X_train.shape, X_test.shape, X_validation.shape"
   ]
  },
  {
   "cell_type": "code",
   "execution_count": 14,
   "id": "2299c50f",
   "metadata": {},
   "outputs": [],
   "source": [
    "X_train_validation = to_sequence(X_train_validation, max_len, tokenizer)"
   ]
  },
  {
   "cell_type": "markdown",
   "id": "c3627b57",
   "metadata": {},
   "source": [
    "Kreira se matrica ugnjezdavanja"
   ]
  },
  {
   "cell_type": "code",
   "execution_count": 15,
   "id": "87606de0",
   "metadata": {},
   "outputs": [],
   "source": [
    "embedding_matrix = create_embedding_matrix(word_index, max_len)"
   ]
  },
  {
   "cell_type": "code",
   "execution_count": null,
   "id": "a8cfd4b0",
   "metadata": {},
   "outputs": [],
   "source": []
  },
  {
   "cell_type": "markdown",
   "id": "af8a28dc",
   "metadata": {},
   "source": [
    "### 3. Selekcija i evaluacija modela"
   ]
  },
  {
   "cell_type": "code",
   "execution_count": 16,
   "id": "077503d6",
   "metadata": {},
   "outputs": [
    {
     "data": {
      "text/plain": [
       "{0: 0.5558967465969598, 1: 4.97253221735087}"
      ]
     },
     "execution_count": 16,
     "metadata": {},
     "output_type": "execute_result"
    }
   ],
   "source": [
    "# Posto su klasa nebalansirane, potrebno je dodeliti im tezine\n",
    "# tako da se vise kaznjava pogresna klasifikacija manjinske klase\n",
    "\n",
    "weights = get_weights(y_train_validation)\n",
    "weights"
   ]
  },
  {
   "cell_type": "markdown",
   "id": "56b46f5a",
   "metadata": {},
   "source": [
    "Za podešavanje hiperparametara koristiće se randomizovana unakrsna validacija i keras wrapper "
   ]
  },
  {
   "cell_type": "code",
   "execution_count": 42,
   "id": "ebefe9e8",
   "metadata": {},
   "outputs": [],
   "source": [
    "# random_cv = randomized_search_cv(X_train_validation, y_train_validation, weights, embedding_matrix)"
   ]
  },
  {
   "cell_type": "code",
   "execution_count": 30,
   "id": "231738c6",
   "metadata": {},
   "outputs": [],
   "source": [
    "best_params = random_cv.best_params_\n",
    "best_score = random_cv.best_score_\n",
    "results = random_cv.cv_results_"
   ]
  },
  {
   "cell_type": "code",
   "execution_count": 31,
   "id": "c19b10cb",
   "metadata": {},
   "outputs": [],
   "source": [
    "cv_data = pd.DataFrame(results)\n",
    "cv_data.to_csv('data/cv_results.csv')"
   ]
  },
  {
   "cell_type": "code",
   "execution_count": 34,
   "id": "43e06d90",
   "metadata": {},
   "outputs": [
    {
     "data": {
      "text/plain": [
       "{'pool_size': 5,\n",
       " 'num_of_features': 20000,\n",
       " 'num_of_classes': 2,\n",
       " 'maxlen': 100,\n",
       " 'lr': 0.0001,\n",
       " 'layers': 0,\n",
       " 'kernel_size': 7,\n",
       " 'filters': 128,\n",
       " 'embedding_matrix': array([[ 0.        ,  0.        ,  0.        , ...,  0.        ,\n",
       "          0.        ,  0.        ],\n",
       "        [-0.038194  , -0.24487001,  0.72812003, ..., -0.1459    ,\n",
       "          0.82779998,  0.27061999],\n",
       "        [-0.18970001,  0.050024  ,  0.19084001, ..., -0.39804   ,\n",
       "          0.47646999, -0.15983   ],\n",
       "        ...,\n",
       "        [ 0.29811999,  0.053545  ,  0.27474001, ..., -0.51871002,\n",
       "         -0.73246002,  0.54639   ],\n",
       "        [ 0.48453999, -0.66696   ,  0.31995001, ..., -0.2985    ,\n",
       "         -0.36061999,  0.23197   ],\n",
       "        [ 0.25542   ,  0.34395   , -0.28141999, ...,  0.20162   ,\n",
       "         -0.4488    ,  0.023272  ]]),\n",
       " 'embedding_dim': 100,\n",
       " 'dropout_rate': 0.2}"
      ]
     },
     "execution_count": 34,
     "metadata": {},
     "output_type": "execute_result"
    }
   ],
   "source": [
    "best_params"
   ]
  },
  {
   "cell_type": "code",
   "execution_count": 32,
   "id": "96918838",
   "metadata": {},
   "outputs": [],
   "source": [
    "cv_results = pd.read_csv('data/cv_results.csv')"
   ]
  },
  {
   "cell_type": "code",
   "execution_count": 33,
   "id": "fc8297a7",
   "metadata": {},
   "outputs": [
    {
     "data": {
      "text/html": [
       "<div>\n",
       "<style scoped>\n",
       "    .dataframe tbody tr th:only-of-type {\n",
       "        vertical-align: middle;\n",
       "    }\n",
       "\n",
       "    .dataframe tbody tr th {\n",
       "        vertical-align: top;\n",
       "    }\n",
       "\n",
       "    .dataframe thead th {\n",
       "        text-align: right;\n",
       "    }\n",
       "</style>\n",
       "<table border=\"1\" class=\"dataframe\">\n",
       "  <thead>\n",
       "    <tr style=\"text-align: right;\">\n",
       "      <th></th>\n",
       "      <th>Unnamed: 0</th>\n",
       "      <th>mean_fit_time</th>\n",
       "      <th>std_fit_time</th>\n",
       "      <th>mean_score_time</th>\n",
       "      <th>std_score_time</th>\n",
       "      <th>param_pool_size</th>\n",
       "      <th>param_num_of_features</th>\n",
       "      <th>param_num_of_classes</th>\n",
       "      <th>param_maxlen</th>\n",
       "      <th>param_lr</th>\n",
       "      <th>...</th>\n",
       "      <th>param_dropout_rate</th>\n",
       "      <th>params</th>\n",
       "      <th>split0_test_score</th>\n",
       "      <th>split1_test_score</th>\n",
       "      <th>split2_test_score</th>\n",
       "      <th>split3_test_score</th>\n",
       "      <th>split4_test_score</th>\n",
       "      <th>mean_test_score</th>\n",
       "      <th>std_test_score</th>\n",
       "      <th>rank_test_score</th>\n",
       "    </tr>\n",
       "  </thead>\n",
       "  <tbody>\n",
       "    <tr>\n",
       "      <th>0</th>\n",
       "      <td>0</td>\n",
       "      <td>511.544993</td>\n",
       "      <td>11.070986</td>\n",
       "      <td>6.505815</td>\n",
       "      <td>1.484346</td>\n",
       "      <td>5</td>\n",
       "      <td>20000</td>\n",
       "      <td>2</td>\n",
       "      <td>100</td>\n",
       "      <td>0.00010</td>\n",
       "      <td>...</td>\n",
       "      <td>0.2</td>\n",
       "      <td>{'pool_size': 5, 'num_of_features': 20000, 'nu...</td>\n",
       "      <td>0.910263</td>\n",
       "      <td>0.919280</td>\n",
       "      <td>0.924957</td>\n",
       "      <td>0.938013</td>\n",
       "      <td>0.919845</td>\n",
       "      <td>0.922472</td>\n",
       "      <td>0.009098</td>\n",
       "      <td>1</td>\n",
       "    </tr>\n",
       "    <tr>\n",
       "      <th>1</th>\n",
       "      <td>1</td>\n",
       "      <td>408.505957</td>\n",
       "      <td>3.426609</td>\n",
       "      <td>5.230956</td>\n",
       "      <td>0.161217</td>\n",
       "      <td>5</td>\n",
       "      <td>20000</td>\n",
       "      <td>2</td>\n",
       "      <td>100</td>\n",
       "      <td>0.00010</td>\n",
       "      <td>...</td>\n",
       "      <td>0.4</td>\n",
       "      <td>{'pool_size': 5, 'num_of_features': 20000, 'nu...</td>\n",
       "      <td>0.908727</td>\n",
       "      <td>0.905153</td>\n",
       "      <td>0.939919</td>\n",
       "      <td>0.922851</td>\n",
       "      <td>0.931568</td>\n",
       "      <td>0.921643</td>\n",
       "      <td>0.013212</td>\n",
       "      <td>2</td>\n",
       "    </tr>\n",
       "    <tr>\n",
       "      <th>2</th>\n",
       "      <td>2</td>\n",
       "      <td>211.188902</td>\n",
       "      <td>1.300665</td>\n",
       "      <td>2.762751</td>\n",
       "      <td>0.031314</td>\n",
       "      <td>5</td>\n",
       "      <td>20000</td>\n",
       "      <td>2</td>\n",
       "      <td>100</td>\n",
       "      <td>0.00001</td>\n",
       "      <td>...</td>\n",
       "      <td>0.4</td>\n",
       "      <td>{'pool_size': 5, 'num_of_features': 20000, 'nu...</td>\n",
       "      <td>0.836322</td>\n",
       "      <td>0.830344</td>\n",
       "      <td>0.827506</td>\n",
       "      <td>0.794670</td>\n",
       "      <td>0.829771</td>\n",
       "      <td>0.823723</td>\n",
       "      <td>0.014816</td>\n",
       "      <td>4</td>\n",
       "    </tr>\n",
       "    <tr>\n",
       "      <th>3</th>\n",
       "      <td>3</td>\n",
       "      <td>517.093765</td>\n",
       "      <td>10.530900</td>\n",
       "      <td>6.731384</td>\n",
       "      <td>1.163871</td>\n",
       "      <td>5</td>\n",
       "      <td>20000</td>\n",
       "      <td>2</td>\n",
       "      <td>100</td>\n",
       "      <td>0.00100</td>\n",
       "      <td>...</td>\n",
       "      <td>0.4</td>\n",
       "      <td>{'pool_size': 5, 'num_of_features': 20000, 'nu...</td>\n",
       "      <td>0.919247</td>\n",
       "      <td>0.890459</td>\n",
       "      <td>0.927228</td>\n",
       "      <td>0.899539</td>\n",
       "      <td>0.919377</td>\n",
       "      <td>0.911170</td>\n",
       "      <td>0.013818</td>\n",
       "      <td>3</td>\n",
       "    </tr>\n",
       "    <tr>\n",
       "      <th>4</th>\n",
       "      <td>4</td>\n",
       "      <td>245.557897</td>\n",
       "      <td>13.458993</td>\n",
       "      <td>3.160252</td>\n",
       "      <td>0.085225</td>\n",
       "      <td>3</td>\n",
       "      <td>20000</td>\n",
       "      <td>2</td>\n",
       "      <td>100</td>\n",
       "      <td>0.00001</td>\n",
       "      <td>...</td>\n",
       "      <td>0.4</td>\n",
       "      <td>{'pool_size': 3, 'num_of_features': 20000, 'nu...</td>\n",
       "      <td>0.776742</td>\n",
       "      <td>0.814748</td>\n",
       "      <td>0.803961</td>\n",
       "      <td>0.765113</td>\n",
       "      <td>0.817915</td>\n",
       "      <td>0.795696</td>\n",
       "      <td>0.021069</td>\n",
       "      <td>5</td>\n",
       "    </tr>\n",
       "  </tbody>\n",
       "</table>\n",
       "<p>5 rows × 25 columns</p>\n",
       "</div>"
      ],
      "text/plain": [
       "   Unnamed: 0  mean_fit_time  std_fit_time  mean_score_time  std_score_time  \\\n",
       "0           0     511.544993     11.070986         6.505815        1.484346   \n",
       "1           1     408.505957      3.426609         5.230956        0.161217   \n",
       "2           2     211.188902      1.300665         2.762751        0.031314   \n",
       "3           3     517.093765     10.530900         6.731384        1.163871   \n",
       "4           4     245.557897     13.458993         3.160252        0.085225   \n",
       "\n",
       "   param_pool_size  param_num_of_features  param_num_of_classes  param_maxlen  \\\n",
       "0                5                  20000                     2           100   \n",
       "1                5                  20000                     2           100   \n",
       "2                5                  20000                     2           100   \n",
       "3                5                  20000                     2           100   \n",
       "4                3                  20000                     2           100   \n",
       "\n",
       "   param_lr  ...  param_dropout_rate  \\\n",
       "0   0.00010  ...                 0.2   \n",
       "1   0.00010  ...                 0.4   \n",
       "2   0.00001  ...                 0.4   \n",
       "3   0.00100  ...                 0.4   \n",
       "4   0.00001  ...                 0.4   \n",
       "\n",
       "                                              params  split0_test_score  \\\n",
       "0  {'pool_size': 5, 'num_of_features': 20000, 'nu...           0.910263   \n",
       "1  {'pool_size': 5, 'num_of_features': 20000, 'nu...           0.908727   \n",
       "2  {'pool_size': 5, 'num_of_features': 20000, 'nu...           0.836322   \n",
       "3  {'pool_size': 5, 'num_of_features': 20000, 'nu...           0.919247   \n",
       "4  {'pool_size': 3, 'num_of_features': 20000, 'nu...           0.776742   \n",
       "\n",
       "  split1_test_score  split2_test_score  split3_test_score split4_test_score  \\\n",
       "0          0.919280           0.924957           0.938013          0.919845   \n",
       "1          0.905153           0.939919           0.922851          0.931568   \n",
       "2          0.830344           0.827506           0.794670          0.829771   \n",
       "3          0.890459           0.927228           0.899539          0.919377   \n",
       "4          0.814748           0.803961           0.765113          0.817915   \n",
       "\n",
       "   mean_test_score  std_test_score  rank_test_score  \n",
       "0         0.922472        0.009098                1  \n",
       "1         0.921643        0.013212                2  \n",
       "2         0.823723        0.014816                4  \n",
       "3         0.911170        0.013818                3  \n",
       "4         0.795696        0.021069                5  \n",
       "\n",
       "[5 rows x 25 columns]"
      ]
     },
     "execution_count": 33,
     "metadata": {},
     "output_type": "execute_result"
    }
   ],
   "source": [
    "cv_results.head()"
   ]
  },
  {
   "cell_type": "code",
   "execution_count": 36,
   "id": "e3d02c7a",
   "metadata": {},
   "outputs": [],
   "source": []
  },
  {
   "cell_type": "markdown",
   "id": "e40017b2",
   "metadata": {},
   "source": [
    "### 4. Formiranje modela"
   ]
  },
  {
   "cell_type": "code",
   "execution_count": null,
   "id": "b41eb51d",
   "metadata": {},
   "outputs": [],
   "source": []
  },
  {
   "cell_type": "code",
   "execution_count": 36,
   "id": "95546461",
   "metadata": {},
   "outputs": [],
   "source": [
    "kernel_size = best_params['kernel_size']\n",
    "pool_size = best_params['pool_size']\n",
    "filters = best_params['filters']\n",
    "dropout_rate = best_params['dropout_rate']\n",
    "embedding_dim = 100\n",
    "lr = best_params['lr']\n",
    "layers = best_params['layers']"
   ]
  },
  {
   "cell_type": "code",
   "execution_count": 38,
   "id": "de90a837",
   "metadata": {},
   "outputs": [
    {
     "name": "stdout",
     "output_type": "stream",
     "text": [
      "Model: \"sequential_153\"\n",
      "_________________________________________________________________\n",
      " Layer (type)                Output Shape              Param #   \n",
      "=================================================================\n",
      " embedding_153 (Embedding)   (None, 100, 100)          2000000   \n",
      "                                                                 \n",
      " conv1d_304 (Conv1D)         (None, 100, 128)          89728     \n",
      "                                                                 \n",
      " max_pooling1d_304 (MaxPooli  (None, 20, 128)          0         \n",
      " ng1D)                                                           \n",
      "                                                                 \n",
      " conv1d_305 (Conv1D)         (None, 20, 256)           229632    \n",
      "                                                                 \n",
      " max_pooling1d_305 (MaxPooli  (None, 4, 256)           0         \n",
      " ng1D)                                                           \n",
      "                                                                 \n",
      " dropout_152 (Dropout)       (None, 4, 256)            0         \n",
      "                                                                 \n",
      " global_average_pooling1d_15  (None, 256)              0         \n",
      " 2 (GlobalAveragePooling1D)                                      \n",
      "                                                                 \n",
      " flatten_152 (Flatten)       (None, 256)               0         \n",
      "                                                                 \n",
      " dense_141 (Dense)           (None, 1)                 257       \n",
      "                                                                 \n",
      "=================================================================\n",
      "Total params: 2,319,617\n",
      "Trainable params: 319,617\n",
      "Non-trainable params: 2,000,000\n",
      "_________________________________________________________________\n"
     ]
    }
   ],
   "source": [
    "binary_model = create_model(num_of_classes = 2, num_of_features = max_features, embedding_dim = embedding_dim, \n",
    "                            kernel_size = kernel_size, pool_size = pool_size, filters = filters, \n",
    "                            dropout_rate = dropout_rate, maxlen = max_len, lr = lr, \n",
    "                            embedding_matrix = embedding_matrix, layers=layers)"
   ]
  },
  {
   "cell_type": "code",
   "execution_count": null,
   "id": "9c39f5e9",
   "metadata": {},
   "outputs": [],
   "source": []
  },
  {
   "cell_type": "markdown",
   "id": "39c289e4",
   "metadata": {},
   "source": [
    "### 5. Obučavanje modela"
   ]
  },
  {
   "cell_type": "code",
   "execution_count": 39,
   "id": "04c04077",
   "metadata": {},
   "outputs": [],
   "source": [
    "# tezinu za klasu 1 podesavamo rucno jer se ispostavlja da\n",
    "# bolje klasifikuje TP instance ako nije bas tacna proporcija\n",
    "\n",
    "weights[1] = 3.5"
   ]
  },
  {
   "cell_type": "code",
   "execution_count": 40,
   "id": "5d5c5bb5",
   "metadata": {},
   "outputs": [],
   "source": [
    "epochs = 15\n",
    "batch_size = 64"
   ]
  },
  {
   "cell_type": "code",
   "execution_count": 41,
   "id": "969ce549",
   "metadata": {
    "scrolled": true
   },
   "outputs": [
    {
     "name": "stdout",
     "output_type": "stream",
     "text": [
      "Epoch 1/15\n",
      "1872/1872 [==============================] - 67s 35ms/step - loss: 0.3262 - accuracy: 0.8661 - f1_m: 0.5300 - val_loss: 0.2375 - val_accuracy: 0.9110 - val_f1_m: 0.6243\n",
      "Epoch 2/15\n",
      "1872/1872 [==============================] - 65s 35ms/step - loss: 0.2415 - accuracy: 0.9056 - f1_m: 0.6266 - val_loss: 0.2163 - val_accuracy: 0.9162 - val_f1_m: 0.6430\n",
      "Epoch 3/15\n",
      "1872/1872 [==============================] - 67s 36ms/step - loss: 0.2173 - accuracy: 0.9143 - f1_m: 0.6542 - val_loss: 0.2626 - val_accuracy: 0.8977 - val_f1_m: 0.6171\n",
      "Epoch 4/15\n",
      "1872/1872 [==============================] - 67s 36ms/step - loss: 0.1996 - accuracy: 0.9216 - f1_m: 0.6772 - val_loss: 0.2262 - val_accuracy: 0.9129 - val_f1_m: 0.6482\n",
      "Epoch 5/15\n",
      "1872/1872 [==============================] - 68s 36ms/step - loss: 0.1843 - accuracy: 0.9275 - f1_m: 0.6991 - val_loss: 0.2157 - val_accuracy: 0.9174 - val_f1_m: 0.6590\n",
      "Epoch 6/15\n",
      "1872/1872 [==============================] - 69s 37ms/step - loss: 0.1669 - accuracy: 0.9346 - f1_m: 0.7226 - val_loss: 0.1572 - val_accuracy: 0.9391 - val_f1_m: 0.6993\n",
      "Epoch 7/15\n",
      "1872/1872 [==============================] - 68s 36ms/step - loss: 0.1503 - accuracy: 0.9402 - f1_m: 0.7413 - val_loss: 0.1763 - val_accuracy: 0.9337 - val_f1_m: 0.6954\n",
      "Epoch 8/15\n",
      "1872/1872 [==============================] - 67s 36ms/step - loss: 0.1346 - accuracy: 0.9468 - f1_m: 0.7671 - val_loss: 0.1749 - val_accuracy: 0.9353 - val_f1_m: 0.6984\n",
      "Epoch 9/15\n",
      "1872/1872 [==============================] - 64s 34ms/step - loss: 0.1197 - accuracy: 0.9519 - f1_m: 0.7874 - val_loss: 0.1920 - val_accuracy: 0.9297 - val_f1_m: 0.6856\n",
      "Epoch 10/15\n",
      "1872/1872 [==============================] - 65s 35ms/step - loss: 0.1052 - accuracy: 0.9585 - f1_m: 0.8128 - val_loss: 0.1951 - val_accuracy: 0.9302 - val_f1_m: 0.6846\n",
      "Epoch 11/15\n",
      "1872/1872 [==============================] - 65s 35ms/step - loss: 0.0926 - accuracy: 0.9632 - f1_m: 0.8328 - val_loss: 0.2520 - val_accuracy: 0.9115 - val_f1_m: 0.6471\n",
      "Epoch 12/15\n",
      "1872/1872 [==============================] - 66s 35ms/step - loss: 0.0811 - accuracy: 0.9682 - f1_m: 0.8523 - val_loss: 0.1707 - val_accuracy: 0.9416 - val_f1_m: 0.7036\n",
      "Epoch 13/15\n",
      "1872/1872 [==============================] - 66s 35ms/step - loss: 0.0711 - accuracy: 0.9722 - f1_m: 0.8665 - val_loss: 0.1891 - val_accuracy: 0.9368 - val_f1_m: 0.6947\n",
      "Epoch 14/15\n",
      "1872/1872 [==============================] - 65s 35ms/step - loss: 0.0617 - accuracy: 0.9763 - f1_m: 0.8847 - val_loss: 0.2358 - val_accuracy: 0.9243 - val_f1_m: 0.6689\n",
      "Epoch 15/15\n",
      "1872/1872 [==============================] - 65s 35ms/step - loss: 0.0534 - accuracy: 0.9797 - f1_m: 0.8998 - val_loss: 0.2146 - val_accuracy: 0.9329 - val_f1_m: 0.6873\n",
      "Trajanje obucavanja modela binarne klasifikacije:  994.636470079422\n"
     ]
    }
   ],
   "source": [
    "start = time.time()    \n",
    "\n",
    "binary_history = binary_model.fit(X_train, y_train, batch_size=batch_size, epochs=epochs, \n",
    "                                 validation_data=(X_validation, y_validation), class_weight=weights)\n",
    "                                 #,callbacks=[early_stop]\n",
    "                                 \n",
    "print('Trajanje obucavanja modela binarne klasifikacije: ', time.time() - start)"
   ]
  },
  {
   "cell_type": "code",
   "execution_count": null,
   "id": "f89e20b5",
   "metadata": {},
   "outputs": [],
   "source": []
  },
  {
   "cell_type": "markdown",
   "id": "c1cb70f9",
   "metadata": {},
   "source": [
    "Prate se tacnost, funkcija gubitka i F1 mera (jer klase nisu izbalansirane)"
   ]
  },
  {
   "cell_type": "code",
   "execution_count": 43,
   "id": "4d39ec52",
   "metadata": {},
   "outputs": [
    {
     "data": {
      "image/png": "[encoded data removed]",
      "text/plain": [
       "<Figure size 1080x360 with 3 Axes>"
      ]
     },
     "metadata": {
      "needs_background": "light"
     },
     "output_type": "display_data"
    }
   ],
   "source": [
    "# Grafici koji prikazuju promene metrika tokom treniranja na trening skupu i validacionom skupu kroz epohe \n",
    "\n",
    "plot_graphs(binary_history, ['accuracy', 'loss', 'f1_m'])"
   ]
  },
  {
   "cell_type": "code",
   "execution_count": null,
   "id": "150acddc",
   "metadata": {},
   "outputs": [],
   "source": []
  },
  {
   "cell_type": "markdown",
   "id": "a0427b6d",
   "metadata": {},
   "source": [
    "### 6. Evaluacija modela"
   ]
  },
  {
   "cell_type": "code",
   "execution_count": 44,
   "id": "b482d9e8",
   "metadata": {},
   "outputs": [
    {
     "name": "stdout",
     "output_type": "stream",
     "text": [
      "2305/2305 [==============================] - 15s 6ms/step - loss: 0.2116 - accuracy: 0.9322 - f1_m: 0.6561\n",
      "Loss:  0.21164609491825104\n",
      "Test accuracy:  0.932180643081665\n",
      "F1:  0.6560590863227844\n"
     ]
    }
   ],
   "source": [
    "scores = binary_model.evaluate(X_test, y_test)\n",
    "print('Loss: ', scores[0])\n",
    "print('Test accuracy: ', scores[1])\n",
    "print('F1: ', scores[2])"
   ]
  },
  {
   "cell_type": "markdown",
   "id": "59cf15c7",
   "metadata": {},
   "source": [
    "Predviđanje: "
   ]
  },
  {
   "cell_type": "code",
   "execution_count": 45,
   "id": "7281cef0",
   "metadata": {},
   "outputs": [
    {
     "name": "stdout",
     "output_type": "stream",
     "text": [
      "2305/2305 [==============================] - 14s 6ms/step\n"
     ]
    }
   ],
   "source": [
    "y_predicted = binary_model.predict(X_test)"
   ]
  },
  {
   "cell_type": "code",
   "execution_count": 46,
   "id": "2499b829",
   "metadata": {},
   "outputs": [],
   "source": [
    "# sigmoidna funkcija:\n",
    "\n",
    "y_labels = [int(score > 0.5) for score in y_predicted]"
   ]
  },
  {
   "cell_type": "code",
   "execution_count": 47,
   "id": "46408129",
   "metadata": {},
   "outputs": [
    {
     "name": "stdout",
     "output_type": "stream",
     "text": [
      "F1:  0.7008434527726266\n"
     ]
    }
   ],
   "source": [
    "# F1 mera je bolja metrika kada su neizbalansirane klase\n",
    "\n",
    "print('F1: ', metrics.f1_score(y_test, y_labels))"
   ]
  },
  {
   "cell_type": "code",
   "execution_count": 48,
   "id": "c18e0c0e",
   "metadata": {},
   "outputs": [
    {
     "name": "stdout",
     "output_type": "stream",
     "text": [
      "[[62881  3445]\n",
      " [ 1556  5858]]\n"
     ]
    }
   ],
   "source": [
    "cf = metrics.confusion_matrix(y_test, y_labels)\n",
    "print(cf)"
   ]
  },
  {
   "cell_type": "code",
   "execution_count": 51,
   "id": "220e5e3e",
   "metadata": {},
   "outputs": [
    {
     "data": {
      "image/png": "[encoded data removed]",
      "text/plain": [
       "<Figure size 1008x360 with 4 Axes>"
      ]
     },
     "metadata": {
      "needs_background": "light"
     },
     "output_type": "display_data"
    }
   ],
   "source": [
    "# funkcija koja prikazuje matricu konfuzije i \n",
    "# istu tu matricu sa vrednostima u  procentima\n",
    "\n",
    "plot_cf(cf, 'binary', ['untoxic, toxic'])"
   ]
  },
  {
   "cell_type": "code",
   "execution_count": null,
   "id": "ffbc27d7",
   "metadata": {},
   "outputs": [],
   "source": []
  },
  {
   "cell_type": "code",
   "execution_count": 52,
   "id": "c38a46b6",
   "metadata": {},
   "outputs": [
    {
     "name": "stdout",
     "output_type": "stream",
     "text": [
      "---------------------- IZVESTAJ -----------------------\n",
      "\n",
      "              precision    recall  f1-score   support\n",
      "\n",
      "           0       0.98      0.95      0.96     66326\n",
      "           1       0.63      0.79      0.70      7414\n",
      "\n",
      "    accuracy                           0.93     73740\n",
      "   macro avg       0.80      0.87      0.83     73740\n",
      "weighted avg       0.94      0.93      0.94     73740\n",
      "\n"
     ]
    }
   ],
   "source": [
    "print('---------------------- IZVESTAJ -----------------------\\n')\n",
    "print(metrics.classification_report(y_test, y_labels))"
   ]
  },
  {
   "cell_type": "code",
   "execution_count": null,
   "id": "2b7e194e",
   "metadata": {},
   "outputs": [],
   "source": []
  }
 ],
 "metadata": {
  "kernelspec": {
   "display_name": "Python 3 (ipykernel)",
   "language": "python",
   "name": "python3"
  },
  "language_info": {
   "codemirror_mode": {
    "name": "ipython",
    "version": 3
   },
   "file_extension": ".py",
   "mimetype": "text/x-python",
   "name": "python",
   "nbconvert_exporter": "python",
   "pygments_lexer": "ipython3",
   "version": "3.9.12"
  }
 },
 "nbformat": 4,
 "nbformat_minor": 5
}
