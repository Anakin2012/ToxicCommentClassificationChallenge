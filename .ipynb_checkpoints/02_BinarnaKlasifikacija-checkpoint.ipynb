{
 "cells": [
  {
   "cell_type": "code",
   "execution_count": 1,
   "id": "ccf4237f",
   "metadata": {},
   "outputs": [],
   "source": [
    "import pandas as pd\n",
    "import numpy as np\n",
    "from matplotlib import pyplot as plt\n",
    "\n",
    "import pickle\n",
    "import sklearn\n",
    "import time\n",
    "from sklearn import metrics\n",
    "from sklearn import model_selection\n",
    "\n",
    "\n",
    "import warnings\n",
    "warnings.simplefilter(action='ignore', category=FutureWarning)\n",
    "warnings.simplefilter(action='ignore', category=DeprecationWarning)"
   ]
  },
  {
   "cell_type": "code",
   "execution_count": 2,
   "id": "ee6c7433",
   "metadata": {},
   "outputs": [],
   "source": [
    "%run SharedFunctions.ipynb"
   ]
  },
  {
   "cell_type": "code",
   "execution_count": null,
   "id": "72e5b526",
   "metadata": {},
   "outputs": [],
   "source": []
  },
  {
   "cell_type": "markdown",
   "id": "ad2119d5",
   "metadata": {},
   "source": [
    "Učitava se prethodno pripremljen skup podataka: "
   ]
  },
  {
   "cell_type": "code",
   "execution_count": 3,
   "id": "2297f84b",
   "metadata": {},
   "outputs": [],
   "source": [
    "data = pd.read_csv('data/data_longer.csv')\n",
    "data.drop(columns=['Unnamed: 0'], inplace=True)"
   ]
  },
  {
   "cell_type": "code",
   "execution_count": 4,
   "id": "cbcc75ce",
   "metadata": {},
   "outputs": [
    {
     "data": {
      "text/plain": [
       "(223453, 9)"
      ]
     },
     "execution_count": 4,
     "metadata": {},
     "output_type": "execute_result"
    }
   ],
   "source": [
    "data.shape"
   ]
  },
  {
   "cell_type": "code",
   "execution_count": null,
   "id": "f692a602",
   "metadata": {},
   "outputs": [],
   "source": []
  },
  {
   "cell_type": "markdown",
   "id": "d7e8f9f6",
   "metadata": {},
   "source": [
    "### 1. Podela na trening, test, i validacioni skup"
   ]
  },
  {
   "cell_type": "code",
   "execution_count": 5,
   "id": "fed856a5",
   "metadata": {},
   "outputs": [],
   "source": [
    "# data.head()"
   ]
  },
  {
   "cell_type": "code",
   "execution_count": 6,
   "id": "06f321aa",
   "metadata": {},
   "outputs": [],
   "source": [
    "X = data['comment_text']\n",
    "y = data['target']"
   ]
  },
  {
   "cell_type": "code",
   "execution_count": null,
   "id": "df03e23e",
   "metadata": {},
   "outputs": [],
   "source": []
  },
  {
   "cell_type": "code",
   "execution_count": 7,
   "id": "a9c3088a",
   "metadata": {},
   "outputs": [],
   "source": [
    "X_train_validation, X_test, y_train_validation, y_test = \\\n",
    "    model_selection.train_test_split(X, y, test_size=0.33, stratify=y, random_state=7)\n",
    "\n",
    "X_train, X_validation, y_train, y_validation =\\\n",
    "    model_selection.train_test_split(X_train_validation, y_train_validation, test_size=0.2, stratify=y_train_validation, random_state=7)"
   ]
  },
  {
   "cell_type": "code",
   "execution_count": 8,
   "id": "95c8c3c1",
   "metadata": {},
   "outputs": [
    {
     "data": {
      "text/plain": [
       "((119770,), (29943,), (73740,))"
      ]
     },
     "execution_count": 8,
     "metadata": {},
     "output_type": "execute_result"
    }
   ],
   "source": [
    "X_train.shape, X_validation.shape, X_test.shape"
   ]
  },
  {
   "cell_type": "code",
   "execution_count": 9,
   "id": "04c66ac1",
   "metadata": {},
   "outputs": [
    {
     "data": {
      "text/plain": [
       "((119770,), (29943,), (73740,))"
      ]
     },
     "execution_count": 9,
     "metadata": {},
     "output_type": "execute_result"
    }
   ],
   "source": [
    "y_train.shape, y_validation.shape, y_test.shape"
   ]
  },
  {
   "cell_type": "code",
   "execution_count": 40,
   "id": "743e2319",
   "metadata": {},
   "outputs": [
    {
     "data": {
      "text/plain": [
       "34629     i reckon that it should be divehi which is wha...\n",
       "145941    as i explained above your hypothesis that i am...\n",
       "60190     i am just shocked at how quickly i was railroa...\n",
       "134358    i am very well aware that newspaper articles h...\n",
       "149707    sure  when it comes to the military dead  the ...\n",
       "                                ...                        \n",
       "52282     siddhackra   hi nizil i was quite happy to edi...\n",
       "195878    table yhaplogroup variance expansion and coale...\n",
       "150702    reliability i had a jaz drive and experienced ...\n",
       "149475    by not responding to the survey and providing ...\n",
       "85836     how about this one   i thought i was on wikibr...\n",
       "Name: comment_text, Length: 73740, dtype: object"
      ]
     },
     "execution_count": 40,
     "metadata": {},
     "output_type": "execute_result"
    }
   ],
   "source": [
    "X_test"
   ]
  },
  {
   "cell_type": "markdown",
   "id": "23e11fc3",
   "metadata": {},
   "source": [
    "### 2. Tokenizacija I vektorizacija teksta"
   ]
  },
  {
   "cell_type": "code",
   "execution_count": 10,
   "id": "e09f6409",
   "metadata": {},
   "outputs": [],
   "source": [
    "# uzima se recimo 20000 najfrekventinijh reci\n",
    "max_features = 20000\n",
    "\n",
    "# max duzina\n",
    "max_len = 100"
   ]
  },
  {
   "cell_type": "code",
   "execution_count": 11,
   "id": "be037964",
   "metadata": {},
   "outputs": [],
   "source": [
    "word_index, tokenizer = get_vocabulary(max_features, X_train, 'tokenizer_binary.pickle')"
   ]
  },
  {
   "cell_type": "code",
   "execution_count": 12,
   "id": "f099423a",
   "metadata": {},
   "outputs": [
    {
     "name": "stdout",
     "output_type": "stream",
     "text": [
      "Broj jedinstvenih reci: 201164\n"
     ]
    }
   ],
   "source": [
    "print('Broj jedinstvenih reci:', len(word_index))"
   ]
  },
  {
   "cell_type": "code",
   "execution_count": null,
   "id": "d9e438ae",
   "metadata": {},
   "outputs": [],
   "source": []
  },
  {
   "cell_type": "markdown",
   "id": "659647e3",
   "metadata": {},
   "source": [
    "Sada pravimo skupove za trening, test i validaciju sa vektorizovanim tekstom"
   ]
  },
  {
   "cell_type": "code",
   "execution_count": 13,
   "id": "f3673a91",
   "metadata": {},
   "outputs": [],
   "source": [
    "X_train_transformed = to_sequence(X_train, max_len, tokenizer)\n",
    "X_test_transformed = to_sequence(X_test, max_len, tokenizer)\n",
    "X_validation_transformed = to_sequence(X_validation, max_len, tokenizer)"
   ]
  },
  {
   "cell_type": "code",
   "execution_count": 14,
   "id": "be157f6a",
   "metadata": {},
   "outputs": [
    {
     "data": {
      "text/plain": [
       "((119770,), (73740,), (29943,))"
      ]
     },
     "execution_count": 14,
     "metadata": {},
     "output_type": "execute_result"
    }
   ],
   "source": [
    "X_train.shape, X_test.shape, X_validation.shape"
   ]
  },
  {
   "cell_type": "code",
   "execution_count": 15,
   "id": "2299c50f",
   "metadata": {},
   "outputs": [],
   "source": [
    "X_train_validation_transformed = to_sequence(X_train_validation, max_len, tokenizer)"
   ]
  },
  {
   "cell_type": "markdown",
   "id": "c3627b57",
   "metadata": {},
   "source": [
    "Kreira se matrica ugnjezdavanja"
   ]
  },
  {
   "cell_type": "code",
   "execution_count": 16,
   "id": "87606de0",
   "metadata": {},
   "outputs": [],
   "source": [
    "embedding_matrix = create_embedding_matrix(word_index, max_len)"
   ]
  },
  {
   "cell_type": "code",
   "execution_count": null,
   "id": "a8cfd4b0",
   "metadata": {},
   "outputs": [],
   "source": []
  },
  {
   "cell_type": "markdown",
   "id": "af8a28dc",
   "metadata": {},
   "source": [
    "### 3. Selekcija i evaluacija modela"
   ]
  },
  {
   "cell_type": "code",
   "execution_count": 17,
   "id": "077503d6",
   "metadata": {},
   "outputs": [
    {
     "data": {
      "text/plain": [
       "{0: 0.5558967465969598, 1: 4.97253221735087}"
      ]
     },
     "execution_count": 17,
     "metadata": {},
     "output_type": "execute_result"
    }
   ],
   "source": [
    "# Posto su klasa nebalansirane, potrebno je dodeliti im tezine\n",
    "# tako da se vise kaznjava pogresna klasifikacija manjinske klase\n",
    "\n",
    "weights = get_weights(y_train_validation, 2)\n",
    "weights"
   ]
  },
  {
   "cell_type": "markdown",
   "id": "56b46f5a",
   "metadata": {},
   "source": [
    "Za podešavanje hiperparametara koristiće se randomizovana unakrsna validacija i keras wrapper "
   ]
  },
  {
   "cell_type": "code",
   "execution_count": 18,
   "id": "ebefe9e8",
   "metadata": {},
   "outputs": [],
   "source": [
    "# random_cv = randomized_search_cv(X_train_validation, y_train_validation, weights, embedding_matrix)"
   ]
  },
  {
   "cell_type": "code",
   "execution_count": 19,
   "id": "231738c6",
   "metadata": {},
   "outputs": [],
   "source": [
    "# best_params = random_cv.best_params_\n",
    "# best_score = random_cv.best_score_\n",
    "# results = random_cv.cv_results_"
   ]
  },
  {
   "cell_type": "code",
   "execution_count": 20,
   "id": "c19b10cb",
   "metadata": {},
   "outputs": [],
   "source": [
    "# cv_data = pd.DataFrame(results)\n",
    "# cv_data.to_csv('data/cv_results.csv')"
   ]
  },
  {
   "cell_type": "code",
   "execution_count": null,
   "id": "43e06d90",
   "metadata": {},
   "outputs": [],
   "source": []
  },
  {
   "cell_type": "code",
   "execution_count": 22,
   "id": "96918838",
   "metadata": {},
   "outputs": [],
   "source": [
    "cv_results = pd.read_csv('data/cv_results.csv')"
   ]
  },
  {
   "cell_type": "code",
   "execution_count": 23,
   "id": "fc8297a7",
   "metadata": {},
   "outputs": [],
   "source": [
    "# cv_results.head()"
   ]
  },
  {
   "cell_type": "code",
   "execution_count": 24,
   "id": "e3d02c7a",
   "metadata": {},
   "outputs": [],
   "source": [
    "best = cv_results[cv_results['rank_test_score']==1]"
   ]
  },
  {
   "cell_type": "markdown",
   "id": "e40017b2",
   "metadata": {},
   "source": [
    "### 4. Formiranje modela"
   ]
  },
  {
   "cell_type": "code",
   "execution_count": null,
   "id": "b41eb51d",
   "metadata": {},
   "outputs": [],
   "source": []
  },
  {
   "cell_type": "code",
   "execution_count": 188,
   "id": "95546461",
   "metadata": {},
   "outputs": [],
   "source": [
    "kernel_size = (best['param_kernel_size'].values[0], )\n",
    "pool_size = (best['param_pool_size'].values[0], )\n",
    "filters = best['param_filters'].values[0]\n",
    "dropout_rate = best['param_dropout_rate'].values[0]\n",
    "embedding_dim = 100\n",
    "lr = best['param_lr'].values[0]\n",
    "layers = best['param_layers'].values[0]"
   ]
  },
  {
   "cell_type": "code",
   "execution_count": 87,
   "id": "de90a837",
   "metadata": {},
   "outputs": [
    {
     "name": "stdout",
     "output_type": "stream",
     "text": [
      "Model: \"sequential_2\"\n",
      "_________________________________________________________________\n",
      "Layer (type)                 Output Shape              Param #   \n",
      "=================================================================\n",
      "embedding_2 (Embedding)      (None, 100, 100)          2000000   \n",
      "_________________________________________________________________\n",
      "conv1d_4 (Conv1D)            (None, 100, 128)          64128     \n",
      "_________________________________________________________________\n",
      "max_pooling1d_4 (MaxPooling1 (None, 20, 128)           0         \n",
      "_________________________________________________________________\n",
      "conv1d_5 (Conv1D)            (None, 20, 256)           164096    \n",
      "_________________________________________________________________\n",
      "max_pooling1d_5 (MaxPooling1 (None, 4, 256)            0         \n",
      "_________________________________________________________________\n",
      "dropout_2 (Dropout)          (None, 4, 256)            0         \n",
      "_________________________________________________________________\n",
      "global_average_pooling1d_2 ( (None, 256)               0         \n",
      "_________________________________________________________________\n",
      "flatten_2 (Flatten)          (None, 256)               0         \n",
      "_________________________________________________________________\n",
      "dense_2 (Dense)              (None, 1)                 257       \n",
      "=================================================================\n",
      "Total params: 2,228,481\n",
      "Trainable params: 228,481\n",
      "Non-trainable params: 2,000,000\n",
      "_________________________________________________________________\n"
     ]
    }
   ],
   "source": [
    "binary_model = create_model(num_of_classes = 2, num_of_features = max_features, embedding_dim = embedding_dim, \n",
    "                            kernel_size = kernel_size, pool_size = pool_size, filters = filters, \n",
    "                            dropout_rate = dropout_rate, maxlen = max_len, lr = lr, \n",
    "                            embedding_matrix = embedding_matrix, layers=layers)"
   ]
  },
  {
   "cell_type": "code",
   "execution_count": null,
   "id": "9c39f5e9",
   "metadata": {},
   "outputs": [],
   "source": []
  },
  {
   "cell_type": "markdown",
   "id": "39c289e4",
   "metadata": {},
   "source": [
    "### 5. Obučavanje modela"
   ]
  },
  {
   "cell_type": "code",
   "execution_count": 88,
   "id": "04c04077",
   "metadata": {},
   "outputs": [],
   "source": [
    "# tezinu za klasu 1 podesavamo rucno jer se ispostavlja da\n",
    "# bolje klasifikuje TP instance ako nije bas tacna proporcija\n",
    "\n",
    "weights[1] = 3.99"
   ]
  },
  {
   "cell_type": "code",
   "execution_count": 89,
   "id": "5d5c5bb5",
   "metadata": {},
   "outputs": [],
   "source": [
    "epochs = 12\n",
    "batch_size = 128"
   ]
  },
  {
   "cell_type": "code",
   "execution_count": 90,
   "id": "969ce549",
   "metadata": {
    "scrolled": true
   },
   "outputs": [
    {
     "name": "stdout",
     "output_type": "stream",
     "text": [
      "Epoch 1/12\n",
      "936/936 [==============================] - 51s 53ms/step - loss: 0.3961 - accuracy: 0.8210 - f1_m: 0.4651 - val_loss: 0.3250 - val_accuracy: 0.8735 - val_f1_m: 0.5616\n",
      "Epoch 2/12\n",
      "936/936 [==============================] - 57s 61ms/step - loss: 0.2984 - accuracy: 0.8801 - f1_m: 0.5764 - val_loss: 0.3029 - val_accuracy: 0.8827 - val_f1_m: 0.5862\n",
      "Epoch 3/12\n",
      "936/936 [==============================] - 57s 61ms/step - loss: 0.2694 - accuracy: 0.8941 - f1_m: 0.6112 - val_loss: 0.2734 - val_accuracy: 0.8940 - val_f1_m: 0.6097\n",
      "Epoch 4/12\n",
      "936/936 [==============================] - 59s 63ms/step - loss: 0.2554 - accuracy: 0.8999 - f1_m: 0.6266 - val_loss: 0.2293 - val_accuracy: 0.9124 - val_f1_m: 0.6443\n",
      "Epoch 5/12\n",
      "936/936 [==============================] - 56s 60ms/step - loss: 0.2429 - accuracy: 0.9041 - f1_m: 0.6394 - val_loss: 0.2029 - val_accuracy: 0.9224 - val_f1_m: 0.6643\n",
      "Epoch 6/12\n",
      "936/936 [==============================] - 56s 60ms/step - loss: 0.2343 - accuracy: 0.9081 - f1_m: 0.6504 - val_loss: 0.2461 - val_accuracy: 0.9042 - val_f1_m: 0.6324\n",
      "Epoch 7/12\n",
      "936/936 [==============================] - 58s 62ms/step - loss: 0.2243 - accuracy: 0.9123 - f1_m: 0.6631 - val_loss: 0.2146 - val_accuracy: 0.9178 - val_f1_m: 0.6619\n",
      "Epoch 8/12\n",
      "936/936 [==============================] - 61s 65ms/step - loss: 0.2165 - accuracy: 0.9150 - f1_m: 0.6725 - val_loss: 0.2058 - val_accuracy: 0.9205 - val_f1_m: 0.6659\n",
      "Epoch 9/12\n",
      "936/936 [==============================] - 63s 67ms/step - loss: 0.2080 - accuracy: 0.9177 - f1_m: 0.6792 - val_loss: 0.2299 - val_accuracy: 0.9108 - val_f1_m: 0.6492\n",
      "Epoch 10/12\n",
      "936/936 [==============================] - 58s 62ms/step - loss: 0.2009 - accuracy: 0.9206 - f1_m: 0.6893 - val_loss: 0.2365 - val_accuracy: 0.9081 - val_f1_m: 0.6443\n",
      "Epoch 11/12\n",
      "936/936 [==============================] - 83s 89ms/step - loss: 0.1927 - accuracy: 0.9235 - f1_m: 0.6981 - val_loss: 0.2035 - val_accuracy: 0.9214 - val_f1_m: 0.6710\n",
      "Epoch 12/12\n",
      "936/936 [==============================] - 82s 88ms/step - loss: 0.1843 - accuracy: 0.9273 - f1_m: 0.7102 - val_loss: 0.2088 - val_accuracy: 0.9193 - val_f1_m: 0.6681\n",
      "Trajanje obucavanja modela binarne klasifikacije:  741.0477316379547\n"
     ]
    }
   ],
   "source": [
    "start = time.time()    \n",
    "\n",
    "binary_history = binary_model.fit(X_train_transformed, y_train, batch_size=batch_size, epochs=epochs, \n",
    "                                 validation_data=(X_validation_transformed, y_validation), class_weight=weights)\n",
    "                                 \n",
    "print('Trajanje obucavanja modela binarne klasifikacije: ', time.time() - start)"
   ]
  },
  {
   "cell_type": "code",
   "execution_count": null,
   "id": "f89e20b5",
   "metadata": {},
   "outputs": [],
   "source": []
  },
  {
   "cell_type": "markdown",
   "id": "c1cb70f9",
   "metadata": {},
   "source": [
    "Prate se tacnost, funkcija gubitka i F1 mera (jer klase nisu izbalansirane)"
   ]
  },
  {
   "cell_type": "code",
   "execution_count": 91,
   "id": "4d39ec52",
   "metadata": {},
   "outputs": [
    {
     "data": {
      "image/png": "[encoded data removed]",
      "text/plain": [
       "<Figure size 1080x360 with 3 Axes>"
      ]
     },
     "metadata": {
      "needs_background": "light"
     },
     "output_type": "display_data"
    }
   ],
   "source": [
    "# Grafici koji prikazuju promene metrika tokom treniranja na trening skupu i validacionom skupu kroz epohe \n",
    "\n",
    "plot_graphs(binary_history, ['accuracy', 'loss', 'f1_m'])"
   ]
  },
  {
   "cell_type": "code",
   "execution_count": null,
   "id": "150acddc",
   "metadata": {},
   "outputs": [],
   "source": []
  },
  {
   "cell_type": "markdown",
   "id": "a0427b6d",
   "metadata": {},
   "source": [
    "### 6. Evaluacija modela"
   ]
  },
  {
   "cell_type": "code",
   "execution_count": 92,
   "id": "b482d9e8",
   "metadata": {},
   "outputs": [
    {
     "name": "stdout",
     "output_type": "stream",
     "text": [
      "2305/2305 [==============================] - 16s 7ms/step - loss: 0.2110 - accuracy: 0.9183 - f1_m: 0.6376\n",
      "Loss:  0.21104969084262848\n",
      "Test accuracy:  0.9183482527732849\n",
      "F1:  0.6376299858093262\n"
     ]
    }
   ],
   "source": [
    "scores = binary_model.evaluate(X_test_transformed, y_test)\n",
    "print('Loss: ', scores[0])\n",
    "print('Test accuracy: ', scores[1])\n",
    "print('F1: ', scores[2])"
   ]
  },
  {
   "cell_type": "markdown",
   "id": "59cf15c7",
   "metadata": {},
   "source": [
    "Predviđanje: "
   ]
  },
  {
   "cell_type": "code",
   "execution_count": 93,
   "id": "7281cef0",
   "metadata": {},
   "outputs": [],
   "source": [
    "y_predicted = binary_model.predict(X_test_transformed)"
   ]
  },
  {
   "cell_type": "code",
   "execution_count": 94,
   "id": "2499b829",
   "metadata": {},
   "outputs": [],
   "source": [
    "# sigmoidna funkcija:\n",
    "\n",
    "y_labels = [int(score > 0.5) for score in y_predicted]"
   ]
  },
  {
   "cell_type": "code",
   "execution_count": null,
   "id": "1fc8247a",
   "metadata": {},
   "outputs": [],
   "source": []
  },
  {
   "cell_type": "code",
   "execution_count": 101,
   "id": "46408129",
   "metadata": {},
   "outputs": [
    {
     "name": "stdout",
     "output_type": "stream",
     "text": [
      "F1:  0.6730027697822191\n"
     ]
    }
   ],
   "source": [
    "# F1 mera je bolja metrika kada su neizbalansirane klase\n",
    "\n",
    "print('F1: ', metrics.f1_score(y_test, y_labels))"
   ]
  },
  {
   "cell_type": "code",
   "execution_count": 102,
   "id": "c18e0c0e",
   "metadata": {},
   "outputs": [
    {
     "name": "stdout",
     "output_type": "stream",
     "text": [
      "[[61523  4803]\n",
      " [ 1218  6196]]\n"
     ]
    }
   ],
   "source": [
    "cf = metrics.confusion_matrix(y_test, y_labels)\n",
    "print(cf)"
   ]
  },
  {
   "cell_type": "code",
   "execution_count": 103,
   "id": "220e5e3e",
   "metadata": {},
   "outputs": [
    {
     "data": {
      "image/png": "[encoded data removed]",
      "text/plain": [
       "<Figure size 1008x360 with 4 Axes>"
      ]
     },
     "metadata": {
      "needs_background": "light"
     },
     "output_type": "display_data"
    }
   ],
   "source": [
    "# funkcija koja prikazuje matricu konfuzije i \n",
    "# istu tu matricu sa vrednostima u  procentima\n",
    "\n",
    "plot_cf(cf, 'binary', ['untoxic, toxic'])"
   ]
  },
  {
   "cell_type": "markdown",
   "id": "e821142f",
   "metadata": {},
   "source": [
    "#### - Od oko 90% procenata netoksičnih, 83.43% je tačno klasifikovano(TN), a 6.51% netačno(FP)\n",
    "#### - Od oko 10% procenata toksičnih komentara, 8.40% je tačno klasifikovano(TP), a 1.65% netačno(FN)"
   ]
  },
  {
   "cell_type": "code",
   "execution_count": null,
   "id": "9cdd122c",
   "metadata": {},
   "outputs": [],
   "source": []
  },
  {
   "cell_type": "code",
   "execution_count": 104,
   "id": "c38a46b6",
   "metadata": {},
   "outputs": [
    {
     "name": "stdout",
     "output_type": "stream",
     "text": [
      "---------------------- IZVESTAJ -----------------------\n",
      "\n",
      "              precision    recall  f1-score   support\n",
      "\n",
      "           0       0.98      0.93      0.95     66326\n",
      "           1       0.56      0.84      0.67      7414\n",
      "\n",
      "    accuracy                           0.92     73740\n",
      "   macro avg       0.77      0.88      0.81     73740\n",
      "weighted avg       0.94      0.92      0.93     73740\n",
      "\n"
     ]
    }
   ],
   "source": [
    "print('---------------------- IZVESTAJ -----------------------\\n')\n",
    "print(metrics.classification_report(y_test, y_labels))"
   ]
  },
  {
   "cell_type": "code",
   "execution_count": null,
   "id": "b6503390",
   "metadata": {},
   "outputs": [],
   "source": []
  },
  {
   "cell_type": "markdown",
   "id": "0fc9a74e",
   "metadata": {},
   "source": [
    "Izdvajanje instanci na kojima model greši, i onih na kojima pogađa"
   ]
  },
  {
   "cell_type": "code",
   "execution_count": 167,
   "id": "2b7e194e",
   "metadata": {},
   "outputs": [],
   "source": [
    "joined = pd.concat([X_test, y_test], axis=1)\n",
    "joined['predicted'] = y_labels"
   ]
  },
  {
   "cell_type": "code",
   "execution_count": 148,
   "id": "a45a78ee",
   "metadata": {},
   "outputs": [],
   "source": [
    "correct = joined[joined['target'] == joined['predicted']]\n",
    "incorrect = joined[joined['target'] != joined['predicted']]"
   ]
  },
  {
   "cell_type": "markdown",
   "id": "a0f4cab1",
   "metadata": {},
   "source": [
    "Primeri pogresno klasifikovanih komentara:"
   ]
  },
  {
   "cell_type": "code",
   "execution_count": 169,
   "id": "cd9f229b",
   "metadata": {},
   "outputs": [
    {
     "data": {
      "text/html": [
       "<div>\n",
       "<style scoped>\n",
       "    .dataframe tbody tr th:only-of-type {\n",
       "        vertical-align: middle;\n",
       "    }\n",
       "\n",
       "    .dataframe tbody tr th {\n",
       "        vertical-align: top;\n",
       "    }\n",
       "\n",
       "    .dataframe thead th {\n",
       "        text-align: right;\n",
       "    }\n",
       "</style>\n",
       "<table border=\"1\" class=\"dataframe\">\n",
       "  <thead>\n",
       "    <tr style=\"text-align: right;\">\n",
       "      <th></th>\n",
       "      <th>comment_text</th>\n",
       "      <th>target</th>\n",
       "      <th>predicted</th>\n",
       "    </tr>\n",
       "  </thead>\n",
       "  <tbody>\n",
       "    <tr>\n",
       "      <th>83588</th>\n",
       "      <td>hi  i am trying to get breasts like yours but ...</td>\n",
       "      <td>0</td>\n",
       "      <td>1</td>\n",
       "    </tr>\n",
       "    <tr>\n",
       "      <th>132027</th>\n",
       "      <td>hornswoggle joining club   hornswoggle joined ...</td>\n",
       "      <td>1</td>\n",
       "      <td>0</td>\n",
       "    </tr>\n",
       "    <tr>\n",
       "      <th>183724</th>\n",
       "      <td>and do you fugure your baiting is somehow more...</td>\n",
       "      <td>0</td>\n",
       "      <td>1</td>\n",
       "    </tr>\n",
       "    <tr>\n",
       "      <th>150714</th>\n",
       "      <td>then assert your case please do  you write  bu...</td>\n",
       "      <td>0</td>\n",
       "      <td>1</td>\n",
       "    </tr>\n",
       "    <tr>\n",
       "      <th>42468</th>\n",
       "      <td>i never get tired of that one bro vandalism co...</td>\n",
       "      <td>0</td>\n",
       "      <td>1</td>\n",
       "    </tr>\n",
       "  </tbody>\n",
       "</table>\n",
       "</div>"
      ],
      "text/plain": [
       "                                             comment_text  target  predicted\n",
       "83588   hi  i am trying to get breasts like yours but ...       0          1\n",
       "132027  hornswoggle joining club   hornswoggle joined ...       1          0\n",
       "183724  and do you fugure your baiting is somehow more...       0          1\n",
       "150714  then assert your case please do  you write  bu...       0          1\n",
       "42468   i never get tired of that one bro vandalism co...       0          1"
      ]
     },
     "execution_count": 169,
     "metadata": {},
     "output_type": "execute_result"
    }
   ],
   "source": [
    "# pogresno klasifikovane instance: \n",
    "incorrect.head()"
   ]
  },
  {
   "cell_type": "code",
   "execution_count": null,
   "id": "db3e8476",
   "metadata": {},
   "outputs": [],
   "source": []
  },
  {
   "cell_type": "code",
   "execution_count": 184,
   "id": "0bea1d15",
   "metadata": {},
   "outputs": [
    {
     "data": {
      "text/plain": [
       "114953    and his upcomming probably refers to his homos...\n",
       "210121    it was qi c combustion   however as much as i ...\n",
       "3640      damn wiki admins   what is it with all these w...\n",
       "142585    why are you removing my responses to your obvi...\n",
       "116813    pffft thats your interpretation i do give up u...\n",
       "Name: comment_text, dtype: object"
      ]
     },
     "execution_count": 184,
     "metadata": {},
     "output_type": "execute_result"
    }
   ],
   "source": [
    "# FN -> toksicni koji su klasifikovani kao netoksicni\n",
    "\n",
    "FN = (incorrect['target']==1) & (incorrect['predicted']==0)\n",
    "incorrect[FN]['comment_text'].tail()"
   ]
  },
  {
   "cell_type": "code",
   "execution_count": 183,
   "id": "3b4db220",
   "metadata": {},
   "outputs": [
    {
     "data": {
      "text/plain": [
       "83588     hi  i am trying to get breasts like yours but ...\n",
       "183724    and do you fugure your baiting is somehow more...\n",
       "150714    then assert your case please do  you write  bu...\n",
       "42468     i never get tired of that one bro vandalism co...\n",
       "81334     haha i see what you mean just tryin to make su...\n",
       "Name: comment_text, dtype: object"
      ]
     },
     "execution_count": 183,
     "metadata": {},
     "output_type": "execute_result"
    }
   ],
   "source": [
    "# FP -> netoksicni koji su klasifikovani kao toksicni\n",
    "\n",
    "FP = (incorrect['target']==0) & (incorrect['predicted']==1)\n",
    "incorrect[FP]['comment_text'].head()"
   ]
  },
  {
   "cell_type": "code",
   "execution_count": 191,
   "id": "124d7db7",
   "metadata": {},
   "outputs": [
    {
     "data": {
      "text/plain": [
       "'huh  the section is mostly about the views of owen  alik shahadah who is german and the subsaharan african debate is not confined to the united states  we quote other nonamericans in the article defining blacks in terms of subsaharan ancestry  do you think the term black africa is confined to americans do you really  do you think our readers are so dumb stupid and unitelligent that theyll get confused by a map just because theres no caption are they not able to read the text'"
      ]
     },
     "execution_count": 191,
     "metadata": {},
     "output_type": "execute_result"
    }
   ],
   "source": [
    "indexes = incorrect[FP].index\n",
    "random_index = np.random.choice(indexes)\n",
    "\n",
    "# primer jednog nasumicnog netoksicnog koji je model obelezio kao toksican komentar\n",
    "incorrect[FP]['comment_text'][random_index]\n"
   ]
  },
  {
   "cell_type": "code",
   "execution_count": 192,
   "id": "9cf60dda",
   "metadata": {},
   "outputs": [
    {
     "data": {
      "text/plain": [
       "'if you have a chance to read this you should instead of acting like a dicki have faith that you can do thisthe easiest waystop acting like a dick and btw happy new year to you'"
      ]
     },
     "execution_count": 192,
     "metadata": {},
     "output_type": "execute_result"
    }
   ],
   "source": [
    "# primer nasumicnog toksicnog koji je model obelezio kao netoksican\n",
    "indexes = incorrect[FN].index\n",
    "random_index = np.random.choice(indexes)\n",
    "\n",
    "incorrect[FN]['comment_text'][random_index]\n"
   ]
  },
  {
   "cell_type": "code",
   "execution_count": null,
   "id": "c6c594fb",
   "metadata": {},
   "outputs": [],
   "source": []
  },
  {
   "cell_type": "code",
   "execution_count": 217,
   "id": "eb15b391",
   "metadata": {},
   "outputs": [],
   "source": [
    "new_comments = ['fuck you bitch', 'fukc you', 'hey how are you', 'shit', 'this is a clean comment']\n",
    "new = to_sequence(new_comments, 100, tokenizer)"
   ]
  },
  {
   "cell_type": "code",
   "execution_count": 220,
   "id": "d7e16792",
   "metadata": {},
   "outputs": [
    {
     "data": {
      "text/plain": [
       "array([[0.9986967 ],\n",
       "       [0.55111116],\n",
       "       [0.65184987],\n",
       "       [0.9934381 ],\n",
       "       [0.2368989 ]], dtype=float32)"
      ]
     },
     "execution_count": 220,
     "metadata": {},
     "output_type": "execute_result"
    }
   ],
   "source": [
    "# verovatnoce pripadanja toksicnim:\n",
    "\n",
    "probs = model.predict(new)\n",
    "probs"
   ]
  },
  {
   "cell_type": "code",
   "execution_count": null,
   "id": "35e3f719",
   "metadata": {},
   "outputs": [],
   "source": []
  },
  {
   "cell_type": "markdown",
   "id": "ed71d770",
   "metadata": {},
   "source": [
    "### Čuvanje modela"
   ]
  },
  {
   "cell_type": "code",
   "execution_count": null,
   "id": "4a9c1b8c",
   "metadata": {},
   "outputs": [],
   "source": [
    "binary_model.save('models/binary_model.h5')"
   ]
  },
  {
   "cell_type": "code",
   "execution_count": null,
   "id": "3eb8e5a1",
   "metadata": {},
   "outputs": [],
   "source": [
    "# model = keras.models.load_model('models/binary_model.h5', custom_objects={\"f1_m\": f1_m})"
   ]
  },
  {
   "cell_type": "code",
   "execution_count": null,
   "id": "423c007c",
   "metadata": {},
   "outputs": [],
   "source": [
    "# model.get_config()"
   ]
  },
  {
   "cell_type": "code",
   "execution_count": 199,
   "id": "b34e8a3a",
   "metadata": {},
   "outputs": [],
   "source": [
    "model = keras.models.load_model('models/binary_model.h5', custom_objects={'f1_m' : f1_m})"
   ]
  },
  {
   "cell_type": "code",
   "execution_count": null,
   "id": "94407716",
   "metadata": {},
   "outputs": [],
   "source": []
  }
 ],
 "metadata": {
  "kernelspec": {
   "display_name": "Python 3 (ipykernel)",
   "language": "python",
   "name": "python3"
  },
  "language_info": {
   "codemirror_mode": {
    "name": "ipython",
    "version": 3
   },
   "file_extension": ".py",
   "mimetype": "text/x-python",
   "name": "python",
   "nbconvert_exporter": "python",
   "pygments_lexer": "ipython3",
   "version": "3.9.6"
  }
 },
 "nbformat": 4,
 "nbformat_minor": 5
}
