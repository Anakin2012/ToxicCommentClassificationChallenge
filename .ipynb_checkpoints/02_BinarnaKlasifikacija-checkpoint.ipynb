{
 "cells": [
  {
   "cell_type": "code",
   "execution_count": 1,
   "id": "ccf4237f",
   "metadata": {},
   "outputs": [],
   "source": [
    "import pandas as pd\n",
    "import numpy as np\n",
    "from matplotlib import pyplot as plt\n",
    "\n",
    "import pickle\n",
    "import sklearn\n",
    "from sklearn.utils import class_weight\n",
    "import time\n",
    "from sklearn import metrics\n",
    "import warnings\n",
    "\n",
    "warnings.simplefilter(action='ignore', category=FutureWarning)"
   ]
  },
  {
   "cell_type": "code",
   "execution_count": 2,
   "id": "ee6c7433",
   "metadata": {},
   "outputs": [],
   "source": [
    "%run SharedFunctions.ipynb"
   ]
  },
  {
   "cell_type": "code",
   "execution_count": null,
   "id": "72e5b526",
   "metadata": {},
   "outputs": [],
   "source": []
  },
  {
   "cell_type": "markdown",
   "id": "ad2119d5",
   "metadata": {},
   "source": [
    "Učitava se prethodno pripremljen skup podataka: "
   ]
  },
  {
   "cell_type": "code",
   "execution_count": 5,
   "id": "2297f84b",
   "metadata": {},
   "outputs": [],
   "source": [
    "data = pd.read_csv('data/data_longer.csv')\n",
    "data.drop(columns=['Unnamed: 0'], inplace=True)"
   ]
  },
  {
   "cell_type": "code",
   "execution_count": 6,
   "id": "cbcc75ce",
   "metadata": {},
   "outputs": [
    {
     "data": {
      "text/plain": [
       "(223453, 9)"
      ]
     },
     "execution_count": 6,
     "metadata": {},
     "output_type": "execute_result"
    }
   ],
   "source": [
    "data.shape"
   ]
  },
  {
   "cell_type": "code",
   "execution_count": null,
   "id": "f692a602",
   "metadata": {},
   "outputs": [],
   "source": []
  },
  {
   "cell_type": "markdown",
   "id": "d7e8f9f6",
   "metadata": {},
   "source": [
    "### 1. Podela na trening, test, i validacioni skup"
   ]
  },
  {
   "cell_type": "code",
   "execution_count": 7,
   "id": "c6ea72fc",
   "metadata": {},
   "outputs": [
    {
     "data": {
      "text/plain": [
       "(127580, 63978, 31895)"
      ]
     },
     "execution_count": 7,
     "metadata": {},
     "output_type": "execute_result"
    }
   ],
   "source": [
    "# Ovo je prepisano iz prethodne sveske\n",
    "\n",
    "train_size = 159571 - 96\n",
    "test_size = 63978\n",
    "validation_size = int(0.2*train_size)\n",
    "train_size = train_size - validation_size\n",
    "\n",
    "validation_data = data[:validation_size]\n",
    "train_data = data[validation_size:train_size+validation_size]\n",
    "test_data = data[train_size+validation_size : ]\n",
    "\n",
    "train_data.shape[0], test_data.shape[0], validation_data.shape[0]"
   ]
  },
  {
   "cell_type": "code",
   "execution_count": null,
   "id": "a9c3088a",
   "metadata": {},
   "outputs": [],
   "source": []
  },
  {
   "cell_type": "code",
   "execution_count": null,
   "id": "743e2319",
   "metadata": {},
   "outputs": [],
   "source": []
  },
  {
   "cell_type": "markdown",
   "id": "23e11fc3",
   "metadata": {},
   "source": [
    "### 2. Tokenizacija I vektorizacija teksta"
   ]
  },
  {
   "cell_type": "code",
   "execution_count": 8,
   "id": "e09f6409",
   "metadata": {},
   "outputs": [],
   "source": [
    "# uzima se recimo 20000 najfrekventinijh reci\n",
    "max_features = 20000\n",
    "\n",
    "# max duzina\n",
    "max_len = 100"
   ]
  },
  {
   "cell_type": "code",
   "execution_count": 9,
   "id": "be037964",
   "metadata": {},
   "outputs": [],
   "source": [
    "word_index, tokenizer = get_vocabulary(max_features, train_data, 'tokenizer_binary.pickle')"
   ]
  },
  {
   "cell_type": "code",
   "execution_count": 10,
   "id": "f099423a",
   "metadata": {},
   "outputs": [
    {
     "name": "stdout",
     "output_type": "stream",
     "text": [
      "Broj jedinstvenih reci: 187048\n"
     ]
    }
   ],
   "source": [
    "print('Broj jedinstvenih reci:', len(word_index))"
   ]
  },
  {
   "cell_type": "code",
   "execution_count": null,
   "id": "d9e438ae",
   "metadata": {},
   "outputs": [],
   "source": []
  },
  {
   "cell_type": "markdown",
   "id": "659647e3",
   "metadata": {},
   "source": [
    "Sada pravimo skupove za trening, test i validaciju sa vektorizovanim tekstom"
   ]
  },
  {
   "cell_type": "code",
   "execution_count": 11,
   "id": "f3673a91",
   "metadata": {},
   "outputs": [],
   "source": [
    "X_train = to_sequence(train_data['comment_text'], max_len, tokenizer)\n",
    "X_test = to_sequence(test_data['comment_text'], max_len, tokenizer)\n",
    "X_validation = to_sequence(validation_data['comment_text'], max_len, tokenizer)"
   ]
  },
  {
   "cell_type": "code",
   "execution_count": 12,
   "id": "be157f6a",
   "metadata": {},
   "outputs": [
    {
     "data": {
      "text/plain": [
       "((127580, 100), (63978, 100), (31895, 100))"
      ]
     },
     "execution_count": 12,
     "metadata": {},
     "output_type": "execute_result"
    }
   ],
   "source": [
    "X_train.shape, X_test.shape, X_validation.shape"
   ]
  },
  {
   "cell_type": "code",
   "execution_count": 13,
   "id": "14432af0",
   "metadata": {},
   "outputs": [],
   "source": [
    "y_train = train_data['target']\n",
    "y_test = test_data['target']\n",
    "y_validation = validation_data['target']"
   ]
  },
  {
   "cell_type": "code",
   "execution_count": null,
   "id": "2299c50f",
   "metadata": {},
   "outputs": [],
   "source": []
  },
  {
   "cell_type": "markdown",
   "id": "c3627b57",
   "metadata": {},
   "source": [
    "Kreira se matrica ugnjezdavanja"
   ]
  },
  {
   "cell_type": "code",
   "execution_count": 14,
   "id": "87606de0",
   "metadata": {},
   "outputs": [],
   "source": [
    "embedding_matrix = create_embedding_matrix(word_index, max_len)"
   ]
  },
  {
   "cell_type": "code",
   "execution_count": 15,
   "id": "a8cfd4b0",
   "metadata": {},
   "outputs": [
    {
     "data": {
      "text/plain": [
       "array([[ 0.        ,  0.        ,  0.        , ...,  0.        ,\n",
       "         0.        ,  0.        ],\n",
       "       [-0.038194  , -0.24487001,  0.72812003, ..., -0.1459    ,\n",
       "         0.82779998,  0.27061999],\n",
       "       [-0.18970001,  0.050024  ,  0.19084001, ..., -0.39804   ,\n",
       "         0.47646999, -0.15983   ],\n",
       "       ...,\n",
       "       [-0.25132999, -0.38620001,  0.37869999, ...,  0.031966  ,\n",
       "        -0.27360001, -0.96281999],\n",
       "       [ 0.        ,  0.        ,  0.        , ...,  0.        ,\n",
       "         0.        ,  0.        ],\n",
       "       [-0.085656  , -0.22007   ,  0.75664997, ...,  0.73556   ,\n",
       "         0.65118998, -0.23041999]])"
      ]
     },
     "execution_count": 15,
     "metadata": {},
     "output_type": "execute_result"
    }
   ],
   "source": [
    "embedding_matrix"
   ]
  },
  {
   "cell_type": "markdown",
   "id": "e40017b2",
   "metadata": {},
   "source": [
    "### 3. Formiranje modela"
   ]
  },
  {
   "cell_type": "code",
   "execution_count": 17,
   "id": "95546461",
   "metadata": {},
   "outputs": [],
   "source": [
    "kernel_size = 3\n",
    "pool_size = 3\n",
    "filters = 32\n",
    "dropout_rate = 0.4"
   ]
  },
  {
   "cell_type": "code",
   "execution_count": 18,
   "id": "de90a837",
   "metadata": {},
   "outputs": [
    {
     "name": "stdout",
     "output_type": "stream",
     "text": [
      "Model: \"sequential\"\n",
      "_________________________________________________________________\n",
      "Layer (type)                 Output Shape              Param #   \n",
      "=================================================================\n",
      "embedding (Embedding)        (None, 100, 100)          2000000   \n",
      "_________________________________________________________________\n",
      "conv1d (Conv1D)              (None, 100, 32)           9632      \n",
      "_________________________________________________________________\n",
      "max_pooling1d (MaxPooling1D) (None, 33, 32)            0         \n",
      "_________________________________________________________________\n",
      "conv1d_1 (Conv1D)            (None, 33, 32)            3104      \n",
      "_________________________________________________________________\n",
      "max_pooling1d_1 (MaxPooling1 (None, 11, 32)            0         \n",
      "_________________________________________________________________\n",
      "dropout (Dropout)            (None, 11, 32)            0         \n",
      "_________________________________________________________________\n",
      "global_average_pooling1d (Gl (None, 32)                0         \n",
      "_________________________________________________________________\n",
      "dense (Dense)                (None, 1)                 33        \n",
      "=================================================================\n",
      "Total params: 2,012,769\n",
      "Trainable params: 12,769\n",
      "Non-trainable params: 2,000,000\n",
      "_________________________________________________________________\n"
     ]
    }
   ],
   "source": [
    "binary_model = create_model(num_of_classes = 2, num_of_features = max_features, embedding_dim = 100, \n",
    "                kernel_size = kernel_size, pool_size = pool_size, filters = filters, \n",
    "                dropout_rate = dropout_rate, maxlen = max_len, embedding_matrix = embedding_matrix)"
   ]
  },
  {
   "cell_type": "code",
   "execution_count": null,
   "id": "9c39f5e9",
   "metadata": {},
   "outputs": [],
   "source": []
  },
  {
   "cell_type": "code",
   "execution_count": 19,
   "id": "d0523d8f",
   "metadata": {},
   "outputs": [],
   "source": [
    "lr = 0.001\n",
    "\n",
    "binary_model.compile(loss='binary_crossentropy', optimizer=Adam(lr), metrics=[f1_m, recall_m, precision_m])"
   ]
  },
  {
   "cell_type": "code",
   "execution_count": null,
   "id": "0fb9778d",
   "metadata": {},
   "outputs": [],
   "source": []
  },
  {
   "cell_type": "markdown",
   "id": "39c289e4",
   "metadata": {},
   "source": [
    "### 4. Obučavanje modela"
   ]
  },
  {
   "cell_type": "code",
   "execution_count": 20,
   "id": "04c04077",
   "metadata": {},
   "outputs": [
    {
     "data": {
      "text/plain": [
       "{0: 0.5563210772343543, 1: 4.9388355528027255}"
      ]
     },
     "execution_count": 20,
     "metadata": {},
     "output_type": "execute_result"
    }
   ],
   "source": [
    "weights = get_weights(y_train)\n",
    "weights"
   ]
  },
  {
   "cell_type": "code",
   "execution_count": 21,
   "id": "5d5c5bb5",
   "metadata": {},
   "outputs": [],
   "source": [
    "epochs = 10\n",
    "batch_size = 128"
   ]
  },
  {
   "cell_type": "code",
   "execution_count": 22,
   "id": "969ce549",
   "metadata": {},
   "outputs": [
    {
     "name": "stdout",
     "output_type": "stream",
     "text": [
      "Epoch 1/10\n",
      "997/997 [==============================] - 33s 33ms/step - loss: 0.3789 - f1_m: 0.5507 - recall_m: 0.8357 - precision_m: 0.4278 - val_loss: 0.3190 - val_f1_m: 0.6263 - val_recall_m: 0.8756 - val_precision_m: 0.4955\n",
      "Epoch 2/10\n",
      "997/997 [==============================] - 32s 32ms/step - loss: 0.2944 - f1_m: 0.6463 - recall_m: 0.8558 - precision_m: 0.5326 - val_loss: 0.2874 - val_f1_m: 0.6490 - val_recall_m: 0.8814 - val_precision_m: 0.5215call_m: 0.8541 - precision_m: 0.5 - ETA: 3s - loss: 0.2978 - f1_m: 0.6453 - recall_m: 0.8540 - precision_m: 0 - ETA: 3s - loss: 0.2976 -\n",
      "Epoch 3/10\n",
      "997/997 [==============================] - 33s 33ms/step - loss: 0.2712 - f1_m: 0.6641 - recall_m: 0.8669 - precision_m: 0.5507 - val_loss: 0.2643 - val_f1_m: 0.6691 - val_recall_m: 0.8823 - val_precision_m: 0.5467\n",
      "Epoch 4/10\n",
      "997/997 [==============================] - 32s 32ms/step - loss: 0.2567 - f1_m: 0.6751 - recall_m: 0.8771 - precision_m: 0.5615 - val_loss: 0.2441 - val_f1_m: 0.6821 - val_recall_m: 0.8750 - val_precision_m: 0.5676\n",
      "Epoch 5/10\n",
      "997/997 [==============================] - 33s 33ms/step - loss: 0.2489 - f1_m: 0.6844 - recall_m: 0.8833 - precision_m: 0.5715 - val_loss: 0.1781 - val_f1_m: 0.7340 - val_recall_m: 0.8266 - val_precision_m: 0.6719s - loss: 0.2489 - f1_m: 0.6838 - recall_m: 0.8825 - prec - ETA: 1s - loss: 0.2496 - f1_m: 0.6834 - recall_m: 0\n",
      "Epoch 6/10\n",
      "997/997 [==============================] - 33s 33ms/step - loss: 0.2379 - f1_m: 0.6938 - recall_m: 0.8871 - precision_m: 0.5827 - val_loss: 0.2267 - val_f1_m: 0.7001 - val_recall_m: 0.8771 - val_precision_m: 0.5911 0.6936 - recall_m: 0.8867 - precision_m: 0\n",
      "Epoch 7/10\n",
      "997/997 [==============================] - 35s 35ms/step - loss: 0.2300 - f1_m: 0.7016 - recall_m: 0.8925 - precision_m: 0.5902 - val_loss: 0.2975 - val_f1_m: 0.6532 - val_recall_m: 0.9183 - val_precision_m: 0.5148 0.7026 - recall - ETA: 1 - ETA: 6s - lo - ETA: 1s - loss: 0.2293 - f1_m: 0.7017 - recall_m: 0.8925 - precisio - ETA: 1s - loss: 0.2294 - f1_m: 0.7012 - recall_m: 0.8921 - p\n",
      "Epoch 8/10\n",
      "997/997 [==============================] - 33s 33ms/step - loss: 0.2240 - f1_m: 0.7099 - recall_m: 0.8949 - precision_m: 0.6010 - val_loss: 0.2489 - val_f1_m: 0.6877 - val_recall_m: 0.8943 - val_precision_m: 0.56670.8944 - precision_m: 0. - ETA: 17s - loss:  - ETA: 14s - ETA: 0s - loss: 0.2234 - f1_m: 0.7108 - recall_m: 0.8956 - precision_\n",
      "Epoch 9/10\n",
      "997/997 [==============================] - 33s 33ms/step - loss: 0.2168 - f1_m: 0.7122 - recall_m: 0.9002 - precision_m: 0.6019 - val_loss: 0.2077 - val_f1_m: 0.7172 - val_recall_m: 0.8713 - val_precision_m: 0.6183\n",
      "Epoch 10/10\n",
      "997/997 [==============================] - 32s 33ms/step - loss: 0.2104 - f1_m: 0.7212 - recall_m: 0.9046 - precision_m: 0.6122 - val_loss: 0.2343 - val_f1_m: 0.6951 - val_recall_m: 0.8938 - val_precision_m: 0.5772\n",
      "Trajanje obucavanja modela binarne klasifikacije:  332.5267369747162\n"
     ]
    }
   ],
   "source": [
    "start = time.time()    \n",
    "\n",
    "binary_history = binary_model.fit(X_train, y_train, batch_size=batch_size, epochs=epochs, \n",
    "                                 validation_data=(X_validation, y_validation), class_weight=weights)\n",
    "                                 #,callbacks=[early_stop]\n",
    "                                 \n",
    "print('Trajanje obucavanja modela binarne klasifikacije: ', time.time() - start)"
   ]
  },
  {
   "cell_type": "code",
   "execution_count": null,
   "id": "3d252479",
   "metadata": {},
   "outputs": [],
   "source": []
  },
  {
   "cell_type": "code",
   "execution_count": 30,
   "id": "4d39ec52",
   "metadata": {},
   "outputs": [
    {
     "data": {
      "image/png": "[encoded data removed]",
      "text/plain": [
       "<Figure size 720x360 with 2 Axes>"
      ]
     },
     "metadata": {
      "needs_background": "light"
     },
     "output_type": "display_data"
    }
   ],
   "source": [
    "plot_graphs(binary_history, ['f1_m', 'loss'])"
   ]
  },
  {
   "cell_type": "code",
   "execution_count": null,
   "id": "150acddc",
   "metadata": {},
   "outputs": [],
   "source": []
  },
  {
   "cell_type": "markdown",
   "id": "a0427b6d",
   "metadata": {},
   "source": [
    "### 5. Evaluacija modela"
   ]
  },
  {
   "cell_type": "code",
   "execution_count": 24,
   "id": "b482d9e8",
   "metadata": {},
   "outputs": [
    {
     "name": "stdout",
     "output_type": "stream",
     "text": [
      "2000/2000 [==============================] - 9s 5ms/step - loss: 0.4976 - f1_m: 0.5210 - recall_m: 0.8930 - precision_m: 0.3883\n"
     ]
    }
   ],
   "source": [
    "scores = binary_model.evaluate(X_test, y_test)"
   ]
  },
  {
   "cell_type": "code",
   "execution_count": 25,
   "id": "7281cef0",
   "metadata": {},
   "outputs": [],
   "source": [
    "y_pred = binary_model.predict(X_test)"
   ]
  },
  {
   "cell_type": "code",
   "execution_count": 45,
   "id": "2499b829",
   "metadata": {},
   "outputs": [],
   "source": [
    "positives = y_pred[y_pred > 0.5]\n",
    "positives\n",
    "\n",
    "new_class = [int(score > 0.5) for score in y_pred]\n"
   ]
  },
  {
   "cell_type": "code",
   "execution_count": 46,
   "id": "c18e0c0e",
   "metadata": {},
   "outputs": [],
   "source": [
    "cf = metrics.confusion_matrix(y_test, new_class)"
   ]
  },
  {
   "cell_type": "code",
   "execution_count": 47,
   "id": "2b7e194e",
   "metadata": {},
   "outputs": [
    {
     "data": {
      "image/png": "[encoded data removed]",
      "text/plain": [
       "<Figure size 288x288 with 2 Axes>"
      ]
     },
     "metadata": {
      "needs_background": "light"
     },
     "output_type": "display_data"
    }
   ],
   "source": [
    "plt.matshow(cf)\n",
    "plt.colorbar()\n",
    "plt.show()"
   ]
  },
  {
   "cell_type": "code",
   "execution_count": 49,
   "id": "f475b607",
   "metadata": {},
   "outputs": [
    {
     "name": "stdout",
     "output_type": "stream",
     "text": [
      "[[48616  9115]\n",
      " [  453  5794]]\n"
     ]
    }
   ],
   "source": [
    "print(cf)"
   ]
  },
  {
   "cell_type": "code",
   "execution_count": null,
   "id": "f02ea350",
   "metadata": {},
   "outputs": [],
   "source": []
  }
 ],
 "metadata": {
  "kernelspec": {
   "display_name": "Python 3",
   "language": "python",
   "name": "python3"
  },
  "language_info": {
   "codemirror_mode": {
    "name": "ipython",
    "version": 3
   },
   "file_extension": ".py",
   "mimetype": "text/x-python",
   "name": "python",
   "nbconvert_exporter": "python",
   "pygments_lexer": "ipython3",
   "version": "3.8.8"
  }
 },
 "nbformat": 4,
 "nbformat_minor": 5
}
