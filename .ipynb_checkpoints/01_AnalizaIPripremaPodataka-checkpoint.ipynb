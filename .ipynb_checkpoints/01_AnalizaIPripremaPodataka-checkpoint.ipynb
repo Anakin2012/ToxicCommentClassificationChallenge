{
 "cells": [
  {
   "cell_type": "code",
   "execution_count": 108,
   "id": "7167a55a",
   "metadata": {},
   "outputs": [],
   "source": [
    "import pandas as pd\n",
    "import numpy as np\n",
    "from matplotlib import pyplot as plt"
   ]
  },
  {
   "cell_type": "code",
   "execution_count": 142,
   "id": "475b882a",
   "metadata": {},
   "outputs": [],
   "source": [
    "from IPython.display import Image\n",
    "from wordcloud import WordCloud, STOPWORDS\n",
    "import string"
   ]
  },
  {
   "cell_type": "markdown",
   "id": "4ade435d",
   "metadata": {},
   "source": [
    "## Učitavanje skupa podataka"
   ]
  },
  {
   "cell_type": "code",
   "execution_count": 110,
   "id": "43185b0a",
   "metadata": {},
   "outputs": [],
   "source": [
    "data_train = pd.read_csv('data/train.csv')\n",
    "data_test = pd.read_csv('data/test.csv')"
   ]
  },
  {
   "cell_type": "markdown",
   "id": "9cb8efe0",
   "metadata": {},
   "source": [
    "Skup za obučavanje sadrži 159571 instanci, a skup za testiranje 153164"
   ]
  },
  {
   "cell_type": "code",
   "execution_count": 111,
   "id": "a31d5d6f",
   "metadata": {},
   "outputs": [
    {
     "data": {
      "text/plain": [
       "(159571, 8)"
      ]
     },
     "execution_count": 111,
     "metadata": {},
     "output_type": "execute_result"
    }
   ],
   "source": [
    "data_train.shape"
   ]
  },
  {
   "cell_type": "code",
   "execution_count": 112,
   "id": "64dcfeac",
   "metadata": {},
   "outputs": [
    {
     "data": {
      "text/plain": [
       "(153164, 2)"
      ]
     },
     "execution_count": 112,
     "metadata": {},
     "output_type": "execute_result"
    }
   ],
   "source": [
    "data_test.shape"
   ]
  },
  {
   "cell_type": "code",
   "execution_count": null,
   "id": "1c0cd54e",
   "metadata": {},
   "outputs": [],
   "source": []
  },
  {
   "cell_type": "code",
   "execution_count": null,
   "id": "6d8308f9",
   "metadata": {},
   "outputs": [],
   "source": []
  },
  {
   "cell_type": "markdown",
   "id": "46cbd935",
   "metadata": {},
   "source": [
    "## Analiza skupa podataka"
   ]
  },
  {
   "cell_type": "markdown",
   "id": "67873010",
   "metadata": {},
   "source": [
    "Komentari u tekstualnom formatu se nalaze u koloni comment_text, ostale kolone označavaju klase kojima komentar pripada, označene jedinicom za svaku klasu kojoj pripada, nulom u suprotnom."
   ]
  },
  {
   "cell_type": "code",
   "execution_count": 113,
   "id": "9d3fec9d",
   "metadata": {
    "scrolled": true
   },
   "outputs": [
    {
     "data": {
      "text/html": [
       "<div>\n",
       "<style scoped>\n",
       "    .dataframe tbody tr th:only-of-type {\n",
       "        vertical-align: middle;\n",
       "    }\n",
       "\n",
       "    .dataframe tbody tr th {\n",
       "        vertical-align: top;\n",
       "    }\n",
       "\n",
       "    .dataframe thead th {\n",
       "        text-align: right;\n",
       "    }\n",
       "</style>\n",
       "<table border=\"1\" class=\"dataframe\">\n",
       "  <thead>\n",
       "    <tr style=\"text-align: right;\">\n",
       "      <th></th>\n",
       "      <th>id</th>\n",
       "      <th>comment_text</th>\n",
       "      <th>toxic</th>\n",
       "      <th>severe_toxic</th>\n",
       "      <th>obscene</th>\n",
       "      <th>threat</th>\n",
       "      <th>insult</th>\n",
       "      <th>identity_hate</th>\n",
       "    </tr>\n",
       "  </thead>\n",
       "  <tbody>\n",
       "    <tr>\n",
       "      <th>0</th>\n",
       "      <td>0000997932d777bf</td>\n",
       "      <td>Explanation\\nWhy the edits made under my usern...</td>\n",
       "      <td>0</td>\n",
       "      <td>0</td>\n",
       "      <td>0</td>\n",
       "      <td>0</td>\n",
       "      <td>0</td>\n",
       "      <td>0</td>\n",
       "    </tr>\n",
       "    <tr>\n",
       "      <th>1</th>\n",
       "      <td>000103f0d9cfb60f</td>\n",
       "      <td>D'aww! He matches this background colour I'm s...</td>\n",
       "      <td>0</td>\n",
       "      <td>0</td>\n",
       "      <td>0</td>\n",
       "      <td>0</td>\n",
       "      <td>0</td>\n",
       "      <td>0</td>\n",
       "    </tr>\n",
       "    <tr>\n",
       "      <th>2</th>\n",
       "      <td>000113f07ec002fd</td>\n",
       "      <td>Hey man, I'm really not trying to edit war. It...</td>\n",
       "      <td>0</td>\n",
       "      <td>0</td>\n",
       "      <td>0</td>\n",
       "      <td>0</td>\n",
       "      <td>0</td>\n",
       "      <td>0</td>\n",
       "    </tr>\n",
       "    <tr>\n",
       "      <th>3</th>\n",
       "      <td>0001b41b1c6bb37e</td>\n",
       "      <td>\"\\nMore\\nI can't make any real suggestions on ...</td>\n",
       "      <td>0</td>\n",
       "      <td>0</td>\n",
       "      <td>0</td>\n",
       "      <td>0</td>\n",
       "      <td>0</td>\n",
       "      <td>0</td>\n",
       "    </tr>\n",
       "    <tr>\n",
       "      <th>4</th>\n",
       "      <td>0001d958c54c6e35</td>\n",
       "      <td>You, sir, are my hero. Any chance you remember...</td>\n",
       "      <td>0</td>\n",
       "      <td>0</td>\n",
       "      <td>0</td>\n",
       "      <td>0</td>\n",
       "      <td>0</td>\n",
       "      <td>0</td>\n",
       "    </tr>\n",
       "  </tbody>\n",
       "</table>\n",
       "</div>"
      ],
      "text/plain": [
       "                 id                                       comment_text  toxic  \\\n",
       "0  0000997932d777bf  Explanation\\nWhy the edits made under my usern...      0   \n",
       "1  000103f0d9cfb60f  D'aww! He matches this background colour I'm s...      0   \n",
       "2  000113f07ec002fd  Hey man, I'm really not trying to edit war. It...      0   \n",
       "3  0001b41b1c6bb37e  \"\\nMore\\nI can't make any real suggestions on ...      0   \n",
       "4  0001d958c54c6e35  You, sir, are my hero. Any chance you remember...      0   \n",
       "\n",
       "   severe_toxic  obscene  threat  insult  identity_hate  \n",
       "0             0        0       0       0              0  \n",
       "1             0        0       0       0              0  \n",
       "2             0        0       0       0              0  \n",
       "3             0        0       0       0              0  \n",
       "4             0        0       0       0              0  "
      ]
     },
     "execution_count": 113,
     "metadata": {},
     "output_type": "execute_result"
    }
   ],
   "source": [
    "data_train.head()"
   ]
  },
  {
   "cell_type": "code",
   "execution_count": 114,
   "id": "e1e9d4a0",
   "metadata": {},
   "outputs": [
    {
     "data": {
      "text/html": [
       "<div>\n",
       "<style scoped>\n",
       "    .dataframe tbody tr th:only-of-type {\n",
       "        vertical-align: middle;\n",
       "    }\n",
       "\n",
       "    .dataframe tbody tr th {\n",
       "        vertical-align: top;\n",
       "    }\n",
       "\n",
       "    .dataframe thead th {\n",
       "        text-align: right;\n",
       "    }\n",
       "</style>\n",
       "<table border=\"1\" class=\"dataframe\">\n",
       "  <thead>\n",
       "    <tr style=\"text-align: right;\">\n",
       "      <th></th>\n",
       "      <th>id</th>\n",
       "      <th>comment_text</th>\n",
       "    </tr>\n",
       "  </thead>\n",
       "  <tbody>\n",
       "    <tr>\n",
       "      <th>0</th>\n",
       "      <td>00001cee341fdb12</td>\n",
       "      <td>Yo bitch Ja Rule is more succesful then you'll...</td>\n",
       "    </tr>\n",
       "    <tr>\n",
       "      <th>1</th>\n",
       "      <td>0000247867823ef7</td>\n",
       "      <td>== From RfC == \\n\\n The title is fine as it is...</td>\n",
       "    </tr>\n",
       "    <tr>\n",
       "      <th>2</th>\n",
       "      <td>00013b17ad220c46</td>\n",
       "      <td>\" \\n\\n == Sources == \\n\\n * Zawe Ashton on Lap...</td>\n",
       "    </tr>\n",
       "    <tr>\n",
       "      <th>3</th>\n",
       "      <td>00017563c3f7919a</td>\n",
       "      <td>:If you have a look back at the source, the in...</td>\n",
       "    </tr>\n",
       "    <tr>\n",
       "      <th>4</th>\n",
       "      <td>00017695ad8997eb</td>\n",
       "      <td>I don't anonymously edit articles at all.</td>\n",
       "    </tr>\n",
       "  </tbody>\n",
       "</table>\n",
       "</div>"
      ],
      "text/plain": [
       "                 id                                       comment_text\n",
       "0  00001cee341fdb12  Yo bitch Ja Rule is more succesful then you'll...\n",
       "1  0000247867823ef7  == From RfC == \\n\\n The title is fine as it is...\n",
       "2  00013b17ad220c46  \" \\n\\n == Sources == \\n\\n * Zawe Ashton on Lap...\n",
       "3  00017563c3f7919a  :If you have a look back at the source, the in...\n",
       "4  00017695ad8997eb          I don't anonymously edit articles at all."
      ]
     },
     "execution_count": 114,
     "metadata": {},
     "output_type": "execute_result"
    }
   ],
   "source": [
    "data_test.head()"
   ]
  },
  {
   "cell_type": "markdown",
   "id": "74b68765",
   "metadata": {},
   "source": [
    "Tipovi svake od kolona:"
   ]
  },
  {
   "cell_type": "code",
   "execution_count": 115,
   "id": "87d0b383",
   "metadata": {},
   "outputs": [
    {
     "data": {
      "text/plain": [
       "id               object\n",
       "comment_text     object\n",
       "toxic             int64\n",
       "severe_toxic      int64\n",
       "obscene           int64\n",
       "threat            int64\n",
       "insult            int64\n",
       "identity_hate     int64\n",
       "dtype: object"
      ]
     },
     "execution_count": 115,
     "metadata": {},
     "output_type": "execute_result"
    }
   ],
   "source": [
    "data_train.dtypes"
   ]
  },
  {
   "cell_type": "code",
   "execution_count": null,
   "id": "694cd9bd",
   "metadata": {},
   "outputs": [],
   "source": []
  },
  {
   "cell_type": "markdown",
   "id": "a2109260",
   "metadata": {},
   "source": [
    "Primer jedne instance, tj. komentara i njemu pridruženih klasa\n",
    "- ovaj komentar označen je sa dve labele: toxic i insult"
   ]
  },
  {
   "cell_type": "code",
   "execution_count": 116,
   "id": "eff030de",
   "metadata": {},
   "outputs": [
    {
     "name": "stdout",
     "output_type": "stream",
     "text": [
      "\"\n",
      "\n",
      "Hey listen don't you ever!!!! Delete my edits ever again I'm annoyed because the WWE 2K15 a few of the roster have been confirmed and your stupid ass deletes what I write. just stop!!!! Please STOP!!!! You don't work 2k or WWE games so stop deleting other peoples shit if I get it wrong or others get it wrong let them they will get the hang of it eventually but don't stick your most ass in their and I'm gonna delete the \"\"please do not insert the roster\"\" shit how do you not have it if has been confirmed!!!!! God your stupid.\"\n",
      "\n",
      "\n",
      "toxic            1\n",
      "severe_toxic     0\n",
      "obscene          0\n",
      "threat           0\n",
      "insult           1\n",
      "identity_hate    0\n",
      "Name: 159546, dtype: object\n"
     ]
    }
   ],
   "source": [
    "print(data_train['comment_text'][159546])\n",
    "print('\\n')\n",
    "print(data_train.iloc[159546].drop(['id', 'comment_text']))"
   ]
  },
  {
   "cell_type": "code",
   "execution_count": null,
   "id": "ccf61063",
   "metadata": {},
   "outputs": [],
   "source": []
  },
  {
   "cell_type": "markdown",
   "id": "a115f3a4",
   "metadata": {},
   "source": [
    "Provera da li postoje neke nedostajuće vrednosti"
   ]
  },
  {
   "cell_type": "code",
   "execution_count": 117,
   "id": "a3bf087e",
   "metadata": {},
   "outputs": [
    {
     "data": {
      "text/plain": [
       "id               False\n",
       "comment_text     False\n",
       "toxic            False\n",
       "severe_toxic     False\n",
       "obscene          False\n",
       "threat           False\n",
       "insult           False\n",
       "identity_hate    False\n",
       "dtype: bool"
      ]
     },
     "execution_count": 117,
     "metadata": {},
     "output_type": "execute_result"
    }
   ],
   "source": [
    "data_train.isnull().any()"
   ]
  },
  {
   "cell_type": "code",
   "execution_count": null,
   "id": "bebbe20a",
   "metadata": {},
   "outputs": [],
   "source": []
  },
  {
   "cell_type": "markdown",
   "id": "1fcb317f",
   "metadata": {},
   "source": [
    "Izdvajanje 6 klasa u promenljivu labels"
   ]
  },
  {
   "cell_type": "code",
   "execution_count": 118,
   "id": "f59a9643",
   "metadata": {},
   "outputs": [],
   "source": [
    "labels = data_train[['toxic', 'severe_toxic', 'obscene', 'threat', 'insult', 'identity_hate']]"
   ]
  },
  {
   "cell_type": "code",
   "execution_count": 119,
   "id": "3d0b30c0",
   "metadata": {},
   "outputs": [
    {
     "data": {
      "text/plain": [
       "(159571, 6)"
      ]
     },
     "execution_count": 119,
     "metadata": {},
     "output_type": "execute_result"
    }
   ],
   "source": [
    "labels.shape"
   ]
  },
  {
   "cell_type": "markdown",
   "id": "31a6f340",
   "metadata": {},
   "source": [
    "### Vizualizacija podataka"
   ]
  },
  {
   "cell_type": "markdown",
   "id": "14402018",
   "metadata": {},
   "source": [
    "Prikaz brojnosti komentara po klasama"
   ]
  },
  {
   "cell_type": "code",
   "execution_count": 120,
   "id": "ef5dbb10",
   "metadata": {},
   "outputs": [
    {
     "data": {
      "text/plain": [
       "toxic            15294\n",
       "severe_toxic      1595\n",
       "obscene           8449\n",
       "threat             478\n",
       "insult            7877\n",
       "identity_hate     1405\n",
       "dtype: int64"
      ]
     },
     "execution_count": 120,
     "metadata": {},
     "output_type": "execute_result"
    }
   ],
   "source": [
    "frequency_per_class = labels.sum()\n",
    "frequency_per_class"
   ]
  },
  {
   "cell_type": "code",
   "execution_count": null,
   "id": "87ad1520",
   "metadata": {},
   "outputs": [],
   "source": []
  },
  {
   "cell_type": "code",
   "execution_count": null,
   "id": "3686412e",
   "metadata": {},
   "outputs": [],
   "source": []
  },
  {
   "cell_type": "code",
   "execution_count": 121,
   "id": "215611e0",
   "metadata": {},
   "outputs": [
    {
     "data": {
      "image/png": "[encoded data removed]",
      "text/plain": [
       "<Figure size 864x432 with 1 Axes>"
      ]
     },
     "metadata": {
      "needs_background": "light"
     },
     "output_type": "display_data"
    }
   ],
   "source": [
    "colors = ['skyblue', 'orange', 'pink', 'red', 'teal', 'purple', 'khaki']\n",
    "plt.figure(figsize=(12, 6))\n",
    "plt.title('Brojnost toksičnih komentara po klasama')\n",
    "plt.xlabel('Frekvencija')\n",
    "plt.ylabel('Klasa')\n",
    "\n",
    "plt.barh(frequency_per_class.index, frequency_per_class.values, color=colors)\n",
    "for index, value in enumerate(frequency_per_class):\n",
    "    plt.text(value, index, str(value))\n",
    "    \n",
    "plt.savefig('plots and images/01_frequency_bar.png', orientation='landscape')\n",
    "plt.show()"
   ]
  },
  {
   "cell_type": "code",
   "execution_count": null,
   "id": "e58649eb",
   "metadata": {},
   "outputs": [],
   "source": []
  },
  {
   "cell_type": "markdown",
   "id": "cd8ec371",
   "metadata": {},
   "source": [
    "S obzirom na to da se radi o višelabelarnoj klasifikaciji, jedna instanca može pripadati istovremeno dvema ili više klasa. Komentar može npr. biti označen kao toksičan i uvreda, ali ne i pretnja, amože i spadati pod svih 6 obeležja i tako imati labelu koja za svih 6 klasa ima vrednost 1.\n",
    "\n",
    "Zbog toga je dat i grafički prikaz broja komentara po tome da li su svrstani u jednu, dve, tri, četiri, pet, ili svih šest klasa."
   ]
  },
  {
   "cell_type": "code",
   "execution_count": null,
   "id": "e2604be7",
   "metadata": {},
   "outputs": [],
   "source": []
  },
  {
   "cell_type": "code",
   "execution_count": 122,
   "id": "37576c3e",
   "metadata": {},
   "outputs": [
    {
     "data": {
      "text/plain": [
       "1    6360\n",
       "3    4209\n",
       "2    3480\n",
       "4    1760\n",
       "5     385\n",
       "6      31\n",
       "dtype: int64"
      ]
     },
     "execution_count": 122,
     "metadata": {},
     "output_type": "execute_result"
    }
   ],
   "source": [
    "counts = data_train.iloc[:, 2:].sum(axis=1).value_counts()\n",
    "multilabels = counts[1:]\n",
    "multilabels"
   ]
  },
  {
   "cell_type": "code",
   "execution_count": null,
   "id": "0ec89ad5",
   "metadata": {},
   "outputs": [],
   "source": []
  },
  {
   "cell_type": "code",
   "execution_count": 123,
   "id": "27c74443",
   "metadata": {
    "scrolled": false
   },
   "outputs": [
    {
     "data": {
      "image/png": "[encoded data removed]",
      "text/plain": [
       "<Figure size 720x360 with 1 Axes>"
      ]
     },
     "metadata": {
      "needs_background": "light"
     },
     "output_type": "display_data"
    }
   ],
   "source": [
    "plt.figure(figsize=(10, 5))\n",
    "plt.title('Brojnost komentara koji pripadaju više klasa istovremeno')\n",
    "plt.xlabel('Broj klasa')\n",
    "plt.ylabel('Btoj instanci')\n",
    "\n",
    "plt.bar(multilabels.index, multilabels.values, color=colors)\n",
    "for index, value in enumerate(multilabels.sort_index()):\n",
    "    plt.text(index+1, value, str(value))\n",
    "\n",
    "plt.savefig('plots and images/02_multilabels.png', orientation='landscape')\n",
    "\n",
    "plt.show()"
   ]
  },
  {
   "cell_type": "markdown",
   "id": "67869bff",
   "metadata": {},
   "source": [
    "Dakle, najviše komentara pripada samo jednoj klasi, a samo 31 komentar ispunjava uslove za svaku od 6 klasa (istovremeno je toxic, severe_toxic, insult, obscene, threat i identity hate)"
   ]
  },
  {
   "cell_type": "code",
   "execution_count": null,
   "id": "5e2b8d26",
   "metadata": {},
   "outputs": [],
   "source": []
  },
  {
   "cell_type": "markdown",
   "id": "739b0c7a",
   "metadata": {},
   "source": [
    "U nastavku će biti prikazano koliko instanci nije klasifikovano u nijednu od ovih 6 klasa. Te instance zapravo predstavljaju \"čiste\", tj. netoksične komentare. Grafički prikaz biće dat u obliku pitice, kako bi se jasno video udeo toksičnih i netoksičnih komentara u celom skupu podataka."
   ]
  },
  {
   "cell_type": "code",
   "execution_count": 124,
   "id": "0af02839",
   "metadata": {},
   "outputs": [
    {
     "data": {
      "text/plain": [
       "143346"
      ]
     },
     "execution_count": 124,
     "metadata": {},
     "output_type": "execute_result"
    }
   ],
   "source": [
    "untoxic = counts[0]\n",
    "untoxic"
   ]
  },
  {
   "cell_type": "code",
   "execution_count": 125,
   "id": "c0657070",
   "metadata": {},
   "outputs": [
    {
     "name": "stdout",
     "output_type": "stream",
     "text": [
      "Udeo neoznacenih komentara:  89.83%\n"
     ]
    }
   ],
   "source": [
    "print('Udeo neoznacenih komentara:  {:.2%}'.format(untoxic/data_train.shape[0]))"
   ]
  },
  {
   "cell_type": "code",
   "execution_count": null,
   "id": "30720e59",
   "metadata": {},
   "outputs": [],
   "source": []
  },
  {
   "cell_type": "markdown",
   "id": "a2ed8b01",
   "metadata": {},
   "source": [
    "Dakle, samo oko 10% trening skupa su toksični komentari."
   ]
  },
  {
   "cell_type": "code",
   "execution_count": 126,
   "id": "7e5a59de",
   "metadata": {},
   "outputs": [],
   "source": [
    "toxic = data_train.shape[0] - untoxic"
   ]
  },
  {
   "cell_type": "code",
   "execution_count": 127,
   "id": "54f89da7",
   "metadata": {},
   "outputs": [
    {
     "data": {
      "image/png": "[encoded data removed]",
      "text/plain": [
       "<Figure size 936x576 with 1 Axes>"
      ]
     },
     "metadata": {},
     "output_type": "display_data"
    }
   ],
   "source": [
    "plt.figure(figsize=(13, 8))\n",
    "plt.title('Udeo toksičnih i netoksičnih instanci u skupu podataka')\n",
    "plt.pie([untoxic, toxic] , colors=['skyblue', 'red'], explode=[0, 0.2], autopct='%1.1f%%', shadow=True)\n",
    "plt.legend(['untoxic', 'toxic'], loc='best')\n",
    "\n",
    "plt.savefig('plots and images/03_pie_class_distribution.png')\n",
    "plt.show()"
   ]
  },
  {
   "cell_type": "markdown",
   "id": "f00d06dd",
   "metadata": {},
   "source": [
    "Odavde je jasno da je skup podataka izuzetno neizbalansiran."
   ]
  },
  {
   "cell_type": "code",
   "execution_count": null,
   "id": "a87aa6d5",
   "metadata": {},
   "outputs": [],
   "source": []
  },
  {
   "cell_type": "code",
   "execution_count": null,
   "id": "5b51ba66",
   "metadata": {},
   "outputs": [],
   "source": []
  },
  {
   "cell_type": "markdown",
   "id": "65ab1f2d",
   "metadata": {},
   "source": [
    "## Analiza teksta"
   ]
  },
  {
   "cell_type": "markdown",
   "id": "01e9689f",
   "metadata": {},
   "source": [
    "U ovom delu, biće prikazane reči koje su najfrekventnije u instancama određenih klasa. U vidu oblaka reči, vizualizovane su reči koje se ponavljaju u toksičnim komentarima. Što je reč krupnija na slici, to se ona češće pojavljuje u skupu. Na osnovu ovoga, možemo da znamo kakve reči možemo očekivati u svakoj od klasa."
   ]
  },
  {
   "cell_type": "code",
   "execution_count": null,
   "id": "a089e0d5",
   "metadata": {},
   "outputs": [],
   "source": []
  },
  {
   "cell_type": "markdown",
   "id": "a56a17b3",
   "metadata": {},
   "source": [
    "Funkcija koja formira wordcloud za konkretnu klasu:"
   ]
  },
  {
   "cell_type": "code",
   "execution_count": 128,
   "id": "be0d1831",
   "metadata": {},
   "outputs": [],
   "source": [
    "def get_wordcloud(data, label, show=False):\n",
    "    \n",
    "    d = data[data[label]==1]\n",
    "    words = ' '.join([text for text in d['comment_text'] ])\n",
    "\n",
    "    wordcloud = WordCloud(width=2500,\n",
    "                      height=1600,\n",
    "                      max_words=500,\n",
    "                      collocations=False,\n",
    "                      stopwords=STOPWORDS).generate(words)\n",
    "\n",
    "    if show:\n",
    "        plt.title(str(label) + ' wordcloud')\n",
    "        plt.imshow(wordcloud)\n",
    "        plt.axis(\"off\")\n",
    "        plt.savefig('plots and images/wordclouds/' + str(label) + '.png')\n",
    "        plt.show()\n",
    "        \n",
    "    return wordcloud"
   ]
  },
  {
   "cell_type": "code",
   "execution_count": 129,
   "id": "9cf3a8ef",
   "metadata": {},
   "outputs": [],
   "source": [
    "#wordcloud_toxic = get_wordcloud(data_train, 'toxic', True)\n",
    "#wordcloud_insult = get_wordcloud(data_train, 'insult', True)\n",
    "#wordcloud_severe_toxic = get_wordcloud(data_train, 'severe_toxic', True)\n",
    "#wordcloud_threat = get_wordcloud(data_train, 'threat', True)\n",
    "#wordcloud_identity_hate = get_wordcloud(data_train, 'identity_hate', True)\n",
    "#wordcloud_obscene = get_wordcloud(data_train, 'obscene', True)"
   ]
  },
  {
   "cell_type": "code",
   "execution_count": null,
   "id": "3ca33ac8",
   "metadata": {},
   "outputs": [],
   "source": []
  },
  {
   "cell_type": "markdown",
   "id": "cc807b1b",
   "metadata": {},
   "source": [
    "Slike oblaka reči za svaku od labela sačuvane su u direktorijumu plots and images/wordclouds. Ovde je prikazana jedna od njih, konkretno za labelu 'threat'."
   ]
  },
  {
   "cell_type": "code",
   "execution_count": 130,
   "id": "35ebb9df",
   "metadata": {},
   "outputs": [
    {
     "data": {
      "image/png": "[encoded data removed]",
      "text/plain": [
       "<IPython.core.display.Image object>"
      ]
     },
     "execution_count": 130,
     "metadata": {},
     "output_type": "execute_result"
    }
   ],
   "source": [
    "Image('plots and images/wordclouds/threat.png')"
   ]
  },
  {
   "cell_type": "code",
   "execution_count": null,
   "id": "ad2b1a34",
   "metadata": {},
   "outputs": [],
   "source": []
  },
  {
   "cell_type": "code",
   "execution_count": null,
   "id": "811496b9",
   "metadata": {},
   "outputs": [],
   "source": []
  },
  {
   "cell_type": "code",
   "execution_count": null,
   "id": "7c47ce4e",
   "metadata": {},
   "outputs": [],
   "source": []
  },
  {
   "cell_type": "markdown",
   "id": "001d51ce",
   "metadata": {},
   "source": [
    "Dalje, možemo dodati atribut koji predstavlja broj reči po instanci, kako bismo imali uvid u to koliko su komentari dugački."
   ]
  },
  {
   "cell_type": "code",
   "execution_count": 131,
   "id": "c5f157dc",
   "metadata": {},
   "outputs": [
    {
     "data": {
      "text/html": [
       "<div>\n",
       "<style scoped>\n",
       "    .dataframe tbody tr th:only-of-type {\n",
       "        vertical-align: middle;\n",
       "    }\n",
       "\n",
       "    .dataframe tbody tr th {\n",
       "        vertical-align: top;\n",
       "    }\n",
       "\n",
       "    .dataframe thead th {\n",
       "        text-align: right;\n",
       "    }\n",
       "</style>\n",
       "<table border=\"1\" class=\"dataframe\">\n",
       "  <thead>\n",
       "    <tr style=\"text-align: right;\">\n",
       "      <th></th>\n",
       "      <th>id</th>\n",
       "      <th>comment_text</th>\n",
       "      <th>toxic</th>\n",
       "      <th>severe_toxic</th>\n",
       "      <th>obscene</th>\n",
       "      <th>threat</th>\n",
       "      <th>insult</th>\n",
       "      <th>identity_hate</th>\n",
       "      <th>word_count</th>\n",
       "    </tr>\n",
       "  </thead>\n",
       "  <tbody>\n",
       "    <tr>\n",
       "      <th>0</th>\n",
       "      <td>0000997932d777bf</td>\n",
       "      <td>Explanation\\nWhy the edits made under my usern...</td>\n",
       "      <td>0</td>\n",
       "      <td>0</td>\n",
       "      <td>0</td>\n",
       "      <td>0</td>\n",
       "      <td>0</td>\n",
       "      <td>0</td>\n",
       "      <td>43</td>\n",
       "    </tr>\n",
       "    <tr>\n",
       "      <th>1</th>\n",
       "      <td>000103f0d9cfb60f</td>\n",
       "      <td>D'aww! He matches this background colour I'm s...</td>\n",
       "      <td>0</td>\n",
       "      <td>0</td>\n",
       "      <td>0</td>\n",
       "      <td>0</td>\n",
       "      <td>0</td>\n",
       "      <td>0</td>\n",
       "      <td>17</td>\n",
       "    </tr>\n",
       "    <tr>\n",
       "      <th>2</th>\n",
       "      <td>000113f07ec002fd</td>\n",
       "      <td>Hey man, I'm really not trying to edit war. It...</td>\n",
       "      <td>0</td>\n",
       "      <td>0</td>\n",
       "      <td>0</td>\n",
       "      <td>0</td>\n",
       "      <td>0</td>\n",
       "      <td>0</td>\n",
       "      <td>42</td>\n",
       "    </tr>\n",
       "    <tr>\n",
       "      <th>3</th>\n",
       "      <td>0001b41b1c6bb37e</td>\n",
       "      <td>\"\\nMore\\nI can't make any real suggestions on ...</td>\n",
       "      <td>0</td>\n",
       "      <td>0</td>\n",
       "      <td>0</td>\n",
       "      <td>0</td>\n",
       "      <td>0</td>\n",
       "      <td>0</td>\n",
       "      <td>113</td>\n",
       "    </tr>\n",
       "    <tr>\n",
       "      <th>4</th>\n",
       "      <td>0001d958c54c6e35</td>\n",
       "      <td>You, sir, are my hero. Any chance you remember...</td>\n",
       "      <td>0</td>\n",
       "      <td>0</td>\n",
       "      <td>0</td>\n",
       "      <td>0</td>\n",
       "      <td>0</td>\n",
       "      <td>0</td>\n",
       "      <td>13</td>\n",
       "    </tr>\n",
       "  </tbody>\n",
       "</table>\n",
       "</div>"
      ],
      "text/plain": [
       "                 id                                       comment_text  toxic  \\\n",
       "0  0000997932d777bf  Explanation\\nWhy the edits made under my usern...      0   \n",
       "1  000103f0d9cfb60f  D'aww! He matches this background colour I'm s...      0   \n",
       "2  000113f07ec002fd  Hey man, I'm really not trying to edit war. It...      0   \n",
       "3  0001b41b1c6bb37e  \"\\nMore\\nI can't make any real suggestions on ...      0   \n",
       "4  0001d958c54c6e35  You, sir, are my hero. Any chance you remember...      0   \n",
       "\n",
       "   severe_toxic  obscene  threat  insult  identity_hate  word_count  \n",
       "0             0        0       0       0              0          43  \n",
       "1             0        0       0       0              0          17  \n",
       "2             0        0       0       0              0          42  \n",
       "3             0        0       0       0              0         113  \n",
       "4             0        0       0       0              0          13  "
      ]
     },
     "execution_count": 131,
     "metadata": {},
     "output_type": "execute_result"
    }
   ],
   "source": [
    "data_train['word_count'] = data_train['comment_text'].apply(lambda x : len(x.split()))\n",
    "data_train.head()"
   ]
  },
  {
   "cell_type": "code",
   "execution_count": null,
   "id": "11a162bd",
   "metadata": {},
   "outputs": [],
   "source": []
  },
  {
   "cell_type": "markdown",
   "id": "de709e37",
   "metadata": {},
   "source": [
    "Prikaz statistika za broj reči:"
   ]
  },
  {
   "cell_type": "code",
   "execution_count": 132,
   "id": "93fce93f",
   "metadata": {},
   "outputs": [
    {
     "data": {
      "text/plain": [
       "count    159571.000000\n",
       "mean         67.273527\n",
       "std          99.230702\n",
       "min           1.000000\n",
       "25%          17.000000\n",
       "50%          36.000000\n",
       "75%          75.000000\n",
       "max        1411.000000\n",
       "Name: word_count, dtype: float64"
      ]
     },
     "execution_count": 132,
     "metadata": {},
     "output_type": "execute_result"
    }
   ],
   "source": [
    "data_train['word_count'].describe()"
   ]
  },
  {
   "cell_type": "code",
   "execution_count": 133,
   "id": "a910fb2f",
   "metadata": {},
   "outputs": [
    {
     "data": {
      "text/plain": [
       "17"
      ]
     },
     "execution_count": 133,
     "metadata": {},
     "output_type": "execute_result"
    }
   ],
   "source": [
    "# Broj komentara koji imaju samo jednu rec\n",
    "\n",
    "data_train[data_train['word_count'] == 1].shape[0]"
   ]
  },
  {
   "cell_type": "code",
   "execution_count": 134,
   "id": "20dad62b",
   "metadata": {},
   "outputs": [
    {
     "data": {
      "text/plain": [
       "19815                                (www.ebenefits.va.gov)\n",
       "52442                                                14:53,\n",
       "52475                     User_talk:Blackson#Religious_bias\n",
       "53787                         92.24.199.233|92.24.199.233]]\n",
       "55751                                   Complaints/Mistakes\n",
       "64904     http://en.wikipedia.org/wiki/Wikipedia_talk:No...\n",
       "76037     http://finance.yahoo.com/news/7-fascinating-nu...\n",
       "93586                                          {{unblock|yo\n",
       "105657    Talk:E%3DMC%C2%B2_(Mariah_Carey_album)#Concern...\n",
       "106891         http://en.wikipedia.org/wiki/Wikipedia:ELYES\n",
       "109985                                             {{unbloc\n",
       "110293    Wikipedia:Administrators%27_noticeboard/Incide...\n",
       "111438                                   |needs-infobox=yes\n",
       "117663                                    (talk)/(contribs)\n",
       "127744                                      User:Wipeouting\n",
       "130194                        hyper_individualist@yahoo.com\n",
       "141293    http://www.haaretz.com/news/diplomacy-defense/...\n",
       "Name: comment_text, dtype: object"
      ]
     },
     "execution_count": 134,
     "metadata": {},
     "output_type": "execute_result"
    }
   ],
   "source": [
    "# Primer komentara od jedne reci\n",
    "\n",
    "one_word_comments = data_train[data_train['word_count']==1]\n",
    "one_word_comments['comment_text']"
   ]
  },
  {
   "cell_type": "markdown",
   "id": "df96efc3",
   "metadata": {},
   "source": [
    "Odavde se vidi da njih ima jako malo, i da nemaju mnogo smisla (uglavnom su neki linkovi). Takvi komentari nisu od značaja za predviđanje, tako da možemo izbaciti ovih 17 redova:"
   ]
  },
  {
   "cell_type": "code",
   "execution_count": 135,
   "id": "c2d7cd5c",
   "metadata": {},
   "outputs": [
    {
     "data": {
      "text/plain": [
       "(159554, 9)"
      ]
     },
     "execution_count": 135,
     "metadata": {},
     "output_type": "execute_result"
    }
   ],
   "source": [
    "data_train = data_train.drop(one_word_comments.index)\n",
    "data_train.shape"
   ]
  },
  {
   "cell_type": "code",
   "execution_count": 136,
   "id": "39fd047f",
   "metadata": {},
   "outputs": [
    {
     "data": {
      "text/plain": [
       "140904    I AM AN LOSER ==== I AM AN LOSER == == I AM AN...\n",
       "Name: comment_text, dtype: object"
      ]
     },
     "execution_count": 136,
     "metadata": {},
     "output_type": "execute_result"
    }
   ],
   "source": [
    "# Komentar koji ima najvecu duzinu \n",
    "\n",
    "data_train[data_train['word_count']==1411]['comment_text']"
   ]
  },
  {
   "cell_type": "code",
   "execution_count": null,
   "id": "d6fcab7a",
   "metadata": {},
   "outputs": [],
   "source": []
  },
  {
   "cell_type": "code",
   "execution_count": null,
   "id": "b033984e",
   "metadata": {},
   "outputs": [],
   "source": []
  },
  {
   "cell_type": "markdown",
   "id": "efb79014",
   "metadata": {},
   "source": [
    "Histogram za broj reci"
   ]
  },
  {
   "cell_type": "code",
   "execution_count": 137,
   "id": "c1dfad04",
   "metadata": {},
   "outputs": [
    {
     "data": {
      "image/png": "[encoded data removed]",
      "text/plain": [
       "<Figure size 432x288 with 1 Axes>"
      ]
     },
     "metadata": {
      "needs_background": "light"
     },
     "output_type": "display_data"
    }
   ],
   "source": [
    "plt.title('Raspodela broja reci')\n",
    "data_train['word_count'].hist()\n",
    "plt.xlabel('Duzina reci')\n",
    "plt.ylabel('Broj instanci')\n",
    "\n",
    "plt.savefig('plots and images/04_hist_word_count.png')\n",
    "plt.show()"
   ]
  },
  {
   "cell_type": "markdown",
   "id": "5176de91",
   "metadata": {},
   "source": [
    "Većina komentara ima do 100 reči. Podelićemo prethodni histogram na dva: prvi predstavlja raspodelu instanci koje imaju do 300 reči, a drugi raspodelu onih dužih komentara (više od 300 reči), koji su u manjini "
   ]
  },
  {
   "cell_type": "code",
   "execution_count": 138,
   "id": "5a50aeeb",
   "metadata": {},
   "outputs": [
    {
     "data": {
      "image/png": "[encoded data removed]",
      "text/plain": [
       "<Figure size 1080x360 with 2 Axes>"
      ]
     },
     "metadata": {
      "needs_background": "light"
     },
     "output_type": "display_data"
    }
   ],
   "source": [
    "plt.figure(figsize=(15, 5))\n",
    "\n",
    "plt.subplot(1, 2, 1)\n",
    "plt.title('Raspodela komentara koji imaju do 300 reci')\n",
    "data_train[data_train['word_count'] <= 300]['word_count'].hist()\n",
    "plt.xlabel('Broj reci')\n",
    "plt.ylabel('Broj instanci')\n",
    "\n",
    "plt.subplot(1, 2, 2)\n",
    "plt.title('Raspodela komentara koji imaju preko 300 reci')\n",
    "data_train[data_train['word_count'] > 300]['word_count'].hist()\n",
    "plt.xlabel('Broj reci')\n",
    "plt.ylabel('Broj instanci')\n",
    "\n",
    "plt.savefig(\"plots and images/05_hist_wordcount_split.png\")\n",
    "plt.show()"
   ]
  },
  {
   "cell_type": "code",
   "execution_count": null,
   "id": "b7cc44e1",
   "metadata": {},
   "outputs": [],
   "source": []
  },
  {
   "cell_type": "code",
   "execution_count": null,
   "id": "74fe8f99",
   "metadata": {},
   "outputs": [],
   "source": []
  },
  {
   "cell_type": "markdown",
   "id": "8aac2067",
   "metadata": {},
   "source": [
    "Prosecan broj reci po instaci: "
   ]
  },
  {
   "cell_type": "code",
   "execution_count": 139,
   "id": "4b7b0ce7",
   "metadata": {},
   "outputs": [
    {
     "data": {
      "text/plain": [
       "67.28058839013751"
      ]
     },
     "execution_count": 139,
     "metadata": {},
     "output_type": "execute_result"
    }
   ],
   "source": [
    "data_train['word_count'].mean()"
   ]
  },
  {
   "cell_type": "markdown",
   "id": "2dfe7016",
   "metadata": {},
   "source": [
    "#### Prosečna dužina komentara je oko 67 reči."
   ]
  },
  {
   "cell_type": "code",
   "execution_count": null,
   "id": "ea9db666",
   "metadata": {},
   "outputs": [],
   "source": []
  },
  {
   "cell_type": "markdown",
   "id": "aace0116",
   "metadata": {},
   "source": [
    "## Čišćenje teksta"
   ]
  },
  {
   "cell_type": "markdown",
   "id": "940ebe00",
   "metadata": {},
   "source": [
    "Sledeća funkcija priprema tekstove tako što uklanja sve nepotrebne reči, znakove interpukcije i slično"
   ]
  },
  {
   "cell_type": "code",
   "execution_count": 141,
   "id": "b4d3b693",
   "metadata": {},
   "outputs": [],
   "source": [
    "def prepare_text(text):\n",
    "    clean_comment = re.sub('<.+?>', '', text)\n",
    "    \n",
    "    clean_comment = re.sub('\\s+', '', clean_comment)\n",
    "    # izbacuje znake interpunkcije\n",
    "    clean_comment = re.sub('[%s]' % re.escape(string.punctuation), '', clean_comment)\n",
    "    \n",
    "    # izbacuje cifre i reci koje sadrze cifre\n",
    "    clean_comment = re.sub('\\w*\\d\\w*','', clean_comment)\n",
    "    # izbacuje dodatne space-ove\n",
    "    clean_comment = re.sub(' +',' ', clean_comment)\n",
    "    \n",
    "    return clean_comment.lower()"
   ]
  },
  {
   "cell_type": "code",
   "execution_count": null,
   "id": "fd5101f7",
   "metadata": {},
   "outputs": [],
   "source": []
  }
 ],
 "metadata": {
  "kernelspec": {
   "display_name": "Python 3",
   "language": "python",
   "name": "python3"
  },
  "language_info": {
   "codemirror_mode": {
    "name": "ipython",
    "version": 3
   },
   "file_extension": ".py",
   "mimetype": "text/x-python",
   "name": "python",
   "nbconvert_exporter": "python",
   "pygments_lexer": "ipython3",
   "version": "3.8.8"
  }
 },
 "nbformat": 4,
 "nbformat_minor": 5
}
