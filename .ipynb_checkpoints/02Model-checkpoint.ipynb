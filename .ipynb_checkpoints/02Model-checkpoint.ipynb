{
 "cells": [
  {
   "cell_type": "markdown",
   "id": "9084b768",
   "metadata": {},
   "source": [
    "U ovoj svesci je odrađena selekcija i evaluacija modela. Koristiće se tokenizacija ne sekvence kao priprema za model sa pritreniram ugneždavanjem,"
   ]
  },
  {
   "cell_type": "code",
   "execution_count": 88,
   "id": "de565f5a",
   "metadata": {},
   "outputs": [],
   "source": [
    "import pandas as pd\n",
    "import numpy as np\n",
    "from matplotlib import pyplot as plt"
   ]
  },
  {
   "cell_type": "code",
   "execution_count": 92,
   "id": "f10add90",
   "metadata": {},
   "outputs": [],
   "source": [
    "import tensorflow as tf\n",
    "from tensorflow import keras\n",
    "from tensorflow.keras.models import Sequential\n",
    "from tensorflow.keras.layers import Embedding, Dense, GlobalAveragePooling1D, Flatten, Dropout, SeparableConv1D, MaxPooling1D\n",
    "from tensorflow.keras import preprocessing\n",
    "from tensorflow.keras.optimizers import Adam\n",
    "from tensorflow.keras.preprocessing.text import Tokenizer\n",
    "from tensorflow.keras import metrics\n",
    "from keras.callbacks import EarlyStopping\n",
    "\n",
    "import pickle\n",
    "from sklearn.utils import class_weight\n",
    "import time"
   ]
  },
  {
   "cell_type": "code",
   "execution_count": 3,
   "id": "7ae0de0b",
   "metadata": {},
   "outputs": [],
   "source": [
    "data = pd.read_csv('data/data_longer.csv')"
   ]
  },
  {
   "cell_type": "code",
   "execution_count": 4,
   "id": "bdc4de78",
   "metadata": {},
   "outputs": [],
   "source": [
    "data.drop(columns=['Unnamed: 0'], inplace=True)"
   ]
  },
  {
   "cell_type": "code",
   "execution_count": 5,
   "id": "d72f5721",
   "metadata": {},
   "outputs": [
    {
     "data": {
      "text/plain": [
       "(223453, 9)"
      ]
     },
     "execution_count": 5,
     "metadata": {},
     "output_type": "execute_result"
    }
   ],
   "source": [
    "data.shape"
   ]
  },
  {
   "cell_type": "markdown",
   "id": "bfcbf846",
   "metadata": {},
   "source": [
    "### Podela na trening, test i validacioni skup"
   ]
  },
  {
   "cell_type": "code",
   "execution_count": 6,
   "id": "3b405a5c",
   "metadata": {},
   "outputs": [
    {
     "data": {
      "text/plain": [
       "(127580, 63978, 31895)"
      ]
     },
     "execution_count": 6,
     "metadata": {},
     "output_type": "execute_result"
    }
   ],
   "source": [
    "# Ovo je prepisano iz prethodne sveske\n",
    "\n",
    "train_size = 159571 - 96\n",
    "test_size = 63978\n",
    "validation_size = int(0.2*train_size)\n",
    "train_size = train_size - validation_size\n",
    "\n",
    "train_size, test_size, validation_size"
   ]
  },
  {
   "cell_type": "code",
   "execution_count": null,
   "id": "e0a5cba7",
   "metadata": {},
   "outputs": [],
   "source": []
  },
  {
   "cell_type": "code",
   "execution_count": 7,
   "id": "4dec99ce",
   "metadata": {},
   "outputs": [],
   "source": [
    "validation_data = data[:validation_size]\n",
    "train_data = data[validation_size:train_size+validation_size]\n",
    "test_data = data[train_size+validation_size : ]"
   ]
  },
  {
   "cell_type": "code",
   "execution_count": 8,
   "id": "4da9364b",
   "metadata": {},
   "outputs": [
    {
     "data": {
      "text/plain": [
       "(127580, 63978, 31895)"
      ]
     },
     "execution_count": 8,
     "metadata": {},
     "output_type": "execute_result"
    }
   ],
   "source": [
    "train_data.shape[0], test_data.shape[0], validation_data.shape[0]"
   ]
  },
  {
   "cell_type": "code",
   "execution_count": null,
   "id": "4b8cfbe8",
   "metadata": {},
   "outputs": [],
   "source": []
  },
  {
   "cell_type": "markdown",
   "id": "5db26c91",
   "metadata": {},
   "source": [
    "### 1. Tokenizovati tekst u sekvence"
   ]
  },
  {
   "cell_type": "markdown",
   "id": "f918ba4f",
   "metadata": {},
   "source": [
    "Instance će biti podeljene na reči, izdvojiće se neki broj najfrekventnijih reči, a onda će biti pretvorene u vektore reči sekvenci"
   ]
  },
  {
   "cell_type": "code",
   "execution_count": 48,
   "id": "c692ddcc",
   "metadata": {},
   "outputs": [],
   "source": [
    "# uzima se recimo 20000 najfrekventinijh reci\n",
    "max_features = 20000\n",
    "\n",
    "# max duzina komentara (broj reci)\n",
    "max_len = 200"
   ]
  },
  {
   "cell_type": "markdown",
   "id": "ca904956",
   "metadata": {},
   "source": [
    "Izdvajaju se pojedinačne reči tj. tokeni zadatog teksta i konstruise se vokabular. "
   ]
  },
  {
   "cell_type": "code",
   "execution_count": 10,
   "id": "b9d49dc7",
   "metadata": {},
   "outputs": [],
   "source": [
    "tokenizer = Tokenizer(num_words=max_features)"
   ]
  },
  {
   "cell_type": "code",
   "execution_count": 11,
   "id": "d9f3e0f6",
   "metadata": {},
   "outputs": [],
   "source": [
    "tokenizer.fit_on_texts(train_data['comment_text'])"
   ]
  },
  {
   "cell_type": "code",
   "execution_count": 14,
   "id": "96bd33ae",
   "metadata": {},
   "outputs": [
    {
     "data": {
      "text/plain": [
       "187048"
      ]
     },
     "execution_count": 14,
     "metadata": {},
     "output_type": "execute_result"
    }
   ],
   "source": [
    "# vokabular:\n",
    "word_index = tokenizer.word_index\n",
    "\n",
    "# broj jedinstvenih tokena:\n",
    "len(word_index)"
   ]
  },
  {
   "cell_type": "code",
   "execution_count": 13,
   "id": "d0eb62f2",
   "metadata": {},
   "outputs": [],
   "source": [
    "# cuvanje tokenizera\n",
    "with open('data/tokenizer.pickle', 'wb') as f:\n",
    "    pickle.dump(tokenizer, f)"
   ]
  },
  {
   "cell_type": "code",
   "execution_count": null,
   "id": "fd322d12",
   "metadata": {},
   "outputs": [],
   "source": []
  },
  {
   "cell_type": "code",
   "execution_count": 15,
   "id": "0bd371b9",
   "metadata": {},
   "outputs": [],
   "source": [
    "train_sequences = tokenizer.texts_to_sequences(train_data['comment_text'])\n",
    "X_train = preprocessing.sequence.pad_sequences(train_sequences, maxlen=max_len)\n",
    "y_train = train_data['target']\n",
    "\n",
    "test_sequences = tokenizer.texts_to_sequences(test_data['comment_text'])\n",
    "X_test = preprocessing.sequence.pad_sequences(test_sequences, maxlen=max_len)\n",
    "y_test = test_data['target']\n",
    "\n",
    "validation_sequences = tokenizer.texts_to_sequences(validation_data['comment_text'])\n",
    "X_validation = preprocessing.sequence.pad_sequences(validation_sequences, maxlen=max_len)\n",
    "y_validation = validation_data['target']"
   ]
  },
  {
   "cell_type": "code",
   "execution_count": null,
   "id": "248e3eb6",
   "metadata": {},
   "outputs": [],
   "source": []
  },
  {
   "cell_type": "markdown",
   "id": "0f5cd3f2",
   "metadata": {},
   "source": [
    "Sada su podaci pripremljeni za model"
   ]
  },
  {
   "cell_type": "markdown",
   "id": "b139af51",
   "metadata": {},
   "source": [
    "### 2. Obučiti mrežu"
   ]
  },
  {
   "cell_type": "code",
   "execution_count": 50,
   "id": "c012d73f",
   "metadata": {
    "scrolled": true
   },
   "outputs": [],
   "source": [
    "def create_embedding_matrix(word_index, embedding_dim):\n",
    "    word_embeddings = {}\n",
    "    with open('data/glove.6B.100d.txt', 'r', encoding='utf-8') as f:\n",
    "        for line in f:\n",
    "            values = line.split()\n",
    "            word = values[0]\n",
    "            coefs = np.asarray(values[1:], dtype='float32')\n",
    "            word_embeddings[word] = coefs\n",
    "        \n",
    "        \n",
    "    embedding_matrix = np.zeros((max_features, embedding_dim))\n",
    "    for word, i in word_index.items():\n",
    "        if i >= max_features:\n",
    "            break\n",
    "        \n",
    "        embedding_vector = word_embeddings.get(word)\n",
    "    \n",
    "        if embedding_vector is not None:\n",
    "            embedding_matrix[i] = embedding_vector\n",
    "            \n",
    "    return embedding_matrix"
   ]
  },
  {
   "cell_type": "code",
   "execution_count": null,
   "id": "4f03c6bb",
   "metadata": {},
   "outputs": [],
   "source": []
  },
  {
   "cell_type": "code",
   "execution_count": 51,
   "id": "c27ba43b",
   "metadata": {},
   "outputs": [],
   "source": [
    "embedding_matrix = create_embedding_matrix(word_index, 100)"
   ]
  },
  {
   "cell_type": "code",
   "execution_count": null,
   "id": "e3cec716",
   "metadata": {},
   "outputs": [],
   "source": []
  },
  {
   "cell_type": "code",
   "execution_count": 64,
   "id": "4d4f2110",
   "metadata": {},
   "outputs": [],
   "source": [
    "def create_cnn_model(num_of_classes, num_of_features, embedding_dim,\n",
    "                    kernel_size, filters, pool_size, dropout_rate,\n",
    "                    maxlen, embedding_matrix=None, is_trainable=False):\n",
    "    \n",
    "    # za poslednji sloj, u zavisnosti da li je binarna ili viseklasna\n",
    "    if num_of_classes==2:\n",
    "        activation = 'sigmoid'\n",
    "        units = 1\n",
    "    else:\n",
    "        activation = 'softmax'\n",
    "        units = num_of_classes\n",
    "        \n",
    "    model = Sequential([\n",
    "        Embedding(input_dim = num_of_features, \n",
    "                 output_dim = embedding_dim,\n",
    "                 input_length = maxlen,\n",
    "                 weights = [embedding_matrix],\n",
    "                 trainable = is_trainable),\n",
    "        \n",
    "        Dropout(rate=dropout_rate),\n",
    "        SeparableConv1D(filters=filters,\n",
    "                           kernel_size=kernel_size,\n",
    "                           activation='relu',\n",
    "                           bias_initializer='random_uniform',\n",
    "                           depthwise_initializer='random_uniform',\n",
    "                           padding='same'),\n",
    "        SeparableConv1D(filters=filters,\n",
    "                              kernel_size=kernel_size,\n",
    "                              activation='relu',\n",
    "                              bias_initializer='random_uniform',\n",
    "                              depthwise_initializer='random_uniform',\n",
    "                              padding='same'),\n",
    "        MaxPooling1D(pool_size=pool_size),\n",
    "        \n",
    "        SeparableConv1D(filters=filters * 2,\n",
    "                          kernel_size=kernel_size,\n",
    "                          activation='relu',\n",
    "                          bias_initializer='random_uniform',\n",
    "                          depthwise_initializer='random_uniform',\n",
    "                          padding='same'),\n",
    "        \n",
    "        SeparableConv1D(filters=filters * 2,\n",
    "                          kernel_size=kernel_size,\n",
    "                          activation='relu',\n",
    "                          bias_initializer='random_uniform',\n",
    "                          depthwise_initializer='random_uniform',\n",
    "                          padding='same'),\n",
    "        \n",
    "        GlobalAveragePooling1D(),\n",
    "        Dropout(rate=dropout_rate),\n",
    "        Dense(units, activation=activation)\n",
    "            \n",
    "    ])\n",
    "    \n",
    "    return model"
   ]
  },
  {
   "cell_type": "code",
   "execution_count": 65,
   "id": "c4926a8c",
   "metadata": {},
   "outputs": [],
   "source": [
    "binary_model = create_cnn_model(2, max_features, 100, kernel_size=3, filters=3, pool_size=3, dropout_rate=0.2, maxlen=max_len,\n",
    "                                embedding_matrix=embedding_matrix, is_trainable=False)"
   ]
  },
  {
   "cell_type": "code",
   "execution_count": 66,
   "id": "02ed7c3f",
   "metadata": {},
   "outputs": [
    {
     "name": "stdout",
     "output_type": "stream",
     "text": [
      "Model: \"sequential_10\"\n",
      "_________________________________________________________________\n",
      "Layer (type)                 Output Shape              Param #   \n",
      "=================================================================\n",
      "embedding_12 (Embedding)     (None, 200, 100)          2000000   \n",
      "_________________________________________________________________\n",
      "dropout_5 (Dropout)          (None, 200, 100)          0         \n",
      "_________________________________________________________________\n",
      "separable_conv1d_10 (Separab (None, 200, 3)            603       \n",
      "_________________________________________________________________\n",
      "separable_conv1d_11 (Separab (None, 200, 3)            21        \n",
      "_________________________________________________________________\n",
      "max_pooling1d_2 (MaxPooling1 (None, 66, 3)             0         \n",
      "_________________________________________________________________\n",
      "separable_conv1d_12 (Separab (None, 66, 6)             33        \n",
      "_________________________________________________________________\n",
      "separable_conv1d_13 (Separab (None, 66, 6)             60        \n",
      "_________________________________________________________________\n",
      "global_average_pooling1d_1 ( (None, 6)                 0         \n",
      "_________________________________________________________________\n",
      "dropout_6 (Dropout)          (None, 6)                 0         \n",
      "_________________________________________________________________\n",
      "dense_1 (Dense)              (None, 1)                 7         \n",
      "=================================================================\n",
      "Total params: 2,000,724\n",
      "Trainable params: 724\n",
      "Non-trainable params: 2,000,000\n",
      "_________________________________________________________________\n"
     ]
    }
   ],
   "source": [
    "binary_model.summary()"
   ]
  },
  {
   "cell_type": "code",
   "execution_count": 107,
   "id": "2ecd4932",
   "metadata": {},
   "outputs": [],
   "source": [
    "METRICS = [\n",
    "      keras.metrics.TruePositives(name='tp'),\n",
    "      keras.metrics.FalsePositives(name='fp'),\n",
    "     # keras.metrics.TrueNegatives(name='tn'),\n",
    "     # keras.metrics.FalseNegatives(name='fn'), \n",
    "      keras.metrics.BinaryAccuracy(name='accuracy'),\n",
    "      keras.metrics.Precision(name='precision'),\n",
    "      keras.metrics.Recall(name='recall'),\n",
    "      keras.metrics.AUC(name='auc'),\n",
    "      keras.metrics.AUC(name='prc', curve='PR'), # precision-recall curve\n",
    "]"
   ]
  },
  {
   "cell_type": "code",
   "execution_count": 117,
   "id": "430614a6",
   "metadata": {},
   "outputs": [],
   "source": [
    "early_stop = EarlyStopping(monitor='val_recall', patience=5)"
   ]
  },
  {
   "cell_type": "code",
   "execution_count": 118,
   "id": "6aac1769",
   "metadata": {},
   "outputs": [],
   "source": [
    "binary_model.compile(loss='binary_crossentropy', optimizer=Adam(0.00001), metrics=METRICS)"
   ]
  },
  {
   "cell_type": "code",
   "execution_count": 119,
   "id": "505f1c72",
   "metadata": {},
   "outputs": [],
   "source": [
    "weights = class_weight.compute_class_weight('balanced', np.unique(y_train), y_train)\n",
    "weights = dict(enumerate(weights))"
   ]
  },
  {
   "cell_type": "code",
   "execution_count": 120,
   "id": "8d22ea6c",
   "metadata": {},
   "outputs": [
    {
     "name": "stdout",
     "output_type": "stream",
     "text": [
      "Epoch 1/50\n",
      "1994/1994 [==============================] - 58s 29ms/step - loss: 0.3612 - tp: 13546.0000 - fp: 17820.0000 - accuracy: 0.8715 - precision: 0.4319 - recall: 0.8351 - auc: 0.9267 - prc: 0.7259 - val_loss: 0.3033 - val_tp: 2868.0000 - val_fp: 3007.0000 - val_accuracy: 0.8920 - val_precision: 0.4882 - val_recall: 0.8678 - val_auc: 0.9516 - val_prc: 0.8024\n",
      "Epoch 2/50\n",
      "1994/1994 [==============================] - 60s 30ms/step - loss: 0.3616 - tp: 10709.0000 - fp: 15238.0000 - accuracy: 0.8633 - precision: 0.4127 - recall: 0.8291 - auc: 0.9197 - prc: 0.7111 - val_loss: 0.3028 - val_tp: 2868.0000 - val_fp: 2996.0000 - val_accuracy: 0.8924 - val_precision: 0.4891 - val_recall: 0.8678 - val_auc: 0.9516 - val_prc: 0.8024\n",
      "Epoch 3/50\n",
      "1994/1994 [==============================] - 64s 32ms/step - loss: 0.3606 - tp: 10691.0000 - fp: 14966.0000 - accuracy: 0.8653 - precision: 0.4167 - recall: 0.8277 - auc: 0.9202 - prc: 0.7080 - val_loss: 0.3021 - val_tp: 2868.0000 - val_fp: 2981.0000 - val_accuracy: 0.8928 - val_precision: 0.4903 - val_recall: 0.8678 - val_auc: 0.9515 - val_prc: 0.8023\n",
      "Epoch 4/50\n",
      "1994/1994 [==============================] - 62s 31ms/step - loss: 0.3622 - tp: 10712.0000 - fp: 14971.0000 - accuracy: 0.8654 - precision: 0.4171 - recall: 0.8294 - auc: 0.9195 - prc: 0.7051 - val_loss: 0.3043 - val_tp: 2869.0000 - val_fp: 3012.0000 - val_accuracy: 0.8919 - val_precision: 0.4878 - val_recall: 0.8681 - val_auc: 0.9516 - val_prc: 0.8023\n",
      "Epoch 5/50\n",
      "1994/1994 [==============================] - 62s 31ms/step - loss: 0.3582 - tp: 10767.0000 - fp: 14986.0000 - accuracy: 0.8657 - precision: 0.4181 - recall: 0.8336 - auc: 0.9215 - prc: 0.7092 - val_loss: 0.2991 - val_tp: 2859.0000 - val_fp: 2933.0000 - val_accuracy: 0.8941 - val_precision: 0.4936 - val_recall: 0.8651 - val_auc: 0.9514 - val_prc: 0.8026\n",
      "Epoch 6/50\n",
      "1994/1994 [==============================] - 62s 31ms/step - loss: 0.3621 - tp: 10701.0000 - fp: 14869.0000 - accuracy: 0.8661 - precision: 0.4185 - recall: 0.8285 - auc: 0.9193 - prc: 0.7063 - val_loss: 0.3025 - val_tp: 2868.0000 - val_fp: 2987.0000 - val_accuracy: 0.8926 - val_precision: 0.4898 - val_recall: 0.8678 - val_auc: 0.9516 - val_prc: 0.8025\n",
      "Epoch 7/50\n",
      "1994/1994 [==============================] - 62s 31ms/step - loss: 0.3592 - tp: 10744.0000 - fp: 15006.0000 - accuracy: 0.8654 - precision: 0.4172 - recall: 0.8318 - auc: 0.9211 - prc: 0.7084 - val_loss: 0.3001 - val_tp: 2864.0000 - val_fp: 2952.0000 - val_accuracy: 0.8936 - val_precision: 0.4924 - val_recall: 0.8666 - val_auc: 0.9514 - val_prc: 0.8027\n",
      "Epoch 8/50\n",
      "1994/1994 [==============================] - 61s 31ms/step - loss: 0.3608 - tp: 10707.0000 - fp: 14868.0000 - accuracy: 0.8661 - precision: 0.4187 - recall: 0.8290 - auc: 0.9204 - prc: 0.7071 - val_loss: 0.3026 - val_tp: 2868.0000 - val_fp: 2984.0000 - val_accuracy: 0.8927 - val_precision: 0.4901 - val_recall: 0.8678 - val_auc: 0.9515 - val_prc: 0.8024\n",
      "Epoch 9/50\n",
      "1994/1994 [==============================] - 62s 31ms/step - loss: 0.3616 - tp: 10682.0000 - fp: 14941.0000 - accuracy: 0.8654 - precision: 0.4169 - recall: 0.8270 - auc: 0.9197 - prc: 0.7066 - val_loss: 0.3045 - val_tp: 2868.0000 - val_fp: 3018.0000 - val_accuracy: 0.8917 - val_precision: 0.4873 - val_recall: 0.8678 - val_auc: 0.9516 - val_prc: 0.8024\n",
      "Epoch 10/50\n",
      "1994/1994 [==============================] - 62s 31ms/step - loss: 0.3567 - tp: 10734.0000 - fp: 14821.0000 - accuracy: 0.8667 - precision: 0.4200 - recall: 0.8311 - auc: 0.9221 - prc: 0.7112 - val_loss: 0.3013 - val_tp: 2865.0000 - val_fp: 2973.0000 - val_accuracy: 0.8930 - val_precision: 0.4908 - val_recall: 0.8669 - val_auc: 0.9515 - val_prc: 0.8025\n",
      "Trajanje obucavanja:  619.2178218364716\n"
     ]
    }
   ],
   "source": [
    "start = time.time()    \n",
    "\n",
    "binary_history = binary_model.fit(X_train, y_train, batch_size=64, epochs=50, \n",
    "                                  class_weight=weights, validation_data=(X_validation, y_validation), \n",
    "                                  callbacks=[early_stop])\n",
    "\n",
    "print('Trajanje obucavanja: ', time.time() - start)"
   ]
  },
  {
   "cell_type": "code",
   "execution_count": 132,
   "id": "c73f318f",
   "metadata": {},
   "outputs": [],
   "source": [
    "def plot_graphs(history):\n",
    "    \n",
    "    plt.figure(figsize=(10, 5))\n",
    "    \n",
    "    plt.subplot(1, 2, 1)\n",
    "    plt.title('AUC')\n",
    "    accuracy = history.history['auc']\n",
    "    val_accuracy = history.history['val_auc']\n",
    "    plt.plot(range(0, history.epoch[-1]+1), accuracy, color='red', label='training')\n",
    "    plt.plot(range(0, history.epoch[-1]+1), val_accuracy, color='orange', label='validation')\n",
    "    plt.xlabel('epochs')\n",
    "    plt.legend(loc='best')\n",
    "    \n",
    "    plt.subplot(1, 2, 2)\n",
    "    plt.title('Loss')\n",
    "    loss = history.history['loss']\n",
    "    val_loss = history.history['val_loss']\n",
    "    plt.plot(range(0, history.epoch[-1]+1), loss, color='red', label='training')\n",
    "    plt.plot(range(0, history.epoch[-1]+1), val_loss, color='orange', label='validation')\n",
    "    plt.xlabel('epochs')\n",
    "    plt.legend(loc='best')\n",
    "    \n",
    "    plt.show()"
   ]
  },
  {
   "cell_type": "code",
   "execution_count": 133,
   "id": "45e3c856",
   "metadata": {},
   "outputs": [
    {
     "data": {
      "image/png": "[encoded data removed]",
      "text/plain": [
       "<Figure size 720x360 with 2 Axes>"
      ]
     },
     "metadata": {
      "needs_background": "light"
     },
     "output_type": "display_data"
    }
   ],
   "source": [
    "plot_graphs(binary_history)"
   ]
  },
  {
   "cell_type": "code",
   "execution_count": null,
   "id": "e0d5aa27",
   "metadata": {},
   "outputs": [],
   "source": []
  },
  {
   "cell_type": "code",
   "execution_count": null,
   "id": "80ecb188",
   "metadata": {},
   "outputs": [],
   "source": []
  }
 ],
 "metadata": {
  "kernelspec": {
   "display_name": "Python 3",
   "language": "python",
   "name": "python3"
  },
  "language_info": {
   "codemirror_mode": {
    "name": "ipython",
    "version": 3
   },
   "file_extension": ".py",
   "mimetype": "text/x-python",
   "name": "python",
   "nbconvert_exporter": "python",
   "pygments_lexer": "ipython3",
   "version": "3.8.8"
  }
 },
 "nbformat": 4,
 "nbformat_minor": 5
}
