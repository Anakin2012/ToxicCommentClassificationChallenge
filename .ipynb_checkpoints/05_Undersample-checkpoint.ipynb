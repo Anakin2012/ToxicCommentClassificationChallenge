{
 "cells": [
  {
   "cell_type": "markdown",
   "id": "f3dfaa31",
   "metadata": {},
   "source": [
    "U ovoj svesci, biće prikazan model koji klasifikuje samo 5 od 6 datih klasa. Klasa toxic se može izbaciti, s obzirom na to da se svi komentari svakako mogu smatrati toksičnim. Ideja je proveriti da li će izbacivanje instanci koje pripadaju samo klasi toxic uticati na poboljšanje predviđanja. Klasa toxic zauzima većinu skupa, dakle vršimo undersampling."
   ]
  },
  {
   "cell_type": "code",
   "execution_count": 1,
   "id": "eb4fa92d",
   "metadata": {},
   "outputs": [],
   "source": [
    "import pandas as pd\n",
    "import numpy as np\n",
    "from matplotlib import pyplot as plt\n",
    "\n",
    "import pickle\n",
    "import sklearn\n",
    "import time\n",
    "from sklearn import metrics\n",
    "from sklearn import model_selection\n",
    "from sklearn.metrics import multilabel_confusion_matrix\n",
    "from skmultilearn.model_selection import iterative_train_test_split\n",
    "from keras.utils.vis_utils import plot_model\n",
    "import warnings\n",
    "\n",
    "warnings.simplefilter(action='ignore', category=FutureWarning)"
   ]
  },
  {
   "cell_type": "code",
   "execution_count": 2,
   "id": "d8c18f75",
   "metadata": {},
   "outputs": [],
   "source": [
    "# da moze da koristi funkcije definisane u svesci SharedFunctions\n",
    "\n",
    "%run SharedFunctions.ipynb"
   ]
  },
  {
   "cell_type": "code",
   "execution_count": null,
   "id": "d4a6f169",
   "metadata": {},
   "outputs": [],
   "source": []
  },
  {
   "cell_type": "markdown",
   "id": "41cb269b",
   "metadata": {},
   "source": [
    "Učitava se prethodno pripremljen skup podataka: "
   ]
  },
  {
   "cell_type": "code",
   "execution_count": 3,
   "id": "bb216802",
   "metadata": {},
   "outputs": [],
   "source": [
    "data = pd.read_csv('data/data_longer.csv')\n",
    "data.drop(columns=['Unnamed: 0'], inplace=True)"
   ]
  },
  {
   "cell_type": "code",
   "execution_count": 4,
   "id": "2112e5a5",
   "metadata": {},
   "outputs": [],
   "source": [
    "labels = ['severe_toxic', 'obscene', 'threat', 'insult', 'identity_hate']\n",
    "data = data[data['target'] == 1]"
   ]
  },
  {
   "cell_type": "code",
   "execution_count": null,
   "id": "e605464d",
   "metadata": {},
   "outputs": [],
   "source": []
  },
  {
   "cell_type": "code",
   "execution_count": 5,
   "id": "73afb2e5",
   "metadata": {},
   "outputs": [
    {
     "data": {
      "text/plain": [
       "(22468, 9)"
      ]
     },
     "execution_count": 5,
     "metadata": {},
     "output_type": "execute_result"
    }
   ],
   "source": [
    "data.shape"
   ]
  },
  {
   "cell_type": "markdown",
   "id": "9a26a10f",
   "metadata": {},
   "source": [
    "Brišu se svi komentari koji su pripadali samo klasi toxic, a nijednoj od ostalih 5"
   ]
  },
  {
   "cell_type": "code",
   "execution_count": 6,
   "id": "e54c0ec3",
   "metadata": {},
   "outputs": [
    {
     "data": {
      "text/plain": [
       "(15092, 9)"
      ]
     },
     "execution_count": 6,
     "metadata": {},
     "output_type": "execute_result"
    }
   ],
   "source": [
    "mask = (data['severe_toxic']==0) & (data['obscene']==0) & (data['threat']==0) & (data['insult']==0) & (data['identity_hate']==0)\n",
    "data = data.drop(data[mask].index)\n",
    "\n",
    "data.shape"
   ]
  },
  {
   "cell_type": "markdown",
   "id": "ec328fa2",
   "metadata": {},
   "source": [
    "**Dakle, broj instanci za višelabelarnu klasifikaciju je 15092.**"
   ]
  },
  {
   "cell_type": "code",
   "execution_count": 7,
   "id": "2af9944a",
   "metadata": {},
   "outputs": [
    {
     "data": {
      "text/plain": [
       "{'severe_toxic': 1962,\n",
       " 'obscene': 12140,\n",
       " 'threat': 689,\n",
       " 'insult': 11304,\n",
       " 'identity_hate': 2117}"
      ]
     },
     "execution_count": 7,
     "metadata": {},
     "output_type": "execute_result"
    }
   ],
   "source": [
    "# Broj komentara po klasama: \n",
    "\n",
    "get_label_counts(data, labels)"
   ]
  },
  {
   "cell_type": "markdown",
   "id": "eeb7b77b",
   "metadata": {},
   "source": [
    "Klase severe_toxic, identity_hate i threat (ova klasa posebno mali broj instanci) su i dalje u manjini."
   ]
  },
  {
   "cell_type": "markdown",
   "id": "68d0d514",
   "metadata": {},
   "source": [
    "### 1. Podela na trening, test, i validacioni skup"
   ]
  },
  {
   "cell_type": "markdown",
   "id": "e7e857d9",
   "metadata": {},
   "source": [
    "Koristi se iterative_train_test_split iz paketa skmultilearn.model_selection za stratifikovanu podelu:"
   ]
  },
  {
   "cell_type": "code",
   "execution_count": 8,
   "id": "a47d919e",
   "metadata": {},
   "outputs": [],
   "source": [
    "X = data['comment_text']\n",
    "y = data[labels]\n",
    "\n",
    "X_train, y_train, X_test, y_test = iterative_train_test_split(\n",
    "                                                        np.asmatrix(X).T, np.asmatrix(y), test_size = 0.33)\n",
    "\n",
    "#X_train, y_train, X_validation, y_validation = iterative_train_test_split(\n",
    "#                                            X_train_validation, y_train_validation, test_size = 0.2)"
   ]
  },
  {
   "cell_type": "code",
   "execution_count": 9,
   "id": "a249fab3",
   "metadata": {},
   "outputs": [
    {
     "data": {
      "text/plain": [
       "((4947, 1), (10145, 1))"
      ]
     },
     "execution_count": 9,
     "metadata": {},
     "output_type": "execute_result"
    }
   ],
   "source": [
    "X_test.shape, X_train.shape"
   ]
  },
  {
   "cell_type": "code",
   "execution_count": null,
   "id": "cc3580cf",
   "metadata": {},
   "outputs": [],
   "source": []
  },
  {
   "cell_type": "code",
   "execution_count": 10,
   "id": "09c85643",
   "metadata": {},
   "outputs": [],
   "source": [
    "X_train = pd.DataFrame(X_train, columns=['comment_text'])['comment_text']\n",
    "X_test = pd.DataFrame(X_test, columns=['comment_text'])['comment_text']\n",
    "#X_train_validation = pd.DataFrame(X_train_validation, columns=['comment_text'])['comment_text']\n",
    "#X_validation = pd.DataFrame(X_validation, columns=['comment_text'])['comment_text']\n",
    "\n",
    "y_train = pd.DataFrame(y_train, columns=labels)[labels]\n",
    "y_test = pd.DataFrame(y_test, columns=labels)[labels]\n",
    "#y_train_validation = pd.DataFrame(y_train_validation, columns=labels)[labels]\n",
    "#y_validation = pd.DataFrame(y_validation, columns=labels)[labels]"
   ]
  },
  {
   "cell_type": "code",
   "execution_count": null,
   "id": "de2c13db",
   "metadata": {},
   "outputs": [],
   "source": []
  },
  {
   "cell_type": "markdown",
   "id": "c9f9dc21",
   "metadata": {},
   "source": [
    "### 2. Priprema teksta\n",
    "\n",
    "Koraci su isti kao u prethodnoj svesci (u slučaju binarne klasifikacije)."
   ]
  },
  {
   "cell_type": "code",
   "execution_count": 11,
   "id": "e0d090e1",
   "metadata": {},
   "outputs": [],
   "source": [
    "# uzima se recimo 20000 najfrekventinijh reci\n",
    "max_features = 20000\n",
    "\n",
    "# max duzina\n",
    "max_len = 100"
   ]
  },
  {
   "cell_type": "code",
   "execution_count": 12,
   "id": "136b88c6",
   "metadata": {},
   "outputs": [],
   "source": [
    "word_index, tokenizer = get_vocabulary(max_features, X_train, 'tokenizer_multi_undersample.pickle')"
   ]
  },
  {
   "cell_type": "code",
   "execution_count": 13,
   "id": "f12da6a2",
   "metadata": {},
   "outputs": [
    {
     "name": "stdout",
     "output_type": "stream",
     "text": [
      "Broj jedinstvenih reci: 25568\n"
     ]
    }
   ],
   "source": [
    "print('Broj jedinstvenih reci:', len(word_index))"
   ]
  },
  {
   "cell_type": "code",
   "execution_count": 14,
   "id": "264f9784",
   "metadata": {},
   "outputs": [],
   "source": [
    "X_train_transformed = to_sequence(X_train, max_len, tokenizer)\n",
    "X_test_transformed = to_sequence(X_test, max_len, tokenizer)\n",
    "#X_validation_transformed = to_sequence(X_validation, max_len, tokenizer)\n",
    "#X_train_validation_transformed = to_sequence(X_train_validation, max_len, tokenizer)"
   ]
  },
  {
   "cell_type": "code",
   "execution_count": 15,
   "id": "1124c664",
   "metadata": {},
   "outputs": [
    {
     "data": {
      "text/plain": [
       "((10145, 100), (4947, 100))"
      ]
     },
     "execution_count": 15,
     "metadata": {},
     "output_type": "execute_result"
    }
   ],
   "source": [
    "X_train_transformed.shape, X_test_transformed.shape"
   ]
  },
  {
   "cell_type": "code",
   "execution_count": 16,
   "id": "1ee3435a",
   "metadata": {},
   "outputs": [],
   "source": [
    "# kreiranje matrice ugnjezdjavanja\n",
    "\n",
    "embedding_dim = 100\n",
    "embedding_matrix = create_embedding_matrix(word_index, embedding_dim)"
   ]
  },
  {
   "cell_type": "markdown",
   "id": "0b9b9192",
   "metadata": {},
   "source": [
    "### 3. Formiranje modela"
   ]
  },
  {
   "cell_type": "code",
   "execution_count": 17,
   "id": "9a9dbf39",
   "metadata": {},
   "outputs": [],
   "source": [
    "# parametri izabrani isprobavanjem\n",
    "\n",
    "kernel_size = 3\n",
    "pool_size = 4\n",
    "filters = 64\n",
    "dropout_rate = 0.2\n",
    "embedding_dim = 100\n",
    "lr = 0.01\n",
    "layers = 0"
   ]
  },
  {
   "cell_type": "code",
   "execution_count": 18,
   "id": "8828375f",
   "metadata": {},
   "outputs": [
    {
     "name": "stdout",
     "output_type": "stream",
     "text": [
      "Model: \"sequential\"\n",
      "_________________________________________________________________\n",
      "Layer (type)                 Output Shape              Param #   \n",
      "=================================================================\n",
      "embedding (Embedding)        (None, 100, 100)          2000000   \n",
      "_________________________________________________________________\n",
      "conv1d (Conv1D)              (None, 100, 64)           19264     \n",
      "_________________________________________________________________\n",
      "max_pooling1d (MaxPooling1D) (None, 25, 64)            0         \n",
      "_________________________________________________________________\n",
      "conv1d_1 (Conv1D)            (None, 25, 128)           24704     \n",
      "_________________________________________________________________\n",
      "max_pooling1d_1 (MaxPooling1 (None, 6, 128)            0         \n",
      "_________________________________________________________________\n",
      "dropout (Dropout)            (None, 6, 128)            0         \n",
      "_________________________________________________________________\n",
      "global_average_pooling1d (Gl (None, 128)               0         \n",
      "_________________________________________________________________\n",
      "flatten (Flatten)            (None, 128)               0         \n",
      "_________________________________________________________________\n",
      "dense (Dense)                (None, 5)                 645       \n",
      "=================================================================\n",
      "Total params: 2,044,613\n",
      "Trainable params: 44,613\n",
      "Non-trainable params: 2,000,000\n",
      "_________________________________________________________________\n"
     ]
    }
   ],
   "source": [
    "multi_model = create_model(num_of_classes = 5, num_of_features = max_features, embedding_dim = embedding_dim, \n",
    "                           kernel_size = kernel_size, pool_size = pool_size, filters = filters, \n",
    "                           dropout_rate = dropout_rate, maxlen = max_len, lr = lr, \n",
    "                           embedding_matrix = embedding_matrix, layers=layers)"
   ]
  },
  {
   "cell_type": "markdown",
   "id": "3cadc5e6",
   "metadata": {},
   "source": [
    "### 4. Obučavanje modela"
   ]
  },
  {
   "cell_type": "code",
   "execution_count": 19,
   "id": "5ab09a2a",
   "metadata": {},
   "outputs": [
    {
     "data": {
      "text/plain": [
       "{0: 1.5384301732925587,\n",
       " 1: 0.2486326194398682,\n",
       " 2: 4.380841799709724,\n",
       " 3: 0.2670205237084218,\n",
       " 4: 1.42579121398205}"
      ]
     },
     "execution_count": 19,
     "metadata": {},
     "output_type": "execute_result"
    }
   ],
   "source": [
    "# i ovde se koriste tezine pri klasifikaciji, zbog nebalansiranih klasa\n",
    "\n",
    "weights = get_weights(data[labels].to_numpy(), 5)\n",
    "weights"
   ]
  },
  {
   "cell_type": "code",
   "execution_count": 20,
   "id": "56e4b179",
   "metadata": {},
   "outputs": [],
   "source": [
    "epochs = 20\n",
    "batch_size = 128"
   ]
  },
  {
   "cell_type": "code",
   "execution_count": 21,
   "id": "af602db6",
   "metadata": {},
   "outputs": [
    {
     "name": "stdout",
     "output_type": "stream",
     "text": [
      "Trajanje obucavanja modela multilabel klasifikacije:  103.11512994766235\n"
     ]
    }
   ],
   "source": [
    "start = time.time()    \n",
    "\n",
    "multi_history = multi_model.fit(X_train_transformed, y_train, batch_size=batch_size, epochs=epochs, \n",
    "                                validation_split=0.2,\n",
    "                                class_weight=weights, verbose=False)\n",
    "                                 \n",
    "print('Trajanje obucavanja modela multilabel klasifikacije: ', time.time() - start)"
   ]
  },
  {
   "cell_type": "code",
   "execution_count": null,
   "id": "fee2cb63",
   "metadata": {},
   "outputs": [],
   "source": []
  },
  {
   "cell_type": "code",
   "execution_count": 22,
   "id": "0fe8ae39",
   "metadata": {},
   "outputs": [
    {
     "data": {
      "image/png": "[encoded data removed]",
      "text/plain": [
       "<Figure size 1080x360 with 3 Axes>"
      ]
     },
     "metadata": {
      "needs_background": "light"
     },
     "output_type": "display_data"
    }
   ],
   "source": [
    "plot_graphs(multi_history, ['accuracy', 'recall', 'auc'])"
   ]
  },
  {
   "cell_type": "code",
   "execution_count": null,
   "id": "9a339b9b",
   "metadata": {},
   "outputs": [],
   "source": []
  },
  {
   "cell_type": "markdown",
   "id": "3c7db9a5",
   "metadata": {},
   "source": [
    "### 5. Evaluacija modela"
   ]
  },
  {
   "cell_type": "code",
   "execution_count": 23,
   "id": "c9dc90b4",
   "metadata": {},
   "outputs": [
    {
     "name": "stdout",
     "output_type": "stream",
     "text": [
      "318/318 [==============================] - 2s 5ms/step - loss: 0.2003 - accuracy: 0.6803 - precision: 0.9032 - recall: 0.9030 - auc: 0.9505 - f1_m: 0.9022\n",
      "Train Loss:  0.20025797188282013\n",
      "Train acc:  0.6803351640701294\n",
      "Train Precision:  0.903222382068634\n",
      "Train Recall:  0.9030312895774841\n",
      "Train AUC: 0.9504536390304565\n",
      "Train F1:  0.9022170901298523\n"
     ]
    }
   ],
   "source": [
    "scores = multi_model.evaluate(X_train_transformed, y_train)\n",
    "print('Train Loss: ', scores[0])\n",
    "print('Train acc: ', scores[1])\n",
    "print('Train Precision: ', scores[2])\n",
    "print('Train Recall: ', scores[3])\n",
    "print('Train AUC:', scores[4])\n",
    "print('Train F1: ', scores[5])"
   ]
  },
  {
   "cell_type": "code",
   "execution_count": 24,
   "id": "b0c731ca",
   "metadata": {},
   "outputs": [
    {
     "name": "stdout",
     "output_type": "stream",
     "text": [
      "155/155 [==============================] - 1s 5ms/step - loss: 0.4957 - accuracy: 0.6264 - precision: 0.8072 - recall: 0.7798 - auc: 0.7995 - f1_m: 0.7920\n",
      "Test Loss:  0.4957174062728882\n",
      "Test acc:  0.6264402866363525\n",
      "Test Precision:  0.8071833848953247\n",
      "Test Recall:  0.7797830104827881\n",
      "Test AUC: 0.7994929552078247\n",
      "Test F1:  0.7920166254043579\n"
     ]
    }
   ],
   "source": [
    "scores = multi_model.evaluate(X_test_transformed, y_test)\n",
    "print('Test Loss: ', scores[0])\n",
    "print('Test acc: ', scores[1])\n",
    "print('Test Precision: ', scores[2])\n",
    "print('Test Recall: ', scores[3])\n",
    "print('Test AUC:', scores[4])\n",
    "print('Test F1: ', scores[5])"
   ]
  },
  {
   "cell_type": "markdown",
   "id": "fa7f1cb0",
   "metadata": {},
   "source": [
    "Predviđanje:"
   ]
  },
  {
   "cell_type": "code",
   "execution_count": 25,
   "id": "cf20574e",
   "metadata": {},
   "outputs": [],
   "source": [
    "y_predicted = multi_model.predict(X_test_transformed)"
   ]
  },
  {
   "cell_type": "code",
   "execution_count": 26,
   "id": "197d581b",
   "metadata": {},
   "outputs": [],
   "source": [
    "# Prag se postavlja na 0.4 za zastupljenije klase, i 0.2 za manje zastupljene\n",
    "# jer nam je cilj da maksimuzujemo odziv\n",
    "# Bolje da imamo vise lazno pozitivnih nego lazno negativnih\n",
    "\n",
    "def translate(array):\n",
    "    \n",
    "    res1 = [1 if x>0.2 else 0 for x in array[::2]]\n",
    "    res2 = [1 if x>0.5 else 0 for x in array[1::2]]\n",
    "\n",
    "    res = [res1[0], res2[0], res1[1], res2[1], res1[2]]\n",
    "        \n",
    "    return res\n",
    "\n",
    "\n",
    "result = map(translate, y_predicted)"
   ]
  },
  {
   "cell_type": "code",
   "execution_count": 27,
   "id": "98ec88e1",
   "metadata": {},
   "outputs": [],
   "source": [
    "y_labels = list(result)\n",
    "cf = multilabel_confusion_matrix(y_test, y_labels)"
   ]
  },
  {
   "cell_type": "code",
   "execution_count": 28,
   "id": "1a0ff368",
   "metadata": {},
   "outputs": [
    {
     "data": {
      "image/png": "[encoded data removed]",
      "text/plain": [
       "<Figure size 1440x720 with 10 Axes>"
      ]
     },
     "metadata": {
      "needs_background": "light"
     },
     "output_type": "display_data"
    }
   ],
   "source": [
    "plot_cf(cf, 'multi_without_toxic', labels)"
   ]
  },
  {
   "cell_type": "code",
   "execution_count": null,
   "id": "6331f450",
   "metadata": {},
   "outputs": [],
   "source": []
  },
  {
   "cell_type": "code",
   "execution_count": 29,
   "id": "8e72e8ec",
   "metadata": {},
   "outputs": [
    {
     "name": "stdout",
     "output_type": "stream",
     "text": [
      "               precision    recall  f1-score   support\n",
      "\n",
      " severe_toxic       0.32      0.57      0.41       647\n",
      "      obscene       0.90      0.88      0.89      4006\n",
      "       threat       0.45      0.59      0.51       227\n",
      "       insult       0.83      0.80      0.82      3730\n",
      "identity_hate       0.59      0.60      0.59       699\n",
      "\n",
      "    micro avg       0.77      0.80      0.78      9309\n",
      "    macro avg       0.62      0.69      0.64      9309\n",
      " weighted avg       0.80      0.80      0.80      9309\n",
      "  samples avg       0.77      0.81      0.75      9309\n",
      "\n"
     ]
    },
    {
     "name": "stderr",
     "output_type": "stream",
     "text": [
      "C:\\Users\\panap\\anaconda3\\envs\\envi\\lib\\site-packages\\sklearn\\metrics\\_classification.py:1327: UndefinedMetricWarning: Precision and F-score are ill-defined and being set to 0.0 in samples with no predicted labels. Use `zero_division` parameter to control this behavior.\n",
      "  _warn_prf(average, modifier, msg_start, len(result))\n"
     ]
    }
   ],
   "source": [
    "print(metrics.classification_report(y_test, y_labels,target_names=labels))"
   ]
  },
  {
   "cell_type": "code",
   "execution_count": 30,
   "id": "b636224c",
   "metadata": {},
   "outputs": [
    {
     "name": "stderr",
     "output_type": "stream",
     "text": [
      "C:\\Users\\panap\\anaconda3\\envs\\envi\\lib\\site-packages\\sklearn\\metrics\\_classification.py:1327: UndefinedMetricWarning: Precision and F-score are ill-defined and being set to 0.0 in samples with no predicted labels. Use `zero_division` parameter to control this behavior.\n",
      "  _warn_prf(average, modifier, msg_start, len(result))\n"
     ]
    }
   ],
   "source": [
    "report = metrics.classification_report(y_test, y_labels, output_dict=True)\n",
    "df = pd.DataFrame(report).transpose()\n",
    "\n",
    "df.round(2).to_csv('data/cr3.csv')"
   ]
  },
  {
   "cell_type": "code",
   "execution_count": null,
   "id": "e07566a3",
   "metadata": {},
   "outputs": [],
   "source": []
  },
  {
   "cell_type": "markdown",
   "id": "d601e486",
   "metadata": {},
   "source": [
    "Preciznost, odziv i F1 mera za svaku klasu:"
   ]
  },
  {
   "cell_type": "code",
   "execution_count": 31,
   "id": "3b73d499",
   "metadata": {},
   "outputs": [],
   "source": [
    "precisions, recalls, f1_scores = get_prec_rec_f1(cf, labels)"
   ]
  },
  {
   "cell_type": "code",
   "execution_count": 32,
   "id": "565dbf9e",
   "metadata": {},
   "outputs": [
    {
     "data": {
      "text/plain": [
       "{'severe_toxic': 0.32,\n",
       " 'obscene': 0.9,\n",
       " 'threat': 0.45,\n",
       " 'insult': 0.83,\n",
       " 'identity_hate': 0.59}"
      ]
     },
     "execution_count": 32,
     "metadata": {},
     "output_type": "execute_result"
    }
   ],
   "source": [
    "precisions"
   ]
  },
  {
   "cell_type": "code",
   "execution_count": 33,
   "id": "ecd50cdc",
   "metadata": {},
   "outputs": [
    {
     "data": {
      "text/plain": [
       "{'severe_toxic': 0.57,\n",
       " 'obscene': 0.88,\n",
       " 'threat': 0.59,\n",
       " 'insult': 0.8,\n",
       " 'identity_hate': 0.6}"
      ]
     },
     "execution_count": 33,
     "metadata": {},
     "output_type": "execute_result"
    }
   ],
   "source": [
    "recalls"
   ]
  },
  {
   "cell_type": "code",
   "execution_count": 34,
   "id": "a6086d71",
   "metadata": {},
   "outputs": [
    {
     "data": {
      "text/plain": [
       "{'severe_toxic': 0.41,\n",
       " 'obscene': 0.89,\n",
       " 'threat': 0.51,\n",
       " 'insult': 0.81,\n",
       " 'identity_hate': 0.59}"
      ]
     },
     "execution_count": 34,
     "metadata": {},
     "output_type": "execute_result"
    }
   ],
   "source": [
    "f1_scores"
   ]
  },
  {
   "cell_type": "code",
   "execution_count": 35,
   "id": "5d1b9d50",
   "metadata": {},
   "outputs": [],
   "source": [
    "# izracunate metrike se cuvaju u csv datoteku: \n",
    "\n",
    "report1 = pd.DataFrame(precisions, index=['precision'])\n",
    "report2 = pd.DataFrame(recalls, index=['recall'])\n",
    "report3 = pd.DataFrame(f1_scores, index=['f1'])\n",
    "\n",
    "report = pd.concat([report1, report2, report3])\n",
    "\n",
    "report.to_csv('data/report3.csv')"
   ]
  },
  {
   "cell_type": "code",
   "execution_count": null,
   "id": "1964b734",
   "metadata": {},
   "outputs": [],
   "source": []
  },
  {
   "cell_type": "code",
   "execution_count": 36,
   "id": "57b6c6ea",
   "metadata": {},
   "outputs": [],
   "source": [
    "new_comments = ['i will kill you', 'go die', 'you are so stupid', 'You suck!']\n",
    "new = to_sequence(new_comments, 100, tokenizer)\n",
    "\n",
    "probs = multi_model.predict(new)\n",
    "\n",
    "predictions = []\n",
    "\n",
    "for prob in probs:\n",
    "    rounded = [round(p) for p in prob]\n",
    "    predictions.append(rounded)\n",
    "        \n",
    "model_preds = pd.DataFrame(predictions, columns=labels)\n",
    "model_preds['comment'] = new_comments"
   ]
  },
  {
   "cell_type": "code",
   "execution_count": 37,
   "id": "ee7fb520",
   "metadata": {},
   "outputs": [
    {
     "name": "stdout",
     "output_type": "stream",
     "text": [
      "Predvidjanja za nove komentare: \n"
     ]
    },
    {
     "data": {
      "text/html": [
       "<div>\n",
       "<style scoped>\n",
       "    .dataframe tbody tr th:only-of-type {\n",
       "        vertical-align: middle;\n",
       "    }\n",
       "\n",
       "    .dataframe tbody tr th {\n",
       "        vertical-align: top;\n",
       "    }\n",
       "\n",
       "    .dataframe thead th {\n",
       "        text-align: right;\n",
       "    }\n",
       "</style>\n",
       "<table border=\"1\" class=\"dataframe\">\n",
       "  <thead>\n",
       "    <tr style=\"text-align: right;\">\n",
       "      <th></th>\n",
       "      <th>severe_toxic</th>\n",
       "      <th>obscene</th>\n",
       "      <th>threat</th>\n",
       "      <th>insult</th>\n",
       "      <th>identity_hate</th>\n",
       "      <th>comment</th>\n",
       "    </tr>\n",
       "  </thead>\n",
       "  <tbody>\n",
       "    <tr>\n",
       "      <th>0</th>\n",
       "      <td>0</td>\n",
       "      <td>0</td>\n",
       "      <td>1</td>\n",
       "      <td>0</td>\n",
       "      <td>0</td>\n",
       "      <td>i will kill you</td>\n",
       "    </tr>\n",
       "    <tr>\n",
       "      <th>1</th>\n",
       "      <td>0</td>\n",
       "      <td>0</td>\n",
       "      <td>1</td>\n",
       "      <td>0</td>\n",
       "      <td>0</td>\n",
       "      <td>go die</td>\n",
       "    </tr>\n",
       "    <tr>\n",
       "      <th>2</th>\n",
       "      <td>0</td>\n",
       "      <td>1</td>\n",
       "      <td>0</td>\n",
       "      <td>1</td>\n",
       "      <td>0</td>\n",
       "      <td>you are so stupid</td>\n",
       "    </tr>\n",
       "    <tr>\n",
       "      <th>3</th>\n",
       "      <td>0</td>\n",
       "      <td>1</td>\n",
       "      <td>0</td>\n",
       "      <td>1</td>\n",
       "      <td>0</td>\n",
       "      <td>You suck!</td>\n",
       "    </tr>\n",
       "  </tbody>\n",
       "</table>\n",
       "</div>"
      ],
      "text/plain": [
       "   severe_toxic  obscene  threat  insult  identity_hate            comment\n",
       "0             0        0       1       0              0    i will kill you\n",
       "1             0        0       1       0              0             go die\n",
       "2             0        1       0       1              0  you are so stupid\n",
       "3             0        1       0       1              0          You suck!"
      ]
     },
     "execution_count": 37,
     "metadata": {},
     "output_type": "execute_result"
    }
   ],
   "source": [
    "print('Predvidjanja za nove komentare: ')\n",
    "model_preds"
   ]
  },
  {
   "cell_type": "markdown",
   "id": "c848bcee",
   "metadata": {},
   "source": [
    "### Čuvanje modela"
   ]
  },
  {
   "cell_type": "code",
   "execution_count": 38,
   "id": "b2d8d31f",
   "metadata": {},
   "outputs": [],
   "source": [
    "multi_model.save_weights('models/multi_model_weights1.hdf5')\n",
    "multi_model.save('models/multi_model1.hdf5')"
   ]
  },
  {
   "cell_type": "code",
   "execution_count": null,
   "id": "791df29b",
   "metadata": {},
   "outputs": [],
   "source": [
    "# model = keras.models.load_model('models/multi_model.hdf5', custom_objects={\"f1_m\": f1_m})\n",
    "# plot_model(model, to_file='plots and images/multi_model.png', show_shapes=True) \n",
    "# model.get_config()"
   ]
  }
 ],
 "metadata": {
  "kernelspec": {
   "display_name": "Python 3 (ipykernel)",
   "language": "python",
   "name": "python3"
  },
  "language_info": {
   "codemirror_mode": {
    "name": "ipython",
    "version": 3
   },
   "file_extension": ".py",
   "mimetype": "text/x-python",
   "name": "python",
   "nbconvert_exporter": "python",
   "pygments_lexer": "ipython3",
   "version": "3.9.6"
  }
 },
 "nbformat": 4,
 "nbformat_minor": 5
}
