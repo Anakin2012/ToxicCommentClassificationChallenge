{
 "cells": [
  {
   "cell_type": "code",
   "execution_count": 1,
   "id": "eb4fa92d",
   "metadata": {},
   "outputs": [],
   "source": [
    "import pandas as pd\n",
    "import numpy as np\n",
    "from matplotlib import pyplot as plt\n",
    "\n",
    "import pickle\n",
    "import sklearn\n",
    "import time\n",
    "from sklearn import metrics\n",
    "from sklearn import model_selection\n",
    "\n",
    "import warnings\n",
    "warnings.simplefilter(action='ignore', category=FutureWarning)"
   ]
  },
  {
   "cell_type": "code",
   "execution_count": 2,
   "id": "d8c18f75",
   "metadata": {},
   "outputs": [],
   "source": [
    "%run SharedFunctions.ipynb"
   ]
  },
  {
   "cell_type": "code",
   "execution_count": null,
   "id": "d4a6f169",
   "metadata": {},
   "outputs": [],
   "source": []
  },
  {
   "cell_type": "markdown",
   "id": "41cb269b",
   "metadata": {},
   "source": [
    "Učitava se prethodno pripremljen skup podataka: "
   ]
  },
  {
   "cell_type": "code",
   "execution_count": 3,
   "id": "bb216802",
   "metadata": {},
   "outputs": [],
   "source": [
    "data = pd.read_csv('data/data_longer.csv')\n",
    "data.drop(columns=['Unnamed: 0'], inplace=True)"
   ]
  },
  {
   "cell_type": "markdown",
   "id": "9b7129d0",
   "metadata": {},
   "source": [
    "U ovom slučaju, koristi se samo deo podataka koji ima neku labelu, tj. samo toksični komentari. Njih je potrebno klasifikovati u 6 različitih klasa (sa preklapanjem)."
   ]
  },
  {
   "cell_type": "code",
   "execution_count": 4,
   "id": "2112e5a5",
   "metadata": {},
   "outputs": [],
   "source": [
    "labels = ['toxic', 'severe_toxic', 'obscene', 'threat', 'insult', 'identity_hate']\n",
    "data = data[data['target'] == 1]"
   ]
  },
  {
   "cell_type": "code",
   "execution_count": 5,
   "id": "e605464d",
   "metadata": {},
   "outputs": [
    {
     "data": {
      "text/html": [
       "<div>\n",
       "<style scoped>\n",
       "    .dataframe tbody tr th:only-of-type {\n",
       "        vertical-align: middle;\n",
       "    }\n",
       "\n",
       "    .dataframe tbody tr th {\n",
       "        vertical-align: top;\n",
       "    }\n",
       "\n",
       "    .dataframe thead th {\n",
       "        text-align: right;\n",
       "    }\n",
       "</style>\n",
       "<table border=\"1\" class=\"dataframe\">\n",
       "  <thead>\n",
       "    <tr style=\"text-align: right;\">\n",
       "      <th></th>\n",
       "      <th>comment_text</th>\n",
       "      <th>toxic</th>\n",
       "      <th>severe_toxic</th>\n",
       "      <th>obscene</th>\n",
       "      <th>threat</th>\n",
       "      <th>insult</th>\n",
       "      <th>identity_hate</th>\n",
       "      <th>target</th>\n",
       "      <th>word_count</th>\n",
       "    </tr>\n",
       "  </thead>\n",
       "  <tbody>\n",
       "    <tr>\n",
       "      <th>6</th>\n",
       "      <td>cocksucker before you piss around on my work</td>\n",
       "      <td>1</td>\n",
       "      <td>1</td>\n",
       "      <td>1</td>\n",
       "      <td>0</td>\n",
       "      <td>1</td>\n",
       "      <td>0</td>\n",
       "      <td>1</td>\n",
       "      <td>8</td>\n",
       "    </tr>\n",
       "    <tr>\n",
       "      <th>12</th>\n",
       "      <td>hey what is it   talk  what is it an exclusive...</td>\n",
       "      <td>1</td>\n",
       "      <td>0</td>\n",
       "      <td>0</td>\n",
       "      <td>0</td>\n",
       "      <td>0</td>\n",
       "      <td>0</td>\n",
       "      <td>1</td>\n",
       "      <td>50</td>\n",
       "    </tr>\n",
       "    <tr>\n",
       "      <th>16</th>\n",
       "      <td>bye   dont look come or think of comming back ...</td>\n",
       "      <td>1</td>\n",
       "      <td>0</td>\n",
       "      <td>0</td>\n",
       "      <td>0</td>\n",
       "      <td>0</td>\n",
       "      <td>0</td>\n",
       "      <td>1</td>\n",
       "      <td>10</td>\n",
       "    </tr>\n",
       "    <tr>\n",
       "      <th>42</th>\n",
       "      <td>you are gay or antisemmitian   archangel white...</td>\n",
       "      <td>1</td>\n",
       "      <td>0</td>\n",
       "      <td>1</td>\n",
       "      <td>0</td>\n",
       "      <td>1</td>\n",
       "      <td>1</td>\n",
       "      <td>1</td>\n",
       "      <td>109</td>\n",
       "    </tr>\n",
       "    <tr>\n",
       "      <th>43</th>\n",
       "      <td>fuck your filthy mother in the ass dry</td>\n",
       "      <td>1</td>\n",
       "      <td>0</td>\n",
       "      <td>1</td>\n",
       "      <td>0</td>\n",
       "      <td>1</td>\n",
       "      <td>0</td>\n",
       "      <td>1</td>\n",
       "      <td>8</td>\n",
       "    </tr>\n",
       "  </tbody>\n",
       "</table>\n",
       "</div>"
      ],
      "text/plain": [
       "                                         comment_text  toxic  severe_toxic  \\\n",
       "6        cocksucker before you piss around on my work      1             1   \n",
       "12  hey what is it   talk  what is it an exclusive...      1             0   \n",
       "16  bye   dont look come or think of comming back ...      1             0   \n",
       "42  you are gay or antisemmitian   archangel white...      1             0   \n",
       "43             fuck your filthy mother in the ass dry      1             0   \n",
       "\n",
       "    obscene  threat  insult  identity_hate  target  word_count  \n",
       "6         1       0       1              0       1           8  \n",
       "12        0       0       0              0       1          50  \n",
       "16        0       0       0              0       1          10  \n",
       "42        1       0       1              1       1         109  \n",
       "43        1       0       1              0       1           8  "
      ]
     },
     "execution_count": 5,
     "metadata": {},
     "output_type": "execute_result"
    }
   ],
   "source": [
    "data.head()"
   ]
  },
  {
   "cell_type": "code",
   "execution_count": 6,
   "id": "73afb2e5",
   "metadata": {},
   "outputs": [
    {
     "data": {
      "text/plain": [
       "(22468, 9)"
      ]
     },
     "execution_count": 6,
     "metadata": {},
     "output_type": "execute_result"
    }
   ],
   "source": [
    "data.shape"
   ]
  },
  {
   "cell_type": "markdown",
   "id": "924e6bb6",
   "metadata": {},
   "source": [
    "Dakle, broj instanci za višelabelarnu klasifikaciju je 22468"
   ]
  },
  {
   "cell_type": "code",
   "execution_count": null,
   "id": "5a6fb3f7",
   "metadata": {},
   "outputs": [],
   "source": []
  },
  {
   "cell_type": "markdown",
   "id": "68d0d514",
   "metadata": {},
   "source": [
    "### 1. Podela na trening, test, i validacioni skup"
   ]
  },
  {
   "cell_type": "markdown",
   "id": "3e4dc1fb",
   "metadata": {},
   "source": [
    "Ovde će podela biti odrađena ručna, jer je skup podataka mali. Unakrsna validacija neće biti potrebna."
   ]
  },
  {
   "cell_type": "code",
   "execution_count": 11,
   "id": "a47d919e",
   "metadata": {},
   "outputs": [
    {
     "data": {
      "text/plain": [
       "22468"
      ]
     },
     "execution_count": 11,
     "metadata": {},
     "output_type": "execute_result"
    }
   ],
   "source": [
    "X.shape[0]"
   ]
  },
  {
   "cell_type": "code",
   "execution_count": 12,
   "id": "09d11381",
   "metadata": {},
   "outputs": [],
   "source": [
    "test_size = int(0.3 * data.shape[0])\n",
    "train_size = data.shape[0] - test_size\n",
    "validation_size = int(0.2 * train_size)\n",
    "train_size -= validation_size"
   ]
  },
  {
   "cell_type": "code",
   "execution_count": 14,
   "id": "3408c120",
   "metadata": {},
   "outputs": [],
   "source": [
    "train_data = data[:train_size]\n",
    "validation_data = data[train_size : train_size + validation_size]\n",
    "test_data = data[train_size+validation_size: ]"
   ]
  },
  {
   "cell_type": "code",
   "execution_count": 29,
   "id": "6b3c6389",
   "metadata": {},
   "outputs": [],
   "source": [
    "X_train = train_data['comment_text']\n",
    "X_validation = validation_data['comment_text']\n",
    "X_test = test_data['comment_text']\n",
    "\n",
    "y_train = train_data[labels]\n",
    "y_test = test_data[labels]\n",
    "y_validation = validation_data[labels]"
   ]
  },
  {
   "cell_type": "code",
   "execution_count": null,
   "id": "bb6db433",
   "metadata": {},
   "outputs": [],
   "source": []
  },
  {
   "cell_type": "markdown",
   "id": "c9f9dc21",
   "metadata": {},
   "source": [
    "### 2. Tokenizacija I vektorizacija teksta"
   ]
  },
  {
   "cell_type": "code",
   "execution_count": 32,
   "id": "e0d090e1",
   "metadata": {},
   "outputs": [],
   "source": [
    "# uzima se recimo 20000 najfrekventinijh reci\n",
    "max_features = 20000\n",
    "\n",
    "# max duzina\n",
    "max_len = 100"
   ]
  },
  {
   "cell_type": "code",
   "execution_count": 33,
   "id": "136b88c6",
   "metadata": {},
   "outputs": [],
   "source": [
    "word_index, tokenizer = get_vocabulary(max_features, X_train, 'tokenizer_multi.pickle')"
   ]
  },
  {
   "cell_type": "code",
   "execution_count": 34,
   "id": "f12da6a2",
   "metadata": {},
   "outputs": [
    {
     "name": "stdout",
     "output_type": "stream",
     "text": [
      "Broj jedinstvenih reci: 31832\n"
     ]
    }
   ],
   "source": [
    "print('Broj jedinstvenih reci:', len(word_index))"
   ]
  },
  {
   "cell_type": "code",
   "execution_count": 35,
   "id": "264f9784",
   "metadata": {},
   "outputs": [],
   "source": [
    "X_train = to_sequence(X_train, max_len, tokenizer)\n",
    "X_test = to_sequence(X_test, max_len, tokenizer)\n",
    "X_validation = to_sequence(X_validation, max_len, tokenizer)"
   ]
  },
  {
   "cell_type": "code",
   "execution_count": 36,
   "id": "1124c664",
   "metadata": {},
   "outputs": [
    {
     "data": {
      "text/plain": [
       "((12583, 100), (6740, 100), (3145, 100))"
      ]
     },
     "execution_count": 36,
     "metadata": {},
     "output_type": "execute_result"
    }
   ],
   "source": [
    "X_train.shape, X_test.shape, X_validation.shape"
   ]
  },
  {
   "cell_type": "code",
   "execution_count": null,
   "id": "7d892b74",
   "metadata": {},
   "outputs": [],
   "source": []
  },
  {
   "cell_type": "code",
   "execution_count": 37,
   "id": "1ee3435a",
   "metadata": {},
   "outputs": [],
   "source": [
    "# kreiranje matrice ugnjezdjavanja\n",
    "\n",
    "embedding_matrix = create_embedding_matrix(word_index, max_len)"
   ]
  },
  {
   "cell_type": "code",
   "execution_count": null,
   "id": "17f7714a",
   "metadata": {},
   "outputs": [],
   "source": []
  },
  {
   "cell_type": "markdown",
   "id": "0b9b9192",
   "metadata": {},
   "source": [
    "### 3. Formiranje modela"
   ]
  },
  {
   "cell_type": "markdown",
   "id": "a6119772",
   "metadata": {},
   "source": [
    "Odmah se prelazi na formiranje modela, koristiće se isti parametri koji su izabrani kao najbolji za binarnu klasifikaciju."
   ]
  },
  {
   "cell_type": "code",
   "execution_count": 42,
   "id": "9a9dbf39",
   "metadata": {},
   "outputs": [],
   "source": [
    "kernel_size = 3\n",
    "pool_size = 4\n",
    "filters = 64\n",
    "dropout_rate = 0.3\n",
    "embedding_dim = 100\n",
    "lr = 0.0001"
   ]
  },
  {
   "cell_type": "code",
   "execution_count": 43,
   "id": "8828375f",
   "metadata": {},
   "outputs": [
    {
     "name": "stdout",
     "output_type": "stream",
     "text": [
      "Model: \"sequential_1\"\n",
      "_________________________________________________________________\n",
      "Layer (type)                 Output Shape              Param #   \n",
      "=================================================================\n",
      "embedding_1 (Embedding)      (None, 100, 100)          2000000   \n",
      "_________________________________________________________________\n",
      "conv1d_2 (Conv1D)            (None, 100, 64)           19264     \n",
      "_________________________________________________________________\n",
      "max_pooling1d_2 (MaxPooling1 (None, 25, 64)            0         \n",
      "_________________________________________________________________\n",
      "conv1d_3 (Conv1D)            (None, 25, 64)            12352     \n",
      "_________________________________________________________________\n",
      "max_pooling1d_3 (MaxPooling1 (None, 6, 64)             0         \n",
      "_________________________________________________________________\n",
      "dropout_1 (Dropout)          (None, 6, 64)             0         \n",
      "_________________________________________________________________\n",
      "global_average_pooling1d_1 ( (None, 64)                0         \n",
      "_________________________________________________________________\n",
      "flatten_1 (Flatten)          (None, 64)                0         \n",
      "_________________________________________________________________\n",
      "dense_1 (Dense)              (None, 6)                 390       \n",
      "=================================================================\n",
      "Total params: 2,032,006\n",
      "Trainable params: 32,006\n",
      "Non-trainable params: 2,000,000\n",
      "_________________________________________________________________\n"
     ]
    }
   ],
   "source": [
    "multi_model = create_model(num_of_classes = 6, num_of_features = max_features, embedding_dim = embedding_dim, \n",
    "                           kernel_size = kernel_size, pool_size = pool_size, filters = filters, \n",
    "                           dropout_rate = dropout_rate, maxlen = max_len, lr = lr, embedding_matrix = embedding_matrix)"
   ]
  },
  {
   "cell_type": "code",
   "execution_count": null,
   "id": "a6dd204f",
   "metadata": {},
   "outputs": [],
   "source": []
  },
  {
   "cell_type": "markdown",
   "id": "3cadc5e6",
   "metadata": {},
   "source": [
    "### 4. Obučavanje modela"
   ]
  },
  {
   "cell_type": "code",
   "execution_count": null,
   "id": "e3362f23",
   "metadata": {},
   "outputs": [],
   "source": [
    "# TODO weights\n"
   ]
  },
  {
   "cell_type": "code",
   "execution_count": 40,
   "id": "56e4b179",
   "metadata": {},
   "outputs": [],
   "source": [
    "epochs = 10\n",
    "batch_size = 64"
   ]
  },
  {
   "cell_type": "code",
   "execution_count": 44,
   "id": "af602db6",
   "metadata": {},
   "outputs": [
    {
     "name": "stdout",
     "output_type": "stream",
     "text": [
      "Epoch 1/10\n",
      "197/197 [==============================] - 2s 12ms/step - loss: 3.8578 - accuracy: 0.5035 - val_loss: 5.1595 - val_accuracy: 0.9002\n",
      "Epoch 2/10\n",
      "197/197 [==============================] - 2s 11ms/step - loss: 13.9657 - accuracy: 0.4719 - val_loss: 19.8085 - val_accuracy: 0.9374\n",
      "Epoch 3/10\n",
      "197/197 [==============================] - 2s 11ms/step - loss: 49.2061 - accuracy: 0.4608 - val_loss: 52.8644 - val_accuracy: 0.9377\n",
      "Epoch 4/10\n",
      "197/197 [==============================] - 2s 11ms/step - loss: 109.4570 - accuracy: 0.4566 - val_loss: 105.0116 - val_accuracy: 0.9377\n",
      "Epoch 5/10\n",
      "197/197 [==============================] - 2s 12ms/step - loss: 192.5578 - accuracy: 0.4620 - val_loss: 170.8040 - val_accuracy: 0.9377\n",
      "Epoch 6/10\n",
      "197/197 [==============================] - 2s 12ms/step - loss: 305.2991 - accuracy: 0.4579 - val_loss: 265.7573 - val_accuracy: 0.9377\n",
      "Epoch 7/10\n",
      "197/197 [==============================] - 2s 12ms/step - loss: 437.0025 - accuracy: 0.4616 - val_loss: 380.2531 - val_accuracy: 0.9377\n",
      "Epoch 8/10\n",
      "197/197 [==============================] - 2s 12ms/step - loss: 593.6481 - accuracy: 0.4730 - val_loss: 517.5205 - val_accuracy: 0.9377\n",
      "Epoch 9/10\n",
      "197/197 [==============================] - 2s 13ms/step - loss: 764.3723 - accuracy: 0.4786 - val_loss: 650.0438 - val_accuracy: 0.9377\n",
      "Epoch 10/10\n",
      "197/197 [==============================] - 3s 13ms/step - loss: 963.3016 - accuracy: 0.4863 - val_loss: 835.0052 - val_accuracy: 0.9377\n",
      "Trajanje obucavanja modela binarne klasifikacije:  24.4045832157135\n"
     ]
    }
   ],
   "source": [
    "start = time.time()    \n",
    "\n",
    "multi_history = multi_model.fit(X_train, y_train, batch_size=batch_size, epochs=epochs, \n",
    "                                 validation_data=(X_validation, y_validation))\n",
    "                                #, class_weight=weights)\n",
    "                                 #,callbacks=[early_stop]\n",
    "                                 \n",
    "print('Trajanje obucavanja modela multilabel klasifikacije: ', time.time() - start)"
   ]
  },
  {
   "cell_type": "code",
   "execution_count": null,
   "id": "fee2cb63",
   "metadata": {},
   "outputs": [],
   "source": []
  },
  {
   "cell_type": "code",
   "execution_count": 45,
   "id": "0fe8ae39",
   "metadata": {},
   "outputs": [
    {
     "data": {
      "image/png": "[encoded data removed]",
      "text/plain": [
       "<Figure size 720x360 with 2 Axes>"
      ]
     },
     "metadata": {
      "needs_background": "light"
     },
     "output_type": "display_data"
    }
   ],
   "source": [
    "plot_graphs(multi_history, ['accuracy', 'loss'])"
   ]
  },
  {
   "cell_type": "code",
   "execution_count": null,
   "id": "9a339b9b",
   "metadata": {},
   "outputs": [],
   "source": []
  },
  {
   "cell_type": "markdown",
   "id": "3c7db9a5",
   "metadata": {},
   "source": [
    "### 5. Evaluacija modela"
   ]
  },
  {
   "cell_type": "code",
   "execution_count": null,
   "id": "b0c731ca",
   "metadata": {},
   "outputs": [],
   "source": [
    "scores = multi_model.evaluate(X_test, y_test)\n",
    "print('Loss: ', scores[0])\n",
    "print('Test accuracy: ', scores[1])"
   ]
  },
  {
   "cell_type": "markdown",
   "id": "fa7f1cb0",
   "metadata": {},
   "source": [
    "Predviđanje:"
   ]
  },
  {
   "cell_type": "code",
   "execution_count": null,
   "id": "cf20574e",
   "metadata": {},
   "outputs": [],
   "source": [
    "y_predicted = binary_model.predict(X_test)"
   ]
  },
  {
   "cell_type": "code",
   "execution_count": null,
   "id": "88f579a2",
   "metadata": {},
   "outputs": [],
   "source": [
    "y_labels = [np.argmax(y_predicted, axis=1)]"
   ]
  },
  {
   "cell_type": "code",
   "execution_count": null,
   "id": "477d1f30",
   "metadata": {},
   "outputs": [],
   "source": []
  },
  {
   "cell_type": "code",
   "execution_count": null,
   "id": "8d514392",
   "metadata": {},
   "outputs": [],
   "source": []
  },
  {
   "cell_type": "code",
   "execution_count": null,
   "id": "f57d36ec",
   "metadata": {},
   "outputs": [],
   "source": []
  }
 ],
 "metadata": {
  "kernelspec": {
   "display_name": "Python 3",
   "language": "python",
   "name": "python3"
  },
  "language_info": {
   "codemirror_mode": {
    "name": "ipython",
    "version": 3
   },
   "file_extension": ".py",
   "mimetype": "text/x-python",
   "name": "python",
   "nbconvert_exporter": "python",
   "pygments_lexer": "ipython3",
   "version": "3.8.8"
  }
 },
 "nbformat": 4,
 "nbformat_minor": 5
}
