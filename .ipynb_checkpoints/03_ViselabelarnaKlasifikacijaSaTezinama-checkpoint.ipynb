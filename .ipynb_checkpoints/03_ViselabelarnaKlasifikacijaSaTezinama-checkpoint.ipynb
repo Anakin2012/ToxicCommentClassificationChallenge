{
 "cells": [
  {
   "cell_type": "code",
   "execution_count": 1,
   "id": "eb4fa92d",
   "metadata": {},
   "outputs": [],
   "source": [
    "import pandas as pd\n",
    "import numpy as np\n",
    "from matplotlib import pyplot as plt\n",
    "\n",
    "import pickle\n",
    "import sklearn\n",
    "import time\n",
    "from sklearn import metrics\n",
    "from sklearn import model_selection\n",
    "from sklearn.metrics import multilabel_confusion_matrix\n",
    "from skmultilearn.model_selection import iterative_train_test_split\n",
    "from keras.utils.vis_utils import plot_model\n",
    "import warnings\n",
    "\n",
    "warnings.simplefilter(action='ignore', category=FutureWarning)"
   ]
  },
  {
   "cell_type": "code",
   "execution_count": 2,
   "id": "d8c18f75",
   "metadata": {},
   "outputs": [],
   "source": [
    "# da moze da koristi funkcije definisane u svesci SharedFunctions\n",
    "\n",
    "%run SharedFunctions.ipynb"
   ]
  },
  {
   "cell_type": "code",
   "execution_count": null,
   "id": "d4a6f169",
   "metadata": {},
   "outputs": [],
   "source": []
  },
  {
   "cell_type": "markdown",
   "id": "41cb269b",
   "metadata": {},
   "source": [
    "Učitava se prethodno pripremljen skup podataka: "
   ]
  },
  {
   "cell_type": "code",
   "execution_count": 3,
   "id": "bb216802",
   "metadata": {},
   "outputs": [],
   "source": [
    "data = pd.read_csv('data/data_longer.csv')\n",
    "data.drop(columns=['Unnamed: 0'], inplace=True)"
   ]
  },
  {
   "cell_type": "markdown",
   "id": "9b7129d0",
   "metadata": {},
   "source": [
    "U ovom slučaju, koristi se samo deo podataka koji ima neku labelu, tj. samo toksični komentari. Njih je potrebno klasifikovati u 6 različitih klasa (sa preklapanjem)."
   ]
  },
  {
   "cell_type": "code",
   "execution_count": 4,
   "id": "2112e5a5",
   "metadata": {},
   "outputs": [],
   "source": [
    "labels = ['toxic', 'severe_toxic', 'obscene', 'threat', 'insult', 'identity_hate']\n",
    "data = data[data['target'] == 1]"
   ]
  },
  {
   "cell_type": "code",
   "execution_count": 5,
   "id": "e605464d",
   "metadata": {},
   "outputs": [
    {
     "data": {
      "text/html": [
       "<div>\n",
       "<style scoped>\n",
       "    .dataframe tbody tr th:only-of-type {\n",
       "        vertical-align: middle;\n",
       "    }\n",
       "\n",
       "    .dataframe tbody tr th {\n",
       "        vertical-align: top;\n",
       "    }\n",
       "\n",
       "    .dataframe thead th {\n",
       "        text-align: right;\n",
       "    }\n",
       "</style>\n",
       "<table border=\"1\" class=\"dataframe\">\n",
       "  <thead>\n",
       "    <tr style=\"text-align: right;\">\n",
       "      <th></th>\n",
       "      <th>comment_text</th>\n",
       "      <th>toxic</th>\n",
       "      <th>severe_toxic</th>\n",
       "      <th>obscene</th>\n",
       "      <th>threat</th>\n",
       "      <th>insult</th>\n",
       "      <th>identity_hate</th>\n",
       "      <th>target</th>\n",
       "      <th>word_count</th>\n",
       "    </tr>\n",
       "  </thead>\n",
       "  <tbody>\n",
       "    <tr>\n",
       "      <th>6</th>\n",
       "      <td>cocksucker before you piss around on my work</td>\n",
       "      <td>1</td>\n",
       "      <td>1</td>\n",
       "      <td>1</td>\n",
       "      <td>0</td>\n",
       "      <td>1</td>\n",
       "      <td>0</td>\n",
       "      <td>1</td>\n",
       "      <td>8</td>\n",
       "    </tr>\n",
       "    <tr>\n",
       "      <th>12</th>\n",
       "      <td>hey what is it   talk  what is it an exclusive...</td>\n",
       "      <td>1</td>\n",
       "      <td>0</td>\n",
       "      <td>0</td>\n",
       "      <td>0</td>\n",
       "      <td>0</td>\n",
       "      <td>0</td>\n",
       "      <td>1</td>\n",
       "      <td>50</td>\n",
       "    </tr>\n",
       "    <tr>\n",
       "      <th>16</th>\n",
       "      <td>bye   dont look come or think of comming back ...</td>\n",
       "      <td>1</td>\n",
       "      <td>0</td>\n",
       "      <td>0</td>\n",
       "      <td>0</td>\n",
       "      <td>0</td>\n",
       "      <td>0</td>\n",
       "      <td>1</td>\n",
       "      <td>10</td>\n",
       "    </tr>\n",
       "    <tr>\n",
       "      <th>42</th>\n",
       "      <td>you are gay or antisemmitian   archangel white...</td>\n",
       "      <td>1</td>\n",
       "      <td>0</td>\n",
       "      <td>1</td>\n",
       "      <td>0</td>\n",
       "      <td>1</td>\n",
       "      <td>1</td>\n",
       "      <td>1</td>\n",
       "      <td>109</td>\n",
       "    </tr>\n",
       "    <tr>\n",
       "      <th>43</th>\n",
       "      <td>fuck your filthy mother in the ass dry</td>\n",
       "      <td>1</td>\n",
       "      <td>0</td>\n",
       "      <td>1</td>\n",
       "      <td>0</td>\n",
       "      <td>1</td>\n",
       "      <td>0</td>\n",
       "      <td>1</td>\n",
       "      <td>8</td>\n",
       "    </tr>\n",
       "  </tbody>\n",
       "</table>\n",
       "</div>"
      ],
      "text/plain": [
       "                                         comment_text  toxic  severe_toxic  \\\n",
       "6        cocksucker before you piss around on my work      1             1   \n",
       "12  hey what is it   talk  what is it an exclusive...      1             0   \n",
       "16  bye   dont look come or think of comming back ...      1             0   \n",
       "42  you are gay or antisemmitian   archangel white...      1             0   \n",
       "43             fuck your filthy mother in the ass dry      1             0   \n",
       "\n",
       "    obscene  threat  insult  identity_hate  target  word_count  \n",
       "6         1       0       1              0       1           8  \n",
       "12        0       0       0              0       1          50  \n",
       "16        0       0       0              0       1          10  \n",
       "42        1       0       1              1       1         109  \n",
       "43        1       0       1              0       1           8  "
      ]
     },
     "execution_count": 5,
     "metadata": {},
     "output_type": "execute_result"
    }
   ],
   "source": [
    "data.head()"
   ]
  },
  {
   "cell_type": "code",
   "execution_count": 6,
   "id": "73afb2e5",
   "metadata": {},
   "outputs": [
    {
     "data": {
      "text/plain": [
       "(22468, 9)"
      ]
     },
     "execution_count": 6,
     "metadata": {},
     "output_type": "execute_result"
    }
   ],
   "source": [
    "data.shape"
   ]
  },
  {
   "cell_type": "markdown",
   "id": "924e6bb6",
   "metadata": {},
   "source": [
    "**Dakle, broj instanci za višelabelarnu klasifikaciju je 22468.**"
   ]
  },
  {
   "cell_type": "code",
   "execution_count": 7,
   "id": "5a6fb3f7",
   "metadata": {},
   "outputs": [
    {
     "data": {
      "text/plain": [
       "48.906044151682394"
      ]
     },
     "execution_count": 7,
     "metadata": {},
     "output_type": "execute_result"
    }
   ],
   "source": [
    "# prosecan broj reci po komentaru\n",
    "\n",
    "data['word_count'].mean()"
   ]
  },
  {
   "cell_type": "code",
   "execution_count": null,
   "id": "e54c0ec3",
   "metadata": {},
   "outputs": [],
   "source": []
  },
  {
   "cell_type": "code",
   "execution_count": 8,
   "id": "2af9944a",
   "metadata": {},
   "outputs": [
    {
     "data": {
      "text/plain": [
       "{'toxic': 21384,\n",
       " 'severe_toxic': 1962,\n",
       " 'obscene': 12140,\n",
       " 'threat': 689,\n",
       " 'insult': 11304,\n",
       " 'identity_hate': 2117}"
      ]
     },
     "execution_count": 8,
     "metadata": {},
     "output_type": "execute_result"
    }
   ],
   "source": [
    "# Broj komentara po klasama: \n",
    "\n",
    "get_label_counts(data, labels)"
   ]
  },
  {
   "cell_type": "markdown",
   "id": "eeb7b77b",
   "metadata": {},
   "source": [
    "Klasa toxic značajno preovladava skupom. Klase severe_toxic, identity_hate i threat (ova klasa posebno mali broj instanci) su u manjini."
   ]
  },
  {
   "cell_type": "markdown",
   "id": "68d0d514",
   "metadata": {},
   "source": [
    "### 1. Podela na trening, test, i validacioni skup"
   ]
  },
  {
   "cell_type": "markdown",
   "id": "e7e857d9",
   "metadata": {},
   "source": [
    "Koristi se iterative_train_test_split iz paketa skmultilearn.model_selection za stratifikovanu podelu:"
   ]
  },
  {
   "cell_type": "code",
   "execution_count": 9,
   "id": "a47d919e",
   "metadata": {},
   "outputs": [],
   "source": [
    "X = data['comment_text']\n",
    "y = data[labels]\n",
    "\n",
    "X_train, y_train, X_test, y_test = iterative_train_test_split(\n",
    "                                                        np.asmatrix(X).T, np.asmatrix(y), test_size = 0.35)\n",
    "\n",
    "#X_train, y_train, X_validation, y_validation = iterative_train_test_split(\n",
    "#                                            X_train_validation, y_train_validation, test_size = 0.2)"
   ]
  },
  {
   "cell_type": "code",
   "execution_count": 10,
   "id": "a249fab3",
   "metadata": {},
   "outputs": [
    {
     "data": {
      "text/plain": [
       "((7818, 1), (14650, 1))"
      ]
     },
     "execution_count": 10,
     "metadata": {},
     "output_type": "execute_result"
    }
   ],
   "source": [
    "X_test.shape, X_train.shape"
   ]
  },
  {
   "cell_type": "code",
   "execution_count": null,
   "id": "cc3580cf",
   "metadata": {},
   "outputs": [],
   "source": []
  },
  {
   "cell_type": "code",
   "execution_count": 11,
   "id": "09c85643",
   "metadata": {},
   "outputs": [],
   "source": [
    "X_train = pd.DataFrame(X_train, columns=['comment_text'])['comment_text']\n",
    "X_test = pd.DataFrame(X_test, columns=['comment_text'])['comment_text']\n",
    "#X_train_validation = pd.DataFrame(X_train_validation, columns=['comment_text'])['comment_text']\n",
    "#X_validation = pd.DataFrame(X_validation, columns=['comment_text'])['comment_text']\n",
    "\n",
    "y_train = pd.DataFrame(y_train, columns=labels)[labels]\n",
    "y_test = pd.DataFrame(y_test, columns=labels)[labels]\n",
    "#y_train_validation = pd.DataFrame(y_train_validation, columns=labels)[labels]\n",
    "#y_validation = pd.DataFrame(y_validation, columns=labels)[labels]"
   ]
  },
  {
   "cell_type": "code",
   "execution_count": null,
   "id": "de2c13db",
   "metadata": {},
   "outputs": [],
   "source": []
  },
  {
   "cell_type": "markdown",
   "id": "c9f9dc21",
   "metadata": {},
   "source": [
    "### 2. Priprema teksta\n",
    "\n",
    "Koraci su isti kao u prethodnoj svesci (u slučaju binarne klasifikacije)."
   ]
  },
  {
   "cell_type": "code",
   "execution_count": 12,
   "id": "e0d090e1",
   "metadata": {},
   "outputs": [],
   "source": [
    "# uzima se recimo 20000 najfrekventinijh reci\n",
    "max_features = 20000\n",
    "\n",
    "# max duzina\n",
    "max_len = 100"
   ]
  },
  {
   "cell_type": "code",
   "execution_count": 13,
   "id": "136b88c6",
   "metadata": {},
   "outputs": [],
   "source": [
    "word_index, tokenizer = get_vocabulary(max_features, X_train, 'tokenizer_multi.pickle')"
   ]
  },
  {
   "cell_type": "code",
   "execution_count": 14,
   "id": "f12da6a2",
   "metadata": {},
   "outputs": [
    {
     "name": "stdout",
     "output_type": "stream",
     "text": [
      "Broj jedinstvenih reci: 35252\n"
     ]
    }
   ],
   "source": [
    "print('Broj jedinstvenih reci:', len(word_index))"
   ]
  },
  {
   "cell_type": "code",
   "execution_count": 15,
   "id": "264f9784",
   "metadata": {},
   "outputs": [],
   "source": [
    "X_train_transformed = to_sequence(X_train, max_len, tokenizer)\n",
    "X_test_transformed = to_sequence(X_test, max_len, tokenizer)\n",
    "#X_validation_transformed = to_sequence(X_validation, max_len, tokenizer)\n",
    "#X_train_validation_transformed = to_sequence(X_train_validation, max_len, tokenizer)"
   ]
  },
  {
   "cell_type": "code",
   "execution_count": 16,
   "id": "1124c664",
   "metadata": {},
   "outputs": [
    {
     "data": {
      "text/plain": [
       "((14650, 100), (7818, 100))"
      ]
     },
     "execution_count": 16,
     "metadata": {},
     "output_type": "execute_result"
    }
   ],
   "source": [
    "X_train_transformed.shape, X_test_transformed.shape"
   ]
  },
  {
   "cell_type": "code",
   "execution_count": 17,
   "id": "1ee3435a",
   "metadata": {},
   "outputs": [],
   "source": [
    "# kreiranje matrice ugnjezdjavanja\n",
    "\n",
    "embedding_dim = 100\n",
    "embedding_matrix = create_embedding_matrix(word_index, embedding_dim)"
   ]
  },
  {
   "cell_type": "markdown",
   "id": "0b9b9192",
   "metadata": {},
   "source": [
    "### 3. Formiranje modela"
   ]
  },
  {
   "cell_type": "code",
   "execution_count": 25,
   "id": "9a9dbf39",
   "metadata": {},
   "outputs": [],
   "source": [
    "# parametri izabrani isprobavanjem\n",
    "kernel_size = 3\n",
    "pool_size = 4\n",
    "filters = 64\n",
    "dropout_rate = 0.2\n",
    "embedding_dim = 100\n",
    "lr = 0.01\n",
    "layers = 0"
   ]
  },
  {
   "cell_type": "code",
   "execution_count": 26,
   "id": "8828375f",
   "metadata": {},
   "outputs": [
    {
     "name": "stdout",
     "output_type": "stream",
     "text": [
      "Model: \"sequential\"\n",
      "_________________________________________________________________\n",
      "Layer (type)                 Output Shape              Param #   \n",
      "=================================================================\n",
      "embedding (Embedding)        (None, 100, 100)          2000000   \n",
      "_________________________________________________________________\n",
      "conv1d (Conv1D)              (None, 100, 64)           19264     \n",
      "_________________________________________________________________\n",
      "max_pooling1d (MaxPooling1D) (None, 25, 64)            0         \n",
      "_________________________________________________________________\n",
      "conv1d_1 (Conv1D)            (None, 25, 128)           24704     \n",
      "_________________________________________________________________\n",
      "max_pooling1d_1 (MaxPooling1 (None, 6, 128)            0         \n",
      "_________________________________________________________________\n",
      "dropout (Dropout)            (None, 6, 128)            0         \n",
      "_________________________________________________________________\n",
      "global_average_pooling1d (Gl (None, 128)               0         \n",
      "_________________________________________________________________\n",
      "flatten (Flatten)            (None, 128)               0         \n",
      "_________________________________________________________________\n",
      "dense (Dense)                (None, 6)                 774       \n",
      "=================================================================\n",
      "Total params: 2,044,742\n",
      "Trainable params: 44,742\n",
      "Non-trainable params: 2,000,000\n",
      "_________________________________________________________________\n"
     ]
    }
   ],
   "source": [
    "multi_model = create_model(num_of_classes = 6, num_of_features = max_features, embedding_dim = embedding_dim, \n",
    "                           kernel_size = kernel_size, pool_size = pool_size, filters = filters, \n",
    "                           dropout_rate = dropout_rate, maxlen = max_len, lr = lr, \n",
    "                           embedding_matrix = embedding_matrix, layers=layers)"
   ]
  },
  {
   "cell_type": "markdown",
   "id": "3cadc5e6",
   "metadata": {},
   "source": [
    "### 4. Obučavanje modela"
   ]
  },
  {
   "cell_type": "code",
   "execution_count": 27,
   "id": "5ab09a2a",
   "metadata": {},
   "outputs": [
    {
     "data": {
      "text/plain": [
       "{0: 0.17511535104127696,\n",
       " 1: 1.90859667006456,\n",
       " 2: 0.3084568918176826,\n",
       " 3: 5.43492985002419,\n",
       " 4: 0.3312691672564284,\n",
       " 5: 1.7688552983782082}"
      ]
     },
     "execution_count": 27,
     "metadata": {},
     "output_type": "execute_result"
    }
   ],
   "source": [
    "# i ovde se koriste tezine pri klasifikaciji, zbog nebalansiranih klasa\n",
    "\n",
    "weights = get_weights(data[labels].to_numpy(), 6)\n",
    "weights"
   ]
  },
  {
   "cell_type": "code",
   "execution_count": 28,
   "id": "56e4b179",
   "metadata": {},
   "outputs": [],
   "source": [
    "epochs = 20\n",
    "batch_size = 128"
   ]
  },
  {
   "cell_type": "code",
   "execution_count": 29,
   "id": "af602db6",
   "metadata": {},
   "outputs": [
    {
     "name": "stdout",
     "output_type": "stream",
     "text": [
      "Trajanje obucavanja modela multilabel klasifikacije:  60.141483306884766\n"
     ]
    }
   ],
   "source": [
    "start = time.time()    \n",
    "\n",
    "multi_history = multi_model.fit(X_train_transformed, y_train, batch_size=batch_size, epochs=epochs, \n",
    "                                validation_split=0.2,\n",
    "                                class_weight=weights, verbose=False)\n",
    "                                 \n",
    "print('Trajanje obucavanja modela multilabel klasifikacije: ', time.time() - start)"
   ]
  },
  {
   "cell_type": "code",
   "execution_count": null,
   "id": "fee2cb63",
   "metadata": {},
   "outputs": [],
   "source": []
  },
  {
   "cell_type": "code",
   "execution_count": 30,
   "id": "0fe8ae39",
   "metadata": {},
   "outputs": [
    {
     "data": {
      "image/png": "[encoded data removed]",
      "text/plain": [
       "<Figure size 1080x360 with 3 Axes>"
      ]
     },
     "metadata": {
      "needs_background": "light"
     },
     "output_type": "display_data"
    }
   ],
   "source": [
    "plot_graphs(multi_history, ['accuracy', 'recall', 'auc'])"
   ]
  },
  {
   "cell_type": "code",
   "execution_count": null,
   "id": "9a339b9b",
   "metadata": {},
   "outputs": [],
   "source": []
  },
  {
   "cell_type": "markdown",
   "id": "3c7db9a5",
   "metadata": {},
   "source": [
    "### 5. Evaluacija modela"
   ]
  },
  {
   "cell_type": "code",
   "execution_count": 31,
   "id": "c9dc90b4",
   "metadata": {},
   "outputs": [
    {
     "name": "stdout",
     "output_type": "stream",
     "text": [
      "458/458 [==============================] - 2s 5ms/step - loss: 0.2124 - accuracy: 0.7292 - precision: 0.9247 - recall: 0.8518 - auc: 0.9304 - f1_m: 0.8871\n",
      "Train Loss:  0.2124108076095581\n",
      "Train Accuracy:  0.7292150259017944\n",
      "Train Precision:  0.9246699810028076\n",
      "Train Recall:  0.8517852425575256\n",
      "Train AUC: 0.9303719401359558\n",
      "Train F1:  0.8870665431022644\n"
     ]
    }
   ],
   "source": [
    "scores = multi_model.evaluate(X_train_transformed, y_train)\n",
    "print('Train Loss: ', scores[0])\n",
    "print('Train Accuracy: ', scores[1])\n",
    "print('Train Precision: ', scores[2])\n",
    "print('Train Recall: ', scores[3])\n",
    "print('Train AUC:', scores[4])\n",
    "print('Train F1: ', scores[5])"
   ]
  },
  {
   "cell_type": "code",
   "execution_count": 32,
   "id": "b0c731ca",
   "metadata": {},
   "outputs": [
    {
     "name": "stdout",
     "output_type": "stream",
     "text": [
      "245/245 [==============================] - 1s 5ms/step - loss: 0.4077 - accuracy: 0.6888 - precision: 0.8361 - recall: 0.7519 - auc: 0.7683 - f1_m: 0.7902\n",
      "Test Loss:  0.40770912170410156\n",
      "Test Acc:  0.6887950897216797\n",
      "Test Precision:  0.8360876441001892\n",
      "Test Recall:  0.7519442439079285\n",
      "Test AUC: 0.7683294415473938\n",
      "Test F1:  0.79023677110672\n"
     ]
    }
   ],
   "source": [
    "scores = multi_model.evaluate(X_test_transformed, y_test)\n",
    "print('Test Loss: ', scores[0])\n",
    "print('Test Acc: ', scores[1])\n",
    "print('Test Precision: ', scores[2])\n",
    "print('Test Recall: ', scores[3])\n",
    "print('Test AUC:', scores[4])\n",
    "print('Test F1: ', scores[5])"
   ]
  },
  {
   "cell_type": "markdown",
   "id": "fa7f1cb0",
   "metadata": {},
   "source": [
    "Predviđanje:"
   ]
  },
  {
   "cell_type": "code",
   "execution_count": null,
   "id": "f4b61fb0",
   "metadata": {},
   "outputs": [],
   "source": []
  },
  {
   "cell_type": "code",
   "execution_count": 33,
   "id": "cf20574e",
   "metadata": {},
   "outputs": [],
   "source": [
    "y_predicted = multi_model.predict(X_test_transformed)"
   ]
  },
  {
   "cell_type": "code",
   "execution_count": 34,
   "id": "197d581b",
   "metadata": {
    "scrolled": true
   },
   "outputs": [],
   "source": [
    "# Prag se postavlja na 0.5 za zastupljenije klase, i 0.2 za manje zastupljene\n",
    "# jer nam je cilj da maksimuzujemo odziv\n",
    "# Bolje da imamo vise lazno pozitivnih nego lazno negativnih\n",
    "\n",
    "def translate(array):\n",
    "    \n",
    "    res1 = [1 if x>0.48 else 0 for x in array[::2]]\n",
    "    res2 = [1 if x>0.2 else 0 for x in array[1::2]]\n",
    "\n",
    "    res = []\n",
    "    for r1, r2 in zip(res1, res2):\n",
    "        res.append(r1)\n",
    "        res.append(r2)\n",
    "\n",
    "    return res"
   ]
  },
  {
   "cell_type": "code",
   "execution_count": 35,
   "id": "383aa178",
   "metadata": {},
   "outputs": [],
   "source": [
    "result = map(translate, y_predicted)\n",
    "\n",
    "y_labels = list(result)\n",
    "cf = multilabel_confusion_matrix(y_test, y_labels)"
   ]
  },
  {
   "cell_type": "code",
   "execution_count": 36,
   "id": "1a0ff368",
   "metadata": {
    "scrolled": false
   },
   "outputs": [
    {
     "data": {
      "image/png": "[encoded data removed]",
      "text/plain": [
       "<Figure size 1440x720 with 12 Axes>"
      ]
     },
     "metadata": {
      "needs_background": "light"
     },
     "output_type": "display_data"
    }
   ],
   "source": [
    "plot_cf(cf, 'multi', labels)"
   ]
  },
  {
   "cell_type": "code",
   "execution_count": null,
   "id": "6331f450",
   "metadata": {},
   "outputs": [],
   "source": []
  },
  {
   "cell_type": "markdown",
   "id": "aaacccf1",
   "metadata": {},
   "source": [
    "**Model ne predviđa dobro za klase severe_toxic, threat, i identity hate, što i jesu klase sa najmanjim brojem podataka**"
   ]
  },
  {
   "cell_type": "code",
   "execution_count": 37,
   "id": "976005f1",
   "metadata": {},
   "outputs": [
    {
     "name": "stdout",
     "output_type": "stream",
     "text": [
      "Brojnost po klasama na test skupu:\n",
      "{'toxic': 7484, 'severe_toxic': 687, 'obscene': 4249, 'threat': 241, 'insult': 3956, 'identity_hate': 742}\n"
     ]
    }
   ],
   "source": [
    "print('Brojnost po klasama na test skupu:')\n",
    "print(get_label_counts(y_test, labels))"
   ]
  },
  {
   "cell_type": "code",
   "execution_count": 56,
   "id": "57575af5",
   "metadata": {},
   "outputs": [
    {
     "name": "stderr",
     "output_type": "stream",
     "text": [
      "C:\\Users\\panap\\anaconda3\\envs\\envi\\lib\\site-packages\\sklearn\\metrics\\_classification.py:1327: UndefinedMetricWarning: Precision and F-score are ill-defined and being set to 0.0 in samples with no predicted labels. Use `zero_division` parameter to control this behavior.\n",
      "  _warn_prf(average, modifier, msg_start, len(result))\n"
     ]
    },
    {
     "data": {
      "text/html": [
       "<div>\n",
       "<style scoped>\n",
       "    .dataframe tbody tr th:only-of-type {\n",
       "        vertical-align: middle;\n",
       "    }\n",
       "\n",
       "    .dataframe tbody tr th {\n",
       "        vertical-align: top;\n",
       "    }\n",
       "\n",
       "    .dataframe thead th {\n",
       "        text-align: right;\n",
       "    }\n",
       "</style>\n",
       "<table border=\"1\" class=\"dataframe\">\n",
       "  <thead>\n",
       "    <tr style=\"text-align: right;\">\n",
       "      <th></th>\n",
       "      <th>precision</th>\n",
       "      <th>recall</th>\n",
       "      <th>f1-score</th>\n",
       "      <th>support</th>\n",
       "    </tr>\n",
       "  </thead>\n",
       "  <tbody>\n",
       "    <tr>\n",
       "      <th>0</th>\n",
       "      <td>0.96</td>\n",
       "      <td>0.94</td>\n",
       "      <td>0.95</td>\n",
       "      <td>7484.0</td>\n",
       "    </tr>\n",
       "    <tr>\n",
       "      <th>1</th>\n",
       "      <td>0.37</td>\n",
       "      <td>0.51</td>\n",
       "      <td>0.43</td>\n",
       "      <td>687.0</td>\n",
       "    </tr>\n",
       "    <tr>\n",
       "      <th>2</th>\n",
       "      <td>0.79</td>\n",
       "      <td>0.75</td>\n",
       "      <td>0.77</td>\n",
       "      <td>4249.0</td>\n",
       "    </tr>\n",
       "    <tr>\n",
       "      <th>3</th>\n",
       "      <td>0.27</td>\n",
       "      <td>0.34</td>\n",
       "      <td>0.30</td>\n",
       "      <td>241.0</td>\n",
       "    </tr>\n",
       "    <tr>\n",
       "      <th>4</th>\n",
       "      <td>0.71</td>\n",
       "      <td>0.63</td>\n",
       "      <td>0.67</td>\n",
       "      <td>3956.0</td>\n",
       "    </tr>\n",
       "    <tr>\n",
       "      <th>5</th>\n",
       "      <td>0.39</td>\n",
       "      <td>0.44</td>\n",
       "      <td>0.41</td>\n",
       "      <td>742.0</td>\n",
       "    </tr>\n",
       "    <tr>\n",
       "      <th>micro avg</th>\n",
       "      <td>0.79</td>\n",
       "      <td>0.78</td>\n",
       "      <td>0.79</td>\n",
       "      <td>17359.0</td>\n",
       "    </tr>\n",
       "    <tr>\n",
       "      <th>macro avg</th>\n",
       "      <td>0.58</td>\n",
       "      <td>0.60</td>\n",
       "      <td>0.59</td>\n",
       "      <td>17359.0</td>\n",
       "    </tr>\n",
       "    <tr>\n",
       "      <th>weighted avg</th>\n",
       "      <td>0.80</td>\n",
       "      <td>0.78</td>\n",
       "      <td>0.79</td>\n",
       "      <td>17359.0</td>\n",
       "    </tr>\n",
       "    <tr>\n",
       "      <th>samples avg</th>\n",
       "      <td>0.81</td>\n",
       "      <td>0.80</td>\n",
       "      <td>0.76</td>\n",
       "      <td>17359.0</td>\n",
       "    </tr>\n",
       "  </tbody>\n",
       "</table>\n",
       "</div>"
      ],
      "text/plain": [
       "              precision  recall  f1-score  support\n",
       "0                  0.96    0.94      0.95   7484.0\n",
       "1                  0.37    0.51      0.43    687.0\n",
       "2                  0.79    0.75      0.77   4249.0\n",
       "3                  0.27    0.34      0.30    241.0\n",
       "4                  0.71    0.63      0.67   3956.0\n",
       "5                  0.39    0.44      0.41    742.0\n",
       "micro avg          0.79    0.78      0.79  17359.0\n",
       "macro avg          0.58    0.60      0.59  17359.0\n",
       "weighted avg       0.80    0.78      0.79  17359.0\n",
       "samples avg        0.81    0.80      0.76  17359.0"
      ]
     },
     "execution_count": 56,
     "metadata": {},
     "output_type": "execute_result"
    }
   ],
   "source": [
    "report = metrics.classification_report(y_test, y_labels, output_dict=True)\n",
    "df = pd.DataFrame(report).transpose()\n",
    "\n",
    "df.round(2)"
   ]
  },
  {
   "cell_type": "code",
   "execution_count": 38,
   "id": "8e72e8ec",
   "metadata": {},
   "outputs": [
    {
     "name": "stdout",
     "output_type": "stream",
     "text": [
      "               precision    recall  f1-score   support\n",
      "\n",
      "        toxic       0.96      0.94      0.95      7484\n",
      " severe_toxic       0.37      0.51      0.43       687\n",
      "      obscene       0.79      0.75      0.77      4249\n",
      "       threat       0.27      0.34      0.30       241\n",
      "       insult       0.71      0.63      0.67      3956\n",
      "identity_hate       0.39      0.44      0.41       742\n",
      "\n",
      "    micro avg       0.79      0.78      0.79     17359\n",
      "    macro avg       0.58      0.60      0.59     17359\n",
      " weighted avg       0.80      0.78      0.79     17359\n",
      "  samples avg       0.81      0.80      0.76     17359\n",
      "\n"
     ]
    },
    {
     "name": "stderr",
     "output_type": "stream",
     "text": [
      "C:\\Users\\panap\\anaconda3\\envs\\envi\\lib\\site-packages\\sklearn\\metrics\\_classification.py:1327: UndefinedMetricWarning: Precision and F-score are ill-defined and being set to 0.0 in samples with no predicted labels. Use `zero_division` parameter to control this behavior.\n",
      "  _warn_prf(average, modifier, msg_start, len(result))\n"
     ]
    }
   ],
   "source": [
    "print(metrics.classification_report(y_test, y_labels,target_names=labels))"
   ]
  },
  {
   "cell_type": "code",
   "execution_count": null,
   "id": "807d473c",
   "metadata": {},
   "outputs": [],
   "source": []
  },
  {
   "cell_type": "code",
   "execution_count": 39,
   "id": "48ab2330",
   "metadata": {},
   "outputs": [
    {
     "data": {
      "text/plain": [
       "0.63191366"
      ]
     },
     "execution_count": 39,
     "metadata": {},
     "output_type": "execute_result"
    }
   ],
   "source": [
    "m = tf.keras.metrics.AUC(multi_label=True, thresholds=[0, 0.5])\n",
    "m(y_test, y_predicted).numpy()"
   ]
  },
  {
   "cell_type": "markdown",
   "id": "d601e486",
   "metadata": {},
   "source": [
    "Preciznost, odziv i F1 mera za svaku klasu:"
   ]
  },
  {
   "cell_type": "code",
   "execution_count": 41,
   "id": "3b73d499",
   "metadata": {},
   "outputs": [],
   "source": [
    "precisions, recalls, f1_scores = get_prec_rec_f1(cf, labels)"
   ]
  },
  {
   "cell_type": "code",
   "execution_count": 46,
   "id": "565dbf9e",
   "metadata": {},
   "outputs": [
    {
     "data": {
      "text/plain": [
       "{'toxic': 0.96,\n",
       " 'severe_toxic': 0.37,\n",
       " 'obscene': 0.79,\n",
       " 'threat': 0.27,\n",
       " 'insult': 0.71,\n",
       " 'identity_hate': 0.39}"
      ]
     },
     "execution_count": 46,
     "metadata": {},
     "output_type": "execute_result"
    }
   ],
   "source": [
    "precisions"
   ]
  },
  {
   "cell_type": "code",
   "execution_count": 47,
   "id": "ecd50cdc",
   "metadata": {},
   "outputs": [
    {
     "data": {
      "text/plain": [
       "{'toxic': 0.94,\n",
       " 'severe_toxic': 0.51,\n",
       " 'obscene': 0.75,\n",
       " 'threat': 0.34,\n",
       " 'insult': 0.63,\n",
       " 'identity_hate': 0.44}"
      ]
     },
     "execution_count": 47,
     "metadata": {},
     "output_type": "execute_result"
    }
   ],
   "source": [
    "recalls"
   ]
  },
  {
   "cell_type": "code",
   "execution_count": 48,
   "id": "a6086d71",
   "metadata": {
    "scrolled": true
   },
   "outputs": [
    {
     "data": {
      "text/plain": [
       "{'toxic': 0.95,\n",
       " 'severe_toxic': 0.43,\n",
       " 'obscene': 0.77,\n",
       " 'threat': 0.3,\n",
       " 'insult': 0.67,\n",
       " 'identity_hate': 0.41}"
      ]
     },
     "execution_count": 48,
     "metadata": {},
     "output_type": "execute_result"
    }
   ],
   "source": [
    "f1_scores"
   ]
  },
  {
   "cell_type": "code",
   "execution_count": null,
   "id": "46db06cc",
   "metadata": {},
   "outputs": [],
   "source": []
  },
  {
   "cell_type": "code",
   "execution_count": 49,
   "id": "8b25970a",
   "metadata": {},
   "outputs": [],
   "source": [
    "# izracunate metrike se cuvaju u csv datoteku: \n",
    "\n",
    "report1 = pd.DataFrame(precisions, index=['precision'])\n",
    "report2 = pd.DataFrame(recalls, index=['recall'])\n",
    "report3 = pd.DataFrame(f1_scores, index=['f1'])\n",
    "\n",
    "report = pd.concat([report1, report2, report3])\n",
    "\n",
    "report.to_csv('data/report1.csv')"
   ]
  },
  {
   "cell_type": "markdown",
   "id": "103133b8",
   "metadata": {},
   "source": [
    "Predviđanje na novim komentarima: "
   ]
  },
  {
   "cell_type": "code",
   "execution_count": 50,
   "id": "57b6c6ea",
   "metadata": {},
   "outputs": [],
   "source": [
    "new_comments = ['i will kill you', 'ugly moron', 'you are so stupid', 'You suck!']\n",
    "new = to_sequence(new_comments, 100, tokenizer)\n",
    "\n",
    "probs = multi_model.predict(new)\n",
    "\n",
    "predictions = []\n",
    "\n",
    "for prob in probs:\n",
    "    rounded = [1 if p>0.4 else 0 for p in prob]\n",
    "    predictions.append(rounded)\n",
    "        \n",
    "model_preds = pd.DataFrame(predictions, columns=labels)\n",
    "model_preds['comment'] = new_comments"
   ]
  },
  {
   "cell_type": "code",
   "execution_count": 51,
   "id": "ee7fb520",
   "metadata": {},
   "outputs": [
    {
     "name": "stdout",
     "output_type": "stream",
     "text": [
      "Predvidjanja za nove komentare: \n"
     ]
    },
    {
     "data": {
      "text/html": [
       "<div>\n",
       "<style scoped>\n",
       "    .dataframe tbody tr th:only-of-type {\n",
       "        vertical-align: middle;\n",
       "    }\n",
       "\n",
       "    .dataframe tbody tr th {\n",
       "        vertical-align: top;\n",
       "    }\n",
       "\n",
       "    .dataframe thead th {\n",
       "        text-align: right;\n",
       "    }\n",
       "</style>\n",
       "<table border=\"1\" class=\"dataframe\">\n",
       "  <thead>\n",
       "    <tr style=\"text-align: right;\">\n",
       "      <th></th>\n",
       "      <th>toxic</th>\n",
       "      <th>severe_toxic</th>\n",
       "      <th>obscene</th>\n",
       "      <th>threat</th>\n",
       "      <th>insult</th>\n",
       "      <th>identity_hate</th>\n",
       "      <th>comment</th>\n",
       "    </tr>\n",
       "  </thead>\n",
       "  <tbody>\n",
       "    <tr>\n",
       "      <th>0</th>\n",
       "      <td>1</td>\n",
       "      <td>0</td>\n",
       "      <td>0</td>\n",
       "      <td>1</td>\n",
       "      <td>0</td>\n",
       "      <td>0</td>\n",
       "      <td>i will kill you</td>\n",
       "    </tr>\n",
       "    <tr>\n",
       "      <th>1</th>\n",
       "      <td>1</td>\n",
       "      <td>0</td>\n",
       "      <td>1</td>\n",
       "      <td>0</td>\n",
       "      <td>1</td>\n",
       "      <td>0</td>\n",
       "      <td>ugly moron</td>\n",
       "    </tr>\n",
       "    <tr>\n",
       "      <th>2</th>\n",
       "      <td>1</td>\n",
       "      <td>0</td>\n",
       "      <td>1</td>\n",
       "      <td>0</td>\n",
       "      <td>1</td>\n",
       "      <td>0</td>\n",
       "      <td>you are so stupid</td>\n",
       "    </tr>\n",
       "    <tr>\n",
       "      <th>3</th>\n",
       "      <td>1</td>\n",
       "      <td>0</td>\n",
       "      <td>1</td>\n",
       "      <td>0</td>\n",
       "      <td>1</td>\n",
       "      <td>0</td>\n",
       "      <td>You suck!</td>\n",
       "    </tr>\n",
       "  </tbody>\n",
       "</table>\n",
       "</div>"
      ],
      "text/plain": [
       "   toxic  severe_toxic  obscene  threat  insult  identity_hate  \\\n",
       "0      1             0        0       1       0              0   \n",
       "1      1             0        1       0       1              0   \n",
       "2      1             0        1       0       1              0   \n",
       "3      1             0        1       0       1              0   \n",
       "\n",
       "             comment  \n",
       "0    i will kill you  \n",
       "1         ugly moron  \n",
       "2  you are so stupid  \n",
       "3          You suck!  "
      ]
     },
     "execution_count": 51,
     "metadata": {},
     "output_type": "execute_result"
    }
   ],
   "source": [
    "print('Predvidjanja za nove komentare: ')\n",
    "model_preds"
   ]
  },
  {
   "cell_type": "markdown",
   "id": "c848bcee",
   "metadata": {},
   "source": [
    "### Čuvanje modela"
   ]
  },
  {
   "cell_type": "code",
   "execution_count": 52,
   "id": "b2d8d31f",
   "metadata": {},
   "outputs": [],
   "source": [
    "multi_model.save_weights('models/multi_model_weights.hdf5')\n",
    "multi_model.save('models/multi_model.hdf5')"
   ]
  },
  {
   "cell_type": "code",
   "execution_count": 40,
   "id": "791df29b",
   "metadata": {},
   "outputs": [],
   "source": [
    "# model = keras.models.load_model('models/multi_model.hdf5', custom_objects={\"f1_m\": f1_m})\n",
    "# plot_model(model, to_file='plots and images/multi_model.png', show_shapes=True) \n",
    "# model.get_config()"
   ]
  }
 ],
 "metadata": {
  "kernelspec": {
   "display_name": "Python 3 (ipykernel)",
   "language": "python",
   "name": "python3"
  },
  "language_info": {
   "codemirror_mode": {
    "name": "ipython",
    "version": 3
   },
   "file_extension": ".py",
   "mimetype": "text/x-python",
   "name": "python",
   "nbconvert_exporter": "python",
   "pygments_lexer": "ipython3",
   "version": "3.9.6"
  }
 },
 "nbformat": 4,
 "nbformat_minor": 5
}
