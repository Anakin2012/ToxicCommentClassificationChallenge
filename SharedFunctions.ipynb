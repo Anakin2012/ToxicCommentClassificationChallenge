{
 "cells": [
  {
   "cell_type": "markdown",
   "id": "8c36b5a2",
   "metadata": {},
   "source": [
    "Radi čitljivosti i organizacije koda, u ovoj svesci su izdvojene funkcije koje su zajedničke za binarnu i višelabelarnu klasifikaciju."
   ]
  },
  {
   "cell_type": "code",
   "execution_count": 1,
   "id": "14699d95",
   "metadata": {},
   "outputs": [],
   "source": [
    "import pandas as pd\n",
    "import numpy as np\n",
    "from matplotlib import pyplot as plt\n",
    "\n",
    "import tensorflow as tf\n",
    "from tensorflow import keras\n",
    "from tensorflow.keras.models import Sequential\n",
    "from tensorflow.keras.layers import Embedding, Dense, GlobalAveragePooling1D, Flatten, Dropout, Conv1D, MaxPooling1D\n",
    "from tensorflow.keras.optimizers import Adam\n",
    "from keras.callbacks import EarlyStopping\n",
    "\n",
    "import pickle\n",
    "from sklearn.utils import class_weight\n",
    "from sklearn import metrics\n",
    "from tensorflow.keras import preprocessing\n",
    "from tensorflow.keras.preprocessing.text import Tokenizer\n",
    "from tensorflow.keras import backend as K\n",
    "from tensorflow.keras import utils\n",
    "from keras import metrics as kerasMet"
   ]
  },
  {
   "cell_type": "code",
   "execution_count": null,
   "id": "031e6f46",
   "metadata": {},
   "outputs": [],
   "source": []
  },
  {
   "cell_type": "code",
   "execution_count": 2,
   "id": "4eec1ba3",
   "metadata": {},
   "outputs": [],
   "source": [
    "def get_vocabulary(num_words, train_data, name):\n",
    "    tokenizer = Tokenizer(num_words=num_words)\n",
    "    tokenizer.fit_on_texts(train_data['comment_text'])\n",
    "    \n",
    "    # cuvanje tokenizera\n",
    "    with open('data/' + name, 'wb') as f:\n",
    "        pickle.dump(tokenizer, f)\n",
    "    \n",
    "    word_index = tokenizer.word_index\n",
    "    \n",
    "    return word_index, tokenizer"
   ]
  },
  {
   "cell_type": "code",
   "execution_count": 3,
   "id": "15bba349",
   "metadata": {},
   "outputs": [],
   "source": [
    "def to_sequence(text, maxlen, tokenizer):\n",
    "    \n",
    "    sequences = tokenizer.texts_to_sequences(text)\n",
    "    padded = preprocessing.sequence.pad_sequences(sequences, maxlen=maxlen)\n",
    "    \n",
    "    return padded "
   ]
  },
  {
   "cell_type": "code",
   "execution_count": null,
   "id": "7ae87eeb",
   "metadata": {},
   "outputs": [],
   "source": []
  },
  {
   "cell_type": "code",
   "execution_count": 4,
   "id": "bf9993eb",
   "metadata": {},
   "outputs": [],
   "source": [
    "def create_embedding_matrix(word_index, embedding_dim):\n",
    "    word_embeddings = {}\n",
    "    with open('data/glove.6B.100d.txt', 'r', encoding='utf-8') as f:\n",
    "        for line in f:\n",
    "            values = line.split()\n",
    "            word = values[0]\n",
    "            coefs = np.asarray(values[1:], dtype='float32')\n",
    "            word_embeddings[word] = coefs\n",
    "        \n",
    "        \n",
    "    embedding_matrix = np.zeros((max_features, embedding_dim))\n",
    "    for word, i in word_index.items():\n",
    "        if i >= max_features:\n",
    "            break\n",
    "        \n",
    "        embedding_vector = word_embeddings.get(word)\n",
    "    \n",
    "        if embedding_vector is not None:\n",
    "            embedding_matrix[i] = embedding_vector\n",
    "            \n",
    "    return embedding_matrix"
   ]
  },
  {
   "cell_type": "code",
   "execution_count": 5,
   "id": "6ebabdfc",
   "metadata": {},
   "outputs": [],
   "source": [
    "# funckija koja kreira model\n",
    "\n",
    "def create_model(num_of_classes, num_of_features, embedding_dim, \n",
    "                kernel_size, pool_size, filters, dropout_rate, maxlen,\n",
    "                embedding_matrix):\n",
    "    \n",
    "    # za poslednji sloj, u zavisnosti da li je binarna ili viseklasna\n",
    "    # razlikuju se aktivaciona funkcija i broj jedinica\n",
    "    if num_of_classes == 2:\n",
    "        activation = 'sigmoid'\n",
    "        units = 1\n",
    "    else:\n",
    "        activation = 'softmax'\n",
    "        units = num_of_classes\n",
    "        \n",
    "    \n",
    "    model = Sequential([\n",
    "        \n",
    "        Embedding(input_dim = num_of_features,\n",
    "                 output_dim = embedding_dim,\n",
    "                 input_length = maxlen,\n",
    "                 weights = [embedding_matrix],\n",
    "                 trainable = False),\n",
    "        \n",
    "        Conv1D(filters=filters, kernel_size=kernel_size, activation='relu', padding='same'),\n",
    "        MaxPooling1D(pool_size=pool_size),\n",
    "        Conv1D(filters=filters, kernel_size=kernel_size, activation='relu', padding='same'),\n",
    "        MaxPooling1D(pool_size=pool_size),\n",
    "        Dropout(rate=dropout_rate),\n",
    "        GlobalAveragePooling1D(),\n",
    "        Dense(units, activation=activation)\n",
    "    ])\n",
    "    \n",
    "    model.summary()\n",
    "    \n",
    "    return model"
   ]
  },
  {
   "cell_type": "code",
   "execution_count": 6,
   "id": "eaf34fef",
   "metadata": {},
   "outputs": [],
   "source": [
    "# Funkcije za metrike koje se prate\n",
    "\n",
    "def recall_m(y_true, y_pred):\n",
    "    true_positives = K.sum(K.round(K.clip(y_true * y_pred, 0, 1)))\n",
    "    possible_positives = K.sum(K.round(K.clip(y_true, 0, 1)))\n",
    "    recall = true_positives / (possible_positives + K.epsilon())\n",
    "    return recall\n",
    "\n",
    "def precision_m(y_true, y_pred):\n",
    "    true_positives = K.sum(K.round(K.clip(y_true * y_pred, 0, 1)))\n",
    "    predicted_positives = K.sum(K.round(K.clip(y_pred, 0, 1)))\n",
    "    precision = true_positives / (predicted_positives + K.epsilon())\n",
    "    return precision\n",
    "\n",
    "def f1_m(y_true, y_pred):\n",
    "    precision = precision_m(y_true, y_pred)\n",
    "    recall = recall_m(y_true, y_pred)\n",
    "    return 2*((precision*recall)/(precision+recall+K.epsilon()))"
   ]
  },
  {
   "cell_type": "code",
   "execution_count": 7,
   "id": "d082653c",
   "metadata": {},
   "outputs": [],
   "source": [
    "# Funkcija koja racuna tezine za razlicite klase\n",
    "# Dodelice vece tezine instancama manjinske klase\n",
    "\n",
    "def get_weights(y_train):\n",
    "    weights = class_weight.compute_class_weight('balanced', np.unique(y_train), y_train)\n",
    "    weights = dict(enumerate(weights))\n",
    "\n",
    "    return weights"
   ]
  },
  {
   "cell_type": "code",
   "execution_count": 8,
   "id": "0d20761c",
   "metadata": {},
   "outputs": [],
   "source": [
    "# Funkcija koja plotuje grafike za metrike tokom treniranja\n",
    "\n",
    "def plot_graphs(history, metrics):\n",
    "    \n",
    "    plt.figure(figsize=(10, 5))\n",
    "    \n",
    "    plt.subplot(1, 2, 1)\n",
    "    plt.title(str(metrics[0]))\n",
    "    accuracy = history.history[str(metrics[0])]\n",
    "    val_accuracy = history.history['val_' + metrics[0]]\n",
    "    plt.plot(range(0, history.epoch[-1]+1), accuracy, color='red', label='training')\n",
    "    plt.plot(range(0, history.epoch[-1]+1), val_accuracy, color='orange', label='validation')\n",
    "    plt.xlabel('epochs')\n",
    "    plt.legend(loc='best')\n",
    "    \n",
    "    plt.subplot(1, 2, 2)\n",
    "    plt.title(str(metrics[1]))\n",
    "    loss = history.history[str(metrics[1])]\n",
    "    val_loss = history.history['val_' + str(metrics[1])]\n",
    "    plt.plot(range(0, history.epoch[-1]+1), loss, color='red', label='training')\n",
    "    plt.plot(range(0, history.epoch[-1]+1), val_loss, color='orange', label='validation')\n",
    "    plt.xlabel('epochs')\n",
    "    plt.legend(loc='best')\n",
    "    \n",
    "    plt.show()"
   ]
  },
  {
   "cell_type": "code",
   "execution_count": 9,
   "id": "8e9a4139",
   "metadata": {},
   "outputs": [],
   "source": [
    "#METRICS = [\n",
    "#      metrics.TruePositives(name='tp'),\n",
    " #     metrics.FalseNegatives(name='fn'),\n",
    "     # metrics.TrueNegatives(name='tn'),\n",
    "     # metrics.FalsePositives(name='fp'), \n",
    "     # metrics.BinaryAccuracy(name='accuracy'),\n",
    "  #    metrics.Precision(name='precision'),\n",
    "   #   metrics.Recall(name='recall')]\n",
    "\n",
    "# metrics.AUC(name='auc'),\n",
    "# metrics.AUC(name='prc', curve='PR'), # precision-recall curve\n"
   ]
  },
  {
   "cell_type": "code",
   "execution_count": null,
   "id": "b22ad4a1",
   "metadata": {},
   "outputs": [],
   "source": []
  }
 ],
 "metadata": {
  "kernelspec": {
   "display_name": "Python 3",
   "language": "python",
   "name": "python3"
  },
  "language_info": {
   "codemirror_mode": {
    "name": "ipython",
    "version": 3
   },
   "file_extension": ".py",
   "mimetype": "text/x-python",
   "name": "python",
   "nbconvert_exporter": "python",
   "pygments_lexer": "ipython3",
   "version": "3.8.8"
  }
 },
 "nbformat": 4,
 "nbformat_minor": 5
}
