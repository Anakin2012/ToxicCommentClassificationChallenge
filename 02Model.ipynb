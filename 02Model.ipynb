{
 "cells": [
  {
   "cell_type": "markdown",
   "id": "9084b768",
   "metadata": {},
   "source": [
    "U ovoj svesci je odrađena selekcija i evaluacija modela. Koristiće se tokenizacija ne sekvence kao priprema za model sa pritreniram ugneždavanjem,"
   ]
  },
  {
   "cell_type": "code",
   "execution_count": 1,
   "id": "de565f5a",
   "metadata": {},
   "outputs": [],
   "source": [
    "import pandas as pd\n",
    "import numpy as np"
   ]
  },
  {
   "cell_type": "code",
   "execution_count": 2,
   "id": "f10add90",
   "metadata": {},
   "outputs": [],
   "source": [
    "import tensorflow as tf\n",
    "from tensorflow import keras\n",
    "from tensorflow.keras.models import Sequential\n",
    "from tensorflow.keras.layers import Embedding, Dense, SimpleRNN, LSTM, GRU, Flatten, Dropout\n",
    "from tensorflow.keras import preprocessing\n",
    "from tensorflow.keras.optimizers import Adam\n",
    "from tensorflow.keras.preprocessing.text import Tokenizer\n",
    "import pickle"
   ]
  },
  {
   "cell_type": "code",
   "execution_count": 3,
   "id": "7ae0de0b",
   "metadata": {},
   "outputs": [],
   "source": [
    "data = pd.read_csv('data/data_longer.csv')"
   ]
  },
  {
   "cell_type": "code",
   "execution_count": 4,
   "id": "bdc4de78",
   "metadata": {},
   "outputs": [],
   "source": [
    "data.drop(columns=['Unnamed: 0'], inplace=True)"
   ]
  },
  {
   "cell_type": "code",
   "execution_count": 5,
   "id": "d72f5721",
   "metadata": {},
   "outputs": [
    {
     "data": {
      "text/plain": [
       "(223453, 9)"
      ]
     },
     "execution_count": 5,
     "metadata": {},
     "output_type": "execute_result"
    }
   ],
   "source": [
    "data.shape"
   ]
  },
  {
   "cell_type": "markdown",
   "id": "bfcbf846",
   "metadata": {},
   "source": [
    "### Podela na trening, test i validacioni skup"
   ]
  },
  {
   "cell_type": "code",
   "execution_count": 6,
   "id": "3b405a5c",
   "metadata": {},
   "outputs": [
    {
     "data": {
      "text/plain": [
       "(127580, 63978, 31895)"
      ]
     },
     "execution_count": 6,
     "metadata": {},
     "output_type": "execute_result"
    }
   ],
   "source": [
    "# Ovo je prepisano iz prethodne sveske\n",
    "\n",
    "train_size = 159571 - 96\n",
    "test_size = 63978\n",
    "validation_size = int(0.2*train_size)\n",
    "train_size = train_size - validation_size\n",
    "\n",
    "train_size, test_size, validation_size"
   ]
  },
  {
   "cell_type": "code",
   "execution_count": null,
   "id": "e0a5cba7",
   "metadata": {},
   "outputs": [],
   "source": []
  },
  {
   "cell_type": "code",
   "execution_count": 7,
   "id": "4dec99ce",
   "metadata": {},
   "outputs": [],
   "source": [
    "validation_data = data[:validation_size]\n",
    "train_data = data[validation_size:train_size+validation_size]\n",
    "test_data = data[train_size+validation_size : ]"
   ]
  },
  {
   "cell_type": "code",
   "execution_count": 8,
   "id": "4da9364b",
   "metadata": {},
   "outputs": [
    {
     "data": {
      "text/plain": [
       "(127580, 63978, 31895)"
      ]
     },
     "execution_count": 8,
     "metadata": {},
     "output_type": "execute_result"
    }
   ],
   "source": [
    "train_data.shape[0], test_data.shape[0], validation_data.shape[0]"
   ]
  },
  {
   "cell_type": "code",
   "execution_count": null,
   "id": "4b8cfbe8",
   "metadata": {},
   "outputs": [],
   "source": []
  },
  {
   "cell_type": "markdown",
   "id": "5db26c91",
   "metadata": {},
   "source": [
    "### 1. Tokenizovati tekst u sekvence"
   ]
  },
  {
   "cell_type": "markdown",
   "id": "f918ba4f",
   "metadata": {},
   "source": [
    "Instance će biti podeljene na reči, izdvojiće se neki broj najfrekventnijih reči, a onda će biti pretvorene u vektore reči sekvenci"
   ]
  },
  {
   "cell_type": "code",
   "execution_count": 9,
   "id": "c692ddcc",
   "metadata": {},
   "outputs": [],
   "source": [
    "# uzima se recimo 20000 najfrekventinijh reci\n",
    "max_features = 20000\n",
    "\n",
    "# max duzina komentara (broj reci)\n",
    "max_len = 200"
   ]
  },
  {
   "cell_type": "markdown",
   "id": "ca904956",
   "metadata": {},
   "source": [
    "Izdvajaju se pojedinačne reči tj. tokeni zadatog teksta i konstruise se vokabular. "
   ]
  },
  {
   "cell_type": "code",
   "execution_count": 10,
   "id": "b9d49dc7",
   "metadata": {},
   "outputs": [],
   "source": [
    "tokenizer = Tokenizer(num_words=max_features)"
   ]
  },
  {
   "cell_type": "code",
   "execution_count": 11,
   "id": "d9f3e0f6",
   "metadata": {},
   "outputs": [],
   "source": [
    "tokenizer.fit_on_texts(train_data['comment_text'])"
   ]
  },
  {
   "cell_type": "code",
   "execution_count": 14,
   "id": "96bd33ae",
   "metadata": {},
   "outputs": [
    {
     "data": {
      "text/plain": [
       "187048"
      ]
     },
     "execution_count": 14,
     "metadata": {},
     "output_type": "execute_result"
    }
   ],
   "source": [
    "# vokabular:\n",
    "\n",
    "word_index = tokenizer.word_index\n",
    "\n",
    "# broj jedinstvenih tokena:\n",
    "len(word_index)"
   ]
  },
  {
   "cell_type": "code",
   "execution_count": 13,
   "id": "d0eb62f2",
   "metadata": {},
   "outputs": [],
   "source": [
    "# cuvanje tokenizera\n",
    "with open('data/tokenizer.pickle', 'wb') as f:\n",
    "    pickle.dump(tokenizer, f)"
   ]
  },
  {
   "cell_type": "code",
   "execution_count": null,
   "id": "fd322d12",
   "metadata": {},
   "outputs": [],
   "source": []
  },
  {
   "cell_type": "code",
   "execution_count": 15,
   "id": "0bd371b9",
   "metadata": {},
   "outputs": [],
   "source": [
    "train_sequences = tokenizer.texts_to_sequences(train_data['comment_text'])\n",
    "X_train = preprocessing.sequence.pad_sequences(train_sequences, maxlen=max_len)\n",
    "y_train = train_data['target']\n",
    "\n",
    "test_sequences = tokenizer.texts_to_sequences(test_data['comment_text'])\n",
    "X_test = preprocessing.sequence.pad_sequences(test_sequences, maxlen=max_len)\n",
    "y_test = test_data['target']\n",
    "\n",
    "validation_sequences = tokenizer.texts_to_sequences(validation_data['comment_text'])\n",
    "X_validation = preprocessing.sequence.pad_sequences(validation_sequences, maxlen=max_len)\n",
    "y_validation = validation_data['target']"
   ]
  },
  {
   "cell_type": "code",
   "execution_count": null,
   "id": "e563aacb",
   "metadata": {},
   "outputs": [],
   "source": []
  },
  {
   "cell_type": "markdown",
   "id": "0b7ca4fa",
   "metadata": {},
   "source": [
    "Sada su podaci pripremljeni za model"
   ]
  },
  {
   "cell_type": "code",
   "execution_count": null,
   "id": "b66de65e",
   "metadata": {},
   "outputs": [],
   "source": []
  }
 ],
 "metadata": {
  "kernelspec": {
   "display_name": "Python 3",
   "language": "python",
   "name": "python3"
  },
  "language_info": {
   "codemirror_mode": {
    "name": "ipython",
    "version": 3
   },
   "file_extension": ".py",
   "mimetype": "text/x-python",
   "name": "python",
   "nbconvert_exporter": "python",
   "pygments_lexer": "ipython3",
   "version": "3.8.8"
  }
 },
 "nbformat": 4,
 "nbformat_minor": 5
}
